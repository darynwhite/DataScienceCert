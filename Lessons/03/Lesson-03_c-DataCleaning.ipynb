{
 "cells": [
  {
   "cell_type": "markdown",
   "id": "61e2fa9a",
   "metadata": {},
   "source": [
    "# Data Cleaning in Numpy"
   ]
  },
  {
   "cell_type": "code",
   "execution_count": 1,
   "id": "44bcc84a",
   "metadata": {},
   "outputs": [],
   "source": [
    "# Import the Numpy library\n",
    "import numpy as np"
   ]
  },
  {
   "cell_type": "markdown",
   "id": "997fa2dc",
   "metadata": {},
   "source": [
    "## Arrays with Outliers"
   ]
  },
  {
   "cell_type": "code",
   "execution_count": 2,
   "id": "60e49494",
   "metadata": {},
   "outputs": [],
   "source": [
    "# Create an array with the data\n",
    "DataWithOutlier = np.array([2, 1, 1, 99, 1, 5, 3, 1, 4, 3])\n",
    "# Use len to determine the number of elements"
   ]
  },
  {
   "cell_type": "markdown",
   "id": "6a3d8e27",
   "metadata": {},
   "source": [
    "### Remove outliers from arrays"
   ]
  },
  {
   "cell_type": "code",
   "execution_count": 3,
   "id": "29f96a69",
   "metadata": {},
   "outputs": [],
   "source": [
    "x = DataWithOutlier.copy()"
   ]
  },
  {
   "cell_type": "code",
   "execution_count": 4,
   "id": "ac5ec254",
   "metadata": {},
   "outputs": [
    {
     "data": {
      "text/plain": [
       "np.float64(70.06203578931762)"
      ]
     },
     "execution_count": 4,
     "metadata": {},
     "output_type": "execute_result"
    }
   ],
   "source": [
    "# The high limit for acceptable values is the mean plus 2 standard deviations    \n",
    "LimitHi = np.mean(x) + 2*np.std(x)\n",
    "# The high limit is the cutoff for good values\n",
    "LimitHi"
   ]
  },
  {
   "cell_type": "code",
   "execution_count": 5,
   "id": "d0f13f9e",
   "metadata": {},
   "outputs": [
    {
     "data": {
      "text/plain": [
       "np.float64(-46.06203578931762)"
      ]
     },
     "execution_count": 5,
     "metadata": {},
     "output_type": "execute_result"
    }
   ],
   "source": [
    "# The low limit for acceptable values is the mean plus 2 standard deviations\n",
    "LimitLo = np.mean(x) - 2*np.std(x)\n",
    "# The low limit is the cutoff for good values\n",
    "LimitLo"
   ]
  },
  {
   "cell_type": "code",
   "execution_count": 6,
   "id": "3c3621f5",
   "metadata": {},
   "outputs": [
    {
     "data": {
      "text/plain": [
       "array([ True,  True,  True, False,  True,  True,  True,  True,  True,\n",
       "        True])"
      ]
     },
     "execution_count": 6,
     "metadata": {},
     "output_type": "execute_result"
    }
   ],
   "source": [
    "# Create Flag for values within limits \n",
    "FlagGood = (x >= LimitLo) & (x <= LimitHi)\n",
    "# What type of variable is FlagGood? Check the Variable explorer.\n",
    "\n",
    "# present the flag\n",
    "FlagGood"
   ]
  },
  {
   "cell_type": "code",
   "execution_count": 7,
   "id": "2716219a",
   "metadata": {},
   "outputs": [
    {
     "data": {
      "text/plain": [
       "array([2, 1, 1, 1, 5, 3, 1, 4, 3])"
      ]
     },
     "execution_count": 7,
     "metadata": {},
     "output_type": "execute_result"
    }
   ],
   "source": [
    "# We can present the values of the items within the limits\n",
    "x[FlagGood]\n",
    "\n",
    "# Overwrite x with the selected values\n",
    "x = x[FlagGood]\n",
    "\n",
    "# present the data set\n",
    "x\n",
    "# Use len to determine the number of elements in x"
   ]
  },
  {
   "cell_type": "markdown",
   "id": "bb2e6969",
   "metadata": {},
   "source": [
    "### Replace outliers in numpy arrays (Imputation)"
   ]
  },
  {
   "cell_type": "code",
   "execution_count": 8,
   "id": "27ad6fd1",
   "metadata": {},
   "outputs": [],
   "source": [
    "# Create an array with the data\n",
    "y = DataWithOutlier.copy()"
   ]
  },
  {
   "cell_type": "code",
   "execution_count": 9,
   "id": "28bcb893",
   "metadata": {},
   "outputs": [
    {
     "data": {
      "text/plain": [
       "array([False, False, False,  True, False, False, False, False, False,\n",
       "       False])"
      ]
     },
     "execution_count": 9,
     "metadata": {},
     "output_type": "execute_result"
    }
   ],
   "source": [
    "# Create Flag for values outside of limits\n",
    "FlagBad = (y < LimitLo) | (y > LimitHi)\n",
    "\n",
    "# present the flag\n",
    "FlagBad"
   ]
  },
  {
   "cell_type": "code",
   "execution_count": 10,
   "id": "b1982805",
   "metadata": {},
   "outputs": [
    {
     "data": {
      "text/plain": [
       "array([ 2,  1,  1, 12,  1,  5,  3,  1,  4,  3])"
      ]
     },
     "execution_count": 10,
     "metadata": {},
     "output_type": "execute_result"
    }
   ],
   "source": [
    "# Replace outlieres with mean of the whole array\n",
    "y[FlagBad] = np.mean(y)\n",
    "\n",
    "# See the values of y\n",
    "y"
   ]
  },
  {
   "cell_type": "code",
   "execution_count": 11,
   "id": "0921ad83",
   "metadata": {},
   "outputs": [
    {
     "data": {
      "text/plain": [
       "array([2, 1, 1, 2, 1, 5, 3, 1, 4, 3])"
      ]
     },
     "execution_count": 11,
     "metadata": {},
     "output_type": "execute_result"
    }
   ],
   "source": [
    "# FlagGood is the complement of FlagBad\n",
    "FlagGood = ~FlagBad\n",
    "\n",
    "# Replace outliers with the mean of non-outliers\n",
    "y[FlagBad] = np.mean(y[FlagGood])\n",
    "\n",
    "# See the values of y\n",
    "y"
   ]
  },
  {
   "cell_type": "code",
   "execution_count": 12,
   "id": "f0fb1e87",
   "metadata": {},
   "outputs": [
    {
     "data": {
      "text/plain": [
       "array([2, 1, 1, 2, 1, 5, 3, 1, 4, 3])"
      ]
     },
     "execution_count": 12,
     "metadata": {},
     "output_type": "execute_result"
    }
   ],
   "source": [
    "# Get the Sample data\n",
    "z = DataWithOutlier.copy()\n",
    "\n",
    "# Replace outliers with the median of the whole array\n",
    "z[FlagBad] = np.median(z)\n",
    "\n",
    "# See the values of z\n",
    "z"
   ]
  },
  {
   "cell_type": "markdown",
   "id": "ccb6538e",
   "metadata": {},
   "source": [
    "## Arrays with Missing Values"
   ]
  },
  {
   "cell_type": "code",
   "execution_count": 13,
   "id": "840c7165",
   "metadata": {},
   "outputs": [],
   "source": [
    "# Create an array with missing values\n",
    "a = np.array([2, 1, \" \", 1, 99, 1, 5, 3, \"?\", 1, 4, 3])"
   ]
  },
  {
   "cell_type": "markdown",
   "id": "74cca5ee",
   "metadata": {},
   "source": [
    "### Remove Missing Values"
   ]
  },
  {
   "cell_type": "code",
   "execution_count": 14,
   "id": "2be2b614",
   "metadata": {},
   "outputs": [
    {
     "ename": "UFuncTypeError",
     "evalue": "ufunc 'greater' did not contain a loop with signature matching types (<class 'numpy.dtypes.StrDType'>, <class 'numpy.dtypes._PyLongDType'>) -> None",
     "output_type": "error",
     "traceback": [
      "\u001b[0;31m---------------------------------------------------------------------------\u001b[0m",
      "\u001b[0;31mUFuncTypeError\u001b[0m                            Traceback (most recent call last)",
      "Cell \u001b[0;32mIn[14], line 2\u001b[0m\n\u001b[1;32m      1\u001b[0m \u001b[38;5;66;03m# Attempt to tally values that are larger than 4\u001b[39;00m\n\u001b[0;32m----> 2\u001b[0m \u001b[38;5;28msum\u001b[39m(\u001b[43ma\u001b[49m\u001b[43m \u001b[49m\u001b[38;5;241;43m>\u001b[39;49m\u001b[43m \u001b[49m\u001b[38;5;241;43m4\u001b[39;49m)\n",
      "\u001b[0;31mUFuncTypeError\u001b[0m: ufunc 'greater' did not contain a loop with signature matching types (<class 'numpy.dtypes.StrDType'>, <class 'numpy.dtypes._PyLongDType'>) -> None"
     ]
    }
   ],
   "source": [
    "# Attempt to tally values that are larger than 4\n",
    "sum(a > 4)"
   ]
  },
  {
   "cell_type": "code",
   "execution_count": 15,
   "id": "3075f3b7",
   "metadata": {},
   "outputs": [
    {
     "name": "stdout",
     "output_type": "stream",
     "text": [
      "<class 'numpy.ndarray'>\n",
      "str672\n"
     ]
    }
   ],
   "source": [
    "# Find out the data type for a:\n",
    "print(type(a))\n",
    "\n",
    "# Find out the data type for the elements in the array\n",
    "print(a.dtype.name)"
   ]
  },
  {
   "cell_type": "code",
   "execution_count": 18,
   "id": "2eb820f2",
   "metadata": {},
   "outputs": [
    {
     "data": {
      "text/plain": [
       "array([ True,  True, False,  True,  True,  True,  True,  True, False,\n",
       "        True,  True,  True])"
      ]
     },
     "execution_count": 18,
     "metadata": {},
     "output_type": "execute_result"
    }
   ],
   "source": [
    "# Do not allow specific texts\n",
    "FlagGood = (a != \"?\") & (a != \" \")\n",
    "FlagGood"
   ]
  },
  {
   "cell_type": "code",
   "execution_count": 19,
   "id": "ddd63fbe",
   "metadata": {},
   "outputs": [
    {
     "data": {
      "text/plain": [
       "[True, True, False, True, True, True, True, True, False, True, True, True]"
      ]
     },
     "execution_count": 19,
     "metadata": {},
     "output_type": "execute_result"
    }
   ],
   "source": [
    "# Find elements that are numbers\n",
    "FlagGood = [element.isdigit() for element in a]\n",
    "FlagGood"
   ]
  },
  {
   "cell_type": "code",
   "execution_count": 20,
   "id": "a5648960",
   "metadata": {},
   "outputs": [
    {
     "data": {
      "text/plain": [
       "array(['2', '1', '1', '99', '1', '5', '3', '1', '4', '3'], dtype='<U21')"
      ]
     },
     "execution_count": 20,
     "metadata": {},
     "output_type": "execute_result"
    }
   ],
   "source": [
    "# Select only the values that look like numbers\n",
    "a = a[FlagGood]\n",
    "\n",
    "a"
   ]
  },
  {
   "cell_type": "code",
   "execution_count": 21,
   "id": "ef2f95de",
   "metadata": {
    "scrolled": true
   },
   "outputs": [
    {
     "ename": "UFuncTypeError",
     "evalue": "ufunc 'greater' did not contain a loop with signature matching types (<class 'numpy.dtypes.StrDType'>, <class 'numpy.dtypes._PyLongDType'>) -> None",
     "output_type": "error",
     "traceback": [
      "\u001b[0;31m---------------------------------------------------------------------------\u001b[0m",
      "\u001b[0;31mUFuncTypeError\u001b[0m                            Traceback (most recent call last)",
      "Cell \u001b[0;32mIn[21], line 2\u001b[0m\n\u001b[1;32m      1\u001b[0m \u001b[38;5;66;03m# Attempt to tally values that are larger than 4\u001b[39;00m\n\u001b[0;32m----> 2\u001b[0m \u001b[38;5;28msum\u001b[39m(\u001b[43ma\u001b[49m\u001b[43m \u001b[49m\u001b[38;5;241;43m>\u001b[39;49m\u001b[43m \u001b[49m\u001b[38;5;241;43m4\u001b[39;49m)\n",
      "\u001b[0;31mUFuncTypeError\u001b[0m: ufunc 'greater' did not contain a loop with signature matching types (<class 'numpy.dtypes.StrDType'>, <class 'numpy.dtypes._PyLongDType'>) -> None"
     ]
    }
   ],
   "source": [
    "# Attempt to tally values that are larger than 4\n",
    "sum(a > 4)"
   ]
  },
  {
   "cell_type": "code",
   "execution_count": 22,
   "id": "62bddbdb",
   "metadata": {},
   "outputs": [
    {
     "data": {
      "text/plain": [
       "array([ 2,  1,  1, 99,  1,  5,  3,  1,  4,  3])"
      ]
     },
     "execution_count": 22,
     "metadata": {},
     "output_type": "execute_result"
    }
   ],
   "source": [
    "# Need to cast the numbers from text (string) to real numeric values\n",
    "a = a.astype(int)\n",
    "\n",
    "a"
   ]
  },
  {
   "cell_type": "code",
   "execution_count": 23,
   "id": "4dbdd35c",
   "metadata": {},
   "outputs": [
    {
     "data": {
      "text/plain": [
       "np.int64(2)"
      ]
     },
     "execution_count": 23,
     "metadata": {},
     "output_type": "execute_result"
    }
   ],
   "source": [
    "# tally values that are larger than 4\n",
    "sum(a > 4)"
   ]
  },
  {
   "cell_type": "markdown",
   "id": "9ecf03e1",
   "metadata": {},
   "source": [
    "### Replace Missing Values (Imputation)"
   ]
  },
  {
   "cell_type": "code",
   "execution_count": 24,
   "id": "c9a71f68",
   "metadata": {},
   "outputs": [],
   "source": [
    "# Create an array with missing values\n",
    "a = np.array([2, 1, \" \", 1, 99, 1, 5, 3, \"?\", 1, 4, 3])"
   ]
  },
  {
   "cell_type": "code",
   "execution_count": null,
   "id": "91cfd7a3",
   "metadata": {},
   "outputs": [],
   "source": [
    "# Add Code here"
   ]
  }
 ],
 "metadata": {
  "kernelspec": {
   "display_name": "work",
   "language": "python",
   "name": "python3"
  },
  "language_info": {
   "codemirror_mode": {
    "name": "ipython",
    "version": 3
   },
   "file_extension": ".py",
   "mimetype": "text/x-python",
   "name": "python",
   "nbconvert_exporter": "python",
   "pygments_lexer": "ipython3",
   "version": "3.12.6"
  }
 },
 "nbformat": 4,
 "nbformat_minor": 5
}
