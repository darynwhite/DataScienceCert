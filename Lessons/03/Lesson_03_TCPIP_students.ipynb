{
 "cells": [
  {
   "attachments": {},
   "cell_type": "markdown",
   "id": "3552466c-0e2b-47fb-83f1-99d6868187a0",
   "metadata": {},
   "source": [
    "**Simulation of TCP/IP retransmission**.\n",
    "\n",
    "University of Washington\n",
    "\n",
    "DATASCI 510 - Fall 2024\n",
    "\n",
    "**Assumptions:**\n",
    "\n",
    "* There is a delay with a Normal distribution (825, 100) msec.\n",
    "* Messages get lost with a probability of p\n",
    "* Lost messages are retransmitted with an additional delay of 500 msec"
   ]
  },
  {
   "cell_type": "code",
   "execution_count": 2,
   "id": "7b488b1a-ef7e-456a-8d57-eead149dc9ac",
   "metadata": {},
   "outputs": [],
   "source": [
    "import numpy as np\n",
    "import random\n",
    "import matplotlib.pyplot as plt\n",
    "import seaborn as sns"
   ]
  },
  {
   "cell_type": "code",
   "execution_count": 3,
   "id": "41d8870b-d02e-4476-a1fc-6d678b03395e",
   "metadata": {},
   "outputs": [],
   "source": [
    "def simulate_delay(prob_collision):\n",
    "    delay = np.random.normal(loc=825, scale=100)\n",
    "    need_retransmission = True\n",
    "    while (need_retransmission):\n",
    "        if (np.random.uniform()<prob_collision):\n",
    "            delay += 500\n",
    "        else:\n",
    "            need_retransmission = False\n",
    "    return delay"
   ]
  },
  {
   "cell_type": "code",
   "execution_count": 4,
   "id": "5cd7b033-b185-4452-aa44-4007fe00ec70",
   "metadata": {},
   "outputs": [],
   "source": [
    "prob_collision=0.10\n",
    "\n",
    "# ADD CODE HERE\n",
    "# measure the delay for a large number of iterations (say 10,000)"
   ]
  },
  {
   "cell_type": "code",
   "execution_count": null,
   "id": "8664885a-545d-4e31-9b6d-0bd7e73505b2",
   "metadata": {},
   "outputs": [],
   "source": [
    "# ADD CODE HERE\n",
    "# plot the distribution of the delay that you have simulated"
   ]
  },
  {
   "cell_type": "code",
   "execution_count": null,
   "id": "ce14ac47-dad2-4600-a98e-3fe53818fa52",
   "metadata": {},
   "outputs": [],
   "source": [
    "# Explore the impact of varying the parameters of this simulation."
   ]
  }
 ],
 "metadata": {
  "kernelspec": {
   "display_name": "work",
   "language": "python",
   "name": "python3"
  },
  "language_info": {
   "codemirror_mode": {
    "name": "ipython",
    "version": 3
   },
   "file_extension": ".py",
   "mimetype": "text/x-python",
   "name": "python",
   "nbconvert_exporter": "python",
   "pygments_lexer": "ipython3",
   "version": "3.12.6"
  }
 },
 "nbformat": 4,
 "nbformat_minor": 5
}
