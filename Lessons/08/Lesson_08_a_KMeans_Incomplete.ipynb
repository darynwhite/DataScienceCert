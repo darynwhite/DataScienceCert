{
 "cells": [
  {
   "cell_type": "markdown",
   "id": "f3986e9e",
   "metadata": {},
   "source": [
    "# K-Means Machine Learning Algorithm\n",
    "Create the K-Means algorithm using only the tools in numpy and pandas.  \n",
    "The purpose of this exercise is to demonstrate and explain the algorithm; otherwise there are powerful built-in functions in Python's sklearn package to handle this task."
   ]
  },
  {
   "cell_type": "code",
   "execution_count": 1,
   "id": "2d8b0584",
   "metadata": {},
   "outputs": [],
   "source": [
    "import numpy as np\n",
    "import pandas as pd\n",
    "import matplotlib.pyplot as plt\n",
    "%matplotlib inline"
   ]
  },
  {
   "cell_type": "markdown",
   "id": "d07a1470",
   "metadata": {},
   "source": [
    "## Initialization\n",
    "\n",
    "### Data Points\n",
    "We will need data.  The following data will help us demonstrate the algorithm"
   ]
  },
  {
   "cell_type": "code",
   "execution_count": 2,
   "id": "5f64a432",
   "metadata": {},
   "outputs": [
    {
     "data": {
      "text/html": [
       "<div>\n",
       "<style scoped>\n",
       "    .dataframe tbody tr th:only-of-type {\n",
       "        vertical-align: middle;\n",
       "    }\n",
       "\n",
       "    .dataframe tbody tr th {\n",
       "        vertical-align: top;\n",
       "    }\n",
       "\n",
       "    .dataframe thead th {\n",
       "        text-align: right;\n",
       "    }\n",
       "</style>\n",
       "<table border=\"1\" class=\"dataframe\">\n",
       "  <thead>\n",
       "    <tr style=\"text-align: right;\">\n",
       "      <th></th>\n",
       "      <th>0</th>\n",
       "      <th>1</th>\n",
       "    </tr>\n",
       "  </thead>\n",
       "  <tbody>\n",
       "    <tr>\n",
       "      <th>0</th>\n",
       "      <td>1.91</td>\n",
       "      <td>1.43</td>\n",
       "    </tr>\n",
       "    <tr>\n",
       "      <th>1</th>\n",
       "      <td>0.90</td>\n",
       "      <td>0.79</td>\n",
       "    </tr>\n",
       "    <tr>\n",
       "      <th>2</th>\n",
       "      <td>1.26</td>\n",
       "      <td>0.52</td>\n",
       "    </tr>\n",
       "    <tr>\n",
       "      <th>3</th>\n",
       "      <td>0.61</td>\n",
       "      <td>1.55</td>\n",
       "    </tr>\n",
       "    <tr>\n",
       "      <th>4</th>\n",
       "      <td>1.25</td>\n",
       "      <td>0.66</td>\n",
       "    </tr>\n",
       "  </tbody>\n",
       "</table>\n",
       "</div>"
      ],
      "text/plain": [
       "      0     1\n",
       "0  1.91  1.43\n",
       "1  0.90  0.79\n",
       "2  1.26  0.52\n",
       "3  0.61  1.55\n",
       "4  1.25  0.66"
      ]
     },
     "execution_count": 2,
     "metadata": {},
     "output_type": "execute_result"
    }
   ],
   "source": [
    "# Create Points to cluster\n",
    "Points = pd.DataFrame()\n",
    "Points.loc[:,0] = [1.91,0.9,1.26,0.61,1.25,1.04,0.53,0.99,1.11,0.1,-0.15,0.83,0.72,0.69,0.74,\n",
    "      0.72,1.09,0.68,0.67,0.82,0.74,0.94,0.64,1.44,0.76,1.06,0.79,0.88,0.76,0.85,\n",
    "      0.88,0.75,0.83,0.85,0.35,0.63,-0.14,-0.04,0.3,-0.52,-0.27,-0.32,-0.08,-0.39,\n",
    "      -0.06,0.09,-0.51,-0.22,-0.03,-0.12,0.01,-0.21,-0.21,0.37,1.18,0,0,-0.66,-0.1,\n",
    "      1.01,1.19,-0.3,-2.2,-1.82,-1.33,-0.84,-2.17,-1.67,-1.38,-1.39,-1.32,-1.49,\n",
    "      -2.16,-1.64,-1.44,-1.58,-1.53,-1.53,-0.27,-1.32,-0.89,-0.33,-1.29]\n",
    "Points.loc[:,1] = [1.43,0.79,0.52,1.55,0.66,0.62,1.33,1.27,1.04,2.41,1.83,1.02,1.17,0.97,0.91,\n",
    "      0.14,0.53,1.15,0.96,0.87,0.27,-0.15,0.82,0.72,0.84,1.52,0.93,0.91,0.87,0.93,\n",
    "      0.97,1,0.86,0.88,0.55,-1.99,-0.78,-0.32,0.67,-1.75,-0.7,-0.51,-0.37,-0.55,\n",
    "      -0.42,-0.48,0.64,-0.49,-0.51,-0.32,-0.48,-0.57,-0.32,-0.28,-1.51,-0.41,-0.44,\n",
    "      -2.27,-0.67,-0.32,0.43,-1.26,-1.85,-0.16,-0.89,0.05,-0.38,-0.53,-1.75,-0.98,\n",
    "      -0.33,-1.41,-1.33,-0.9,-0.72,-0.77,-0.66,-0.81,-0.87,-0.94,-1.73,0.55,-0.7]\n",
    "Points.head()"
   ]
  },
  {
   "cell_type": "markdown",
   "id": "5575aad1",
   "metadata": {},
   "source": [
    "### Initial cluster Guesses\n",
    "We need to specify the number of clusters, which will be three.  \n",
    "We need to place the initial centroids (clusters) somewhere in the space."
   ]
  },
  {
   "cell_type": "code",
   "execution_count": 3,
   "id": "d58d6e87",
   "metadata": {},
   "outputs": [
    {
     "data": {
      "text/html": [
       "<div>\n",
       "<style scoped>\n",
       "    .dataframe tbody tr th:only-of-type {\n",
       "        vertical-align: middle;\n",
       "    }\n",
       "\n",
       "    .dataframe tbody tr th {\n",
       "        vertical-align: top;\n",
       "    }\n",
       "\n",
       "    .dataframe thead th {\n",
       "        text-align: right;\n",
       "    }\n",
       "</style>\n",
       "<table border=\"1\" class=\"dataframe\">\n",
       "  <thead>\n",
       "    <tr style=\"text-align: right;\">\n",
       "      <th></th>\n",
       "      <th>0</th>\n",
       "      <th>1</th>\n",
       "    </tr>\n",
       "  </thead>\n",
       "  <tbody>\n",
       "    <tr>\n",
       "      <th>0</th>\n",
       "      <td>-1</td>\n",
       "      <td>2</td>\n",
       "    </tr>\n",
       "    <tr>\n",
       "      <th>1</th>\n",
       "      <td>1</td>\n",
       "      <td>-2</td>\n",
       "    </tr>\n",
       "    <tr>\n",
       "      <th>2</th>\n",
       "      <td>0</td>\n",
       "      <td>0</td>\n",
       "    </tr>\n",
       "  </tbody>\n",
       "</table>\n",
       "</div>"
      ],
      "text/plain": [
       "   0  1\n",
       "0 -1  2\n",
       "1  1 -2\n",
       "2  0  0"
      ]
     },
     "execution_count": 3,
     "metadata": {},
     "output_type": "execute_result"
    }
   ],
   "source": [
    "# Create initial cluster centroids\n",
    "ClusterCentroidGuesses = pd.DataFrame()\n",
    "ClusterCentroidGuesses.loc[:,0] = [-1, 1, 0] # the x-values of the three clusters\n",
    "ClusterCentroidGuesses.loc[:,1] = [2, -2, 0] # the y-values of the three clusters\n",
    "ClusterCentroidGuesses"
   ]
  },
  {
   "cell_type": "markdown",
   "id": "06835bab-bf8f-457b-9b46-2c5257d9fd44",
   "metadata": {},
   "source": [
    "### Let's visualize the points and the initial guesses\n",
    "Do you think we did a good job with this initialization?"
   ]
  },
  {
   "cell_type": "code",
   "execution_count": 4,
   "id": "34c45f71-759e-4c97-b92d-2b086a210dd1",
   "metadata": {},
   "outputs": [
    {
     "data": {
      "image/png": "[encoded data removed]",
      "text/plain": [
       "<Figure size 640x480 with 1 Axes>"
      ]
     },
     "metadata": {},
     "output_type": "display_data"
    }
   ],
   "source": [
    "plt.scatter(Points.loc[:,0], Points.loc[:,1])\n",
    "plt.scatter(ClusterCentroidGuesses.loc[:,0], ClusterCentroidGuesses.loc[:,1], marker='x', color='red', s=100)\n",
    "plt.grid()\n",
    "plt.show()"
   ]
  },
  {
   "cell_type": "markdown",
   "id": "bd280e8c",
   "metadata": {},
   "source": [
    "### Label Points by Proximity to Centroid\n",
    "- For each point determine the distances to each centroid\n",
    "- Label each point with the centroid that is closest"
   ]
  },
  {
   "cell_type": "code",
   "execution_count": 5,
   "id": "db7a878c",
   "metadata": {},
   "outputs": [],
   "source": [
    "def FindLabelOfClosest(Points, ClusterCentroids): # determine Labels from Points and ClusterCentroids\n",
    "    NumberOfClusters, NumberOfDimensions = ClusterCentroids.shape # dimensions of the initial Centroids\n",
    "    Distances = np.array([float('inf')]*NumberOfClusters) # centroid distances\n",
    "    NumberOfPoints, NumberOfDimensions = Points.shape\n",
    "    Labels = np.array([-1]*NumberOfPoints)\n",
    "    for PointNumber in range(NumberOfPoints): # assign labels to all data points            \n",
    "        for ClusterNumber in range(NumberOfClusters): # for each cluster\n",
    "            # Get distances for each cluster\n",
    "            Distances[ClusterNumber] = np.sqrt(sum((Points.loc[PointNumber,:] - ClusterCentroids.loc[ClusterNumber,:])**2))                \n",
    "        Labels[PointNumber] = np.argmin(Distances) # assign to closest cluster\n",
    "    return Labels # return the a label for each point"
   ]
  },
  {
   "cell_type": "markdown",
   "id": "b7ee7ba2",
   "metadata": {},
   "source": [
    "### Determine Centroid of Cluster\n",
    "- Re-calculate the centroids based on the (new) labeled points  \n",
    "- Each centroid is the average of the points from one cluster "
   ]
  },
  {
   "cell_type": "code",
   "execution_count": 6,
   "id": "1812c0d7",
   "metadata": {},
   "outputs": [],
   "source": [
    "def CalculateClusterCentroid(Points, Labels): # determine centroid of Points with the same label\n",
    "    ClusterLabels = np.unique(Labels) # names of labels\n",
    "    NumberOfPoints, NumberOfDimensions = Points.shape\n",
    "    ClusterCentroids = pd.DataFrame(np.array([[float('nan')]*NumberOfDimensions]*len(ClusterLabels)))\n",
    "    for ClusterNumber in ClusterLabels: # for each cluster\n",
    "        # get mean for each label \n",
    "        ClusterCentroids.loc[ClusterNumber, :] = np.mean(Points.loc[ClusterNumber == Labels, :])\n",
    "    return ClusterCentroids # return the a label for each point"
   ]
  },
  {
   "cell_type": "markdown",
   "id": "829c691f",
   "metadata": {},
   "source": [
    "## K-Means\n",
    "Combine Labeling and Centroid Calculation\n",
    "\n",
    "### Exercise:\n",
    "Replace the two statements (`print(\"Replace this line with code\")`) with the proper code."
   ]
  },
  {
   "cell_type": "code",
   "execution_count": 15,
   "id": "51ce8f89",
   "metadata": {},
   "outputs": [],
   "source": [
    "def KMeans(Points, ClusterCentroidGuesses):\n",
    "    ClusterCentroids = ClusterCentroidGuesses.copy()\n",
    "    Labels_Previous = None\n",
    "    # Get starting set of labels\n",
    "    Labels = FindLabelOfClosest(Points, ClusterCentroids)\n",
    "    while not np.array_equal(Labels, Labels_Previous):\n",
    "        # Re-calculate cluster centers based on new set of labels\n",
    "        NewCentroids = CalculateClusterCentroid(Points,Labels)\n",
    "        # print(\" Replace this line with code\")\n",
    "        Labels_Previous = Labels.copy() # Must make a deep copy\n",
    "        # Determine new labels based on new cluster centers\n",
    "        Labels = FindLabelOfClosest(Points,NewCentroids)\n",
    "        # print(\" Replace this line with code\")\n",
    "    return Labels, ClusterCentroids"
   ]
  },
  {
   "cell_type": "markdown",
   "id": "f6614849",
   "metadata": {},
   "source": [
    "### Execute K-Means"
   ]
  },
  {
   "cell_type": "code",
   "execution_count": 16,
   "id": "15ae5b01",
   "metadata": {},
   "outputs": [],
   "source": [
    "# Run K-Means on the sample data\n",
    "Labels, ClusterCentroids = KMeans(Points, ClusterCentroidGuesses)"
   ]
  },
  {
   "cell_type": "markdown",
   "id": "48581707",
   "metadata": {},
   "source": [
    "### Visualize Result\n",
    "Plot labeled points and centroids"
   ]
  },
  {
   "cell_type": "code",
   "execution_count": 9,
   "id": "17b6ffb2",
   "metadata": {},
   "outputs": [],
   "source": [
    "def Plot2DKMeans(Points, Labels, ClusterCentroids, Title):\n",
    "    for LabelNumber in range(max(Labels)+1):\n",
    "        LabelFlag = Labels == LabelNumber\n",
    "        color =  ['c', 'm', 'y', 'b', 'g', 'r', 'c', 'm', 'y', 'b', 'g', 'r', 'c', 'm', 'y'][LabelNumber]\n",
    "        marker = ['s', 'o', 'v', '^', '<', '>', '8', 'p', '*', 'h', 'H', 'D', 'd', 'P', 'X'][LabelNumber]\n",
    "        plt.scatter(Points.loc[LabelFlag,0], Points.loc[LabelFlag,1],\n",
    "                    s= 100, c=color, edgecolors=\"black\", alpha=0.3, marker=marker)\n",
    "        plt.scatter(ClusterCentroids.loc[LabelNumber,0], ClusterCentroids.loc[LabelNumber,1], s=200, c=\"black\", marker=marker)\n",
    "    plt.title(Title)\n",
    "    plt.show()"
   ]
  },
  {
   "cell_type": "code",
   "execution_count": 10,
   "id": "c1708762",
   "metadata": {},
   "outputs": [],
   "source": [
    "# Change the plot dimensions\n",
    "plt.rcParams[\"figure.figsize\"] = [8, 8] # Square\n",
    "# plt.rcParams[\"figure.figsize\"] = [8, 0.5] # Wide\n",
    "# plt.rcParams[\"figure.figsize\"] = [0.5, 8] # Tall"
   ]
  },
  {
   "cell_type": "code",
   "execution_count": 14,
   "id": "0b4f4895",
   "metadata": {},
   "outputs": [
    {
     "data": {
      "text/plain": [
       "array([0, 0, 0, 0, 0, 0, 0, 0, 0, 0, 0, 0, 0, 0, 0, 0, 0, 0, 0, 0, 0, 0,\n",
       "       0, 0, 0, 0, 0, 0, 0, 0, 0, 0, 0, 0, 0, 2, 2, 2, 0, 1, 2, 2, 2, 2,\n",
       "       2, 2, 2, 2, 2, 2, 2, 2, 2, 2, 2, 2, 2, 1, 2, 0, 0, 1, 1, 1, 1, 2,\n",
       "       1, 1, 1, 1, 1, 1, 1, 1, 1, 1, 1, 1, 2, 1, 1, 2, 1])"
      ]
     },
     "execution_count": 14,
     "metadata": {},
     "output_type": "execute_result"
    }
   ],
   "source": [
    "Labels"
   ]
  },
  {
   "cell_type": "code",
   "execution_count": 17,
   "id": "36f4f65f",
   "metadata": {},
   "outputs": [
    {
     "data": {
      "image/png": "[encoded data removed]",
      "text/plain": [
       "<Figure size 800x800 with 1 Axes>"
      ]
     },
     "metadata": {},
     "output_type": "display_data"
    }
   ],
   "source": [
    "# Visualize the results of the K-Means clustering\n",
    "Title = 'K-Means Test'\n",
    "plt.grid()\n",
    "Plot2DKMeans(Points, Labels, ClusterCentroids, Title)"
   ]
  },
  {
   "cell_type": "code",
   "execution_count": null,
   "id": "632f105f",
   "metadata": {},
   "outputs": [],
   "source": []
  },
  {
   "cell_type": "code",
   "execution_count": null,
   "id": "0afa9632-35e3-47d1-8ae2-d27452653e36",
   "metadata": {},
   "outputs": [],
   "source": []
  }
 ],
 "metadata": {
  "kernelspec": {
   "display_name": "work",
   "language": "python",
   "name": "python3"
  },
  "language_info": {
   "codemirror_mode": {
    "name": "ipython",
    "version": 3
   },
   "file_extension": ".py",
   "mimetype": "text/x-python",
   "name": "python",
   "nbconvert_exporter": "python",
   "pygments_lexer": "ipython3",
   "version": "3.12.7"
  }
 },
 "nbformat": 4,
 "nbformat_minor": 5
}
