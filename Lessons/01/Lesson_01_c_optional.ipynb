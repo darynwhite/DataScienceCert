{
 "cells": [
  {
   "cell_type": "markdown",
   "id": "b6eb29b5-cab8-46a2-97e6-41abb2300af8",
   "metadata": {},
   "source": [
    "# DataStructures\n",
    "Copyright © 2023 by Ernst Henle"
   ]
  },
  {
   "cell_type": "markdown",
   "id": "d41dd4b7-36db-45c1-8553-7d76f5ac2057",
   "metadata": {},
   "source": [
    "## DataStructures (built-in, primitive, scalar)"
   ]
  },
  {
   "cell_type": "code",
   "execution_count": 1,
   "id": "11251b36-56e2-4862-8949-1ff82c7f591b",
   "metadata": {},
   "outputs": [
    {
     "data": {
      "text/plain": [
       "int"
      ]
     },
     "execution_count": 1,
     "metadata": {},
     "output_type": "execute_result"
    }
   ],
   "source": [
    "int # e.g. 23, 0 and -17"
   ]
  },
  {
   "cell_type": "code",
   "execution_count": 2,
   "id": "5972d327-bafb-4de5-b471-a0e677e900de",
   "metadata": {},
   "outputs": [
    {
     "data": {
      "text/plain": [
       "40"
      ]
     },
     "execution_count": 2,
     "metadata": {},
     "output_type": "execute_result"
    }
   ],
   "source": [
    "30 + 10 # an integer operation"
   ]
  },
  {
   "cell_type": "code",
   "execution_count": 3,
   "id": "35e23a82-c56a-451d-8df3-ceb8731ec1d9",
   "metadata": {},
   "outputs": [
    {
     "data": {
      "text/plain": [
       "int"
      ]
     },
     "execution_count": 3,
     "metadata": {},
     "output_type": "execute_result"
    }
   ],
   "source": [
    "type(40)"
   ]
  },
  {
   "cell_type": "code",
   "execution_count": 4,
   "id": "7f759863-ba2c-4bbc-9393-05d5cfa2c033",
   "metadata": {},
   "outputs": [
    {
     "data": {
      "text/plain": [
       "float"
      ]
     },
     "execution_count": 4,
     "metadata": {},
     "output_type": "execute_result"
    }
   ],
   "source": [
    "float # e.g. -0.001 and 1.23e15"
   ]
  },
  {
   "cell_type": "code",
   "execution_count": 5,
   "id": "2ded9fac-cbc1-4774-9d4c-9e54d907cb67",
   "metadata": {},
   "outputs": [
    {
     "data": {
      "text/plain": [
       "40.0"
      ]
     },
     "execution_count": 5,
     "metadata": {},
     "output_type": "execute_result"
    }
   ],
   "source": [
    "1.8e2/4.5 # a floating point operation"
   ]
  },
  {
   "cell_type": "code",
   "execution_count": 6,
   "id": "3edb099a-d5d3-4155-a837-1090c277d56f",
   "metadata": {},
   "outputs": [
    {
     "data": {
      "text/plain": [
       "float"
      ]
     },
     "execution_count": 6,
     "metadata": {},
     "output_type": "execute_result"
    }
   ],
   "source": [
    "type(40.0)"
   ]
  },
  {
   "cell_type": "code",
   "execution_count": 7,
   "id": "d8cf34d6-c483-4794-b26b-ea6e4ddb9ffc",
   "metadata": {},
   "outputs": [
    {
     "data": {
      "text/plain": [
       "nan"
      ]
     },
     "execution_count": 7,
     "metadata": {},
     "output_type": "execute_result"
    }
   ],
   "source": [
    "float('nan')"
   ]
  },
  {
   "cell_type": "code",
   "execution_count": 8,
   "id": "baf6a406-444c-4deb-b706-34eb7d1db1a9",
   "metadata": {},
   "outputs": [
    {
     "data": {
      "text/plain": [
       "inf"
      ]
     },
     "execution_count": 8,
     "metadata": {},
     "output_type": "execute_result"
    }
   ],
   "source": [
    "float('inf')"
   ]
  },
  {
   "cell_type": "code",
   "execution_count": 9,
   "id": "67b8f2e6-07c9-4c79-9fd5-55376417ecc9",
   "metadata": {},
   "outputs": [
    {
     "data": {
      "text/plain": [
       "-inf"
      ]
     },
     "execution_count": 9,
     "metadata": {},
     "output_type": "execute_result"
    }
   ],
   "source": [
    "float('-inf')"
   ]
  },
  {
   "cell_type": "code",
   "execution_count": 10,
   "id": "5be33cb3-8f59-476c-b551-f8695a5ee280",
   "metadata": {},
   "outputs": [
    {
     "data": {
      "text/plain": [
       "bool"
      ]
     },
     "execution_count": 10,
     "metadata": {},
     "output_type": "execute_result"
    }
   ],
   "source": [
    "bool # i.e. True and False"
   ]
  },
  {
   "cell_type": "code",
   "execution_count": 11,
   "id": "a360e4ff-5a06-466e-be3d-7259b411678b",
   "metadata": {},
   "outputs": [
    {
     "data": {
      "text/plain": [
       "False"
      ]
     },
     "execution_count": 11,
     "metadata": {},
     "output_type": "execute_result"
    }
   ],
   "source": [
    "1 == 0 # Boolean operation"
   ]
  },
  {
   "cell_type": "code",
   "execution_count": 12,
   "id": "6b5ede69-d950-4db2-bbde-21fde93f391e",
   "metadata": {},
   "outputs": [
    {
     "data": {
      "text/plain": [
       "bool"
      ]
     },
     "execution_count": 12,
     "metadata": {},
     "output_type": "execute_result"
    }
   ],
   "source": [
    "type(1 == 0)"
   ]
  },
  {
   "cell_type": "code",
   "execution_count": 13,
   "id": "02c69a03-bef8-4bb3-8715-bafcfa68d4f9",
   "metadata": {},
   "outputs": [
    {
     "data": {
      "text/plain": [
       "1.0"
      ]
     },
     "execution_count": 13,
     "metadata": {},
     "output_type": "execute_result"
    }
   ],
   "source": [
    "1.0 + False"
   ]
  },
  {
   "cell_type": "code",
   "execution_count": 14,
   "id": "2c99166c-b0cf-4874-be0d-84f614a0b667",
   "metadata": {},
   "outputs": [
    {
     "data": {
      "text/plain": [
       "2"
      ]
     },
     "execution_count": 14,
     "metadata": {},
     "output_type": "execute_result"
    }
   ],
   "source": [
    "3 - True"
   ]
  },
  {
   "cell_type": "code",
   "execution_count": 15,
   "id": "00c868b4-5215-4767-a3a0-fd8a22498ab3",
   "metadata": {},
   "outputs": [
    {
     "data": {
      "text/plain": [
       "str"
      ]
     },
     "execution_count": 15,
     "metadata": {},
     "output_type": "execute_result"
    }
   ],
   "source": [
    "str # e.g. \"hello\", \"?\", and \"1\""
   ]
  },
  {
   "cell_type": "code",
   "execution_count": 16,
   "id": "9d4c4834-3297-4079-9b48-b6266389bac3",
   "metadata": {},
   "outputs": [
    {
     "data": {
      "text/plain": [
       "'lies, damn lies, and statistics'"
      ]
     },
     "execution_count": 16,
     "metadata": {},
     "output_type": "execute_result"
    }
   ],
   "source": [
    "\"lies, damn lies,\" + \" and statistics\" # String operation"
   ]
  },
  {
   "cell_type": "code",
   "execution_count": 17,
   "id": "aa939359-30af-45cb-85bd-d7b9c358eeea",
   "metadata": {},
   "outputs": [
    {
     "data": {
      "text/plain": [
       "str"
      ]
     },
     "execution_count": 17,
     "metadata": {},
     "output_type": "execute_result"
    }
   ],
   "source": [
    "type('lies, damn lies, and statistics')"
   ]
  },
  {
   "cell_type": "code",
   "execution_count": 18,
   "id": "dd271b51-3a78-43e2-89f6-9b7cdbd99b3f",
   "metadata": {},
   "outputs": [
    {
     "data": {
      "text/plain": [
       "'11'"
      ]
     },
     "execution_count": 18,
     "metadata": {},
     "output_type": "execute_result"
    }
   ],
   "source": [
    "#Cast an int to a string\n",
    "str(1) + str(1)"
   ]
  },
  {
   "cell_type": "code",
   "execution_count": 19,
   "id": "3de543f0-8834-413e-aeb2-bb62402b6e64",
   "metadata": {},
   "outputs": [
    {
     "data": {
      "text/plain": [
       "2"
      ]
     },
     "execution_count": 19,
     "metadata": {},
     "output_type": "execute_result"
    }
   ],
   "source": [
    "# Cast a string to an int\n",
    "int('1') + int ('1')"
   ]
  },
  {
   "cell_type": "markdown",
   "id": "692c06d9-a7d7-4497-b305-8bc2b96105e0",
   "metadata": {},
   "source": [
    "## More on Data Types"
   ]
  },
  {
   "cell_type": "code",
   "execution_count": 20,
   "id": "448f6c45-cd6f-444b-9f3b-6931791e7519",
   "metadata": {},
   "outputs": [
    {
     "data": {
      "text/plain": [
       "int"
      ]
     },
     "execution_count": 20,
     "metadata": {},
     "output_type": "execute_result"
    }
   ],
   "source": [
    "# Create an integer\n",
    "x = 7\n",
    "\n",
    "# Determine the data type of x\n",
    "type(x)"
   ]
  },
  {
   "cell_type": "code",
   "execution_count": 21,
   "id": "74bbaa4e-919f-4718-9b18-887fc66bcde6",
   "metadata": {},
   "outputs": [
    {
     "data": {
      "text/plain": [
       "10"
      ]
     },
     "execution_count": 21,
     "metadata": {},
     "output_type": "execute_result"
    }
   ],
   "source": [
    "# Add 3 to x\n",
    "x + 3"
   ]
  },
  {
   "cell_type": "code",
   "execution_count": 22,
   "id": "6294d33c-a384-4c51-ab22-199e53bba38a",
   "metadata": {},
   "outputs": [
    {
     "data": {
      "text/plain": [
       "float"
      ]
     },
     "execution_count": 22,
     "metadata": {},
     "output_type": "execute_result"
    }
   ],
   "source": [
    "# Create a float\n",
    "x = 7.0\n",
    "\n",
    "# Determine the data type of x\n",
    "type(x)"
   ]
  },
  {
   "cell_type": "code",
   "execution_count": 23,
   "id": "a032fe35-e61d-47f1-81f4-9899156efd63",
   "metadata": {},
   "outputs": [
    {
     "data": {
      "text/plain": [
       "10.0"
      ]
     },
     "execution_count": 23,
     "metadata": {},
     "output_type": "execute_result"
    }
   ],
   "source": [
    "# Add 3 to x\n",
    "x + 3.0"
   ]
  },
  {
   "cell_type": "code",
   "execution_count": 24,
   "id": "0c042ed8-59ff-437f-af1d-e14ec76c4a9a",
   "metadata": {},
   "outputs": [
    {
     "data": {
      "text/plain": [
       "11.0"
      ]
     },
     "execution_count": 24,
     "metadata": {},
     "output_type": "execute_result"
    }
   ],
   "source": [
    "# Add a float, an integer, and a Boolean\n",
    "7 + 3.0 + True"
   ]
  },
  {
   "cell_type": "code",
   "execution_count": 25,
   "id": "17f81cb1-213f-4081-90d5-6766936ff507",
   "metadata": {},
   "outputs": [
    {
     "data": {
      "text/plain": [
       "str"
      ]
     },
     "execution_count": 25,
     "metadata": {},
     "output_type": "execute_result"
    }
   ],
   "source": [
    "# Create a string\n",
    "x = \"a\"\n",
    "\n",
    "# Determine the data type of x\n",
    "type(x)"
   ]
  },
  {
   "cell_type": "code",
   "execution_count": 26,
   "id": "e3d07bdd-e0a4-4b71-8eb6-5be2b6b0e7a3",
   "metadata": {},
   "outputs": [
    {
     "data": {
      "text/plain": [
       "'ab'"
      ]
     },
     "execution_count": 26,
     "metadata": {},
     "output_type": "execute_result"
    }
   ],
   "source": [
    "# Add b to x\n",
    "x + \"b\""
   ]
  },
  {
   "cell_type": "code",
   "execution_count": 28,
   "id": "6a2d1487-67f0-473c-ae5c-2565e730a451",
   "metadata": {},
   "outputs": [
    {
     "ename": "TypeError",
     "evalue": "can only concatenate str (not \"int\") to str",
     "output_type": "error",
     "traceback": [
      "\u001b[0;31m---------------------------------------------------------------------------\u001b[0m",
      "\u001b[0;31mTypeError\u001b[0m                                 Traceback (most recent call last)",
      "Cell \u001b[0;32mIn[28], line 2\u001b[0m\n\u001b[1;32m      1\u001b[0m \u001b[38;5;66;03m# Try to add 3 to a string\u001b[39;00m\n\u001b[0;32m----> 2\u001b[0m \u001b[43mx\u001b[49m\u001b[43m \u001b[49m\u001b[38;5;241;43m+\u001b[39;49m\u001b[43m \u001b[49m\u001b[38;5;241;43m3\u001b[39;49m\n",
      "\u001b[0;31mTypeError\u001b[0m: can only concatenate str (not \"int\") to str"
     ]
    }
   ],
   "source": [
    "# Try to add 3 to a string\n",
    "x + 3"
   ]
  },
  {
   "cell_type": "code",
   "execution_count": 29,
   "id": "8d8591fd-facf-4883-82c1-edf334fcf4b1",
   "metadata": {},
   "outputs": [
    {
     "data": {
      "text/plain": [
       "str"
      ]
     },
     "execution_count": 29,
     "metadata": {},
     "output_type": "execute_result"
    }
   ],
   "source": [
    "# Create a string\n",
    "x = \"7\"\n",
    "\n",
    "# Determine the data type of x\n",
    "type(x)"
   ]
  },
  {
   "cell_type": "code",
   "execution_count": 30,
   "id": "688977c0-b580-45e0-8606-24935760689b",
   "metadata": {},
   "outputs": [
    {
     "ename": "TypeError",
     "evalue": "can only concatenate str (not \"int\") to str",
     "output_type": "error",
     "traceback": [
      "\u001b[0;31m---------------------------------------------------------------------------\u001b[0m",
      "\u001b[0;31mTypeError\u001b[0m                                 Traceback (most recent call last)",
      "Cell \u001b[0;32mIn[30], line 2\u001b[0m\n\u001b[1;32m      1\u001b[0m \u001b[38;5;66;03m# If we try to add 3 to x, we will get an error\u001b[39;00m\n\u001b[0;32m----> 2\u001b[0m \u001b[43mx\u001b[49m\u001b[43m \u001b[49m\u001b[38;5;241;43m+\u001b[39;49m\u001b[43m \u001b[49m\u001b[38;5;241;43m3\u001b[39;49m\n",
      "\u001b[0;31mTypeError\u001b[0m: can only concatenate str (not \"int\") to str"
     ]
    }
   ],
   "source": [
    "# If we try to add 3 to x, we will get an error\n",
    "x + 3"
   ]
  },
  {
   "cell_type": "code",
   "execution_count": 31,
   "id": "e3ec234d-14e9-49ff-8863-32b20459ee40",
   "metadata": {},
   "outputs": [
    {
     "data": {
      "text/plain": [
       "'73'"
      ]
     },
     "execution_count": 31,
     "metadata": {},
     "output_type": "execute_result"
    }
   ],
   "source": [
    "# Add \"3\" to x\n",
    "x + \"3\""
   ]
  },
  {
   "cell_type": "markdown",
   "id": "d29a4c53-d707-491b-8be3-a844227ea27d",
   "metadata": {},
   "source": [
    "## DataStructures (built-in, multi-dimensional)\n",
    "Documentation on lists and other data structures\n",
    "https://docs.python.org/3/tutorial/datastructures.html"
   ]
  },
  {
   "cell_type": "code",
   "execution_count": 32,
   "id": "a632fd62-f610-490b-9a3e-9fc44472f9c0",
   "metadata": {},
   "outputs": [
    {
     "data": {
      "text/plain": [
       "list"
      ]
     },
     "execution_count": 32,
     "metadata": {},
     "output_type": "execute_result"
    }
   ],
   "source": [
    "list"
   ]
  },
  {
   "cell_type": "code",
   "execution_count": 33,
   "id": "260375e6-d0ed-4a85-bafa-8754eb6832b7",
   "metadata": {},
   "outputs": [
    {
     "data": {
      "text/plain": [
       "list"
      ]
     },
     "execution_count": 33,
     "metadata": {},
     "output_type": "execute_result"
    }
   ],
   "source": [
    "City = ['USA', 704] # List can have mixed types\n",
    "type(City)"
   ]
  },
  {
   "cell_type": "code",
   "execution_count": 34,
   "id": "aab87c62-b0de-463f-a047-a2cca63b3d42",
   "metadata": {},
   "outputs": [
    {
     "data": {
      "text/plain": [
       "['USA', 704, 'Seattle']"
      ]
     },
     "execution_count": 34,
     "metadata": {},
     "output_type": "execute_result"
    }
   ],
   "source": [
    "City.append('Seattle')\n",
    "City"
   ]
  },
  {
   "cell_type": "code",
   "execution_count": 35,
   "id": "680d19c8-6cb5-400d-be8f-56a34b719bee",
   "metadata": {},
   "outputs": [
    {
     "data": {
      "text/plain": [
       "704"
      ]
     },
     "execution_count": 35,
     "metadata": {},
     "output_type": "execute_result"
    }
   ],
   "source": [
    "City[1]"
   ]
  },
  {
   "cell_type": "code",
   "execution_count": 36,
   "id": "269e45d6-49ea-4c7a-84cd-73f4b3dcf248",
   "metadata": {},
   "outputs": [
    {
     "data": {
      "text/plain": [
       "[['Seattle', 'San Jose', 'San Jose', 'La Paz', 'La Paz'],\n",
       " ['USA', 'USA', 'Costa Rica', 'Mexico', 'Bolivia'],\n",
       " [704, 1030, 333, 265, 757]]"
      ]
     },
     "execution_count": 36,
     "metadata": {},
     "output_type": "execute_result"
    }
   ],
   "source": [
    "# Equal-length lists in a list create a rectangular strucure\n",
    "Name = ['Seattle', 'San Jose', 'San Jose', 'La Paz', 'La Paz']\n",
    "Country = ['USA', 'USA', 'Costa Rica', 'Mexico', 'Bolivia']\n",
    "Population = [704, 1030, 333, 265, 757]\n",
    "Cities = [Name, Country, Population]\n",
    "Cities"
   ]
  },
  {
   "cell_type": "code",
   "execution_count": 37,
   "id": "1c7b877c-a79d-43c9-8b57-1a8b8937e002",
   "metadata": {},
   "outputs": [
    {
     "data": {
      "text/plain": [
       "265"
      ]
     },
     "execution_count": 37,
     "metadata": {},
     "output_type": "execute_result"
    }
   ],
   "source": [
    "Cities[2][3]"
   ]
  },
  {
   "cell_type": "code",
   "execution_count": 38,
   "id": "8849c3fe-f1e1-4c6e-a2bf-6231bc13fcc6",
   "metadata": {},
   "outputs": [
    {
     "data": {
      "text/plain": [
       "dict"
      ]
     },
     "execution_count": 38,
     "metadata": {},
     "output_type": "execute_result"
    }
   ],
   "source": [
    "dict"
   ]
  },
  {
   "cell_type": "code",
   "execution_count": 39,
   "id": "1d9d8fba-116f-4eeb-acf8-5633654cc82c",
   "metadata": {},
   "outputs": [
    {
     "data": {
      "text/plain": [
       "dict"
      ]
     },
     "execution_count": 39,
     "metadata": {},
     "output_type": "execute_result"
    }
   ],
   "source": [
    "CityNamesByCountry = {'USA':['Seattle', 'San Jose'], 'Costa Rica':'San Jose', 'Mexico':'Oaxaca'}\n",
    "type(CityNamesByCountry) # dict"
   ]
  },
  {
   "cell_type": "code",
   "execution_count": 40,
   "id": "d4882bda-8808-4540-b09d-7d19e1ec1ea4",
   "metadata": {},
   "outputs": [
    {
     "data": {
      "text/plain": [
       "{'USA': ['Seattle', 'San Jose'], 'Costa Rica': 'San Jose', 'Mexico': 'Oaxaca'}"
      ]
     },
     "execution_count": 40,
     "metadata": {},
     "output_type": "execute_result"
    }
   ],
   "source": [
    "CityNamesByCountry"
   ]
  },
  {
   "cell_type": "code",
   "execution_count": 41,
   "id": "c2844d88-9865-4eb7-8cdd-db0a6093c90c",
   "metadata": {},
   "outputs": [
    {
     "data": {
      "text/plain": [
       "['Seattle', 'San Jose']"
      ]
     },
     "execution_count": 41,
     "metadata": {},
     "output_type": "execute_result"
    }
   ],
   "source": [
    "CityNamesByCountry['USA']"
   ]
  },
  {
   "cell_type": "code",
   "execution_count": 42,
   "id": "07a766f2-bdc5-4c11-b32a-c4a41fb00183",
   "metadata": {},
   "outputs": [
    {
     "data": {
      "text/plain": [
       "{'USA': ['Seattle', 'San Jose'],\n",
       " 'Costa Rica': 'San Jose',\n",
       " 'Mexico': 'La Paz',\n",
       " 'Bolivia': 'La Paz'}"
      ]
     },
     "execution_count": 42,
     "metadata": {},
     "output_type": "execute_result"
    }
   ],
   "source": [
    "CityNamesByCountry['Mexico'] = 'La Paz'\n",
    "CityNamesByCountry['Bolivia'] = 'La Paz'\n",
    "CityNamesByCountry"
   ]
  },
  {
   "cell_type": "code",
   "execution_count": 43,
   "id": "2baad74e-9f92-412a-8db8-25956ac4bc09",
   "metadata": {},
   "outputs": [
    {
     "data": {
      "text/plain": [
       "['USA', 'Costa Rica', 'Mexico', 'Bolivia']"
      ]
     },
     "execution_count": 43,
     "metadata": {},
     "output_type": "execute_result"
    }
   ],
   "source": [
    "list(CityNamesByCountry.keys())"
   ]
  },
  {
   "cell_type": "code",
   "execution_count": 44,
   "id": "9df0b1f6-c322-41ea-be2c-f7f0e0493c58",
   "metadata": {},
   "outputs": [
    {
     "data": {
      "text/plain": [
       "[['Seattle', 'San Jose'], 'San Jose', 'La Paz', 'La Paz']"
      ]
     },
     "execution_count": 44,
     "metadata": {},
     "output_type": "execute_result"
    }
   ],
   "source": [
    "list(CityNamesByCountry.values())"
   ]
  },
  {
   "cell_type": "code",
   "execution_count": 45,
   "id": "d4bc9add-4f4f-45f9-83c8-dc6c6d774c95",
   "metadata": {},
   "outputs": [
    {
     "data": {
      "text/plain": [
       "[('USA', ['Seattle', 'San Jose']),\n",
       " ('Costa Rica', 'San Jose'),\n",
       " ('Mexico', 'La Paz'),\n",
       " ('Bolivia', 'La Paz')]"
      ]
     },
     "execution_count": 45,
     "metadata": {},
     "output_type": "execute_result"
    }
   ],
   "source": [
    "list(CityNamesByCountry.items())"
   ]
  },
  {
   "cell_type": "code",
   "execution_count": 46,
   "id": "8f8ac5ed-2087-4c68-8d90-699df49a7cde",
   "metadata": {},
   "outputs": [
    {
     "data": {
      "text/plain": [
       "False"
      ]
     },
     "execution_count": 46,
     "metadata": {},
     "output_type": "execute_result"
    }
   ],
   "source": [
    "'CostaRica' in CityNamesByCountry"
   ]
  },
  {
   "cell_type": "code",
   "execution_count": 47,
   "id": "2ad0dd1e-f538-4756-bdae-11e7aa2e9a64",
   "metadata": {},
   "outputs": [
    {
     "data": {
      "text/plain": [
       "True"
      ]
     },
     "execution_count": 47,
     "metadata": {},
     "output_type": "execute_result"
    }
   ],
   "source": [
    "'Costa Rica' in CityNamesByCountry"
   ]
  },
  {
   "cell_type": "code",
   "execution_count": 48,
   "id": "f15f7f97-2fd9-4970-b0d8-ec9d90daede5",
   "metadata": {},
   "outputs": [
    {
     "data": {
      "text/plain": [
       "False"
      ]
     },
     "execution_count": 48,
     "metadata": {},
     "output_type": "execute_result"
    }
   ],
   "source": [
    "'LaPaz' in CityNamesByCountry.values()"
   ]
  },
  {
   "cell_type": "code",
   "execution_count": 49,
   "id": "bcb15104-cf80-4d8a-b747-f18de2c2e846",
   "metadata": {},
   "outputs": [
    {
     "data": {
      "text/plain": [
       "True"
      ]
     },
     "execution_count": 49,
     "metadata": {},
     "output_type": "execute_result"
    }
   ],
   "source": [
    "'La Paz' in CityNamesByCountry.values()"
   ]
  },
  {
   "cell_type": "code",
   "execution_count": 50,
   "id": "d72737a1-99f8-4a93-b2c0-5122e6d46bf2",
   "metadata": {},
   "outputs": [
    {
     "data": {
      "text/plain": [
       "{'Seattle': 'USA',\n",
       " 'San Jose': ['USA', 'Costa Rica'],\n",
       " 'La Paz': ['Bolivia', 'Mexico']}"
      ]
     },
     "execution_count": 50,
     "metadata": {},
     "output_type": "execute_result"
    }
   ],
   "source": [
    "CountryByCityNames = {'Seattle':'USA', 'San Jose':['USA', 'Costa Rica'], 'La Paz':['Bolivia', 'Mexico']}\n",
    "CountryByCityNames"
   ]
  },
  {
   "cell_type": "code",
   "execution_count": 51,
   "id": "da42c9f3-8100-4f19-b7cd-06b4335ee7b6",
   "metadata": {},
   "outputs": [
    {
     "data": {
      "text/plain": [
       "[['Seattle', 'San Jose', 'San Jose', 'La Paz', 'La Paz'],\n",
       " ['USA', 'USA', 'Costa Rica', 'Mexico', 'Bolivia'],\n",
       " [704, 1030, 333, 265, 757]]"
      ]
     },
     "execution_count": 51,
     "metadata": {},
     "output_type": "execute_result"
    }
   ],
   "source": [
    "# Verify that the same information is here\n",
    "Cities"
   ]
  },
  {
   "cell_type": "markdown",
   "id": "72905683-ec26-4abd-b6e7-a25bc8992aa0",
   "metadata": {},
   "source": [
    "## DataStructures (imported, multi-dimensional)"
   ]
  },
  {
   "cell_type": "code",
   "execution_count": 52,
   "id": "353fa20d-f5fe-4233-8a2f-87e3a25ebd80",
   "metadata": {},
   "outputs": [],
   "source": [
    "import numpy as np # make numpy package usable\n",
    "import pandas as pd # make pandas package usable"
   ]
  },
  {
   "cell_type": "code",
   "execution_count": 53,
   "id": "8183d693-0115-4ef6-b1ce-c4cda51eee65",
   "metadata": {},
   "outputs": [
    {
     "data": {
      "text/plain": [
       "numpy.ndarray"
      ]
     },
     "execution_count": 53,
     "metadata": {},
     "output_type": "execute_result"
    }
   ],
   "source": [
    "# Create an array of integers\n",
    "x = np.array([5, -7, 1, 1, 99])\n",
    "\n",
    "# Determine the data type of x\n",
    "type(x)"
   ]
  },
  {
   "cell_type": "code",
   "execution_count": 54,
   "id": "1bccf259-9ea9-4745-a0cd-3260bea4bf69",
   "metadata": {},
   "outputs": [
    {
     "data": {
      "text/plain": [
       "'int64'"
      ]
     },
     "execution_count": 54,
     "metadata": {},
     "output_type": "execute_result"
    }
   ],
   "source": [
    "# Find out the data type for the elements in the array\n",
    "x.dtype.name"
   ]
  },
  {
   "cell_type": "code",
   "execution_count": 55,
   "id": "939cc0c1-e00c-4346-b83b-7705a2fb08e0",
   "metadata": {},
   "outputs": [
    {
     "data": {
      "text/plain": [
       "array([  8,  -4,   4,   4, 102])"
      ]
     },
     "execution_count": 55,
     "metadata": {},
     "output_type": "execute_result"
    }
   ],
   "source": [
    "# If we can add 3 to this array.\n",
    "x + 3"
   ]
  },
  {
   "cell_type": "code",
   "execution_count": 56,
   "id": "3efb9e72-fed1-4a50-89bf-82705916978d",
   "metadata": {},
   "outputs": [],
   "source": [
    "# Create an array of strings\n",
    "x = np.array([\"abc\", \"\", \" \", \"?\", \"7\"])"
   ]
  },
  {
   "cell_type": "code",
   "execution_count": 57,
   "id": "3608c947-4d83-4819-958f-0d42ba889707",
   "metadata": {},
   "outputs": [
    {
     "data": {
      "text/plain": [
       "numpy.ndarray"
      ]
     },
     "execution_count": 57,
     "metadata": {},
     "output_type": "execute_result"
    }
   ],
   "source": [
    "# Determine the data type of x\n",
    "type(x)"
   ]
  },
  {
   "cell_type": "code",
   "execution_count": 58,
   "id": "80c2b9e5-7cf9-4fcf-a20e-5063eda6a20b",
   "metadata": {},
   "outputs": [
    {
     "data": {
      "text/plain": [
       "'str96'"
      ]
     },
     "execution_count": 58,
     "metadata": {},
     "output_type": "execute_result"
    }
   ],
   "source": [
    "# Find out the data type for the elements in the array\n",
    "x.dtype.name"
   ]
  },
  {
   "cell_type": "code",
   "execution_count": 59,
   "id": "f9003aea-6a58-43c4-8790-098cf2bb4888",
   "metadata": {},
   "outputs": [
    {
     "ename": "UFuncTypeError",
     "evalue": "ufunc 'add' did not contain a loop with signature matching types (dtype('<U3'), dtype('int64')) -> None",
     "output_type": "error",
     "traceback": [
      "\u001b[0;31m---------------------------------------------------------------------------\u001b[0m",
      "\u001b[0;31mUFuncTypeError\u001b[0m                            Traceback (most recent call last)",
      "Cell \u001b[0;32mIn[59], line 2\u001b[0m\n\u001b[1;32m      1\u001b[0m \u001b[38;5;66;03m# If we try to add 3 to this array of strings we will get a TypeError.\u001b[39;00m\n\u001b[0;32m----> 2\u001b[0m \u001b[43mx\u001b[49m\u001b[43m \u001b[49m\u001b[38;5;241;43m+\u001b[39;49m\u001b[43m \u001b[49m\u001b[38;5;241;43m3\u001b[39;49m\n",
      "\u001b[0;31mUFuncTypeError\u001b[0m: ufunc 'add' did not contain a loop with signature matching types (dtype('<U3'), dtype('int64')) -> None"
     ]
    }
   ],
   "source": [
    "# If we try to add 3 to this array of strings we will get a TypeError.\n",
    "x + 3"
   ]
  },
  {
   "cell_type": "code",
   "execution_count": 60,
   "id": "3f10f0f7-258a-4b23-a29d-e6a9675e71f5",
   "metadata": {},
   "outputs": [
    {
     "data": {
      "text/plain": [
       "np.float64(2.3769728648009427)"
      ]
     },
     "execution_count": 60,
     "metadata": {},
     "output_type": "execute_result"
    }
   ],
   "source": [
    "# Create array of ages\n",
    "ageList = [9, 9, 10, 8, 12, 10, 7, 8, 10, 8, 0, 9, 7, 9, 10, 9, 6, 9, 9, 11]\n",
    "ages = np.array(ageList)\n",
    "ages.std()"
   ]
  },
  {
   "cell_type": "code",
   "execution_count": 61,
   "id": "1490408d-2d88-43e2-9919-0218e8b2df1e",
   "metadata": {},
   "outputs": [
    {
     "ename": "ValueError",
     "evalue": "invalid literal for int() with base 10: 'a'",
     "output_type": "error",
     "traceback": [
      "\u001b[0;31m---------------------------------------------------------------------------\u001b[0m",
      "\u001b[0;31mValueError\u001b[0m                                Traceback (most recent call last)",
      "Cell \u001b[0;32mIn[61], line 2\u001b[0m\n\u001b[1;32m      1\u001b[0m \u001b[38;5;66;03m# Cannot assign a string to a numeric array\u001b[39;00m\n\u001b[0;32m----> 2\u001b[0m \u001b[43mages\u001b[49m\u001b[43m[\u001b[49m\u001b[38;5;241;43m0\u001b[39;49m\u001b[43m]\u001b[49m \u001b[38;5;241m=\u001b[39m \u001b[38;5;124m'\u001b[39m\u001b[38;5;124ma\u001b[39m\u001b[38;5;124m'\u001b[39m\n",
      "\u001b[0;31mValueError\u001b[0m: invalid literal for int() with base 10: 'a'"
     ]
    }
   ],
   "source": [
    "# Cannot assign a string to a numeric array\n",
    "ages[0] = 'a'"
   ]
  },
  {
   "cell_type": "code",
   "execution_count": 62,
   "id": "f5fb9881-5752-42ac-8b01-2531402422dc",
   "metadata": {},
   "outputs": [
    {
     "data": {
      "text/plain": [
       "(array([1., 0., 0., 0., 0., 3., 3., 7., 4., 2.]),\n",
       " array([ 0. ,  1.2,  2.4,  3.6,  4.8,  6. ,  7.2,  8.4,  9.6, 10.8, 12. ]),\n",
       " <BarContainer object of 10 artists>)"
      ]
     },
     "execution_count": 62,
     "metadata": {},
     "output_type": "execute_result"
    },
    {
     "data": {
      "image/png": "[encoded data removed]",
      "text/plain": [
       "<Figure size 640x480 with 1 Axes>"
      ]
     },
     "metadata": {},
     "output_type": "display_data"
    }
   ],
   "source": [
    "# Create a histogram\n",
    "import matplotlib.pyplot\n",
    "matplotlib.pyplot.hist(ages)"
   ]
  },
  {
   "cell_type": "code",
   "execution_count": 63,
   "id": "659978ee-eb0b-4849-8aee-988e79155883",
   "metadata": {},
   "outputs": [
    {
     "data": {
      "text/html": [
       "<div>\n",
       "<style scoped>\n",
       "    .dataframe tbody tr th:only-of-type {\n",
       "        vertical-align: middle;\n",
       "    }\n",
       "\n",
       "    .dataframe tbody tr th {\n",
       "        vertical-align: top;\n",
       "    }\n",
       "\n",
       "    .dataframe thead th {\n",
       "        text-align: right;\n",
       "    }\n",
       "</style>\n",
       "<table border=\"1\" class=\"dataframe\">\n",
       "  <thead>\n",
       "    <tr style=\"text-align: right;\">\n",
       "      <th></th>\n",
       "    </tr>\n",
       "  </thead>\n",
       "  <tbody>\n",
       "  </tbody>\n",
       "</table>\n",
       "</div>"
      ],
      "text/plain": [
       "Empty DataFrame\n",
       "Columns: []\n",
       "Index: []"
      ]
     },
     "execution_count": 63,
     "metadata": {},
     "output_type": "execute_result"
    }
   ],
   "source": [
    "Students = pd.DataFrame()\n",
    "Students"
   ]
  },
  {
   "cell_type": "code",
   "execution_count": 64,
   "id": "f72f40fa-5128-4d93-8751-0c28ca614260",
   "metadata": {},
   "outputs": [
    {
     "data": {
      "text/html": [
       "<div>\n",
       "<style scoped>\n",
       "    .dataframe tbody tr th:only-of-type {\n",
       "        vertical-align: middle;\n",
       "    }\n",
       "\n",
       "    .dataframe tbody tr th {\n",
       "        vertical-align: top;\n",
       "    }\n",
       "\n",
       "    .dataframe thead th {\n",
       "        text-align: right;\n",
       "    }\n",
       "</style>\n",
       "<table border=\"1\" class=\"dataframe\">\n",
       "  <thead>\n",
       "    <tr style=\"text-align: right;\">\n",
       "      <th></th>\n",
       "      <th>ages</th>\n",
       "      <th>Grade</th>\n",
       "    </tr>\n",
       "  </thead>\n",
       "  <tbody>\n",
       "    <tr>\n",
       "      <th>0</th>\n",
       "      <td>9</td>\n",
       "      <td>4</td>\n",
       "    </tr>\n",
       "    <tr>\n",
       "      <th>1</th>\n",
       "      <td>9</td>\n",
       "      <td>3</td>\n",
       "    </tr>\n",
       "    <tr>\n",
       "      <th>2</th>\n",
       "      <td>10</td>\n",
       "      <td>4</td>\n",
       "    </tr>\n",
       "    <tr>\n",
       "      <th>3</th>\n",
       "      <td>8</td>\n",
       "      <td>3</td>\n",
       "    </tr>\n",
       "    <tr>\n",
       "      <th>4</th>\n",
       "      <td>12</td>\n",
       "      <td>6</td>\n",
       "    </tr>\n",
       "    <tr>\n",
       "      <th>5</th>\n",
       "      <td>10</td>\n",
       "      <td>5</td>\n",
       "    </tr>\n",
       "    <tr>\n",
       "      <th>6</th>\n",
       "      <td>7</td>\n",
       "      <td>2</td>\n",
       "    </tr>\n",
       "    <tr>\n",
       "      <th>7</th>\n",
       "      <td>8</td>\n",
       "      <td>3</td>\n",
       "    </tr>\n",
       "    <tr>\n",
       "      <th>8</th>\n",
       "      <td>10</td>\n",
       "      <td>5</td>\n",
       "    </tr>\n",
       "    <tr>\n",
       "      <th>9</th>\n",
       "      <td>8</td>\n",
       "      <td>3</td>\n",
       "    </tr>\n",
       "    <tr>\n",
       "      <th>10</th>\n",
       "      <td>0</td>\n",
       "      <td>1</td>\n",
       "    </tr>\n",
       "    <tr>\n",
       "      <th>11</th>\n",
       "      <td>9</td>\n",
       "      <td>4</td>\n",
       "    </tr>\n",
       "    <tr>\n",
       "      <th>12</th>\n",
       "      <td>7</td>\n",
       "      <td>2</td>\n",
       "    </tr>\n",
       "    <tr>\n",
       "      <th>13</th>\n",
       "      <td>9</td>\n",
       "      <td>5</td>\n",
       "    </tr>\n",
       "    <tr>\n",
       "      <th>14</th>\n",
       "      <td>10</td>\n",
       "      <td>6</td>\n",
       "    </tr>\n",
       "    <tr>\n",
       "      <th>15</th>\n",
       "      <td>9</td>\n",
       "      <td>4</td>\n",
       "    </tr>\n",
       "    <tr>\n",
       "      <th>16</th>\n",
       "      <td>6</td>\n",
       "      <td>1</td>\n",
       "    </tr>\n",
       "    <tr>\n",
       "      <th>17</th>\n",
       "      <td>9</td>\n",
       "      <td>4</td>\n",
       "    </tr>\n",
       "    <tr>\n",
       "      <th>18</th>\n",
       "      <td>9</td>\n",
       "      <td>2</td>\n",
       "    </tr>\n",
       "    <tr>\n",
       "      <th>19</th>\n",
       "      <td>11</td>\n",
       "      <td>6</td>\n",
       "    </tr>\n",
       "  </tbody>\n",
       "</table>\n",
       "</div>"
      ],
      "text/plain": [
       "    ages  Grade\n",
       "0      9      4\n",
       "1      9      3\n",
       "2     10      4\n",
       "3      8      3\n",
       "4     12      6\n",
       "5     10      5\n",
       "6      7      2\n",
       "7      8      3\n",
       "8     10      5\n",
       "9      8      3\n",
       "10     0      1\n",
       "11     9      4\n",
       "12     7      2\n",
       "13     9      5\n",
       "14    10      6\n",
       "15     9      4\n",
       "16     6      1\n",
       "17     9      4\n",
       "18     9      2\n",
       "19    11      6"
      ]
     },
     "execution_count": 64,
     "metadata": {},
     "output_type": "execute_result"
    }
   ],
   "source": [
    "# Add columns to the data frame (table)\n",
    "Students['ages'] = ages\n",
    "Students['Grade'] = [4, 3, 4, 3, 6, 5, 2, 3, 5, 3, 1, 4, 2, 5, 6, 4, 1, 4, 2, 6]\n",
    "Students"
   ]
  },
  {
   "cell_type": "code",
   "execution_count": 65,
   "id": "4237a1a9-6e8a-4b1d-b683-adccb46616d5",
   "metadata": {},
   "outputs": [
    {
     "data": {
      "text/html": [
       "<div>\n",
       "<style scoped>\n",
       "    .dataframe tbody tr th:only-of-type {\n",
       "        vertical-align: middle;\n",
       "    }\n",
       "\n",
       "    .dataframe tbody tr th {\n",
       "        vertical-align: top;\n",
       "    }\n",
       "\n",
       "    .dataframe thead th {\n",
       "        text-align: right;\n",
       "    }\n",
       "</style>\n",
       "<table border=\"1\" class=\"dataframe\">\n",
       "  <thead>\n",
       "    <tr style=\"text-align: right;\">\n",
       "      <th></th>\n",
       "      <th>ages</th>\n",
       "      <th>Grade</th>\n",
       "    </tr>\n",
       "  </thead>\n",
       "  <tbody>\n",
       "    <tr>\n",
       "      <th>ages</th>\n",
       "      <td>1.000000</td>\n",
       "      <td>0.792809</td>\n",
       "    </tr>\n",
       "    <tr>\n",
       "      <th>Grade</th>\n",
       "      <td>0.792809</td>\n",
       "      <td>1.000000</td>\n",
       "    </tr>\n",
       "  </tbody>\n",
       "</table>\n",
       "</div>"
      ],
      "text/plain": [
       "           ages     Grade\n",
       "ages   1.000000  0.792809\n",
       "Grade  0.792809  1.000000"
      ]
     },
     "execution_count": 65,
     "metadata": {},
     "output_type": "execute_result"
    }
   ],
   "source": [
    "# Determine the correlation coefficient between the two columns\n",
    "Students.corr()"
   ]
  },
  {
   "cell_type": "code",
   "execution_count": null,
   "id": "7f0a7c4c-322f-4d87-bb4b-e21bd82d0e3f",
   "metadata": {},
   "outputs": [],
   "source": []
  }
 ],
 "metadata": {
  "kernelspec": {
   "display_name": "work",
   "language": "python",
   "name": "python3"
  },
  "language_info": {
   "codemirror_mode": {
    "name": "ipython",
    "version": 3
   },
   "file_extension": ".py",
   "mimetype": "text/x-python",
   "name": "python",
   "nbconvert_exporter": "python",
   "pygments_lexer": "ipython3",
   "version": "3.12.7"
  }
 },
 "nbformat": 4,
 "nbformat_minor": 5
}
