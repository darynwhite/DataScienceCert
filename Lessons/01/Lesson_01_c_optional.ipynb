{
 "cells": [
  {
   "cell_type": "markdown",
   "id": "b6eb29b5-cab8-46a2-97e6-41abb2300af8",
   "metadata": {},
   "source": [
    "# DataStructures\n",
    "Copyright © 2023 by Ernst Henle"
   ]
  },
  {
   "cell_type": "markdown",
   "id": "d41dd4b7-36db-45c1-8553-7d76f5ac2057",
   "metadata": {},
   "source": [
    "## DataStructures (built-in, primitive, scalar)"
   ]
  },
  {
   "cell_type": "code",
   "execution_count": null,
   "id": "11251b36-56e2-4862-8949-1ff82c7f591b",
   "metadata": {},
   "outputs": [],
   "source": [
    "int # e.g. 23, 0 and -17"
   ]
  },
  {
   "cell_type": "code",
   "execution_count": null,
   "id": "5972d327-bafb-4de5-b471-a0e677e900de",
   "metadata": {},
   "outputs": [],
   "source": [
    "30 + 10 # an integer operation"
   ]
  },
  {
   "cell_type": "code",
   "execution_count": null,
   "id": "35e23a82-c56a-451d-8df3-ceb8731ec1d9",
   "metadata": {},
   "outputs": [],
   "source": [
    "type(40)"
   ]
  },
  {
   "cell_type": "code",
   "execution_count": null,
   "id": "7f759863-ba2c-4bbc-9393-05d5cfa2c033",
   "metadata": {},
   "outputs": [],
   "source": [
    "float # e.g. -0.001 and 1.23e15"
   ]
  },
  {
   "cell_type": "code",
   "execution_count": null,
   "id": "2ded9fac-cbc1-4774-9d4c-9e54d907cb67",
   "metadata": {},
   "outputs": [],
   "source": [
    "1.8e2/4.5 # a floating point operation"
   ]
  },
  {
   "cell_type": "code",
   "execution_count": null,
   "id": "3edb099a-d5d3-4155-a837-1090c277d56f",
   "metadata": {},
   "outputs": [],
   "source": [
    "type(40.0)"
   ]
  },
  {
   "cell_type": "code",
   "execution_count": null,
   "id": "d8cf34d6-c483-4794-b26b-ea6e4ddb9ffc",
   "metadata": {},
   "outputs": [],
   "source": [
    "float('nan')"
   ]
  },
  {
   "cell_type": "code",
   "execution_count": null,
   "id": "baf6a406-444c-4deb-b706-34eb7d1db1a9",
   "metadata": {},
   "outputs": [],
   "source": [
    "float('inf')"
   ]
  },
  {
   "cell_type": "code",
   "execution_count": null,
   "id": "67b8f2e6-07c9-4c79-9fd5-55376417ecc9",
   "metadata": {},
   "outputs": [],
   "source": [
    "float('-inf')"
   ]
  },
  {
   "cell_type": "code",
   "execution_count": null,
   "id": "5be33cb3-8f59-476c-b551-f8695a5ee280",
   "metadata": {},
   "outputs": [],
   "source": [
    "bool # i.e. True and False"
   ]
  },
  {
   "cell_type": "code",
   "execution_count": null,
   "id": "a360e4ff-5a06-466e-be3d-7259b411678b",
   "metadata": {},
   "outputs": [],
   "source": [
    "1 == 0 # Boolean operation"
   ]
  },
  {
   "cell_type": "code",
   "execution_count": null,
   "id": "6b5ede69-d950-4db2-bbde-21fde93f391e",
   "metadata": {},
   "outputs": [],
   "source": [
    "type(1 == 0)"
   ]
  },
  {
   "cell_type": "code",
   "execution_count": null,
   "id": "02c69a03-bef8-4bb3-8715-bafcfa68d4f9",
   "metadata": {},
   "outputs": [],
   "source": [
    "1.0 + False"
   ]
  },
  {
   "cell_type": "code",
   "execution_count": null,
   "id": "2c99166c-b0cf-4874-be0d-84f614a0b667",
   "metadata": {},
   "outputs": [],
   "source": [
    "3 - True"
   ]
  },
  {
   "cell_type": "code",
   "execution_count": null,
   "id": "00c868b4-5215-4767-a3a0-fd8a22498ab3",
   "metadata": {},
   "outputs": [],
   "source": [
    "str # e.g. \"hello\", \"?\", and \"1\""
   ]
  },
  {
   "cell_type": "code",
   "execution_count": null,
   "id": "9d4c4834-3297-4079-9b48-b6266389bac3",
   "metadata": {},
   "outputs": [],
   "source": [
    "\"lies, damn lies,\" + \" and statistics\" # String operation"
   ]
  },
  {
   "cell_type": "code",
   "execution_count": null,
   "id": "aa939359-30af-45cb-85bd-d7b9c358eeea",
   "metadata": {},
   "outputs": [],
   "source": [
    "type('lies, damn lies, and statistics')"
   ]
  },
  {
   "cell_type": "code",
   "execution_count": null,
   "id": "dd271b51-3a78-43e2-89f6-9b7cdbd99b3f",
   "metadata": {},
   "outputs": [],
   "source": [
    "#Cast an int to a string\n",
    "str(1) + str(1)"
   ]
  },
  {
   "cell_type": "code",
   "execution_count": null,
   "id": "3de543f0-8834-413e-aeb2-bb62402b6e64",
   "metadata": {},
   "outputs": [],
   "source": [
    "# Cast a string to an int\n",
    "int('1') + int ('1')"
   ]
  },
  {
   "cell_type": "markdown",
   "id": "692c06d9-a7d7-4497-b305-8bc2b96105e0",
   "metadata": {},
   "source": [
    "## More on Data Types"
   ]
  },
  {
   "cell_type": "code",
   "execution_count": null,
   "id": "448f6c45-cd6f-444b-9f3b-6931791e7519",
   "metadata": {},
   "outputs": [],
   "source": [
    "# Create an integer\n",
    "x = 7\n",
    "\n",
    "# Determine the data type of x\n",
    "type(x)"
   ]
  },
  {
   "cell_type": "code",
   "execution_count": null,
   "id": "74bbaa4e-919f-4718-9b18-887fc66bcde6",
   "metadata": {},
   "outputs": [],
   "source": [
    "# Add 3 to x\n",
    "x + 3"
   ]
  },
  {
   "cell_type": "code",
   "execution_count": null,
   "id": "6294d33c-a384-4c51-ab22-199e53bba38a",
   "metadata": {},
   "outputs": [],
   "source": [
    "# Create a float\n",
    "x = 7.0\n",
    "\n",
    "# Determine the data type of x\n",
    "type(x)"
   ]
  },
  {
   "cell_type": "code",
   "execution_count": null,
   "id": "a032fe35-e61d-47f1-81f4-9899156efd63",
   "metadata": {},
   "outputs": [],
   "source": [
    "# Add 3 to x\n",
    "x + 3.0"
   ]
  },
  {
   "cell_type": "code",
   "execution_count": null,
   "id": "0c042ed8-59ff-437f-af1d-e14ec76c4a9a",
   "metadata": {},
   "outputs": [],
   "source": [
    "# Add a float, an integer, and a Boolean\n",
    "7 + 3.0 + True"
   ]
  },
  {
   "cell_type": "code",
   "execution_count": null,
   "id": "17f81cb1-213f-4081-90d5-6766936ff507",
   "metadata": {},
   "outputs": [],
   "source": [
    "# Create a string\n",
    "x = \"a\"\n",
    "\n",
    "# Determine the data type of x\n",
    "type(x)"
   ]
  },
  {
   "cell_type": "code",
   "execution_count": null,
   "id": "e3d07bdd-e0a4-4b71-8eb6-5be2b6b0e7a3",
   "metadata": {},
   "outputs": [],
   "source": [
    "# Add b to x\n",
    "x + \"b\""
   ]
  },
  {
   "cell_type": "code",
   "execution_count": null,
   "id": "6a2d1487-67f0-473c-ae5c-2565e730a451",
   "metadata": {},
   "outputs": [],
   "source": [
    "# Try to add 3 to a string\n",
    "x + 3"
   ]
  },
  {
   "cell_type": "code",
   "execution_count": null,
   "id": "8d8591fd-facf-4883-82c1-edf334fcf4b1",
   "metadata": {},
   "outputs": [],
   "source": [
    "# Create a string\n",
    "x = \"7\"\n",
    "\n",
    "# Determine the data type of x\n",
    "type(x)"
   ]
  },
  {
   "cell_type": "code",
   "execution_count": null,
   "id": "688977c0-b580-45e0-8606-24935760689b",
   "metadata": {},
   "outputs": [],
   "source": [
    "# If we try to add 3 to x, we will get an error\n",
    "x + 3"
   ]
  },
  {
   "cell_type": "code",
   "execution_count": null,
   "id": "e3ec234d-14e9-49ff-8863-32b20459ee40",
   "metadata": {},
   "outputs": [],
   "source": [
    "# Add \"3\" to x\n",
    "x + \"3\""
   ]
  },
  {
   "cell_type": "markdown",
   "id": "d29a4c53-d707-491b-8be3-a844227ea27d",
   "metadata": {},
   "source": [
    "## DataStructures (built-in, multi-dimensional)\n",
    "Documentation on lists and other data structures\n",
    "https://docs.python.org/3/tutorial/datastructures.html"
   ]
  },
  {
   "cell_type": "code",
   "execution_count": null,
   "id": "a632fd62-f610-490b-9a3e-9fc44472f9c0",
   "metadata": {},
   "outputs": [],
   "source": [
    "list"
   ]
  },
  {
   "cell_type": "code",
   "execution_count": null,
   "id": "260375e6-d0ed-4a85-bafa-8754eb6832b7",
   "metadata": {},
   "outputs": [],
   "source": [
    "City = ['USA', 704] # List can have mixed types\n",
    "type(City)"
   ]
  },
  {
   "cell_type": "code",
   "execution_count": null,
   "id": "aab87c62-b0de-463f-a047-a2cca63b3d42",
   "metadata": {},
   "outputs": [],
   "source": [
    "City.append('Seattle')\n",
    "City"
   ]
  },
  {
   "cell_type": "code",
   "execution_count": null,
   "id": "680d19c8-6cb5-400d-be8f-56a34b719bee",
   "metadata": {},
   "outputs": [],
   "source": [
    "City[1]"
   ]
  },
  {
   "cell_type": "code",
   "execution_count": null,
   "id": "269e45d6-49ea-4c7a-84cd-73f4b3dcf248",
   "metadata": {},
   "outputs": [],
   "source": [
    "# Equal-length lists in a list create a rectangular strucure\n",
    "Name = ['Seattle', 'San Jose', 'San Jose', 'La Paz', 'La Paz']\n",
    "Country = ['USA', 'USA', 'Costa Rica', 'Mexico', 'Bolivia']\n",
    "Population = [704, 1030, 333, 265, 757]\n",
    "Cities = [Name, Country, Population]\n",
    "Cities"
   ]
  },
  {
   "cell_type": "code",
   "execution_count": null,
   "id": "1c7b877c-a79d-43c9-8b57-1a8b8937e002",
   "metadata": {},
   "outputs": [],
   "source": [
    "Cities[2][3]"
   ]
  },
  {
   "cell_type": "code",
   "execution_count": null,
   "id": "8849c3fe-f1e1-4c6e-a2bf-6231bc13fcc6",
   "metadata": {},
   "outputs": [],
   "source": [
    "dict"
   ]
  },
  {
   "cell_type": "code",
   "execution_count": null,
   "id": "1d9d8fba-116f-4eeb-acf8-5633654cc82c",
   "metadata": {},
   "outputs": [],
   "source": [
    "CityNamesByCountry = {'USA':['Seattle', 'San Jose'], 'Costa Rica':'San Jose', 'Mexico':'Oaxaca'}\n",
    "type(CityNamesByCountry) # dict"
   ]
  },
  {
   "cell_type": "code",
   "execution_count": null,
   "id": "d4882bda-8808-4540-b09d-7d19e1ec1ea4",
   "metadata": {},
   "outputs": [],
   "source": [
    "CityNamesByCountry"
   ]
  },
  {
   "cell_type": "code",
   "execution_count": null,
   "id": "c2844d88-9865-4eb7-8cdd-db0a6093c90c",
   "metadata": {},
   "outputs": [],
   "source": [
    "CityNamesByCountry['USA']"
   ]
  },
  {
   "cell_type": "code",
   "execution_count": null,
   "id": "07a766f2-bdc5-4c11-b32a-c4a41fb00183",
   "metadata": {},
   "outputs": [],
   "source": [
    "CityNamesByCountry['Mexico'] = 'La Paz'\n",
    "CityNamesByCountry['Bolivia'] = 'La Paz'\n",
    "CityNamesByCountry"
   ]
  },
  {
   "cell_type": "code",
   "execution_count": null,
   "id": "2baad74e-9f92-412a-8db8-25956ac4bc09",
   "metadata": {},
   "outputs": [],
   "source": [
    "list(CityNamesByCountry.keys())"
   ]
  },
  {
   "cell_type": "code",
   "execution_count": null,
   "id": "9df0b1f6-c322-41ea-be2c-f7f0e0493c58",
   "metadata": {},
   "outputs": [],
   "source": [
    "list(CityNamesByCountry.values())"
   ]
  },
  {
   "cell_type": "code",
   "execution_count": null,
   "id": "d4bc9add-4f4f-45f9-83c8-dc6c6d774c95",
   "metadata": {},
   "outputs": [],
   "source": [
    "list(CityNamesByCountry.items())"
   ]
  },
  {
   "cell_type": "code",
   "execution_count": null,
   "id": "8f8ac5ed-2087-4c68-8d90-699df49a7cde",
   "metadata": {},
   "outputs": [],
   "source": [
    "'CostaRica' in CityNamesByCountry"
   ]
  },
  {
   "cell_type": "code",
   "execution_count": null,
   "id": "2ad0dd1e-f538-4756-bdae-11e7aa2e9a64",
   "metadata": {},
   "outputs": [],
   "source": [
    "'Costa Rica' in CityNamesByCountry"
   ]
  },
  {
   "cell_type": "code",
   "execution_count": null,
   "id": "f15f7f97-2fd9-4970-b0d8-ec9d90daede5",
   "metadata": {},
   "outputs": [],
   "source": [
    "'LaPaz' in CityNamesByCountry.values()"
   ]
  },
  {
   "cell_type": "code",
   "execution_count": null,
   "id": "bcb15104-cf80-4d8a-b747-f18de2c2e846",
   "metadata": {},
   "outputs": [],
   "source": [
    "'La Paz' in CityNamesByCountry.values()"
   ]
  },
  {
   "cell_type": "code",
   "execution_count": null,
   "id": "d72737a1-99f8-4a93-b2c0-5122e6d46bf2",
   "metadata": {},
   "outputs": [],
   "source": [
    "CountryByCityNames = {'Seattle':'USA', 'San Jose':['USA', 'Costa Rica'], 'La Paz':['Bolivia', 'Mexico']}\n",
    "CountryByCityNames"
   ]
  },
  {
   "cell_type": "code",
   "execution_count": null,
   "id": "da42c9f3-8100-4f19-b7cd-06b4335ee7b6",
   "metadata": {},
   "outputs": [],
   "source": [
    "# Verify that the same information is here\n",
    "Cities"
   ]
  },
  {
   "cell_type": "markdown",
   "id": "72905683-ec26-4abd-b6e7-a25bc8992aa0",
   "metadata": {},
   "source": [
    "## DataStructures (imported, multi-dimensional)"
   ]
  },
  {
   "cell_type": "code",
   "execution_count": null,
   "id": "353fa20d-f5fe-4233-8a2f-87e3a25ebd80",
   "metadata": {},
   "outputs": [],
   "source": [
    "import numpy as np # make numpy package usable\n",
    "import pandas as pd # make pandas package usable"
   ]
  },
  {
   "cell_type": "code",
   "execution_count": null,
   "id": "8183d693-0115-4ef6-b1ce-c4cda51eee65",
   "metadata": {},
   "outputs": [],
   "source": [
    "# Create an array of integers\n",
    "x = np.array([5, -7, 1, 1, 99])\n",
    "\n",
    "# Determine the data type of x\n",
    "type(x)"
   ]
  },
  {
   "cell_type": "code",
   "execution_count": null,
   "id": "1bccf259-9ea9-4745-a0cd-3260bea4bf69",
   "metadata": {},
   "outputs": [],
   "source": [
    "# Find out the data type for the elements in the array\n",
    "x.dtype.name"
   ]
  },
  {
   "cell_type": "code",
   "execution_count": null,
   "id": "939cc0c1-e00c-4346-b83b-7705a2fb08e0",
   "metadata": {},
   "outputs": [],
   "source": [
    "# If we can add 3 to this array.\n",
    "x + 3"
   ]
  },
  {
   "cell_type": "code",
   "execution_count": null,
   "id": "3efb9e72-fed1-4a50-89bf-82705916978d",
   "metadata": {},
   "outputs": [],
   "source": [
    "# Create an array of strings\n",
    "x = np.array([\"abc\", \"\", \" \", \"?\", \"7\"])"
   ]
  },
  {
   "cell_type": "code",
   "execution_count": null,
   "id": "3608c947-4d83-4819-958f-0d42ba889707",
   "metadata": {},
   "outputs": [],
   "source": [
    "# Determine the data type of x\n",
    "type(x)"
   ]
  },
  {
   "cell_type": "code",
   "execution_count": null,
   "id": "80c2b9e5-7cf9-4fcf-a20e-5063eda6a20b",
   "metadata": {},
   "outputs": [],
   "source": [
    "# Find out the data type for the elements in the array\n",
    "x.dtype.name"
   ]
  },
  {
   "cell_type": "code",
   "execution_count": null,
   "id": "f9003aea-6a58-43c4-8790-098cf2bb4888",
   "metadata": {},
   "outputs": [],
   "source": [
    "# If we try to add 3 to this array of strings we will get a TypeError.\n",
    "x + 3"
   ]
  },
  {
   "cell_type": "code",
   "execution_count": null,
   "id": "3f10f0f7-258a-4b23-a29d-e6a9675e71f5",
   "metadata": {},
   "outputs": [],
   "source": [
    "# Create array of ages\n",
    "ageList = [9, 9, 10, 8, 12, 10, 7, 8, 10, 8, 0, 9, 7, 9, 10, 9, 6, 9, 9, 11]\n",
    "ages = np.array(ageList)\n",
    "ages.std()"
   ]
  },
  {
   "cell_type": "code",
   "execution_count": null,
   "id": "1490408d-2d88-43e2-9919-0218e8b2df1e",
   "metadata": {},
   "outputs": [],
   "source": [
    "# Cannot assign a string to a numeric array\n",
    "ages[0] = 'a'"
   ]
  },
  {
   "cell_type": "code",
   "execution_count": null,
   "id": "f5fb9881-5752-42ac-8b01-2531402422dc",
   "metadata": {},
   "outputs": [],
   "source": [
    "# Create a histogram\n",
    "import matplotlib.pyplot\n",
    "matplotlib.pyplot.hist(ages)"
   ]
  },
  {
   "cell_type": "code",
   "execution_count": null,
   "id": "659978ee-eb0b-4849-8aee-988e79155883",
   "metadata": {},
   "outputs": [],
   "source": [
    "Students = pd.DataFrame()\n",
    "Students"
   ]
  },
  {
   "cell_type": "code",
   "execution_count": null,
   "id": "f72f40fa-5128-4d93-8751-0c28ca614260",
   "metadata": {},
   "outputs": [],
   "source": [
    "# Add columns to the data frame (table)\n",
    "Students['ages'] = ages\n",
    "Students['Grade'] = [4, 3, 4, 3, 6, 5, 2, 3, 5, 3, 1, 4, 2, 5, 6, 4, 1, 4, 2, 6]\n",
    "Students"
   ]
  },
  {
   "cell_type": "code",
   "execution_count": null,
   "id": "4237a1a9-6e8a-4b1d-b683-adccb46616d5",
   "metadata": {},
   "outputs": [],
   "source": [
    "# Determine the correlation coefficient between the two columns\n",
    "Students.corr()"
   ]
  },
  {
   "cell_type": "code",
   "execution_count": null,
   "id": "7f0a7c4c-322f-4d87-bb4b-e21bd82d0e3f",
   "metadata": {},
   "outputs": [],
   "source": []
  }
 ],
 "metadata": {
  "kernelspec": {
   "display_name": "Python 3 (ipykernel)",
   "language": "python",
   "name": "python3"
  },
  "language_info": {
   "codemirror_mode": {
    "name": "ipython",
    "version": 3
   },
   "file_extension": ".py",
   "mimetype": "text/x-python",
   "name": "python",
   "nbconvert_exporter": "python",
   "pygments_lexer": "ipython3",
   "version": "3.9.7"
  }
 },
 "nbformat": 4,
 "nbformat_minor": 5
}
