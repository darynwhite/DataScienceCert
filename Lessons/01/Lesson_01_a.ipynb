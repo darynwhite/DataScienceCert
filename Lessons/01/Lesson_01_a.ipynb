{
 "cells": [
  {
   "cell_type": "markdown",
   "id": "ae7b9312-d2f6-4031-a838-578cacd88ab0",
   "metadata": {},
   "source": [
    "# Jupyter Notebook Exercise\n",
    "Copyright © 2022 by Ernst Henle"
   ]
  },
  {
   "cell_type": "markdown",
   "id": "c19dfd67-d745-4640-8b09-7be3a70beffd",
   "metadata": {},
   "source": [
    "Read me!  \n",
    "The purpose of this exercise is to familiarize yourself with the way Jupyter notebooks are used.  Some of the cells below are titled \"Copy and run!\". \"Copy and run!\" means copy the highlighted code from a markdown cell into a code cell and run it. In other words, create a new cell using `Insert` (the plus sign \"+\") from the ribbon above.  And then, copy the code (e.g. 2 + 3) into the new cell. Finally, press `Run` (the triangle play button) from the ribbon above or use Ctrl-Enter to run the cell.  You should see the result (e.g. 5) below the new cell."
   ]
  },
  {
   "cell_type": "markdown",
   "id": "977f54b2-acd7-4b8e-8a03-438477bf32e0",
   "metadata": {},
   "source": [
    "Copy and run!  \n",
    "`2 + 3`"
   ]
  },
  {
   "cell_type": "markdown",
   "id": "7b95120a-9572-42d5-953f-72f1fc204710",
   "metadata": {},
   "source": [
    "Read me!  \n",
    "In Python, the characters following a hashmark (\"#\") in a coding cell are a comment.  Comments are not executed  "
   ]
  },
  {
   "cell_type": "markdown",
   "id": "ee51c160-c647-4a6d-b314-c51ca54afe57",
   "metadata": {},
   "source": [
    "Copy and run!  \n",
    "`2 + 3 # the characters following the hashmark are a comment`"
   ]
  },
  {
   "cell_type": "markdown",
   "id": "585327a9-f571-4042-828c-fbc74974a8c7",
   "metadata": {},
   "source": [
    "Read me!  \n",
    "In python we use packages of software.  These packages have useful functions.  Important data science packages are:  \n",
    "`numpy` for numerical stuff  \n",
    "`pandas` for tables aka dataframes  \n",
    "`matplotlib.pyplot` for plotting  \n",
    "`seaborn` for plotting  \n",
    "`sklearn` for machine learning"
   ]
  },
  {
   "cell_type": "markdown",
   "id": "0f074ad3-ba88-43af-b435-8eac96b06f9c",
   "metadata": {},
   "source": [
    "Copy and run!  \n",
    "`import numpy as np # this code means:  let me use the numpy functions and let me abbreviate numpy as np`  \n",
    "`np.exp(-1**2 / 2) / np.sqrt(2 * np.pi) # this code determines the height of a normal gaussian at 1 standard devciation`"
   ]
  },
  {
   "cell_type": "markdown",
   "id": "cf42b8cb-77e9-4710-beea-3a11acd6c53d",
   "metadata": {},
   "source": [
    "Copy and run!   \n",
    "`x = 2 # Assign a value to an object called x`"
   ]
  },
  {
   "cell_type": "markdown",
   "id": "d68c46dc-7187-4704-907e-8284110ab6e9",
   "metadata": {},
   "source": [
    "In computer science data types are very important, because the data type determines what you can do with the values"
   ]
  },
  {
   "cell_type": "markdown",
   "id": "e09ed9fe-f511-49c9-a7ef-366efbd7d4b9",
   "metadata": {},
   "source": [
    "Copy and run!  \n",
    "`type(x) # What type of variable is x?`"
   ]
  },
  {
   "cell_type": "markdown",
   "id": "950a118c-3291-41ab-9920-80b7671bd2ee",
   "metadata": {},
   "source": [
    "Copy and run!  \n",
    "`y = np.exp(-x**2 / 2) / np.sqrt(2 * np.pi) # determines the height of a normal gaussian at x standard devciations`  \n",
    "`print('x:',x)`  \n",
    "`print('y:',y)`"
   ]
  },
  {
   "cell_type": "markdown",
   "id": "f9b91648-2bb3-4e2b-8ba8-a2ca85472515",
   "metadata": {},
   "source": [
    "Copy and run!  \n",
    "`x = np.array([-2, -1.5, -1, -.5, 0, .5, 1, 1.5, 2]) # I want x and y to be many values not just a single value`"
   ]
  },
  {
   "cell_type": "markdown",
   "id": "f35ee46d-8c2e-4767-8d09-5af0528eef67",
   "metadata": {},
   "source": [
    "Copy and run!  \n",
    "`print('the data type of x is:', type(x)) # What type of variable is x?`  \n",
    "`print('x contains data of type:', x.dtype) # What kind of data is in x?`"
   ]
  },
  {
   "cell_type": "markdown",
   "id": "25186c76-91b1-472f-839e-e4648ffc3c09",
   "metadata": {},
   "source": [
    "Copy and run!  \n",
    "`y = np.exp(-x**2 / 2) / np.sqrt(2 * np.pi) # the values of a normal gaussian at all of x's values`"
   ]
  },
  {
   "cell_type": "markdown",
   "id": "f42c7959-279c-49ef-8ae6-539739a5c2e5",
   "metadata": {},
   "source": [
    "Copy and run!  \n",
    "`import matplotlib.pyplot as plt # import matplotlib.pyplot`  \n",
    "`# you need to run the following line to produce visualizations in a jupyter notebook`  \n",
    "`%matplotlib inline`  \n",
    "`plt.plot(x, y); # plot y vs x`"
   ]
  },
  {
   "cell_type": "markdown",
   "id": "f8416e83-7787-4769-9173-4b1c1a88cdc2",
   "metadata": {},
   "source": [
    "Copy and run!  \n",
    "`x = np.arange(start=-2.5, stop=2.6, step=0.1) # create 51 x values from -2.5 to 2.5 by steps of 0.1`   \n",
    "`y = np.exp(-x**2 / 2) / np.sqrt(2 * np.pi) # creatre a y value for each x value`  \n",
    "`plt.plot(x, y); # plot y vs x`"
   ]
  },
  {
   "cell_type": "code",
   "execution_count": null,
   "id": "f5318274-5935-44e4-b4c9-322552acc7c0",
   "metadata": {},
   "outputs": [],
   "source": []
  }
 ],
 "metadata": {
  "kernelspec": {
   "display_name": "Python 3 (ipykernel)",
   "language": "python",
   "name": "python3"
  },
  "language_info": {
   "codemirror_mode": {
    "name": "ipython",
    "version": 3
   },
   "file_extension": ".py",
   "mimetype": "text/x-python",
   "name": "python",
   "nbconvert_exporter": "python",
   "pygments_lexer": "ipython3",
   "version": "3.9.7"
  }
 },
 "nbformat": 4,
 "nbformat_minor": 5
}
