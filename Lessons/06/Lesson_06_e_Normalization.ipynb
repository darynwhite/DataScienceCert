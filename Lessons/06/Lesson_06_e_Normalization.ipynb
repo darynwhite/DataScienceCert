{
 "cells": [
  {
   "cell_type": "markdown",
   "id": "372d6331",
   "metadata": {},
   "source": [
    "## De-normalize\n",
    "\n",
    "Reverse a normalization for whenever you want to know the value in its original context.  For instance if we want to know the original value of something in normalized space.  Or, you want to know the original value at the 75th percentile.\n",
    " \n",
    "Remember that linear normalization applies this pattern: \n",
    "\n",
    "**`xNorm = (x - offset)/scale`** \n",
    "\n",
    "Where: \n",
    "- x is a numeric variable\n",
    "- offset shifts variable x lower or higher\n",
    "- scale, also called spread, re-scales variable x to a smaller or larger scale (spread)\n",
    "- xNorm is the normalized variable\n",
    "\n",
    "Reverse normalization or de-normalization is:  \n",
    "**`x = xNorm*scale + offset`**"
   ]
  },
  {
   "cell_type": "markdown",
   "id": "69ca10e0",
   "metadata": {},
   "source": [
    "We use the x1 variable from a previous example as our demonstration data.  "
   ]
  },
  {
   "cell_type": "code",
   "execution_count": 1,
   "id": "c2b4395f",
   "metadata": {},
   "outputs": [],
   "source": [
    "import numpy as np\n",
    "import pandas as pd\n",
    "\n",
    "# Variable 1\n",
    "sigma1 = 1\n",
    "mu1a = 3\n",
    "mu1b = 7\n",
    "x1 = np.array(15)\n",
    "x1 = np.append(x1, mu1a + sigma1*np.random.randn(100))\n",
    "x1 = np.append(x1, mu1b + sigma1*np.random.randn(50))\n",
    "x1 = x1.reshape(-1,1)"
   ]
  },
  {
   "cell_type": "markdown",
   "id": "34b87bd4",
   "metadata": {},
   "source": [
    "### The Variable is Normalized"
   ]
  },
  {
   "cell_type": "code",
   "execution_count": 2,
   "id": "ece5070c",
   "metadata": {
    "scrolled": true
   },
   "outputs": [],
   "source": [
    "# Z-Normalize the variable\n",
    "offset = np.mean(x1)\n",
    "scale = np.std(x1)\n",
    "xNorm = (x1 - offset)/scale"
   ]
  },
  {
   "cell_type": "code",
   "execution_count": 3,
   "id": "e950d5b4",
   "metadata": {},
   "outputs": [
    {
     "data": {
      "text/html": [
       "<div>\n",
       "<style scoped>\n",
       "    .dataframe tbody tr th:only-of-type {\n",
       "        vertical-align: middle;\n",
       "    }\n",
       "\n",
       "    .dataframe tbody tr th {\n",
       "        vertical-align: top;\n",
       "    }\n",
       "\n",
       "    .dataframe thead th {\n",
       "        text-align: right;\n",
       "    }\n",
       "</style>\n",
       "<table border=\"1\" class=\"dataframe\">\n",
       "  <thead>\n",
       "    <tr style=\"text-align: right;\">\n",
       "      <th></th>\n",
       "      <th>Normalization Method</th>\n",
       "      <th>Min</th>\n",
       "      <th>Max</th>\n",
       "      <th>Mean</th>\n",
       "      <th>Std</th>\n",
       "    </tr>\n",
       "  </thead>\n",
       "  <tbody>\n",
       "    <tr>\n",
       "      <th>0</th>\n",
       "      <td>Original</td>\n",
       "      <td>0.78</td>\n",
       "      <td>15.00</td>\n",
       "      <td>4.44</td>\n",
       "      <td>2.42</td>\n",
       "    </tr>\n",
       "    <tr>\n",
       "      <th>1</th>\n",
       "      <td>Z-Normalization</td>\n",
       "      <td>-1.51</td>\n",
       "      <td>4.37</td>\n",
       "      <td>-0.00</td>\n",
       "      <td>1.00</td>\n",
       "    </tr>\n",
       "  </tbody>\n",
       "</table>\n",
       "</div>"
      ],
      "text/plain": [
       "  Normalization Method   Min    Max  Mean   Std\n",
       "0             Original  0.78  15.00  4.44  2.42\n",
       "1      Z-Normalization -1.51   4.37 -0.00  1.00"
      ]
     },
     "execution_count": 3,
     "metadata": {},
     "output_type": "execute_result"
    }
   ],
   "source": [
    "# Compare distribution descriptions before and after normalization\n",
    "XScales = []\n",
    "XScales.append(['Original', np.min(x1), np.max(x1), np.mean(x1), np.std(x1)])\n",
    "XScales.append(['Z-Normalization', np.min(xNorm), np.max(xNorm), np.mean(xNorm), np.std(xNorm)])\n",
    "pd.DataFrame(data=XScales, columns=['Normalization Method', 'Min', 'Max', 'Mean', 'Std']).round(decimals=2)"
   ]
  },
  {
   "cell_type": "markdown",
   "id": "44a871ba",
   "metadata": {},
   "source": [
    "### The wrong way to de-normalize\n",
    "Get the offset and scale from the normalized variable and apply them to the de-normalization formula."
   ]
  },
  {
   "cell_type": "code",
   "execution_count": 4,
   "id": "b5721a70",
   "metadata": {},
   "outputs": [
    {
     "data": {
      "text/html": [
       "<div>\n",
       "<style scoped>\n",
       "    .dataframe tbody tr th:only-of-type {\n",
       "        vertical-align: middle;\n",
       "    }\n",
       "\n",
       "    .dataframe tbody tr th {\n",
       "        vertical-align: top;\n",
       "    }\n",
       "\n",
       "    .dataframe thead th {\n",
       "        text-align: right;\n",
       "    }\n",
       "</style>\n",
       "<table border=\"1\" class=\"dataframe\">\n",
       "  <thead>\n",
       "    <tr style=\"text-align: right;\">\n",
       "      <th></th>\n",
       "      <th>Normalization Method</th>\n",
       "      <th>Min</th>\n",
       "      <th>Max</th>\n",
       "      <th>Mean</th>\n",
       "      <th>Std</th>\n",
       "    </tr>\n",
       "  </thead>\n",
       "  <tbody>\n",
       "    <tr>\n",
       "      <th>0</th>\n",
       "      <td>Original</td>\n",
       "      <td>0.78</td>\n",
       "      <td>15.00</td>\n",
       "      <td>4.44</td>\n",
       "      <td>2.42</td>\n",
       "    </tr>\n",
       "    <tr>\n",
       "      <th>1</th>\n",
       "      <td>Z-Normalization</td>\n",
       "      <td>-1.51</td>\n",
       "      <td>4.37</td>\n",
       "      <td>-0.00</td>\n",
       "      <td>1.00</td>\n",
       "    </tr>\n",
       "    <tr>\n",
       "      <th>2</th>\n",
       "      <td>Wrong way De-normalized</td>\n",
       "      <td>-1.51</td>\n",
       "      <td>4.37</td>\n",
       "      <td>-0.00</td>\n",
       "      <td>1.00</td>\n",
       "    </tr>\n",
       "  </tbody>\n",
       "</table>\n",
       "</div>"
      ],
      "text/plain": [
       "      Normalization Method   Min    Max  Mean   Std\n",
       "0                 Original  0.78  15.00  4.44  2.42\n",
       "1          Z-Normalization -1.51   4.37 -0.00  1.00\n",
       "2  Wrong way De-normalized -1.51   4.37 -0.00  1.00"
      ]
     },
     "execution_count": 4,
     "metadata": {},
     "output_type": "execute_result"
    }
   ],
   "source": [
    "# Wrong De-normaliztion\n",
    "offset = np.mean(xNorm)\n",
    "scale = np.std(xNorm)\n",
    "x1_wrong = xNorm*np.std(xNorm) + np.mean(xNorm)\n",
    "\n",
    "XScales.append(['Wrong way De-normalized', np.min(xNorm), np.max(xNorm), np.mean(xNorm), np.std(xNorm)])\n",
    "pd.DataFrame(data=XScales, columns=['Normalization Method', 'Min', 'Max', 'Mean', 'Std']).round(decimals=2)"
   ]
  },
  {
   "cell_type": "markdown",
   "id": "3ce845a9",
   "metadata": {},
   "source": [
    "#### Why is above de-normalization attempt wrong?\n",
    "Compare the values of the distribution (min, mean, max, std) of this de-normalization attempt with the distribution of the original and the normalized variables.  \n",
    "- The de-normalized variable should be the same as the original variable, but it isn't.\n",
    "- The incorrect de-normalization is called a **trivial** normalization, because it did not change anything.\n",
    "  \n",
    "What are the values of the scale and offset of the incorrect de-normalization?"
   ]
  },
  {
   "cell_type": "markdown",
   "id": "3002e499",
   "metadata": {},
   "source": [
    "### Correct De-normalization\n",
    "Get the offset and scale from the original variable and apply them to the de-normalization formula"
   ]
  },
  {
   "cell_type": "code",
   "execution_count": 5,
   "id": "e3a95381",
   "metadata": {},
   "outputs": [
    {
     "data": {
      "text/html": [
       "<div>\n",
       "<style scoped>\n",
       "    .dataframe tbody tr th:only-of-type {\n",
       "        vertical-align: middle;\n",
       "    }\n",
       "\n",
       "    .dataframe tbody tr th {\n",
       "        vertical-align: top;\n",
       "    }\n",
       "\n",
       "    .dataframe thead th {\n",
       "        text-align: right;\n",
       "    }\n",
       "</style>\n",
       "<table border=\"1\" class=\"dataframe\">\n",
       "  <thead>\n",
       "    <tr style=\"text-align: right;\">\n",
       "      <th></th>\n",
       "      <th>Normalization Method</th>\n",
       "      <th>Min</th>\n",
       "      <th>Max</th>\n",
       "      <th>Mean</th>\n",
       "      <th>Std</th>\n",
       "    </tr>\n",
       "  </thead>\n",
       "  <tbody>\n",
       "    <tr>\n",
       "      <th>0</th>\n",
       "      <td>Original</td>\n",
       "      <td>0.78</td>\n",
       "      <td>15.00</td>\n",
       "      <td>4.44</td>\n",
       "      <td>2.42</td>\n",
       "    </tr>\n",
       "    <tr>\n",
       "      <th>1</th>\n",
       "      <td>Z-Normalization</td>\n",
       "      <td>-1.51</td>\n",
       "      <td>4.37</td>\n",
       "      <td>-0.00</td>\n",
       "      <td>1.00</td>\n",
       "    </tr>\n",
       "    <tr>\n",
       "      <th>2</th>\n",
       "      <td>Wrong way De-normalized</td>\n",
       "      <td>-1.51</td>\n",
       "      <td>4.37</td>\n",
       "      <td>-0.00</td>\n",
       "      <td>1.00</td>\n",
       "    </tr>\n",
       "    <tr>\n",
       "      <th>3</th>\n",
       "      <td>Correct way De-normalized</td>\n",
       "      <td>0.78</td>\n",
       "      <td>15.00</td>\n",
       "      <td>4.44</td>\n",
       "      <td>2.42</td>\n",
       "    </tr>\n",
       "  </tbody>\n",
       "</table>\n",
       "</div>"
      ],
      "text/plain": [
       "        Normalization Method   Min    Max  Mean   Std\n",
       "0                   Original  0.78  15.00  4.44  2.42\n",
       "1            Z-Normalization -1.51   4.37 -0.00  1.00\n",
       "2    Wrong way De-normalized -1.51   4.37 -0.00  1.00\n",
       "3  Correct way De-normalized  0.78  15.00  4.44  2.42"
      ]
     },
     "execution_count": 5,
     "metadata": {},
     "output_type": "execute_result"
    }
   ],
   "source": [
    "# Correct De-normilaztion\n",
    "offset = np.mean(x1)\n",
    "scale = np.std(x1)\n",
    "x1_correct = xNorm*scale + offset\n",
    "\n",
    "XScales.append(['Correct way De-normalized', np.min(x1_correct), np.max(x1_correct), np.mean(x1_correct), np.std(x1_correct)])\n",
    "pd.DataFrame(data=XScales, columns=['Normalization Method', 'Min', 'Max', 'Mean', 'Std']).round(decimals=2)"
   ]
  },
  {
   "cell_type": "markdown",
   "id": "218834f5",
   "metadata": {},
   "source": [
    "#### Why is this de-normalization attempt correct?\n",
    "We want the de-normalized variable to be the same as the original variable.  Therefore, we need to use the same parameters in the de-normalization formula that we used in the normalization formula.  The take-away lesson is:  It is important to remember the normalization parameters so that a result can be de-normalized.\n",
    "\n",
    "Compare the values of the distribution (min, mean, max, std) of this de-normalization attempt with the distribution of the original and the normalized variables.\n",
    "\n",
    "**sklearn**:  Sklearn normalization methods (MinMaxScaler, StandardScaler, RobustScaler) remember the normalization parameters for us and provides us with the tools to de-normalize."
   ]
  },
  {
   "cell_type": "code",
   "execution_count": 6,
   "id": "5eb7c797",
   "metadata": {},
   "outputs": [
    {
     "data": {
      "text/html": [
       "<div>\n",
       "<style scoped>\n",
       "    .dataframe tbody tr th:only-of-type {\n",
       "        vertical-align: middle;\n",
       "    }\n",
       "\n",
       "    .dataframe tbody tr th {\n",
       "        vertical-align: top;\n",
       "    }\n",
       "\n",
       "    .dataframe thead th {\n",
       "        text-align: right;\n",
       "    }\n",
       "</style>\n",
       "<table border=\"1\" class=\"dataframe\">\n",
       "  <thead>\n",
       "    <tr style=\"text-align: right;\">\n",
       "      <th></th>\n",
       "      <th>Transformation Method</th>\n",
       "      <th>Min</th>\n",
       "      <th>Max</th>\n",
       "      <th>Mean</th>\n",
       "      <th>Std</th>\n",
       "    </tr>\n",
       "  </thead>\n",
       "  <tbody>\n",
       "    <tr>\n",
       "      <th>0</th>\n",
       "      <td>Original</td>\n",
       "      <td>0.78</td>\n",
       "      <td>15.00</td>\n",
       "      <td>4.44</td>\n",
       "      <td>2.42</td>\n",
       "    </tr>\n",
       "    <tr>\n",
       "      <th>1</th>\n",
       "      <td>Z-Normalization</td>\n",
       "      <td>-1.51</td>\n",
       "      <td>4.37</td>\n",
       "      <td>-0.00</td>\n",
       "      <td>1.00</td>\n",
       "    </tr>\n",
       "    <tr>\n",
       "      <th>2</th>\n",
       "      <td>De-normalized</td>\n",
       "      <td>0.78</td>\n",
       "      <td>15.00</td>\n",
       "      <td>4.44</td>\n",
       "      <td>2.42</td>\n",
       "    </tr>\n",
       "  </tbody>\n",
       "</table>\n",
       "</div>"
      ],
      "text/plain": [
       "  Transformation Method   Min    Max  Mean   Std\n",
       "0              Original  0.78  15.00  4.44  2.42\n",
       "1       Z-Normalization -1.51   4.37 -0.00  1.00\n",
       "2         De-normalized  0.78  15.00  4.44  2.42"
      ]
     },
     "execution_count": 6,
     "metadata": {},
     "output_type": "execute_result"
    }
   ],
   "source": [
    "from sklearn.preprocessing import StandardScaler\n",
    "\n",
    "ZScaler = StandardScaler()\n",
    "ZScaler.fit(x1)\n",
    "ZScaled_x1 = ZScaler.transform(x1)\n",
    "DeNormalizedX1 = ZScaler.inverse_transform(ZScaled_x1)\n",
    "\n",
    "DeNormSkLearn = []\n",
    "DeNormSkLearn.append(['Original', np.min(x1), np.max(x1), np.mean(x1), np.std(x1)])\n",
    "DeNormSkLearn.append(['Z-Normalization', np.min(ZScaled_x1), np.max(ZScaled_x1), np.mean(ZScaled_x1), np.std(ZScaled_x1)])\n",
    "DeNormSkLearn.append(['De-normalized', np.min(DeNormalizedX1), np.max(DeNormalizedX1), np.mean(DeNormalizedX1), np.std(DeNormalizedX1)])\n",
    "pd.DataFrame(data=DeNormSkLearn, columns=['Transformation Method', 'Min', 'Max', 'Mean', 'Std']).round(decimals=2)"
   ]
  },
  {
   "cell_type": "code",
   "execution_count": null,
   "id": "bcbeb138",
   "metadata": {},
   "outputs": [],
   "source": []
  },
  {
   "cell_type": "code",
   "execution_count": null,
   "id": "4e5d7fd0-990a-482e-881a-a075e915bbd3",
   "metadata": {},
   "outputs": [],
   "source": []
  }
 ],
 "metadata": {
  "kernelspec": {
   "display_name": "Python 3 (ipykernel)",
   "language": "python",
   "name": "python3"
  },
  "language_info": {
   "codemirror_mode": {
    "name": "ipython",
    "version": 3
   },
   "file_extension": ".py",
   "mimetype": "text/x-python",
   "name": "python",
   "nbconvert_exporter": "python",
   "pygments_lexer": "ipython3",
   "version": "3.10.13"
  }
 },
 "nbformat": 4,
 "nbformat_minor": 5
}
