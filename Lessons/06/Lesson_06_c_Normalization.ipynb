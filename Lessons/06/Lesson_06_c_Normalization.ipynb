{
 "cells": [
  {
   "cell_type": "markdown",
   "id": "1ef4ee6e",
   "metadata": {},
   "source": [
    "## Use scikit-learn (sklearn) for Normalization\n",
    "Up to this point, we used numpy for all normalization calculations.  There are important benefits in using the normalization classes in `sklearn.preprocessing`.  We will demonstrate that normalization with `sklearn.preprocessing` generates the same results as numpy.  Also, we will see that normalization with `sklearn.preprocessing` allows us to remember the normalization parameters.  Here are some normalization classes from `sklearn`:\n",
    "- [**Z Normalization**](https://scikit-learn.org/stable/modules/generated/sklearn.preprocessing.StandardScaler.html)\n",
    "- [**Min-Max Normalization**](https://scikit-learn.org/stable/modules/generated/sklearn.preprocessing.MinMaxScaler.html)\n",
    "- [**Robust Normalization**](https://scikit-learn.org/stable/modules/generated/sklearn.preprocessing.RobustScaler.html)"
   ]
  },
  {
   "cell_type": "markdown",
   "id": "333f61a5",
   "metadata": {},
   "source": [
    "We use the x<sub>1</sub> variable from a previous example as our demonstration data.  "
   ]
  },
  {
   "cell_type": "code",
   "execution_count": 1,
   "id": "85f6e825",
   "metadata": {},
   "outputs": [],
   "source": [
    "import numpy as np\n",
    "import pandas as pd\n",
    "\n",
    "# Variable 1\n",
    "sigma1 = 1\n",
    "mu1a = 3\n",
    "mu1b = 7\n",
    "x1 = np.array(15)\n",
    "x1 = np.append(x1, mu1a + sigma1*np.random.randn(100))\n",
    "x1 = np.append(x1, mu1b + sigma1*np.random.randn(50))\n",
    "x1 = x1.reshape(-1,1)"
   ]
  },
  {
   "cell_type": "markdown",
   "id": "66a768a2",
   "metadata": {},
   "source": [
    "### Example using Standard Scaler\n",
    "We Z-normalize `x1` using `StandardScaler` from `sklearn.preprocessing`.  For comparison, we also Z-normalize `x1` using standard deviation and mean derived from numpy.  "
   ]
  },
  {
   "cell_type": "code",
   "execution_count": 2,
   "id": "73238a9b",
   "metadata": {},
   "outputs": [],
   "source": [
    "from sklearn.preprocessing import StandardScaler\n",
    "\n",
    "# Z-Normalize with scikit-learn\n",
    "ZScaler = StandardScaler()\n",
    "ZScaler.fit(x1)\n",
    "Z_sklearn = ZScaler.transform(x1)\n",
    "\n",
    "# Z-Normalize with numpy\n",
    "Z_numpy = (x1 - np.mean(x1))/np.std(x1) # np.std(x1) is scale; np.mean(x1) is offset"
   ]
  },
  {
   "cell_type": "markdown",
   "id": "35a291d1",
   "metadata": {},
   "source": [
    "#### Compare normalization parameters from scikit-learn with numpy\n",
    "- The `numpy` normalization parameters are: `np.mean(x1)`, `np.std(x1)`  \n",
    "- The sklearn normalization parameters are in the object (`ZScaler`) of the `StandardScaler` class: `ZScaler.mean_[0]`, `ZScaler.scale_[0]`"
   ]
  },
  {
   "cell_type": "code",
   "execution_count": 3,
   "id": "5a4a849d",
   "metadata": {},
   "outputs": [
    {
     "data": {
      "text/html": [
       "<div>\n",
       "<style scoped>\n",
       "    .dataframe tbody tr th:only-of-type {\n",
       "        vertical-align: middle;\n",
       "    }\n",
       "\n",
       "    .dataframe tbody tr th {\n",
       "        vertical-align: top;\n",
       "    }\n",
       "\n",
       "    .dataframe thead th {\n",
       "        text-align: right;\n",
       "    }\n",
       "</style>\n",
       "<table border=\"1\" class=\"dataframe\">\n",
       "  <thead>\n",
       "    <tr style=\"text-align: right;\">\n",
       "      <th></th>\n",
       "      <th>Normalization Method</th>\n",
       "      <th>Mean</th>\n",
       "      <th>Std</th>\n",
       "    </tr>\n",
       "  </thead>\n",
       "  <tbody>\n",
       "    <tr>\n",
       "      <th>0</th>\n",
       "      <td>numpy</td>\n",
       "      <td>4.404</td>\n",
       "      <td>2.406</td>\n",
       "    </tr>\n",
       "    <tr>\n",
       "      <th>1</th>\n",
       "      <td>sklearn StandardScaler</td>\n",
       "      <td>4.404</td>\n",
       "      <td>2.406</td>\n",
       "    </tr>\n",
       "  </tbody>\n",
       "</table>\n",
       "</div>"
      ],
      "text/plain": [
       "     Normalization Method   Mean    Std\n",
       "0                  numpy   4.404  2.406\n",
       "1  sklearn StandardScaler  4.404  2.406"
      ]
     },
     "metadata": {},
     "output_type": "display_data"
    }
   ],
   "source": [
    "# Compare normalization parameters from scikit-learn with numpy\n",
    "SkVsNumpyParams = []\n",
    "SkVsNumpyParams.append(['numpy ', np.mean(x1), np.std(x1)])\n",
    "SkVsNumpyParams.append(['sklearn StandardScaler', ZScaler.mean_[0], ZScaler.scale_[0]])\n",
    "display(pd.DataFrame(data=SkVsNumpyParams, columns=['Normalization Method', 'Mean', 'Std']).round(decimals=3))"
   ]
  },
  {
   "cell_type": "markdown",
   "id": "2cc1f6e5",
   "metadata": {},
   "source": [
    "Do the normalization parameters differ?"
   ]
  },
  {
   "cell_type": "markdown",
   "id": "92bc35d8",
   "metadata": {},
   "source": [
    "#### Compare results from the the scikit-learn normalization with the numpy normalization"
   ]
  },
  {
   "cell_type": "code",
   "execution_count": 4,
   "id": "ddc555df",
   "metadata": {},
   "outputs": [
    {
     "data": {
      "text/html": [
       "<div>\n",
       "<style scoped>\n",
       "    .dataframe tbody tr th:only-of-type {\n",
       "        vertical-align: middle;\n",
       "    }\n",
       "\n",
       "    .dataframe tbody tr th {\n",
       "        vertical-align: top;\n",
       "    }\n",
       "\n",
       "    .dataframe thead th {\n",
       "        text-align: right;\n",
       "    }\n",
       "</style>\n",
       "<table border=\"1\" class=\"dataframe\">\n",
       "  <thead>\n",
       "    <tr style=\"text-align: right;\">\n",
       "      <th></th>\n",
       "      <th>Normalization Method</th>\n",
       "      <th>Min</th>\n",
       "      <th>Max</th>\n",
       "      <th>Mean</th>\n",
       "      <th>Std</th>\n",
       "    </tr>\n",
       "  </thead>\n",
       "  <tbody>\n",
       "    <tr>\n",
       "      <th>0</th>\n",
       "      <td>sklearn StandardScaler</td>\n",
       "      <td>-1.536</td>\n",
       "      <td>4.404</td>\n",
       "      <td>0.0</td>\n",
       "      <td>1.0</td>\n",
       "    </tr>\n",
       "    <tr>\n",
       "      <th>1</th>\n",
       "      <td>(x - np.mean(x))/np.std(x)</td>\n",
       "      <td>-1.536</td>\n",
       "      <td>4.404</td>\n",
       "      <td>0.0</td>\n",
       "      <td>1.0</td>\n",
       "    </tr>\n",
       "  </tbody>\n",
       "</table>\n",
       "</div>"
      ],
      "text/plain": [
       "         Normalization Method    Min    Max  Mean  Std\n",
       "0      sklearn StandardScaler -1.536  4.404   0.0  1.0\n",
       "1  (x - np.mean(x))/np.std(x) -1.536  4.404   0.0  1.0"
      ]
     },
     "metadata": {},
     "output_type": "display_data"
    }
   ],
   "source": [
    "# Compare results from the the scikit-learn normalization with the numpy normalization\n",
    "SkVsNumpy = []\n",
    "SkVsNumpy.append(['sklearn StandardScaler', np.min(Z_sklearn), np.max(Z_sklearn), np.mean(Z_sklearn), np.std(Z_sklearn)])\n",
    "SkVsNumpy.append(['(x - np.mean(x))/np.std(x)', np.min(Z_numpy), np.max(Z_numpy), np.mean(Z_numpy), np.std(Z_numpy)])\n",
    "display(pd.DataFrame(data=SkVsNumpy, columns=['Normalization Method', 'Min', 'Max', 'Mean', 'Std']).round(decimals=3))"
   ]
  },
  {
   "cell_type": "markdown",
   "id": "ac571315",
   "metadata": {},
   "source": [
    "Do the normalization results differ?"
   ]
  },
  {
   "cell_type": "markdown",
   "id": "eeb04270",
   "metadata": {},
   "source": [
    "#### Conclusions: \n",
    "1. scikit-learn StandardScaler and numpy Z-normalization are equivalent\n",
    "2. scikit-learn remembers its parameters"
   ]
  }
 ],
 "metadata": {
  "kernelspec": {
   "display_name": "work",
   "language": "python",
   "name": "python3"
  },
  "language_info": {
   "codemirror_mode": {
    "name": "ipython",
    "version": 3
   },
   "file_extension": ".py",
   "mimetype": "text/x-python",
   "name": "python",
   "nbconvert_exporter": "python",
   "pygments_lexer": "ipython3",
   "version": "3.12.7"
  }
 },
 "nbformat": 4,
 "nbformat_minor": 5
}
