{
 "cells": [
  {
   "cell_type": "markdown",
   "id": "7dd264e8",
   "metadata": {},
   "source": [
    "## Apply the Same Scaling to Other Data\n",
    "Remembering the original parameters also allows us to apply the same transformation to other data.  \n",
    "\n",
    "### Scenario:\n",
    "- Our data science team created a predictive model for car break failure.  \n",
    "- The numeric values of the training data, e.g. break pressure and deceleration, were Z-normalized prior to training.  \n",
    "- We must transform the current operational data in the same way.  It is wrong to Z-normalize the operational data based on the mean and standard deviation of the operational data.  Instead, we need to use the same transformation that was used in training.  Therefore, we need to use the same transformation parameters that we used for training.\n",
    "\n",
    "Sklearn normalization methods allow us to apply the same transformation to other data by separating the `fit` and `transform` functions.\n",
    "    \n",
    "What are values of operational population that is above \n",
    "What are the ages of the rejected students\n",
    "\n",
    "<b>The take-away lesson is:</b> It is important to remember the normalization parameters so that the same transformation can be applied to other data."
   ]
  },
  {
   "cell_type": "code",
   "execution_count": null,
   "id": "e14577ba",
   "metadata": {},
   "outputs": [],
   "source": [
    "import numpy as np\n",
    "import pandas as pd\n",
    "import matplotlib.pyplot as plt\n",
    "%matplotlib inline"
   ]
  },
  {
   "cell_type": "code",
   "execution_count": null,
   "id": "0665aab3",
   "metadata": {},
   "outputs": [],
   "source": [
    "# Historical Data (Variable 1)\n",
    "sigma1 = 1\n",
    "mu1a = 3\n",
    "mu1b = 7\n",
    "x1 = np.array(15)\n",
    "x1 = np.append(x1, mu1a + sigma1*np.random.randn(100))\n",
    "x1 = np.append(x1, mu1b + sigma1*np.random.randn(50))\n",
    "x1 = x1.reshape(-1,1)\n",
    "\n",
    "# Operational Data (Variable 2)\n",
    "sigma2 = 1\n",
    "mu2b = 7\n",
    "x2 = np.array(-6)\n",
    "x2 = np.append(x2, mu2b + sigma2*np.random.randn(50))\n",
    "x2 = x2.reshape(-1,1)"
   ]
  },
  {
   "cell_type": "code",
   "execution_count": null,
   "id": "8dfbbfc7",
   "metadata": {},
   "outputs": [],
   "source": [
    "# Compare the historical variable with the operational data by overlaying histograms\n",
    "plt.hist(x1, bins = 20, color=[0, 0, 1, 0.5])\n",
    "plt.hist(x2, bins = 20, color=[1, 0.7, 0, 0.5])\n",
    "plt.title(\"Compare variables \\n without normalization\", y=1.0, pad=-28, loc='left')\n",
    "plt.show()\n",
    "\n",
    "# Compare the historical variable with the operational data by listing distribution descriptions\n",
    "XScales = []\n",
    "XScales.append(['Historical x1', np.min(x1), np.max(x1), np.mean(x1), np.std(x1)])\n",
    "XScales.append(['Operational x2', np.min(x2), np.max(x2), np.mean(x2), np.std(x2)])\n",
    "display(pd.DataFrame(data=XScales, columns=['Data Source', 'Min', 'Max', 'Mean', 'Std']).round(decimals=2))"
   ]
  },
  {
   "cell_type": "markdown",
   "id": "52c750d4",
   "metadata": {},
   "source": [
    "### Normalize the Historical Data (Variable 1)\n",
    "The normalization parameters are determined from the historical data.  Based on these parameters, the historical data are normalized."
   ]
  },
  {
   "cell_type": "code",
   "execution_count": null,
   "id": "fc5a1ae7",
   "metadata": {},
   "outputs": [],
   "source": [
    "from sklearn.preprocessing import StandardScaler\n",
    "\n",
    "ZScaler = StandardScaler()\n",
    "ZScaler.fit(x1)\n",
    "ZScaled_x1 = ZScaler.transform(x1)"
   ]
  },
  {
   "cell_type": "markdown",
   "id": "8aac8879",
   "metadata": {},
   "source": [
    "### Normalize the Operational Data (Variable 2)\n",
    "The normalization parameters were determined when only the historical data were available.  Therefore, we need to use the normalization parameters based on the historical data"
   ]
  },
  {
   "cell_type": "code",
   "execution_count": null,
   "id": "4d0b79a0",
   "metadata": {},
   "outputs": [],
   "source": [
    "# Transform operational data that was not used for determining normalization parameters\n",
    "# ZScaler was fitted on historical data (x1)\n",
    "Scaled_x2_BasedOn_x1 = ZScaler.transform(x2)"
   ]
  },
  {
   "cell_type": "code",
   "execution_count": null,
   "id": "8301246d",
   "metadata": {},
   "outputs": [],
   "source": [
    "# Compare the distribution of the historical variable and the operational data after normalization on the historical variable\n",
    "plt.hist(ZScaled_x1, bins = 20, color=[0, 0, 1, 0.5])\n",
    "plt.hist(Scaled_x2_BasedOn_x1, bins = 20, color=[1, 0.7, 0, 0.5])\n",
    "plt.title(\"Compare distributions after both historical and \\n operational data are normalized on historical variable\", y=1.0, pad=-28, loc='left')\n",
    "plt.show()\n",
    "\n",
    "# Compare the historical variable with the operational data by listing distribution descriptions\n",
    "XScales = []\n",
    "XScales.append(['Historical x1', np.min(ZScaled_x1), np.max(ZScaled_x1), np.mean(ZScaled_x1), np.std(ZScaled_x1)])\n",
    "XScales.append(['Operational x2', np.min(Scaled_x2_BasedOn_x1), np.max(Scaled_x2_BasedOn_x1), np.mean(Scaled_x2_BasedOn_x1), np.std(Scaled_x2_BasedOn_x1)])\n",
    "display(pd.DataFrame(data=XScales, columns=['Data Source', 'Min', 'Max', 'Mean', 'Std']).round(decimals=2))"
   ]
  },
  {
   "cell_type": "markdown",
   "id": "0d7d4589",
   "metadata": {},
   "source": [
    "The overlayed histograms before and after normalization look the same because the normalization parameters were the same for both the historic and operational data.  The distribution descriptions have changed due to the normalization."
   ]
  },
  {
   "cell_type": "code",
   "execution_count": null,
   "id": "bcbeb138",
   "metadata": {},
   "outputs": [],
   "source": []
  }
 ],
 "metadata": {
  "kernelspec": {
   "display_name": "Python 3 (ipykernel)",
   "language": "python",
   "name": "python3"
  },
  "language_info": {
   "codemirror_mode": {
    "name": "ipython",
    "version": 3
   },
   "file_extension": ".py",
   "mimetype": "text/x-python",
   "name": "python",
   "nbconvert_exporter": "python",
   "pygments_lexer": "ipython3",
   "version": "3.10.13"
  }
 },
 "nbformat": 4,
 "nbformat_minor": 5
}
