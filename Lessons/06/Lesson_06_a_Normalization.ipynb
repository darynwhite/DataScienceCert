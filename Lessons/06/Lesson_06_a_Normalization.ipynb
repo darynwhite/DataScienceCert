{
 "cells": [
  {
   "cell_type": "markdown",
   "id": "b60754b6",
   "metadata": {},
   "source": [
    "# Linear Normalization\n",
    "Most normalizations are linear normalizations  \n",
    "Linear normalization applies this pattern: \n",
    "\n",
    "**<font size=\"3\">\n",
    "`xNorm = (x - offset)/scale` \n",
    "</font>**  \n",
    "\n",
    "Where: \n",
    "- x is a numeric variable\n",
    "- offset shifts variable x lower or higher\n",
    "- scale, also called spread, re-scales variable x to a smaller or larger scale (spread)\n",
    "- xNorm is the normalized variable"
   ]
  },
  {
   "cell_type": "code",
   "execution_count": null,
   "id": "f7699edd",
   "metadata": {},
   "outputs": [],
   "source": [
    "import numpy as np\n",
    "import pandas as pd\n",
    "import matplotlib.pyplot as plt\n",
    "%matplotlib inline"
   ]
  },
  {
   "cell_type": "markdown",
   "id": "7f854704",
   "metadata": {},
   "source": [
    "## Different Linear Normalization Methods\n",
    "We will consider 3 different normalization methods:\n",
    "- Trivial Normalization\n",
    "- Min-max or Feature scaling\n",
    "- Z-Normalization or Standard Normalization or Standard Scoring\n",
    "\n",
    "First we need an array that we can normalize.  We call this array a variable.  The variable's name is `x`.  We add this variable to a dataframe so that we can easily compare this variable to its normalized versions."
   ]
  },
  {
   "cell_type": "code",
   "execution_count": null,
   "id": "69a5e7c0",
   "metadata": {},
   "outputs": [],
   "source": [
    "x = np.array([1,11,5,3,15,3,5,9,7,9,3,5,7,3,5,21.])\n",
    "X = pd.DataFrame(data = x, columns = ['x'])\n",
    "X.round(decimals=2)"
   ]
  },
  {
   "cell_type": "markdown",
   "id": "fa9c0978",
   "metadata": {},
   "source": [
    "### Trivial Normalization\n",
    "- The transformation offset is 0\n",
    "- The transformation scale is 1\n",
    "- nothing changes\n",
    "  \n",
    "In math a trivial process is one that doesn't change anything"
   ]
  },
  {
   "cell_type": "code",
   "execution_count": null,
   "id": "ddac2044",
   "metadata": {},
   "outputs": [],
   "source": [
    "offset = 0\n",
    "scale = 1 \n",
    "X['Trivial'] = (x - offset)/scale\n",
    "print(\" Trivial normalization doesn't change values:\")\n",
    "X.round(decimals=2)"
   ]
  },
  {
   "cell_type": "markdown",
   "id": "4b3064f8",
   "metadata": {},
   "source": [
    "### Min-max or Feature scaling\n",
    "- offset is min of x\n",
    "- scale is the range of x or the max of x minus the min of x\n",
    "- The min of a min-max-normalized variable is zero\n",
    "- The max of a min-max-normalized variable is one"
   ]
  },
  {
   "cell_type": "code",
   "execution_count": null,
   "id": "47b3909b",
   "metadata": {},
   "outputs": [],
   "source": [
    "offset = min(x)\n",
    "scale = max(x) - min(x)\n",
    "X['MinMax'] = (x - offset)/scale\n",
    "print(\" The min-max-normalized variable has values from 0 to 1\")\n",
    "X.round(decimals=2)"
   ]
  },
  {
   "cell_type": "markdown",
   "id": "e76f2ed8",
   "metadata": {},
   "source": [
    "### Z-Normalization or Standard Normalization or Standard Scoring\n",
    "- offset is mean of x (The mean of a z-normalized variable is zero)\n",
    "- scale is standard deviation of x (The standard deviation of a z-normalized variable is one)\n",
    "- Most of the values are between -2 and +2"
   ]
  },
  {
   "cell_type": "code",
   "execution_count": null,
   "id": "fc3a9e4d",
   "metadata": {},
   "outputs": [],
   "source": [
    "offset = np.mean(x)\n",
    "scale = np.std(x)\n",
    "X['Z'] = (x - offset)/scale\n",
    "print(\" The Z-normalized variable has most values within -2 and + 2\")\n",
    "X.round(decimals=2)"
   ]
  },
  {
   "cell_type": "markdown",
   "id": "a4742314",
   "metadata": {},
   "source": [
    "### Robust Normalization\n",
    "(similar to Median Median Absolute Deviation)\n",
    "- offset is median of x (The median of a Robust-normalized variable is zero)\n",
    "- scale is difference between the 75th and 25th percentile\n",
    "- very resistant to outliers"
   ]
  },
  {
   "cell_type": "code",
   "execution_count": null,
   "id": "26db1d39",
   "metadata": {
    "scrolled": true
   },
   "outputs": [],
   "source": [
    "offset = np.median(x)\n",
    "scale = np.quantile(x, 0.75) - np.quantile(x, 0.25) # np.median(np.absolute(x - np.median(x)))\n",
    "print(scale, np.median(np.absolute(x - np.median(x))))\n",
    "X['Robust'] = (x - offset)/scale\n",
    "print(\" The Robust-normalized variable is zeroed around the median and has at least 50% of its values within -1 and +1\")\n",
    "X.round(decimals=2)"
   ]
  },
  {
   "cell_type": "markdown",
   "id": "b4d23f40",
   "metadata": {},
   "source": [
    "### Comparisons of linear Normalizations\n",
    "The above normalizations all have different numbers\n",
    "How do their histograms compare?"
   ]
  },
  {
   "cell_type": "code",
   "execution_count": null,
   "id": "87c54bb2",
   "metadata": {},
   "outputs": [],
   "source": [
    "fig, axes = plt.subplots(2, 2, figsize = (14,7))\n",
    "axes[0, 0].hist(x = X.Trivial, bins=8)\n",
    "axes[0, 0].set_title('Trivial Normalization', y=1.0, pad=-14)\n",
    "axes[0, 1].hist(x = X.MinMax,  bins=8)\n",
    "axes[0, 1].set_title('MinMax Normalization', y=1.0, pad=-14)\n",
    "axes[1, 0].hist(x = X.Z,       bins=8)\n",
    "axes[1, 0].set_title('Z Normalization', y=1.0, pad=-14)\n",
    "axes[1, 1].hist(x = X.Robust,     bins=8)\n",
    "axes[1, 1].set_title('Robust Normalization', y=1.0, pad=-14);\n",
    "fig.suptitle('Compare linear normalization methods');"
   ]
  },
  {
   "cell_type": "markdown",
   "id": "1fcdad03",
   "metadata": {},
   "source": [
    "### What is the difference between these normalizations?\n",
    "The histograms (distributions) all look alike except for their x-axis values. A linear normalization will not change the shape of the histogram (distribution).  The normalization will only shift and rescale the x-axis of the histogram (distribution).  Therefore, when we look at effects of normalizations on a single variable, we should focus on scalars that describe the distribution, like:\n",
    "- Minimum\n",
    "- Maximum\n",
    "- Mean\n",
    "- Median\n",
    "- Standard Deviation\n",
    "\n",
    "Usually, just 2 of the above scalars are sufficient to describe the linear normalization of a variable.  See the table below."
   ]
  },
  {
   "cell_type": "code",
   "execution_count": null,
   "id": "0eecd644",
   "metadata": {},
   "outputs": [],
   "source": [
    "CompareNorms = []\n",
    "CompareNorms.append(['Original', np.min(x), np.max(x), np.mean(x), np.std(x), np.median(x)])\n",
    "CompareNorms.append(['Trivial', np.min(X.Trivial), np.max(X.Trivial), np.mean(X.Trivial), np.std(X.Trivial), np.median(X.Trivial)])\n",
    "CompareNorms.append(['MinMax', np.min(X.MinMax), np.max(X.MinMax), np.mean(X.MinMax), np.std(X.MinMax), np.median(X.MinMax)])\n",
    "CompareNorms.append(['Z', np.min(X.Z), np.max(X.Z), np.mean(X.Z), np.std(X.Z), np.median(X.Z)])\n",
    "CompareNorms.append(['Robust', np.min(X.Robust), np.max(X.Robust), np.mean(X.Robust), np.std(X.Robust), np.median(X.Robust)])\n",
    "Distributions = pd.DataFrame(data=CompareNorms, columns=['Normalization', 'Min', 'Max', 'Mean', 'Std', 'Median']).round(decimals=2)\n",
    "print(\" Distributions before Normalizations:\")\n",
    "display(Distributions.head(1))\n",
    "print(\" Distributions after Normalizations\")\n",
    "display(Distributions.loc[1:6,:])"
   ]
  }
 ],
 "metadata": {
  "kernelspec": {
   "display_name": "Python 3 (ipykernel)",
   "language": "python",
   "name": "python3"
  },
  "language_info": {
   "codemirror_mode": {
    "name": "ipython",
    "version": 3
   },
   "file_extension": ".py",
   "mimetype": "text/x-python",
   "name": "python",
   "nbconvert_exporter": "python",
   "pygments_lexer": "ipython3",
   "version": "3.10.13"
  }
 },
 "nbformat": 4,
 "nbformat_minor": 5
}
