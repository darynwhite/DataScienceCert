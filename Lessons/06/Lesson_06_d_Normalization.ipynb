{
 "cells": [
  {
   "cell_type": "markdown",
   "id": "d3f9d750",
   "metadata": {},
   "source": [
    "## Compounding Linear Normalizations\n",
    "\n",
    "What happens if we normalize a normalized column?  For instance, we could first min-max normalize the column and then take the min-max normalized column and z-normalize it.  We will compare the following normalizations:\n",
    "\n",
    "| 1st Normalization | 2nd Normalization | Comment |\n",
    "| :- | :- | --- |\n",
    "|  |  | Original |\n",
    "| Z |  | Basic Z-Normalization |\n",
    "| MinMax | Z | Compound Normalization |\n",
    "| Z | Z | Compound Normalization |\n",
    "| MinMax |  | Basic Min-Max Normalization |\n",
    "| Z | MinMax | Compound Normalization |\n",
    "| MinMax | MinMax | Compound Normalization |"
   ]
  },
  {
   "cell_type": "markdown",
   "id": "a7314795",
   "metadata": {},
   "source": [
    "We use the x1 variable from a previous example as our demonstration data.  "
   ]
  },
  {
   "cell_type": "code",
   "execution_count": 1,
   "id": "e9098450",
   "metadata": {},
   "outputs": [],
   "source": [
    "import numpy as np\n",
    "import pandas as pd\n",
    "\n",
    "# Variable 1\n",
    "sigma1 = 1\n",
    "mu1a = 3\n",
    "mu1b = 7\n",
    "x1 = np.array(15)\n",
    "x1 = np.append(x1, mu1a + sigma1*np.random.randn(100))\n",
    "x1 = np.append(x1, mu1b + sigma1*np.random.randn(50))\n",
    "x1 = x1.reshape(-1,1)"
   ]
  },
  {
   "cell_type": "markdown",
   "id": "1f3f4d2f",
   "metadata": {},
   "source": [
    "### Create Separate Z-normalized and Min-Max-normalized Variables"
   ]
  },
  {
   "cell_type": "code",
   "execution_count": 2,
   "id": "a0275d3b",
   "metadata": {},
   "outputs": [],
   "source": [
    "from sklearn.preprocessing import StandardScaler\n",
    "from sklearn.preprocessing import MinMaxScaler\n",
    "\n",
    "# Z-Normalize the variable\n",
    "Z = StandardScaler().fit_transform(x1)\n",
    "\n",
    "# Min-Max-Normalize the variable\n",
    "MinMax = MinMaxScaler().fit_transform(x1)"
   ]
  },
  {
   "cell_type": "markdown",
   "id": "1e7b01a4",
   "metadata": {},
   "source": [
    "### Normalize the Normalized Variables"
   ]
  },
  {
   "cell_type": "code",
   "execution_count": 3,
   "id": "1700922e",
   "metadata": {},
   "outputs": [],
   "source": [
    "# Double Normalized:  Z-Normalize the Min-Max-Normalized variable\n",
    "MinMax_Z = StandardScaler().fit_transform(MinMax)\n",
    "\n",
    "# Double Normalized:  Z-Normalize the Z-Normalized variable\n",
    "Z_Z = StandardScaler().fit_transform(Z)\n",
    "\n",
    "# Double Normalized:  Min-Max-Normalize the Z-normalized variable\n",
    "Z_MinMax = MinMaxScaler().fit_transform(Z)\n",
    "\n",
    "# Double Normalized:  Min-Max-Normalize the Min-Max-normalized variable\n",
    "MinMax_MinMax = MinMaxScaler().fit_transform(MinMax)"
   ]
  },
  {
   "cell_type": "markdown",
   "id": "39f2a5af",
   "metadata": {},
   "source": [
    "### Present the Normalization Results"
   ]
  },
  {
   "cell_type": "code",
   "execution_count": 4,
   "id": "c8f7eab4",
   "metadata": {},
   "outputs": [
    {
     "name": "stdout",
     "output_type": "stream",
     "text": [
      " Distributions before Normalizations:\n"
     ]
    },
    {
     "data": {
      "text/html": [
       "<div>\n",
       "<style scoped>\n",
       "    .dataframe tbody tr th:only-of-type {\n",
       "        vertical-align: middle;\n",
       "    }\n",
       "\n",
       "    .dataframe tbody tr th {\n",
       "        vertical-align: top;\n",
       "    }\n",
       "\n",
       "    .dataframe thead th {\n",
       "        text-align: right;\n",
       "    }\n",
       "</style>\n",
       "<table border=\"1\" class=\"dataframe\">\n",
       "  <thead>\n",
       "    <tr style=\"text-align: right;\">\n",
       "      <th></th>\n",
       "      <th>1st Normalization</th>\n",
       "      <th>2nd Normalization</th>\n",
       "      <th>Min</th>\n",
       "      <th>Max</th>\n",
       "      <th>Mean</th>\n",
       "      <th>Std</th>\n",
       "    </tr>\n",
       "  </thead>\n",
       "  <tbody>\n",
       "    <tr>\n",
       "      <th>0</th>\n",
       "      <td>None</td>\n",
       "      <td>None</td>\n",
       "      <td>0.46</td>\n",
       "      <td>15.0</td>\n",
       "      <td>4.42</td>\n",
       "      <td>2.28</td>\n",
       "    </tr>\n",
       "  </tbody>\n",
       "</table>\n",
       "</div>"
      ],
      "text/plain": [
       "  1st Normalization 2nd Normalization   Min   Max  Mean   Std\n",
       "0              None              None  0.46  15.0  4.42  2.28"
      ]
     },
     "metadata": {},
     "output_type": "display_data"
    },
    {
     "name": "stdout",
     "output_type": "stream",
     "text": [
      "\n",
      "\n",
      " Distributions after Normalizations:\n"
     ]
    },
    {
     "data": {
      "text/html": [
       "<div>\n",
       "<style scoped>\n",
       "    .dataframe tbody tr th:only-of-type {\n",
       "        vertical-align: middle;\n",
       "    }\n",
       "\n",
       "    .dataframe tbody tr th {\n",
       "        vertical-align: top;\n",
       "    }\n",
       "\n",
       "    .dataframe thead th {\n",
       "        text-align: right;\n",
       "    }\n",
       "</style>\n",
       "<table border=\"1\" class=\"dataframe\">\n",
       "  <thead>\n",
       "    <tr style=\"text-align: right;\">\n",
       "      <th></th>\n",
       "      <th>1st Normalization</th>\n",
       "      <th>2nd Normalization</th>\n",
       "      <th>Min</th>\n",
       "      <th>Max</th>\n",
       "      <th>Mean</th>\n",
       "      <th>Std</th>\n",
       "    </tr>\n",
       "  </thead>\n",
       "  <tbody>\n",
       "    <tr>\n",
       "      <th>1</th>\n",
       "      <td>Z</td>\n",
       "      <td>None</td>\n",
       "      <td>-1.74</td>\n",
       "      <td>4.65</td>\n",
       "      <td>-0.00</td>\n",
       "      <td>1.00</td>\n",
       "    </tr>\n",
       "    <tr>\n",
       "      <th>2</th>\n",
       "      <td>MinMax</td>\n",
       "      <td>Z</td>\n",
       "      <td>-1.74</td>\n",
       "      <td>4.65</td>\n",
       "      <td>0.00</td>\n",
       "      <td>1.00</td>\n",
       "    </tr>\n",
       "    <tr>\n",
       "      <th>3</th>\n",
       "      <td>Z</td>\n",
       "      <td>Z</td>\n",
       "      <td>-1.74</td>\n",
       "      <td>4.65</td>\n",
       "      <td>0.00</td>\n",
       "      <td>1.00</td>\n",
       "    </tr>\n",
       "    <tr>\n",
       "      <th>4</th>\n",
       "      <td>MinMax</td>\n",
       "      <td>None</td>\n",
       "      <td>0.00</td>\n",
       "      <td>1.00</td>\n",
       "      <td>0.27</td>\n",
       "      <td>0.16</td>\n",
       "    </tr>\n",
       "    <tr>\n",
       "      <th>5</th>\n",
       "      <td>Z</td>\n",
       "      <td>MinMax</td>\n",
       "      <td>0.00</td>\n",
       "      <td>1.00</td>\n",
       "      <td>0.27</td>\n",
       "      <td>0.16</td>\n",
       "    </tr>\n",
       "    <tr>\n",
       "      <th>6</th>\n",
       "      <td>MinMax</td>\n",
       "      <td>MinMax</td>\n",
       "      <td>0.00</td>\n",
       "      <td>1.00</td>\n",
       "      <td>0.27</td>\n",
       "      <td>0.16</td>\n",
       "    </tr>\n",
       "  </tbody>\n",
       "</table>\n",
       "</div>"
      ],
      "text/plain": [
       "  1st Normalization 2nd Normalization   Min   Max  Mean   Std\n",
       "1                 Z              None -1.74  4.65 -0.00  1.00\n",
       "2            MinMax                 Z -1.74  4.65  0.00  1.00\n",
       "3                 Z                 Z -1.74  4.65  0.00  1.00\n",
       "4            MinMax              None  0.00  1.00  0.27  0.16\n",
       "5                 Z            MinMax  0.00  1.00  0.27  0.16\n",
       "6            MinMax            MinMax  0.00  1.00  0.27  0.16"
      ]
     },
     "metadata": {},
     "output_type": "display_data"
    }
   ],
   "source": [
    "CompoundNorm = []\n",
    "CompoundNorm.append(['None', 'None', np.min(x1), np.max(x1), np.mean(x1), np.std(x1)])\n",
    "CompoundNorm.append(['Z', 'None', np.min(Z), np.max(Z), np.mean(Z), np.std(Z)])\n",
    "CompoundNorm.append(['MinMax', 'Z', np.min(MinMax_Z), np.max(MinMax_Z), np.mean(MinMax_Z), np.std(MinMax_Z)])\n",
    "CompoundNorm.append(['Z', 'Z', np.min(Z_Z), np.max(Z_Z), np.mean(Z_Z), np.std(Z_Z)])\n",
    "CompoundNorm.append(['MinMax', 'None', np.min(MinMax), np.max(MinMax), np.mean(MinMax), np.std(MinMax)])\n",
    "CompoundNorm.append(['Z', 'MinMax', np.min(Z_MinMax), np.max(Z_MinMax), np.mean(Z_MinMax), np.std(Z_MinMax)])\n",
    "CompoundNorm.append(['MinMax', 'MinMax', np.min(MinMax_MinMax), np.max(MinMax_MinMax), np.mean(MinMax_MinMax), np.std(MinMax_MinMax)])\n",
    "Distributions = pd.DataFrame(data=CompoundNorm, columns=['1st Normalization', '2nd Normalization', 'Min', 'Max', 'Mean', 'Std']).round(decimals=2)\n",
    "print(\" Distributions before Normalizations:\")\n",
    "display(Distributions.head(1))\n",
    "print(\"\\n\\n Distributions after Normalizations:\")\n",
    "display(Distributions.loc[1:6,:])"
   ]
  },
  {
   "cell_type": "markdown",
   "id": "5e95cac2",
   "metadata": {},
   "source": [
    "#### Conclusion: Last Normalization Method is the only normalization that counts!\n",
    "- Note that the last normalization for the first three rows is Z-normalization.  These first three rows all have the same distribution, namely the Z-normalized distribution.  \n",
    "- Note that the last normalization for the last three rows is MinMax-normalization.  These last three rows all have the same distribution, namely the MinMax-normalized distribution.  "
   ]
  }
 ],
 "metadata": {
  "kernelspec": {
   "display_name": "work",
   "language": "python",
   "name": "python3"
  },
  "language_info": {
   "codemirror_mode": {
    "name": "ipython",
    "version": 3
   },
   "file_extension": ".py",
   "mimetype": "text/x-python",
   "name": "python",
   "nbconvert_exporter": "python",
   "pygments_lexer": "ipython3",
   "version": "3.12.7"
  }
 },
 "nbformat": 4,
 "nbformat_minor": 5
}
