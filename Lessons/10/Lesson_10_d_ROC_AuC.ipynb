{
 "cells": [
  {
   "cell_type": "markdown",
   "id": "89927945-3cc5-4c79-9fbb-1b5593f92daf",
   "metadata": {},
   "source": [
    "# Receiver Operating Characteristic (ROC)\n",
    "\n",
    "In this notebook we see more examples of ROC and AuC."
   ]
  },
  {
   "cell_type": "code",
   "execution_count": 1,
   "id": "4769bda5-ce6e-47f7-baaf-8222f8e8d784",
   "metadata": {},
   "outputs": [
    {
     "ename": "ModuleNotFoundError",
     "evalue": "No module named 'xgboost'",
     "output_type": "error",
     "traceback": [
      "\u001b[0;31m---------------------------------------------------------------------------\u001b[0m",
      "\u001b[0;31mModuleNotFoundError\u001b[0m                       Traceback (most recent call last)",
      "Cell \u001b[0;32mIn[1], line 12\u001b[0m\n\u001b[1;32m     10\u001b[0m \u001b[38;5;28;01mfrom\u001b[39;00m \u001b[38;5;21;01msklearn\u001b[39;00m\u001b[38;5;21;01m.\u001b[39;00m\u001b[38;5;21;01mpreprocessing\u001b[39;00m \u001b[38;5;28;01mimport\u001b[39;00m StandardScaler\n\u001b[1;32m     11\u001b[0m \u001b[38;5;28;01mfrom\u001b[39;00m \u001b[38;5;21;01msklearn\u001b[39;00m\u001b[38;5;21;01m.\u001b[39;00m\u001b[38;5;21;01mmetrics\u001b[39;00m \u001b[38;5;28;01mimport\u001b[39;00m accuracy_score\n\u001b[0;32m---> 12\u001b[0m \u001b[38;5;28;01mfrom\u001b[39;00m \u001b[38;5;21;01mxgboost\u001b[39;00m \u001b[38;5;28;01mimport\u001b[39;00m XGBClassifier\n\u001b[1;32m     13\u001b[0m \u001b[38;5;28;01mimport\u001b[39;00m \u001b[38;5;21;01mmatplotlib\u001b[39;00m\u001b[38;5;21;01m.\u001b[39;00m\u001b[38;5;21;01mpyplot\u001b[39;00m \u001b[38;5;28;01mas\u001b[39;00m \u001b[38;5;21;01mplt\u001b[39;00m\n",
      "\u001b[0;31mModuleNotFoundError\u001b[0m: No module named 'xgboost'"
     ]
    }
   ],
   "source": [
    "from sklearn.metrics import roc_curve, roc_auc_score\n",
    "import pandas as pd\n",
    "import numpy as np\n",
    "import seaborn as sns\n",
    "from sklearn.impute import SimpleImputer\n",
    "from sklearn.model_selection import train_test_split\n",
    "from sklearn.preprocessing import OneHotEncoder\n",
    "from sklearn.linear_model import LogisticRegression\n",
    "from sklearn.neighbors import KNeighborsClassifier\n",
    "from sklearn.preprocessing import StandardScaler\n",
    "from sklearn.metrics import accuracy_score\n",
    "from xgboost import XGBClassifier\n",
    "import matplotlib.pyplot as plt"
   ]
  },
  {
   "cell_type": "markdown",
   "id": "3d8e44a7-4ed7-4a75-ac51-8bb24806c5af",
   "metadata": {},
   "source": [
    "## First example\n",
    "\n",
    "Completely made-up data."
   ]
  },
  {
   "cell_type": "code",
   "execution_count": null,
   "id": "f5532c7c-d584-41b3-947c-fa578892d8d5",
   "metadata": {},
   "outputs": [],
   "source": [
    "# Assuming you have your model predictions and true labels\n",
    "y_true = np.array([0, 0, 1, 1, 0, 1, 0, 1, 1, 0, 1, 0, 0, 1, 1, 0, 0, 0, 0, 1])\n",
    "y_pred_proba = np.array([0.47, 0.28, 0.44, 0.83, 0.42, 0.87, 0.36, 0.81, 0.47, 0.52, 0.91, 0.32, 0.22, 0.68, 0.61, 0.08, 0.16, 0.18, 0.63, 0.37])"
   ]
  },
  {
   "cell_type": "code",
   "execution_count": null,
   "id": "f7ef88b8-b7f2-46fd-8137-f4aa38fb74ec",
   "metadata": {},
   "outputs": [],
   "source": [
    "pd.DataFrame({'y_true': y_true, 'y_pred_prob': y_pred_proba}).sort_values(by='y_pred_prob')"
   ]
  },
  {
   "cell_type": "code",
   "execution_count": null,
   "id": "85f76282-5399-4072-bd6b-d291c0659393",
   "metadata": {},
   "outputs": [],
   "source": [
    "y_pred_proba_pos = y_pred_proba[y_true==1]\n",
    "y_pred_proba_neg = y_pred_proba[y_true==0]\n",
    "\n",
    "sns.kdeplot(y_pred_proba_pos, label='Positive Class', bw_adjust=0.25)\n",
    "sns.kdeplot(y_pred_proba_neg, label='Negative Class', bw_adjust=0.25)\n",
    "\n",
    "plt.xlabel('Predicted Probability')\n",
    "plt.ylabel('Density')\n",
    "plt.title('Kernel Density Estimation of Predicted Probabilities')\n",
    "plt.legend()\n",
    "plt.grid()\n",
    "plt.show()"
   ]
  },
  {
   "cell_type": "code",
   "execution_count": null,
   "id": "de07e251-34fd-4cb5-b068-20de946b8d23",
   "metadata": {},
   "outputs": [],
   "source": [
    "# Calculate the ROC curve\n",
    "fpr, tpr, thresholds = roc_curve(y_true, y_pred_proba)\n",
    "\n",
    "# Calculate the AUC\n",
    "auc = roc_auc_score(y_true, y_pred_proba)"
   ]
  },
  {
   "cell_type": "code",
   "execution_count": null,
   "id": "36bfee6f-b025-4115-b362-4c922e098e32",
   "metadata": {},
   "outputs": [],
   "source": [
    "# Plot the ROC curve\n",
    "print('AuC = ', auc)\n",
    "RoC = pd.DataFrame({'thresholds': thresholds, 'fpr': fpr, 'tpr': tpr})\n",
    "print(RoC.head(6))\n",
    "plt.plot(fpr, tpr, label='ROC curve (AUC = %0.3f)' % auc)\n",
    "plt.plot([0, 1], [0, 1], 'k--')\n",
    "plt.xlabel('False Positive Rate')\n",
    "plt.ylabel('True Positive Rate')\n",
    "plt.title('Receiver Operating Characteristic (ROC) Curve')\n",
    "plt.legend(loc=\"lower right\")\n",
    "plt.grid()\n",
    "plt.show()"
   ]
  },
  {
   "cell_type": "markdown",
   "id": "008b1038-336b-40f3-bbce-d67dd51f887e",
   "metadata": {},
   "source": [
    "## Second example\n",
    "\n",
    "Use Gaussian distribution to create the data."
   ]
  },
  {
   "cell_type": "code",
   "execution_count": null,
   "id": "d2efb95e-ea9e-4485-bf35-4fa3a8116978",
   "metadata": {},
   "outputs": [],
   "source": [
    "N = 1000\n",
    "#\n",
    "mu1 = 0.25\n",
    "sd1 = 0.25\n",
    "data = np.random.normal(loc=mu1, scale=sd1, size=1000).clip(0, 1)\n",
    "df1 = pd.DataFrame({'y_true': 0, 'y_pred_proba': data})\n",
    "#\n",
    "mu2 = 0.75\n",
    "sd2 = 0.25\n",
    "data = np.random.normal(loc=mu2, scale=sd2, size=1000).clip(0, 1)\n",
    "df2 = pd.DataFrame({'y_true': 1, 'y_pred_proba': data})\n",
    "#\n",
    "df = pd.concat([df1, df2], ignore_index=True).sample(2*N, replace=False)"
   ]
  },
  {
   "cell_type": "code",
   "execution_count": null,
   "id": "57d57892-8f71-4926-8c02-59ed6e016cb4",
   "metadata": {},
   "outputs": [],
   "source": [
    "df"
   ]
  },
  {
   "cell_type": "code",
   "execution_count": null,
   "id": "ef5b3e98-d08e-4560-b404-8ffacf10d703",
   "metadata": {},
   "outputs": [],
   "source": [
    "# Calculate the ROC curve\n",
    "fpr, tpr, thresholds = roc_curve(df.y_true, df.y_pred_proba)\n",
    "\n",
    "# Calculate the AUC\n",
    "auc = roc_auc_score(df.y_true, df.y_pred_proba)"
   ]
  },
  {
   "cell_type": "code",
   "execution_count": null,
   "id": "3b5887c0-47da-45c8-b198-2ef89ffb03a0",
   "metadata": {},
   "outputs": [],
   "source": [
    "# Plot the ROC curve\n",
    "print('AuC = ', auc)\n",
    "RoC = pd.DataFrame({'thresholds': thresholds, 'fpr': fpr, 'tpr': tpr})\n",
    "print(RoC.head(6))\n",
    "plt.plot(fpr, tpr, label='ROC curve (AUC = %0.2f)' % auc)\n",
    "plt.plot([0, 1], [0, 1], 'k--')\n",
    "plt.xlabel('False Positive Rate')\n",
    "plt.ylabel('True Positive Rate')\n",
    "plt.title('Receiver Operating Characteristic (ROC) Curve')\n",
    "plt.legend(loc=\"lower right\")\n",
    "plt.grid()\n",
    "plt.show()"
   ]
  },
  {
   "cell_type": "markdown",
   "id": "c0820d46-218c-4da1-a0ad-3b3e9863235f",
   "metadata": {},
   "source": [
    "## Third example\n",
    "\n",
    "Use data from the Titanic dataset."
   ]
  },
  {
   "cell_type": "code",
   "execution_count": null,
   "id": "b3cbf744-4ebb-4e1e-b51c-fe166385647b",
   "metadata": {},
   "outputs": [],
   "source": [
    "titanic = sns.load_dataset('titanic')\n",
    "print(titanic.head())\n",
    "titanic.describe()"
   ]
  },
  {
   "cell_type": "code",
   "execution_count": null,
   "id": "f976f039-f7e6-45b9-8a1a-b3d6e3fee32a",
   "metadata": {},
   "outputs": [],
   "source": [
    "titanic.drop(columns=['embarked', 'embark_town', 'alive'], inplace=True)"
   ]
  },
  {
   "cell_type": "code",
   "execution_count": null,
   "id": "d570000c-f849-4302-98b3-88323ea5e2ce",
   "metadata": {},
   "outputs": [],
   "source": [
    "#titanic.isna().sum()\n",
    "titanic.deck.value_counts(dropna=False)"
   ]
  },
  {
   "cell_type": "code",
   "execution_count": null,
   "id": "7589b7c6-25da-4cc5-afbb-9467d5be9842",
   "metadata": {},
   "outputs": [],
   "source": [
    "titanic['deck'] = titanic['deck'].cat.add_categories(['X'])\n",
    "titanic['deck'].fillna('X', inplace=True)\n",
    "median_age = titanic['age'].median()\n",
    "titanic['age'].fillna(median_age, inplace=True)"
   ]
  },
  {
   "cell_type": "code",
   "execution_count": null,
   "id": "93357eab-f7d6-42e3-9935-e3ac5f059c8d",
   "metadata": {},
   "outputs": [],
   "source": [
    "X = titanic.drop('survived', axis=1)\n",
    "y = titanic['survived']\n",
    "\n",
    "# Split data into training and testing sets\n",
    "X_train, X_test, y_train, y_test = \\\n",
    "    train_test_split(X, y, test_size=0.2, random_state=42)"
   ]
  },
  {
   "cell_type": "code",
   "execution_count": null,
   "id": "a8c0dea4-3a47-4ab3-a127-c41b9888e484",
   "metadata": {},
   "outputs": [],
   "source": [
    "num_cols = titanic.select_dtypes(['integer', 'float']).drop(columns = 'survived').columns\n",
    "cat_cols = titanic.select_dtypes(['object']).columns\n",
    "\n",
    "print(\"Numeric columns are {}.\".format(\", \".join(num_cols)))\n",
    "print(\"Categorical columns are {}.\".format(\", \".join(cat_cols)))"
   ]
  },
  {
   "cell_type": "code",
   "execution_count": null,
   "id": "6db9eeea-e9b6-4f83-92ee-299ad1d07570",
   "metadata": {},
   "outputs": [],
   "source": [
    "onehoter = OneHotEncoder(sparse_output = False, drop = \"first\")\n",
    "onehoter.fit(titanic[cat_cols])\n",
    "onehot_cols = onehoter.get_feature_names_out(cat_cols)\n",
    "titanic_train_onehot = pd.DataFrame(onehoter.transform(X_train[cat_cols]), columns = onehot_cols)\n",
    "titanic_test_onehot = pd.DataFrame(onehoter.transform(X_test[cat_cols]), columns = onehot_cols)"
   ]
  },
  {
   "cell_type": "code",
   "execution_count": null,
   "id": "41d1d4c9-7cf3-45f7-9f99-03457260614c",
   "metadata": {},
   "outputs": [],
   "source": [
    "znormalizer = StandardScaler()\n",
    "znormalizer.fit(titanic[num_cols])\n",
    "titanic_train_norm = pd.DataFrame(znormalizer.transform(X_train[num_cols]), columns = num_cols)\n",
    "titanic_test_norm = pd.DataFrame(znormalizer.transform(X_test[num_cols]), columns = num_cols)"
   ]
  },
  {
   "cell_type": "code",
   "execution_count": null,
   "id": "2c9039e4-8eca-43b2-aaba-7ad02d438bf9",
   "metadata": {},
   "outputs": [],
   "source": [
    "# Join the columns\n",
    "titanic_train_featurized = titanic_train_onehot # add one-hot-encoded columns\n",
    "titanic_test_featurized = titanic_test_onehot   # add one-hot-encoded columns\n",
    "titanic_train_featurized[num_cols] = titanic_train_norm # add numeric columns\n",
    "titanic_test_featurized[num_cols] = titanic_test_norm   # add numeric columns\n",
    "\n",
    "print(\"Featurized training data has {} rows and {} columns.\".format(*titanic_train_featurized.shape))\n",
    "print(\"Featurized test data has {} rows and {} columns.\".format(*titanic_test_featurized.shape))"
   ]
  },
  {
   "cell_type": "code",
   "execution_count": null,
   "id": "85517064-22c3-43d1-b7a1-6911967e617b",
   "metadata": {},
   "outputs": [],
   "source": [
    "knnb = KNeighborsClassifier(n_neighbors = 7)\n",
    "knnb.fit(titanic_train_featurized, y_train)\n",
    "\n",
    "y_hat_train = knnb.predict(titanic_train_featurized)\n",
    "y_hat_test = knnb.predict(titanic_test_featurized)"
   ]
  },
  {
   "cell_type": "code",
   "execution_count": null,
   "id": "95b575cf-a0a4-455e-9ab3-0a24d7bc4431",
   "metadata": {},
   "outputs": [],
   "source": [
    "# Calculate the ROC curve\n",
    "fpr, tpr, thresholds = roc_curve(y_test, knnb.predict_proba(titanic_test_featurized)[:,1])\n",
    "\n",
    "# Calculate the AUC\n",
    "auc = roc_auc_score(y_test, knnb.predict_proba(titanic_test_featurized)[:,1])"
   ]
  },
  {
   "cell_type": "code",
   "execution_count": null,
   "id": "ec288071-90ec-4096-aeb2-98c5add322a8",
   "metadata": {},
   "outputs": [],
   "source": [
    "# Plot the ROC curve\n",
    "print('AuC = ', auc)\n",
    "RoC = pd.DataFrame({'thresholds': thresholds, 'fpr': fpr, 'tpr': tpr})\n",
    "print(RoC.head(6))\n",
    "plt.plot(fpr, tpr, label='ROC curve (AUC = %0.3f)' % auc)\n",
    "plt.plot([0, 1], [0, 1], 'r--')\n",
    "plt.xlabel('False Positive Rate')\n",
    "plt.ylabel('True Positive Rate')\n",
    "plt.title('Receiver Operating Characteristic (ROC) Curve')\n",
    "plt.legend(loc=\"lower right\")\n",
    "plt.grid()\n",
    "plt.show()"
   ]
  },
  {
   "cell_type": "code",
   "execution_count": null,
   "id": "bfa32f77-3ab0-498f-8326-f6dea0502f90",
   "metadata": {},
   "outputs": [],
   "source": []
  }
 ],
 "metadata": {
  "kernelspec": {
   "display_name": "data-sci",
   "language": "python",
   "name": "python3"
  },
  "language_info": {
   "codemirror_mode": {
    "name": "ipython",
    "version": 3
   },
   "file_extension": ".py",
   "mimetype": "text/x-python",
   "name": "python",
   "nbconvert_exporter": "python",
   "pygments_lexer": "ipython3",
   "version": "3.13.1"
  }
 },
 "nbformat": 4,
 "nbformat_minor": 5
}
