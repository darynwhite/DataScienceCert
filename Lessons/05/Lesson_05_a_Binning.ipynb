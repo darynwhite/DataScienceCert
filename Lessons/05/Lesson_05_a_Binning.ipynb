{
 "cells": [
  {
   "cell_type": "markdown",
   "id": "80bd1233",
   "metadata": {},
   "source": [
    "# Binning\n",
    "Binning is a common practice to simplify data.  Usually, binning refers to grouping numeric values into categories.  Sometimes the term >binning< is used to group categories into fewer categories."
   ]
  },
  {
   "cell_type": "markdown",
   "id": "9f6892be",
   "metadata": {},
   "source": [
    "## Binning or Data Binning (Numerical Variables)\n",
    "Binning is important to convert numerical data into categories (strings) when numerical data is not desired.  Numeric values are assigned a categorgical label.  Similar numeric values are assigned the same label.  Numeric values are similar if they fall within the same bin boundaries.\n",
    "\n",
    "#### Our objective\n",
    "- We want a categorical array instead of a numeric variable\n",
    "- The categories in the categorical variable are ordinal like \"Low\", \"Med\", and \"High\"\n",
    "> - In this example we do not consider the ordinality \n",
    "> - We could consider the ordinality (not shown)"
   ]
  },
  {
   "cell_type": "code",
   "execution_count": null,
   "id": "b0791565",
   "metadata": {},
   "outputs": [],
   "source": [
    "# Packages\n",
    "import numpy as np"
   ]
  },
  {
   "cell_type": "code",
   "execution_count": null,
   "id": "20dd0a6d",
   "metadata": {},
   "outputs": [],
   "source": [
    "# Numeric VariableVariable\n",
    "x = np.array([81,3,3,4,4,5,5,5,5,5,5,5,5,5,5,6,6,7,7,7,7,8,8,9,12,24,24,25])"
   ]
  },
  {
   "cell_type": "markdown",
   "id": "5c08342b",
   "metadata": {},
   "source": [
    "### Equal-width Binning\n",
    "Equal-width binning is the standard or typical binning.  Each bin width is the same size.  The bin width is the difference between the max allowed value and the min allowed value of a bin."
   ]
  },
  {
   "cell_type": "code",
   "execution_count": null,
   "id": "ba816d2e",
   "metadata": {},
   "outputs": [],
   "source": [
    "# Equal-width Binning\n",
    "# Determine the boundaries of the bins\n",
    "NumberOfBins = 3\n",
    "BinWidth = (max(x) - min(x))/NumberOfBins\n",
    "MinBin1 = float('-inf')\n",
    "MaxBin1 = min(x) + 1 * BinWidth\n",
    "MaxBin2 = min(x) + 2 * BinWidth\n",
    "MaxBin3 = float('inf')\n",
    "\n",
    "print(\" Bin 1 is greater than\", MinBin1, \"up to\", MaxBin1)\n",
    "print(\" Bin 2 is greater than\", MaxBin1, \"up to\", MaxBin2)\n",
    "print(\" Bin 3 is greater than\", MaxBin2, \"up to\", MaxBin3)"
   ]
  },
  {
   "cell_type": "code",
   "execution_count": null,
   "id": "5eb7c797",
   "metadata": {},
   "outputs": [],
   "source": [
    "# Create the categorical variable\n",
    "# Start with an empty array that is the same size as x\n",
    "xBinnedEqW = np.empty(len(x), object) # np.full(len(x), \"    \")\n",
    "xBinnedEqW"
   ]
  },
  {
   "cell_type": "code",
   "execution_count": null,
   "id": "c52054c8",
   "metadata": {},
   "outputs": [],
   "source": [
    "# The conditions at the boundaries should consider the difference \n",
    "# between less than (<) and less than or equal (<=) \n",
    "# and greater than (>) and greater than or equal (>=)\n",
    "xBinnedEqW[(x > MinBin1) & (x <= MaxBin1)] = \"Low\"\n",
    "xBinnedEqW[(x > MaxBin1) & (x <= MaxBin2)] = \"Med\"\n",
    "xBinnedEqW[(x > MaxBin2) & (x <= MaxBin3)] = \"High\"\n",
    "print(\" x binned into 3 equal-width bins:\", xBinnedEqW)"
   ]
  },
  {
   "cell_type": "markdown",
   "id": "67d6df34",
   "metadata": {},
   "source": [
    "### Equal-frequency Binning\n",
    "Equal-frequency binning is less common than standard or typical binning.  In equal-frequency binning, each bin has approximately the same number of items. The bin widths usually differ from bin to bin. "
   ]
  },
  {
   "cell_type": "code",
   "execution_count": null,
   "id": "e78acd68",
   "metadata": {},
   "outputs": [],
   "source": [
    "# Equal-frequency Binning\n",
    "ApproxBinCount = np.round(len(x)/NumberOfBins)\n",
    "print(\" Each bin should contain approximately %d elements.\" % ApproxBinCount)"
   ]
  },
  {
   "cell_type": "code",
   "execution_count": null,
   "id": "3d2744de",
   "metadata": {},
   "outputs": [],
   "source": [
    "# Set bin bounds so that each has bin has approximately the same number\n",
    "# of items.\n",
    "# Find boundaries that divide the sorted variable into bins of approximately\n",
    "# the right number of elements.\n",
    "print(\" Sort the variable:\", np.sort(x))"
   ]
  },
  {
   "cell_type": "code",
   "execution_count": null,
   "id": "7e6540b9",
   "metadata": {},
   "outputs": [],
   "source": [
    "# One solution would be bins with 14, 6, and 8 elements:\n",
    "# 3,3,4,4,5,5,5,5,5,5,5,5,5,5,| 6,6,7,7,7,7,| 8,8,9,12,24,24,25,81\n",
    "MinBin1 = float('-inf')\n",
    "MaxBin1 = 5.5\n",
    "MaxBin2 = 7.5\n",
    "MaxBin3 = float('+inf')\n",
    "\n",
    "# Create the categorical variable\n",
    "# Start with an empty array that is the same size as x\n",
    "xBinnedEqF = np.empty(len(x), object) # np.full(len(x), \"    \")\n",
    "xBinnedEqF[(MinBin1 < x) & (x <= MaxBin1)] = \"Low\"\n",
    "xBinnedEqF[(MaxBin1 < x) & (x <= MaxBin2)] = \"Med\"\n",
    "xBinnedEqF[(MaxBin2 < x) & (x  < MaxBin3)] = \"High\"\n",
    "\n",
    "print(\" x binned into 3 equal-freq1uency bins: \")\n",
    "print(xBinnedEqF)"
   ]
  },
  {
   "cell_type": "markdown",
   "id": "6a4b5349",
   "metadata": {},
   "source": [
    "## Binning or Consolidating Categories\n",
    "Binning categories is used to simplify category variables.  Binning category variables can also be called consolidation.  Binning category variable converts a category column (strings) into another category column.  Similar categories are assigned the same label.  Categories are similar by a users definition.\n",
    "\n",
    "### Our objective\n",
    "- We want a simpler categorical array"
   ]
  },
  {
   "cell_type": "code",
   "execution_count": null,
   "id": "d16189b4",
   "metadata": {},
   "outputs": [],
   "source": [
    "# Packages\n",
    "import numpy as np\n",
    "import matplotlib.pyplot as plt\n",
    "%matplotlib inline"
   ]
  },
  {
   "cell_type": "markdown",
   "id": "e6d6e6dc",
   "metadata": {},
   "source": [
    "### Category Variable\n",
    "The following variable contains the colors of various items. These colors were enterred into a database from multiple users who used different color names for similar colors."
   ]
  },
  {
   "cell_type": "code",
   "execution_count": null,
   "id": "233ac27b",
   "metadata": {},
   "outputs": [],
   "source": [
    "# Category Variable\n",
    "Color = np.array(['red','royal blue','blue','blue','navy','vermillion',\n",
    "              'red','fire red','green','teal','turquoise',\n",
    "              'green','hunter green','green','green','dark grey',\n",
    "              'dark grey','coal','coal','coal','coal','aqua', \n",
    "              'aqua','sky blue','sangria','pink','pink',\n",
    "              'fire red'])"
   ]
  },
  {
   "cell_type": "markdown",
   "id": "04e9d247",
   "metadata": {},
   "source": [
    "### Complexity\n",
    "The number of categories affects the complexity of the category variable"
   ]
  },
  {
   "cell_type": "code",
   "execution_count": null,
   "id": "a1d6f64d",
   "metadata": {},
   "outputs": [],
   "source": [
    "UniqueColor, FrequencyOfColor = np.unique(Color, return_counts=True)\n",
    "print(\" The variable contains\",len(UniqueColor),\"different colors.\")\n",
    "plt.barh(y=UniqueColor, width=FrequencyOfColor);"
   ]
  },
  {
   "cell_type": "markdown",
   "id": "0f38db4d",
   "metadata": {},
   "source": [
    "###  Bin Colors\n",
    "Bin (aka Consolidate or Group) colors into fewer categories.  The binning rules are often subjective.  For instance, \"teal\", \"turquoise\", and aqua\" could have been grouped under green."
   ]
  },
  {
   "cell_type": "code",
   "execution_count": null,
   "id": "73637590",
   "metadata": {},
   "outputs": [],
   "source": [
    "# Group \"vermillion\", \"fire red\", \"pink\", \"sangria\", and \"red\" as \"red\":\n",
    "Color[Color == \"vermillion\"] = \"red\"\n",
    "Color[Color == \"fire red\"] = \"red\"\n",
    "Color[Color == \"pink\"] = \"red\"\n",
    "Color[Color == \"sangria\"] = \"red\"\n",
    "\n",
    "# Group \"royal blue\", \"navy\", \"teal\", \"turquoise\", \"aqua\", \"sky blue\", and \"blue\" as \"blue\":\n",
    "Color[Color == \"royal blue\"] = \"blue\"\n",
    "Color[Color == \"navy\"] = \"blue\"\n",
    "Color[Color == \"teal\"] = \"blue\"\n",
    "Color[Color == \"turquoise\"] = \"blue\"\n",
    "Color[Color == \"aqua\"] = \"blue\"\n",
    "Color[Color == \"sky blue\"] = \"blue\"\n",
    "\n",
    "# Group \"hunter green\" and \"green\" as \"green\"\n",
    "Color[Color == \"hunter green\"] = \"green\"\n",
    "\n",
    "# Group \"dark grey\" and \"coal\" as \"black\"\n",
    "Color[Color == \"dark grey\"] = \"black\"\n",
    "Color[Color == \"coal\"] = \"black\""
   ]
  },
  {
   "cell_type": "code",
   "execution_count": null,
   "id": "008bfa54",
   "metadata": {},
   "outputs": [],
   "source": [
    "UniqueColor, FrequencyOfColor = np.unique(Color, return_counts=True)\n",
    "print(\" The variable contains\",len(UniqueColor),\"different colors.\")\n",
    "plt.barh(y=UniqueColor, width=FrequencyOfColor);"
   ]
  },
  {
   "cell_type": "markdown",
   "id": "4daa119d",
   "metadata": {},
   "source": [
    "###  Effect of Category Binning\n",
    "Binning categories of a variable simplifies the variable.  Compare the bar charts of the original variable and the binned variable.  Note the reduction in complexity.  The reduced complexity will be beneficial for machine learning."
   ]
  },
  {
   "cell_type": "code",
   "execution_count": null,
   "id": "15040342",
   "metadata": {},
   "outputs": [],
   "source": []
  }
 ],
 "metadata": {
  "kernelspec": {
   "display_name": "Python 3",
   "language": "python",
   "name": "python3"
  },
  "language_info": {
   "codemirror_mode": {
    "name": "ipython",
    "version": 3
   },
   "file_extension": ".py",
   "mimetype": "text/x-python",
   "name": "python",
   "nbconvert_exporter": "python",
   "pygments_lexer": "ipython3",
   "version": "3.7.10"
  }
 },
 "nbformat": 4,
 "nbformat_minor": 5
}
