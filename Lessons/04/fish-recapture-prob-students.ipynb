{
 "cells": [
  {
   "cell_type": "markdown",
   "id": "946072d8-dad7-458a-b2c0-9640a410aa9b",
   "metadata": {},
   "source": [
    "## Fish in a pond estimate\n",
    "\n",
    "Assume we have a pond with an unknown number of fish. We put a marker on a number of the fish (say 100) in the pond and release them back to the pond. Later on we catch 22 fish from the pond and measure that 9 out of 22 have the mark. What can we deduct on the total number of fish in the pond?"
   ]
  },
  {
   "cell_type": "code",
   "execution_count": 1,
   "id": "c8bf549b-cb29-4360-b173-7acb0920d392",
   "metadata": {},
   "outputs": [],
   "source": [
    "import scipy.stats as stats\n",
    "import numpy as np\n",
    "import matplotlib.pyplot as plt\n",
    "import pandas as pd"
   ]
  },
  {
   "cell_type": "code",
   "execution_count": 2,
   "id": "03a818c0-9519-4550-a482-d89b1f81ecce",
   "metadata": {},
   "outputs": [],
   "source": [
    "M = 100\n",
    "n = 22\n",
    "X = 9"
   ]
  },
  {
   "cell_type": "code",
   "execution_count": 3,
   "id": "2a76a693-7012-4b97-82c5-af0502823fa6",
   "metadata": {},
   "outputs": [
    {
     "name": "stdout",
     "output_type": "stream",
     "text": [
      "100 22 9\n",
      "0.4090909090909091\n",
      "244.44444444444443\n"
     ]
    }
   ],
   "source": [
    "print(M, n, X)\n",
    "print(X/n)\n",
    "print(M/(X/n))"
   ]
  },
  {
   "cell_type": "markdown",
   "id": "69237f0c-ae0a-4f07-98dd-e422a7b3ccfe",
   "metadata": {},
   "source": [
    "## Bootstrap method to find the CI\n",
    "\n",
    "In this method, we take the $n (=22)$ samples, and we resample from that, with replacement. We repeat this many times and each time measure how many marked fish out of 22 were recaptured; then we plot the distribution. This distribution resembles the distribution of the population.\n",
    "\n",
    "We then find the 95% interval for this distribution, that is the lower bound of 2.5% and the upper bound of 97.5%.\n",
    "\n",
    "This would be the estimated Confidence Interval, using the Bootstrap method."
   ]
  },
  {
   "cell_type": "code",
   "execution_count": null,
   "id": "b1e8196c-28f4-41ca-a3bd-d58fc0e00b77",
   "metadata": {},
   "outputs": [],
   "source": [
    "# Your code goes here"
   ]
  },
  {
   "cell_type": "markdown",
   "id": "16464248-0856-41e7-98c6-87732a94d02f",
   "metadata": {},
   "source": [
    "# Full simulation\n",
    "\n",
    "This time, we consider a range of meaningful values for $N$, and for each value, we do many iterations of the simulation. Each iteration involves assuming the value for $N$, making $n$ draws and counting how many marked fish were among them. This gives us a probability value of $p$ that we can now plot over all values of $N$ and find the confidence interval."
   ]
  },
  {
   "cell_type": "code",
   "execution_count": null,
   "id": "a83058c0-e74c-49d1-bbb8-d5ba150e987a",
   "metadata": {},
   "outputs": [],
   "source": [
    "# Your code goes here"
   ]
  },
  {
   "cell_type": "markdown",
   "id": "01f78219-3c2e-46a4-888b-68d956ba6a2d",
   "metadata": {},
   "source": [
    "# Analythic method based on Bayes theorem\n",
    "\n",
    "Instead of simulation, we can use an analytical approach to derive an exact solution.\n",
    "\n",
    "The Bayesian probability formula states: $P(A|B) = P(B|A) * P(A) / P(B)$.\n",
    "\n",
    "We want to find $P(N | 9-out-of-22)$, while we have a closed form for the $P(9-out-of-22 | N)$; and that is: $C(22, 9) \\cdot p^9 \\cdot (1-p)^{13}$.\n",
    "\n",
    "Using Bayes, we write: $P(N | 9-out-of-22) = P(9-out-of-22 | N) * P(N) / P(9-out-of-22)$.\n",
    "\n",
    "We might need more insight for the $P(N)$ term, as a subject matter expert might already have an <it>a priori</it> opinion on this part. However, the $P(9-out-of-22)$ part is independent of $N$ and hence can be simplified later on."
   ]
  },
  {
   "cell_type": "code",
   "execution_count": null,
   "id": "1b6c181e-70b6-4c28-a8c0-ce09c815c8f8",
   "metadata": {},
   "outputs": [],
   "source": [
    "# Your code goes here"
   ]
  }
 ],
 "metadata": {
  "kernelspec": {
   "display_name": "Python 3 (ipykernel)",
   "language": "python",
   "name": "python3"
  },
  "language_info": {
   "codemirror_mode": {
    "name": "ipython",
    "version": 3
   },
   "file_extension": ".py",
   "mimetype": "text/x-python",
   "name": "python",
   "nbconvert_exporter": "python",
   "pygments_lexer": "ipython3",
   "version": "3.10.13"
  }
 },
 "nbformat": 4,
 "nbformat_minor": 5
}
