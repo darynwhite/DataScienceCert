{
 "cells": [
  {
   "cell_type": "markdown",
   "id": "946072d8-dad7-458a-b2c0-9640a410aa9b",
   "metadata": {},
   "source": [
    "## Fish in a pond estimate\n",
    "\n",
    "Assume we have a pond with an unknown number of fish. We put a marker on a number of the fish (say 100) in the pond and release them back to the pond. Later on we catch 22 fish from the pond and measure that 9 out of 22 have the mark. What can we deduct on the total number of fish in the pond?"
   ]
  },
  {
   "cell_type": "code",
   "execution_count": 59,
   "id": "c8bf549b-cb29-4360-b173-7acb0920d392",
   "metadata": {},
   "outputs": [],
   "source": [
    "import scipy.stats as stats\n",
    "import numpy as np\n",
    "import matplotlib.pyplot as plt\n",
    "import pandas as pd"
   ]
  },
  {
   "cell_type": "code",
   "execution_count": 60,
   "id": "03a818c0-9519-4550-a482-d89b1f81ecce",
   "metadata": {},
   "outputs": [],
   "source": [
    "M = 100\n",
    "n = 22\n",
    "X = 9"
   ]
  },
  {
   "cell_type": "code",
   "execution_count": 61,
   "id": "2a76a693-7012-4b97-82c5-af0502823fa6",
   "metadata": {},
   "outputs": [
    {
     "name": "stdout",
     "output_type": "stream",
     "text": [
      "100 22 9\n",
      "0.4090909090909091\n",
      "244.44444444444443\n"
     ]
    }
   ],
   "source": [
    "print(M, n, X)\n",
    "print(X/n)\n",
    "print(M/(X/n))"
   ]
  },
  {
   "cell_type": "code",
   "execution_count": 62,
   "id": "267af0a6-fc3c-4e0b-baec-3210b0f10fdc",
   "metadata": {},
   "outputs": [
    {
     "name": "stdout",
     "output_type": "stream",
     "text": [
      "The estimated CI using Wilson Score Interval is: [ 159.0 ,  462.6 ]\n",
      "\n",
      "\n"
     ]
    }
   ],
   "source": [
    "# Wilson Score Interval\n",
    "z = 1.96  # For a 95% confidence interval\n",
    "p_hat_adjusted = (X + z**2/2) / (n + z**2)\n",
    "margin_of_error = z * np.sqrt(p_hat_adjusted * (1 - p_hat_adjusted) / n)\n",
    "N_confidence_interval = (M/(p_hat_adjusted - margin_of_error), M/(p_hat_adjusted + margin_of_error))\n",
    "print('The estimated CI using Wilson Score Interval is: [', f'{N_confidence_interval[1]:.1f}', ', ', \n",
    "      f'{N_confidence_interval[0]:.1f}', ']\\n\\n')"
   ]
  },
  {
   "cell_type": "markdown",
   "id": "69237f0c-ae0a-4f07-98dd-e422a7b3ccfe",
   "metadata": {},
   "source": [
    "## Bootstrap method to find the CI\n",
    "\n",
    "In this method, we take the $n (=22)$ samples, and we resample from that, with replacement. We repeat this many times and create a distribution. This distribution resembles the distribution of the population.\n",
    "\n",
    "We then find the 95% interval for this distribution, that is the lower bound of 2.5% and the upper bound of 97.5%.\n",
    "\n",
    "This would be the estimated Confidence Interval, using the Bootstrap method."
   ]
  },
  {
   "cell_type": "code",
   "execution_count": 63,
   "id": "433cf1bf-9523-449f-a29c-70f4b4bfebf5",
   "metadata": {},
   "outputs": [],
   "source": [
    "T = 100000\n",
    "x = []\n",
    "for i in range(T):\n",
    "    d = np.random.choice([0, 1], size=n, p=[X/n, 1-(X/n)])\n",
    "    x.append(sum(d))"
   ]
  },
  {
   "cell_type": "code",
   "execution_count": 6,
   "id": "c3dead96-194f-449b-843e-71737cc0f523",
   "metadata": {},
   "outputs": [
    {
     "data": {
      "image/png": "[encoded data removed]",
      "text/plain": [
       "<Figure size 640x480 with 1 Axes>"
      ]
     },
     "metadata": {},
     "output_type": "display_data"
    }
   ],
   "source": [
    "# Assuming 'x' is your integer array\n",
    "plt.hist(x, bins='auto', color='blue', alpha=0.7)\n",
    "plt.title(\"Histogram of Integer Array\")\n",
    "plt.xlabel(\"Value\")\n",
    "plt.ylabel(\"Frequency\")\n",
    "plt.grid()\n",
    "plt.show()"
   ]
  },
  {
   "cell_type": "code",
   "execution_count": 7,
   "id": "8f36a78f-86ae-4609-af90-0f0e4a18fc68",
   "metadata": {},
   "outputs": [
    {
     "name": "stdout",
     "output_type": "stream",
     "text": [
      "[17.  8.]\n"
     ]
    }
   ],
   "source": [
    "my_percentiles = np.percentile(x, [97.5, 2.5])\n",
    "print(my_percentiles)"
   ]
  },
  {
   "cell_type": "code",
   "execution_count": 8,
   "id": "b82e2ea2-6d30-4759-9715-7387334f7147",
   "metadata": {},
   "outputs": [
    {
     "name": "stdout",
     "output_type": "stream",
     "text": [
      "The estimated CI using Wilson Score Interval is: [ 129.4 ,  275.0 ]\n",
      "\n",
      "\n"
     ]
    }
   ],
   "source": [
    "N_CI = M/(my_percentiles/n)\n",
    "print('The estimated CI using Wilson Score Interval is: [', f'{N_CI[0]:.1f}', ', ', \n",
    "      f'{N_CI[1]:.1f}', ']\\n\\n')"
   ]
  },
  {
   "cell_type": "markdown",
   "id": "16464248-0856-41e7-98c6-87732a94d02f",
   "metadata": {},
   "source": [
    "# Full simulation\n",
    "\n",
    "This time, we consider a range of meaningful values for $N$, and for each value, we do many iterations of the simulation. Each iteration involves assuming the value for $N$, making $n$ draws and counting how many marked fish were among them. This gives us a probability value of $p$ that we can now plot over all values of $N$ and find the confidence interval."
   ]
  },
  {
   "cell_type": "code",
   "execution_count": 48,
   "id": "c4583956-27c0-47c2-93e9-4cf21f4019e4",
   "metadata": {},
   "outputs": [
    {
     "name": "stderr",
     "output_type": "stream",
     "text": [
      "/tmp/ipykernel_827/635272114.py:14: FutureWarning: Setting an item of incompatible dtype is deprecated and will raise in a future error of pandas. Value '5e-05' has dtype incompatible with int64, please explicitly cast to a compatible dtype first.\n",
      "  Ex.P[i] = pr\n"
     ]
    }
   ],
   "source": [
    "T = 20000\n",
    "Marked = np.zeros(T)\n",
    "\n",
    "Ex = pd.DataFrame({'N': np.arange(M, 1001)})\n",
    "Ex['P'] = 0 # np.zeros(Ex.shape[0])\n",
    "\n",
    "for i in range(Ex.shape[0]):\n",
    "    Samp = np.zeros(Ex.N[i])\n",
    "    Samp[:M] = 1\n",
    "    for t in range(T):\n",
    "        Marked[t] = np.sum(np.random.choice(Samp, n, replace=False))\n",
    "    bingo = (Marked == X)\n",
    "    pr = np.sum(bingo) / T\n",
    "    Ex.P[i] = pr\n",
    "\n",
    "Ex.P /= sum(Ex.P)"
   ]
  },
  {
   "cell_type": "code",
   "execution_count": 57,
   "id": "5dfd539f-0169-4922-ad3a-6800841583fb",
   "metadata": {},
   "outputs": [
    {
     "data": {
      "text/html": [
       "<div>\n",
       "<style scoped>\n",
       "    .dataframe tbody tr th:only-of-type {\n",
       "        vertical-align: middle;\n",
       "    }\n",
       "\n",
       "    .dataframe tbody tr th {\n",
       "        vertical-align: top;\n",
       "    }\n",
       "\n",
       "    .dataframe thead th {\n",
       "        text-align: right;\n",
       "    }\n",
       "</style>\n",
       "<table border=\"1\" class=\"dataframe\">\n",
       "  <thead>\n",
       "    <tr style=\"text-align: right;\">\n",
       "      <th></th>\n",
       "      <th>N</th>\n",
       "      <th>P</th>\n",
       "    </tr>\n",
       "  </thead>\n",
       "  <tbody>\n",
       "    <tr>\n",
       "      <th>0</th>\n",
       "      <td>100</td>\n",
       "      <td>0.000000</td>\n",
       "    </tr>\n",
       "    <tr>\n",
       "      <th>1</th>\n",
       "      <td>101</td>\n",
       "      <td>0.000000</td>\n",
       "    </tr>\n",
       "    <tr>\n",
       "      <th>2</th>\n",
       "      <td>102</td>\n",
       "      <td>0.000000</td>\n",
       "    </tr>\n",
       "    <tr>\n",
       "      <th>3</th>\n",
       "      <td>103</td>\n",
       "      <td>0.000000</td>\n",
       "    </tr>\n",
       "    <tr>\n",
       "      <th>4</th>\n",
       "      <td>104</td>\n",
       "      <td>0.000000</td>\n",
       "    </tr>\n",
       "    <tr>\n",
       "      <th>5</th>\n",
       "      <td>105</td>\n",
       "      <td>0.000000</td>\n",
       "    </tr>\n",
       "    <tr>\n",
       "      <th>6</th>\n",
       "      <td>106</td>\n",
       "      <td>0.000000</td>\n",
       "    </tr>\n",
       "    <tr>\n",
       "      <th>7</th>\n",
       "      <td>107</td>\n",
       "      <td>0.000000</td>\n",
       "    </tr>\n",
       "    <tr>\n",
       "      <th>8</th>\n",
       "      <td>108</td>\n",
       "      <td>0.000000</td>\n",
       "    </tr>\n",
       "    <tr>\n",
       "      <th>9</th>\n",
       "      <td>109</td>\n",
       "      <td>0.000000</td>\n",
       "    </tr>\n",
       "    <tr>\n",
       "      <th>10</th>\n",
       "      <td>110</td>\n",
       "      <td>0.000000</td>\n",
       "    </tr>\n",
       "    <tr>\n",
       "      <th>11</th>\n",
       "      <td>111</td>\n",
       "      <td>0.000000</td>\n",
       "    </tr>\n",
       "    <tr>\n",
       "      <th>12</th>\n",
       "      <td>112</td>\n",
       "      <td>0.000000</td>\n",
       "    </tr>\n",
       "    <tr>\n",
       "      <th>13</th>\n",
       "      <td>113</td>\n",
       "      <td>0.000000</td>\n",
       "    </tr>\n",
       "    <tr>\n",
       "      <th>14</th>\n",
       "      <td>114</td>\n",
       "      <td>0.000000</td>\n",
       "    </tr>\n",
       "    <tr>\n",
       "      <th>15</th>\n",
       "      <td>115</td>\n",
       "      <td>0.000000</td>\n",
       "    </tr>\n",
       "    <tr>\n",
       "      <th>16</th>\n",
       "      <td>116</td>\n",
       "      <td>0.000000</td>\n",
       "    </tr>\n",
       "    <tr>\n",
       "      <th>17</th>\n",
       "      <td>117</td>\n",
       "      <td>0.000000</td>\n",
       "    </tr>\n",
       "    <tr>\n",
       "      <th>18</th>\n",
       "      <td>118</td>\n",
       "      <td>0.000000</td>\n",
       "    </tr>\n",
       "    <tr>\n",
       "      <th>19</th>\n",
       "      <td>119</td>\n",
       "      <td>0.000000</td>\n",
       "    </tr>\n",
       "    <tr>\n",
       "      <th>20</th>\n",
       "      <td>120</td>\n",
       "      <td>0.000000</td>\n",
       "    </tr>\n",
       "    <tr>\n",
       "      <th>21</th>\n",
       "      <td>121</td>\n",
       "      <td>0.000000</td>\n",
       "    </tr>\n",
       "    <tr>\n",
       "      <th>22</th>\n",
       "      <td>122</td>\n",
       "      <td>0.000000</td>\n",
       "    </tr>\n",
       "    <tr>\n",
       "      <th>23</th>\n",
       "      <td>123</td>\n",
       "      <td>0.000000</td>\n",
       "    </tr>\n",
       "    <tr>\n",
       "      <th>24</th>\n",
       "      <td>124</td>\n",
       "      <td>0.000000</td>\n",
       "    </tr>\n",
       "    <tr>\n",
       "      <th>25</th>\n",
       "      <td>125</td>\n",
       "      <td>0.000002</td>\n",
       "    </tr>\n",
       "    <tr>\n",
       "      <th>26</th>\n",
       "      <td>126</td>\n",
       "      <td>0.000000</td>\n",
       "    </tr>\n",
       "    <tr>\n",
       "      <th>27</th>\n",
       "      <td>127</td>\n",
       "      <td>0.000000</td>\n",
       "    </tr>\n",
       "    <tr>\n",
       "      <th>28</th>\n",
       "      <td>128</td>\n",
       "      <td>0.000000</td>\n",
       "    </tr>\n",
       "    <tr>\n",
       "      <th>29</th>\n",
       "      <td>129</td>\n",
       "      <td>0.000000</td>\n",
       "    </tr>\n",
       "    <tr>\n",
       "      <th>30</th>\n",
       "      <td>130</td>\n",
       "      <td>0.000000</td>\n",
       "    </tr>\n",
       "    <tr>\n",
       "      <th>31</th>\n",
       "      <td>131</td>\n",
       "      <td>0.000010</td>\n",
       "    </tr>\n",
       "    <tr>\n",
       "      <th>32</th>\n",
       "      <td>132</td>\n",
       "      <td>0.000002</td>\n",
       "    </tr>\n",
       "    <tr>\n",
       "      <th>33</th>\n",
       "      <td>133</td>\n",
       "      <td>0.000007</td>\n",
       "    </tr>\n",
       "    <tr>\n",
       "      <th>34</th>\n",
       "      <td>134</td>\n",
       "      <td>0.000016</td>\n",
       "    </tr>\n",
       "    <tr>\n",
       "      <th>35</th>\n",
       "      <td>135</td>\n",
       "      <td>0.000007</td>\n",
       "    </tr>\n",
       "    <tr>\n",
       "      <th>36</th>\n",
       "      <td>136</td>\n",
       "      <td>0.000010</td>\n",
       "    </tr>\n",
       "    <tr>\n",
       "      <th>37</th>\n",
       "      <td>137</td>\n",
       "      <td>0.000015</td>\n",
       "    </tr>\n",
       "    <tr>\n",
       "      <th>38</th>\n",
       "      <td>138</td>\n",
       "      <td>0.000021</td>\n",
       "    </tr>\n",
       "    <tr>\n",
       "      <th>39</th>\n",
       "      <td>139</td>\n",
       "      <td>0.000023</td>\n",
       "    </tr>\n",
       "    <tr>\n",
       "      <th>40</th>\n",
       "      <td>140</td>\n",
       "      <td>0.000026</td>\n",
       "    </tr>\n",
       "    <tr>\n",
       "      <th>41</th>\n",
       "      <td>141</td>\n",
       "      <td>0.000031</td>\n",
       "    </tr>\n",
       "    <tr>\n",
       "      <th>42</th>\n",
       "      <td>142</td>\n",
       "      <td>0.000051</td>\n",
       "    </tr>\n",
       "    <tr>\n",
       "      <th>43</th>\n",
       "      <td>143</td>\n",
       "      <td>0.000034</td>\n",
       "    </tr>\n",
       "    <tr>\n",
       "      <th>44</th>\n",
       "      <td>144</td>\n",
       "      <td>0.000041</td>\n",
       "    </tr>\n",
       "    <tr>\n",
       "      <th>45</th>\n",
       "      <td>145</td>\n",
       "      <td>0.000074</td>\n",
       "    </tr>\n",
       "    <tr>\n",
       "      <th>46</th>\n",
       "      <td>146</td>\n",
       "      <td>0.000117</td>\n",
       "    </tr>\n",
       "    <tr>\n",
       "      <th>47</th>\n",
       "      <td>147</td>\n",
       "      <td>0.000123</td>\n",
       "    </tr>\n",
       "    <tr>\n",
       "      <th>48</th>\n",
       "      <td>148</td>\n",
       "      <td>0.000125</td>\n",
       "    </tr>\n",
       "    <tr>\n",
       "      <th>49</th>\n",
       "      <td>149</td>\n",
       "      <td>0.000166</td>\n",
       "    </tr>\n",
       "  </tbody>\n",
       "</table>\n",
       "</div>"
      ],
      "text/plain": [
       "      N         P\n",
       "0   100  0.000000\n",
       "1   101  0.000000\n",
       "2   102  0.000000\n",
       "3   103  0.000000\n",
       "4   104  0.000000\n",
       "5   105  0.000000\n",
       "6   106  0.000000\n",
       "7   107  0.000000\n",
       "8   108  0.000000\n",
       "9   109  0.000000\n",
       "10  110  0.000000\n",
       "11  111  0.000000\n",
       "12  112  0.000000\n",
       "13  113  0.000000\n",
       "14  114  0.000000\n",
       "15  115  0.000000\n",
       "16  116  0.000000\n",
       "17  117  0.000000\n",
       "18  118  0.000000\n",
       "19  119  0.000000\n",
       "20  120  0.000000\n",
       "21  121  0.000000\n",
       "22  122  0.000000\n",
       "23  123  0.000000\n",
       "24  124  0.000000\n",
       "25  125  0.000002\n",
       "26  126  0.000000\n",
       "27  127  0.000000\n",
       "28  128  0.000000\n",
       "29  129  0.000000\n",
       "30  130  0.000000\n",
       "31  131  0.000010\n",
       "32  132  0.000002\n",
       "33  133  0.000007\n",
       "34  134  0.000016\n",
       "35  135  0.000007\n",
       "36  136  0.000010\n",
       "37  137  0.000015\n",
       "38  138  0.000021\n",
       "39  139  0.000023\n",
       "40  140  0.000026\n",
       "41  141  0.000031\n",
       "42  142  0.000051\n",
       "43  143  0.000034\n",
       "44  144  0.000041\n",
       "45  145  0.000074\n",
       "46  146  0.000117\n",
       "47  147  0.000123\n",
       "48  148  0.000125\n",
       "49  149  0.000166"
      ]
     },
     "execution_count": 57,
     "metadata": {},
     "output_type": "execute_result"
    }
   ],
   "source": [
    "Ex.head(50)"
   ]
  },
  {
   "cell_type": "code",
   "execution_count": 50,
   "id": "3aca30d9-5ef3-4ada-99bc-29aa83036847",
   "metadata": {},
   "outputs": [
    {
     "data": {
      "image/png": "[encoded data removed]",
      "text/plain": [
       "<Figure size 640x480 with 1 Axes>"
      ]
     },
     "metadata": {},
     "output_type": "display_data"
    }
   ],
   "source": [
    "plt.plot(Ex.N, Ex.P, color='lightgreen')\n",
    "plt.grid()\n",
    "plt.xlabel(\"Sample Size (N)\")\n",
    "plt.ylabel(\"Probability\")\n",
    "plt.title(\"Probability of Exactly X=9 Ones vs. Sample Size\")\n",
    "plt.show()"
   ]
  },
  {
   "cell_type": "code",
   "execution_count": 51,
   "id": "270a9317-fdd4-4229-bfed-903d9f8f2f7d",
   "metadata": {},
   "outputs": [],
   "source": [
    "cdf = np.cumsum(Ex.P)"
   ]
  },
  {
   "cell_type": "code",
   "execution_count": 52,
   "id": "f8a73b07-755d-48e5-959d-49b0e9e0bef4",
   "metadata": {},
   "outputs": [
    {
     "name": "stdout",
     "output_type": "stream",
     "text": [
      "178 536\n"
     ]
    }
   ],
   "source": [
    "index_025 = np.argmin(np.abs(cdf - 0.025))\n",
    "index_975 = np.argmin(np.abs(cdf - 0.975))\n",
    "print(Ex.N[index_025], Ex.N[index_975])"
   ]
  },
  {
   "cell_type": "markdown",
   "id": "01f78219-3c2e-46a4-888b-68d956ba6a2d",
   "metadata": {},
   "source": [
    "# Analythic method based on Bayes theorem\n",
    "\n",
    "Instead of simulation, we can use an analytical approach to derive an exact solution.\n",
    "\n",
    "The Bayesian probability formula states: $P(A|B) = P(B|A) * P(A) / P(B)$.\n",
    "\n",
    "We want to find $P(N | 9-out-of-22)$, while we have a closed form for the $P(9-out-of-22 | N)$; and that is: $C(22, 9) \\cdot p^9 \\cdot (1-p)^{13}$.\n",
    "\n",
    "Using Bayes, we write: $P(N | 9-out-of-22) = P(9-out-of-22 | N) * P(N) / P(9-out-of-22)$.\n",
    "\n",
    "We might need more insight for the $P(N)$ term, as a subject matter expert might already have an <it>a priori</it> opinion on this part. However, the $P(9-out-of-22)$ part is independent of $N$ and hence can be simplified later on."
   ]
  },
  {
   "cell_type": "code",
   "execution_count": 47,
   "id": "c11b7880-9a5e-4ad1-b920-fc5327eae0bc",
   "metadata": {},
   "outputs": [
    {
     "data": {
      "image/png": "[encoded data removed]",
      "text/plain": [
       "<Figure size 640x480 with 1 Axes>"
      ]
     },
     "metadata": {},
     "output_type": "display_data"
    }
   ],
   "source": [
    "# Define the function to calculate the probability\n",
    "# NB: we ignore the constants, as we later normalize anyway\n",
    "\n",
    "def calculate_probability(nn, M, X, n):\n",
    "    p = M / nn\n",
    "    return (p**X) * ((1 - p)**(n-X)) # * stats.norm.pdf(nn, loc=600, scale=200)\n",
    "\n",
    "# Create the array of sample sizes\n",
    "N = np.arange(M, 10*M+1)\n",
    "\n",
    "# Calculate the probabilities for each sample size\n",
    "P = np.array([calculate_probability(nn, M, X, n) for nn in N])\n",
    "\n",
    "# Normalize the probabilities\n",
    "P /= np.sum(P)\n",
    "\n",
    "# Define the function to find the percentile\n",
    "def find_percentile(P, N, perc):\n",
    "    cumulative_prob = 0\n",
    "    for i in range(len(N)):\n",
    "        cumulative_prob += P[i]\n",
    "        if cumulative_prob >= perc:\n",
    "            return N[i]\n",
    "    return None\n",
    "\n",
    "# Find the 2.5th and 97.5th percentiles\n",
    "percentile_025 = find_percentile(P, N, 0.025)\n",
    "percentile_975 = find_percentile(P, N, 0.975)\n",
    "\n",
    "# Plot the results\n",
    "plt.plot(N, P)\n",
    "plt.xlabel(\"N\")\n",
    "plt.ylabel(\"Probability\")\n",
    "plt.title(\"Probability vs. N (population estimate)\")\n",
    "plt.grid(True)\n",
    "\n",
    "# Mark the maximum probability point\n",
    "max_index = np.argmax(P)\n",
    "plt.scatter(N[max_index], P[max_index], color='red')\n",
    "plt.text(N[max_index] + 20, P[max_index], f\"N={N[max_index]}\", color='red')\n",
    "\n",
    "# Draw vertical lines for the percentiles\n",
    "plt.axvline(x=percentile_025, color='orange', linestyle='--')\n",
    "plt.axvline(x=percentile_975, color='orange', linestyle='--')\n",
    "plt.text(percentile_025 + 20, 0.0005, f\"N={percentile_025}\", color='orange')\n",
    "plt.text(percentile_975 + 20, 0.0005, f\"N={percentile_975}\", color='orange')\n",
    "\n",
    "plt.show()"
   ]
  },
  {
   "cell_type": "code",
   "execution_count": null,
   "id": "111c85f0-c2fc-42d6-9c57-fbe3eea88bac",
   "metadata": {},
   "outputs": [],
   "source": []
  }
 ],
 "metadata": {
  "kernelspec": {
   "display_name": "Python 3 (ipykernel)",
   "language": "python",
   "name": "python3"
  },
  "language_info": {
   "codemirror_mode": {
    "name": "ipython",
    "version": 3
   },
   "file_extension": ".py",
   "mimetype": "text/x-python",
   "name": "python",
   "nbconvert_exporter": "python",
   "pygments_lexer": "ipython3",
   "version": "3.10.13"
  }
 },
 "nbformat": 4,
 "nbformat_minor": 5
}
