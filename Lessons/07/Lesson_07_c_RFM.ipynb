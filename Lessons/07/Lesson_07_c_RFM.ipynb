{
 "cells": [
  {
   "cell_type": "markdown",
   "metadata": {},
   "source": [
    "## Recency, Frequency, Monetary (RFM) Analysis\n",
    "  \n",
    "https://www.techtarget.com/searchdatamanagement/definition/RFM-analysis  \n",
    "https://www.investopedia.com/terms/r/rfm-recency-frequency-monetary-value.asp  "
   ]
  },
  {
   "cell_type": "markdown",
   "metadata": {},
   "source": [
    "### Blood Donation Data Set\n",
    "The data are from a blood donation marketing study by the Chung-Hua University, Taiwan.  \n",
    "\n",
    "https://archive.ics.uci.edu/ml/datasets/Blood+Transfusion+Service+Center"
   ]
  },
  {
   "cell_type": "code",
   "execution_count": null,
   "metadata": {},
   "outputs": [],
   "source": [
    "# Some libraries\n",
    "import numpy as np\n",
    "import pandas as pd"
   ]
  },
  {
   "cell_type": "code",
   "execution_count": null,
   "metadata": {},
   "outputs": [],
   "source": [
    "# We download the data from the UCI ML repository.  The url for the data:\n",
    "url = \"https://archive.ics.uci.edu/ml/machine-learning-databases/blood-transfusion/transfusion.data\"\n",
    "\n",
    "# Download the data\n",
    "Blood = pd.read_csv(url)\n",
    "\n",
    "# Replace the original column names with simpler names\n",
    "Blood.columns = [\"Recency\", \"Frequency\", \"Monetary\", \"Time\", \"Donated\"]\n",
    "Blood"
   ]
  },
  {
   "cell_type": "markdown",
   "metadata": {},
   "source": [
    "Each row represents a potential blood donor\n",
    "- Recency: The amount of time that has passed since the donor's last donation\n",
    "- Frequency:  The number of times the donor has donated\n",
    "- Monetary:  Total volume of blood donated\n",
    "- Time:  The amount of time that has passed since the donor's first donation\n",
    "- Donated:  The donor donated (1);  The donor did not dontae (0)"
   ]
  },
  {
   "cell_type": "code",
   "execution_count": null,
   "metadata": {},
   "outputs": [],
   "source": [
    "display(Blood.describe().round(2))"
   ]
  },
  {
   "cell_type": "markdown",
   "metadata": {},
   "source": [
    "### Attempt to predict/classify a donation based on RFM"
   ]
  },
  {
   "cell_type": "code",
   "execution_count": null,
   "metadata": {},
   "outputs": [],
   "source": [
    "# Split data randomly into train and test sets\n",
    "from sklearn.model_selection import train_test_split\n",
    "X_train, X_test, y_train, y_test = train_test_split(\n",
    "    Blood.loc[:, Blood.columns!='Donated'],\n",
    "    Blood.loc[:, 'Donated'], \n",
    "    test_size = 0.2)\n",
    "\n",
    "# Use logistic regression from Sci-kit learn\n",
    "from sklearn.linear_model import LogisticRegression\n",
    "from sklearn.ensemble import RandomForestClassifier\n",
    "\n",
    "# Create Classifier Object\n",
    "Model = LogisticRegression()\n",
    "# Model = RandomForestClassifier()\n",
    "\n",
    "# Train Model with Classifier algorithm and Data\n",
    "Model.fit(X_train, y_train)\n",
    "\n",
    "# Use test inputs to score (predict on) test inputs\n",
    "y_pred = Model.predict(X_test)\n",
    "\n",
    "# Compare predictions with actual test values\n",
    "CorrectPredictions = np.sum(y_pred == y_test)\n",
    "AllPredictions = y_test.shape[0]\n",
    "Accuracy = CorrectPredictions/AllPredictions\n",
    "print('Accuracy: ', Accuracy)"
   ]
  },
  {
   "cell_type": "code",
   "execution_count": null,
   "metadata": {},
   "outputs": [],
   "source": [
    "print(\"Default Accuracy (just predict no donation):\", 1-np.sum(y_test)/y_test.shape[0])"
   ]
  }
 ],
 "metadata": {
  "anaconda-cloud": {},
  "kernelspec": {
   "display_name": "Python 3 (ipykernel)",
   "language": "python",
   "name": "python3"
  },
  "language_info": {
   "codemirror_mode": {
    "name": "ipython",
    "version": 3
   },
   "file_extension": ".py",
   "mimetype": "text/x-python",
   "name": "python",
   "nbconvert_exporter": "python",
   "pygments_lexer": "ipython3",
   "version": "3.10.13"
  }
 },
 "nbformat": 4,
 "nbformat_minor": 4
}
