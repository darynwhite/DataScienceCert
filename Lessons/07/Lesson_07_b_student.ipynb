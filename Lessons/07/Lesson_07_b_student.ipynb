{
 "cells": [
  {
   "cell_type": "markdown",
   "metadata": {},
   "source": [
    "# More on feature engineering"
   ]
  },
  {
   "cell_type": "markdown",
   "metadata": {},
   "source": [
    "In this notebook, we return to the topic of feature engineering from the previous lecture, but look at more complex examples. \n",
    "\n",
    "Many of these examples combine **domain knowledge** with machine learning. What this means is that the kind of data we have lends itself to certain types of features engineering that may not apply to other types of data. The best way to learn about this kind of feature engineering is by looking at examples: \n",
    "\n",
    "- feature engineering with text data\n",
    "- with time series data\n",
    "- with image or video data\n",
    "- with sound data\n",
    "- and so on.\n",
    "\n",
    "So as our example, we will look at feature engineering for text data. To make things more interesting, we finish this notebook by training a supervised learning algorithm on the resulting data. This last part will warm us up for next week's lecture!"
   ]
  },
  {
   "cell_type": "markdown",
   "metadata": {},
   "source": [
    "Let's look at an example dealing with text data. Raw text data is an unstructured and ubiquitous type of data. Most of the world’s data is unstructured. Volumes of unstructured data, including text, are growing much faster than structured data. There are many industry estimates for the fraction of all data which is unstructured. How much text data are we talking about here? In a few years time, Twitter will have [more text data recorded](http://www.internetlivestats.com/twitter-statistics/) than all that has been written in print in the history of mankind.\n",
    "\n",
    "Given the ubiquity and volume of text data, it is not surprising that numerous powerful applications which exploit text analytics are appearing. A few of these applications are listed below.\n",
    "\n",
    "- Intelligent applications\n",
    "  - Assistants\n",
    "  - Chat bots\n",
    "- Classification\n",
    "  - Sentiment analysis\n",
    "  - SPAM detection\n",
    "- Speech recognition\n",
    "- Search\n",
    "- Information retrieval\n",
    "- Legal discovery\n",
    "\n",
    "In this tutorial we investigate two areas of text analytics:\n",
    "\n",
    "- Pre-processing text data for analysis\n",
    "- Classification of text and sentiment analysis"
   ]
  },
  {
   "cell_type": "code",
   "execution_count": 54,
   "metadata": {},
   "outputs": [],
   "source": [
    "import string\n",
    "import re\n",
    "import numpy as np\n",
    "import pandas as pd\n",
    "import matplotlib.pyplot as plt\n",
    "import cProfile\n",
    "import seaborn as sns\n",
    "\n",
    "from scipy.sparse import coo_matrix # this is the sparse matrix format discussed in lecture\n",
    "\n",
    "from sklearn.feature_extraction.text import TfidfVectorizer\n",
    "from sklearn.model_selection import train_test_split\n",
    "from sklearn.linear_model import LogisticRegression\n",
    "from sklearn.metrics import precision_recall_fscore_support, confusion_matrix"
   ]
  },
  {
   "cell_type": "markdown",
   "metadata": {},
   "source": [
    "### Natural Language Processing (NLP) in Python\n",
    "- The main NLP package in Python is nltk\n",
    "- You may need to download some accessory packages like 'wordnet' or 'stopwords'\n",
    "\n",
    "Uncomment the following four nltk.download statements if you need to."
   ]
  },
  {
   "cell_type": "code",
   "execution_count": 2,
   "metadata": {
    "scrolled": true
   },
   "outputs": [],
   "source": [
    "import nltk\n",
    "\n",
    "# # A one-time requirement for these four downloads:\n",
    "# nltk.download('wordnet')\n",
    "# nltk.download('stopwords')\n",
    "# nltk.download('punkt')\n",
    "# nltk.download('corpus')\n",
    "\n",
    "from nltk.corpus import stopwords\n",
    "from nltk.stem.wordnet import WordNetLemmatizer"
   ]
  },
  {
   "cell_type": "markdown",
   "metadata": {},
   "source": [
    "The very first step to prepare text is to clean it.  We clean and normalize the text by performing various operations on the text. Some examples are as follows:\n",
    "\n",
    "- Make the text lowercase.\n",
    "- Remove symbols or punctuation.\n",
    "- Remove numbers. May also replace all numbers with a numeric tag, for example `<NUM>` or similar. We may also consider replacing all dates with `<DATE>` or similarly use tags `<URL>`, `<PHONE>`, `<EMAIL>`, etc...\n",
    "- Strip extra white space. White space has many forms: space, newline, or tab. There are also other rarely used unicode specifications for other white space characters.\n",
    "- Remove all non-printable unicode characters.\n",
    "- Replace accent characters.\n",
    "- Remove 'stop words'. Stop words are generally non-informative words like \"the\", \"as\", \"a\", etc.\n",
    "- Stem words to similar endings, such as \"eats\" and \"eat\".\n",
    "\n",
    "There are a few reasons to clean your text.  The primary reason is to reduce the potential vocabulary and increase the observations of specific words (or tokens). Depending on the application, the above steps should be considered carefully and only applied when it makes sense. Ask yourself if words like \"China\" and \"china\" should be different.\n",
    "\n",
    "**NOTE**: Be careful dealing with unicode characters. There are many editors and text viewers that only display printable characters but will not remove non-printable characters. Strange unicode characters can end up in data from users blindly copy/pasting text (with invisible unicode) into other text boxes."
   ]
  },
  {
   "cell_type": "markdown",
   "metadata": {},
   "source": [
    "### Exercise (8 minutes)\n",
    "\n",
    "By its very nature, text data comes unstructured and poorly organized for analysis. Typically multiple steps are required to process text into a form suitable for analysis, starting with cleaning it.\n",
    "\n",
    "Here's a horrible tweet. We're going to clean it and learn about ways to clean text data in the process."
   ]
  },
  {
   "cell_type": "code",
   "execution_count": 3,
   "metadata": {},
   "outputs": [
    {
     "name": "stdout",
     "output_type": "stream",
     "text": [
      "Unfiltered text: \n",
      "I <3 cleaning data $\\ \\ $, it’s my ၲ  $\\ \\ $    fAvoRitEs!! 11!!!\n",
      "\n"
     ]
    },
    {
     "name": "stderr",
     "output_type": "stream",
     "text": [
      "<>:1: SyntaxWarning: invalid escape sequence '\\ '\n",
      "<>:1: SyntaxWarning: invalid escape sequence '\\ '\n",
      "/var/folders/72/0bcyzdyx7h3cvbp3wdsv12gh0000gn/T/ipykernel_12906/572679933.py:1: SyntaxWarning: invalid escape sequence '\\ '\n",
      "  horrible_tweet_text = 'I <3 cleaning data $\\ \\ $, it’s my \\u1072  $\\ \\ $    fAvoRitEs!! 11!!!'\n"
     ]
    }
   ],
   "source": [
    "horrible_tweet_text = 'I <3 cleaning data $\\ \\ $, it’s my \\u1072  $\\ \\ $    fAvoRitEs!! 11!!!'\n",
    "print('Unfiltered text: \\n{}\\n'.format(horrible_tweet_text))"
   ]
  },
  {
   "cell_type": "markdown",
   "metadata": {},
   "source": [
    "Step by step, refine the above text. To avoid overwriting the existing string, you can create a new string from the string so far each time."
   ]
  },
  {
   "cell_type": "markdown",
   "metadata": {},
   "source": [
    "#### Non-ASCII Characters\n",
    "- A string `x` is ASCII if `ord(x) < 128`.  \n",
    "\n",
    "For instance:  "
   ]
  },
  {
   "cell_type": "code",
   "execution_count": 4,
   "metadata": {},
   "outputs": [
    {
     "name": "stdout",
     "output_type": "stream",
     "text": [
      "P is #80; ၲ is #4210; 科 is #31185\n"
     ]
    }
   ],
   "source": [
    "print(\"\\u0050 is #{}; \\u1072 is #{}; \\u79d1 is #{}\".format(ord('\\u0050'), ord('\\u1072'), ord('\\u79d1')))"
   ]
  },
  {
   "cell_type": "markdown",
   "metadata": {},
   "source": [
    "#### Remove any non-ASCI character. "
   ]
  },
  {
   "cell_type": "code",
   "execution_count": 5,
   "metadata": {},
   "outputs": [
    {
     "data": {
      "text/plain": [
       "'I <3 cleaning data $\\\\ \\\\ $, its my   $\\\\ \\\\ $    fAvoRitEs!! 11!!!'"
      ]
     },
     "execution_count": 5,
     "metadata": {},
     "output_type": "execute_result"
    }
   ],
   "source": [
    "# Add code here to remove non-ASCII characters 001\n",
    "AsciiString = str().join([c for c in horrible_tweet_text if ord(c) < 128])\n",
    "\n",
    "AsciiString"
   ]
  },
  {
   "cell_type": "markdown",
   "metadata": {},
   "source": [
    "#### Make Lowercase\n",
    "- Make all the letters lower case."
   ]
  },
  {
   "cell_type": "code",
   "execution_count": 6,
   "metadata": {},
   "outputs": [
    {
     "name": "stdout",
     "output_type": "stream",
     "text": [
      "String in lowercase:\n",
      " i <3 cleaning data $\\ \\ $, its my   $\\ \\ $    favorites!! 11!!!\n"
     ]
    }
   ],
   "source": [
    "AsciiString = AsciiString.lower()\n",
    "print(\"String in lowercase:\\n\", AsciiString) "
   ]
  },
  {
   "cell_type": "markdown",
   "metadata": {},
   "source": [
    "#### Remove Punctuation\n",
    "- Remove all punctuation from the text. You can use `string.punctuation` to get a string of all punctuation characters."
   ]
  },
  {
   "cell_type": "code",
   "execution_count": 7,
   "metadata": {},
   "outputs": [
    {
     "data": {
      "text/plain": [
       "'i 3 cleaning data    its my         favorites 11'"
      ]
     },
     "execution_count": 7,
     "metadata": {},
     "output_type": "execute_result"
    }
   ],
   "source": [
    "# Add code here 002\n",
    "AsciiString = str().join(c for c in AsciiString if c not in string.punctuation)\n",
    "AsciiString"
   ]
  },
  {
   "cell_type": "markdown",
   "metadata": {},
   "source": [
    "#### Remove Numbers\n",
    "- Remove all the numbers from the text. HINT: If you are familiar with **regular expressions** you can use `re.sub` to do this easily."
   ]
  },
  {
   "cell_type": "code",
   "execution_count": 8,
   "metadata": {},
   "outputs": [
    {
     "data": {
      "text/plain": [
       "'i  cleaning data    its my         favorites '"
      ]
     },
     "execution_count": 8,
     "metadata": {},
     "output_type": "execute_result"
    }
   ],
   "source": [
    "# Add code here 003\n",
    "AsciiString = re.sub(r\"\\d\", \"\", AsciiString)\n",
    "AsciiString"
   ]
  },
  {
   "cell_type": "markdown",
   "metadata": {},
   "source": [
    "#### Trim Whitespace\n",
    "- Strip the text of any extra whitespace. HINT: The `split` method might help here.  Using `split` creates a list of words."
   ]
  },
  {
   "cell_type": "code",
   "execution_count": 9,
   "metadata": {},
   "outputs": [
    {
     "data": {
      "text/plain": [
       "'i cleaning data its my favorites'"
      ]
     },
     "execution_count": 9,
     "metadata": {},
     "output_type": "execute_result"
    }
   ],
   "source": [
    "# Add code here 004\n",
    "AsciiString =  \" \".join([c for c in AsciiString.split()])\n",
    "AsciiString"
   ]
  },
  {
   "cell_type": "markdown",
   "metadata": {},
   "source": [
    "#### Remove Stopwords\n",
    "- Remove all stop words from the text. We can use `stopwords.words('english')` to get a list of stop words for the English language."
   ]
  },
  {
   "cell_type": "code",
   "execution_count": 10,
   "metadata": {},
   "outputs": [
    {
     "data": {
      "text/plain": [
       "'cleaning data favorites'"
      ]
     },
     "execution_count": 10,
     "metadata": {},
     "output_type": "execute_result"
    }
   ],
   "source": [
    "# Add code here 005\n",
    "AsciiString = \" \".join([w for w in AsciiString.split() if w not in stopwords.words('english')])\n",
    "AsciiString"
   ]
  },
  {
   "cell_type": "markdown",
   "metadata": {},
   "source": [
    "#### Lemmatize vs. Stemming\n",
    "- Here is an example of how words can be changed by lemmatization:\n",
    "    - rocks : rock\n",
    "    - corpora : corpus\n",
    "    - better : good\n",
    "- Here is an example of how words are changed by traditional stemming\n",
    "    - rocks : rock\n",
    "    - corpora : corp\n",
    "    - better : better\n",
    "- Let's now use `WordNetLemmatizer()` to reduce the words to their **stems**. HINT: Use the object's `lemmatize` method.  "
   ]
  },
  {
   "cell_type": "code",
   "execution_count": 11,
   "metadata": {},
   "outputs": [
    {
     "data": {
      "text/plain": [
       "'cleaning data favorite'"
      ]
     },
     "execution_count": 11,
     "metadata": {},
     "output_type": "execute_result"
    }
   ],
   "source": [
    "# Add code here 006\n",
    "lemmet = WordNetLemmatizer()\n",
    "\n",
    "AsciiString = \" \".join([lemmet.lemmatize(w) for w in AsciiString.split()])\n",
    "AsciiString"
   ]
  },
  {
   "cell_type": "markdown",
   "metadata": {},
   "source": [
    "### End of exercise"
   ]
  },
  {
   "cell_type": "markdown",
   "metadata": {},
   "source": [
    "Let's now combine the steps outlined in the above exercise and create a function to clean text for use. We will later use this function."
   ]
  },
  {
   "cell_type": "code",
   "execution_count": 12,
   "metadata": {},
   "outputs": [
    {
     "name": "stdout",
     "output_type": "stream",
     "text": [
      "before: \"I <3 cleaning data $\\ \\ $, it’s my ၲ  $\\ \\ $    fAvoRitEs!! 11!!!\"\n",
      "after : \"cleaning data favorite\"\n"
     ]
    },
    {
     "name": "stderr",
     "output_type": "stream",
     "text": [
      "<>:12: SyntaxWarning: invalid escape sequence '\\d'\n",
      "<>:12: SyntaxWarning: invalid escape sequence '\\d'\n",
      "/var/folders/72/0bcyzdyx7h3cvbp3wdsv12gh0000gn/T/ipykernel_12906/594333260.py:12: SyntaxWarning: invalid escape sequence '\\d'\n",
      "  text = re.sub(\"\\d+\", \"\", text)\n"
     ]
    }
   ],
   "source": [
    "def preprocess(text, list_of_steps):\n",
    "    \n",
    "    for step in list_of_steps:\n",
    "        if step == 'remove_non_ascii':\n",
    "            text = ''.join([x for x in text if ord(x) < 128])\n",
    "        elif step == 'lowercase':\n",
    "            text = text.lower()\n",
    "        elif step == 'remove_punctuation':\n",
    "            punct_exclude = set(string.punctuation)\n",
    "            text = ''.join(char for char in text if char not in punct_exclude)\n",
    "        elif step == 'remove_numbers':\n",
    "            text = re.sub(\"\\d+\", \"\", text)\n",
    "        elif step == 'strip_whitespace':\n",
    "            text = ' '.join(text.split())\n",
    "        elif step == 'remove_stopwords':\n",
    "            stops = stopwords.words('english')\n",
    "            word_list = text.split(' ')\n",
    "            text_words = [word for word in word_list if word not in stops]\n",
    "            text = ' '.join(text_words)\n",
    "        elif step == 'stem_words':\n",
    "            lmtzr = WordNetLemmatizer()\n",
    "            word_list = text.split(' ')\n",
    "            stemmed_words = [lmtzr.lemmatize(word) for word in word_list]\n",
    "            text = ' '.join(stemmed_words)\n",
    "    return text\n",
    "\n",
    "step_list = ['remove_non_ascii', 'lowercase', 'remove_punctuation', 'remove_numbers',\n",
    "            'strip_whitespace', 'remove_stopwords', 'stem_words']\n",
    "\n",
    "print(\"before: \\\"{}\\\"\".format(horrible_tweet_text))\n",
    "print(\"after : \\\"{}\\\"\".format(preprocess(horrible_tweet_text, step_list)))"
   ]
  },
  {
   "cell_type": "markdown",
   "metadata": {},
   "source": [
    "#### Order Matters\n",
    "- Why do the following preprocess commands have different effects?  \n",
    "- Can you think of any other examples where the order of preprocessing text matters?"
   ]
  },
  {
   "cell_type": "code",
   "execution_count": 13,
   "metadata": {},
   "outputs": [
    {
     "name": "stdout",
     "output_type": "stream",
     "text": [
      "first stem then remove numbers:\" we took statistics \"\n",
      "first remove numbers then stem:\" we took statistic \"\n"
     ]
    }
   ],
   "source": [
    "my_string = 'we took statistics200'\n",
    "\n",
    "print('first stem then remove numbers:\"', preprocess(my_string, ['stem_words', 'remove_numbers']), '\"')\n",
    "print('first remove numbers then stem:\"', preprocess(my_string, ['remove_numbers', 'stem_words']), '\"')"
   ]
  },
  {
   "cell_type": "markdown",
   "metadata": {},
   "source": [
    "### Featurizing text data\n",
    "\n",
    "With clean data we can begin to ask what is the best way to extract features from the data. There are many more approaches for text analytics and natural language processing (NLP). We only mention a few below. Note that the collection of unique words in the data is called a **vocabulary**. To avoid having a vocabulary that's too large, we can trim it by keeping the most frequent $N$ words, making $N$ the size of the vocabulary. A **document** usually refers to a single data point with raw text, such as a tweet, a review, an invoice, etc. So our documents are made up of \"words\" that come from the corpus (ignoring any words that are not in the vocabulary). The question now is how do we represent such a data numerically? Here are two approaches:\n",
    "\n",
    "- The **bag of words model (BoW)** is a simple and surprisingly effective model for analysis of text data. The BoW model creates a **sparse vector representation** of each word in the corpus based on the frequency of the words in the document. The order of the words is not considered, nor is the similarity between different words. Despite serious shortcomings, the model can work well in many cases.\n",
    "- We can usually do much better by using **word embeddings**, which are **dense vector respresentations** for each word in the corpus. Word embeddings are learned by examining the word's **context** (other words around it). Word embeddings are very common in **deep learning** applications of NLP, although the embeddings themselves are learned using a shallow network. If we learn word embeddings from a very large data set once, we can save and re-use these word embeddings to create features for other data sets. In fact, **pre-trained word embeddings** are trained by large companies like Google and made available for use by others. So we can load these embeddings and numerically represent a document using the average of the embeddings of the words in it. Because word embeddings are vectors, such an average would also be a vector that is a dense representation of the document.\n",
    "\n",
    "As you can see, BoW models seem too simplistic and word embeddings seem a bit too sophisticated (I mean in the context of DATASCI 510 course). So here's another approach that is sort of between the two in terms of difficulty. It is called **TF-IDF** and it is a clever way to featurize words in documents. Just like a BoW model, we begin by \"tokenizing\" the data. In BoW we then create a one-hot encoded feature for each token (or word). But in TF-IDF we first extract the relative word frequencies per document (called **term frequencies** or TF), we then multiply the term frequencies by a multiplier we call IDF. This has the effect of dampening the values for terms that appear frequently across documents, giving them less influence when we move on to the machine learning phase. Note that we used the words \"token\", \"word\" and \"term\" almost interchangeably. Sorry for confusing you! Data scientists don't always agree on terminology."
   ]
  },
  {
   "cell_type": "markdown",
   "metadata": {},
   "source": [
    "### Tokenize text\n",
    "\n",
    "As a first step in preparing text for analysis of a document is to **tokenize** the text. In general terms, tokenization is the process dividing raw text into words, symbols and other elements, known as **tokens**. A set of tokens from all documents in the data is known as a **corpus**.\n",
    "\n",
    "As a first step in creating a corpus is reading the data set. This particular data set is comprised of 160,000 tweets. The sentiment of these tweets has been human labeled as positive or negative (4 is for positive)."
   ]
  },
  {
   "cell_type": "code",
   "execution_count": 16,
   "metadata": {},
   "outputs": [
    {
     "name": "stdout",
     "output_type": "stream",
     "text": [
      "(50000, 2)\n"
     ]
    },
    {
     "data": {
      "text/html": [
       "<div>\n",
       "<style scoped>\n",
       "    .dataframe tbody tr th:only-of-type {\n",
       "        vertical-align: middle;\n",
       "    }\n",
       "\n",
       "    .dataframe tbody tr th {\n",
       "        vertical-align: top;\n",
       "    }\n",
       "\n",
       "    .dataframe thead th {\n",
       "        text-align: right;\n",
       "    }\n",
       "</style>\n",
       "<table border=\"1\" class=\"dataframe\">\n",
       "  <thead>\n",
       "    <tr style=\"text-align: right;\">\n",
       "      <th></th>\n",
       "      <th>sentiment_label</th>\n",
       "      <th>tweet_text</th>\n",
       "    </tr>\n",
       "  </thead>\n",
       "  <tbody>\n",
       "    <tr>\n",
       "      <th>0</th>\n",
       "      <td>4</td>\n",
       "      <td>@elephantbird Hey dear, Happy Friday to You  A...</td>\n",
       "    </tr>\n",
       "    <tr>\n",
       "      <th>1</th>\n",
       "      <td>4</td>\n",
       "      <td>Ughhh layin downnnn    Waiting for zeina to co...</td>\n",
       "    </tr>\n",
       "    <tr>\n",
       "      <th>2</th>\n",
       "      <td>0</td>\n",
       "      <td>@greeniebach I reckon he'll play, even if he's...</td>\n",
       "    </tr>\n",
       "    <tr>\n",
       "      <th>3</th>\n",
       "      <td>0</td>\n",
       "      <td>@vaLewee I know!  Saw it on the news!</td>\n",
       "    </tr>\n",
       "    <tr>\n",
       "      <th>4</th>\n",
       "      <td>0</td>\n",
       "      <td>very sad that http://www.fabchannel.com/ has c...</td>\n",
       "    </tr>\n",
       "  </tbody>\n",
       "</table>\n",
       "</div>"
      ],
      "text/plain": [
       "   sentiment_label                                         tweet_text\n",
       "0                4  @elephantbird Hey dear, Happy Friday to You  A...\n",
       "1                4  Ughhh layin downnnn    Waiting for zeina to co...\n",
       "2                0  @greeniebach I reckon he'll play, even if he's...\n",
       "3                0              @vaLewee I know!  Saw it on the news!\n",
       "4                0  very sad that http://www.fabchannel.com/ has c..."
      ]
     },
     "execution_count": 16,
     "metadata": {},
     "output_type": "execute_result"
    }
   ],
   "source": [
    "data_file = '../../data/twitter_data.csv'\n",
    "tweet_df = pd.read_csv(data_file)[0:50000]\n",
    "print(tweet_df.shape)\n",
    "tweet_df.head()"
   ]
  },
  {
   "cell_type": "markdown",
   "metadata": {},
   "source": [
    "Now that we have the data set read, we need to clean and then tokenize the tweets. Note that stemming can be slow on large datasets. It's sometimes helpful to profile such functions to find the main culprits and see if we can do anything to speed them up."
   ]
  },
  {
   "cell_type": "code",
   "execution_count": 17,
   "metadata": {},
   "outputs": [
    {
     "name": "stdout",
     "output_type": "stream",
     "text": [
      "         19872622 function calls (19872600 primitive calls) in 2.806 seconds\n",
      "\n",
      "   Ordered by: standard name\n",
      "\n",
      "   ncalls  tottime  percall  cumtime  percall filename:lineno(function)\n",
      "    50000    0.312    0.000    2.902    0.000 594333260.py:1(preprocess)\n",
      "  3527539    0.121    0.000    0.121    0.000 594333260.py:10(<genexpr>)\n",
      "        1    0.000    0.000    0.000    0.000 <frozen _collections_abc>:104(_check_methods)\n",
      "        1    0.000    0.000    0.000    0.000 <frozen _collections_abc>:288(__subclasshook__)\n",
      "        1    0.000    0.000    0.000    0.000 <frozen abc>:117(__instancecheck__)\n",
      "        3    0.000    0.000    0.000    0.000 <frozen abc>:121(__subclasscheck__)\n",
      "648493/648491    0.117    0.000    0.187    0.000 <frozen importlib._bootstrap>:1390(_handle_fromlist)\n",
      "    50000    0.019    0.000    2.920    0.000 <string>:1(<lambda>)\n",
      "        1    0.000    0.000    2.801    2.801 <string>:1(<module>)\n",
      "    50000    0.012    0.000    0.065    0.000 __init__.py:179(sub)\n",
      "        1    0.000    0.000    0.000    0.000 __init__.py:226(compile)\n",
      "    50001    0.010    0.000    0.015    0.000 __init__.py:280(_compile)\n",
      "        6    0.000    0.000    0.000    0.000 __init__.py:34(using_copy_on_write)\n",
      "        2    0.000    0.000    0.000    0.000 __init__.py:42(warn_copy_on_write)\n",
      "        3    0.000    0.000    0.000    0.000 __init__.py:55(using_pyarrow_string_dtype)\n",
      "        1    0.000    0.000    0.000    0.000 _base.py:337(_invoke_callbacks)\n",
      "        1    0.000    0.000    0.000    0.000 _base.py:537(set_result)\n",
      "        1    0.000    0.000    0.000    0.000 _compiler.py:37(_compile)\n",
      "        2    0.000    0.000    0.000    0.000 _compiler.py:428(_get_iscased)\n",
      "        1    0.000    0.000    0.000    0.000 _compiler.py:436(_get_literal_prefix)\n",
      "        1    0.000    0.000    0.000    0.000 _compiler.py:467(_get_charset_prefix)\n",
      "        1    0.000    0.000    0.000    0.000 _compiler.py:511(_compile_info)\n",
      "        2    0.000    0.000    0.000    0.000 _compiler.py:570(isstring)\n",
      "        1    0.000    0.000    0.000    0.000 _compiler.py:573(_code)\n",
      "        1    0.000    0.000    0.000    0.000 _compiler.py:740(compile)\n",
      "        1    0.000    0.000    0.000    0.000 _function_base_impl.py:5427(_insert_dispatcher)\n",
      "        1    0.000    0.000    0.000    0.000 _function_base_impl.py:5431(insert)\n",
      "        2    0.000    0.000    0.000    0.000 _function_base_impl.py:5621(_append_dispatcher)\n",
      "        2    0.000    0.000    0.000    0.000 _function_base_impl.py:5625(append)\n",
      "        1    0.000    0.000    0.000    0.000 _parser.py:113(__init__)\n",
      "        1    0.000    0.000    0.000    0.000 _parser.py:164(__len__)\n",
      "       60    0.000    0.000    0.000    0.000 _parser.py:168(__getitem__)\n",
      "       60    0.000    0.000    0.000    0.000 _parser.py:176(append)\n",
      "        1    0.000    0.000    0.000    0.000 _parser.py:178(getwidth)\n",
      "        1    0.000    0.000    0.000    0.000 _parser.py:231(__init__)\n",
      "       61    0.000    0.000    0.000    0.000 _parser.py:240(__next)\n",
      "        1    0.000    0.000    0.000    0.000 _parser.py:256(match)\n",
      "       60    0.000    0.000    0.000    0.000 _parser.py:261(get)\n",
      "        1    0.000    0.000    0.000    0.000 _parser.py:293(tell)\n",
      "        1    0.000    0.000    0.000    0.000 _parser.py:452(_parse_sub)\n",
      "        1    0.000    0.000    0.000    0.000 _parser.py:512(_parse)\n",
      "        1    0.000    0.000    0.000    0.000 _parser.py:77(__init__)\n",
      "        2    0.000    0.000    0.000    0.000 _parser.py:83(groups)\n",
      "        1    0.000    0.000    0.000    0.000 _parser.py:953(fix_flags)\n",
      "        1    0.000    0.000    0.000    0.000 _parser.py:969(parse)\n",
      "        1    0.011    0.011    2.800    2.800 algorithms.py:1667(map_array)\n",
      "        1    0.000    0.000    0.095    0.095 asyncio.py:200(_handle_events)\n",
      "        1    0.000    0.000    0.000    0.000 asyncio.py:225(add_callback)\n",
      "        5    0.000    0.000    0.000    0.000 attrsettr.py:43(__getattr__)\n",
      "        5    0.000    0.000    0.000    0.000 attrsettr.py:66(_get_attr_opt)\n",
      "        1    0.000    0.000    0.000    0.000 base.py:1671(name)\n",
      "        1    0.000    0.000    0.000    0.000 base.py:2776(_is_multi)\n",
      "        2    0.000    0.000    0.000    0.000 base.py:363(ndim)\n",
      "        2    0.000    0.000    0.000    0.000 base.py:3777(get_loc)\n",
      "       12    0.000    0.000    0.000    0.000 base.py:3809(<genexpr>)\n",
      "        1    0.000    0.000    0.000    0.000 base.py:475(__new__)\n",
      "        2    0.000    0.000    0.000    0.000 base.py:5144(_values)\n",
      "        1    0.000    0.000    0.000    0.000 base.py:5295(_validate_fill_value)\n",
      "        2    0.000    0.000    0.000    0.000 base.py:5323(__contains__)\n",
      "        2    0.000    0.000    0.000    0.000 base.py:5373(__getitem__)\n",
      "        1    0.000    0.000    0.000    0.000 base.py:591(_ensure_array)\n",
      "        1    0.000    0.000    0.000    0.000 base.py:609(_dtype_to_subclass)\n",
      "        1    0.000    0.000    0.000    0.000 base.py:649(_simple_new)\n",
      "        2    0.000    0.000    0.000    0.000 base.py:6672(_maybe_cast_indexer)\n",
      "        1    0.000    0.000    0.000    0.000 base.py:674(_with_infer)\n",
      "        1    0.000    0.000    0.000    0.000 base.py:6956(insert)\n",
      "        2    0.000    0.000    0.000    0.000 base.py:7593(ensure_index)\n",
      "        2    0.000    0.000    0.000    0.000 base.py:7688(maybe_extract_name)\n",
      "        1    0.000    0.000    0.000    0.000 base.py:82(shape)\n",
      "        1    0.000    0.000    0.000    0.000 base.py:831(_reset_identity)\n",
      "        3    0.000    0.000    0.000    0.000 base.py:84(<genexpr>)\n",
      "        1    0.000    0.000    0.000    0.000 base.py:86(_validate_set_axis)\n",
      "        1    0.000    0.000    2.800    2.800 base.py:891(_map_values)\n",
      "        2    0.000    0.000    0.000    0.000 base.py:909(__len__)\n",
      "        1    0.000    0.000    0.000    0.000 base.py:974(dtype)\n",
      "        1    0.000    0.000    0.000    0.000 base_events.py:1894(_add_callback)\n",
      "        4    0.000    0.000    0.102    0.026 base_events.py:1909(_run_once)\n",
      "        5    0.000    0.000    0.000    0.000 base_events.py:2004(get_debug)\n",
      "        3    0.000    0.000    0.000    0.000 base_events.py:539(_check_closed)\n",
      "        1    0.000    0.000    0.000    0.000 base_events.py:720(is_closed)\n",
      "        6    0.000    0.000    0.000    0.000 base_events.py:734(time)\n",
      "        2    0.000    0.000    0.000    0.000 base_events.py:785(call_soon)\n",
      "        3    0.000    0.000    0.000    0.000 base_events.py:814(_call_soon)\n",
      "        1    0.000    0.000    0.000    0.000 base_events.py:838(call_soon_threadsafe)\n",
      "        1    0.000    0.000    0.000    0.000 blocks.py:1253(iget)\n",
      "        3    0.000    0.000    0.000    0.000 blocks.py:214(is_extension)\n",
      "        2    0.000    0.000    0.000    0.000 blocks.py:2645(maybe_coerce_values)\n",
      "        2    0.000    0.000    0.000    0.000 blocks.py:2674(get_block_type)\n",
      "        1    0.000    0.000    0.000    0.000 blocks.py:2703(new_block_2d)\n",
      "        1    0.000    0.000    0.000    0.000 blocks.py:2716(new_block)\n",
      "        1    0.000    0.000    0.000    0.000 blocks.py:2811(ensure_block_shape)\n",
      "        2    0.000    0.000    0.000    0.000 cast.py:1156(maybe_infer_to_datetimelike)\n",
      "        1    0.000    0.000    0.000    0.000 cast.py:1760(np_can_hold_element)\n",
      "        1    0.000    0.000    0.000    0.000 common.py:1270(is_1d_only_ea_dtype)\n",
      "        2    0.000    0.000    0.000    0.000 common.py:1331(is_ea_or_datetimelike_dtype)\n",
      "        2    0.000    0.000    0.000    0.000 common.py:152(cast_scalar_indexer)\n",
      "        1    0.000    0.000    0.000    0.000 common.py:1571(validate_all_hashable)\n",
      "        2    0.000    0.000    0.000    0.000 common.py:1590(<genexpr>)\n",
      "        1    0.000    0.000    0.000    0.000 common.py:231(asarray_tuplesafe)\n",
      "        2    0.000    0.000    0.000    0.000 common.py:372(apply_if_callable)\n",
      "        1    0.000    0.000    0.000    0.000 common.py:568(require_length_match)\n",
      "        1    0.000    0.000    0.000    0.000 concurrent.py:182(future_set_result_unless_cancelled)\n",
      "        2    0.000    0.000    0.000    0.000 config.py:127(_get_single_key)\n",
      "        2    0.000    0.000    0.000    0.000 config.py:145(_get_option)\n",
      "        1    0.000    0.000    0.000    0.000 config.py:273(__call__)\n",
      "        2    0.000    0.000    0.000    0.000 config.py:617(_select_options)\n",
      "        2    0.000    0.000    0.000    0.000 config.py:635(_get_root)\n",
      "        3    0.000    0.000    0.000    0.000 config.py:649(_get_deprecated_option)\n",
      "        2    0.000    0.000    0.000    0.000 config.py:676(_translate_key)\n",
      "        1    0.000    0.000    0.000    0.000 config.py:688(_warn_if_deprecated)\n",
      "        2    0.000    0.000    0.000    0.000 construction.py:416(extract_array)\n",
      "        3    0.000    0.000    0.000    0.000 construction.py:481(ensure_wrapped_if_datetimelike)\n",
      "        2    0.000    0.000    0.000    0.000 construction.py:517(sanitize_array)\n",
      "        2    0.000    0.000    0.000    0.000 construction.py:696(_sanitize_ndim)\n",
      "        2    0.000    0.000    0.000    0.000 construction.py:735(_sanitize_str_dtypes)\n",
      "        2    0.000    0.000    0.000    0.000 construction.py:758(_maybe_repeat)\n",
      "        1    0.000    0.000    0.000    0.000 decorator.py:199(fix)\n",
      "        1    0.000    0.000    0.000    0.000 decorator.py:229(fun)\n",
      "       31    0.000    0.000    0.000    0.000 enum.py:1129(__new__)\n",
      "        1    0.000    0.000    0.000    0.000 enum.py:1292(value)\n",
      "       72    0.000    0.000    0.000    0.000 enum.py:1544(_get_value)\n",
      "       15    0.000    0.000    0.000    0.000 enum.py:1551(__or__)\n",
      "        9    0.000    0.000    0.000    0.000 enum.py:1562(__and__)\n",
      "        1    0.000    0.000    0.000    0.000 enum.py:202(__get__)\n",
      "       31    0.000    0.000    0.000    0.000 enum.py:726(__call__)\n",
      "        3    0.000    0.000    0.000    0.000 events.py:36(__init__)\n",
      "      5/4    0.000    0.000    0.096    0.024 events.py:86(_run)\n",
      "        2    0.000    0.000    0.000    0.000 flags.py:51(__init__)\n",
      "        2    0.000    0.000    0.000    0.000 flags.py:55(allows_duplicate_labels)\n",
      "        2    0.000    0.000    0.000    0.000 flags.py:87(allows_duplicate_labels)\n",
      "        1    0.000    0.000    0.000    0.000 frame.py:12675(_reindex_for_setitem)\n",
      "        1    0.000    0.000    0.000    0.000 frame.py:1643(__len__)\n",
      "        1    0.000    0.000    0.000    0.000 frame.py:3983(_ixs)\n",
      "        1    0.000    0.000    0.000    0.000 frame.py:4062(__getitem__)\n",
      "        1    0.000    0.000    0.001    0.001 frame.py:4271(__setitem__)\n",
      "        1    0.000    0.000    0.000    0.000 frame.py:4481(_set_item_mgr)\n",
      "        1    0.000    0.000    0.001    0.001 frame.py:4514(_set_item)\n",
      "        1    0.000    0.000    0.000    0.000 frame.py:4585(_ensure_valid_index)\n",
      "        1    0.000    0.000    0.000    0.000 frame.py:4608(_box_col_values)\n",
      "        1    0.000    0.000    0.000    0.000 frame.py:4626(_get_item_cache)\n",
      "        1    0.000    0.000    0.000    0.000 frame.py:5242(_sanitize_column)\n",
      "        1    0.000    0.000    0.000    0.000 frame.py:678(_constructor_sliced_from_mgr)\n",
      "        2    0.000    0.000    0.000    0.000 fromnumeric.py:1909(_ravel_dispatcher)\n",
      "        2    0.000    0.000    0.000    0.000 fromnumeric.py:1913(ravel)\n",
      "        1    0.000    0.000    0.000    0.000 futures.py:398(_call_set_state)\n",
      "        2    0.000    0.000    0.000    0.000 generic.py:278(__init__)\n",
      "        1    0.000    0.000    0.000    0.000 generic.py:339(_from_mgr)\n",
      "        2    0.000    0.000    0.000    0.000 generic.py:363(attrs)\n",
      "       13    0.000    0.000    0.000    0.000 generic.py:37(_check)\n",
      "        4    0.000    0.000    0.000    0.000 generic.py:405(flags)\n",
      "       13    0.000    0.000    0.000    0.000 generic.py:42(_instancecheck)\n",
      "        1    0.000    0.000    0.000    0.000 generic.py:4402(_check_setitem_copy)\n",
      "        2    0.000    0.000    0.000    0.000 generic.py:6236(__finalize__)\n",
      "        1    0.000    0.000    0.000    0.000 generic.py:6284(__getattr__)\n",
      "        6    0.000    0.000    0.000    0.000 generic.py:6301(__setattr__)\n",
      "        2    0.000    0.000    0.000    0.000 generic.py:667(_info_axis)\n",
      "        1    0.000    0.000    0.000    0.000 generic.py:807(_set_axis)\n",
      "        1    0.000    0.000    0.000    0.000 history.py:55(only_when_enabled)\n",
      "        1    0.000    0.000    0.000    0.000 history.py:833(_writeout_input_cache)\n",
      "        1    0.000    0.000    0.000    0.000 history.py:839(_writeout_output_cache)\n",
      "        1    0.000    0.000    0.000    0.000 history.py:845(writeout_cache)\n",
      "        1    0.000    0.000    0.000    0.000 indexing.py:2765(check_dict_or_set_indexers)\n",
      "        2    0.000    0.000    0.000    0.000 inference.py:273(is_dict_like)\n",
      "        6    0.000    0.000    0.000    0.000 inference.py:300(<genexpr>)\n",
      "        4    0.000    0.000    0.000    0.000 inference.py:334(is_hashable)\n",
      "        4    0.000    0.000    0.000    0.000 inspect.py:2792(name)\n",
      "       10    0.000    0.000    0.000    0.000 inspect.py:2804(kind)\n",
      "        1    0.000    0.000    0.000    0.000 inspect.py:2884(__init__)\n",
      "        1    0.000    0.000    0.000    0.000 inspect.py:2892(args)\n",
      "        1    0.000    0.000    0.000    0.000 inspect.py:2915(kwargs)\n",
      "        1    0.000    0.000    0.000    0.000 inspect.py:2945(apply_defaults)\n",
      "        4    0.000    0.000    0.000    0.000 inspect.py:3085(parameters)\n",
      "        1    0.000    0.000    0.000    0.000 inspect.py:3129(_bind)\n",
      "        1    0.000    0.000    0.000    0.000 inspect.py:3268(bind)\n",
      "        2    0.000    0.000    0.000    0.000 ioloop.py:742(_run_callback)\n",
      "        2    0.000    0.000    0.000    0.000 iostream.py:157(_handle_event)\n",
      "        2    0.000    0.000    0.000    0.000 iostream.py:213(_is_master_process)\n",
      "        2    0.000    0.000    0.000    0.000 iostream.py:216(_check_mp_mode)\n",
      "        2    0.000    0.000    0.000    0.000 iostream.py:255(closed)\n",
      "        2    0.000    0.000    0.000    0.000 iostream.py:276(<lambda>)\n",
      "        2    0.000    0.000    0.000    0.000 iostream.py:278(_really_send)\n",
      "        1    0.000    0.000    0.000    0.000 iostream.py:616(_flush)\n",
      "        1    0.000    0.000    0.000    0.000 iostream.py:710(_flush_buffers)\n",
      "        1    0.000    0.000    0.000    0.000 iostream.py:718(_rotate_buffers)\n",
      "        1    0.000    0.000    0.006    0.006 kernelbase.py:302(poll_control_queue)\n",
      "        1    0.000    0.000    0.000    0.000 locks.py:224(clear)\n",
      "        1    0.000    0.000    0.000    0.000 managers.py:1012(iget)\n",
      "        1    0.000    0.000    0.000    0.000 managers.py:1347(insert)\n",
      "        4    0.000    0.000    0.000    0.000 managers.py:1392(<genexpr>)\n",
      "        1    0.000    0.000    0.000    0.000 managers.py:1402(_insert_update_mgr_locs)\n",
      "        1    0.000    0.000    0.000    0.000 managers.py:1412(_insert_update_blklocs_and_blknos)\n",
      "        2    0.000    0.000    0.000    0.000 managers.py:180(blknos)\n",
      "        2    0.000    0.000    0.000    0.000 managers.py:1837(__init__)\n",
      "        1    0.000    0.000    0.000    0.000 managers.py:1863(from_array)\n",
      "        2    0.000    0.000    0.000    0.000 managers.py:1940(_block)\n",
      "        2    0.000    0.000    0.000    0.000 managers.py:196(blklocs)\n",
      "        2    0.000    0.000    0.000    0.000 managers.py:2004(internal_values)\n",
      "        1    0.000    0.000    0.000    0.000 managers.py:2311(_fast_count_smallints)\n",
      "        1    0.000    0.000    0.000    0.000 managers.py:236(set_axis)\n",
      "        1    0.000    0.000    0.000    0.000 managers.py:246(items)\n",
      "        1    0.000    0.000    0.000    0.000 missing.py:101(isna)\n",
      "        1    0.000    0.000    0.000    0.000 missing.py:184(_isna)\n",
      "        1    0.000    0.000    0.000    0.000 missing.py:728(is_valid_na_for_dtype)\n",
      "        4    0.000    0.000    0.000    0.000 multiarray.py:1101(copyto)\n",
      "        2    0.000    0.000    0.000    0.000 multiarray.py:161(concatenate)\n",
      "        1    0.000    0.000    0.000    0.000 multiarray.py:910(bincount)\n",
      "        2    0.000    0.000    0.000    0.000 numeric.py:1388(normalize_axis_tuple)\n",
      "        1    0.000    0.000    0.000    0.000 numeric.py:1448(_moveaxis_dispatcher)\n",
      "        1    0.000    0.000    0.000    0.000 numeric.py:1452(moveaxis)\n",
      "        4    0.000    0.000    0.000    0.000 numeric.py:303(full)\n",
      "        3    0.000    0.000    0.000    0.000 queue.py:209(_qsize)\n",
      "        3    0.000    0.000    0.000    0.000 queue.py:97(empty)\n",
      "        1    0.000    0.000    0.000    0.000 queues.py:173(qsize)\n",
      "        1    0.000    0.000    0.000    0.000 queues.py:177(empty)\n",
      "        1    0.000    0.000    0.000    0.000 queues.py:186(put)\n",
      "        1    0.000    0.000    0.000    0.000 queues.py:209(put_nowait)\n",
      "        1    0.000    0.000    0.000    0.000 queues.py:225(get)\n",
      "        1    0.000    0.000    0.000    0.000 queues.py:256(get_nowait)\n",
      "        1    0.000    0.000    0.000    0.000 queues.py:309(_get)\n",
      "        1    0.000    0.000    0.000    0.000 queues.py:312(_put)\n",
      "        1    0.000    0.000    0.000    0.000 queues.py:317(__put_internal)\n",
      "        2    0.000    0.000    0.000    0.000 queues.py:322(_consume_expired)\n",
      "        1    0.000    0.000    0.000    0.000 queues.py:59(_set_timeout)\n",
      "        1    0.000    0.000    0.000    0.000 range.py:553(equals)\n",
      "        7    0.000    0.000    0.000    0.000 range.py:999(__len__)\n",
      "        1    0.000    0.000    0.000    0.000 selector_events.py:129(_read_from_self)\n",
      "        1    0.000    0.000    0.000    0.000 selector_events.py:141(_write_to_self)\n",
      "        4    0.000    0.000    0.000    0.000 selector_events.py:750(_process_events)\n",
      "        1    0.000    0.000    0.000    0.000 selectors.py:275(_key_from_fd)\n",
      "      4/3    0.000    0.000    0.000    0.000 selectors.py:558(select)\n",
      "        1    0.000    0.000    0.000    0.000 series.py:1471(_set_as_cached)\n",
      "        1    0.000    0.000    0.000    0.000 series.py:1480(_clear_item_cache)\n",
      "        1    0.000    0.000    0.000    0.000 series.py:389(__init__)\n",
      "        1    0.000    0.000    2.800    2.800 series.py:4620(map)\n",
      "        1    0.000    0.000    0.000    0.000 series.py:660(_constructor)\n",
      "        1    0.000    0.000    0.000    0.000 series.py:734(name)\n",
      "        1    0.000    0.000    0.000    0.000 series.py:784(name)\n",
      "        2    0.000    0.000    0.000    0.000 series.py:831(_values)\n",
      "       14    0.000    0.000    0.000    0.000 socket.py:626(send)\n",
      "        2    0.000    0.000    0.000    0.000 socket.py:703(send_multipart)\n",
      "        2    0.000    0.000    0.000    0.000 socket.py:774(recv_multipart)\n",
      "        3    0.000    0.000    0.000    0.000 threading.py:299(__enter__)\n",
      "        3    0.000    0.000    0.000    0.000 threading.py:302(__exit__)\n",
      "        1    0.000    0.000    0.000    0.000 threading.py:308(_release_save)\n",
      "        1    0.000    0.000    0.000    0.000 threading.py:311(_acquire_restore)\n",
      "        1    0.000    0.000    0.000    0.000 threading.py:314(_is_owned)\n",
      "        1    0.000    0.000    0.000    0.000 threading.py:394(notify)\n",
      "        1    0.000    0.000    0.000    0.000 threading.py:424(notify_all)\n",
      "        1    0.000    0.000    0.000    0.000 threading.py:627(clear)\n",
      "        1    0.000    0.000    0.000    0.000 traitlets.py:1512(_notify_trait)\n",
      "        1    0.000    0.000    0.000    0.000 traitlets.py:1523(notify_change)\n",
      "        1    0.000    0.000    0.000    0.000 traitlets.py:1527(_notify_observers)\n",
      "        2    0.000    0.000    0.000    0.000 traitlets.py:2304(validate)\n",
      "        2    0.000    0.000    0.000    0.000 traitlets.py:3474(validate)\n",
      "        2    0.000    0.000    0.000    0.000 traitlets.py:3486(validate_elements)\n",
      "        2    0.000    0.000    0.000    0.000 traitlets.py:3624(validate_elements)\n",
      "        2    0.000    0.000    0.000    0.000 traitlets.py:3631(set)\n",
      "        6    0.000    0.000    0.000    0.000 traitlets.py:629(get)\n",
      "        6    0.000    0.000    0.000    0.000 traitlets.py:676(__get__)\n",
      "        2    0.000    0.000    0.000    0.000 traitlets.py:689(set)\n",
      "        2    0.000    0.000    0.000    0.000 traitlets.py:708(__set__)\n",
      "        2    0.000    0.000    0.000    0.000 traitlets.py:718(_validate)\n",
      "        2    0.000    0.000    0.000    0.000 traitlets.py:727(_cross_validate)\n",
      "        2    0.000    0.000    0.000    0.000 typing.py:1221(__instancecheck__)\n",
      "        4    0.000    0.000    0.000    0.000 typing.py:1285(__hash__)\n",
      "        2    0.000    0.000    0.000    0.000 typing.py:1492(__subclasscheck__)\n",
      "       27    0.000    0.000    0.000    0.000 typing.py:2182(cast)\n",
      "        6    0.000    0.000    0.000    0.000 typing.py:392(inner)\n",
      "        1    0.000    0.000    0.000    0.000 unix_events.py:81(_process_self_data)\n",
      "        1    0.000    0.000    0.000    0.000 warnings.py:133(filterwarnings)\n",
      "        1    0.000    0.000    0.000    0.000 warnings.py:184(_add_filter)\n",
      "        2    0.000    0.000    0.000    0.000 warnings.py:458(__init__)\n",
      "        2    0.000    0.000    0.000    0.000 warnings.py:484(__enter__)\n",
      "        2    0.000    0.000    0.000    0.000 warnings.py:505(__exit__)\n",
      "   648488    0.268    0.000    1.365    0.000 wordnet.py:2072(_morphy)\n",
      "   639901    0.361    0.000    0.795    0.000 wordnet.py:2082(apply_rules)\n",
      "   648488    0.257    0.000    0.302    0.000 wordnet.py:2090(filter_forms)\n",
      "   648488    0.245    0.000    1.796    0.000 wordnet.py:30(_morphy)\n",
      "   648488    0.101    0.000    2.048    0.000 wordnet.py:60(lemmatize)\n",
      "        5    0.000    0.000    0.000    0.000 zmqstream.py:538(receiving)\n",
      "        3    0.000    0.000    0.000    0.000 zmqstream.py:542(sending)\n",
      "        2    0.000    0.000    0.000    0.000 zmqstream.py:556(_run_callback)\n",
      "        2    0.000    0.000    0.095    0.048 zmqstream.py:583(_handle_events)\n",
      "        2    0.000    0.000    0.095    0.048 zmqstream.py:624(_handle_recv)\n",
      "        3    0.000    0.000    0.000    0.000 zmqstream.py:663(_rebuild_io_state)\n",
      "        3    0.000    0.000    0.000    0.000 zmqstream.py:686(_update_handler)\n",
      "        1    0.000    0.000    0.000    0.000 zmqstream.py:694(<lambda>)\n",
      "        2    0.000    0.000    0.000    0.000 {built-in method __new__ of type object at 0x10525f330}\n",
      "        1    0.000    0.000    0.000    0.000 {built-in method _abc._abc_instancecheck}\n",
      "        3    0.000    0.000    0.000    0.000 {built-in method _abc._abc_subclasscheck}\n",
      "        1    0.000    0.000    0.000    0.000 {built-in method _asyncio.get_running_loop}\n",
      "        2    0.000    0.000    0.000    0.000 {built-in method _contextvars.copy_context}\n",
      "        1    0.000    0.000    0.000    0.000 {built-in method _heapq.heappop}\n",
      "        2    0.000    0.000    0.000    0.000 {built-in method _operator.index}\n",
      "        1    0.000    0.000    0.000    0.000 {built-in method _sre.compile}\n",
      "       61    0.000    0.000    0.000    0.000 {built-in method _sre.unicode_iscased}\n",
      "       51    0.000    0.000    0.000    0.000 {built-in method _sre.unicode_tolower}\n",
      "        1    0.000    0.000    0.000    0.000 {built-in method _thread.allocate_lock}\n",
      "        5    0.000    0.000    0.000    0.000 {built-in method _warnings._filters_mutated}\n",
      "        3    0.000    0.000    0.000    0.000 {built-in method builtins.all}\n",
      "        1    0.000    0.000    0.000    0.000 {built-in method builtins.any}\n",
      "        2    0.000    0.000    0.000    0.000 {built-in method builtins.callable}\n",
      "       28    0.000    0.000    0.000    0.000 {built-in method builtins.getattr}\n",
      "   648503    0.041    0.000    0.041    0.000 {built-in method builtins.hasattr}\n",
      "       10    0.000    0.000    0.000    0.000 {built-in method builtins.hash}\n",
      "698811/698807    0.034    0.000    0.035    0.000 {built-in method builtins.isinstance}\n",
      "        8    0.000    0.000    0.000    0.000 {built-in method builtins.issubclass}\n",
      "        4    0.000    0.000    0.000    0.000 {built-in method builtins.iter}\n",
      "56575/56564    0.003    0.000    0.003    0.000 {built-in method builtins.len}\n",
      "        6    0.000    0.000    0.000    0.000 {built-in method builtins.max}\n",
      "   334792    0.049    0.000    0.049    0.000 {built-in method builtins.min}\n",
      "        8    0.000    0.000    0.000    0.000 {built-in method builtins.next}\n",
      "  3679644    0.106    0.000    0.106    0.000 {built-in method builtins.ord}\n",
      "        1    0.000    0.000    0.000    0.000 {built-in method builtins.sorted}\n",
      "        1    0.000    0.000    0.000    0.000 {built-in method builtins.sum}\n",
      "        1    0.000    0.000    0.000    0.000 {built-in method gc.get_referents}\n",
      "        2    0.000    0.000    0.000    0.000 {built-in method numpy.array}\n",
      "        4    0.000    0.000    0.000    0.000 {built-in method numpy.asanyarray}\n",
      "        5    0.000    0.000    0.000    0.000 {built-in method numpy.asarray}\n",
      "        5    0.000    0.000    0.000    0.000 {built-in method numpy.empty}\n",
      "        2    0.000    0.000    0.000    0.000 {built-in method numpy.lib.array_utils.normalize_axis_index}\n",
      "        2    0.000    0.000    0.000    0.000 {built-in method posix.getpid}\n",
      "        1    0.000    0.000    0.000    0.000 {built-in method sys.getrefcount}\n",
      "        6    0.000    0.000    0.000    0.000 {built-in method time.monotonic}\n",
      "        1    0.000    0.000    0.000    0.000 {method '__enter__' of '_thread.RLock' objects}\n",
      "        2    0.000    0.000    0.000    0.000 {method '__enter__' of '_thread.lock' objects}\n",
      "        2    0.000    0.000    0.000    0.000 {method '__exit__' of '_thread.RLock' objects}\n",
      "        7    0.000    0.000    0.000    0.000 {method '__exit__' of '_thread.lock' objects}\n",
      "        2    0.000    0.000    0.000    0.000 {method '__exit__' of 'sqlite3.Connection' objects}\n",
      "        1    0.000    0.000    0.000    0.000 {method '_is_owned' of '_thread.RLock' objects}\n",
      "        3    0.000    0.000    0.000    0.000 {method 'acquire' of '_thread.lock' objects}\n",
      "   341902    0.021    0.000    0.021    0.000 {method 'add' of 'set' objects}\n",
      "        8    0.000    0.000    0.000    0.000 {method 'append' of 'collections.deque' objects}\n",
      "   342128    0.024    0.000    0.024    0.000 {method 'append' of 'list' objects}\n",
      "        1    0.000    0.000    0.000    0.000 {method 'as_arrays' of 'numpy._core._multiarray_umath._array_converter' objects}\n",
      "        1    0.000    0.000    0.000    0.000 {method 'astype' of 'numpy.ndarray' objects}\n",
      "        2    0.000    0.000    0.000    0.000 {method 'cancelled' of '_asyncio.Future' objects}\n",
      "      3/1    0.000    0.000    0.000    0.000 {method 'control' of 'select.kqueue' objects}\n",
      "        1    0.000    0.000    0.000    0.000 {method 'copy' of 'numpy.ndarray' objects}\n",
      "        1    0.000    0.000    0.000    0.000 {method 'disable' of '_lsprof.Profiler' objects}\n",
      "        1    0.000    0.000    0.000    0.000 {method 'done' of '_asyncio.Future' objects}\n",
      "  5759109    0.430    0.000    0.430    0.000 {method 'endswith' of 'str' objects}\n",
      "        1    0.000    0.000    0.000    0.000 {method 'execute' of 'sqlite3.Connection' objects}\n",
      "        2    0.000    0.000    0.000    0.000 {method 'extend' of 'list' objects}\n",
      "        5    0.000    0.000    0.000    0.000 {method 'get' of 'dict' objects}\n",
      "        2    0.000    0.000    0.000    0.000 {method 'insert' of 'list' objects}\n",
      "        1    0.000    0.000    0.000    0.000 {method 'item' of 'numpy.ndarray' objects}\n",
      "        2    0.000    0.000    0.000    0.000 {method 'items' of 'dict' objects}\n",
      "        3    0.000    0.000    0.000    0.000 {method 'items' of 'mappingproxy' objects}\n",
      "   200000    0.185    0.000    0.305    0.000 {method 'join' of 'str' objects}\n",
      "    50000    0.006    0.000    0.006    0.000 {method 'lower' of 'str' objects}\n",
      "        1    0.000    0.000    0.000    0.000 {method 'nonzero' of 'numpy.ndarray' objects}\n",
      "        1    0.000    0.000    0.000    0.000 {method 'pop' of 'dict' objects}\n",
      "        9    0.000    0.000    0.000    0.000 {method 'popleft' of 'collections.deque' objects}\n",
      "        2    0.000    0.000    0.000    0.000 {method 'ravel' of 'numpy.ndarray' objects}\n",
      "        2    0.000    0.000    0.000    0.000 {method 'recv' of '_socket.socket' objects}\n",
      "        1    0.000    0.000    0.000    0.000 {method 'release' of '_thread.lock' objects}\n",
      "        1    0.000    0.000    0.000    0.000 {method 'remove' of 'list' objects}\n",
      "        1    0.000    0.000    0.000    0.000 {method 'reshape' of 'numpy.ndarray' objects}\n",
      "      5/4    0.000    0.000    0.096    0.024 {method 'run' of '_contextvars.Context' objects}\n",
      "        1    0.000    0.000    0.000    0.000 {method 'send' of '_socket.socket' objects}\n",
      "        2    0.000    0.000    0.000    0.000 {method 'set_result' of '_asyncio.Future' objects}\n",
      "   100002    0.033    0.000    0.033    0.000 {method 'split' of 'str' objects}\n",
      "    50000    0.039    0.000    0.039    0.000 {method 'sub' of 're.Pattern' objects}\n",
      "        1    0.000    0.000    0.000    0.000 {method 'transpose' of 'numpy.ndarray' objects}\n",
      "        5    0.000    0.000    0.000    0.000 {method 'upper' of 'str' objects}\n",
      "        1    0.000    0.000    0.000    0.000 {method 'values' of 'mappingproxy' objects}\n",
      "        1    0.000    0.000    0.000    0.000 {method 'wrap' of 'numpy._core._multiarray_umath._array_converter' objects}\n",
      "\n",
      "\n"
     ]
    }
   ],
   "source": [
    "steps = ['remove_non_ascii','lowercase', 'remove_punctuation', 'remove_numbers', 'strip_whitespace', 'stem_words']\n",
    "#tweet_df['clean_tweet'] = tweet_df['tweet_text'].map(lambda s: preprocess(s, steps))\n",
    "cProfile.run(\"tweet_df['clean_tweet'] = tweet_df['tweet_text'].map(lambda s: preprocess(s, steps))\");"
   ]
  },
  {
   "cell_type": "code",
   "execution_count": 18,
   "metadata": {},
   "outputs": [
    {
     "data": {
      "text/html": [
       "<div>\n",
       "<style scoped>\n",
       "    .dataframe tbody tr th:only-of-type {\n",
       "        vertical-align: middle;\n",
       "    }\n",
       "\n",
       "    .dataframe tbody tr th {\n",
       "        vertical-align: top;\n",
       "    }\n",
       "\n",
       "    .dataframe thead th {\n",
       "        text-align: right;\n",
       "    }\n",
       "</style>\n",
       "<table border=\"1\" class=\"dataframe\">\n",
       "  <thead>\n",
       "    <tr style=\"text-align: right;\">\n",
       "      <th></th>\n",
       "      <th>sentiment_label</th>\n",
       "      <th>tweet_text</th>\n",
       "      <th>clean_tweet</th>\n",
       "    </tr>\n",
       "  </thead>\n",
       "  <tbody>\n",
       "    <tr>\n",
       "      <th>0</th>\n",
       "      <td>4</td>\n",
       "      <td>@elephantbird Hey dear, Happy Friday to You  A...</td>\n",
       "      <td>elephantbird hey dear happy friday to you alre...</td>\n",
       "    </tr>\n",
       "    <tr>\n",
       "      <th>1</th>\n",
       "      <td>4</td>\n",
       "      <td>Ughhh layin downnnn    Waiting for zeina to co...</td>\n",
       "      <td>ughhh layin downnnn waiting for zeina to cook ...</td>\n",
       "    </tr>\n",
       "    <tr>\n",
       "      <th>2</th>\n",
       "      <td>0</td>\n",
       "      <td>@greeniebach I reckon he'll play, even if he's...</td>\n",
       "      <td>greeniebach i reckon hell play even if he not ...</td>\n",
       "    </tr>\n",
       "    <tr>\n",
       "      <th>3</th>\n",
       "      <td>0</td>\n",
       "      <td>@vaLewee I know!  Saw it on the news!</td>\n",
       "      <td>valewee i know saw it on the news</td>\n",
       "    </tr>\n",
       "    <tr>\n",
       "      <th>4</th>\n",
       "      <td>0</td>\n",
       "      <td>very sad that http://www.fabchannel.com/ has c...</td>\n",
       "      <td>very sad that httpwwwfabchannelcom ha closed d...</td>\n",
       "    </tr>\n",
       "    <tr>\n",
       "      <th>5</th>\n",
       "      <td>0</td>\n",
       "      <td>@Fearnecotton who sings 'I Remember'? i always...</td>\n",
       "      <td>fearnecotton who sings i remember i alwaysss h...</td>\n",
       "    </tr>\n",
       "    <tr>\n",
       "      <th>6</th>\n",
       "      <td>4</td>\n",
       "      <td>With God on ur side anything is possible....</td>\n",
       "      <td>with god on ur side anything is possible</td>\n",
       "    </tr>\n",
       "    <tr>\n",
       "      <th>7</th>\n",
       "      <td>0</td>\n",
       "      <td>@LoveSmrs why being stupid?</td>\n",
       "      <td>lovesmrs why being stupid</td>\n",
       "    </tr>\n",
       "    <tr>\n",
       "      <th>8</th>\n",
       "      <td>0</td>\n",
       "      <td>Having delved back into the guts of Expression...</td>\n",
       "      <td>having delved back into the gut of expression ...</td>\n",
       "    </tr>\n",
       "    <tr>\n",
       "      <th>9</th>\n",
       "      <td>0</td>\n",
       "      <td>@emoskank awww   take him with you!</td>\n",
       "      <td>emoskank awww take him with you</td>\n",
       "    </tr>\n",
       "  </tbody>\n",
       "</table>\n",
       "</div>"
      ],
      "text/plain": [
       "   sentiment_label                                         tweet_text  \\\n",
       "0                4  @elephantbird Hey dear, Happy Friday to You  A...   \n",
       "1                4  Ughhh layin downnnn    Waiting for zeina to co...   \n",
       "2                0  @greeniebach I reckon he'll play, even if he's...   \n",
       "3                0              @vaLewee I know!  Saw it on the news!   \n",
       "4                0  very sad that http://www.fabchannel.com/ has c...   \n",
       "5                0  @Fearnecotton who sings 'I Remember'? i always...   \n",
       "6                4       With God on ur side anything is possible....   \n",
       "7                0                        @LoveSmrs why being stupid?   \n",
       "8                0  Having delved back into the guts of Expression...   \n",
       "9                0                @emoskank awww   take him with you!   \n",
       "\n",
       "                                         clean_tweet  \n",
       "0  elephantbird hey dear happy friday to you alre...  \n",
       "1  ughhh layin downnnn waiting for zeina to cook ...  \n",
       "2  greeniebach i reckon hell play even if he not ...  \n",
       "3                  valewee i know saw it on the news  \n",
       "4  very sad that httpwwwfabchannelcom ha closed d...  \n",
       "5  fearnecotton who sings i remember i alwaysss h...  \n",
       "6           with god on ur side anything is possible  \n",
       "7                          lovesmrs why being stupid  \n",
       "8  having delved back into the gut of expression ...  \n",
       "9                    emoskank awww take him with you  "
      ]
     },
     "execution_count": 18,
     "metadata": {},
     "output_type": "execute_result"
    }
   ],
   "source": [
    "tweet_df.head(10)"
   ]
  },
  {
   "cell_type": "markdown",
   "metadata": {},
   "source": [
    "**NOTE:** To help us understand TF-IDF in great detail, we learn about TF-IDF in two different ways:\n",
    "\n",
    "- We first run through the steps \"manually\", so that we can see more of the implementation details. \n",
    "- We then apply TF-IDF using `sklearn` in a few lines of code, which will hide all of that detail.\n",
    "\n",
    "## Computing TF-IDF\n",
    "\n",
    "Computing the TF-IDF values manually consist of several steps:\n",
    "1. We obtain the term-document matirx. \n",
    "1. We calculate the **term-frequency (TF)** matirx, where $\\text{TF(doc, term)}$ is the term frequencies from the term document matrix divided by the total number of terms in the document. In other words, we turn the frequencies into percentages (also called relative frequencies).\n",
    "1. We trim the term-document matrix if needed. This gets rid of useless words that frequently appear across documents.\n",
    "1. We can also derive the **inverse document frequencies (IDF)** matrix:\n",
    "\n",
    "   $$\\text{IDF(term)} = \\log(\\frac{\\text{number of documents + 1}}{\\text{number of documents with term in it} + 1})$$\n",
    "\n",
    "   Note that TF is a function of both term and document, but the IDF is just a function of the terms.\n",
    "1. We multiply the TF with IDF values to get TF-IDF values. This results in **term frequency inverse document frequency (TF-IDF) maxtrix**. \n",
    "   \n",
    "   $$\\text{TF-IDF} = \\text{TF(term, doc)} \\cdot \\text{IDF(term)}$$\n",
    "\n",
    "To get an intuition behind what's happening, here's what the IDF function looks like:"
   ]
  },
  {
   "cell_type": "code",
   "execution_count": 19,
   "metadata": {},
   "outputs": [
    {
     "data": {
      "image/png": "[encoded data removed]",
      "text/plain": [
       "<Figure size 640x480 with 1 Axes>"
      ]
     },
     "metadata": {},
     "output_type": "display_data"
    }
   ],
   "source": [
    "%matplotlib inline\n",
    "DD = [100, 200, 500, 1000] # number of documents\n",
    "for D in DD:\n",
    "    x = np.linspace(0, D, num=D+1) # number of documents with the term\n",
    "    sns.lineplot(x = x, y = np.log((D + 1) / (x + 1)), label=f\"D={D}\")\n",
    "plt.legend()\n",
    "plt.grid();"
   ]
  },
  {
   "cell_type": "markdown",
   "metadata": {},
   "source": [
    "TFs give us the relative frequency terms in the documents. We use the IDFs to then dampen the TFs for terms that appear frequently across documents by virtue of being common terms. This will make it so rarer terms get to exert more influence during the machine learning phase.\n",
    "\n",
    "Applications of TF-IDF include\n",
    "\n",
    "- Characterize writing styles\n",
    "- Comparing authors\n",
    "- Determining original authors\n",
    "- Finding plagiarism\n",
    "\n",
    "Let's now implement this for the tweet data:"
   ]
  },
  {
   "cell_type": "markdown",
   "metadata": {},
   "source": [
    "### Step 1: Get the term-document matrix\n",
    "\n",
    "<img src=\"https://www.ferventlearning.com/wp-content/uploads/2020/12/articleImagery_IAWNLP-ABF-28_4-1536x864.jpg\" alt=\"drawing\" width=\"480\"/>\n",
    "\n",
    "We first break up the words in the text:"
   ]
  },
  {
   "cell_type": "code",
   "execution_count": 20,
   "metadata": {},
   "outputs": [],
   "source": [
    "clean_texts = tweet_df['clean_tweet']\n",
    "docs = {}\n",
    "for ix, row in enumerate(clean_texts):\n",
    "    docs[ix] = row.split(' ')"
   ]
  },
  {
   "cell_type": "code",
   "execution_count": 21,
   "metadata": {},
   "outputs": [
    {
     "name": "stdout",
     "output_type": "stream",
     "text": [
      "Example entry: ['i', 'wish', 'i', 'could', 'see', 'lenny', 'kravitz', 'in', 'krakow']\n",
      "\n",
      "From the 50000 possible documents.\n"
     ]
    }
   ],
   "source": [
    "print('Example entry: {}\\n\\nFrom the {} possible documents.'.format(docs[np.random.choice(ix)], tweet_df.shape[0]))"
   ]
  },
  {
   "cell_type": "code",
   "execution_count": 22,
   "metadata": {},
   "outputs": [
    {
     "name": "stdout",
     "output_type": "stream",
     "text": [
      "Our cleaned tweet corpus has 648488 words\n"
     ]
    }
   ],
   "source": [
    "numberOfWords = 0\n",
    "for word_list in docs.values():\n",
    "    numberOfWords += len(word_list)\n",
    "print('Our cleaned tweet corpus has', numberOfWords, 'words')"
   ]
  },
  {
   "cell_type": "markdown",
   "metadata": {},
   "source": [
    "We can now create our document-term matrix, keeping track of its size."
   ]
  },
  {
   "cell_type": "code",
   "execution_count": 23,
   "metadata": {},
   "outputs": [
    {
     "name": "stdout",
     "output_type": "stream",
     "text": [
      "Our tweet-vocabulary has 60,780 distinct words.\n",
      "That is out of a total number of 612,791 unique words in each document, in the corpus.\n"
     ]
    }
   ],
   "source": [
    "num_nonzero = 0\n",
    "vocab = set()\n",
    "\n",
    "for word_list in docs.values():\n",
    "    unique_terms = set(word_list)    # all unique terms of this tweet\n",
    "    vocab.update(unique_terms)       # set union: add unique terms of this tweet\n",
    "    num_nonzero += len(unique_terms) # add count of unique terms in this tweet for the COO sparse matrix\n",
    "\n",
    "print('Our tweet-vocabulary has {:,} distinct words.'.format(len(vocab)))\n",
    "print('That is out of a total number of {:,} unique words in each document, in the corpus.'.format(num_nonzero))"
   ]
  },
  {
   "cell_type": "markdown",
   "metadata": {},
   "source": [
    "Let's now convert everything to a numpy array. We should keep track of how the vocab/term indices map to the matrix so that we can look them up later."
   ]
  },
  {
   "cell_type": "code",
   "execution_count": 24,
   "metadata": {},
   "outputs": [
    {
     "name": "stdout",
     "output_type": "stream",
     "text": [
      "Some example vocabulary: ['debbi' 'wandatastic' 'shiiiiiiiiiit' 'transplant' 'suespaight' 'shiv'\n",
      " 'cousents' 'oooppss' 'httpbitlykwauu' 'joeycradio' 'httpblipfmhk'\n",
      " 'smiggle' 'formal' 'cclost' 'botched' 'amin' 'ilove' 'diosito' 'redeem'\n",
      " 'weekhate']\n"
     ]
    }
   ],
   "source": [
    "vocab = np.array(list(vocab))\n",
    "print('Some example vocabulary: {}'.format(vocab[:20]))"
   ]
  },
  {
   "cell_type": "markdown",
   "metadata": {},
   "source": [
    "We now initialize the **document-term matrix**. This is a matrix where each row $i$ is a document and each column $j$ is a word. The entry $(i, j)$ of the matrix shows the frequency of the word $j$ in document $i$."
   ]
  },
  {
   "cell_type": "code",
   "execution_count": 25,
   "metadata": {},
   "outputs": [],
   "source": [
    "# Let's allow indexing on the vocabulary \n",
    "vocab_sorter = np.argsort(vocab)\n",
    "\n",
    "# doc_key_list = np.array(list(docs.keys()))\n",
    "vocab_size = len(vocab)\n",
    "\n",
    "data = np.empty(num_nonzero, dtype = np.intc)     # all non-zero\n",
    "rows = np.empty(num_nonzero, dtype = np.intc)     # row index\n",
    "cols = np.empty(num_nonzero, dtype = np.intc)     # column index"
   ]
  },
  {
   "cell_type": "markdown",
   "metadata": {},
   "source": [
    "We can now populate the document-term matrix (DTM). Each row $i$ is a document and each column $j$ is a word. The entry $(i, j)$ of the matrix shows the frequency of the word $j$ in document $i$.  <br/><br/> In our code:\n",
    "- rows contain the document number\n",
    "- cols contains the word index\n",
    "- data contains the number of times a given word appeared in a given document"
   ]
  },
  {
   "cell_type": "code",
   "execution_count": 26,
   "metadata": {},
   "outputs": [
    {
     "name": "stdout",
     "output_type": "stream",
     "text": [
      "Computing, please wait!\n",
      "Done!\n"
     ]
    }
   ],
   "source": [
    "ix = 0\n",
    "# go through all documents with their terms\n",
    "\n",
    "print('Computing, please wait!')\n",
    "\n",
    "for doc_key, terms in docs.items():\n",
    "    # find indices to insert-into such that, if the corresponding elements were\n",
    "    # inserted before the indices, the order would be preserved\n",
    "    term_indices = vocab_sorter[np.searchsorted(vocab, terms, sorter = vocab_sorter)]\n",
    "    \n",
    "    # count the unique terms of the document and get their vocabulary indices\n",
    "    uniq_indices, counts = np.unique(term_indices, return_counts = True)\n",
    "    n_vals = len(uniq_indices)  # number of unique terms\n",
    "    ix_end = ix + n_vals # add count to index\n",
    "    data[ix:ix_end] = counts                  # save the counts (term frequencies)\n",
    "    cols[ix:ix_end] = uniq_indices            # save the column index: index in \n",
    "    \n",
    "    # doc_ix = np.where(doc_key_list == doc_key)   # get the document index for the document name\n",
    "    # rows[ix:ix_end] = np.repeat(doc_ix, n_vals)  # save it as repeated value\n",
    "    rows[ix:ix_end] = np.repeat(doc_key, n_vals)  # save it as repeated value\n",
    "    ix = ix_end  # resume with next document -> will add future data on the end\n",
    "\n",
    "print('Done!')"
   ]
  },
  {
   "cell_type": "code",
   "execution_count": 27,
   "metadata": {},
   "outputs": [
    {
     "name": "stdout",
     "output_type": "stream",
     "text": [
      "rows refers to documents 0 through 49,999\n",
      "cols refers to token indices 0 through 60,779\n",
      "data indicates that a term may occur from 1 to 19 times in a document\n"
     ]
    }
   ],
   "source": [
    "print('rows refers to documents {} through {:,}'.format(min(rows), max(rows)))\n",
    "print('cols refers to token indices {} through {:,}'.format(min(cols), max(cols)))\n",
    "print('data indicates that a term may occur from {} to {} times in a document'.format(min(data), max(data)))"
   ]
  },
  {
   "cell_type": "markdown",
   "metadata": {},
   "source": [
    "Let's look at our sorted vocabulary to see examples of words that we may not need."
   ]
  },
  {
   "cell_type": "code",
   "execution_count": 28,
   "metadata": {},
   "outputs": [
    {
     "name": "stdout",
     "output_type": "stream",
     "text": [
      "Sorted Vocab: ['a' 'aa' 'aaa' 'aaaaaa' 'aaaaaaaaaaaaaaaa'\n",
      " 'aaaaaaaaaaaaaaaaaaaaaaaaaaaaaa' 'aaaaaaaaaaaaaaah'\n",
      " 'aaaaaaaaaaaaaaahmmmmmmmmmm' 'aaaaaaaaaaaaaah'\n",
      " 'aaaaaaaaaaaaaahhhhhhhhhhhhhhhhhhhhhhhhhhhhhh' 'aaaaaaaaand' 'aaaaaaaall'\n",
      " 'aaaaaaaaw' 'aaaaaaah' 'aaaaaah' 'aaaaaaw' 'aaaaache' 'aaaaah' 'aaaaare'\n",
      " 'aaaaarg' 'aaaaarghgmorning' 'aaaaarrrrgggghhhh' 'aaaaaw' 'aaaah'\n",
      " 'aaaahh' 'aaaahhh' 'aaaahhhh' 'aaaamm' 'aaaand' 'aaaaw' 'aaaawesome'\n",
      " 'aaaawh' 'aaackkk' 'aaagh' 'aaah' 'aaahh' 'aaahhaa' 'aaahhh' 'aaahhhh'\n",
      " 'aaahhhhh' 'aaahhhhhh' 'aaahhhwwww' 'aaakritilove' 'aaalisson'\n",
      " 'aaallrighhtt' 'aaam' 'aaamaazing' 'aaammaaazzziinngg' 'aaamyzing'\n",
      " 'aaand']\n"
     ]
    }
   ],
   "source": [
    "print('Sorted Vocab: {}'.format(vocab[vocab_sorter[:50]]))"
   ]
  },
  {
   "cell_type": "markdown",
   "metadata": {},
   "source": [
    "As you can see, we probably need to do some trimming, as the word 'aaaaa' probably doesn't occur often enough, and having 60K+ unique words may be too much.  We will address this later on. For now, let's keep the corpus we have. We now construct a COO sparse matrix for the document-term matrix encoded by `rows`, `cols`, and `data`."
   ]
  },
  {
   "cell_type": "code",
   "execution_count": 29,
   "metadata": {},
   "outputs": [
    {
     "data": {
      "text/plain": [
       "<COOrdinate sparse matrix of dtype 'int32'\n",
       "\twith 612791 stored elements and shape (50000, 60780)>"
      ]
     },
     "execution_count": 29,
     "metadata": {},
     "output_type": "execute_result"
    }
   ],
   "source": [
    "doc_term_mat = coo_matrix((data, (rows, cols)), shape = (tweet_df.shape[0], vocab_size), dtype = np.intc)\n",
    "doc_term_mat"
   ]
  },
  {
   "cell_type": "code",
   "execution_count": 30,
   "metadata": {},
   "outputs": [
    {
     "name": "stdout",
     "output_type": "stream",
     "text": [
      "sentiment_label\n",
      "0    25121\n",
      "1    24879\n",
      "Name: count, dtype: int64\n"
     ]
    },
    {
     "data": {
      "text/html": [
       "<div>\n",
       "<style scoped>\n",
       "    .dataframe tbody tr th:only-of-type {\n",
       "        vertical-align: middle;\n",
       "    }\n",
       "\n",
       "    .dataframe tbody tr th {\n",
       "        vertical-align: top;\n",
       "    }\n",
       "\n",
       "    .dataframe thead th {\n",
       "        text-align: right;\n",
       "    }\n",
       "</style>\n",
       "<table border=\"1\" class=\"dataframe\">\n",
       "  <thead>\n",
       "    <tr style=\"text-align: right;\">\n",
       "      <th></th>\n",
       "      <th>sentiment_label</th>\n",
       "      <th>tweet_text</th>\n",
       "      <th>clean_tweet</th>\n",
       "    </tr>\n",
       "  </thead>\n",
       "  <tbody>\n",
       "    <tr>\n",
       "      <th>0</th>\n",
       "      <td>1</td>\n",
       "      <td>@elephantbird Hey dear, Happy Friday to You  A...</td>\n",
       "      <td>elephantbird hey dear happy friday to you alre...</td>\n",
       "    </tr>\n",
       "    <tr>\n",
       "      <th>1</th>\n",
       "      <td>1</td>\n",
       "      <td>Ughhh layin downnnn    Waiting for zeina to co...</td>\n",
       "      <td>ughhh layin downnnn waiting for zeina to cook ...</td>\n",
       "    </tr>\n",
       "    <tr>\n",
       "      <th>2</th>\n",
       "      <td>0</td>\n",
       "      <td>@greeniebach I reckon he'll play, even if he's...</td>\n",
       "      <td>greeniebach i reckon hell play even if he not ...</td>\n",
       "    </tr>\n",
       "    <tr>\n",
       "      <th>3</th>\n",
       "      <td>0</td>\n",
       "      <td>@vaLewee I know!  Saw it on the news!</td>\n",
       "      <td>valewee i know saw it on the news</td>\n",
       "    </tr>\n",
       "    <tr>\n",
       "      <th>4</th>\n",
       "      <td>0</td>\n",
       "      <td>very sad that http://www.fabchannel.com/ has c...</td>\n",
       "      <td>very sad that httpwwwfabchannelcom ha closed d...</td>\n",
       "    </tr>\n",
       "  </tbody>\n",
       "</table>\n",
       "</div>"
      ],
      "text/plain": [
       "   sentiment_label                                         tweet_text  \\\n",
       "0                1  @elephantbird Hey dear, Happy Friday to You  A...   \n",
       "1                1  Ughhh layin downnnn    Waiting for zeina to co...   \n",
       "2                0  @greeniebach I reckon he'll play, even if he's...   \n",
       "3                0              @vaLewee I know!  Saw it on the news!   \n",
       "4                0  very sad that http://www.fabchannel.com/ has c...   \n",
       "\n",
       "                                         clean_tweet  \n",
       "0  elephantbird hey dear happy friday to you alre...  \n",
       "1  ughhh layin downnnn waiting for zeina to cook ...  \n",
       "2  greeniebach i reckon hell play even if he not ...  \n",
       "3                  valewee i know saw it on the news  \n",
       "4  very sad that httpwwwfabchannelcom ha closed d...  "
      ]
     },
     "execution_count": 30,
     "metadata": {},
     "output_type": "execute_result"
    }
   ],
   "source": [
    "# We can use the binary sentiment label.\n",
    "# The sentiment label has values 4 and 0.\n",
    "# Typically, binary labels have values 1 and 0.\n",
    "# Replace label \"4\" with label \"1\":\n",
    "tweet_df['sentiment_label'] = tweet_df['sentiment_label'].replace(4, 1)\n",
    "\n",
    "# Convert a copy of the tweets as list for use later\n",
    "tweet_data = tweet_df.values.tolist()\n",
    "print(tweet_df['sentiment_label'].value_counts())\n",
    "tweet_df.head()"
   ]
  },
  {
   "cell_type": "markdown",
   "metadata": {},
   "source": [
    "We populated the matrix with the term frequencies. We can see an example of this for the word \"python\" in the code below."
   ]
  },
  {
   "cell_type": "code",
   "execution_count": 31,
   "metadata": {},
   "outputs": [
    {
     "name": "stdout",
     "output_type": "stream",
     "text": [
      "vocab index of python : 1573\n",
      "\n",
      "1st document index containing said word: 14592\n",
      "\n",
      "Tweet: [1, \"omg, I just found my old vid of monty python's life of brian. it's brilliant, I just can't get enough stan today\", 'omg i just found my old vid of monty python life of brian it brilliant i just cant get enough stan today']\n"
     ]
    }
   ],
   "source": [
    "# let's check to make sure!\n",
    "vocab_list = list(vocab)\n",
    "word_of_interest = 'python'\n",
    "vocab_interesting_ix = list(vocab).index(word_of_interest)\n",
    "print('vocab index of {} : {}'.format(word_of_interest, vocab_interesting_ix))\n",
    "# find which tweets contain word\n",
    "doc_ix_with_word = []\n",
    "for ix, row in enumerate(tweet_data): # note on this line later\n",
    "    if word_of_interest in row[1]:\n",
    "        doc_ix_with_word.append(ix)\n",
    "\n",
    "print('\\n1st document index containing said word: {}'.format(doc_ix_with_word[0]))\n",
    "\n",
    "print('\\nTweet: {}'.format(tweet_data[doc_ix_with_word[0]]))"
   ]
  },
  {
   "cell_type": "markdown",
   "metadata": {},
   "source": [
    "We can see that the word \"python\" appears once in the presented document (tweet)."
   ]
  },
  {
   "cell_type": "markdown",
   "metadata": {},
   "source": [
    "**Note:** The term-document matirx `doc_term_mat` is a sparse matirx. So we can't index it using row and column index. Here we don't really need to do that, but if we did we would first need to convert it into an array. We can use the `toarray` method to do that, but if the matrix is large we can easily run out of memory (that's why we're using a spares matrix in the first place!). So instead we can use the `tocsr` method shown below, which uses compression to avoid the memory problem."
   ]
  },
  {
   "cell_type": "code",
   "execution_count": 32,
   "metadata": {},
   "outputs": [
    {
     "name": "stdout",
     "output_type": "stream",
     "text": [
      "\n",
      "Row 14592 and column 1573 of document-term matrix has entry 1\n"
     ]
    }
   ],
   "source": [
    "# document-term matrix relevant entry\n",
    "document_row = doc_ix_with_word[0]\n",
    "vocab_col = vocab_interesting_ix\n",
    "mat_entry = doc_term_mat.tocsr()[document_row, vocab_col]\n",
    "\n",
    "print('\\nRow {} and column {} of document-term matrix has entry {}'.format(document_row, vocab_col, mat_entry))"
   ]
  },
  {
   "cell_type": "markdown",
   "metadata": {},
   "source": [
    "### Step 2: Trimming the document-term matrix\n",
    "\n",
    "We saw above that we are including terms like 'aaaaa' and 'aaaa', which probably occur very few times. These terms generally occur with unstructured text fields because we allow users to input whatever they feel like and that includes typos.  But be aware that they can also be artifacts of our cleaning process (unintentionally and intentionally).\n",
    "\n",
    "Since our document-term matrix is a matrix of counts of words (columns) in each document (rows), we want to remove words that don't occur very frequently across our corpus. The count of how frequent a word is in all of our corpus is just the sum of each column."
   ]
  },
  {
   "cell_type": "code",
   "execution_count": 33,
   "metadata": {},
   "outputs": [
    {
     "data": {
      "text/plain": [
       "0 \n",
       "1     45340\n",
       "2      5505\n",
       "3      2242\n",
       "4      1296\n",
       "5       856\n",
       "6       621\n",
       "7       484\n",
       "8       364\n",
       "9       278\n",
       "10      272\n",
       "11      208\n",
       "12      195\n",
       "13      168\n",
       "14      158\n",
       "15      119\n",
       "16      117\n",
       "18      108\n",
       "17      102\n",
       "19       87\n",
       "21       78\n",
       "20       76\n",
       "22       71\n",
       "23       62\n",
       "24       62\n",
       "27       60\n",
       "Name: count, dtype: int64"
      ]
     },
     "metadata": {},
     "output_type": "display_data"
    }
   ],
   "source": [
    "word_counts = doc_term_mat.sum(axis = 0)\n",
    "frequencies = pd.DataFrame(word_counts).T.value_counts()\n",
    "display(frequencies[0:25])"
   ]
  },
  {
   "cell_type": "markdown",
   "metadata": {},
   "source": [
    "Let's look at how many words are above a specific cutoff, such as 15:"
   ]
  },
  {
   "cell_type": "code",
   "execution_count": 34,
   "metadata": {},
   "outputs": [
    {
     "name": "stdout",
     "output_type": "stream",
     "text": [
      "Number of words w/counts above 15 : 2674\n"
     ]
    }
   ],
   "source": [
    "cutoff = 15\n",
    "word_count_list = word_counts.tolist()[0]\n",
    "col_cutoff_ix = [ix for ix, count in enumerate(word_count_list) if count > cutoff]\n",
    "\n",
    "print('Number of words w/counts above {} : {}'.format(cutoff, len(col_cutoff_ix)))"
   ]
  },
  {
   "cell_type": "markdown",
   "metadata": {},
   "source": [
    "We can now trim our vocabulary and document term matrix."
   ]
  },
  {
   "cell_type": "code",
   "execution_count": 35,
   "metadata": {},
   "outputs": [
    {
     "name": "stdout",
     "output_type": "stream",
     "text": [
      "Shape of document-term matrix before trimming: (50000, 60780)\n",
      "Shape of document-term matrix after trimming: (50000, 2674)\n"
     ]
    }
   ],
   "source": [
    "vocab_trimmed = np.array([vocab[x] for x in col_cutoff_ix])\n",
    "vocab_sorter_trimmed = np.argsort(vocab_trimmed)\n",
    "\n",
    "print('Shape of document-term matrix before trimming: {}'.format(doc_term_mat.shape))\n",
    "\n",
    "doc_term_mat_trimmed = doc_term_mat.tocsc()[:, col_cutoff_ix]\n",
    "print('Shape of document-term matrix after trimming: {}'.format(doc_term_mat_trimmed.shape))"
   ]
  },
  {
   "cell_type": "code",
   "execution_count": 36,
   "metadata": {},
   "outputs": [
    {
     "data": {
      "text/plain": [
       "array(['a', 'aaron', 'able', 'about', 'absolutely', 'abt', 'ac', 'accent',\n",
       "       'accept', 'access', 'accident', 'accidentally', 'account', 'ace',\n",
       "       'ache', 'acoustic', 'across', 'act', 'acting', 'action'],\n",
       "      dtype='<U19')"
      ]
     },
     "execution_count": 36,
     "metadata": {},
     "output_type": "execute_result"
    }
   ],
   "source": [
    "# Look at first 10 words alphabetically\n",
    "vocab_trimmed[vocab_sorter_trimmed[0:20]]"
   ]
  },
  {
   "cell_type": "markdown",
   "metadata": {},
   "source": [
    "How do we know what cutoff we should use? Let's look at a bar plot of the first 20 words in descending frequency before and after we trimmed it."
   ]
  },
  {
   "cell_type": "code",
   "execution_count": 37,
   "metadata": {},
   "outputs": [
    {
     "data": {
      "image/png": "[encoded data removed]",
      "text/plain": [
       "<Figure size 640x480 with 1 Axes>"
      ]
     },
     "metadata": {},
     "output_type": "display_data"
    }
   ],
   "source": [
    "counts = pd.Series(word_count_list).value_counts(normalize = True)[:20]\n",
    "words = [vocab[x] for x in counts.index][:20]\n",
    "g = sns.barplot(x = words, y = counts, color = 'lightblue')\n",
    "g.set_xticks(range(len(words)))  # Set the x-axis ticks\n",
    "g.set_xticklabels(labels=words, rotation=90)  # Set the tick labels\n",
    "plt.show();"
   ]
  },
  {
   "cell_type": "markdown",
   "metadata": {},
   "source": [
    "We can see the bar plot is very skewed. There are too many words that appear few times. Let's check out a 20-word sample from the trimmed list."
   ]
  },
  {
   "cell_type": "code",
   "execution_count": 38,
   "metadata": {},
   "outputs": [
    {
     "data": {
      "image/png": "[encoded data removed]",
      "text/plain": [
       "<Figure size 640x480 with 1 Axes>"
      ]
     },
     "metadata": {},
     "output_type": "display_data"
    }
   ],
   "source": [
    "trimmed_word_counts = doc_term_mat_trimmed.sum(axis = 0)\n",
    "trimmed_word_list = trimmed_word_counts.tolist()[0]\n",
    "\n",
    "counts = pd.Series(trimmed_word_list).value_counts(normalize = True)[:20]\n",
    "# counts = counts.reset_index(drop = True)\n",
    "words = [vocab[x] for x in counts.index][:20]\n",
    "g = sns.barplot(x = words, y = counts, color = 'lightblue')\n",
    "g.set_xticks(range(len(words)))  # Set the x-axis ticks\n",
    "g.set_xticklabels(labels=words, rotation=90)  # Set the tick labels\n",
    "plt.show();"
   ]
  },
  {
   "cell_type": "code",
   "execution_count": 39,
   "metadata": {},
   "outputs": [
    {
     "data": {
      "image/png": "[encoded data removed]",
      "text/plain": [
       "<Figure size 640x480 with 1 Axes>"
      ]
     },
     "metadata": {},
     "output_type": "display_data"
    },
    {
     "data": {
      "image/png": "[encoded data removed]",
      "text/plain": [
       "<Figure size 640x480 with 1 Axes>"
      ]
     },
     "metadata": {},
     "output_type": "display_data"
    }
   ],
   "source": [
    "# Count of words for each appearance\n",
    "hist_breaks = np.arange(0, 500, 5)\n",
    "plt.hist(word_count_list, bins = hist_breaks)\n",
    "plt.xlabel('Number of Documents')\n",
    "plt.ylabel('Number of Words')\n",
    "plt.title('Histogram of word counts from 1 to 500')\n",
    "plt.show()\n",
    "\n",
    "# Too many words appear few times. Check out trimmed.\n",
    "trimmed_word_counts = doc_term_mat_trimmed.sum(axis=0)\n",
    "trimmed_word_list = trimmed_word_counts.tolist()[0]\n",
    "hist_breaks = np.arange(0, 500, 5)\n",
    "plt.hist(trimmed_word_list, bins = hist_breaks)\n",
    "plt.xlabel('Number of Documents')\n",
    "plt.ylabel('Number of Words')\n",
    "plt.title('Histogram of trimmed word counts for less than 500')\n",
    "plt.show()"
   ]
  },
  {
   "cell_type": "markdown",
   "metadata": {},
   "source": [
    "Note that 15 might be a good cutoff, but these types of **hyperparameters** for the model will probably need tuning. We will learn about tuning such values in future lectures."
   ]
  },
  {
   "cell_type": "markdown",
   "metadata": {},
   "source": [
    "### Step 3: Compute IDF"
   ]
  },
  {
   "cell_type": "markdown",
   "metadata": {},
   "source": [
    "Recall that we compute IDF values using the following formula:\n",
    "\n",
    "$$\\text{IDF(term)} = \\log(\\frac{\\text{number of documents}}{\\text{number of documents with term in it}})$$\n",
    "\n",
    "The advantage of using a linear algebra library like numpy is that we can easily implement this in a few lines of code without having to write loops."
   ]
  },
  {
   "cell_type": "code",
   "execution_count": 40,
   "metadata": {},
   "outputs": [],
   "source": [
    "tf_mat_trimmed = doc_term_mat_trimmed / (doc_term_mat_trimmed.sum(axis = 1) + 0.0000000000001)\n",
    "# vocab_trimmed"
   ]
  },
  {
   "cell_type": "code",
   "execution_count": 41,
   "metadata": {},
   "outputs": [
    {
     "data": {
      "text/plain": [
       "(2674, 1)"
      ]
     },
     "execution_count": 41,
     "metadata": {},
     "output_type": "execute_result"
    }
   ],
   "source": [
    "idf_mat_trimmed = doc_term_mat_trimmed.sum(axis = 0) # This should be axis = 0\n",
    "idf_mat_trimmed = np.log((doc_term_mat_trimmed.shape[0] + 1) / (idf_mat_trimmed + 1))\n",
    "idf_mat_trimmed = idf_mat_trimmed.reshape(-1).transpose()\n",
    "idf_mat_trimmed.shape"
   ]
  },
  {
   "cell_type": "markdown",
   "metadata": {},
   "source": [
    "### Step 4: Compute TF-IDF\n",
    "\n",
    "Finally, we can now compute the TF-IDF vaules by just multiplying the TF and IDF arrays. Let's first check their dimensions:"
   ]
  },
  {
   "cell_type": "code",
   "execution_count": 42,
   "metadata": {},
   "outputs": [
    {
     "name": "stdout",
     "output_type": "stream",
     "text": [
      "TF has shape (50000, 2674) and IDF has shape (2674, 1)\n"
     ]
    }
   ],
   "source": [
    "print(\"TF has shape {} and IDF has shape {}\".format(tf_mat_trimmed.shape, idf_mat_trimmed.shape))"
   ]
  },
  {
   "cell_type": "markdown",
   "metadata": {},
   "source": [
    "By \"multiplying\" the two arrays, we are NOT talking about matrix multiplication. What we do is multiply each column of the TF matrix (the terms) with its corresponding value of the IDF vector for that term. This multiplication can be very slow so we have the code commented out. In the next exercise, we re-implement TF-IDF but use the efficient `sklern` implementation."
   ]
  },
  {
   "cell_type": "code",
   "execution_count": 43,
   "metadata": {},
   "outputs": [],
   "source": [
    "# tf_idf_mat = np.multiply(tf_mat_trimmed, csr_matrix(idf_mat_trimmed))\n",
    "# tf_idf_mat"
   ]
  },
  {
   "cell_type": "markdown",
   "metadata": {},
   "source": [
    "### Exercise (5 minutes)\n",
    "\n",
    "Unfortunately, our `numpy` implementation of TF-IDF would be very slow even on this smallish dataset. So we commented out the code above. But there is a much more efficient implementation of TF-IDF in `sklearn` and it does all of the computation steps behind the scenes. All we need to do is pass it the tokenized data. So in practice, we can use the `TfidfVectorizer` function to do all the calculations for us. \n",
    "\n",
    "- Take a moment to familiarize yourself with this function and use it to get TF-IDF features from the tweets that we cleaned earlier. Notice the similarities between this function and similar functions in `sklearn` we learned eariler."
   ]
  },
  {
   "cell_type": "code",
   "execution_count": 55,
   "metadata": {
    "tags": []
   },
   "outputs": [],
   "source": [
    "clean_texts = tweet_df['clean_tweet']\n",
    "\n",
    "vectorizer = TfidfVectorizer(max_features = 500)\n",
    "tfidf_matrix =  vectorizer.fit_transform(clean_texts)\n",
    "# doc = 0\n",
    "feature_names = vectorizer.get_feature_names_out()\n",
    "tfidf_matrix_dense = tfidf_matrix.toarray()\n",
    "tfidf_df = pd.DataFrame(tfidf_matrix_dense, columns = feature_names)"
   ]
  },
  {
   "cell_type": "code",
   "execution_count": 45,
   "metadata": {},
   "outputs": [
    {
     "name": "stdout",
     "output_type": "stream",
     "text": [
      "(50000, 500)\n"
     ]
    },
    {
     "data": {
      "text/html": [
       "<div>\n",
       "<style scoped>\n",
       "    .dataframe tbody tr th:only-of-type {\n",
       "        vertical-align: middle;\n",
       "    }\n",
       "\n",
       "    .dataframe tbody tr th {\n",
       "        vertical-align: top;\n",
       "    }\n",
       "\n",
       "    .dataframe thead th {\n",
       "        text-align: right;\n",
       "    }\n",
       "</style>\n",
       "<table border=\"1\" class=\"dataframe\">\n",
       "  <thead>\n",
       "    <tr style=\"text-align: right;\">\n",
       "      <th></th>\n",
       "      <th>able</th>\n",
       "      <th>about</th>\n",
       "      <th>actually</th>\n",
       "      <th>after</th>\n",
       "      <th>again</th>\n",
       "      <th>ago</th>\n",
       "      <th>ah</th>\n",
       "      <th>all</th>\n",
       "      <th>almost</th>\n",
       "      <th>already</th>\n",
       "      <th>...</th>\n",
       "      <th>yay</th>\n",
       "      <th>yeah</th>\n",
       "      <th>year</th>\n",
       "      <th>yes</th>\n",
       "      <th>yesterday</th>\n",
       "      <th>yet</th>\n",
       "      <th>you</th>\n",
       "      <th>youll</th>\n",
       "      <th>your</th>\n",
       "      <th>youre</th>\n",
       "    </tr>\n",
       "  </thead>\n",
       "  <tbody>\n",
       "    <tr>\n",
       "      <th>0</th>\n",
       "      <td>0.0</td>\n",
       "      <td>0.0</td>\n",
       "      <td>0.0</td>\n",
       "      <td>0.0</td>\n",
       "      <td>0.0</td>\n",
       "      <td>0.0</td>\n",
       "      <td>0.0</td>\n",
       "      <td>0.0</td>\n",
       "      <td>0.0</td>\n",
       "      <td>0.381326</td>\n",
       "      <td>...</td>\n",
       "      <td>0.0</td>\n",
       "      <td>0.0</td>\n",
       "      <td>0.000000</td>\n",
       "      <td>0.0</td>\n",
       "      <td>0.0</td>\n",
       "      <td>0.0</td>\n",
       "      <td>0.194183</td>\n",
       "      <td>0.0</td>\n",
       "      <td>0.279238</td>\n",
       "      <td>0.0</td>\n",
       "    </tr>\n",
       "    <tr>\n",
       "      <th>1</th>\n",
       "      <td>0.0</td>\n",
       "      <td>0.0</td>\n",
       "      <td>0.0</td>\n",
       "      <td>0.0</td>\n",
       "      <td>0.0</td>\n",
       "      <td>0.0</td>\n",
       "      <td>0.0</td>\n",
       "      <td>0.0</td>\n",
       "      <td>0.0</td>\n",
       "      <td>0.000000</td>\n",
       "      <td>...</td>\n",
       "      <td>0.0</td>\n",
       "      <td>0.0</td>\n",
       "      <td>0.000000</td>\n",
       "      <td>0.0</td>\n",
       "      <td>0.0</td>\n",
       "      <td>0.0</td>\n",
       "      <td>0.000000</td>\n",
       "      <td>0.0</td>\n",
       "      <td>0.000000</td>\n",
       "      <td>0.0</td>\n",
       "    </tr>\n",
       "    <tr>\n",
       "      <th>2</th>\n",
       "      <td>0.0</td>\n",
       "      <td>0.0</td>\n",
       "      <td>0.0</td>\n",
       "      <td>0.0</td>\n",
       "      <td>0.0</td>\n",
       "      <td>0.0</td>\n",
       "      <td>0.0</td>\n",
       "      <td>0.0</td>\n",
       "      <td>0.0</td>\n",
       "      <td>0.000000</td>\n",
       "      <td>...</td>\n",
       "      <td>0.0</td>\n",
       "      <td>0.0</td>\n",
       "      <td>0.000000</td>\n",
       "      <td>0.0</td>\n",
       "      <td>0.0</td>\n",
       "      <td>0.0</td>\n",
       "      <td>0.000000</td>\n",
       "      <td>0.0</td>\n",
       "      <td>0.000000</td>\n",
       "      <td>0.0</td>\n",
       "    </tr>\n",
       "    <tr>\n",
       "      <th>3</th>\n",
       "      <td>0.0</td>\n",
       "      <td>0.0</td>\n",
       "      <td>0.0</td>\n",
       "      <td>0.0</td>\n",
       "      <td>0.0</td>\n",
       "      <td>0.0</td>\n",
       "      <td>0.0</td>\n",
       "      <td>0.0</td>\n",
       "      <td>0.0</td>\n",
       "      <td>0.000000</td>\n",
       "      <td>...</td>\n",
       "      <td>0.0</td>\n",
       "      <td>0.0</td>\n",
       "      <td>0.000000</td>\n",
       "      <td>0.0</td>\n",
       "      <td>0.0</td>\n",
       "      <td>0.0</td>\n",
       "      <td>0.000000</td>\n",
       "      <td>0.0</td>\n",
       "      <td>0.000000</td>\n",
       "      <td>0.0</td>\n",
       "    </tr>\n",
       "    <tr>\n",
       "      <th>4</th>\n",
       "      <td>0.0</td>\n",
       "      <td>0.0</td>\n",
       "      <td>0.0</td>\n",
       "      <td>0.0</td>\n",
       "      <td>0.0</td>\n",
       "      <td>0.0</td>\n",
       "      <td>0.0</td>\n",
       "      <td>0.0</td>\n",
       "      <td>0.0</td>\n",
       "      <td>0.000000</td>\n",
       "      <td>...</td>\n",
       "      <td>0.0</td>\n",
       "      <td>0.0</td>\n",
       "      <td>0.293734</td>\n",
       "      <td>0.0</td>\n",
       "      <td>0.0</td>\n",
       "      <td>0.0</td>\n",
       "      <td>0.000000</td>\n",
       "      <td>0.0</td>\n",
       "      <td>0.000000</td>\n",
       "      <td>0.0</td>\n",
       "    </tr>\n",
       "  </tbody>\n",
       "</table>\n",
       "<p>5 rows × 500 columns</p>\n",
       "</div>"
      ],
      "text/plain": [
       "   able  about  actually  after  again  ago   ah  all  almost   already  ...  \\\n",
       "0   0.0    0.0       0.0    0.0    0.0  0.0  0.0  0.0     0.0  0.381326  ...   \n",
       "1   0.0    0.0       0.0    0.0    0.0  0.0  0.0  0.0     0.0  0.000000  ...   \n",
       "2   0.0    0.0       0.0    0.0    0.0  0.0  0.0  0.0     0.0  0.000000  ...   \n",
       "3   0.0    0.0       0.0    0.0    0.0  0.0  0.0  0.0     0.0  0.000000  ...   \n",
       "4   0.0    0.0       0.0    0.0    0.0  0.0  0.0  0.0     0.0  0.000000  ...   \n",
       "\n",
       "   yay  yeah      year  yes  yesterday  yet       you  youll      your  youre  \n",
       "0  0.0   0.0  0.000000  0.0        0.0  0.0  0.194183    0.0  0.279238    0.0  \n",
       "1  0.0   0.0  0.000000  0.0        0.0  0.0  0.000000    0.0  0.000000    0.0  \n",
       "2  0.0   0.0  0.000000  0.0        0.0  0.0  0.000000    0.0  0.000000    0.0  \n",
       "3  0.0   0.0  0.000000  0.0        0.0  0.0  0.000000    0.0  0.000000    0.0  \n",
       "4  0.0   0.0  0.293734  0.0        0.0  0.0  0.000000    0.0  0.000000    0.0  \n",
       "\n",
       "[5 rows x 500 columns]"
      ]
     },
     "execution_count": 45,
     "metadata": {},
     "output_type": "execute_result"
    }
   ],
   "source": [
    "print(tfidf_df.shape)\n",
    "tfidf_df.head()"
   ]
  },
  {
   "cell_type": "code",
   "execution_count": 46,
   "metadata": {},
   "outputs": [
    {
     "data": {
      "text/html": [
       "<div>\n",
       "<style scoped>\n",
       "    .dataframe tbody tr th:only-of-type {\n",
       "        vertical-align: middle;\n",
       "    }\n",
       "\n",
       "    .dataframe tbody tr th {\n",
       "        vertical-align: top;\n",
       "    }\n",
       "\n",
       "    .dataframe thead th {\n",
       "        text-align: right;\n",
       "    }\n",
       "</style>\n",
       "<table border=\"1\" class=\"dataframe\">\n",
       "  <thead>\n",
       "    <tr style=\"text-align: right;\">\n",
       "      <th></th>\n",
       "      <th>able</th>\n",
       "      <th>about</th>\n",
       "      <th>actually</th>\n",
       "      <th>after</th>\n",
       "      <th>again</th>\n",
       "      <th>ago</th>\n",
       "      <th>ah</th>\n",
       "      <th>all</th>\n",
       "      <th>almost</th>\n",
       "      <th>already</th>\n",
       "      <th>...</th>\n",
       "      <th>yay</th>\n",
       "      <th>yeah</th>\n",
       "      <th>year</th>\n",
       "      <th>yes</th>\n",
       "      <th>yesterday</th>\n",
       "      <th>yet</th>\n",
       "      <th>you</th>\n",
       "      <th>youll</th>\n",
       "      <th>your</th>\n",
       "      <th>youre</th>\n",
       "    </tr>\n",
       "  </thead>\n",
       "  <tbody>\n",
       "    <tr>\n",
       "      <th>count</th>\n",
       "      <td>50000.000000</td>\n",
       "      <td>50000.000000</td>\n",
       "      <td>50000.000000</td>\n",
       "      <td>50000.000000</td>\n",
       "      <td>50000.000000</td>\n",
       "      <td>50000.000000</td>\n",
       "      <td>50000.000000</td>\n",
       "      <td>50000.000000</td>\n",
       "      <td>50000.000000</td>\n",
       "      <td>50000.000000</td>\n",
       "      <td>...</td>\n",
       "      <td>50000.000000</td>\n",
       "      <td>50000.000000</td>\n",
       "      <td>50000.000000</td>\n",
       "      <td>50000.000000</td>\n",
       "      <td>50000.000000</td>\n",
       "      <td>50000.000000</td>\n",
       "      <td>50000.000000</td>\n",
       "      <td>50000.000000</td>\n",
       "      <td>50000.000000</td>\n",
       "      <td>50000.000000</td>\n",
       "    </tr>\n",
       "    <tr>\n",
       "      <th>mean</th>\n",
       "      <td>0.001405</td>\n",
       "      <td>0.009578</td>\n",
       "      <td>0.002571</td>\n",
       "      <td>0.004230</td>\n",
       "      <td>0.007091</td>\n",
       "      <td>0.001470</td>\n",
       "      <td>0.001765</td>\n",
       "      <td>0.013825</td>\n",
       "      <td>0.001935</td>\n",
       "      <td>0.003533</td>\n",
       "      <td>...</td>\n",
       "      <td>0.003850</td>\n",
       "      <td>0.005410</td>\n",
       "      <td>0.003516</td>\n",
       "      <td>0.004729</td>\n",
       "      <td>0.002544</td>\n",
       "      <td>0.003196</td>\n",
       "      <td>0.037711</td>\n",
       "      <td>0.001285</td>\n",
       "      <td>0.012676</td>\n",
       "      <td>0.005234</td>\n",
       "    </tr>\n",
       "    <tr>\n",
       "      <th>std</th>\n",
       "      <td>0.023919</td>\n",
       "      <td>0.057385</td>\n",
       "      <td>0.033053</td>\n",
       "      <td>0.039728</td>\n",
       "      <td>0.054599</td>\n",
       "      <td>0.025084</td>\n",
       "      <td>0.030453</td>\n",
       "      <td>0.064396</td>\n",
       "      <td>0.029413</td>\n",
       "      <td>0.041177</td>\n",
       "      <td>...</td>\n",
       "      <td>0.044451</td>\n",
       "      <td>0.049279</td>\n",
       "      <td>0.036894</td>\n",
       "      <td>0.048468</td>\n",
       "      <td>0.032996</td>\n",
       "      <td>0.036983</td>\n",
       "      <td>0.102167</td>\n",
       "      <td>0.024627</td>\n",
       "      <td>0.067439</td>\n",
       "      <td>0.049173</td>\n",
       "    </tr>\n",
       "    <tr>\n",
       "      <th>min</th>\n",
       "      <td>0.000000</td>\n",
       "      <td>0.000000</td>\n",
       "      <td>0.000000</td>\n",
       "      <td>0.000000</td>\n",
       "      <td>0.000000</td>\n",
       "      <td>0.000000</td>\n",
       "      <td>0.000000</td>\n",
       "      <td>0.000000</td>\n",
       "      <td>0.000000</td>\n",
       "      <td>0.000000</td>\n",
       "      <td>...</td>\n",
       "      <td>0.000000</td>\n",
       "      <td>0.000000</td>\n",
       "      <td>0.000000</td>\n",
       "      <td>0.000000</td>\n",
       "      <td>0.000000</td>\n",
       "      <td>0.000000</td>\n",
       "      <td>0.000000</td>\n",
       "      <td>0.000000</td>\n",
       "      <td>0.000000</td>\n",
       "      <td>0.000000</td>\n",
       "    </tr>\n",
       "    <tr>\n",
       "      <th>25%</th>\n",
       "      <td>0.000000</td>\n",
       "      <td>0.000000</td>\n",
       "      <td>0.000000</td>\n",
       "      <td>0.000000</td>\n",
       "      <td>0.000000</td>\n",
       "      <td>0.000000</td>\n",
       "      <td>0.000000</td>\n",
       "      <td>0.000000</td>\n",
       "      <td>0.000000</td>\n",
       "      <td>0.000000</td>\n",
       "      <td>...</td>\n",
       "      <td>0.000000</td>\n",
       "      <td>0.000000</td>\n",
       "      <td>0.000000</td>\n",
       "      <td>0.000000</td>\n",
       "      <td>0.000000</td>\n",
       "      <td>0.000000</td>\n",
       "      <td>0.000000</td>\n",
       "      <td>0.000000</td>\n",
       "      <td>0.000000</td>\n",
       "      <td>0.000000</td>\n",
       "    </tr>\n",
       "    <tr>\n",
       "      <th>50%</th>\n",
       "      <td>0.000000</td>\n",
       "      <td>0.000000</td>\n",
       "      <td>0.000000</td>\n",
       "      <td>0.000000</td>\n",
       "      <td>0.000000</td>\n",
       "      <td>0.000000</td>\n",
       "      <td>0.000000</td>\n",
       "      <td>0.000000</td>\n",
       "      <td>0.000000</td>\n",
       "      <td>0.000000</td>\n",
       "      <td>...</td>\n",
       "      <td>0.000000</td>\n",
       "      <td>0.000000</td>\n",
       "      <td>0.000000</td>\n",
       "      <td>0.000000</td>\n",
       "      <td>0.000000</td>\n",
       "      <td>0.000000</td>\n",
       "      <td>0.000000</td>\n",
       "      <td>0.000000</td>\n",
       "      <td>0.000000</td>\n",
       "      <td>0.000000</td>\n",
       "    </tr>\n",
       "    <tr>\n",
       "      <th>75%</th>\n",
       "      <td>0.000000</td>\n",
       "      <td>0.000000</td>\n",
       "      <td>0.000000</td>\n",
       "      <td>0.000000</td>\n",
       "      <td>0.000000</td>\n",
       "      <td>0.000000</td>\n",
       "      <td>0.000000</td>\n",
       "      <td>0.000000</td>\n",
       "      <td>0.000000</td>\n",
       "      <td>0.000000</td>\n",
       "      <td>...</td>\n",
       "      <td>0.000000</td>\n",
       "      <td>0.000000</td>\n",
       "      <td>0.000000</td>\n",
       "      <td>0.000000</td>\n",
       "      <td>0.000000</td>\n",
       "      <td>0.000000</td>\n",
       "      <td>0.000000</td>\n",
       "      <td>0.000000</td>\n",
       "      <td>0.000000</td>\n",
       "      <td>0.000000</td>\n",
       "    </tr>\n",
       "    <tr>\n",
       "      <th>max</th>\n",
       "      <td>0.732708</td>\n",
       "      <td>1.000000</td>\n",
       "      <td>1.000000</td>\n",
       "      <td>0.836829</td>\n",
       "      <td>1.000000</td>\n",
       "      <td>0.738381</td>\n",
       "      <td>1.000000</td>\n",
       "      <td>1.000000</td>\n",
       "      <td>0.840678</td>\n",
       "      <td>1.000000</td>\n",
       "      <td>...</td>\n",
       "      <td>1.000000</td>\n",
       "      <td>1.000000</td>\n",
       "      <td>0.807786</td>\n",
       "      <td>1.000000</td>\n",
       "      <td>1.000000</td>\n",
       "      <td>0.910379</td>\n",
       "      <td>1.000000</td>\n",
       "      <td>0.805481</td>\n",
       "      <td>1.000000</td>\n",
       "      <td>1.000000</td>\n",
       "    </tr>\n",
       "  </tbody>\n",
       "</table>\n",
       "<p>8 rows × 500 columns</p>\n",
       "</div>"
      ],
      "text/plain": [
       "               able         about      actually         after         again  \\\n",
       "count  50000.000000  50000.000000  50000.000000  50000.000000  50000.000000   \n",
       "mean       0.001405      0.009578      0.002571      0.004230      0.007091   \n",
       "std        0.023919      0.057385      0.033053      0.039728      0.054599   \n",
       "min        0.000000      0.000000      0.000000      0.000000      0.000000   \n",
       "25%        0.000000      0.000000      0.000000      0.000000      0.000000   \n",
       "50%        0.000000      0.000000      0.000000      0.000000      0.000000   \n",
       "75%        0.000000      0.000000      0.000000      0.000000      0.000000   \n",
       "max        0.732708      1.000000      1.000000      0.836829      1.000000   \n",
       "\n",
       "                ago            ah           all        almost       already  \\\n",
       "count  50000.000000  50000.000000  50000.000000  50000.000000  50000.000000   \n",
       "mean       0.001470      0.001765      0.013825      0.001935      0.003533   \n",
       "std        0.025084      0.030453      0.064396      0.029413      0.041177   \n",
       "min        0.000000      0.000000      0.000000      0.000000      0.000000   \n",
       "25%        0.000000      0.000000      0.000000      0.000000      0.000000   \n",
       "50%        0.000000      0.000000      0.000000      0.000000      0.000000   \n",
       "75%        0.000000      0.000000      0.000000      0.000000      0.000000   \n",
       "max        0.738381      1.000000      1.000000      0.840678      1.000000   \n",
       "\n",
       "       ...           yay          yeah          year           yes  \\\n",
       "count  ...  50000.000000  50000.000000  50000.000000  50000.000000   \n",
       "mean   ...      0.003850      0.005410      0.003516      0.004729   \n",
       "std    ...      0.044451      0.049279      0.036894      0.048468   \n",
       "min    ...      0.000000      0.000000      0.000000      0.000000   \n",
       "25%    ...      0.000000      0.000000      0.000000      0.000000   \n",
       "50%    ...      0.000000      0.000000      0.000000      0.000000   \n",
       "75%    ...      0.000000      0.000000      0.000000      0.000000   \n",
       "max    ...      1.000000      1.000000      0.807786      1.000000   \n",
       "\n",
       "          yesterday           yet           you         youll          your  \\\n",
       "count  50000.000000  50000.000000  50000.000000  50000.000000  50000.000000   \n",
       "mean       0.002544      0.003196      0.037711      0.001285      0.012676   \n",
       "std        0.032996      0.036983      0.102167      0.024627      0.067439   \n",
       "min        0.000000      0.000000      0.000000      0.000000      0.000000   \n",
       "25%        0.000000      0.000000      0.000000      0.000000      0.000000   \n",
       "50%        0.000000      0.000000      0.000000      0.000000      0.000000   \n",
       "75%        0.000000      0.000000      0.000000      0.000000      0.000000   \n",
       "max        1.000000      0.910379      1.000000      0.805481      1.000000   \n",
       "\n",
       "              youre  \n",
       "count  50000.000000  \n",
       "mean       0.005234  \n",
       "std        0.049173  \n",
       "min        0.000000  \n",
       "25%        0.000000  \n",
       "50%        0.000000  \n",
       "75%        0.000000  \n",
       "max        1.000000  \n",
       "\n",
       "[8 rows x 500 columns]"
      ]
     },
     "execution_count": 46,
     "metadata": {},
     "output_type": "execute_result"
    }
   ],
   "source": [
    "tfidf_df.describe()"
   ]
  },
  {
   "cell_type": "markdown",
   "metadata": {},
   "source": [
    "The 'csr' (compressed sparse row) format is used by `sklearn` to store the matrix.\n",
    "\n",
    "### End of exercise"
   ]
  },
  {
   "cell_type": "markdown",
   "metadata": {},
   "source": [
    "## (Optional) Classification and sentiment analysis\n",
    "\n",
    "It's hard to talk about feature engineering without moving on to the next step: training a machine learning model. Although we cover this topic on a future lesson, we include here an example in case you can't wait any longer!\n",
    "\n",
    "Now that we have a prepared DTM of the 50000 tweets, let's build and evaluate models to classify the sentiment of these tweets. The idea is simple: We use the TF-IDF features for training the model. Since our data also has a column that says if the tweet expresses a positive or negative sentiment, we will train a model to predict the sentiment from the TF-IDF features. So first let's obtain the TF-IDF features once more:"
   ]
  },
  {
   "cell_type": "code",
   "execution_count": 47,
   "metadata": {},
   "outputs": [
    {
     "data": {
      "text/plain": [
       "<Compressed Sparse Row sparse matrix of dtype 'float64'\n",
       "\twith 276192 stored elements and shape (50000, 6228)>"
      ]
     },
     "execution_count": 47,
     "metadata": {},
     "output_type": "execute_result"
    }
   ],
   "source": [
    "vectorizer = TfidfVectorizer(sublinear_tf = True, max_df = 0.5, max_features = 6228, stop_words = 'english')\n",
    "clean_texts = tweet_df['clean_tweet']\n",
    "tf_idf_tweets = vectorizer.fit_transform(clean_texts)\n",
    "\n",
    "tf_idf_tweets"
   ]
  },
  {
   "cell_type": "markdown",
   "metadata": {},
   "source": [
    "Let's split the featurized data into training and test sets. We will explain why in a future lecture. For training we will use 70% to 90% tweets to predict the 0,1 sentiment. The remaining cases will be used to evaluate the model."
   ]
  },
  {
   "cell_type": "code",
   "execution_count": 59,
   "metadata": {},
   "outputs": [
    {
     "data": {
      "text/plain": [
       "50000"
      ]
     },
     "execution_count": 59,
     "metadata": {},
     "output_type": "execute_result"
    }
   ],
   "source": [
    "np.array([y[0] for y in tweet_data]).size"
   ]
  },
  {
   "cell_type": "code",
   "execution_count": 48,
   "metadata": {},
   "outputs": [],
   "source": [
    "y_targets = np.array([y[0] for y in tweet_data])\n",
    "X_train, X_test, y_train, y_test = train_test_split(tf_idf_tweets, y_targets, test_size = 5000, random_state = 42)"
   ]
  },
  {
   "cell_type": "code",
   "execution_count": 49,
   "metadata": {},
   "outputs": [
    {
     "name": "stdout",
     "output_type": "stream",
     "text": [
      "<class 'scipy.sparse._csr.csr_matrix'> (45000, 6228)\n"
     ]
    }
   ],
   "source": [
    "print(type(X_train), X_train.shape)"
   ]
  },
  {
   "cell_type": "markdown",
   "metadata": {},
   "source": [
    "Now let's train a logistic classifier on the data:"
   ]
  },
  {
   "cell_type": "code",
   "execution_count": 50,
   "metadata": {},
   "outputs": [
    {
     "data": {
      "text/html": [
       "<style>#sk-container-id-1 {\n",
       "  /* Definition of color scheme common for light and dark mode */\n",
       "  --sklearn-color-text: black;\n",
       "  --sklearn-color-line: gray;\n",
       "  /* Definition of color scheme for unfitted estimators */\n",
       "  --sklearn-color-unfitted-level-0: #fff5e6;\n",
       "  --sklearn-color-unfitted-level-1: #f6e4d2;\n",
       "  --sklearn-color-unfitted-level-2: #ffe0b3;\n",
       "  --sklearn-color-unfitted-level-3: chocolate;\n",
       "  /* Definition of color scheme for fitted estimators */\n",
       "  --sklearn-color-fitted-level-0: #f0f8ff;\n",
       "  --sklearn-color-fitted-level-1: #d4ebff;\n",
       "  --sklearn-color-fitted-level-2: #b3dbfd;\n",
       "  --sklearn-color-fitted-level-3: cornflowerblue;\n",
       "\n",
       "  /* Specific color for light theme */\n",
       "  --sklearn-color-text-on-default-background: var(--sg-text-color, var(--theme-code-foreground, var(--jp-content-font-color1, black)));\n",
       "  --sklearn-color-background: var(--sg-background-color, var(--theme-background, var(--jp-layout-color0, white)));\n",
       "  --sklearn-color-border-box: var(--sg-text-color, var(--theme-code-foreground, var(--jp-content-font-color1, black)));\n",
       "  --sklearn-color-icon: #696969;\n",
       "\n",
       "  @media (prefers-color-scheme: dark) {\n",
       "    /* Redefinition of color scheme for dark theme */\n",
       "    --sklearn-color-text-on-default-background: var(--sg-text-color, var(--theme-code-foreground, var(--jp-content-font-color1, white)));\n",
       "    --sklearn-color-background: var(--sg-background-color, var(--theme-background, var(--jp-layout-color0, #111)));\n",
       "    --sklearn-color-border-box: var(--sg-text-color, var(--theme-code-foreground, var(--jp-content-font-color1, white)));\n",
       "    --sklearn-color-icon: #878787;\n",
       "  }\n",
       "}\n",
       "\n",
       "#sk-container-id-1 {\n",
       "  color: var(--sklearn-color-text);\n",
       "}\n",
       "\n",
       "#sk-container-id-1 pre {\n",
       "  padding: 0;\n",
       "}\n",
       "\n",
       "#sk-container-id-1 input.sk-hidden--visually {\n",
       "  border: 0;\n",
       "  clip: rect(1px 1px 1px 1px);\n",
       "  clip: rect(1px, 1px, 1px, 1px);\n",
       "  height: 1px;\n",
       "  margin: -1px;\n",
       "  overflow: hidden;\n",
       "  padding: 0;\n",
       "  position: absolute;\n",
       "  width: 1px;\n",
       "}\n",
       "\n",
       "#sk-container-id-1 div.sk-dashed-wrapped {\n",
       "  border: 1px dashed var(--sklearn-color-line);\n",
       "  margin: 0 0.4em 0.5em 0.4em;\n",
       "  box-sizing: border-box;\n",
       "  padding-bottom: 0.4em;\n",
       "  background-color: var(--sklearn-color-background);\n",
       "}\n",
       "\n",
       "#sk-container-id-1 div.sk-container {\n",
       "  /* jupyter's `normalize.less` sets `[hidden] { display: none; }`\n",
       "     but bootstrap.min.css set `[hidden] { display: none !important; }`\n",
       "     so we also need the `!important` here to be able to override the\n",
       "     default hidden behavior on the sphinx rendered scikit-learn.org.\n",
       "     See: https://github.com/scikit-learn/scikit-learn/issues/21755 */\n",
       "  display: inline-block !important;\n",
       "  position: relative;\n",
       "}\n",
       "\n",
       "#sk-container-id-1 div.sk-text-repr-fallback {\n",
       "  display: none;\n",
       "}\n",
       "\n",
       "div.sk-parallel-item,\n",
       "div.sk-serial,\n",
       "div.sk-item {\n",
       "  /* draw centered vertical line to link estimators */\n",
       "  background-image: linear-gradient(var(--sklearn-color-text-on-default-background), var(--sklearn-color-text-on-default-background));\n",
       "  background-size: 2px 100%;\n",
       "  background-repeat: no-repeat;\n",
       "  background-position: center center;\n",
       "}\n",
       "\n",
       "/* Parallel-specific style estimator block */\n",
       "\n",
       "#sk-container-id-1 div.sk-parallel-item::after {\n",
       "  content: \"\";\n",
       "  width: 100%;\n",
       "  border-bottom: 2px solid var(--sklearn-color-text-on-default-background);\n",
       "  flex-grow: 1;\n",
       "}\n",
       "\n",
       "#sk-container-id-1 div.sk-parallel {\n",
       "  display: flex;\n",
       "  align-items: stretch;\n",
       "  justify-content: center;\n",
       "  background-color: var(--sklearn-color-background);\n",
       "  position: relative;\n",
       "}\n",
       "\n",
       "#sk-container-id-1 div.sk-parallel-item {\n",
       "  display: flex;\n",
       "  flex-direction: column;\n",
       "}\n",
       "\n",
       "#sk-container-id-1 div.sk-parallel-item:first-child::after {\n",
       "  align-self: flex-end;\n",
       "  width: 50%;\n",
       "}\n",
       "\n",
       "#sk-container-id-1 div.sk-parallel-item:last-child::after {\n",
       "  align-self: flex-start;\n",
       "  width: 50%;\n",
       "}\n",
       "\n",
       "#sk-container-id-1 div.sk-parallel-item:only-child::after {\n",
       "  width: 0;\n",
       "}\n",
       "\n",
       "/* Serial-specific style estimator block */\n",
       "\n",
       "#sk-container-id-1 div.sk-serial {\n",
       "  display: flex;\n",
       "  flex-direction: column;\n",
       "  align-items: center;\n",
       "  background-color: var(--sklearn-color-background);\n",
       "  padding-right: 1em;\n",
       "  padding-left: 1em;\n",
       "}\n",
       "\n",
       "\n",
       "/* Toggleable style: style used for estimator/Pipeline/ColumnTransformer box that is\n",
       "clickable and can be expanded/collapsed.\n",
       "- Pipeline and ColumnTransformer use this feature and define the default style\n",
       "- Estimators will overwrite some part of the style using the `sk-estimator` class\n",
       "*/\n",
       "\n",
       "/* Pipeline and ColumnTransformer style (default) */\n",
       "\n",
       "#sk-container-id-1 div.sk-toggleable {\n",
       "  /* Default theme specific background. It is overwritten whether we have a\n",
       "  specific estimator or a Pipeline/ColumnTransformer */\n",
       "  background-color: var(--sklearn-color-background);\n",
       "}\n",
       "\n",
       "/* Toggleable label */\n",
       "#sk-container-id-1 label.sk-toggleable__label {\n",
       "  cursor: pointer;\n",
       "  display: block;\n",
       "  width: 100%;\n",
       "  margin-bottom: 0;\n",
       "  padding: 0.5em;\n",
       "  box-sizing: border-box;\n",
       "  text-align: center;\n",
       "}\n",
       "\n",
       "#sk-container-id-1 label.sk-toggleable__label-arrow:before {\n",
       "  /* Arrow on the left of the label */\n",
       "  content: \"▸\";\n",
       "  float: left;\n",
       "  margin-right: 0.25em;\n",
       "  color: var(--sklearn-color-icon);\n",
       "}\n",
       "\n",
       "#sk-container-id-1 label.sk-toggleable__label-arrow:hover:before {\n",
       "  color: var(--sklearn-color-text);\n",
       "}\n",
       "\n",
       "/* Toggleable content - dropdown */\n",
       "\n",
       "#sk-container-id-1 div.sk-toggleable__content {\n",
       "  max-height: 0;\n",
       "  max-width: 0;\n",
       "  overflow: hidden;\n",
       "  text-align: left;\n",
       "  /* unfitted */\n",
       "  background-color: var(--sklearn-color-unfitted-level-0);\n",
       "}\n",
       "\n",
       "#sk-container-id-1 div.sk-toggleable__content.fitted {\n",
       "  /* fitted */\n",
       "  background-color: var(--sklearn-color-fitted-level-0);\n",
       "}\n",
       "\n",
       "#sk-container-id-1 div.sk-toggleable__content pre {\n",
       "  margin: 0.2em;\n",
       "  border-radius: 0.25em;\n",
       "  color: var(--sklearn-color-text);\n",
       "  /* unfitted */\n",
       "  background-color: var(--sklearn-color-unfitted-level-0);\n",
       "}\n",
       "\n",
       "#sk-container-id-1 div.sk-toggleable__content.fitted pre {\n",
       "  /* unfitted */\n",
       "  background-color: var(--sklearn-color-fitted-level-0);\n",
       "}\n",
       "\n",
       "#sk-container-id-1 input.sk-toggleable__control:checked~div.sk-toggleable__content {\n",
       "  /* Expand drop-down */\n",
       "  max-height: 200px;\n",
       "  max-width: 100%;\n",
       "  overflow: auto;\n",
       "}\n",
       "\n",
       "#sk-container-id-1 input.sk-toggleable__control:checked~label.sk-toggleable__label-arrow:before {\n",
       "  content: \"▾\";\n",
       "}\n",
       "\n",
       "/* Pipeline/ColumnTransformer-specific style */\n",
       "\n",
       "#sk-container-id-1 div.sk-label input.sk-toggleable__control:checked~label.sk-toggleable__label {\n",
       "  color: var(--sklearn-color-text);\n",
       "  background-color: var(--sklearn-color-unfitted-level-2);\n",
       "}\n",
       "\n",
       "#sk-container-id-1 div.sk-label.fitted input.sk-toggleable__control:checked~label.sk-toggleable__label {\n",
       "  background-color: var(--sklearn-color-fitted-level-2);\n",
       "}\n",
       "\n",
       "/* Estimator-specific style */\n",
       "\n",
       "/* Colorize estimator box */\n",
       "#sk-container-id-1 div.sk-estimator input.sk-toggleable__control:checked~label.sk-toggleable__label {\n",
       "  /* unfitted */\n",
       "  background-color: var(--sklearn-color-unfitted-level-2);\n",
       "}\n",
       "\n",
       "#sk-container-id-1 div.sk-estimator.fitted input.sk-toggleable__control:checked~label.sk-toggleable__label {\n",
       "  /* fitted */\n",
       "  background-color: var(--sklearn-color-fitted-level-2);\n",
       "}\n",
       "\n",
       "#sk-container-id-1 div.sk-label label.sk-toggleable__label,\n",
       "#sk-container-id-1 div.sk-label label {\n",
       "  /* The background is the default theme color */\n",
       "  color: var(--sklearn-color-text-on-default-background);\n",
       "}\n",
       "\n",
       "/* On hover, darken the color of the background */\n",
       "#sk-container-id-1 div.sk-label:hover label.sk-toggleable__label {\n",
       "  color: var(--sklearn-color-text);\n",
       "  background-color: var(--sklearn-color-unfitted-level-2);\n",
       "}\n",
       "\n",
       "/* Label box, darken color on hover, fitted */\n",
       "#sk-container-id-1 div.sk-label.fitted:hover label.sk-toggleable__label.fitted {\n",
       "  color: var(--sklearn-color-text);\n",
       "  background-color: var(--sklearn-color-fitted-level-2);\n",
       "}\n",
       "\n",
       "/* Estimator label */\n",
       "\n",
       "#sk-container-id-1 div.sk-label label {\n",
       "  font-family: monospace;\n",
       "  font-weight: bold;\n",
       "  display: inline-block;\n",
       "  line-height: 1.2em;\n",
       "}\n",
       "\n",
       "#sk-container-id-1 div.sk-label-container {\n",
       "  text-align: center;\n",
       "}\n",
       "\n",
       "/* Estimator-specific */\n",
       "#sk-container-id-1 div.sk-estimator {\n",
       "  font-family: monospace;\n",
       "  border: 1px dotted var(--sklearn-color-border-box);\n",
       "  border-radius: 0.25em;\n",
       "  box-sizing: border-box;\n",
       "  margin-bottom: 0.5em;\n",
       "  /* unfitted */\n",
       "  background-color: var(--sklearn-color-unfitted-level-0);\n",
       "}\n",
       "\n",
       "#sk-container-id-1 div.sk-estimator.fitted {\n",
       "  /* fitted */\n",
       "  background-color: var(--sklearn-color-fitted-level-0);\n",
       "}\n",
       "\n",
       "/* on hover */\n",
       "#sk-container-id-1 div.sk-estimator:hover {\n",
       "  /* unfitted */\n",
       "  background-color: var(--sklearn-color-unfitted-level-2);\n",
       "}\n",
       "\n",
       "#sk-container-id-1 div.sk-estimator.fitted:hover {\n",
       "  /* fitted */\n",
       "  background-color: var(--sklearn-color-fitted-level-2);\n",
       "}\n",
       "\n",
       "/* Specification for estimator info (e.g. \"i\" and \"?\") */\n",
       "\n",
       "/* Common style for \"i\" and \"?\" */\n",
       "\n",
       ".sk-estimator-doc-link,\n",
       "a:link.sk-estimator-doc-link,\n",
       "a:visited.sk-estimator-doc-link {\n",
       "  float: right;\n",
       "  font-size: smaller;\n",
       "  line-height: 1em;\n",
       "  font-family: monospace;\n",
       "  background-color: var(--sklearn-color-background);\n",
       "  border-radius: 1em;\n",
       "  height: 1em;\n",
       "  width: 1em;\n",
       "  text-decoration: none !important;\n",
       "  margin-left: 1ex;\n",
       "  /* unfitted */\n",
       "  border: var(--sklearn-color-unfitted-level-1) 1pt solid;\n",
       "  color: var(--sklearn-color-unfitted-level-1);\n",
       "}\n",
       "\n",
       ".sk-estimator-doc-link.fitted,\n",
       "a:link.sk-estimator-doc-link.fitted,\n",
       "a:visited.sk-estimator-doc-link.fitted {\n",
       "  /* fitted */\n",
       "  border: var(--sklearn-color-fitted-level-1) 1pt solid;\n",
       "  color: var(--sklearn-color-fitted-level-1);\n",
       "}\n",
       "\n",
       "/* On hover */\n",
       "div.sk-estimator:hover .sk-estimator-doc-link:hover,\n",
       ".sk-estimator-doc-link:hover,\n",
       "div.sk-label-container:hover .sk-estimator-doc-link:hover,\n",
       ".sk-estimator-doc-link:hover {\n",
       "  /* unfitted */\n",
       "  background-color: var(--sklearn-color-unfitted-level-3);\n",
       "  color: var(--sklearn-color-background);\n",
       "  text-decoration: none;\n",
       "}\n",
       "\n",
       "div.sk-estimator.fitted:hover .sk-estimator-doc-link.fitted:hover,\n",
       ".sk-estimator-doc-link.fitted:hover,\n",
       "div.sk-label-container:hover .sk-estimator-doc-link.fitted:hover,\n",
       ".sk-estimator-doc-link.fitted:hover {\n",
       "  /* fitted */\n",
       "  background-color: var(--sklearn-color-fitted-level-3);\n",
       "  color: var(--sklearn-color-background);\n",
       "  text-decoration: none;\n",
       "}\n",
       "\n",
       "/* Span, style for the box shown on hovering the info icon */\n",
       ".sk-estimator-doc-link span {\n",
       "  display: none;\n",
       "  z-index: 9999;\n",
       "  position: relative;\n",
       "  font-weight: normal;\n",
       "  right: .2ex;\n",
       "  padding: .5ex;\n",
       "  margin: .5ex;\n",
       "  width: min-content;\n",
       "  min-width: 20ex;\n",
       "  max-width: 50ex;\n",
       "  color: var(--sklearn-color-text);\n",
       "  box-shadow: 2pt 2pt 4pt #999;\n",
       "  /* unfitted */\n",
       "  background: var(--sklearn-color-unfitted-level-0);\n",
       "  border: .5pt solid var(--sklearn-color-unfitted-level-3);\n",
       "}\n",
       "\n",
       ".sk-estimator-doc-link.fitted span {\n",
       "  /* fitted */\n",
       "  background: var(--sklearn-color-fitted-level-0);\n",
       "  border: var(--sklearn-color-fitted-level-3);\n",
       "}\n",
       "\n",
       ".sk-estimator-doc-link:hover span {\n",
       "  display: block;\n",
       "}\n",
       "\n",
       "/* \"?\"-specific style due to the `<a>` HTML tag */\n",
       "\n",
       "#sk-container-id-1 a.estimator_doc_link {\n",
       "  float: right;\n",
       "  font-size: 1rem;\n",
       "  line-height: 1em;\n",
       "  font-family: monospace;\n",
       "  background-color: var(--sklearn-color-background);\n",
       "  border-radius: 1rem;\n",
       "  height: 1rem;\n",
       "  width: 1rem;\n",
       "  text-decoration: none;\n",
       "  /* unfitted */\n",
       "  color: var(--sklearn-color-unfitted-level-1);\n",
       "  border: var(--sklearn-color-unfitted-level-1) 1pt solid;\n",
       "}\n",
       "\n",
       "#sk-container-id-1 a.estimator_doc_link.fitted {\n",
       "  /* fitted */\n",
       "  border: var(--sklearn-color-fitted-level-1) 1pt solid;\n",
       "  color: var(--sklearn-color-fitted-level-1);\n",
       "}\n",
       "\n",
       "/* On hover */\n",
       "#sk-container-id-1 a.estimator_doc_link:hover {\n",
       "  /* unfitted */\n",
       "  background-color: var(--sklearn-color-unfitted-level-3);\n",
       "  color: var(--sklearn-color-background);\n",
       "  text-decoration: none;\n",
       "}\n",
       "\n",
       "#sk-container-id-1 a.estimator_doc_link.fitted:hover {\n",
       "  /* fitted */\n",
       "  background-color: var(--sklearn-color-fitted-level-3);\n",
       "}\n",
       "</style><div id=\"sk-container-id-1\" class=\"sk-top-container\"><div class=\"sk-text-repr-fallback\"><pre>LogisticRegression()</pre><b>In a Jupyter environment, please rerun this cell to show the HTML representation or trust the notebook. <br />On GitHub, the HTML representation is unable to render, please try loading this page with nbviewer.org.</b></div><div class=\"sk-container\" hidden><div class=\"sk-item\"><div class=\"sk-estimator fitted sk-toggleable\"><input class=\"sk-toggleable__control sk-hidden--visually\" id=\"sk-estimator-id-1\" type=\"checkbox\" checked><label for=\"sk-estimator-id-1\" class=\"sk-toggleable__label fitted sk-toggleable__label-arrow fitted\">&nbsp;&nbsp;LogisticRegression<a class=\"sk-estimator-doc-link fitted\" rel=\"noreferrer\" target=\"_blank\" href=\"https://scikit-learn.org/1.5/modules/generated/sklearn.linear_model.LogisticRegression.html\">?<span>Documentation for LogisticRegression</span></a><span class=\"sk-estimator-doc-link fitted\">i<span>Fitted</span></span></label><div class=\"sk-toggleable__content fitted\"><pre>LogisticRegression()</pre></div> </div></div></div></div>"
      ],
      "text/plain": [
       "LogisticRegression()"
      ]
     },
     "execution_count": 50,
     "metadata": {},
     "output_type": "execute_result"
    }
   ],
   "source": [
    "lr = LogisticRegression()\n",
    "lr.fit(X_train, y_train)"
   ]
  },
  {
   "cell_type": "markdown",
   "metadata": {},
   "source": [
    "Let's now evaluate the model."
   ]
  },
  {
   "cell_type": "code",
   "execution_count": 51,
   "metadata": {},
   "outputs": [],
   "source": [
    "train_results = lr.predict(X_train)\n",
    "test_results = lr.predict(X_test)"
   ]
  },
  {
   "cell_type": "code",
   "execution_count": 52,
   "metadata": {},
   "outputs": [
    {
     "name": "stdout",
     "output_type": "stream",
     "text": [
      "Train accuracy: 0.7926\n",
      "Test accuracy: 0.7514\n",
      "Baseline accuracy: 0.5068\n"
     ]
    }
   ],
   "source": [
    "train_acc = np.mean(y_train == train_results)\n",
    "test_acc = np.mean(y_test == test_results)\n",
    "\n",
    "print('Train accuracy: {}'.format(train_acc))\n",
    "print('Test accuracy: {}'.format(test_acc))\n",
    "print('Baseline accuracy: {}'.format(np.max([np.mean(y_test == 1), np.mean(y_test == 0)])))"
   ]
  },
  {
   "cell_type": "markdown",
   "metadata": {},
   "source": [
    "Let's also compute the precision, recall and Fscore of the model for positive and negative tweets.\n",
    "\n",
    "Recall that a positive prediction here means a positive review, and so **precision** is the proportion of correct predictions among all positive predictions and **recall** is the proportion of correct predictions among all true positives. **F1** is the harmonic average of precision and recall."
   ]
  },
  {
   "cell_type": "code",
   "execution_count": 53,
   "metadata": {},
   "outputs": [
    {
     "name": "stdout",
     "output_type": "stream",
     "text": [
      "[[1877  657]\n",
      " [ 586 1880]]\n",
      "===================================\n",
      "             Class 1   -   Class 0\n",
      "Precision: [0.76207877 0.74103272]\n",
      "Recall   : [0.74072612 0.76236821]\n",
      "F1       : [0.75125075 0.75154907]\n",
      "Support  : [2534 2466]\n"
     ]
    }
   ],
   "source": [
    "precision, recall, f1, support = precision_recall_fscore_support(y_test, test_results)\n",
    "tn, fp, fn, tp = confusion_matrix(y_test, test_results).ravel()\n",
    "\n",
    "print(confusion_matrix(y_test, test_results))\n",
    "print('='*35)\n",
    "print('             Class 1   -   Class 0')\n",
    "print('Precision: {}'.format(precision))\n",
    "print('Recall   : {}'.format(recall))\n",
    "print('F1       : {}'.format(f1))\n",
    "print('Support  : {}'.format(support))"
   ]
  },
  {
   "cell_type": "markdown",
   "metadata": {},
   "source": [
    "##  Summary\n",
    "\n",
    "NLP applications extend far and wide, so we only stratched the surface here. Many of the modern breakthroughs in deep learning for example have been in NLP. One reason for this is that language data is abundant and the lack of structure in the data presents us with many challenges and learning opportunities. We hope this notebook exposed you to just some examples."
   ]
  },
  {
   "cell_type": "markdown",
   "metadata": {},
   "source": [
    "# Assignment\n",
    "\n",
    "1. use pandas read_csv with sep='\\t' to read in the following 2 files available from the us naval academy:\n",
    "- url = 'https://www.usna.edu/Users/cs/nchamber/data/twitter/keyword-tweets.txt'\n",
    "- url = 'https://www.usna.edu/Users/cs/nchamber/data/twitter/general-tweets.txt'\n",
    "<br/> <span style=\"color:red\" float:right>[1 point]</span>\n",
    "\n",
    "2. concatenate these 2 data sets into a single data frame called LabeledTweets that has 2 columns, named Sentiment and Tweet <span style=\"color:red\" float:right>[1 point]</span>\n",
    "\n",
    "3. replace sentiment labels 'POLIT': 1, 'NOT': 0; <span style=\"color:red\" float:right>[0 point]</span>\n",
    "\n",
    "4. clean the tweets\n",
    "   1. remove all tokens that contain a \"@\". Remove the whole token, not just the character.\n",
    "   2. remove all tokens that contain \"http\". Remove the whole token, not just the characters.\n",
    "   3. **replace** (not remove) all punctuation marks with a space (\" \")\n",
    "   4. **replace** all numbers with a space\n",
    "   5. **replace** all non ascii characters with a space\n",
    "   7. convert all characters to lowercase\n",
    "   8. strip extra whitespaces\n",
    "   9. lemmatize tokens\n",
    "   9. No need to remove stopwords because TfidfVectorizer will take care of that\n",
    "<br/><span style=\"color:red\" float:right>[9 point]</span>\n",
    "\n",
    "5. Use TfidfVectorizer from sklearn to prepare the data for machine learning.  Use max_features = 50;  <span style=\"color:red\" float:right>[2 point]</span>\n",
    "\n",
    "6. Use sklearn LogisticRegression to train a model on the  results on 75% of the data. <span style=\"color:red\" float:right>[1 point]</span>\n",
    "\n",
    "7. determine the accuracy on the training data and the test data.   Determine the baseline accuracy. <span style=\"color:red\" float:right>[1 point]</span>\n",
    "\n",
    "8. Repeat steps 5, 6, and 7  with TfidfVectorizer max_features set to 5, 500, 5000, 50000 and discuss your accuracies. <span style=\"color:red\" float:right>[2 point]</span>\n",
    "\n",
    "# End of assignment"
   ]
  }
 ],
 "metadata": {
  "anaconda-cloud": {},
  "kernelspec": {
   "display_name": "work",
   "language": "python",
   "name": "python3"
  },
  "language_info": {
   "codemirror_mode": {
    "name": "ipython",
    "version": 3
   },
   "file_extension": ".py",
   "mimetype": "text/x-python",
   "name": "python",
   "nbconvert_exporter": "python",
   "pygments_lexer": "ipython3",
   "version": "3.12.7"
  }
 },
 "nbformat": 4,
 "nbformat_minor": 4
}
