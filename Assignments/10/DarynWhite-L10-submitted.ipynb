{
 "cells": [
  {
   "cell_type": "markdown",
   "metadata": {},
   "source": [
    "# Assignment 10\n",
    "\n",
    "In this assignment, we want to implement **cross-validation** for logistic regression. Cross-validation is a powerful technique for model selection (such as when choosing the right hyper-parameters), especially when the data size is not very large. The goal of this assignment is to first implement cross-validation and then to compare it to a baseline model (with no cross-validation)."
   ]
  },
  {
   "cell_type": "code",
   "execution_count": null,
   "metadata": {},
   "outputs": [],
   "source": [
    "import pandas as pd\n",
    "import numpy as np\n",
    "from sklearn.model_selection import train_test_split\n",
    "from sklearn.linear_model import LogisticRegression\n",
    "from sklearn.linear_model import LogisticRegressionCV\n",
    "from sklearn.metrics import accuracy_score\n",
    "from sklearn.metrics import confusion_matrix\n",
    "from sklearn.metrics import classification_report\n",
    "from sklearn.metrics import roc_curve\n",
    "from sklearn.metrics import auc\n",
    "import matplotlib.pyplot as plt\n",
    "import warnings\n",
    "warnings.simplefilter(\"ignore\") # warnings.simplefilter(\"default\")\n",
    "%matplotlib inline\n",
    "random_state = 0"
   ]
  },
  {
   "cell_type": "markdown",
   "metadata": {},
   "source": [
    "### Get the data\n",
    "Read in `AmesFeatures.csv` which contains the processed data from the lecture.  This data file can be found in canvas.  If you want, you can generate this data file yourself by uncommenting the line `# AmesFeatures.to_csv('AmesFeatures.csv', index=False)` in file `Lesson_10_b_Student.ipynb`.  You may need to change the path below.  <br/><span style=\"color:red\" float:right>[0 point]</span>"
   ]
  },
  {
   "cell_type": "code",
   "execution_count": null,
   "metadata": {},
   "outputs": [],
   "source": [
    "AmesFeatures = pd.read_csv('AmesFeatures.csv')\n",
    "y = (AmesFeatures['SalePrice'] > 200000) & (AmesFeatures['SalePrice'] < 230000)\n",
    "X = AmesFeatures.drop(columns=['Id', 'SalePrice'])\n",
    "display(y.value_counts())\n",
    "display(X.shape)\n",
    "display(X)"
   ]
  },
  {
   "cell_type": "markdown",
   "metadata": {},
   "source": [
    "Use some of the code from the lecture. \n",
    "- Split X and y into X_train, X_test, y_train, and y_test using `test_size = 0.30`.  You may want to use `random_state = 0` to make your results the same as others \n",
    "- Present the counts for False and True in y_train and y_test to verify the imbalanced data in your train and test sets\n",
    "<br/><span style=\"color:red\" float:right>[0 point]</span>"
   ]
  },
  {
   "cell_type": "code",
   "execution_count": null,
   "metadata": {
    "scrolled": true
   },
   "outputs": [],
   "source": [
    "# Add code here to splt data into test and train sets\n",
    "X_train, X_test, y_train, y_test = train_test_split(X, y, test_size = 0.30, random_state = random_state)\n",
    "# Add code to present the imbalance of the class labels for both test and training\n"
   ]
  },
  {
   "cell_type": "markdown",
   "metadata": {},
   "source": [
    "1. Train basic `LogisticRegression` classifier (repeat what was done in class)\n",
    " 1. Train a model with `X_train` and `y_train`\n",
    " 2. predict (hard baseline and soft) on training and test features with `.predict()` and `.predict_proba()`\n",
    " 3. evaluate model using confusion matrix (`confusion_matrix`) and its metrics (`classification_report`)\n",
    " 4. evaluate model using ROC and AUC of ROC\n",
    " 5. comment on the model's usability. \n",
    "<br/><span style=\"color:red\" float:right>[2 point]</span>"
   ]
  },
  {
   "cell_type": "code",
   "execution_count": null,
   "metadata": {},
   "outputs": [],
   "source": [
    "# Add code here to train the logistic regression\n"
   ]
  },
  {
   "cell_type": "code",
   "execution_count": null,
   "metadata": {},
   "outputs": [],
   "source": [
    "# Add code to predict (hard and soft) on training and test features\n"
   ]
  },
  {
   "cell_type": "code",
   "execution_count": null,
   "metadata": {},
   "outputs": [],
   "source": [
    "# Add code to evaluate predictions using confusion matrix and its metrics\n"
   ]
  },
  {
   "cell_type": "code",
   "execution_count": null,
   "metadata": {},
   "outputs": [],
   "source": [
    "# Add code to evaluate predictions using ROC\n"
   ]
  },
  {
   "cell_type": "markdown",
   "metadata": {},
   "source": [
    "#### Add Comment on usability\n"
   ]
  },
  {
   "cell_type": "markdown",
   "metadata": {},
   "source": [
    "2. Train `LogisticRegression` with balanced class weights \n",
    " 1. Read the documentation to see what `class_weight` does\n",
    " 2. Train a new model with the same `X_train` and `y_train` settting `class_weight` so the weights are balanced\n",
    " 3. predict (hard and soft) on training and test features with .predict() and .predict_proba()\n",
    " 4. evaluate model using confusion matrix (confusion_matrix) and its metrics (classification_report)\n",
    " 5. evaluate model using ROC\n",
    " 6. How does balancing class weights change any of the results? Why?\n",
    "<br/><span style=\"color:red\" float:right>[3 point]</span>"
   ]
  },
  {
   "cell_type": "code",
   "execution_count": null,
   "metadata": {},
   "outputs": [],
   "source": [
    "# Add code here to train the logistic regression with balanced weights\n"
   ]
  },
  {
   "cell_type": "code",
   "execution_count": null,
   "metadata": {},
   "outputs": [],
   "source": [
    "# Add code to predict (hard and soft) on training and test features\n"
   ]
  },
  {
   "cell_type": "code",
   "execution_count": null,
   "metadata": {},
   "outputs": [],
   "source": [
    "# Add code to evaluate predictions using confusion matrix and its metrics\n"
   ]
  },
  {
   "cell_type": "code",
   "execution_count": null,
   "metadata": {},
   "outputs": [],
   "source": [
    "# Add code to evaluate predictions using ROC\n"
   ]
  },
  {
   "cell_type": "markdown",
   "metadata": {},
   "source": [
    "#### Add Comment on the effect of weight balancing\n"
   ]
  },
  {
   "cell_type": "markdown",
   "metadata": {},
   "source": [
    "3. Use `LogisticRegressionCV` to train a cross-validation logistic regression.  The CV stands for cross-validation.\n",
    " 1. train a cross-validation logistic regression\n",
    "    - Use the same `X_train` and `y_train`.\n",
    "    - You may want to use `random_state = 0` to make your results the same as others.\n",
    "    - Set the `cv` parameter to 5.  5 is the default value.\n",
    "    - Set `class_weight` so the weights are balanced\n",
    " 2. predict (hard and soft) on training and test features with `.predict()` and `.predict_proba()`\n",
    " 3. evaluate test and training predictions using confusion matrix (`confusion_matrix`) and its metrics (`classification_report`)\n",
    " 4. evaluate test and training predictions using ROC\n",
    " 5. comment on whether cross-validation makes a difference in the results. \n",
    "<br/><span style=\"color:red\" float:right>[3 point]</span>"
   ]
  },
  {
   "cell_type": "code",
   "execution_count": null,
   "metadata": {},
   "outputs": [],
   "source": [
    "# Add code to train logistic regression cross-validation (cv = 5)\n"
   ]
  },
  {
   "cell_type": "code",
   "execution_count": null,
   "metadata": {},
   "outputs": [],
   "source": [
    "# Add code to predict (hard and soft) on training and test features\n"
   ]
  },
  {
   "cell_type": "code",
   "execution_count": null,
   "metadata": {},
   "outputs": [],
   "source": [
    "# Add code to evaluate predictions using confusion matrix and its metrics\n"
   ]
  },
  {
   "cell_type": "code",
   "execution_count": null,
   "metadata": {},
   "outputs": [],
   "source": [
    "# Add code to evaluate predictions using ROC\n"
   ]
  },
  {
   "cell_type": "markdown",
   "metadata": {},
   "source": [
    "#### Add comments on model evaluation and  cross-validation\n"
   ]
  },
  {
   "cell_type": "markdown",
   "metadata": {},
   "source": [
    "4. Increase the number of folds and train the CV model again:\n",
    " 1. train a cross-validation logistic regression\n",
    "    - Use the same `X_train` and `y_train`.\n",
    "    - You may want to use `random_state = 0` to make your results the same as others.\n",
    "    - Set the `cv` parameter to 10 \n",
    "    - Set `class_weight` so the weights are balanced\n",
    " 2. predict (hard and soft) on training and test features with `.predict()` and `.predict_proba()`\n",
    " 3. evaluate test and training predictions using confusion matrix (`confusion_matrix`) and its metrics (`classification_report`)\n",
    " 4. evaluate test and training predictions using ROC\n",
    " 5. comment on whether cross-validation makes a difference in the results. \n",
    "<br/><span style=\"color:red\" float:right>[2 point]</span>"
   ]
  },
  {
   "cell_type": "code",
   "execution_count": null,
   "metadata": {
    "scrolled": true
   },
   "outputs": [],
   "source": [
    "# Add code to train logistic regression cross-validation (cv = 10)\n"
   ]
  },
  {
   "cell_type": "code",
   "execution_count": null,
   "metadata": {},
   "outputs": [],
   "source": [
    "# Add code to predict (hard and soft) on training and test features\n"
   ]
  },
  {
   "cell_type": "code",
   "execution_count": null,
   "metadata": {},
   "outputs": [],
   "source": [
    "# Add code to evaluate model using confusion matrix and its metrics\n"
   ]
  },
  {
   "cell_type": "code",
   "execution_count": null,
   "metadata": {},
   "outputs": [],
   "source": [
    "# Add code to evaluate model using ROC\n"
   ]
  },
  {
   "cell_type": "markdown",
   "metadata": {},
   "source": [
    "#### Add comments on model evaluation and extended cross-validation\n"
   ]
  },
  {
   "cell_type": "markdown",
   "metadata": {},
   "source": [
    "5. What was the cost of increasing the number of folds in terms of training run-time? <span style=\"color:red\" float:right>[2 point]</span>"
   ]
  },
  {
   "cell_type": "code",
   "execution_count": null,
   "metadata": {},
   "outputs": [],
   "source": [
    "# Add code here to determine cost of increasing folds\n"
   ]
  },
  {
   "cell_type": "markdown",
   "metadata": {},
   "source": [
    "#### Add comments on training run-time here\n"
   ]
  },
  {
   "cell_type": "markdown",
   "metadata": {},
   "source": [
    "# End of assignment"
   ]
  }
 ],
 "metadata": {
  "anaconda-cloud": {},
  "kernelspec": {
   "display_name": "Python 3 (ipykernel)",
   "language": "python",
   "name": "python3"
  },
  "language_info": {
   "codemirror_mode": {
    "name": "ipython",
    "version": 3
   },
   "file_extension": ".py",
   "mimetype": "text/x-python",
   "name": "python",
   "nbconvert_exporter": "python",
   "pygments_lexer": "ipython3",
   "version": "3.10.13"
  }
 },
 "nbformat": 4,
 "nbformat_minor": 4
}
