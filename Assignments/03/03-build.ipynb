{
 "cells": [
  {
   "cell_type": "markdown",
   "metadata": {},
   "source": [
    "# Assignment\n",
    "\n",
    "In this assignment we want to get comfortable with loading and manipulating data in Python. While future assignments will focus more using structured data which we can load into a `DataFrame` using `pandas`, this assignment is focused on semi-structured data and how we can \"flatten\" it and then load it into other formats. The objective is to see how data flows in Python from one object to another and what advantages and disadvantages each offers.\n",
    "\n",
    "Let's read the `books.json' data set and display the first item in it."
   ]
  },
  {
   "cell_type": "code",
   "execution_count": null,
   "metadata": {
    "notebookRunGroups": {
     "groupValue": "1"
    }
   },
   "outputs": [],
   "source": [
    "import json\n",
    "with open('../../data/books.json', encoding = 'utf-8') as f:\n",
    "    books_dict = json.load(f)\n",
    "\n",
    "from pprint import pprint\n",
    "pprint(books_dict[0]) # print information for the first book"
   ]
  },
  {
   "cell_type": "markdown",
   "metadata": {},
   "source": [
    "1. Write a program that goes through the entire data and extracts the following information:  <span style=\"color:red\" float:right>[4 point]</span>\n",
    "\n",
    "  - title of the book\n",
    "  - name of the first author\n",
    "  - name of the second author (if book has more than one author)\n",
    "  - number of authors\n",
    "  - ISBN\n",
    "  - if the word \"data\" is in the book's description\n",
    "  - the number of words in the book's description\n",
    "  - the year the book was published\n",
    "\n",
    "  Of course because JSON data doesn't necessarily enforce any sort of schema, we can't be sure that the information we are trying to extract exists for every book. For example, if the book only has one author, then there is no second author. So use `try` and `except` as you loop through every book and skip to the next item every time some information is missing.\n",
    "\n",
    "  Store the extracted data in a list named `rows` whose elements are tuples, one tuple per book. For example, the first element of `rows` stores the tuple for the first book and should look like this:\n",
    "\n",
    "        ('Unlocking Android', 'W. Frank Ableson', 'Charlie Collins', 3, '1933988673', True, 252, 2009)"
   ]
  },
  {
   "cell_type": "code",
   "execution_count": 2,
   "metadata": {},
   "outputs": [],
   "source": [
    "## I functionalized my approach to better drill down for potential (and actual) errors\n",
    "\n",
    "from datetime import datetime\n",
    "\n",
    "def _description_extract(long_desc:str):\n",
    "    data_in_desc = True if 'data' in long_desc else False\n",
    "    len_of_desc = len(long_desc.split())\n",
    "    return data_in_desc, len_of_desc\n",
    "\n",
    "def _year_pub_extract(pub_dict:dict):\n",
    "    try:\n",
    "        date_pub = datetime.strptime(pub_dict['$date'],\"%Y-%m-%dT00:00:00.000%z\")\n",
    "        year_pub = date_pub.year\n",
    "    except KeyError:\n",
    "        year_pub = None\n",
    "    return year_pub\n",
    "\n",
    "def _author_extractions(auth_list):\n",
    "    if len(auth_list) > 1:\n",
    "        auth01 = auth_list[0]\n",
    "        auth02 = auth_list[1]\n",
    "        auth_c = len(auth_list)\n",
    "    elif len(auth_list) == 1:\n",
    "        auth01 = auth_list[0]\n",
    "        auth02 = None\n",
    "        auth_c = len(auth_list)\n",
    "    else:\n",
    "        auth01, auth02, auth_c = None, None, None\n",
    "    return auth01, auth02, auth_c\n",
    "\n",
    "def extract_details(books_dict):\n",
    "    rows = list()\n",
    "    for book in books_dict:\n",
    "        # re-init book details\n",
    "        details = dict(title=None, auth01=None, auth02=None, auth_count=None, isbn=None, data_exists=None, word_count=None, year_pub=None)\n",
    "        \n",
    "        # generally guaranteed\n",
    "        details['title'] = book['title']\n",
    "        \n",
    "        # isbn\n",
    "        try:\n",
    "            details['isbn'] = book['isbn']\n",
    "        except KeyError:\n",
    "            details['isbn'] = None\n",
    "        \n",
    "        # date\n",
    "        try:\n",
    "            details['year_pub'] = _year_pub_extract(book['publishedDate'])\n",
    "        except KeyError:\n",
    "            details['year_pub'] = None\n",
    "        \n",
    "        # description\n",
    "        try:\n",
    "            details['data_exists'], details['word_count'] = _description_extract(book['longDescription'])\n",
    "        except KeyError:\n",
    "            details['data_exists'] = False\n",
    "            details['word_count'] = 0\n",
    "        \n",
    "        # authors\n",
    "        try:\n",
    "            details['auth01'], details['auth02'], details['auth_count'] = _author_extractions(book['authors'])\n",
    "        except KeyError:\n",
    "            details['auth01'], details['auth02'], details['auth_count'] = None\n",
    "        \n",
    "        rows.append(tuple([v for k,v in details.items()]))\n",
    "\n",
    "    return rows"
   ]
  },
  {
   "cell_type": "code",
   "execution_count": null,
   "metadata": {},
   "outputs": [],
   "source": [
    "rows = extract_details(books_dict)\n",
    "print(f\"Extracted {len(rows)} from JSON data\\n---\")\n",
    "for row in rows[:5]:\n",
    "    print(row)"
   ]
  },
  {
   "cell_type": "markdown",
   "metadata": {},
   "source": [
    "2. Save the content of `rows` in a SQL-like table using `sqlite3`, and choose the appropriate column types. <span style=\"color:red\" float:right>[2 point]</span> \n",
    "\n",
    "  As your column names use the following:\n",
    "\n",
    "  - `title`\n",
    "  - `author_1`\n",
    "  - `author_2`\n",
    "  - `num_authors`\n",
    "  - `isbn`\n",
    "  - `has_data`\n",
    "  - `desc_len`\n",
    "  - `year_published`"
   ]
  },
  {
   "cell_type": "code",
   "execution_count": 4,
   "metadata": {},
   "outputs": [],
   "source": [
    "import sqlite3\n",
    "\n",
    "db = sqlite3.connect('book_extractions.db')\n",
    "\n",
    "sql = r\"\"\"\n",
    "CREATE TABLE IF NOT EXISTS book_details (`title` , `author_1` , `author_2` , `num_authors` INT, `isbn` , `has_data` INT, `desc_len` INT, `year_published` INT)\n",
    "\"\"\"\n",
    "\n",
    "crs = db.execute(sql)\n",
    "crs.executemany(\"INSERT INTO book_details VALUES (?, ?, ?, ?, ?, ?, ?, ?)\", rows)\n",
    "db.commit()\n"
   ]
  },
  {
   "cell_type": "markdown",
   "metadata": {},
   "source": [
    "3. Write a SQL query against the table to show all books that (1) contain the word \"data\" and (2) have more than 3 authors. Store the result of the query in an object called `books_table`, then close the connection. <span style=\"color:red\" float:right>[2 point]</span>"
   ]
  },
  {
   "cell_type": "code",
   "execution_count": null,
   "metadata": {},
   "outputs": [],
   "source": [
    "sql = r\"\"\"SELECT * FROM book_details WHERE `has_data` = True AND `num_authors` > 3\"\"\"\n",
    "crs.execute(sql)\n",
    "books_table = crs.fetchall()\n",
    "db.close()\n",
    "\n",
    "print(f\"Have returned {len(books_table)} from SQLite DB\\n---\")\n",
    "for row in books_table[:5]:\n",
    "    print(row)"
   ]
  },
  {
   "cell_type": "markdown",
   "metadata": {},
   "source": [
    "SQL tables are not the only way, and definitely not the most straightforward way to store and manipulate data in Python. A format that's more popular with data scientist is to use the `pandas` library to create a `DataFrame`. This library has a lot of functionality that makes it easy to run the common tasks data scientists do with data.\n",
    "\n",
    "4. Read the data from the above query into a `DataFrame` and call it `books_df`. HINT: Use `pd.DataFrame` and specify meaningful column names to use for the columns. <span style=\"color:red\" float:right>[1 point]</span>"
   ]
  },
  {
   "cell_type": "code",
   "execution_count": 6,
   "metadata": {},
   "outputs": [],
   "source": [
    "import pandas as pd"
   ]
  },
  {
   "cell_type": "code",
   "execution_count": null,
   "metadata": {},
   "outputs": [],
   "source": [
    "books_df = pd.DataFrame(books_table,columns=['title','author_01','author_02','number of authors','isbn','has data in description', 'description word count','year published'])\n",
    "books_df"
   ]
  },
  {
   "cell_type": "markdown",
   "metadata": {},
   "source": [
    "5. Display the first few columns of a `DataFrame` by calling its `head` method. <span style=\"color:red\" float:right>[1 point]</span>"
   ]
  },
  {
   "cell_type": "code",
   "execution_count": null,
   "metadata": {},
   "outputs": [],
   "source": [
    "books_df.head()"
   ]
  },
  {
   "cell_type": "markdown",
   "metadata": {},
   "source": [
    "Remember how earlier we said that a `DataFrame` is built on top of `numpy` arrays? Another way of saying it is that a `DataFrame` is an **abstraction** on top of `numpy` arrays: i.e. a `DataFrame` is a more **high-level** object than a `numpy` array. \n",
    "\n",
    "6. Call the `values` attribute of your `DataFrame` to convert it into a numpy array and display the first 3 elements of the array. <span style=\"color:red\" float:right>[1 point]</span>"
   ]
  },
  {
   "cell_type": "code",
   "execution_count": null,
   "metadata": {},
   "outputs": [],
   "source": [
    "print(f\"The `values` object of a `DataFrame` is already a : {type(books_df.values)}\\n---\\nAnd the first 3 elements are:\\n{books_df.values[:3]}\")"
   ]
  },
  {
   "cell_type": "markdown",
   "metadata": {},
   "source": [
    "Now you can judge which object is more \"user-friendly\". That's one of the things that abstractions allow us to do: build more user-friendly (abstract) objects from less user-friendly (but more fundamental) objects.\n",
    "\n",
    "# End of assignment"
   ]
  }
 ],
 "metadata": {
  "kernelspec": {
   "display_name": "work",
   "language": "python",
   "name": "python3"
  },
  "language_info": {
   "codemirror_mode": {
    "name": "ipython",
    "version": 3
   },
   "file_extension": ".py",
   "mimetype": "text/x-python",
   "name": "python",
   "nbconvert_exporter": "python",
   "pygments_lexer": "ipython3",
   "version": "3.12.7"
  }
 },
 "nbformat": 4,
 "nbformat_minor": 2
}
