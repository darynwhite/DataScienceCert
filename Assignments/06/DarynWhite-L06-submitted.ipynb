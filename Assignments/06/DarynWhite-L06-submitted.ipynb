{
 "cells": [
  {
   "cell_type": "markdown",
   "metadata": {},
   "source": [
    "# Lesson 06 Assignment\n",
    "\n",
    "In this assignment, we want to read the `retail-churn.csv` dataset that we examined in a previous assignment and begin to pre-process it. The goal of the assignment is to become familiar with some common pre-processing and feature engineering steps by implementing them."
   ]
  },
  {
   "cell_type": "code",
   "execution_count": 1,
   "metadata": {},
   "outputs": [],
   "source": [
    "import pandas as pd\n",
    "import numpy as np\n",
    "import matplotlib.pyplot as plt\n",
    "%matplotlib inline\n",
    "\n",
    "col_names = ['user_id', 'gender', 'address', 'store_id', 'trans_id', 'timestamp', 'item_id', 'quantity', 'dollar']\n",
    "churn = pd.read_csv(\"../../data/retail-churn.csv\", sep = \",\", skiprows = 1, names = col_names)"
   ]
  },
  {
   "cell_type": "markdown",
   "metadata": {},
   "source": [
    "### Some basic EDA\n",
    "present the first few rows and use pandas' `describe` to get an overview of the data\n",
    "<br/>&nbsp;&nbsp;<span style=\"color:red\" float:right>[0 point]</span>"
   ]
  },
  {
   "cell_type": "code",
   "execution_count": 2,
   "metadata": {},
   "outputs": [
    {
     "data": {
      "text/html": [
       "<div>\n",
       "<style scoped>\n",
       "    .dataframe tbody tr th:only-of-type {\n",
       "        vertical-align: middle;\n",
       "    }\n",
       "\n",
       "    .dataframe tbody tr th {\n",
       "        vertical-align: top;\n",
       "    }\n",
       "\n",
       "    .dataframe thead th {\n",
       "        text-align: right;\n",
       "    }\n",
       "</style>\n",
       "<table border=\"1\" class=\"dataframe\">\n",
       "  <thead>\n",
       "    <tr style=\"text-align: right;\">\n",
       "      <th></th>\n",
       "      <th>user_id</th>\n",
       "      <th>gender</th>\n",
       "      <th>address</th>\n",
       "      <th>store_id</th>\n",
       "      <th>trans_id</th>\n",
       "      <th>timestamp</th>\n",
       "      <th>item_id</th>\n",
       "      <th>quantity</th>\n",
       "      <th>dollar</th>\n",
       "    </tr>\n",
       "  </thead>\n",
       "  <tbody>\n",
       "    <tr>\n",
       "      <th>0</th>\n",
       "      <td>101981</td>\n",
       "      <td>F</td>\n",
       "      <td>E</td>\n",
       "      <td>2860</td>\n",
       "      <td>818463</td>\n",
       "      <td>11/1/2000 0:00</td>\n",
       "      <td>4.710000e+12</td>\n",
       "      <td>1</td>\n",
       "      <td>37</td>\n",
       "    </tr>\n",
       "    <tr>\n",
       "      <th>1</th>\n",
       "      <td>101981</td>\n",
       "      <td>F</td>\n",
       "      <td>E</td>\n",
       "      <td>2861</td>\n",
       "      <td>818464</td>\n",
       "      <td>11/1/2000 0:00</td>\n",
       "      <td>4.710000e+12</td>\n",
       "      <td>1</td>\n",
       "      <td>17</td>\n",
       "    </tr>\n",
       "    <tr>\n",
       "      <th>2</th>\n",
       "      <td>101981</td>\n",
       "      <td>F</td>\n",
       "      <td>E</td>\n",
       "      <td>2862</td>\n",
       "      <td>818465</td>\n",
       "      <td>11/1/2000 0:00</td>\n",
       "      <td>4.710000e+12</td>\n",
       "      <td>1</td>\n",
       "      <td>23</td>\n",
       "    </tr>\n",
       "    <tr>\n",
       "      <th>3</th>\n",
       "      <td>101981</td>\n",
       "      <td>F</td>\n",
       "      <td>E</td>\n",
       "      <td>2863</td>\n",
       "      <td>818466</td>\n",
       "      <td>11/1/2000 0:00</td>\n",
       "      <td>4.710000e+12</td>\n",
       "      <td>1</td>\n",
       "      <td>41</td>\n",
       "    </tr>\n",
       "    <tr>\n",
       "      <th>4</th>\n",
       "      <td>101981</td>\n",
       "      <td>F</td>\n",
       "      <td>E</td>\n",
       "      <td>2864</td>\n",
       "      <td>818467</td>\n",
       "      <td>11/1/2000 0:00</td>\n",
       "      <td>4.710000e+12</td>\n",
       "      <td>8</td>\n",
       "      <td>288</td>\n",
       "    </tr>\n",
       "    <tr>\n",
       "      <th>...</th>\n",
       "      <td>...</td>\n",
       "      <td>...</td>\n",
       "      <td>...</td>\n",
       "      <td>...</td>\n",
       "      <td>...</td>\n",
       "      <td>...</td>\n",
       "      <td>...</td>\n",
       "      <td>...</td>\n",
       "      <td>...</td>\n",
       "    </tr>\n",
       "    <tr>\n",
       "      <th>252199</th>\n",
       "      <td>2179605</td>\n",
       "      <td>B</td>\n",
       "      <td>G</td>\n",
       "      <td>251838</td>\n",
       "      <td>1630692</td>\n",
       "      <td>2/28/2001 0:00</td>\n",
       "      <td>2.250000e+12</td>\n",
       "      <td>2</td>\n",
       "      <td>138</td>\n",
       "    </tr>\n",
       "    <tr>\n",
       "      <th>252200</th>\n",
       "      <td>2179605</td>\n",
       "      <td>B</td>\n",
       "      <td>G</td>\n",
       "      <td>251839</td>\n",
       "      <td>1630821</td>\n",
       "      <td>2/28/2001 0:00</td>\n",
       "      <td>4.710000e+12</td>\n",
       "      <td>1</td>\n",
       "      <td>96</td>\n",
       "    </tr>\n",
       "    <tr>\n",
       "      <th>252201</th>\n",
       "      <td>2179605</td>\n",
       "      <td>B</td>\n",
       "      <td>G</td>\n",
       "      <td>251840</td>\n",
       "      <td>1630931</td>\n",
       "      <td>2/28/2001 0:00</td>\n",
       "      <td>4.710000e+12</td>\n",
       "      <td>1</td>\n",
       "      <td>89</td>\n",
       "    </tr>\n",
       "    <tr>\n",
       "      <th>252202</th>\n",
       "      <td>2179605</td>\n",
       "      <td>B</td>\n",
       "      <td>G</td>\n",
       "      <td>251841</td>\n",
       "      <td>1631033</td>\n",
       "      <td>2/28/2001 0:00</td>\n",
       "      <td>4.710000e+12</td>\n",
       "      <td>1</td>\n",
       "      <td>108</td>\n",
       "    </tr>\n",
       "    <tr>\n",
       "      <th>252203</th>\n",
       "      <td>2179605</td>\n",
       "      <td>B</td>\n",
       "      <td>G</td>\n",
       "      <td>251842</td>\n",
       "      <td>1631048</td>\n",
       "      <td>2/28/2001 0:00</td>\n",
       "      <td>4.710000e+12</td>\n",
       "      <td>1</td>\n",
       "      <td>95</td>\n",
       "    </tr>\n",
       "  </tbody>\n",
       "</table>\n",
       "<p>252204 rows × 9 columns</p>\n",
       "</div>"
      ],
      "text/plain": [
       "        user_id gender address  store_id  trans_id       timestamp  \\\n",
       "0        101981      F       E      2860    818463  11/1/2000 0:00   \n",
       "1        101981      F       E      2861    818464  11/1/2000 0:00   \n",
       "2        101981      F       E      2862    818465  11/1/2000 0:00   \n",
       "3        101981      F       E      2863    818466  11/1/2000 0:00   \n",
       "4        101981      F       E      2864    818467  11/1/2000 0:00   \n",
       "...         ...    ...     ...       ...       ...             ...   \n",
       "252199  2179605      B       G    251838   1630692  2/28/2001 0:00   \n",
       "252200  2179605      B       G    251839   1630821  2/28/2001 0:00   \n",
       "252201  2179605      B       G    251840   1630931  2/28/2001 0:00   \n",
       "252202  2179605      B       G    251841   1631033  2/28/2001 0:00   \n",
       "252203  2179605      B       G    251842   1631048  2/28/2001 0:00   \n",
       "\n",
       "             item_id  quantity  dollar  \n",
       "0       4.710000e+12         1      37  \n",
       "1       4.710000e+12         1      17  \n",
       "2       4.710000e+12         1      23  \n",
       "3       4.710000e+12         1      41  \n",
       "4       4.710000e+12         8     288  \n",
       "...              ...       ...     ...  \n",
       "252199  2.250000e+12         2     138  \n",
       "252200  4.710000e+12         1      96  \n",
       "252201  4.710000e+12         1      89  \n",
       "252202  4.710000e+12         1     108  \n",
       "252203  4.710000e+12         1      95  \n",
       "\n",
       "[252204 rows x 9 columns]"
      ]
     },
     "execution_count": 2,
     "metadata": {},
     "output_type": "execute_result"
    }
   ],
   "source": [
    "churn"
   ]
  },
  {
   "cell_type": "code",
   "execution_count": 3,
   "metadata": {},
   "outputs": [
    {
     "data": {
      "text/html": [
       "<div>\n",
       "<style scoped>\n",
       "    .dataframe tbody tr th:only-of-type {\n",
       "        vertical-align: middle;\n",
       "    }\n",
       "\n",
       "    .dataframe tbody tr th {\n",
       "        vertical-align: top;\n",
       "    }\n",
       "\n",
       "    .dataframe thead th {\n",
       "        text-align: right;\n",
       "    }\n",
       "</style>\n",
       "<table border=\"1\" class=\"dataframe\">\n",
       "  <thead>\n",
       "    <tr style=\"text-align: right;\">\n",
       "      <th></th>\n",
       "      <th>user_id</th>\n",
       "      <th>store_id</th>\n",
       "      <th>trans_id</th>\n",
       "      <th>item_id</th>\n",
       "      <th>quantity</th>\n",
       "      <th>dollar</th>\n",
       "    </tr>\n",
       "  </thead>\n",
       "  <tbody>\n",
       "    <tr>\n",
       "      <th>count</th>\n",
       "      <td>2.522040e+05</td>\n",
       "      <td>252204.000000</td>\n",
       "      <td>2.522040e+05</td>\n",
       "      <td>2.522040e+05</td>\n",
       "      <td>252204.000000</td>\n",
       "      <td>252204.000000</td>\n",
       "    </tr>\n",
       "    <tr>\n",
       "      <th>mean</th>\n",
       "      <td>1.395660e+06</td>\n",
       "      <td>126101.500000</td>\n",
       "      <td>1.229771e+06</td>\n",
       "      <td>4.467833e+12</td>\n",
       "      <td>1.385692</td>\n",
       "      <td>130.911389</td>\n",
       "    </tr>\n",
       "    <tr>\n",
       "      <th>std</th>\n",
       "      <td>6.094769e+05</td>\n",
       "      <td>72805.167983</td>\n",
       "      <td>2.350992e+05</td>\n",
       "      <td>1.679512e+12</td>\n",
       "      <td>3.705732</td>\n",
       "      <td>388.142169</td>\n",
       "    </tr>\n",
       "    <tr>\n",
       "      <th>min</th>\n",
       "      <td>1.113000e+03</td>\n",
       "      <td>0.000000</td>\n",
       "      <td>8.177470e+05</td>\n",
       "      <td>2.000882e+07</td>\n",
       "      <td>1.000000</td>\n",
       "      <td>1.000000</td>\n",
       "    </tr>\n",
       "    <tr>\n",
       "      <th>25%</th>\n",
       "      <td>9.937150e+05</td>\n",
       "      <td>63050.750000</td>\n",
       "      <td>1.025926e+06</td>\n",
       "      <td>4.710000e+12</td>\n",
       "      <td>1.000000</td>\n",
       "      <td>42.000000</td>\n",
       "    </tr>\n",
       "    <tr>\n",
       "      <th>50%</th>\n",
       "      <td>1.586046e+06</td>\n",
       "      <td>126101.500000</td>\n",
       "      <td>1.233476e+06</td>\n",
       "      <td>4.710000e+12</td>\n",
       "      <td>1.000000</td>\n",
       "      <td>76.000000</td>\n",
       "    </tr>\n",
       "    <tr>\n",
       "      <th>75%</th>\n",
       "      <td>1.862232e+06</td>\n",
       "      <td>189152.250000</td>\n",
       "      <td>1.433222e+06</td>\n",
       "      <td>4.710000e+12</td>\n",
       "      <td>1.000000</td>\n",
       "      <td>132.000000</td>\n",
       "    </tr>\n",
       "    <tr>\n",
       "      <th>max</th>\n",
       "      <td>2.179605e+06</td>\n",
       "      <td>252203.000000</td>\n",
       "      <td>1.635482e+06</td>\n",
       "      <td>9.790000e+12</td>\n",
       "      <td>1200.000000</td>\n",
       "      <td>70589.000000</td>\n",
       "    </tr>\n",
       "  </tbody>\n",
       "</table>\n",
       "</div>"
      ],
      "text/plain": [
       "            user_id       store_id      trans_id       item_id       quantity  \\\n",
       "count  2.522040e+05  252204.000000  2.522040e+05  2.522040e+05  252204.000000   \n",
       "mean   1.395660e+06  126101.500000  1.229771e+06  4.467833e+12       1.385692   \n",
       "std    6.094769e+05   72805.167983  2.350992e+05  1.679512e+12       3.705732   \n",
       "min    1.113000e+03       0.000000  8.177470e+05  2.000882e+07       1.000000   \n",
       "25%    9.937150e+05   63050.750000  1.025926e+06  4.710000e+12       1.000000   \n",
       "50%    1.586046e+06  126101.500000  1.233476e+06  4.710000e+12       1.000000   \n",
       "75%    1.862232e+06  189152.250000  1.433222e+06  4.710000e+12       1.000000   \n",
       "max    2.179605e+06  252203.000000  1.635482e+06  9.790000e+12    1200.000000   \n",
       "\n",
       "              dollar  \n",
       "count  252204.000000  \n",
       "mean      130.911389  \n",
       "std       388.142169  \n",
       "min         1.000000  \n",
       "25%        42.000000  \n",
       "50%        76.000000  \n",
       "75%       132.000000  \n",
       "max     70589.000000  "
      ]
     },
     "execution_count": 3,
     "metadata": {},
     "output_type": "execute_result"
    }
   ],
   "source": [
    "churn.describe()"
   ]
  },
  {
   "cell_type": "markdown",
   "metadata": {},
   "source": [
    "The new data frame will be called `churn_processed`, which stores the pre-processed columns as you run through each of the these steps. You will need to make sure your columns are properly named.\n",
    "\n",
    "1. Cast the `timestamp` column in churn into a column of type `datetime` and put the column into the `churn_processed` dataframe.  The new column should also be named `timestamp`.  Extract two new columns from `timestamp`: `dow` is the day of the week and `month` is the month of the year. Then drop the `timestamp` column from `churn_processed`.  Present the first few rows of `churn_processed`.\n",
    "<br/>&nbsp;&nbsp;<span style=\"color:red\" float:right>[2 point]</span>"
   ]
  },
  {
   "cell_type": "code",
   "execution_count": null,
   "metadata": {},
   "outputs": [],
   "source": [
    "# Add code here\n",
    "# Create the new (empty) data frame, called churn_processed\n",
    "\n",
    "# Cast timestamp to datetime\n",
    "\n",
    "# Create a dow column\n",
    "\n",
    "# Create a month column\n",
    "\n",
    "# Drop Timestamp\n",
    "\n",
    "# See what we have\n"
   ]
  },
  {
   "cell_type": "markdown",
   "metadata": {},
   "source": [
    "2. Add `address` from `churn` to `churn_processed`. One-hot encode `address`, `dow` and `month`. Then drop columns `address`, `dow`, and `month` from `churn_processed`.  Finally, show some of the dataframe.\n",
    "<br/>&nbsp;&nbsp;<span style=\"color:red\" float:right>[2 point]</span>  "
   ]
  },
  {
   "cell_type": "code",
   "execution_count": null,
   "metadata": {},
   "outputs": [],
   "source": [
    "# Add code here\n",
    "\n",
    "# add address column\n",
    "\n",
    "# One-hot-encode address, dow and month\n",
    "\n",
    "# Create Column Names\n",
    "\n",
    "# Add one-hot endcoded values to new columns\n",
    "\n",
    "# Drop address, dow and month\n",
    "\n",
    "# Show the dataframe\n"
   ]
  },
  {
   "cell_type": "markdown",
   "metadata": {},
   "source": [
    "3. So far we dropped `address`, `dow`, `month`, and `timestamp`.  Why would we want to drop all these columns?\n",
    "<br/>&nbsp;&nbsp;<span style=\"color:red\" float:right>[1 point]</span> "
   ]
  },
  {
   "cell_type": "markdown",
   "metadata": {},
   "source": [
    "**Why would we want to drop all these columns?**<br/>\n",
    "Add Comment here\n"
   ]
  },
  {
   "cell_type": "markdown",
   "metadata": {},
   "source": [
    "4. Rescale `dollar` using min-max normalization. Use `pandas` and `numpy` to do it and call the rescaled column `dollar_std_minmax`.  Then see what the first few rows of the dataframe looks like.\n",
    "<br/>&nbsp;&nbsp;<span style=\"color:red\" float:right>[1 point]</span> "
   ]
  },
  {
   "cell_type": "code",
   "execution_count": null,
   "metadata": {},
   "outputs": [],
   "source": [
    "# Add code here\n",
    "\n",
    "# Min-max of dollar using numpy and pandas\n",
    "\n",
    "# See what the dataframe looks like\n"
   ]
  },
  {
   "cell_type": "markdown",
   "metadata": {},
   "source": [
    "You can read about **robust normalization** [here](https://scikit-learn.org/stable/modules/generated/sklearn.preprocessing.RobustScaler.html). The word **robust** in statistics generally refers to methods that behave reasonably even if the data is unusual.  For example, you can say that the median is a *robust* measure for the \"average\" of the data, while the mean is not.  In this respect a normalization is similar to an average. For a normalization **robust** might mean that the method is not affected by outliers. \n",
    "<br/><br/>\n",
    "5. Write briefly about what makes robust normalization different from Z-normalization.  Write briefly about what makes robust normalization more robust than Z-normalization.  Rescale `quantity` using robust normalization. Call the rescaled column `qty_std_robust` and add it to `churn_processed`.  Compare minimum, maximum, mean, standard deviation, and the median of the original churn['quantity'] with the robust-normalized churn_processed['qty_std_robust'].  Comment on what went wrong.\n",
    "<br/>&nbsp;&nbsp;<span style=\"color:red\" float:right>[3 point]</span>"
   ]
  },
  {
   "cell_type": "markdown",
   "metadata": {},
   "source": [
    "**Robust normalization vs. Z-normalization**<br/>\n",
    "Add Comment here:<br/>\n",
    "\n",
    "**Robust normalization is more robust than Z-normalization**<br/>\n",
    "Add Comment here:<br/>\n",
    "  "
   ]
  },
  {
   "cell_type": "code",
   "execution_count": null,
   "metadata": {},
   "outputs": [],
   "source": [
    "# Add Code here:\n"
   ]
  },
  {
   "cell_type": "code",
   "execution_count": null,
   "metadata": {},
   "outputs": [],
   "source": [
    "# Compare minimum, maximum, mean, standard deviation, and the median of churn['quantity'] with churn_processed['qty_std_robust']\n",
    "# Add code here\n"
   ]
  },
  {
   "cell_type": "markdown",
   "metadata": {},
   "source": [
    "**Failure of Robust Normalization**<br/>\n",
    "Add Comment here:<br/>\n"
   ]
  },
  {
   "cell_type": "markdown",
   "metadata": {},
   "source": [
    "6. Rescale `quantity` using Z-normalization, but normalize `quantity` **per user**, i.e. group by `user_id` so that the mean and standard deviation computed to normalize are computed separately by each `user_id`. Call the rescaled feature `qty_std_Z_byuser`. Present a histogram of `qty_std_Z_byuser`.  Briefly describe why and when you think this kind of normalization makes sense.\n",
    "<br/>&nbsp;&nbsp;<span style=\"color:red\" float:right>[3 point]</span>"
   ]
  },
  {
   "cell_type": "code",
   "execution_count": null,
   "metadata": {},
   "outputs": [],
   "source": [
    "# Z-normalize quantity per user_id\n",
    "# Add code here\n"
   ]
  },
  {
   "cell_type": "code",
   "execution_count": null,
   "metadata": {},
   "outputs": [],
   "source": [
    "# Present histogram of qty_std_Z_byuser\n",
    "# Add code here\n"
   ]
  },
  {
   "cell_type": "markdown",
   "metadata": {},
   "source": [
    "**What could be the purpose of this normalization?**\n",
    "<br/>\n",
    "Add comment here:\n"
   ]
  },
  {
   "cell_type": "markdown",
   "metadata": {},
   "source": [
    "7. Convert `item_id` into a category column in `churn_processed`.  Replace the `item_id` of all the items sold only once in the entire data with `\"999999\"`.  How many item ids are of category `\"999999\"`?  Display 10 rows of `churn_processed` where `item_id` is category `\"999999\"`.\n",
    "<br/>&nbsp;&nbsp;<span style=\"color:red\" float:right>[2 point]</span>"
   ]
  },
  {
   "cell_type": "code",
   "execution_count": null,
   "metadata": {},
   "outputs": [],
   "source": [
    "# Convert item_id into a category column in churn_processed\n",
    "# Add code here\n"
   ]
  },
  {
   "cell_type": "code",
   "execution_count": null,
   "metadata": {},
   "outputs": [],
   "source": [
    "# Add code here\n",
    "\n",
    "# Add Category\n",
    "\n",
    "#  Replace the item_id of all the items sold only once in the entire data with \"999999\"   \n",
    "\n",
    "# How many item ids are of category \"999999\"\n",
    "\n",
    "# Display 10 rows of churn_processed where item_id is category 999999\n"
   ]
  },
  {
   "cell_type": "markdown",
   "metadata": {},
   "source": [
    "# End of assignment"
   ]
  }
 ],
 "metadata": {
  "kernelspec": {
   "display_name": "work",
   "language": "python",
   "name": "python3"
  },
  "language_info": {
   "codemirror_mode": {
    "name": "ipython",
    "version": 3
   },
   "file_extension": ".py",
   "mimetype": "text/x-python",
   "name": "python",
   "nbconvert_exporter": "python",
   "pygments_lexer": "ipython3",
   "version": "3.12.7"
  }
 },
 "nbformat": 4,
 "nbformat_minor": 4
}
