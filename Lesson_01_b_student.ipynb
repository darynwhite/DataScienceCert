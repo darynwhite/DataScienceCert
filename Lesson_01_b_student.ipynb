{
 "cells": [
  {
   "cell_type": "markdown",
   "metadata": {},
   "source": [
    "# Jupyter notebooks\n",
    "\n",
    "## Markdown cells\n",
    "\n",
    "This is a Markdown cell. Double-click on it and you can see it in its raw format and begin editing it. Once you're *done* **editing**, you can render it again by pressing `CTRL+Enter`. You have some limited formatting functionality with Markdown, such as making words **bold** and *italic*, or adding [hyperlinks](https://www.washington.edu/).\n",
    "\n",
    "You can also add images:\n",
    "\n",
    "![some label](https://bioe.uw.edu/wp-content/uploads/2014/01/block-w-header-blog.png)\n",
    "\n",
    "If the image you're adding is local, then just point to it's path relative to the notebook, such as `./../images/my_image.jpg`. Absolute paths work too, but relative paths are better.\n",
    "\n",
    "### lists\n",
    "\n",
    "You can also create nested bulleted lists:\n",
    "\n",
    "- fruits\n",
    "  - persimmon\n",
    "  - guanabana\n",
    "- veggies\n",
    "  - onions\n",
    "  - garlic\n",
    "\n",
    "or numbered lists\n",
    "\n",
    "1. study\n",
    "1. drink coffee\n",
    "1. repeat\n",
    "\n",
    "Notice how you can number every item with 1. When it renders it will automatically increment."
   ]
  },
  {
   "cell_type": "markdown",
   "metadata": {},
   "source": [
    "## code cells\n",
    "\n",
    "There's a lot more you can do with Markdown, but we have the basics covered. Now let's look at code cells. Run the cell below using `CTRL+Enter` and see how the Python code runs and any output it creates shows up right under it. So there is a Python session serving this current Notebook."
   ]
  },
  {
   "cell_type": "code",
   "execution_count": null,
   "metadata": {},
   "outputs": [],
   "source": [
    "str = \"this is a Python string\"\n",
    "print(str)"
   ]
  },
  {
   "cell_type": "markdown",
   "metadata": {},
   "source": [
    "This is why it's important to keep in mind that\n",
    "\n",
    "1. When you're done with a notebook, don't just close the browser tab. Instead, go to **File > Close and Halt** so that in addition to closing the notebook it terminates the underlying Python session. Otherwise you'll have many Python sessions open for no reason (you can later kill them from the task bar too).\n",
    "1. Code cells have some visual clues that can help you. Next to a new code cell you see `In [ ]`, showing the cell hasn't run yet. Once you run it you get `In [n]` where `n` starts at 1 for the first cell you run and keep incrementing by 1 every time you run a code cell.\n",
    "1. **The order in which you run code cells is important**, and accidentally re-running a code cell can mess things up in some cases. Here's an example:"
   ]
  },
  {
   "cell_type": "code",
   "execution_count": null,
   "metadata": {},
   "outputs": [],
   "source": [
    "a = 1"
   ]
  },
  {
   "cell_type": "code",
   "execution_count": null,
   "metadata": {},
   "outputs": [],
   "source": [
    "a += 1 # a = a + 1"
   ]
  },
  {
   "cell_type": "markdown",
   "metadata": {},
   "source": [
    "What happens if you run the above cell a few times? Create a new code cell below (go to **Insert > Insert Cell Below**) and print the value of `a` to check it."
   ]
  },
  {
   "cell_type": "markdown",
   "metadata": {},
   "source": [
    "So how could we have avoided that problem, so that `a` always evaluates to 2? The answer, merge the two code cells above into one (select the cell with `a += 1` and go to **Edit > Merge Cell Above**).\n",
    "\n",
    "How can we avoid such mistakes?\n",
    "\n",
    "- Try to avoid running cells in random orders. If you want to test your code up to a certain point, then go to **Cell > Run All Above**.\n",
    "- Avoid having cells whose states depend on other cells, like we saw with the above example.\n",
    "- Avoid having too many variables in the same notebook with the same names.\n",
    "- Before submitting your assignments, make sure you re-run the notebook from scratch to make sure everything worked. Just go to **Kernel > Restart and Run All**."
   ]
  },
  {
   "cell_type": "markdown",
   "metadata": {},
   "source": [
    "## cell shortcuts\n",
    "\n",
    "There are many useful keyboard shortcuts that can make it easier to work with notebooks. To see all of them just click on the little keyboard icon in the menu bar. Here are some of the most important ones:\n",
    "\n",
    "- `CTRL+Enter`: Run current cell, but stay in with current cell after running.\n",
    "- `SHIFT+Enter`: Run current cell and jump to the next cell. You can use this to run through the whole notebook one cell at a time.\n",
    "- If you select a cell and press `a` and `b`, it will create a new cell above and below the current cell, respectively. This only works if you have selected the cell but are not in edit mode (if you see your cursor flashing in the current cell, that means you're in edit mode). To leave edit mode, either press `Escape` or click on somewhere in the margin to the left or right side of the cell.\n",
    "- `CTRL+SHIFT+-`: When you're in edit mode inside a cell, this command will split the cell in two based on where you have the cursor.\n",
    "- `d+d`: Pressing `d` twice will delete the cell you've selected."
   ]
  },
  {
   "cell_type": "markdown",
   "metadata": {},
   "source": [
    "## cell magics\n",
    "\n",
    "Cell [magics](https://ipython.readthedocs.io/en/stable/interactive/magics.html) are little commands **at the top of a cell, starting with % or %%**. They serve as shortcuts for doing some common tasks. They can save you a lot of time! Here's some common ones:"
   ]
  },
  {
   "cell_type": "markdown",
   "metadata": {},
   "source": [
    "- `%magic` lists all Jupyter magics."
   ]
  },
  {
   "cell_type": "code",
   "execution_count": null,
   "metadata": {},
   "outputs": [],
   "source": [
    "# %magic"
   ]
  },
  {
   "cell_type": "markdown",
   "metadata": {},
   "source": [
    "- If you want to create a raw text file (Python script in this example, but works with any text file), you can use `%%writefile` followed by the name of the file, followed by its content starting in line 2."
   ]
  },
  {
   "cell_type": "code",
   "execution_count": null,
   "metadata": {},
   "outputs": [],
   "source": [
    "%%writefile ../scripts/script.py\n",
    "a = 'hello world'\n",
    "print(a)"
   ]
  },
  {
   "cell_type": "markdown",
   "metadata": {},
   "source": [
    "- If you want to run a Python script you can use `%run`. This will run it using a **new** Python session. You can also run it with the Python session hosted by the notebook if you use the `-i` flag."
   ]
  },
  {
   "cell_type": "code",
   "execution_count": null,
   "metadata": {},
   "outputs": [],
   "source": [
    "%run script.py"
   ]
  },
  {
   "cell_type": "markdown",
   "metadata": {},
   "source": [
    "- `%time` can give you the run-time of a cell.  Try this in the next cell"
   ]
  },
  {
   "cell_type": "code",
   "execution_count": null,
   "metadata": {},
   "outputs": [],
   "source": [
    "# Add code here"
   ]
  },
  {
   "cell_type": "markdown",
   "metadata": {},
   "source": [
    "- `%matplotlib inline` is the most common magic in this course.  No need to try it here"
   ]
  },
  {
   "cell_type": "markdown",
   "metadata": {},
   "source": [
    "## Python shortcuts\n",
    "\n",
    "One last notable that will help you in the course is the use of the `Tab` key to auto-complete something. This doesn't always work, but when it does it's neat. Say you just imported `pandas` and want to read a CSV file. "
   ]
  },
  {
   "cell_type": "code",
   "execution_count": null,
   "metadata": {},
   "outputs": [],
   "source": [
    "import pandas as pd"
   ]
  },
  {
   "cell_type": "markdown",
   "metadata": {},
   "source": [
    "You know it's probably `pd.read` but you don't remember the exact function name. Type `pd.re` and then press `Tab` and you should see a drop-down list of available functions."
   ]
  },
  {
   "cell_type": "code",
   "execution_count": null,
   "metadata": {},
   "outputs": [],
   "source": [
    "pd.re"
   ]
  },
  {
   "cell_type": "markdown",
   "metadata": {},
   "source": [
    "Once you found the right function, now you might be wondering what the name of the arguments are. Then type `pd.read_csv()` and with **your cursor in between the two parentheses** now press `SHIFT+Tab+Tab`. A little documentation page should pop."
   ]
  },
  {
   "cell_type": "code",
   "execution_count": null,
   "metadata": {},
   "outputs": [],
   "source": [
    "pd.read_csv()"
   ]
  },
  {
   "cell_type": "markdown",
   "metadata": {},
   "source": [
    "Take some time to familiarize yourself with the Jupyter menu:\n",
    "\n",
    "- Learn how to copy, cut or paste cells.\n",
    "- Learn how to move cells up and down.\n",
    "- Learn how to change a cell from a code cell to a Markdown cell and back."
   ]
  },
  {
   "cell_type": "markdown",
   "metadata": {},
   "source": [
    "# Assignment\n",
    "\n",
    "For this assignment, we assume that you are already familiar with the basics of Python. One of the Python libraries data scientists often use is `numpy`, which is a library that facilitates array computations, such as matrix algebra. What this means is that using numpy, we can manipulate vectors, matrices or any n-dimensional array mostly without the need to write loops, so the code is cleaner and more succinct. In this exercise, we want to learn the basics of `numpy` and `pandas`.\n",
    "\n",
    "1. Create a Python list whose elements are the numbers 3, 7, 1, 3, 5. <span style=\"color:red\" float:right>[1 point]</span>"
   ]
  },
  {
   "cell_type": "code",
   "execution_count": null,
   "metadata": {},
   "outputs": [],
   "source": []
  },
  {
   "cell_type": "markdown",
   "metadata": {},
   "source": [
    "2.  Write a function that computes the average of a list of numbers. Run your function on the above list so that it returns its average. Your function should only make use of Python **built-ins** (no libraries). <span style=\"color:red\" float:right>[2 point]</span>"
   ]
  },
  {
   "cell_type": "code",
   "execution_count": null,
   "metadata": {},
   "outputs": [],
   "source": []
  },
  {
   "cell_type": "markdown",
   "metadata": {},
   "source": [
    "3. Use the `%%timeit` magic to compute the average runtime of your function. Use the `-n 100` switch to choose to re-run the function 100 times (the more often you re-run it, the more accurate the average runtime is). <span style=\"color:red\" float:right>[1 point]</span>"
   ]
  },
  {
   "cell_type": "code",
   "execution_count": null,
   "metadata": {},
   "outputs": [],
   "source": []
  },
  {
   "cell_type": "markdown",
   "metadata": {},
   "source": [
    "4. Load the `numpy` library and use it to turn the above list into a `numpy` 1-D array. HINT: Use `numpy.array`. <span style=\"color:red\" float:right>[1 point]</span>"
   ]
  },
  {
   "cell_type": "code",
   "execution_count": null,
   "metadata": {},
   "outputs": [],
   "source": []
  },
  {
   "cell_type": "markdown",
   "metadata": {},
   "source": [
    "Because getting the average of an array is a common operation, with `numpy` we don't have to \"re-invent the wheel\": we can just call the `mean` function. There are two ways of doing this: (1) you can call the `numpy.mean` function and pass it the array, or (2) you can call the `mean` method of the array. \n",
    "\n",
    "5. Print the average of the above array. Get the average using `numpy` in **both** of the ways described above. <span style=\"color:red\" float:right>[2 point]</span>"
   ]
  },
  {
   "cell_type": "code",
   "execution_count": null,
   "metadata": {},
   "outputs": [],
   "source": []
  },
  {
   "cell_type": "markdown",
   "metadata": {},
   "source": [
    "6. Compare the runtime of the average computation using `numpy` with the runtime of the function you wrote eariler. <span style=\"color:red\" float:right>[1 point]</span>"
   ]
  },
  {
   "cell_type": "code",
   "execution_count": null,
   "metadata": {},
   "outputs": [],
   "source": []
  },
  {
   "cell_type": "markdown",
   "metadata": {},
   "source": [
    "Of course, most data scientists don't write their own machine learning algorithms. Instead we use existing algorithms and apply them to real-world problems. So `numpy` is to some extent too \"low level\" and we need a higher level library like `pandas` to work with data. So what do `numpy` and `pandas` have in common? First let's see what a 1-D array looks like in `pandas`:\n",
    "\n",
    "7. Load the `pandas` library and use `pandas.Series` to create a pandas `Series` object, which is the equivalent of a `numpy` 1-D array. <span style=\"color:red\" float:right>[1 point]</span>"
   ]
  },
  {
   "cell_type": "code",
   "execution_count": null,
   "metadata": {},
   "outputs": [],
   "source": []
  },
  {
   "cell_type": "markdown",
   "metadata": {},
   "source": [
    "8. Pass the `Series` to the `numpy.mean` function to confirm it returns its average. <span style=\"color:red\" float:right>[1 point]</span>"
   ]
  },
  {
   "cell_type": "code",
   "execution_count": null,
   "metadata": {},
   "outputs": [],
   "source": []
  },
  {
   "cell_type": "markdown",
   "metadata": {},
   "source": [
    "9. Call the `mean` method of the `Series` and confirm it returns its average. <span style=\"color:red\" float:right>[1 point]</span>"
   ]
  },
  {
   "cell_type": "code",
   "execution_count": null,
   "metadata": {},
   "outputs": [],
   "source": []
  },
  {
   "cell_type": "markdown",
   "metadata": {},
   "source": [
    "So you can think of a `Series` in `pandas` almost as the same thing as a 1-D array in `numpy`. In fact calling the `values` attribute of the `Series` returns it as a numpy array.\n",
    "\n",
    "10. Show that by calling the `values` attribute of a `Series` object, you get a `numpy` array. HINT: You can use the `type` built-in to check its type. <span style=\"color:red\" float:right>[1 point]</span>"
   ]
  },
  {
   "cell_type": "code",
   "execution_count": null,
   "metadata": {},
   "outputs": [],
   "source": []
  },
  {
   "cell_type": "markdown",
   "metadata": {},
   "source": [
    "# End of assignment"
   ]
  }
 ],
 "metadata": {
  "kernelspec": {
   "display_name": "Python 3 (ipykernel)",
   "language": "python",
   "name": "python3"
  },
  "language_info": {
   "codemirror_mode": {
    "name": "ipython",
    "version": 3
   },
   "file_extension": ".py",
   "mimetype": "text/x-python",
   "name": "python",
   "nbconvert_exporter": "python",
   "pygments_lexer": "ipython3",
   "version": "3.9.7"
  }
 },
 "nbformat": 4,
 "nbformat_minor": 4
}
