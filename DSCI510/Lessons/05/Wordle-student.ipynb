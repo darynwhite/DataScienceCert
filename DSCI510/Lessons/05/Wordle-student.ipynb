{
 "cells": [
  {
   "cell_type": "markdown",
   "id": "946072d8-dad7-458a-b2c0-9640a410aa9b",
   "metadata": {},
   "source": [
    "## Wordle champion\n",
    "\n",
    "We have two Wordle players, with results shown below.\n",
    "\n",
    "Which player has a better record? Who is a better player?"
   ]
  },
  {
   "cell_type": "code",
   "execution_count": null,
   "id": "c8bf549b-cb29-4360-b173-7acb0920d392",
   "metadata": {},
   "outputs": [],
   "source": [
    "import scipy.stats as stats\n",
    "import numpy as np\n",
    "import matplotlib.pyplot as plt\n",
    "import pandas as pd\n",
    "import seaborn as sns\n",
    "import random"
   ]
  },
  {
   "cell_type": "code",
   "execution_count": null,
   "id": "03a818c0-9519-4550-a482-d89b1f81ecce",
   "metadata": {},
   "outputs": [],
   "source": [
    "Wordle = pd.DataFrame(\n",
    "    {'n': [1, 2, 3, 4, 5, 6],\n",
    "     'A': [1, 35, 181, 342, 210, 80],\n",
    "     'B': [0, 8, 71, 389, 111, 72]})"
   ]
  },
  {
   "cell_type": "code",
   "execution_count": null,
   "id": "111c85f0-c2fc-42d6-9c57-fbe3eea88bac",
   "metadata": {},
   "outputs": [],
   "source": [
    "Wordle"
   ]
  },
  {
   "cell_type": "code",
   "execution_count": null,
   "id": "22a503df",
   "metadata": {},
   "outputs": [],
   "source": [
    "Wordle.loc[:,'A':'B'].plot.bar()"
   ]
  },
  {
   "cell_type": "code",
   "execution_count": null,
   "id": "906f2344",
   "metadata": {},
   "outputs": [],
   "source": [
    "Wordle.describe()"
   ]
  },
  {
   "cell_type": "code",
   "execution_count": null,
   "id": "9198e612-2b3c-4ad0-8403-6205d79e0ff6",
   "metadata": {},
   "outputs": [],
   "source": [
    "# Create the vectors A and B\n",
    "A = np.repeat(Wordle['n'], Wordle['A'])\n",
    "B = np.repeat(Wordle['n'], Wordle['B'])\n",
    "print(A.shape[0], B.shape[0])"
   ]
  },
  {
   "cell_type": "code",
   "execution_count": null,
   "id": "1079f7e6",
   "metadata": {},
   "outputs": [],
   "source": [
    "A.describe(),B.describe()"
   ]
  },
  {
   "cell_type": "code",
   "execution_count": null,
   "id": "92b53ef9-9785-4b39-a9b6-ea0ce269028f",
   "metadata": {},
   "outputs": [],
   "source": [
    "print(\"The mean of A, B = {:.3f}\".format(A.mean()), \", {:.3f}\".format(B.mean()))\n",
    "print(\"The median of A, B = {:.3f}\".format(A.median()), \", {:.3f}\".format(B.median()))\n",
    "print(\"The s.d. of A, B = {:.3f}\".format(A.std()), \", {:.3f}\".format(B.std()))"
   ]
  },
  {
   "cell_type": "code",
   "execution_count": null,
   "id": "63e82c19",
   "metadata": {},
   "outputs": [],
   "source": [
    "list(range(7))"
   ]
  },
  {
   "cell_type": "code",
   "execution_count": null,
   "id": "dfba16a3",
   "metadata": {},
   "outputs": [],
   "source": [
    "sns.histplot(A,binrange=[1,6])"
   ]
  },
  {
   "cell_type": "code",
   "execution_count": null,
   "id": "8bb1b020",
   "metadata": {},
   "outputs": [],
   "source": [
    "sns.histplot(B,binrange=[1,6])"
   ]
  },
  {
   "cell_type": "code",
   "execution_count": null,
   "id": "e1b7dd91",
   "metadata": {},
   "outputs": [],
   "source": [
    "from scipy.stats import ks_2samp"
   ]
  }
 ],
 "metadata": {
  "kernelspec": {
   "display_name": "work",
   "language": "python",
   "name": "python3"
  },
  "language_info": {
   "codemirror_mode": {
    "name": "ipython",
    "version": 3
   },
   "file_extension": ".py",
   "mimetype": "text/x-python",
   "name": "python",
   "nbconvert_exporter": "python",
   "pygments_lexer": "ipython3",
   "version": "3.12.7"
  }
 },
 "nbformat": 4,
 "nbformat_minor": 5
}
