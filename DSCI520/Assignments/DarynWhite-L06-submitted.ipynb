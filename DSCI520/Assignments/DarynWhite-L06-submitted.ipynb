{
 "cells": [
  {
   "cell_type": "markdown",
   "metadata": {},
   "source": [
    "# Assignment\n",
    "\n",
    "In this assignment, we want to reinforce the concepts we covered in the lecture. Let's first load the required libraries."
   ]
  },
  {
   "cell_type": "code",
   "execution_count": 1,
   "metadata": {},
   "outputs": [],
   "source": [
    "import numpy as np\n",
    "import pandas as pd\n",
    "import seaborn as sns\n",
    "sns.set(rc = {'figure.figsize': (10, 8)})\n",
    "import matplotlib.pyplot as plt\n",
    "import plotly.express as pxp\n",
    "import plotly.figure_factory as pff\n",
    "import plotly.colors as plco\n",
    "\n",
    "import scipy\n",
    "import scipy.stats as ss\n",
    "import statsmodels.api as sm\n",
    "from statsmodels.stats.multicomp import pairwise_tukeyhsd\n",
    "from statsmodels.formula.api import ols\n",
    "\n",
    "\n",
    "def _normalize_series(srs:pd.Series):\n",
    "    mean = srs.mean()\n",
    "    stdd = srs.std()\n",
    "    return ((srs - mean) / stdd)"
   ]
  },
  {
   "cell_type": "markdown",
   "metadata": {},
   "source": [
    "We will be using the automobile mileage data for this assignment."
   ]
  },
  {
   "cell_type": "code",
   "execution_count": 2,
   "metadata": {},
   "outputs": [
    {
     "data": {
      "text/html": [
       "<div>\n",
       "<style scoped>\n",
       "    .dataframe tbody tr th:only-of-type {\n",
       "        vertical-align: middle;\n",
       "    }\n",
       "\n",
       "    .dataframe tbody tr th {\n",
       "        vertical-align: top;\n",
       "    }\n",
       "\n",
       "    .dataframe thead th {\n",
       "        text-align: right;\n",
       "    }\n",
       "</style>\n",
       "<table border=\"1\" class=\"dataframe\">\n",
       "  <thead>\n",
       "    <tr style=\"text-align: right;\">\n",
       "      <th></th>\n",
       "      <th>make</th>\n",
       "      <th>short_model_name</th>\n",
       "      <th>overall_length_cm</th>\n",
       "      <th>overall_width_cm</th>\n",
       "      <th>overall_height_cm</th>\n",
       "      <th>wheelbase_cm</th>\n",
       "      <th>curb_weight_kg</th>\n",
       "      <th>weight_distribution_pct_front</th>\n",
       "      <th>vehicle_class</th>\n",
       "      <th>engine_size_l</th>\n",
       "      <th>cylinders</th>\n",
       "      <th>transmission</th>\n",
       "      <th>fuel</th>\n",
       "      <th>fuel_consumption_mpg</th>\n",
       "      <th>smog</th>\n",
       "      <th>full_model_name</th>\n",
       "      <th>gears</th>\n",
       "    </tr>\n",
       "  </thead>\n",
       "  <tbody>\n",
       "    <tr>\n",
       "      <th>0</th>\n",
       "      <td>acura</td>\n",
       "      <td>ilx</td>\n",
       "      <td>462.0</td>\n",
       "      <td>180.0</td>\n",
       "      <td>141.0</td>\n",
       "      <td>267.0</td>\n",
       "      <td>1415.0</td>\n",
       "      <td>60.0</td>\n",
       "      <td>Compact</td>\n",
       "      <td>2.4</td>\n",
       "      <td>4</td>\n",
       "      <td>automated_manual</td>\n",
       "      <td>premium_gas</td>\n",
       "      <td>33</td>\n",
       "      <td>3</td>\n",
       "      <td>ILX 4DR SEDAN</td>\n",
       "      <td>8</td>\n",
       "    </tr>\n",
       "    <tr>\n",
       "      <th>1</th>\n",
       "      <td>acura</td>\n",
       "      <td>mdx</td>\n",
       "      <td>504.0</td>\n",
       "      <td>200.0</td>\n",
       "      <td>170.0</td>\n",
       "      <td>289.0</td>\n",
       "      <td>2044.0</td>\n",
       "      <td>60.0</td>\n",
       "      <td>SUV: Small</td>\n",
       "      <td>3.5</td>\n",
       "      <td>6</td>\n",
       "      <td>automatic_select_shift</td>\n",
       "      <td>premium_gas</td>\n",
       "      <td>25</td>\n",
       "      <td>5</td>\n",
       "      <td>MDX 4DR SUV AWD</td>\n",
       "      <td>10</td>\n",
       "    </tr>\n",
       "    <tr>\n",
       "      <th>2</th>\n",
       "      <td>acura</td>\n",
       "      <td>rdx</td>\n",
       "      <td>474.0</td>\n",
       "      <td>190.0</td>\n",
       "      <td>167.0</td>\n",
       "      <td>275.0</td>\n",
       "      <td>1830.0</td>\n",
       "      <td>57.0</td>\n",
       "      <td>SUV: Small</td>\n",
       "      <td>2.0</td>\n",
       "      <td>4</td>\n",
       "      <td>automatic_select_shift</td>\n",
       "      <td>premium_gas</td>\n",
       "      <td>29</td>\n",
       "      <td>6</td>\n",
       "      <td>RDX 4DR SUV</td>\n",
       "      <td>10</td>\n",
       "    </tr>\n",
       "    <tr>\n",
       "      <th>3</th>\n",
       "      <td>acura</td>\n",
       "      <td>tlx</td>\n",
       "      <td>494.0</td>\n",
       "      <td>191.0</td>\n",
       "      <td>143.0</td>\n",
       "      <td>287.0</td>\n",
       "      <td>1781.0</td>\n",
       "      <td>57.0</td>\n",
       "      <td>Compact</td>\n",
       "      <td>2.0</td>\n",
       "      <td>4</td>\n",
       "      <td>automatic_select_shift</td>\n",
       "      <td>premium_gas</td>\n",
       "      <td>29</td>\n",
       "      <td>7</td>\n",
       "      <td>TLX 4DR SEDAN AWD</td>\n",
       "      <td>10</td>\n",
       "    </tr>\n",
       "    <tr>\n",
       "      <th>4</th>\n",
       "      <td>alfa romeo</td>\n",
       "      <td>stelvio</td>\n",
       "      <td>469.0</td>\n",
       "      <td>190.0</td>\n",
       "      <td>165.0</td>\n",
       "      <td>282.0</td>\n",
       "      <td>1660.0</td>\n",
       "      <td>52.0</td>\n",
       "      <td>SUV: Small</td>\n",
       "      <td>2.0</td>\n",
       "      <td>4</td>\n",
       "      <td>automatic</td>\n",
       "      <td>premium_gas</td>\n",
       "      <td>30</td>\n",
       "      <td>3</td>\n",
       "      <td>STELVIO BASE/Ti</td>\n",
       "      <td>8</td>\n",
       "    </tr>\n",
       "    <tr>\n",
       "      <th>...</th>\n",
       "      <td>...</td>\n",
       "      <td>...</td>\n",
       "      <td>...</td>\n",
       "      <td>...</td>\n",
       "      <td>...</td>\n",
       "      <td>...</td>\n",
       "      <td>...</td>\n",
       "      <td>...</td>\n",
       "      <td>...</td>\n",
       "      <td>...</td>\n",
       "      <td>...</td>\n",
       "      <td>...</td>\n",
       "      <td>...</td>\n",
       "      <td>...</td>\n",
       "      <td>...</td>\n",
       "      <td>...</td>\n",
       "      <td>...</td>\n",
       "    </tr>\n",
       "    <tr>\n",
       "      <th>205</th>\n",
       "      <td>volvo</td>\n",
       "      <td>v60</td>\n",
       "      <td>478.0</td>\n",
       "      <td>185.0</td>\n",
       "      <td>150.0</td>\n",
       "      <td>287.0</td>\n",
       "      <td>1820.0</td>\n",
       "      <td>56.0</td>\n",
       "      <td>Station wagon: Small</td>\n",
       "      <td>2.0</td>\n",
       "      <td>4</td>\n",
       "      <td>automatic_select_shift</td>\n",
       "      <td>premium_gas</td>\n",
       "      <td>29</td>\n",
       "      <td>7</td>\n",
       "      <td>V60 CROSS COUNTRY 4DR WAGON</td>\n",
       "      <td>8</td>\n",
       "    </tr>\n",
       "    <tr>\n",
       "      <th>206</th>\n",
       "      <td>volvo</td>\n",
       "      <td>v90</td>\n",
       "      <td>494.0</td>\n",
       "      <td>189.0</td>\n",
       "      <td>144.0</td>\n",
       "      <td>294.0</td>\n",
       "      <td>1880.0</td>\n",
       "      <td>54.0</td>\n",
       "      <td>Station wagon: Mid-size</td>\n",
       "      <td>2.0</td>\n",
       "      <td>4</td>\n",
       "      <td>automatic_select_shift</td>\n",
       "      <td>premium_gas</td>\n",
       "      <td>30</td>\n",
       "      <td>7</td>\n",
       "      <td>V90 4DR WAGON</td>\n",
       "      <td>8</td>\n",
       "    </tr>\n",
       "    <tr>\n",
       "      <th>207</th>\n",
       "      <td>volvo</td>\n",
       "      <td>xc40</td>\n",
       "      <td>443.0</td>\n",
       "      <td>186.0</td>\n",
       "      <td>165.0</td>\n",
       "      <td>270.0</td>\n",
       "      <td>1688.0</td>\n",
       "      <td>59.0</td>\n",
       "      <td>SUV: Small</td>\n",
       "      <td>2.0</td>\n",
       "      <td>4</td>\n",
       "      <td>automatic_select_shift</td>\n",
       "      <td>regular_gas</td>\n",
       "      <td>30</td>\n",
       "      <td>5</td>\n",
       "      <td>XC40 4DR SUV</td>\n",
       "      <td>8</td>\n",
       "    </tr>\n",
       "    <tr>\n",
       "      <th>208</th>\n",
       "      <td>volvo</td>\n",
       "      <td>xc60</td>\n",
       "      <td>469.0</td>\n",
       "      <td>190.0</td>\n",
       "      <td>166.0</td>\n",
       "      <td>287.0</td>\n",
       "      <td>1869.0</td>\n",
       "      <td>55.0</td>\n",
       "      <td>SUV: Small</td>\n",
       "      <td>2.0</td>\n",
       "      <td>4</td>\n",
       "      <td>automatic_select_shift</td>\n",
       "      <td>premium_gas</td>\n",
       "      <td>30</td>\n",
       "      <td>5</td>\n",
       "      <td>XC60 4DR SUV</td>\n",
       "      <td>8</td>\n",
       "    </tr>\n",
       "    <tr>\n",
       "      <th>209</th>\n",
       "      <td>volvo</td>\n",
       "      <td>xc90</td>\n",
       "      <td>495.0</td>\n",
       "      <td>201.0</td>\n",
       "      <td>178.0</td>\n",
       "      <td>298.0</td>\n",
       "      <td>2052.0</td>\n",
       "      <td>53.0</td>\n",
       "      <td>SUV: Standard</td>\n",
       "      <td>2.0</td>\n",
       "      <td>4</td>\n",
       "      <td>automatic_select_shift</td>\n",
       "      <td>premium_gas</td>\n",
       "      <td>28</td>\n",
       "      <td>5</td>\n",
       "      <td>XC90 4DR SUV AWD T5 / T6</td>\n",
       "      <td>8</td>\n",
       "    </tr>\n",
       "  </tbody>\n",
       "</table>\n",
       "<p>210 rows × 17 columns</p>\n",
       "</div>"
      ],
      "text/plain": [
       "           make short_model_name  overall_length_cm  overall_width_cm  \\\n",
       "0         acura              ilx              462.0             180.0   \n",
       "1         acura              mdx              504.0             200.0   \n",
       "2         acura              rdx              474.0             190.0   \n",
       "3         acura              tlx              494.0             191.0   \n",
       "4    alfa romeo          stelvio              469.0             190.0   \n",
       "..          ...              ...                ...               ...   \n",
       "205       volvo              v60              478.0             185.0   \n",
       "206       volvo              v90              494.0             189.0   \n",
       "207       volvo             xc40              443.0             186.0   \n",
       "208       volvo             xc60              469.0             190.0   \n",
       "209       volvo             xc90              495.0             201.0   \n",
       "\n",
       "     overall_height_cm  wheelbase_cm  curb_weight_kg  \\\n",
       "0                141.0         267.0          1415.0   \n",
       "1                170.0         289.0          2044.0   \n",
       "2                167.0         275.0          1830.0   \n",
       "3                143.0         287.0          1781.0   \n",
       "4                165.0         282.0          1660.0   \n",
       "..                 ...           ...             ...   \n",
       "205              150.0         287.0          1820.0   \n",
       "206              144.0         294.0          1880.0   \n",
       "207              165.0         270.0          1688.0   \n",
       "208              166.0         287.0          1869.0   \n",
       "209              178.0         298.0          2052.0   \n",
       "\n",
       "     weight_distribution_pct_front            vehicle_class  engine_size_l  \\\n",
       "0                             60.0                  Compact            2.4   \n",
       "1                             60.0               SUV: Small            3.5   \n",
       "2                             57.0               SUV: Small            2.0   \n",
       "3                             57.0                  Compact            2.0   \n",
       "4                             52.0               SUV: Small            2.0   \n",
       "..                             ...                      ...            ...   \n",
       "205                           56.0     Station wagon: Small            2.0   \n",
       "206                           54.0  Station wagon: Mid-size            2.0   \n",
       "207                           59.0               SUV: Small            2.0   \n",
       "208                           55.0               SUV: Small            2.0   \n",
       "209                           53.0            SUV: Standard            2.0   \n",
       "\n",
       "     cylinders            transmission         fuel  fuel_consumption_mpg  \\\n",
       "0            4        automated_manual  premium_gas                    33   \n",
       "1            6  automatic_select_shift  premium_gas                    25   \n",
       "2            4  automatic_select_shift  premium_gas                    29   \n",
       "3            4  automatic_select_shift  premium_gas                    29   \n",
       "4            4               automatic  premium_gas                    30   \n",
       "..         ...                     ...          ...                   ...   \n",
       "205          4  automatic_select_shift  premium_gas                    29   \n",
       "206          4  automatic_select_shift  premium_gas                    30   \n",
       "207          4  automatic_select_shift  regular_gas                    30   \n",
       "208          4  automatic_select_shift  premium_gas                    30   \n",
       "209          4  automatic_select_shift  premium_gas                    28   \n",
       "\n",
       "     smog              full_model_name  gears  \n",
       "0       3                ILX 4DR SEDAN      8  \n",
       "1       5              MDX 4DR SUV AWD     10  \n",
       "2       6                  RDX 4DR SUV     10  \n",
       "3       7            TLX 4DR SEDAN AWD     10  \n",
       "4       3              STELVIO BASE/Ti      8  \n",
       "..    ...                          ...    ...  \n",
       "205     7  V60 CROSS COUNTRY 4DR WAGON      8  \n",
       "206     7                V90 4DR WAGON      8  \n",
       "207     5                 XC40 4DR SUV      8  \n",
       "208     5                 XC60 4DR SUV      8  \n",
       "209     5     XC90 4DR SUV AWD T5 / T6      8  \n",
       "\n",
       "[210 rows x 17 columns]"
      ]
     },
     "execution_count": 2,
     "metadata": {},
     "output_type": "execute_result"
    }
   ],
   "source": [
    "def read_auto_data(file = \"../../data/canadian_cars_2022.csv\"):\n",
    "    'Function to load the auto data set from a .csv file' \n",
    "\n",
    "    ## Read the .csv file with the pandas read_csv method\n",
    "    df = pd.read_csv(file)\n",
    "    \n",
    "    ## Split the number of gears from the type of transmission, decode fuel\n",
    "    df['gears'] = df['transmission'].str.extract(r'([0-9]+)').astype('Int64')\n",
    "    df['gears'] = df['gears'].fillna(1) # \"gearless\" continuously_variable vehicles\n",
    "    df.replace({'fuel':{'X': 'regular_gas', \n",
    "                             'Z': 'premium_gas', \n",
    "                             'D': 'diesel'}}, inplace = True)\n",
    "    df['transmission'] = df['transmission'].str.extract(r'([A-Z]+)')\n",
    "    df.replace({'transmission':{'A': 'automatic', \n",
    "                             'AM': 'automated_manual', \n",
    "                             'AS': 'automatic_select_shift', \n",
    "                             'AV': 'continuously_variable', \n",
    "                             'M': 'manual'}}, inplace = True)\n",
    "    \n",
    "    ## Remove rows with missing values\n",
    "    df = df.dropna(axis = 0).reset_index(drop= True)\n",
    "    return df\n",
    "\n",
    "\n",
    "auto_df = read_auto_data()\n",
    "auto_df"
   ]
  },
  {
   "cell_type": "markdown",
   "metadata": {},
   "source": [
    "Run the following tests on the data:\n",
    "\n",
    "1. Test whether `fuel_consumption_mpg` and log `fuel_consumption_mpg` (using `np.log10`) follow a normal distribution. Use both a **graphical** method and a **formal** test. For the rest of this exercise, choose between using mpg or log mpg based on which of the two best fits a normal distribution. <span style=\"color:red\" float:right>[5 point]</span>"
   ]
  },
  {
   "cell_type": "code",
   "execution_count": 3,
   "metadata": {},
   "outputs": [],
   "source": [
    "auto_df['fuel_consumption_mpg_log'] = np.log10(auto_df['fuel_consumption_mpg'])"
   ]
  },
  {
   "cell_type": "markdown",
   "metadata": {},
   "source": [
    "> Our hypothesis test is:\n",
    ">\n",
    "> $H_0$ : The sample follows from a normal distribution\n",
    ">\n",
    "> $H_A$ : The sample does not follow a normal distribution"
   ]
  },
  {
   "cell_type": "code",
   "execution_count": 4,
   "metadata": {},
   "outputs": [
    {
     "name": "stdout",
     "output_type": "stream",
     "text": [
      "Using Normal Test\n",
      "The data alone have a statistic of 91.20255299411163 and a p-value of 1.568979429092282e-20\n",
      "The log data have a statistic of 13.918297130734956 and a p-value of 0.0009499050123511804\n",
      "Using KS Test\n",
      "The data alone have a statistic of 0.12538539944094895 and a p-value of 0.0024539507555044883\n",
      "The log data have a statistic of 0.08434605473388357 and a p-value of 0.09509919746888151\n"
     ]
    }
   ],
   "source": [
    "log_test = ss.normaltest(auto_df['fuel_consumption_mpg_log'])\n",
    "raw_test = ss.normaltest(auto_df['fuel_consumption_mpg'])\n",
    "print(f\"Using Normal Test\\nThe data alone have a statistic of {raw_test.statistic} and a p-value of {raw_test.pvalue}\\nThe log data have a statistic of {log_test.statistic} and a p-value of {log_test.pvalue}\")\n",
    "\n",
    "raw_test = ss.kstest(_normalize_series(auto_df['fuel_consumption_mpg']),'norm')\n",
    "log_test = ss.kstest(_normalize_series(auto_df['fuel_consumption_mpg_log']),'norm')\n",
    "print(f\"Using KS Test\\nThe data alone have a statistic of {raw_test.statistic} and a p-value of {raw_test.pvalue}\\nThe log data have a statistic of {log_test.statistic} and a p-value of {log_test.pvalue}\")"
   ]
  },
  {
   "cell_type": "code",
   "execution_count": 5,
   "metadata": {},
   "outputs": [
    {
     "data": {
      "application/vnd.plotly.v1+json": {
       "config": {
        "plotlyServerURL": "https://plot.ly"
       },
       "data": [
        {
         "autobinx": false,
         "histnorm": "probability density",
         "legendgroup": "fuel_consumption_mpg",
         "marker": {
          "color": "rgb(31, 119, 180)",
          "line": {
           "color": "black",
           "width": 0.25
          }
         },
         "name": "fuel_consumption_mpg",
         "opacity": 0.7,
         "type": "histogram",
         "x": {
          "bdata": "IRkdHR4ZFBMZIh8gHR8eGhgUHRwZHh8VFRQUHyAdHRsbGSEZISAgIBsfHRweHhoWIiYoHB0kGSEbGxsbGxkfGBwkFhsaHR4aHhweFhseGhghHCcoJSQbGRoZJUMmGRslIhsmGhodHhoTGxcfHh0aIBQbGyQgPSolHSQfGBkNEhEXGRgeFhkaGicYHRoVGBUXJR4bJSQhIR0fHhsaHR4uICAkEhknHRsbIycoKhwYFxoYERseJCImIB8UIiYoIh0bPyQRKxguGyoiJR4jHx0eHh4c",
          "dtype": "i1"
         },
         "xaxis": "x",
         "xbins": {
          "end": 67,
          "size": 1,
          "start": 13
         },
         "yaxis": "y"
        },
        {
         "legendgroup": "fuel_consumption_mpg",
         "marker": {
          "color": "rgb(31, 119, 180)",
          "line": {
           "color": "black",
           "width": 0.25
          }
         },
         "mode": "lines",
         "name": "fuel_consumption_mpg",
         "showlegend": false,
         "type": "scatter",
         "x": [
          13,
          13.108,
          13.216,
          13.324,
          13.432,
          13.54,
          13.648,
          13.756,
          13.864,
          13.972,
          14.08,
          14.188,
          14.296,
          14.404,
          14.512,
          14.620000000000001,
          14.728,
          14.836,
          14.943999999999999,
          15.052,
          15.16,
          15.268,
          15.376,
          15.484,
          15.592,
          15.7,
          15.808,
          15.916,
          16.024,
          16.132,
          16.240000000000002,
          16.348,
          16.456,
          16.564,
          16.672,
          16.78,
          16.887999999999998,
          16.996,
          17.104,
          17.212,
          17.32,
          17.428,
          17.536,
          17.644,
          17.752,
          17.86,
          17.968,
          18.076,
          18.184,
          18.292,
          18.4,
          18.508,
          18.616,
          18.724,
          18.832,
          18.94,
          19.048000000000002,
          19.156,
          19.264,
          19.372,
          19.48,
          19.588,
          19.695999999999998,
          19.804000000000002,
          19.912,
          20.02,
          20.128,
          20.236,
          20.344,
          20.451999999999998,
          20.56,
          20.668,
          20.776,
          20.884,
          20.992,
          21.1,
          21.208,
          21.316000000000003,
          21.424,
          21.532,
          21.64,
          21.747999999999998,
          21.856,
          21.964,
          22.072,
          22.18,
          22.288,
          22.396,
          22.503999999999998,
          22.612000000000002,
          22.72,
          22.828,
          22.936,
          23.044,
          23.152,
          23.259999999999998,
          23.368000000000002,
          23.476,
          23.584,
          23.692,
          23.8,
          23.908,
          24.016,
          24.124000000000002,
          24.232,
          24.34,
          24.448,
          24.555999999999997,
          24.664,
          24.772,
          24.880000000000003,
          24.988,
          25.096,
          25.204,
          25.311999999999998,
          25.42,
          25.528,
          25.636,
          25.744,
          25.852,
          25.96,
          26.067999999999998,
          26.176000000000002,
          26.284,
          26.392,
          26.5,
          26.608,
          26.716,
          26.823999999999998,
          26.932000000000002,
          27.04,
          27.148,
          27.256,
          27.364,
          27.472,
          27.58,
          27.688000000000002,
          27.796,
          27.904,
          28.012,
          28.119999999999997,
          28.228,
          28.336,
          28.444000000000003,
          28.552,
          28.66,
          28.768,
          28.875999999999998,
          28.984,
          29.092,
          29.2,
          29.308,
          29.416,
          29.524,
          29.632,
          29.74,
          29.848,
          29.956,
          30.064,
          30.172,
          30.28,
          30.388,
          30.496,
          30.604,
          30.712,
          30.82,
          30.928,
          31.036,
          31.144,
          31.252,
          31.36,
          31.468,
          31.576,
          31.684,
          31.792,
          31.9,
          32.007999999999996,
          32.116,
          32.224000000000004,
          32.332,
          32.44,
          32.548,
          32.656,
          32.763999999999996,
          32.872,
          32.980000000000004,
          33.088,
          33.196,
          33.304,
          33.412,
          33.519999999999996,
          33.628,
          33.736000000000004,
          33.844,
          33.952,
          34.06,
          34.168,
          34.275999999999996,
          34.384,
          34.492000000000004,
          34.6,
          34.708,
          34.816,
          34.924,
          35.032,
          35.14,
          35.248000000000005,
          35.356,
          35.464,
          35.572,
          35.68,
          35.788,
          35.896,
          36.004000000000005,
          36.111999999999995,
          36.22,
          36.328,
          36.436,
          36.544,
          36.652,
          36.760000000000005,
          36.867999999999995,
          36.976,
          37.084,
          37.192,
          37.3,
          37.408,
          37.516,
          37.623999999999995,
          37.732,
          37.84,
          37.948,
          38.056,
          38.164,
          38.272,
          38.379999999999995,
          38.488,
          38.596000000000004,
          38.704,
          38.812,
          38.92,
          39.028,
          39.135999999999996,
          39.244,
          39.352000000000004,
          39.46,
          39.568,
          39.676,
          39.784,
          39.891999999999996,
          40,
          40.108000000000004,
          40.216,
          40.324,
          40.432,
          40.54,
          40.647999999999996,
          40.756,
          40.864000000000004,
          40.972,
          41.08,
          41.188,
          41.296,
          41.403999999999996,
          41.512,
          41.620000000000005,
          41.728,
          41.836,
          41.944,
          42.052,
          42.16,
          42.268,
          42.376000000000005,
          42.484,
          42.592,
          42.7,
          42.808,
          42.916,
          43.024,
          43.132000000000005,
          43.239999999999995,
          43.348,
          43.456,
          43.564,
          43.672,
          43.78,
          43.888000000000005,
          43.995999999999995,
          44.104,
          44.212,
          44.32,
          44.428,
          44.536,
          44.644,
          44.751999999999995,
          44.86,
          44.968,
          45.076,
          45.184,
          45.292,
          45.4,
          45.508,
          45.616,
          45.724,
          45.832,
          45.94,
          46.048,
          46.156,
          46.264,
          46.372,
          46.48,
          46.588,
          46.696,
          46.804,
          46.912,
          47.02,
          47.128,
          47.236,
          47.344,
          47.452,
          47.56,
          47.668,
          47.776,
          47.884,
          47.992,
          48.1,
          48.208,
          48.316,
          48.424,
          48.532,
          48.64,
          48.748,
          48.856,
          48.964,
          49.072,
          49.18,
          49.288,
          49.396,
          49.504,
          49.612,
          49.72,
          49.828,
          49.936,
          50.044,
          50.152,
          50.26,
          50.368,
          50.476,
          50.584,
          50.692,
          50.8,
          50.908,
          51.016,
          51.124,
          51.232,
          51.34,
          51.448,
          51.556,
          51.664,
          51.772,
          51.88,
          51.988,
          52.096,
          52.204,
          52.312,
          52.42,
          52.528,
          52.636,
          52.744,
          52.852,
          52.96,
          53.068,
          53.176,
          53.284,
          53.392,
          53.5,
          53.608,
          53.716,
          53.824,
          53.932,
          54.04,
          54.148,
          54.256,
          54.364,
          54.472,
          54.58,
          54.688,
          54.796,
          54.904,
          55.012,
          55.12,
          55.228,
          55.336,
          55.444,
          55.552,
          55.66,
          55.768,
          55.876,
          55.984,
          56.092,
          56.2,
          56.308,
          56.416,
          56.524,
          56.632,
          56.74,
          56.848,
          56.956,
          57.064,
          57.172,
          57.28,
          57.388,
          57.496,
          57.604,
          57.712,
          57.82,
          57.928,
          58.036,
          58.144,
          58.252,
          58.36,
          58.468,
          58.576,
          58.684,
          58.792,
          58.9,
          59.008,
          59.116,
          59.224,
          59.332,
          59.44,
          59.548,
          59.656,
          59.764,
          59.872,
          59.98,
          60.088,
          60.196,
          60.304,
          60.412,
          60.52,
          60.628,
          60.736,
          60.844,
          60.952,
          61.06,
          61.168,
          61.276,
          61.384,
          61.492,
          61.6,
          61.708,
          61.816,
          61.924,
          62.032,
          62.14,
          62.248,
          62.356,
          62.464,
          62.572,
          62.68,
          62.788,
          62.896,
          63.004,
          63.112,
          63.22,
          63.328,
          63.436,
          63.544,
          63.652,
          63.76,
          63.868,
          63.976,
          64.084,
          64.19200000000001,
          64.3,
          64.408,
          64.51599999999999,
          64.624,
          64.732,
          64.84,
          64.94800000000001,
          65.056,
          65.164,
          65.27199999999999,
          65.38,
          65.488,
          65.596,
          65.70400000000001,
          65.812,
          65.92,
          66.02799999999999,
          66.136,
          66.244,
          66.352,
          66.46000000000001,
          66.568,
          66.676,
          66.78399999999999,
          66.892
         ],
         "xaxis": "x",
         "y": {
          "bdata": "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",
          "dtype": "f8"
         },
         "yaxis": "y"
        },
        {
         "legendgroup": "fuel_consumption_mpg",
         "marker": {
          "color": "rgb(31, 119, 180)",
          "line": {
           "color": "black",
           "width": 0.25
          },
          "symbol": "line-ns-open"
         },
         "mode": "markers",
         "name": "fuel_consumption_mpg",
         "showlegend": false,
         "type": "scatter",
         "x": {
          "bdata": "IRkdHR4ZFBMZIh8gHR8eGhgUHRwZHh8VFRQUHyAdHRsbGSEZISAgIBsfHRweHhoWIiYoHB0kGSEbGxsbGxkfGBwkFhsaHR4aHhweFhseGhghHCcoJSQbGRoZJUMmGRslIhsmGhodHhoTGxcfHh0aIBQbGyQgPSolHSQfGBkNEhEXGRgeFhkaGicYHRoVGBUXJR4bJSQhIR0fHhsaHR4uICAkEhknHRsbIycoKhwYFxoYERseJCImIB8UIiYoIh0bPyQRKxguGyoiJR4jHx0eHh4c",
          "dtype": "i1"
         },
         "xaxis": "x",
         "y": [
          "fuel_consumption_mpg",
          "fuel_consumption_mpg",
          "fuel_consumption_mpg",
          "fuel_consumption_mpg",
          "fuel_consumption_mpg",
          "fuel_consumption_mpg",
          "fuel_consumption_mpg",
          "fuel_consumption_mpg",
          "fuel_consumption_mpg",
          "fuel_consumption_mpg",
          "fuel_consumption_mpg",
          "fuel_consumption_mpg",
          "fuel_consumption_mpg",
          "fuel_consumption_mpg",
          "fuel_consumption_mpg",
          "fuel_consumption_mpg",
          "fuel_consumption_mpg",
          "fuel_consumption_mpg",
          "fuel_consumption_mpg",
          "fuel_consumption_mpg",
          "fuel_consumption_mpg",
          "fuel_consumption_mpg",
          "fuel_consumption_mpg",
          "fuel_consumption_mpg",
          "fuel_consumption_mpg",
          "fuel_consumption_mpg",
          "fuel_consumption_mpg",
          "fuel_consumption_mpg",
          "fuel_consumption_mpg",
          "fuel_consumption_mpg",
          "fuel_consumption_mpg",
          "fuel_consumption_mpg",
          "fuel_consumption_mpg",
          "fuel_consumption_mpg",
          "fuel_consumption_mpg",
          "fuel_consumption_mpg",
          "fuel_consumption_mpg",
          "fuel_consumption_mpg",
          "fuel_consumption_mpg",
          "fuel_consumption_mpg",
          "fuel_consumption_mpg",
          "fuel_consumption_mpg",
          "fuel_consumption_mpg",
          "fuel_consumption_mpg",
          "fuel_consumption_mpg",
          "fuel_consumption_mpg",
          "fuel_consumption_mpg",
          "fuel_consumption_mpg",
          "fuel_consumption_mpg",
          "fuel_consumption_mpg",
          "fuel_consumption_mpg",
          "fuel_consumption_mpg",
          "fuel_consumption_mpg",
          "fuel_consumption_mpg",
          "fuel_consumption_mpg",
          "fuel_consumption_mpg",
          "fuel_consumption_mpg",
          "fuel_consumption_mpg",
          "fuel_consumption_mpg",
          "fuel_consumption_mpg",
          "fuel_consumption_mpg",
          "fuel_consumption_mpg",
          "fuel_consumption_mpg",
          "fuel_consumption_mpg",
          "fuel_consumption_mpg",
          "fuel_consumption_mpg",
          "fuel_consumption_mpg",
          "fuel_consumption_mpg",
          "fuel_consumption_mpg",
          "fuel_consumption_mpg",
          "fuel_consumption_mpg",
          "fuel_consumption_mpg",
          "fuel_consumption_mpg",
          "fuel_consumption_mpg",
          "fuel_consumption_mpg",
          "fuel_consumption_mpg",
          "fuel_consumption_mpg",
          "fuel_consumption_mpg",
          "fuel_consumption_mpg",
          "fuel_consumption_mpg",
          "fuel_consumption_mpg",
          "fuel_consumption_mpg",
          "fuel_consumption_mpg",
          "fuel_consumption_mpg",
          "fuel_consumption_mpg",
          "fuel_consumption_mpg",
          "fuel_consumption_mpg",
          "fuel_consumption_mpg",
          "fuel_consumption_mpg",
          "fuel_consumption_mpg",
          "fuel_consumption_mpg",
          "fuel_consumption_mpg",
          "fuel_consumption_mpg",
          "fuel_consumption_mpg",
          "fuel_consumption_mpg",
          "fuel_consumption_mpg",
          "fuel_consumption_mpg",
          "fuel_consumption_mpg",
          "fuel_consumption_mpg",
          "fuel_consumption_mpg",
          "fuel_consumption_mpg",
          "fuel_consumption_mpg",
          "fuel_consumption_mpg",
          "fuel_consumption_mpg",
          "fuel_consumption_mpg",
          "fuel_consumption_mpg",
          "fuel_consumption_mpg",
          "fuel_consumption_mpg",
          "fuel_consumption_mpg",
          "fuel_consumption_mpg",
          "fuel_consumption_mpg",
          "fuel_consumption_mpg",
          "fuel_consumption_mpg",
          "fuel_consumption_mpg",
          "fuel_consumption_mpg",
          "fuel_consumption_mpg",
          "fuel_consumption_mpg",
          "fuel_consumption_mpg",
          "fuel_consumption_mpg",
          "fuel_consumption_mpg",
          "fuel_consumption_mpg",
          "fuel_consumption_mpg",
          "fuel_consumption_mpg",
          "fuel_consumption_mpg",
          "fuel_consumption_mpg",
          "fuel_consumption_mpg",
          "fuel_consumption_mpg",
          "fuel_consumption_mpg",
          "fuel_consumption_mpg",
          "fuel_consumption_mpg",
          "fuel_consumption_mpg",
          "fuel_consumption_mpg",
          "fuel_consumption_mpg",
          "fuel_consumption_mpg",
          "fuel_consumption_mpg",
          "fuel_consumption_mpg",
          "fuel_consumption_mpg",
          "fuel_consumption_mpg",
          "fuel_consumption_mpg",
          "fuel_consumption_mpg",
          "fuel_consumption_mpg",
          "fuel_consumption_mpg",
          "fuel_consumption_mpg",
          "fuel_consumption_mpg",
          "fuel_consumption_mpg",
          "fuel_consumption_mpg",
          "fuel_consumption_mpg",
          "fuel_consumption_mpg",
          "fuel_consumption_mpg",
          "fuel_consumption_mpg",
          "fuel_consumption_mpg",
          "fuel_consumption_mpg",
          "fuel_consumption_mpg",
          "fuel_consumption_mpg",
          "fuel_consumption_mpg",
          "fuel_consumption_mpg",
          "fuel_consumption_mpg",
          "fuel_consumption_mpg",
          "fuel_consumption_mpg",
          "fuel_consumption_mpg",
          "fuel_consumption_mpg",
          "fuel_consumption_mpg",
          "fuel_consumption_mpg",
          "fuel_consumption_mpg",
          "fuel_consumption_mpg",
          "fuel_consumption_mpg",
          "fuel_consumption_mpg",
          "fuel_consumption_mpg",
          "fuel_consumption_mpg",
          "fuel_consumption_mpg",
          "fuel_consumption_mpg",
          "fuel_consumption_mpg",
          "fuel_consumption_mpg",
          "fuel_consumption_mpg",
          "fuel_consumption_mpg",
          "fuel_consumption_mpg",
          "fuel_consumption_mpg",
          "fuel_consumption_mpg",
          "fuel_consumption_mpg",
          "fuel_consumption_mpg",
          "fuel_consumption_mpg",
          "fuel_consumption_mpg",
          "fuel_consumption_mpg",
          "fuel_consumption_mpg",
          "fuel_consumption_mpg",
          "fuel_consumption_mpg",
          "fuel_consumption_mpg",
          "fuel_consumption_mpg",
          "fuel_consumption_mpg",
          "fuel_consumption_mpg",
          "fuel_consumption_mpg",
          "fuel_consumption_mpg",
          "fuel_consumption_mpg",
          "fuel_consumption_mpg",
          "fuel_consumption_mpg",
          "fuel_consumption_mpg",
          "fuel_consumption_mpg",
          "fuel_consumption_mpg",
          "fuel_consumption_mpg",
          "fuel_consumption_mpg",
          "fuel_consumption_mpg",
          "fuel_consumption_mpg",
          "fuel_consumption_mpg",
          "fuel_consumption_mpg",
          "fuel_consumption_mpg",
          "fuel_consumption_mpg",
          "fuel_consumption_mpg",
          "fuel_consumption_mpg",
          "fuel_consumption_mpg",
          "fuel_consumption_mpg"
         ],
         "yaxis": "y2"
        }
       ],
       "layout": {
        "barmode": "overlay",
        "hovermode": "closest",
        "legend": {
         "traceorder": "reversed"
        },
        "template": {
         "data": {
          "bar": [
           {
            "error_x": {
             "color": "#2a3f5f"
            },
            "error_y": {
             "color": "#2a3f5f"
            },
            "marker": {
             "line": {
              "color": "#E5ECF6",
              "width": 0.5
             },
             "pattern": {
              "fillmode": "overlay",
              "size": 10,
              "solidity": 0.2
             }
            },
            "type": "bar"
           }
          ],
          "barpolar": [
           {
            "marker": {
             "line": {
              "color": "#E5ECF6",
              "width": 0.5
             },
             "pattern": {
              "fillmode": "overlay",
              "size": 10,
              "solidity": 0.2
             }
            },
            "type": "barpolar"
           }
          ],
          "carpet": [
           {
            "aaxis": {
             "endlinecolor": "#2a3f5f",
             "gridcolor": "white",
             "linecolor": "white",
             "minorgridcolor": "white",
             "startlinecolor": "#2a3f5f"
            },
            "baxis": {
             "endlinecolor": "#2a3f5f",
             "gridcolor": "white",
             "linecolor": "white",
             "minorgridcolor": "white",
             "startlinecolor": "#2a3f5f"
            },
            "type": "carpet"
           }
          ],
          "choropleth": [
           {
            "colorbar": {
             "outlinewidth": 0,
             "ticks": ""
            },
            "type": "choropleth"
           }
          ],
          "contour": [
           {
            "colorbar": {
             "outlinewidth": 0,
             "ticks": ""
            },
            "colorscale": [
             [
              0,
              "#0d0887"
             ],
             [
              0.1111111111111111,
              "#46039f"
             ],
             [
              0.2222222222222222,
              "#7201a8"
             ],
             [
              0.3333333333333333,
              "#9c179e"
             ],
             [
              0.4444444444444444,
              "#bd3786"
             ],
             [
              0.5555555555555556,
              "#d8576b"
             ],
             [
              0.6666666666666666,
              "#ed7953"
             ],
             [
              0.7777777777777778,
              "#fb9f3a"
             ],
             [
              0.8888888888888888,
              "#fdca26"
             ],
             [
              1,
              "#f0f921"
             ]
            ],
            "type": "contour"
           }
          ],
          "contourcarpet": [
           {
            "colorbar": {
             "outlinewidth": 0,
             "ticks": ""
            },
            "type": "contourcarpet"
           }
          ],
          "heatmap": [
           {
            "colorbar": {
             "outlinewidth": 0,
             "ticks": ""
            },
            "colorscale": [
             [
              0,
              "#0d0887"
             ],
             [
              0.1111111111111111,
              "#46039f"
             ],
             [
              0.2222222222222222,
              "#7201a8"
             ],
             [
              0.3333333333333333,
              "#9c179e"
             ],
             [
              0.4444444444444444,
              "#bd3786"
             ],
             [
              0.5555555555555556,
              "#d8576b"
             ],
             [
              0.6666666666666666,
              "#ed7953"
             ],
             [
              0.7777777777777778,
              "#fb9f3a"
             ],
             [
              0.8888888888888888,
              "#fdca26"
             ],
             [
              1,
              "#f0f921"
             ]
            ],
            "type": "heatmap"
           }
          ],
          "histogram": [
           {
            "marker": {
             "pattern": {
              "fillmode": "overlay",
              "size": 10,
              "solidity": 0.2
             }
            },
            "type": "histogram"
           }
          ],
          "histogram2d": [
           {
            "colorbar": {
             "outlinewidth": 0,
             "ticks": ""
            },
            "colorscale": [
             [
              0,
              "#0d0887"
             ],
             [
              0.1111111111111111,
              "#46039f"
             ],
             [
              0.2222222222222222,
              "#7201a8"
             ],
             [
              0.3333333333333333,
              "#9c179e"
             ],
             [
              0.4444444444444444,
              "#bd3786"
             ],
             [
              0.5555555555555556,
              "#d8576b"
             ],
             [
              0.6666666666666666,
              "#ed7953"
             ],
             [
              0.7777777777777778,
              "#fb9f3a"
             ],
             [
              0.8888888888888888,
              "#fdca26"
             ],
             [
              1,
              "#f0f921"
             ]
            ],
            "type": "histogram2d"
           }
          ],
          "histogram2dcontour": [
           {
            "colorbar": {
             "outlinewidth": 0,
             "ticks": ""
            },
            "colorscale": [
             [
              0,
              "#0d0887"
             ],
             [
              0.1111111111111111,
              "#46039f"
             ],
             [
              0.2222222222222222,
              "#7201a8"
             ],
             [
              0.3333333333333333,
              "#9c179e"
             ],
             [
              0.4444444444444444,
              "#bd3786"
             ],
             [
              0.5555555555555556,
              "#d8576b"
             ],
             [
              0.6666666666666666,
              "#ed7953"
             ],
             [
              0.7777777777777778,
              "#fb9f3a"
             ],
             [
              0.8888888888888888,
              "#fdca26"
             ],
             [
              1,
              "#f0f921"
             ]
            ],
            "type": "histogram2dcontour"
           }
          ],
          "mesh3d": [
           {
            "colorbar": {
             "outlinewidth": 0,
             "ticks": ""
            },
            "type": "mesh3d"
           }
          ],
          "parcoords": [
           {
            "line": {
             "colorbar": {
              "outlinewidth": 0,
              "ticks": ""
             }
            },
            "type": "parcoords"
           }
          ],
          "pie": [
           {
            "automargin": true,
            "type": "pie"
           }
          ],
          "scatter": [
           {
            "fillpattern": {
             "fillmode": "overlay",
             "size": 10,
             "solidity": 0.2
            },
            "type": "scatter"
           }
          ],
          "scatter3d": [
           {
            "line": {
             "colorbar": {
              "outlinewidth": 0,
              "ticks": ""
             }
            },
            "marker": {
             "colorbar": {
              "outlinewidth": 0,
              "ticks": ""
             }
            },
            "type": "scatter3d"
           }
          ],
          "scattercarpet": [
           {
            "marker": {
             "colorbar": {
              "outlinewidth": 0,
              "ticks": ""
             }
            },
            "type": "scattercarpet"
           }
          ],
          "scattergeo": [
           {
            "marker": {
             "colorbar": {
              "outlinewidth": 0,
              "ticks": ""
             }
            },
            "type": "scattergeo"
           }
          ],
          "scattergl": [
           {
            "marker": {
             "colorbar": {
              "outlinewidth": 0,
              "ticks": ""
             }
            },
            "type": "scattergl"
           }
          ],
          "scattermap": [
           {
            "marker": {
             "colorbar": {
              "outlinewidth": 0,
              "ticks": ""
             }
            },
            "type": "scattermap"
           }
          ],
          "scattermapbox": [
           {
            "marker": {
             "colorbar": {
              "outlinewidth": 0,
              "ticks": ""
             }
            },
            "type": "scattermapbox"
           }
          ],
          "scatterpolar": [
           {
            "marker": {
             "colorbar": {
              "outlinewidth": 0,
              "ticks": ""
             }
            },
            "type": "scatterpolar"
           }
          ],
          "scatterpolargl": [
           {
            "marker": {
             "colorbar": {
              "outlinewidth": 0,
              "ticks": ""
             }
            },
            "type": "scatterpolargl"
           }
          ],
          "scatterternary": [
           {
            "marker": {
             "colorbar": {
              "outlinewidth": 0,
              "ticks": ""
             }
            },
            "type": "scatterternary"
           }
          ],
          "surface": [
           {
            "colorbar": {
             "outlinewidth": 0,
             "ticks": ""
            },
            "colorscale": [
             [
              0,
              "#0d0887"
             ],
             [
              0.1111111111111111,
              "#46039f"
             ],
             [
              0.2222222222222222,
              "#7201a8"
             ],
             [
              0.3333333333333333,
              "#9c179e"
             ],
             [
              0.4444444444444444,
              "#bd3786"
             ],
             [
              0.5555555555555556,
              "#d8576b"
             ],
             [
              0.6666666666666666,
              "#ed7953"
             ],
             [
              0.7777777777777778,
              "#fb9f3a"
             ],
             [
              0.8888888888888888,
              "#fdca26"
             ],
             [
              1,
              "#f0f921"
             ]
            ],
            "type": "surface"
           }
          ],
          "table": [
           {
            "cells": {
             "fill": {
              "color": "#EBF0F8"
             },
             "line": {
              "color": "white"
             }
            },
            "header": {
             "fill": {
              "color": "#C8D4E3"
             },
             "line": {
              "color": "white"
             }
            },
            "type": "table"
           }
          ]
         },
         "layout": {
          "annotationdefaults": {
           "arrowcolor": "#2a3f5f",
           "arrowhead": 0,
           "arrowwidth": 1
          },
          "autotypenumbers": "strict",
          "coloraxis": {
           "colorbar": {
            "outlinewidth": 0,
            "ticks": ""
           }
          },
          "colorscale": {
           "diverging": [
            [
             0,
             "#8e0152"
            ],
            [
             0.1,
             "#c51b7d"
            ],
            [
             0.2,
             "#de77ae"
            ],
            [
             0.3,
             "#f1b6da"
            ],
            [
             0.4,
             "#fde0ef"
            ],
            [
             0.5,
             "#f7f7f7"
            ],
            [
             0.6,
             "#e6f5d0"
            ],
            [
             0.7,
             "#b8e186"
            ],
            [
             0.8,
             "#7fbc41"
            ],
            [
             0.9,
             "#4d9221"
            ],
            [
             1,
             "#276419"
            ]
           ],
           "sequential": [
            [
             0,
             "#0d0887"
            ],
            [
             0.1111111111111111,
             "#46039f"
            ],
            [
             0.2222222222222222,
             "#7201a8"
            ],
            [
             0.3333333333333333,
             "#9c179e"
            ],
            [
             0.4444444444444444,
             "#bd3786"
            ],
            [
             0.5555555555555556,
             "#d8576b"
            ],
            [
             0.6666666666666666,
             "#ed7953"
            ],
            [
             0.7777777777777778,
             "#fb9f3a"
            ],
            [
             0.8888888888888888,
             "#fdca26"
            ],
            [
             1,
             "#f0f921"
            ]
           ],
           "sequentialminus": [
            [
             0,
             "#0d0887"
            ],
            [
             0.1111111111111111,
             "#46039f"
            ],
            [
             0.2222222222222222,
             "#7201a8"
            ],
            [
             0.3333333333333333,
             "#9c179e"
            ],
            [
             0.4444444444444444,
             "#bd3786"
            ],
            [
             0.5555555555555556,
             "#d8576b"
            ],
            [
             0.6666666666666666,
             "#ed7953"
            ],
            [
             0.7777777777777778,
             "#fb9f3a"
            ],
            [
             0.8888888888888888,
             "#fdca26"
            ],
            [
             1,
             "#f0f921"
            ]
           ]
          },
          "colorway": [
           "#636efa",
           "#EF553B",
           "#00cc96",
           "#ab63fa",
           "#FFA15A",
           "#19d3f3",
           "#FF6692",
           "#B6E880",
           "#FF97FF",
           "#FECB52"
          ],
          "font": {
           "color": "#2a3f5f"
          },
          "geo": {
           "bgcolor": "white",
           "lakecolor": "white",
           "landcolor": "#E5ECF6",
           "showlakes": true,
           "showland": true,
           "subunitcolor": "white"
          },
          "hoverlabel": {
           "align": "left"
          },
          "hovermode": "closest",
          "mapbox": {
           "style": "light"
          },
          "paper_bgcolor": "white",
          "plot_bgcolor": "#E5ECF6",
          "polar": {
           "angularaxis": {
            "gridcolor": "white",
            "linecolor": "white",
            "ticks": ""
           },
           "bgcolor": "#E5ECF6",
           "radialaxis": {
            "gridcolor": "white",
            "linecolor": "white",
            "ticks": ""
           }
          },
          "scene": {
           "xaxis": {
            "backgroundcolor": "#E5ECF6",
            "gridcolor": "white",
            "gridwidth": 2,
            "linecolor": "white",
            "showbackground": true,
            "ticks": "",
            "zerolinecolor": "white"
           },
           "yaxis": {
            "backgroundcolor": "#E5ECF6",
            "gridcolor": "white",
            "gridwidth": 2,
            "linecolor": "white",
            "showbackground": true,
            "ticks": "",
            "zerolinecolor": "white"
           },
           "zaxis": {
            "backgroundcolor": "#E5ECF6",
            "gridcolor": "white",
            "gridwidth": 2,
            "linecolor": "white",
            "showbackground": true,
            "ticks": "",
            "zerolinecolor": "white"
           }
          },
          "shapedefaults": {
           "line": {
            "color": "#2a3f5f"
           }
          },
          "ternary": {
           "aaxis": {
            "gridcolor": "white",
            "linecolor": "white",
            "ticks": ""
           },
           "baxis": {
            "gridcolor": "white",
            "linecolor": "white",
            "ticks": ""
           },
           "bgcolor": "#E5ECF6",
           "caxis": {
            "gridcolor": "white",
            "linecolor": "white",
            "ticks": ""
           }
          },
          "title": {
           "x": 0.05
          },
          "xaxis": {
           "automargin": true,
           "gridcolor": "white",
           "linecolor": "white",
           "ticks": "",
           "title": {
            "standoff": 15
           },
           "zerolinecolor": "white",
           "zerolinewidth": 2
          },
          "yaxis": {
           "automargin": true,
           "gridcolor": "white",
           "linecolor": "white",
           "ticks": "",
           "title": {
            "standoff": 15
           },
           "zerolinecolor": "white",
           "zerolinewidth": 2
          }
         }
        },
        "xaxis": {
         "anchor": "y2",
         "domain": [
          0,
          1
         ],
         "zeroline": false
        },
        "yaxis": {
         "anchor": "free",
         "domain": [
          0.35,
          1
         ],
         "position": 0
        },
        "yaxis2": {
         "anchor": "x",
         "domain": [
          0,
          0.25
         ],
         "dtick": 1,
         "showticklabels": false
        }
       }
      }
     },
     "metadata": {},
     "output_type": "display_data"
    }
   ],
   "source": [
    "fig=pff.create_distplot([auto_df['fuel_consumption_mpg']],['fuel_consumption_mpg'], curve_type='normal', bin_size=1)\n",
    "fig.update_traces(marker=dict(line_width=0.25, line_color=\"black\"))\n",
    "# fig.add_vline(raw_test.statistic)\n"
   ]
  },
  {
   "cell_type": "code",
   "execution_count": 6,
   "metadata": {},
   "outputs": [
    {
     "data": {
      "application/vnd.plotly.v1+json": {
       "config": {
        "plotlyServerURL": "https://plot.ly"
       },
       "data": [
        {
         "autobinx": false,
         "histnorm": "probability density",
         "legendgroup": "fuel_consumption_mpg_log",
         "marker": {
          "color": "rgb(31, 119, 180)",
          "line": {
           "color": "black",
           "width": 0.25
          }
         },
         "name": "fuel_consumption_mpg_log",
         "opacity": 0.7,
         "type": "histogram",
         "x": {
          "bdata": "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",
          "dtype": "f8"
         },
         "xaxis": "x",
         "xbins": {
          "end": 1.8260748027008264,
          "size": 0.01,
          "start": 1.1139433523068367
         },
         "yaxis": "y"
        },
        {
         "legendgroup": "fuel_consumption_mpg_log",
         "marker": {
          "color": "rgb(31, 119, 180)",
          "line": {
           "color": "black",
           "width": 0.25
          }
         },
         "mode": "lines",
         "name": "fuel_consumption_mpg_log",
         "showlegend": false,
         "type": "scatter",
         "x": [
          1.1139433523068367,
          1.1153676152076246,
          1.1167918781084127,
          1.1182161410092006,
          1.1196404039099885,
          1.1210646668107767,
          1.1224889297115646,
          1.1239131926123527,
          1.1253374555131406,
          1.1267617184139285,
          1.1281859813147166,
          1.1296102442155045,
          1.1310345071162924,
          1.1324587700170805,
          1.1338830329178684,
          1.1353072958186563,
          1.1367315587194444,
          1.1381558216202323,
          1.1395800845210204,
          1.1410043474218083,
          1.1424286103225962,
          1.1438528732233844,
          1.1452771361241723,
          1.1467013990249602,
          1.1481256619257483,
          1.1495499248265362,
          1.150974187727324,
          1.1523984506281122,
          1.1538227135289,
          1.1552469764296882,
          1.156671239330476,
          1.158095502231264,
          1.1595197651320521,
          1.16094402803284,
          1.162368290933628,
          1.163792553834416,
          1.165216816735204,
          1.166641079635992,
          1.16806534253678,
          1.1694896054375679,
          1.170913868338356,
          1.1723381312391439,
          1.1737623941399318,
          1.17518665704072,
          1.1766109199415078,
          1.178035182842296,
          1.1794594457430838,
          1.1808837086438717,
          1.1823079715446598,
          1.1837322344454477,
          1.1851564973462356,
          1.1865807602470237,
          1.1880050231478116,
          1.1894292860485995,
          1.1908535489493877,
          1.1922778118501756,
          1.1937020747509637,
          1.1951263376517516,
          1.1965506005525395,
          1.1979748634533276,
          1.1993991263541155,
          1.2008233892549034,
          1.2022476521556915,
          1.2036719150564794,
          1.2050961779572673,
          1.2065204408580554,
          1.2079447037588433,
          1.2093689666596315,
          1.2107932295604193,
          1.2122174924612072,
          1.2136417553619954,
          1.2150660182627833,
          1.2164902811635712,
          1.2179145440643593,
          1.2193388069651472,
          1.220763069865935,
          1.2221873327667232,
          1.223611595667511,
          1.2250358585682992,
          1.2264601214690871,
          1.227884384369875,
          1.2293086472706631,
          1.230732910171451,
          1.232157173072239,
          1.233581435973027,
          1.235005698873815,
          1.2364299617746028,
          1.237854224675391,
          1.2392784875761789,
          1.240702750476967,
          1.2421270133777549,
          1.2435512762785428,
          1.244975539179331,
          1.2463998020801188,
          1.247824064980907,
          1.2492483278816948,
          1.2506725907824827,
          1.2520968536832706,
          1.2535211165840587,
          1.2549453794848466,
          1.2563696423856348,
          1.2577939052864227,
          1.2592181681872106,
          1.2606424310879987,
          1.2620666939887866,
          1.2634909568895747,
          1.2649152197903626,
          1.2663394826911505,
          1.2677637455919384,
          1.2691880084927265,
          1.2706122713935144,
          1.2720365342943025,
          1.2734607971950904,
          1.2748850600958783,
          1.2763093229966664,
          1.2777335858974543,
          1.2791578487982422,
          1.2805821116990304,
          1.2820063745998183,
          1.2834306375006064,
          1.2848549004013943,
          1.2862791633021822,
          1.2877034262029703,
          1.2891276891037582,
          1.290551952004546,
          1.2919762149053342,
          1.293400477806122,
          1.2948247407069102,
          1.2962490036076981,
          1.297673266508486,
          1.2990975294092741,
          1.300521792310062,
          1.30194605521085,
          1.303370318111638,
          1.304794581012426,
          1.3062188439132139,
          1.307643106814002,
          1.3090673697147899,
          1.310491632615578,
          1.311915895516366,
          1.3133401584171538,
          1.314764421317942,
          1.3161886842187298,
          1.3176129471195177,
          1.3190372100203058,
          1.3204614729210937,
          1.3218857358218816,
          1.3233099987226697,
          1.3247342616234576,
          1.3261585245242458,
          1.3275827874250337,
          1.3290070503258216,
          1.3304313132266097,
          1.3318555761273976,
          1.3332798390281855,
          1.3347041019289736,
          1.3361283648297615,
          1.3375526277305494,
          1.3389768906313375,
          1.3404011535321254,
          1.3418254164329135,
          1.3432496793337014,
          1.3446739422344893,
          1.3460982051352774,
          1.3475224680360653,
          1.3489467309368532,
          1.3503709938376414,
          1.3517952567384293,
          1.3532195196392172,
          1.3546437825400053,
          1.3560680454407932,
          1.3574923083415813,
          1.3589165712423692,
          1.360340834143157,
          1.3617650970439452,
          1.3631893599447331,
          1.3646136228455212,
          1.3660378857463091,
          1.367462148647097,
          1.368886411547885,
          1.370310674448673,
          1.371734937349461,
          1.373159200250249,
          1.374583463151037,
          1.3760077260518249,
          1.377431988952613,
          1.3788562518534009,
          1.380280514754189,
          1.381704777654977,
          1.3831290405557648,
          1.3845533034565527,
          1.3859775663573408,
          1.3874018292581287,
          1.3888260921589168,
          1.3902503550597047,
          1.3916746179604926,
          1.3930988808612805,
          1.3945231437620687,
          1.3959474066628568,
          1.3973716695636447,
          1.3987959324644326,
          1.4002201953652205,
          1.4016444582660086,
          1.4030687211667967,
          1.4044929840675846,
          1.4059172469683725,
          1.4073415098691604,
          1.4087657727699485,
          1.4101900356707364,
          1.4116142985715245,
          1.4130385614723124,
          1.4144628243731003,
          1.4158870872738882,
          1.4173113501746764,
          1.4187356130754643,
          1.4201598759762524,
          1.4215841388770403,
          1.4230084017778282,
          1.4244326646786163,
          1.4258569275794042,
          1.4272811904801923,
          1.4287054533809802,
          1.430129716281768,
          1.4315539791825562,
          1.4329782420833441,
          1.434402504984132,
          1.4358267678849201,
          1.437251030785708,
          1.438675293686496,
          1.440099556587284,
          1.441523819488072,
          1.44294808238886,
          1.444372345289648,
          1.4457966081904359,
          1.447220871091224,
          1.448645133992012,
          1.4500693968927998,
          1.451493659793588,
          1.4529179226943758,
          1.4543421855951637,
          1.4557664484959518,
          1.4571907113967397,
          1.4586149742975278,
          1.4600392371983157,
          1.4614635000991036,
          1.4628877629998918,
          1.4643120259006797,
          1.4657362888014676,
          1.4671605517022557,
          1.4685848146030436,
          1.4700090775038315,
          1.4714333404046196,
          1.4728576033054075,
          1.4742818662061956,
          1.4757061291069835,
          1.4771303920077714,
          1.4785546549085595,
          1.4799789178093474,
          1.4814031807101353,
          1.4828274436109234,
          1.4842517065117113,
          1.4856759694124992,
          1.4871002323132874,
          1.4885244952140753,
          1.4899487581148634,
          1.4913730210156513,
          1.4927972839164392,
          1.4942215468172273,
          1.4956458097180152,
          1.4970700726188033,
          1.4984943355195912,
          1.4999185984203791,
          1.501342861321167,
          1.5027671242219551,
          1.504191387122743,
          1.5056156500235311,
          1.507039912924319,
          1.508464175825107,
          1.509888438725895,
          1.511312701626683,
          1.512736964527471,
          1.514161227428259,
          1.5155854903290469,
          1.5170097532298348,
          1.518434016130623,
          1.519858279031411,
          1.521282541932199,
          1.5227068048329868,
          1.5241310677337747,
          1.5255553306345628,
          1.5269795935353507,
          1.5284038564361389,
          1.5298281193369268,
          1.5312523822377146,
          1.5326766451385025,
          1.5341009080392907,
          1.5355251709400788,
          1.5369494338408667,
          1.5383736967416546,
          1.5397979596424425,
          1.5412222225432306,
          1.5426464854440185,
          1.5440707483448066,
          1.5454950112455945,
          1.5469192741463824,
          1.5483435370471703,
          1.5497677999479584,
          1.5511920628487466,
          1.5526163257495345,
          1.5540405886503224,
          1.5554648515511103,
          1.5568891144518984,
          1.5583133773526863,
          1.5597376402534744,
          1.5611619031542623,
          1.5625861660550502,
          1.5640104289558383,
          1.5654346918566262,
          1.5668589547574143,
          1.5682832176582022,
          1.5697074805589901,
          1.571131743459778,
          1.5725560063605661,
          1.573980269261354,
          1.5754045321621422,
          1.57682879506293,
          1.578253057963718,
          1.579677320864506,
          1.581101583765294,
          1.5825258466660819,
          1.58395010956687,
          1.5853743724676579,
          1.5867986353684458,
          1.588222898269234,
          1.5896471611700218,
          1.59107142407081,
          1.5924956869715978,
          1.5939199498723857,
          1.5953442127731738,
          1.5967684756739617,
          1.5981927385747496,
          1.5996170014755378,
          1.6010412643763257,
          1.6024655272771138,
          1.6038897901779017,
          1.6053140530786896,
          1.6067383159794777,
          1.6081625788802656,
          1.6095868417810535,
          1.6110111046818416,
          1.6124353675826295,
          1.6138596304834176,
          1.6152838933842055,
          1.6167081562849934,
          1.6181324191857813,
          1.6195566820865694,
          1.6209809449873573,
          1.6224052078881455,
          1.6238294707889334,
          1.6252537336897213,
          1.6266779965905094,
          1.6281022594912973,
          1.6295265223920854,
          1.6309507852928733,
          1.6323750481936612,
          1.633799311094449,
          1.6352235739952372,
          1.6366478368960253,
          1.6380720997968132,
          1.6394963626976011,
          1.640920625598389,
          1.642344888499177,
          1.643769151399965,
          1.6451934143007532,
          1.646617677201541,
          1.648041940102329,
          1.649466203003117,
          1.650890465903905,
          1.6523147288046929,
          1.653738991705481,
          1.655163254606269,
          1.6565875175070568,
          1.658011780407845,
          1.659436043308633,
          1.660860306209421,
          1.6622845691102088,
          1.6637088320109967,
          1.6651330949117846,
          1.6665573578125727,
          1.6679816207133609,
          1.6694058836141488,
          1.6708301465149367,
          1.6722544094157246,
          1.6736786723165125,
          1.6751029352173006,
          1.6765271981180887,
          1.6779514610188766,
          1.6793757239196645,
          1.6807999868204526,
          1.6822242497212407,
          1.6836485126220284,
          1.6850727755228165,
          1.6864970384236044,
          1.6879213013243923,
          1.6893455642251805,
          1.6907698271259686,
          1.6921940900267565,
          1.6936183529275444,
          1.6950426158283323,
          1.6964668787291202,
          1.6978911416299083,
          1.6993154045306964,
          1.7007396674314843,
          1.7021639303322722,
          1.70358819323306,
          1.7050124561338482,
          1.7064367190346361,
          1.7078609819354242,
          1.7092852448362121,
          1.710709507737,
          1.7121337706377882,
          1.713558033538576,
          1.7149822964393642,
          1.716406559340152,
          1.71783082224094,
          1.7192550851417279,
          1.720679348042516,
          1.722103610943304,
          1.723527873844092,
          1.72495213674488,
          1.7263763996456678,
          1.7278006625464557,
          1.7292249254472438,
          1.730649188348032,
          1.7320734512488198,
          1.7334977141496077,
          1.7349219770503956,
          1.7363462399511838,
          1.7377705028519719,
          1.7391947657527598,
          1.7406190286535477,
          1.7420432915543356,
          1.7434675544551237,
          1.7448918173559116,
          1.7463160802566997,
          1.7477403431574876,
          1.7491646060582755,
          1.7505888689590634,
          1.7520131318598515,
          1.7534373947606396,
          1.7548616576614275,
          1.7562859205622154,
          1.7577101834630033,
          1.7591344463637915,
          1.7605587092645794,
          1.7619829721653675,
          1.7634072350661554,
          1.7648314979669433,
          1.7662557608677312,
          1.7676800237685193,
          1.7691042866693074,
          1.7705285495700953,
          1.7719528124708832,
          1.773377075371671,
          1.774801338272459,
          1.7762256011732471,
          1.7776498640740352,
          1.7790741269748231,
          1.780498389875611,
          1.7819226527763992,
          1.783346915677187,
          1.784771178577975,
          1.786195441478763,
          1.787619704379551,
          1.7890439672803389,
          1.790468230181127,
          1.7918924930819151,
          1.793316755982703,
          1.794741018883491,
          1.7961652817842788,
          1.7975895446850667,
          1.7990138075858548,
          1.800438070486643,
          1.8018623333874308,
          1.8032865962882187,
          1.8047108591890066,
          1.8061351220897945,
          1.8075593849905827,
          1.8089836478913708,
          1.8104079107921587,
          1.8118321736929466,
          1.8132564365937347,
          1.8146806994945228,
          1.8161049623953105,
          1.8175292252960986,
          1.8189534881968865,
          1.8203777510976744,
          1.8218020139984625,
          1.8232262768992507,
          1.8246505398000386
         ],
         "xaxis": "x",
         "y": {
          "bdata": "TFki+0CAej915uDJGPB7P81v5whAcn0/FSkzy4cHfz/kCj2RZFiAPxvW3q1yN4E/CJpiHmMhgj9+pDshrxaDP5mIBHDUF4Q/b3l8X1UlhT800+T/uD+GPwnWuD2LZ4c/hiG5Al2diD+9AkRXxOGJP/Ax84NcNYs/Jh53M8aYjD+fX6eUpwyOP8lrv3yskY8/EBDfREOUkD+pE2+i9miRP/5fjiJPR5I/m+fhqK4vkz/e0XVCeiKUP/Ee9DYaIJU/l6nKGfoolj8y3TnbiD2XP94qRdk4Xpg/qvh98H+LmT/mfqGM18WaP2K7Abm8DZw/vk+xMLBjnT/d3mluNsieP5wSEt7rHaA/dmIsIZDfoD/EOHALUKmhP1vstKV1e6I/gq+9/UxWoz9aQfssJDqkP6sxCV9LJ6U/61vh1xQepj8AFMD51B6nP6Fis0riKag/TZDPeZU/qT8HGQNkSWCqPzwKhBhbjKs/krDQ3CnErD8fWT0wFwiuP3PbCM+GWK8/pL94Wu9asD+44KGPQxCxP7E0Lkd1zLE/waNL47qPsj/T9VHoS1qzP67LnPxgLLQ/cc4R6DMGtT/mrU+T/+e1P6GDggYA0rY/zSraZ3LEtz9kJZ/5lL+4P4Kg4henw7k/MjPGNenQuj/h91fanOe7P7ij/5wECL0/oEt5IWQyvj9zkloTAGe/P56BjxAPU8A/pzZcewL4wD9aFdAbfqLBP2YhMzymUsI/db7dm58Iwz+5wHlrj8TDPyUk/kibhsQ/1RdkO+lOxT9bFhSunx3GPyLXCWzl8sY/SvatmuHOxz/bPmS0u7HIP+qazYKbm8k/I8G8GKmMyj8JydzLDIXLP5TtCC7vhMw/YtZUBnmMzT+e3cRJ05vOP4DktRMns88/JS/6zk5p0D+9LUEcMP3QPwE/hiBMldE/0+sGjbcx0j8+bdEQh9LSPz/SBVTPd9M/GwXv8qQh1D/r+fN4HNDUPwhcYVtKg9U/gSYM9EI71j9Pp817GvjWP5J72QTludc/Ti7udLaA2D9UMGF/okzZP8b5Bp+8Hdo/Mjf4Dxj02j8D/TTJx8/bP+sLJ3besNw/900EcG6X3T+4whK3iYPePycrz+tBdd8/V+77I1Q24D+omb7L5rTgP+6crBhhNuE/+hUo+Mq64T+7yc0VLELiP4PpwNeLzOI/xwXuWvFZ4z+jK0ZvY+rjP6k685PofeQ/rIWG84YU5T8K3yJgRK7lP/c6o08mS+Y/fBm/1zHr5j9h9i2qa47nP8QGyxDYNOg/KJG66Xre6D/kO5KjV4vpP/mvhTlxO+o/FfqYL8ru6j9rG9qOZKXrP54/o+FBX+w//xbnL2Mc7T/L2oj7yNztP0uCwTxzoO4/p7uTXmFn7z99HKgdyRjwPzr1lQyCf/A/9OB0U9rn8D9XzUx80FHxP4bzNsJivfE/ouLUD48q8j/JjdT9UpnyP/4ugtGrCfM/KtBoe5Z78z8LSAKWD+/zP8F7d2QTZPQ/N7Bx0Z3a9D8Mt/1tqlL1P4DAgXA0zPU/6pbGszZH9j82BxW2q8P2P3g2aJiNQfc/VZ61HdbA9z/cZ0uqfkH4P8PXRUOAw/g/tXYcjtNG+T+Rn0fQcMv5P2US/+5PUfo/7ScSb2jY+j/4Odp0sWD7P+vLR8Qh6vs/y/gKwa90/D+xpNduUQD9P07kxXH8jP0/AQfPDqYa/j/1pmcsQ6n+P7gVN1PIOP8/gnfsrinJ/z/O55iHLS0AQLucXvQndgBAfD9Aq32/AECRl3sNKAkBQJKnyVAgUwFAalokgF+dAUBdhZt83ucBQGU6Of6VMgJAWGD1lH59AkB8fripkMgCQIulbX/EEwNAPVcjNBJfA0DUSDvCcaoDQKfWqAHb9QNAmvY9qUVBBEDkcwZQqYwEQOo0sW791wRAIUgHYTkjBUDObHBnVG4FQLvHhKhFuQVAU2urMgQEBkByV8X9hk4GQAOM5OzEmAZAaMUO0LTiBkCRcwtmTSwHQCd1PF6FdQdAHx2BWlO+B0C0ACPxrQYIQIUIzK6LTghA1ziFGOOVCEBTob2tqtwIQJ3dWOrYIglAQY7ESGRoCUAMKhREQ60JQAiGIlps8QlAq2y4DdY0CkBNmrfodncKQINwSX5FuQpA+K4QbTj6CkDtfV1hRjoLQB4TYxdmeQtAHDhuXY63C0CR9hsWtvQLQCytjzrUMAxAz86n3N9rDEAajDAp0KUMQCOnE2qc3gxAj6+ECDwWDUDI5iiPpkwNQHAKOqzTgQ1AHEWjM7u1DUBHhRchVegNQJR8IJqZGQ5Amokl8IBJDkAX0mmiA3gOQOTTAGAapQ5AuLa4Cb7QDkCGq/mz5/oOQI+omaiQIw9AQNajaLJKD0BfAxOuRnAPQCV8fm1HlA9AN6S41662D0Cxt15bd9cPQBEdWaab9g9AodulUwsKEEDw1XrH8RcQQEwMwOj+JBBAIpzdkzAxEEBEvyTIhDwQQPYbXKj5RhBAWaFCe41QEEAEvgisPlkQQDvCv8oLYRBAxkK/jPNnEEBWVQDN9G0QQEeDbowOcxBAXVMu8j93EEAvT9lLiHoQQCJtrw3nfBBAiMu90lt+EEAjrvpc5n4QQACzVpWGfhBACzjDizx9EEDk7i13CHsQQKCgcbXqdxBAeSc8y+NzEEBiqOlj9G4QQOcaVVEdaRBAsjGei19iEEAquuQwvFoQQOqN+YQ0UhBAbTQF8clIEECVVyQDfj4QQIYx+m1SMxBA2B05CEknEEBFfCHMYxoQQFQW99akDBBADnra0Bz8D0CTrhPERd0PQMU5/4zJvA9A+Xn/ca2aD0BKZQb59nYPQFIYGOarUQ9AINu9OdIqD0CeMWovcAIPQKuRzjuM2A5A8F4jCy2tDkBzz2J/WYAOQNZhd64YUg5Ap5Be4HEiDkDkckCNbPENQN77fFsQvw1ARpGvHWWLDUCurqnQclYNQDVSZZlBIA1AbO7vwtnoDECLn068Q7AMQCZkXBaIdgxAyBijga87DEBX+C/Mwv8LQNRhZN/KwgtA96TDvdCEC0D6lb6A3UULQK6ofVb6BQtAx1GqfzDFCkCTazhNiYMKQDFaMB4OQQpAHqh6Xcj9CUDO061/wbkJQI8B3wADdQlAvER2YpYvCUAyLgcphekIQJFLLtrYoghAfj50+ppbCEB0DzcL1RMIQM9bmoiQywdAYfl+59aCB0BypoKTsTkHQJpWCO0p8AZAJapJR0mmBkCOFXLmGFwGQDo8xP2hEQZAgvnJre3GBUBSj48CBXwFQFdq6vHwMAVAq+bLWbrlBED7eaD+aZoEQBahu4kITwRApenQh54DBEBUaXpnNLgDQDfvzHfSbANAVDP65oAhA0A2RAHBR9YCQLdqbe4uiwJAV7UjMz5AAkAEWD8tffUBQBQE/VPzqgFAkVi19qdgAUCEguY7ohYBQEAgTSDpzABA2HIMdoODAEAt5eXjdzoAQBnO/8iZ4/8/mi94ixFT/z9jaDlQY8P+P8RrcvyaNP4/rRyEGMSm/T9CwSbP6Rn9P/4vrewWjvw/9mpl3lUD/D8IURaysHn7P10DmhUx8fo/kpeUVuBp+j/ZoEZix+P5PxwXe8XuXvk/vxeQrF7b+D/q85njHln4P6r7n9Y22Pc/aGvyka1Y9z/92pjCidr2P12K2LbRXfY/ed3RXovi9T9UWDRNvGj1P1hkCLhp8PQ/sSOOeZh59D/ClTARTQT0P4NJjKSLkPM/xteIAFge8z8RX4Sata3yP/UzkJGnPvI/cPu9rzDR8T+MX3xrU2XxP+qPAukR+/A/VrzJ+22S8D+8uhMoaSvwP9IK/EgJjO8/QYVAt4LE7j//CWvbPwDuP6PpnmRBP+0/wCwldIeB7D85vvWgEcfrPxqiT/veD+s/56ZeEO5b6j/IB+3tPKvpP+d4HybJ/eg/Qx86049T6D+7+2ybjaznP59WprS+COc/GMJp6B5o5j83UaqXqcrlPymppr5ZMOU/X5vF+CmZ5D8FAXKEFAXkP22Y9EYTdOM/Bq5K0B/m4j9ZZ/heM1viP4ON1eNG0+E/q7/TBVNO4T9NAr0lUMzgP6ao6WE2TeA/6EHZM/uh3z+Pb2rkOq/eP9DiSq8awt0/Y0U4Bona3D/v/OP5c/jbP6Ov0UDJG9s/x8cYPnZE2j8GowcIaHLZP84wp26Lpdg/utYdAs3d1z+NifAYGRvXP7weIdZbXdY/TO4oL4Gk1T82887xdPDUP0St2MkiQdQ/6BqVRnaW0z/ANEHgWvDSP6hpRf27TtI/3K5L94Sx0T/mwy0goRjRP9Nku8b7g9A/AmKwdgDnzz9QP+KoM87OPw3akuVnvc0/xvQ9C3S0zD93VUwdL7PLP5mquktwuco/5Otv+g7HyT/6oEPI4tvIP6OUtJXD98c/QpVQi4kaxz8b+c0fDUTGP1y31x0ndMU/V/mMqbCqxD9BIbVFg+fDP0RRqdh4KsM/J5b0sGtzwj915quJNsLBP/k2f460FsE/wviEX8FwwD9puIIpcqC/P/OP1YLwab4/6fLZ7bc9vT9LpFiPgxu8P6q4FZMPA7s/SjhhMBn0uT/XkTGuXu64P0Qgy2af8bc/XBT4ypv9tj/iGtRkFRK2Py8eL9rOLrU/MYmK7otTtD/DdrSEEYCzPwg3BKAltLI/DJk7ZY/vsT/eYhAbFzKxP2JiYSqGe7A//vk0PE6Xrz97O5ZFi0SuP6q75Atd/qw/6HAIal/Eqz+sLlZ4MJaqP4nrkYlwc6k/UqV2J8JbqD+MNcoOyk6nP/JTAysvTKY/H+eHkZpTpT9zqYl8t2SkP+4Kh0Uzf6M/dhd2X72ioj/qC59QB8+hPzcgLKzEA6E/Z+9zC6tAoD9degcO5AqfP6d33V6mo50/gJfOCxRLnD83GU7ppwCbP7XgVI7gw5k/K7mIRECUmD8Sghz4THGXPzbEcSeQWpY/CeSD0pZPlT+H2SRq8U+UP5oHE78zW5M/9IPv8PRwkj+80xtdz5CRP/7VhY1gupA/c5HQTpLajz+vIQy0WVKOP0c+zJpk24w/CQwrIgZ1iz+cHuoVlx6KP+KwLsx114g/DHBoAwafhz8P2WvAsHSGP3KlyCzkV4U/pT9kdRNIhD8lu1+ptkSDP71SUJlKTYI/wfLQtlBhgT895HL0ToCAP3l1JkyfU38//mw0w8K6fT/bxlLALTV8P1ipeb8Nwno/me6GCphgeT8KLWR+CRB4PyydKFGmz3Y/cJ882bmedT8j+INVlnx0P9wwk7aUaHM/BfPzaBRicj+wiXsge2hxP5k0tqQ0e3A/rcDSPGUzbz8AqFzM2IZtPw==",
          "dtype": "f8"
         },
         "yaxis": "y"
        },
        {
         "legendgroup": "fuel_consumption_mpg_log",
         "marker": {
          "color": "rgb(31, 119, 180)",
          "line": {
           "color": "black",
           "width": 0.25
          },
          "symbol": "line-ns-open"
         },
         "mode": "markers",
         "name": "fuel_consumption_mpg_log",
         "showlegend": false,
         "type": "scatter",
         "x": {
          "bdata": "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",
          "dtype": "f8"
         },
         "xaxis": "x",
         "y": [
          "fuel_consumption_mpg_log",
          "fuel_consumption_mpg_log",
          "fuel_consumption_mpg_log",
          "fuel_consumption_mpg_log",
          "fuel_consumption_mpg_log",
          "fuel_consumption_mpg_log",
          "fuel_consumption_mpg_log",
          "fuel_consumption_mpg_log",
          "fuel_consumption_mpg_log",
          "fuel_consumption_mpg_log",
          "fuel_consumption_mpg_log",
          "fuel_consumption_mpg_log",
          "fuel_consumption_mpg_log",
          "fuel_consumption_mpg_log",
          "fuel_consumption_mpg_log",
          "fuel_consumption_mpg_log",
          "fuel_consumption_mpg_log",
          "fuel_consumption_mpg_log",
          "fuel_consumption_mpg_log",
          "fuel_consumption_mpg_log",
          "fuel_consumption_mpg_log",
          "fuel_consumption_mpg_log",
          "fuel_consumption_mpg_log",
          "fuel_consumption_mpg_log",
          "fuel_consumption_mpg_log",
          "fuel_consumption_mpg_log",
          "fuel_consumption_mpg_log",
          "fuel_consumption_mpg_log",
          "fuel_consumption_mpg_log",
          "fuel_consumption_mpg_log",
          "fuel_consumption_mpg_log",
          "fuel_consumption_mpg_log",
          "fuel_consumption_mpg_log",
          "fuel_consumption_mpg_log",
          "fuel_consumption_mpg_log",
          "fuel_consumption_mpg_log",
          "fuel_consumption_mpg_log",
          "fuel_consumption_mpg_log",
          "fuel_consumption_mpg_log",
          "fuel_consumption_mpg_log",
          "fuel_consumption_mpg_log",
          "fuel_consumption_mpg_log",
          "fuel_consumption_mpg_log",
          "fuel_consumption_mpg_log",
          "fuel_consumption_mpg_log",
          "fuel_consumption_mpg_log",
          "fuel_consumption_mpg_log",
          "fuel_consumption_mpg_log",
          "fuel_consumption_mpg_log",
          "fuel_consumption_mpg_log",
          "fuel_consumption_mpg_log",
          "fuel_consumption_mpg_log",
          "fuel_consumption_mpg_log",
          "fuel_consumption_mpg_log",
          "fuel_consumption_mpg_log",
          "fuel_consumption_mpg_log",
          "fuel_consumption_mpg_log",
          "fuel_consumption_mpg_log",
          "fuel_consumption_mpg_log",
          "fuel_consumption_mpg_log",
          "fuel_consumption_mpg_log",
          "fuel_consumption_mpg_log",
          "fuel_consumption_mpg_log",
          "fuel_consumption_mpg_log",
          "fuel_consumption_mpg_log",
          "fuel_consumption_mpg_log",
          "fuel_consumption_mpg_log",
          "fuel_consumption_mpg_log",
          "fuel_consumption_mpg_log",
          "fuel_consumption_mpg_log",
          "fuel_consumption_mpg_log",
          "fuel_consumption_mpg_log",
          "fuel_consumption_mpg_log",
          "fuel_consumption_mpg_log",
          "fuel_consumption_mpg_log",
          "fuel_consumption_mpg_log",
          "fuel_consumption_mpg_log",
          "fuel_consumption_mpg_log",
          "fuel_consumption_mpg_log",
          "fuel_consumption_mpg_log",
          "fuel_consumption_mpg_log",
          "fuel_consumption_mpg_log",
          "fuel_consumption_mpg_log",
          "fuel_consumption_mpg_log",
          "fuel_consumption_mpg_log",
          "fuel_consumption_mpg_log",
          "fuel_consumption_mpg_log",
          "fuel_consumption_mpg_log",
          "fuel_consumption_mpg_log",
          "fuel_consumption_mpg_log",
          "fuel_consumption_mpg_log",
          "fuel_consumption_mpg_log",
          "fuel_consumption_mpg_log",
          "fuel_consumption_mpg_log",
          "fuel_consumption_mpg_log",
          "fuel_consumption_mpg_log",
          "fuel_consumption_mpg_log",
          "fuel_consumption_mpg_log",
          "fuel_consumption_mpg_log",
          "fuel_consumption_mpg_log",
          "fuel_consumption_mpg_log",
          "fuel_consumption_mpg_log",
          "fuel_consumption_mpg_log",
          "fuel_consumption_mpg_log",
          "fuel_consumption_mpg_log",
          "fuel_consumption_mpg_log",
          "fuel_consumption_mpg_log",
          "fuel_consumption_mpg_log",
          "fuel_consumption_mpg_log",
          "fuel_consumption_mpg_log",
          "fuel_consumption_mpg_log",
          "fuel_consumption_mpg_log",
          "fuel_consumption_mpg_log",
          "fuel_consumption_mpg_log",
          "fuel_consumption_mpg_log",
          "fuel_consumption_mpg_log",
          "fuel_consumption_mpg_log",
          "fuel_consumption_mpg_log",
          "fuel_consumption_mpg_log",
          "fuel_consumption_mpg_log",
          "fuel_consumption_mpg_log",
          "fuel_consumption_mpg_log",
          "fuel_consumption_mpg_log",
          "fuel_consumption_mpg_log",
          "fuel_consumption_mpg_log",
          "fuel_consumption_mpg_log",
          "fuel_consumption_mpg_log",
          "fuel_consumption_mpg_log",
          "fuel_consumption_mpg_log",
          "fuel_consumption_mpg_log",
          "fuel_consumption_mpg_log",
          "fuel_consumption_mpg_log",
          "fuel_consumption_mpg_log",
          "fuel_consumption_mpg_log",
          "fuel_consumption_mpg_log",
          "fuel_consumption_mpg_log",
          "fuel_consumption_mpg_log",
          "fuel_consumption_mpg_log",
          "fuel_consumption_mpg_log",
          "fuel_consumption_mpg_log",
          "fuel_consumption_mpg_log",
          "fuel_consumption_mpg_log",
          "fuel_consumption_mpg_log",
          "fuel_consumption_mpg_log",
          "fuel_consumption_mpg_log",
          "fuel_consumption_mpg_log",
          "fuel_consumption_mpg_log",
          "fuel_consumption_mpg_log",
          "fuel_consumption_mpg_log",
          "fuel_consumption_mpg_log",
          "fuel_consumption_mpg_log",
          "fuel_consumption_mpg_log",
          "fuel_consumption_mpg_log",
          "fuel_consumption_mpg_log",
          "fuel_consumption_mpg_log",
          "fuel_consumption_mpg_log",
          "fuel_consumption_mpg_log",
          "fuel_consumption_mpg_log",
          "fuel_consumption_mpg_log",
          "fuel_consumption_mpg_log",
          "fuel_consumption_mpg_log",
          "fuel_consumption_mpg_log",
          "fuel_consumption_mpg_log",
          "fuel_consumption_mpg_log",
          "fuel_consumption_mpg_log",
          "fuel_consumption_mpg_log",
          "fuel_consumption_mpg_log",
          "fuel_consumption_mpg_log",
          "fuel_consumption_mpg_log",
          "fuel_consumption_mpg_log",
          "fuel_consumption_mpg_log",
          "fuel_consumption_mpg_log",
          "fuel_consumption_mpg_log",
          "fuel_consumption_mpg_log",
          "fuel_consumption_mpg_log",
          "fuel_consumption_mpg_log",
          "fuel_consumption_mpg_log",
          "fuel_consumption_mpg_log",
          "fuel_consumption_mpg_log",
          "fuel_consumption_mpg_log",
          "fuel_consumption_mpg_log",
          "fuel_consumption_mpg_log",
          "fuel_consumption_mpg_log",
          "fuel_consumption_mpg_log",
          "fuel_consumption_mpg_log",
          "fuel_consumption_mpg_log",
          "fuel_consumption_mpg_log",
          "fuel_consumption_mpg_log",
          "fuel_consumption_mpg_log",
          "fuel_consumption_mpg_log",
          "fuel_consumption_mpg_log",
          "fuel_consumption_mpg_log",
          "fuel_consumption_mpg_log",
          "fuel_consumption_mpg_log",
          "fuel_consumption_mpg_log",
          "fuel_consumption_mpg_log",
          "fuel_consumption_mpg_log",
          "fuel_consumption_mpg_log",
          "fuel_consumption_mpg_log",
          "fuel_consumption_mpg_log",
          "fuel_consumption_mpg_log",
          "fuel_consumption_mpg_log",
          "fuel_consumption_mpg_log",
          "fuel_consumption_mpg_log",
          "fuel_consumption_mpg_log",
          "fuel_consumption_mpg_log",
          "fuel_consumption_mpg_log",
          "fuel_consumption_mpg_log",
          "fuel_consumption_mpg_log",
          "fuel_consumption_mpg_log"
         ],
         "yaxis": "y2"
        }
       ],
       "layout": {
        "barmode": "overlay",
        "hovermode": "closest",
        "legend": {
         "traceorder": "reversed"
        },
        "template": {
         "data": {
          "bar": [
           {
            "error_x": {
             "color": "#2a3f5f"
            },
            "error_y": {
             "color": "#2a3f5f"
            },
            "marker": {
             "line": {
              "color": "#E5ECF6",
              "width": 0.5
             },
             "pattern": {
              "fillmode": "overlay",
              "size": 10,
              "solidity": 0.2
             }
            },
            "type": "bar"
           }
          ],
          "barpolar": [
           {
            "marker": {
             "line": {
              "color": "#E5ECF6",
              "width": 0.5
             },
             "pattern": {
              "fillmode": "overlay",
              "size": 10,
              "solidity": 0.2
             }
            },
            "type": "barpolar"
           }
          ],
          "carpet": [
           {
            "aaxis": {
             "endlinecolor": "#2a3f5f",
             "gridcolor": "white",
             "linecolor": "white",
             "minorgridcolor": "white",
             "startlinecolor": "#2a3f5f"
            },
            "baxis": {
             "endlinecolor": "#2a3f5f",
             "gridcolor": "white",
             "linecolor": "white",
             "minorgridcolor": "white",
             "startlinecolor": "#2a3f5f"
            },
            "type": "carpet"
           }
          ],
          "choropleth": [
           {
            "colorbar": {
             "outlinewidth": 0,
             "ticks": ""
            },
            "type": "choropleth"
           }
          ],
          "contour": [
           {
            "colorbar": {
             "outlinewidth": 0,
             "ticks": ""
            },
            "colorscale": [
             [
              0,
              "#0d0887"
             ],
             [
              0.1111111111111111,
              "#46039f"
             ],
             [
              0.2222222222222222,
              "#7201a8"
             ],
             [
              0.3333333333333333,
              "#9c179e"
             ],
             [
              0.4444444444444444,
              "#bd3786"
             ],
             [
              0.5555555555555556,
              "#d8576b"
             ],
             [
              0.6666666666666666,
              "#ed7953"
             ],
             [
              0.7777777777777778,
              "#fb9f3a"
             ],
             [
              0.8888888888888888,
              "#fdca26"
             ],
             [
              1,
              "#f0f921"
             ]
            ],
            "type": "contour"
           }
          ],
          "contourcarpet": [
           {
            "colorbar": {
             "outlinewidth": 0,
             "ticks": ""
            },
            "type": "contourcarpet"
           }
          ],
          "heatmap": [
           {
            "colorbar": {
             "outlinewidth": 0,
             "ticks": ""
            },
            "colorscale": [
             [
              0,
              "#0d0887"
             ],
             [
              0.1111111111111111,
              "#46039f"
             ],
             [
              0.2222222222222222,
              "#7201a8"
             ],
             [
              0.3333333333333333,
              "#9c179e"
             ],
             [
              0.4444444444444444,
              "#bd3786"
             ],
             [
              0.5555555555555556,
              "#d8576b"
             ],
             [
              0.6666666666666666,
              "#ed7953"
             ],
             [
              0.7777777777777778,
              "#fb9f3a"
             ],
             [
              0.8888888888888888,
              "#fdca26"
             ],
             [
              1,
              "#f0f921"
             ]
            ],
            "type": "heatmap"
           }
          ],
          "histogram": [
           {
            "marker": {
             "pattern": {
              "fillmode": "overlay",
              "size": 10,
              "solidity": 0.2
             }
            },
            "type": "histogram"
           }
          ],
          "histogram2d": [
           {
            "colorbar": {
             "outlinewidth": 0,
             "ticks": ""
            },
            "colorscale": [
             [
              0,
              "#0d0887"
             ],
             [
              0.1111111111111111,
              "#46039f"
             ],
             [
              0.2222222222222222,
              "#7201a8"
             ],
             [
              0.3333333333333333,
              "#9c179e"
             ],
             [
              0.4444444444444444,
              "#bd3786"
             ],
             [
              0.5555555555555556,
              "#d8576b"
             ],
             [
              0.6666666666666666,
              "#ed7953"
             ],
             [
              0.7777777777777778,
              "#fb9f3a"
             ],
             [
              0.8888888888888888,
              "#fdca26"
             ],
             [
              1,
              "#f0f921"
             ]
            ],
            "type": "histogram2d"
           }
          ],
          "histogram2dcontour": [
           {
            "colorbar": {
             "outlinewidth": 0,
             "ticks": ""
            },
            "colorscale": [
             [
              0,
              "#0d0887"
             ],
             [
              0.1111111111111111,
              "#46039f"
             ],
             [
              0.2222222222222222,
              "#7201a8"
             ],
             [
              0.3333333333333333,
              "#9c179e"
             ],
             [
              0.4444444444444444,
              "#bd3786"
             ],
             [
              0.5555555555555556,
              "#d8576b"
             ],
             [
              0.6666666666666666,
              "#ed7953"
             ],
             [
              0.7777777777777778,
              "#fb9f3a"
             ],
             [
              0.8888888888888888,
              "#fdca26"
             ],
             [
              1,
              "#f0f921"
             ]
            ],
            "type": "histogram2dcontour"
           }
          ],
          "mesh3d": [
           {
            "colorbar": {
             "outlinewidth": 0,
             "ticks": ""
            },
            "type": "mesh3d"
           }
          ],
          "parcoords": [
           {
            "line": {
             "colorbar": {
              "outlinewidth": 0,
              "ticks": ""
             }
            },
            "type": "parcoords"
           }
          ],
          "pie": [
           {
            "automargin": true,
            "type": "pie"
           }
          ],
          "scatter": [
           {
            "fillpattern": {
             "fillmode": "overlay",
             "size": 10,
             "solidity": 0.2
            },
            "type": "scatter"
           }
          ],
          "scatter3d": [
           {
            "line": {
             "colorbar": {
              "outlinewidth": 0,
              "ticks": ""
             }
            },
            "marker": {
             "colorbar": {
              "outlinewidth": 0,
              "ticks": ""
             }
            },
            "type": "scatter3d"
           }
          ],
          "scattercarpet": [
           {
            "marker": {
             "colorbar": {
              "outlinewidth": 0,
              "ticks": ""
             }
            },
            "type": "scattercarpet"
           }
          ],
          "scattergeo": [
           {
            "marker": {
             "colorbar": {
              "outlinewidth": 0,
              "ticks": ""
             }
            },
            "type": "scattergeo"
           }
          ],
          "scattergl": [
           {
            "marker": {
             "colorbar": {
              "outlinewidth": 0,
              "ticks": ""
             }
            },
            "type": "scattergl"
           }
          ],
          "scattermap": [
           {
            "marker": {
             "colorbar": {
              "outlinewidth": 0,
              "ticks": ""
             }
            },
            "type": "scattermap"
           }
          ],
          "scattermapbox": [
           {
            "marker": {
             "colorbar": {
              "outlinewidth": 0,
              "ticks": ""
             }
            },
            "type": "scattermapbox"
           }
          ],
          "scatterpolar": [
           {
            "marker": {
             "colorbar": {
              "outlinewidth": 0,
              "ticks": ""
             }
            },
            "type": "scatterpolar"
           }
          ],
          "scatterpolargl": [
           {
            "marker": {
             "colorbar": {
              "outlinewidth": 0,
              "ticks": ""
             }
            },
            "type": "scatterpolargl"
           }
          ],
          "scatterternary": [
           {
            "marker": {
             "colorbar": {
              "outlinewidth": 0,
              "ticks": ""
             }
            },
            "type": "scatterternary"
           }
          ],
          "surface": [
           {
            "colorbar": {
             "outlinewidth": 0,
             "ticks": ""
            },
            "colorscale": [
             [
              0,
              "#0d0887"
             ],
             [
              0.1111111111111111,
              "#46039f"
             ],
             [
              0.2222222222222222,
              "#7201a8"
             ],
             [
              0.3333333333333333,
              "#9c179e"
             ],
             [
              0.4444444444444444,
              "#bd3786"
             ],
             [
              0.5555555555555556,
              "#d8576b"
             ],
             [
              0.6666666666666666,
              "#ed7953"
             ],
             [
              0.7777777777777778,
              "#fb9f3a"
             ],
             [
              0.8888888888888888,
              "#fdca26"
             ],
             [
              1,
              "#f0f921"
             ]
            ],
            "type": "surface"
           }
          ],
          "table": [
           {
            "cells": {
             "fill": {
              "color": "#EBF0F8"
             },
             "line": {
              "color": "white"
             }
            },
            "header": {
             "fill": {
              "color": "#C8D4E3"
             },
             "line": {
              "color": "white"
             }
            },
            "type": "table"
           }
          ]
         },
         "layout": {
          "annotationdefaults": {
           "arrowcolor": "#2a3f5f",
           "arrowhead": 0,
           "arrowwidth": 1
          },
          "autotypenumbers": "strict",
          "coloraxis": {
           "colorbar": {
            "outlinewidth": 0,
            "ticks": ""
           }
          },
          "colorscale": {
           "diverging": [
            [
             0,
             "#8e0152"
            ],
            [
             0.1,
             "#c51b7d"
            ],
            [
             0.2,
             "#de77ae"
            ],
            [
             0.3,
             "#f1b6da"
            ],
            [
             0.4,
             "#fde0ef"
            ],
            [
             0.5,
             "#f7f7f7"
            ],
            [
             0.6,
             "#e6f5d0"
            ],
            [
             0.7,
             "#b8e186"
            ],
            [
             0.8,
             "#7fbc41"
            ],
            [
             0.9,
             "#4d9221"
            ],
            [
             1,
             "#276419"
            ]
           ],
           "sequential": [
            [
             0,
             "#0d0887"
            ],
            [
             0.1111111111111111,
             "#46039f"
            ],
            [
             0.2222222222222222,
             "#7201a8"
            ],
            [
             0.3333333333333333,
             "#9c179e"
            ],
            [
             0.4444444444444444,
             "#bd3786"
            ],
            [
             0.5555555555555556,
             "#d8576b"
            ],
            [
             0.6666666666666666,
             "#ed7953"
            ],
            [
             0.7777777777777778,
             "#fb9f3a"
            ],
            [
             0.8888888888888888,
             "#fdca26"
            ],
            [
             1,
             "#f0f921"
            ]
           ],
           "sequentialminus": [
            [
             0,
             "#0d0887"
            ],
            [
             0.1111111111111111,
             "#46039f"
            ],
            [
             0.2222222222222222,
             "#7201a8"
            ],
            [
             0.3333333333333333,
             "#9c179e"
            ],
            [
             0.4444444444444444,
             "#bd3786"
            ],
            [
             0.5555555555555556,
             "#d8576b"
            ],
            [
             0.6666666666666666,
             "#ed7953"
            ],
            [
             0.7777777777777778,
             "#fb9f3a"
            ],
            [
             0.8888888888888888,
             "#fdca26"
            ],
            [
             1,
             "#f0f921"
            ]
           ]
          },
          "colorway": [
           "#636efa",
           "#EF553B",
           "#00cc96",
           "#ab63fa",
           "#FFA15A",
           "#19d3f3",
           "#FF6692",
           "#B6E880",
           "#FF97FF",
           "#FECB52"
          ],
          "font": {
           "color": "#2a3f5f"
          },
          "geo": {
           "bgcolor": "white",
           "lakecolor": "white",
           "landcolor": "#E5ECF6",
           "showlakes": true,
           "showland": true,
           "subunitcolor": "white"
          },
          "hoverlabel": {
           "align": "left"
          },
          "hovermode": "closest",
          "mapbox": {
           "style": "light"
          },
          "paper_bgcolor": "white",
          "plot_bgcolor": "#E5ECF6",
          "polar": {
           "angularaxis": {
            "gridcolor": "white",
            "linecolor": "white",
            "ticks": ""
           },
           "bgcolor": "#E5ECF6",
           "radialaxis": {
            "gridcolor": "white",
            "linecolor": "white",
            "ticks": ""
           }
          },
          "scene": {
           "xaxis": {
            "backgroundcolor": "#E5ECF6",
            "gridcolor": "white",
            "gridwidth": 2,
            "linecolor": "white",
            "showbackground": true,
            "ticks": "",
            "zerolinecolor": "white"
           },
           "yaxis": {
            "backgroundcolor": "#E5ECF6",
            "gridcolor": "white",
            "gridwidth": 2,
            "linecolor": "white",
            "showbackground": true,
            "ticks": "",
            "zerolinecolor": "white"
           },
           "zaxis": {
            "backgroundcolor": "#E5ECF6",
            "gridcolor": "white",
            "gridwidth": 2,
            "linecolor": "white",
            "showbackground": true,
            "ticks": "",
            "zerolinecolor": "white"
           }
          },
          "shapedefaults": {
           "line": {
            "color": "#2a3f5f"
           }
          },
          "ternary": {
           "aaxis": {
            "gridcolor": "white",
            "linecolor": "white",
            "ticks": ""
           },
           "baxis": {
            "gridcolor": "white",
            "linecolor": "white",
            "ticks": ""
           },
           "bgcolor": "#E5ECF6",
           "caxis": {
            "gridcolor": "white",
            "linecolor": "white",
            "ticks": ""
           }
          },
          "title": {
           "x": 0.05
          },
          "xaxis": {
           "automargin": true,
           "gridcolor": "white",
           "linecolor": "white",
           "ticks": "",
           "title": {
            "standoff": 15
           },
           "zerolinecolor": "white",
           "zerolinewidth": 2
          },
          "yaxis": {
           "automargin": true,
           "gridcolor": "white",
           "linecolor": "white",
           "ticks": "",
           "title": {
            "standoff": 15
           },
           "zerolinecolor": "white",
           "zerolinewidth": 2
          }
         }
        },
        "xaxis": {
         "anchor": "y2",
         "domain": [
          0,
          1
         ],
         "zeroline": false
        },
        "yaxis": {
         "anchor": "free",
         "domain": [
          0.35,
          1
         ],
         "position": 0
        },
        "yaxis2": {
         "anchor": "x",
         "domain": [
          0,
          0.25
         ],
         "dtick": 1,
         "showticklabels": false
        }
       }
      }
     },
     "metadata": {},
     "output_type": "display_data"
    }
   ],
   "source": [
    "fig=pff.create_distplot([auto_df['fuel_consumption_mpg_log']],['fuel_consumption_mpg_log'], curve_type='normal',bin_size=0.01)\n",
    "fig.update_traces(marker=dict(line_width=0.25, line_color=\"black\"))\n",
    "# fig.add_vline(log_test.statistic)"
   ]
  },
  {
   "cell_type": "code",
   "execution_count": 7,
   "metadata": {},
   "outputs": [
    {
     "name": "stderr",
     "output_type": "stream",
     "text": [
      "/var/folders/72/0bcyzdyx7h3cvbp3wdsv12gh0000gn/T/ipykernel_23505/3574554583.py:8: UserWarning:\n",
      "\n",
      "FigureCanvasAgg is non-interactive, and thus cannot be shown\n",
      "\n"
     ]
    },
    {
     "data": {
      "image/png": "[encoded data removed]",
      "text/plain": [
       "<Figure size 2000x800 with 2 Axes>"
      ]
     },
     "metadata": {},
     "output_type": "display_data"
    }
   ],
   "source": [
    "fig,ax=plt.subplots(1,2)\n",
    "plotfrm = auto_df.copy() # preventing unknown problems on JupyterHub\n",
    "sm.qqplot(plotfrm['fuel_consumption_mpg'],line='q',ax=ax[0])\n",
    "sm.qqplot(plotfrm['fuel_consumption_mpg_log'],line='q',ax=ax[1])\n",
    "ax[0].set_title(\"QQ of Fuel Consumption (mpg)\")\n",
    "ax[1].set_title(\"QQ of Fuel Consumption $log_{10}$(mpg)\")\n",
    "fig.set_figwidth(20)\n",
    "fig.figure.show()"
   ]
  },
  {
   "cell_type": "markdown",
   "metadata": {},
   "source": [
    ">### Conclusions of normality of fuel consumption and $log_{10}$(fuel consumption)\n",
    ">\n",
    ">Based on the results from the Normal test and KS test, we fully reject the raw data and would need to reject the $log$ data as well, but it is closer to a normal distribution then the raw data. \n",
    ">\n",
    ">> #### Thus the `log10` data to be the closest to a normal distribution, so I will use the `fuel_consumption_mpg_log` data going forward.\n",
    ">\n",
    ">>> Also, this reference (https://docs.scipy.org/doc/scipy/tutorial/stats/hypothesis_normaltest.html) is how I know that the Normal Test shows the above"
   ]
  },
  {
   "cell_type": "markdown",
   "metadata": {},
   "source": [
    "We can see from the QQ plots that the data appears to be right-tailed, with a few cars having very high mileage. Using a log transformation reduces the skew, but it also pushes the lowest mileages off the normal distribution curve as well."
   ]
  },
  {
   "cell_type": "markdown",
   "metadata": {},
   "source": [
    "2. Test if the fuel consumption is significantly different for the following populations of vehicles\n",
    "\n",
    "- \"Big 3\" North American brands ('buick', 'cadillac', 'chevrolet', 'chrysler', 'dodge', 'ford',  'gmc', 'jeep', 'lincoln') compared with brands that began in other countries\n",
    "- Vehicles with 1 gear vs many gears\n",
    "- Vehicle with greater than median height vs less than or equal the median height\n",
    "\n",
    "You are running separate tests for each variable. Use both graphical methods and the formal test. <span style=\"color:red\" float:right>[5 point]</span>"
   ]
  },
  {
   "cell_type": "code",
   "execution_count": 8,
   "metadata": {},
   "outputs": [],
   "source": [
    "def compare_samples(df1, df2, col='fuel_consumption_mpg_log', labels:list=None, bin_size:int=0.2):\n",
    "    samp1 = df1[col]\n",
    "    samp2 = df2[col]\n",
    "    test_res = ss.ttest_ind(samp1,samp2)\n",
    "    fig = pff.create_distplot([samp1,samp2],labels if labels else None,curve_type='kde',bin_size=bin_size,show_rug=False)\n",
    "    fig.update_traces(marker=dict(colorscale=plco.qualitative.D3,line_width=0.25, line_color=\"black\"))\n",
    "    # fig.add_vline(test_res.statistic)\n",
    "    fig.add_vline(samp1.mean(),line_width=3, line_dash=\"dashdot\", line_color=plco.qualitative.D3[0])\n",
    "    fig.add_vline(samp2.mean(),line_width=3, line_dash=\"dashdot\", line_color=plco.qualitative.D3[1])\n",
    "    \n",
    "    return fig, test_res"
   ]
  },
  {
   "cell_type": "markdown",
   "metadata": {},
   "source": [
    "> ### Our hypotheses for the Big3 comparison:\n",
    ">\n",
    "> $H_0$ : The mean fuel consumption of the US Big3 automakers is not different then other automakers.\n",
    ">\n",
    "> $H_A$ : The mean fuel consumption of the US Big3 automakers is significantly different then other automakers."
   ]
  },
  {
   "cell_type": "code",
   "execution_count": 9,
   "metadata": {},
   "outputs": [
    {
     "data": {
      "application/vnd.plotly.v1+json": {
       "config": {
        "plotlyServerURL": "https://plot.ly"
       },
       "data": [
        {
         "autobinx": false,
         "histnorm": "probability density",
         "legendgroup": "Big3",
         "marker": {
          "color": "rgb(31, 119, 180)",
          "colorscale": [
           [
            0,
            "#1F77B4"
           ],
           [
            0.1111111111111111,
            "#FF7F0E"
           ],
           [
            0.2222222222222222,
            "#2CA02C"
           ],
           [
            0.3333333333333333,
            "#D62728"
           ],
           [
            0.4444444444444444,
            "#9467BD"
           ],
           [
            0.5555555555555556,
            "#8C564B"
           ],
           [
            0.6666666666666666,
            "#E377C2"
           ],
           [
            0.7777777777777778,
            "#7F7F7F"
           ],
           [
            0.8888888888888888,
            "#BCBD22"
           ],
           [
            1,
            "#17BECF"
           ]
          ],
          "line": {
           "color": "black",
           "width": 0.25
          }
         },
         "name": "Big3",
         "opacity": 0.7,
         "type": "histogram",
         "x": {
          "bdata": "AUOwV/Zd9j/uuuRF1Uv4P39YxyQYFfg/f1jHJBgV+D9/WMckGBX4P37gu7Dd5vY/5mdYFJ7c9z/qY2tx+2X3Px8jDC6PJ/c/f/WT5Umi9z9/9ZPlSaL3P8/w4xe7o/Y/7qN4NJB69T8XXHMJ8ID4P5CfIyrLRvk//7xPqAmi+T8fIwwujyf3P+pja3H7Zfc//qd3c53m+D8BQ7BX9l32P+665EXVS/g/fuC7sN3m9j9+4Luw3eb2P37gu7Dd5vY/fuC7sN3m9j9+4Luw3eb2PwFDsFf2XfY//pALYlgV9j8fIwwujyf3P/6nd3Od5vg/7qN4NJB69T9+4Luw3eb2P8/w4xe7o/Y/6mNrcftl9z9/9ZPlSaL3P8/w4xe7o/Y/f/WT5Umi9z9/9ZPlSaL3P8/w4xe7o/Y//pALYlgV9j/uuuRF1Uv4Px8jDC6PJ/c/5mdYFJ7c9z9/9ZPlSaL3P+pja3H7Zfc/z/DjF7uj9j9/WMckGBX4P4DeJ9QE0fQ/fuC7sN3m9j/+kAtiWBX2P+pja3H7Zfc/z/DjF7uj9j+fW1Brzyf1Pw==",
          "dtype": "f8"
         },
         "xaxis": "x",
         "xbins": {
          "end": 1.6020599913279623,
          "size": 0.01,
          "start": 1.3010299956639813
         },
         "yaxis": "y"
        },
        {
         "autobinx": false,
         "histnorm": "probability density",
         "legendgroup": "Not Big3",
         "marker": {
          "color": "rgb(255, 127, 14)",
          "colorscale": [
           [
            0,
            "#1F77B4"
           ],
           [
            0.1111111111111111,
            "#FF7F0E"
           ],
           [
            0.2222222222222222,
            "#2CA02C"
           ],
           [
            0.3333333333333333,
            "#D62728"
           ],
           [
            0.4444444444444444,
            "#9467BD"
           ],
           [
            0.5555555555555556,
            "#8C564B"
           ],
           [
            0.6666666666666666,
            "#E377C2"
           ],
           [
            0.7777777777777778,
            "#7F7F7F"
           ],
           [
            0.8888888888888888,
            "#BCBD22"
           ],
           [
            1,
            "#17BECF"
           ]
          ],
          "line": {
           "color": "black",
           "width": 0.25
          }
         },
         "name": "Not Big3",
         "opacity": 0.7,
         "type": "histogram",
         "x": {
          "bdata": "7rrkRdVL+D8BQ7BX9l32P+pja3H7Zfc/6mNrcftl9z9/9ZPlSaL3PwFDsFf2XfY/gN4n1ATR9D8QwftVxnX0PwFDsFf2XfY/F1xzCfCA+D/mZ1gUntz3P39YxyQYFfg/6mNrcftl9z/mZ1gUntz3P3/1k+VJovc/z/DjF7uj9j/+kAtiWBX2P4DeJ9QE0fQ/6mNrcftl9z8fIwwujyf3PwFDsFf2XfY/f/WT5Umi9z/mZ1gUntz3P59bUGvPJ/U/n1tQa88n9T+A3ifUBNH0P4DeJ9QE0fQ/5mdYFJ7c9z9/WMckGBX4P+pja3H7Zfc/6mNrcftl9z9+4Luw3eb2P37gu7Dd5vY/AUOwV/Zd9j/uuuRF1Uv4P+ZnWBSe3Pc/HyMMLo8n9z9/9ZPlSaL3P+6jeDSQevU/fuC7sN3m9j/OB1ApAHX5P/+8T6gJovk/gGDmsFoX+T/+p3dzneb4P37gu7Dd5vY/AUOwV/Zd9j/P8OMXu6P2PwFDsFf2XfY/gGDmsFoX+T8uZVo2mjf9P5CfIyrLRvk/AUOwV/Zd9j9+4Luw3eb2P4Bg5rBaF/k/F1xzCfCA+D9+4Luw3eb2P5CfIyrLRvk/z/DjF7uj9j/P8OMXu6P2P+pja3H7Zfc/f/WT5Umi9z/P8OMXu6P2PxDB+1XGdfQ/fuC7sN3m9j9/+Zsgo8n1P37gu7Dd5vY//qd3c53m+D9/WMckGBX4P/AbXwS2kPw/Hzp4P9T4+T+AYOawWhf5P+pja3H7Zfc//qd3c53m+D/mZ1gUntz3P/6QC2JYFfY/AUOwV/Zd9j9PErxDttLxP37JT5+YFfQ/l31LNeuv8z9/+Zsgo8n1PwFDsFf2XfY//pALYlgV9j9/9ZPlSaL3P+6jeDSQevU/AUOwV/Zd9j/P8OMXu6P2P8/w4xe7o/Y/zgdQKQB1+T/+kAtiWBX2P59bUGvPJ/U/f/mbIKPJ9T+AYOawWhf5P3/1k+VJovc/fuC7sN3m9j+AYOawWhf5P/6nd3Od5vg/7rrkRdVL+D/uuuRF1Uv4P+pja3H7Zfc/5mdYFJ7c9z9/9ZPlSaL3P37gu7Dd5vY/z/DjF7uj9j/qY2tx+2X3P3/1k+VJovc//9fD9Kea+j9/WMckGBX4P39YxyQYFfg//qd3c53m+D9+yU+fmBX0PwFDsFf2XfY/zgdQKQB1+T/qY2tx+2X3P37gu7Dd5vY/fuC7sN3m9j+gh5SxgLT4P84HUCkAdfk//7xPqAmi+T8fOng/1Pj5Px8jDC6PJ/c//pALYlgV9j9/+Zsgo8n1P8/w4xe7o/Y//pALYlgV9j+XfUs166/zP37gu7Dd5vY/f/WT5Umi9z/+p3dzneb4PxdccwnwgPg/kJ8jKstG+T9/WMckGBX4P+ZnWBSe3Pc/gN4n1ATR9D8XXHMJ8ID4P5CfIyrLRvk//7xPqAmi+T8XXHMJ8ID4P+pja3H7Zfc/fuC7sN3m9j8eUeRQGcr8P/6nd3Od5vg/l31LNeuv8z/1MLzRryL6P/6QC2JYFfY//9fD9Kea+j9+4Luw3eb2Px86eD/U+Pk/F1xzCfCA+D+AYOawWhf5P3/1k+VJovc/oIeUsYC0+D/mZ1gUntz3P+pja3H7Zfc/f/WT5Umi9z9/9ZPlSaL3P3/1k+VJovc/HyMMLo8n9z8=",
          "dtype": "f8"
         },
         "xaxis": "x",
         "xbins": {
          "end": 1.8260748027008264,
          "size": 0.01,
          "start": 1.1139433523068367
         },
         "yaxis": "y"
        },
        {
         "legendgroup": "Big3",
         "marker": {
          "color": "rgb(31, 119, 180)",
          "colorscale": [
           [
            0,
            "#1F77B4"
           ],
           [
            0.1111111111111111,
            "#FF7F0E"
           ],
           [
            0.2222222222222222,
            "#2CA02C"
           ],
           [
            0.3333333333333333,
            "#D62728"
           ],
           [
            0.4444444444444444,
            "#9467BD"
           ],
           [
            0.5555555555555556,
            "#8C564B"
           ],
           [
            0.6666666666666666,
            "#E377C2"
           ],
           [
            0.7777777777777778,
            "#7F7F7F"
           ],
           [
            0.8888888888888888,
            "#BCBD22"
           ],
           [
            1,
            "#17BECF"
           ]
          ],
          "line": {
           "color": "black",
           "width": 0.25
          }
         },
         "mode": "lines",
         "name": "Big3",
         "showlegend": false,
         "type": "scatter",
         "x": [
          1.3010299956639813,
          1.3016320556553092,
          1.3022341156466373,
          1.3028361756379652,
          1.303438235629293,
          1.304040295620621,
          1.304642355611949,
          1.305244415603277,
          1.3058464755946049,
          1.306448535585933,
          1.3070505955772609,
          1.3076526555685888,
          1.308254715559917,
          1.3088567755512448,
          1.3094588355425727,
          1.3100608955339006,
          1.3106629555252287,
          1.3112650155165566,
          1.3118670755078845,
          1.3124691354992126,
          1.3130711954905405,
          1.3136732554818684,
          1.3142753154731963,
          1.3148773754645244,
          1.3154794354558523,
          1.3160814954471802,
          1.3166835554385083,
          1.3172856154298362,
          1.3178876754211641,
          1.3184897354124923,
          1.3190917954038202,
          1.319693855395148,
          1.320295915386476,
          1.320897975377804,
          1.321500035369132,
          1.3221020953604599,
          1.322704155351788,
          1.3233062153431159,
          1.3239082753344438,
          1.3245103353257717,
          1.3251123953170998,
          1.3257144553084277,
          1.3263165152997556,
          1.3269185752910837,
          1.3275206352824116,
          1.3281226952737395,
          1.3287247552650676,
          1.3293268152563955,
          1.3299288752477234,
          1.3305309352390513,
          1.3311329952303794,
          1.3317350552217073,
          1.3323371152130352,
          1.3329391752043633,
          1.3335412351956912,
          1.3341432951870191,
          1.334745355178347,
          1.3353474151696751,
          1.335949475161003,
          1.336551535152331,
          1.337153595143659,
          1.337755655134987,
          1.3383577151263149,
          1.338959775117643,
          1.3395618351089709,
          1.3401638951002988,
          1.3407659550916267,
          1.3413680150829548,
          1.3419700750742827,
          1.3425721350656106,
          1.3431741950569387,
          1.3437762550482666,
          1.3443783150395945,
          1.3449803750309224,
          1.3455824350222505,
          1.3461844950135784,
          1.3467865550049063,
          1.3473886149962344,
          1.3479906749875623,
          1.3485927349788902,
          1.3491947949702183,
          1.3497968549615462,
          1.3503989149528741,
          1.351000974944202,
          1.3516030349355301,
          1.352205094926858,
          1.352807154918186,
          1.353409214909514,
          1.354011274900842,
          1.3546133348921698,
          1.3552153948834977,
          1.3558174548748259,
          1.3564195148661538,
          1.3570215748574816,
          1.3576236348488098,
          1.3582256948401377,
          1.3588277548314656,
          1.3594298148227937,
          1.3600318748141216,
          1.3606339348054495,
          1.3612359947967774,
          1.3618380547881055,
          1.3624401147794334,
          1.3630421747707613,
          1.3636442347620894,
          1.3642462947534173,
          1.3648483547447452,
          1.365450414736073,
          1.3660524747274012,
          1.366654534718729,
          1.367256594710057,
          1.3678586547013851,
          1.368460714692713,
          1.369062774684041,
          1.369664834675369,
          1.370266894666697,
          1.3708689546580248,
          1.3714710146493527,
          1.3720730746406808,
          1.3726751346320087,
          1.3732771946233366,
          1.3738792546146648,
          1.3744813146059927,
          1.3750833745973206,
          1.3756854345886484,
          1.3762874945799766,
          1.3768895545713045,
          1.3774916145626324,
          1.3780936745539605,
          1.3786957345452884,
          1.3792977945366163,
          1.3798998545279444,
          1.3805019145192723,
          1.3811039745106002,
          1.381706034501928,
          1.3823080944932562,
          1.382910154484584,
          1.383512214475912,
          1.3841142744672401,
          1.384716334458568,
          1.385318394449896,
          1.3859204544412238,
          1.386522514432552,
          1.3871245744238798,
          1.3877266344152077,
          1.3883286944065358,
          1.3889307543978637,
          1.3895328143891916,
          1.3901348743805197,
          1.3907369343718476,
          1.3913389943631755,
          1.3919410543545034,
          1.3925431143458316,
          1.3931451743371595,
          1.3937472343284873,
          1.3943492943198155,
          1.3949513543111434,
          1.3955534143024713,
          1.3961554742937992,
          1.3967575342851273,
          1.3973595942764552,
          1.397961654267783,
          1.3985637142591112,
          1.399165774250439,
          1.399767834241767,
          1.400369894233095,
          1.400971954224423,
          1.401574014215751,
          1.4021760742070788,
          1.402778134198407,
          1.4033801941897348,
          1.4039822541810627,
          1.4045843141723908,
          1.4051863741637187,
          1.4057884341550466,
          1.4063904941463745,
          1.4069925541377026,
          1.4075946141290305,
          1.4081966741203584,
          1.4087987341116865,
          1.4094007941030144,
          1.4100028540943423,
          1.4106049140856705,
          1.4112069740769984,
          1.4118090340683263,
          1.4124110940596541,
          1.4130131540509823,
          1.4136152140423102,
          1.414217274033638,
          1.4148193340249662,
          1.415421394016294,
          1.416023454007622,
          1.4166255139989499,
          1.417227573990278,
          1.4178296339816059,
          1.4184316939729338,
          1.419033753964262,
          1.4196358139555898,
          1.4202378739469177,
          1.4208399339382458,
          1.4214419939295737,
          1.4220440539209016,
          1.4226461139122295,
          1.4232481739035576,
          1.4238502338948855,
          1.4244522938862134,
          1.4250543538775415,
          1.4256564138688694,
          1.4262584738601973,
          1.4268605338515252,
          1.4274625938428533,
          1.4280646538341812,
          1.4286667138255091,
          1.4292687738168373,
          1.4298708338081652,
          1.430472893799493,
          1.4310749537908212,
          1.431677013782149,
          1.432279073773477,
          1.432881133764805,
          1.433483193756133,
          1.4340852537474609,
          1.4346873137387888,
          1.435289373730117,
          1.4358914337214448,
          1.4364934937127727,
          1.4370955537041006,
          1.4376976136954287,
          1.4382996736867566,
          1.4389017336780845,
          1.4395037936694126,
          1.4401058536607405,
          1.4407079136520684,
          1.4413099736433965,
          1.4419120336347244,
          1.4425140936260523,
          1.4431161536173802,
          1.4437182136087083,
          1.4443202736000362,
          1.4449223335913641,
          1.445524393582692,
          1.4461264535740201,
          1.446728513565348,
          1.447330573556676,
          1.447932633548004,
          1.448534693539332,
          1.4491367535306598,
          1.449738813521988,
          1.4503408735133159,
          1.4509429335046438,
          1.4515449934959719,
          1.4521470534872998,
          1.4527491134786277,
          1.4533511734699556,
          1.4539532334612837,
          1.4545552934526116,
          1.4551573534439395,
          1.4557594134352674,
          1.4563614734265955,
          1.4569635334179234,
          1.4575655934092513,
          1.4581676534005794,
          1.4587697133919073,
          1.4593717733832352,
          1.4599738333745633,
          1.4605758933658912,
          1.4611779533572191,
          1.4617800133485472,
          1.4623820733398751,
          1.462984133331203,
          1.463586193322531,
          1.464188253313859,
          1.464790313305187,
          1.4653923732965148,
          1.465994433287843,
          1.4665964932791709,
          1.4671985532704988,
          1.4678006132618266,
          1.4684026732531548,
          1.4690047332444827,
          1.4696067932358106,
          1.4702088532271387,
          1.4708109132184666,
          1.4714129732097945,
          1.4720150332011226,
          1.4726170931924505,
          1.4732191531837784,
          1.4738212131751065,
          1.4744232731664344,
          1.4750253331577623,
          1.4756273931490902,
          1.476229453140418,
          1.4768315131317462,
          1.477433573123074,
          1.478035633114402,
          1.4786376931057301,
          1.479239753097058,
          1.479841813088386,
          1.480443873079714,
          1.481045933071042,
          1.4816479930623698,
          1.482250053053698,
          1.4828521130450258,
          1.4834541730363537,
          1.4840562330276816,
          1.4846582930190098,
          1.4852603530103377,
          1.4858624130016655,
          1.4864644729929934,
          1.4870665329843216,
          1.4876685929756495,
          1.4882706529669774,
          1.4888727129583055,
          1.4894747729496334,
          1.4900768329409613,
          1.4906788929322894,
          1.4912809529236173,
          1.4918830129149452,
          1.4924850729062733,
          1.4930871328976012,
          1.493689192888929,
          1.494291252880257,
          1.4948933128715851,
          1.495495372862913,
          1.496097432854241,
          1.4966994928455688,
          1.497301552836897,
          1.4979036128282248,
          1.4985056728195527,
          1.4991077328108808,
          1.4997097928022087,
          1.5003118527935366,
          1.5009139127848647,
          1.5015159727761926,
          1.5021180327675205,
          1.5027200927588487,
          1.5033221527501766,
          1.5039242127415045,
          1.5045262727328323,
          1.5051283327241605,
          1.5057303927154884,
          1.5063324527068163,
          1.5069345126981444,
          1.5075365726894723,
          1.5081386326808002,
          1.508740692672128,
          1.5093427526634562,
          1.509944812654784,
          1.510546872646112,
          1.51114893263744,
          1.511750992628768,
          1.512353052620096,
          1.5129551126114238,
          1.513557172602752,
          1.5141592325940798,
          1.5147612925854077,
          1.5153633525767358,
          1.5159654125680637,
          1.5165674725593916,
          1.5171695325507195,
          1.5177715925420476,
          1.5183736525333755,
          1.5189757125247034,
          1.5195777725160315,
          1.5201798325073594,
          1.5207818924986873,
          1.5213839524900155,
          1.5219860124813434,
          1.5225880724726713,
          1.5231901324639994,
          1.5237921924553273,
          1.5243942524466552,
          1.524996312437983,
          1.5255983724293112,
          1.526200432420639,
          1.526802492411967,
          1.5274045524032949,
          1.528006612394623,
          1.5286086723859509,
          1.5292107323772788,
          1.529812792368607,
          1.5304148523599348,
          1.5310169123512627,
          1.5316189723425908,
          1.5322210323339187,
          1.5328230923252466,
          1.5334251523165747,
          1.5340272123079026,
          1.5346292722992305,
          1.5352313322905584,
          1.5358333922818865,
          1.5364354522732144,
          1.5370375122645423,
          1.5376395722558702,
          1.5382416322471983,
          1.5388436922385262,
          1.5394457522298541,
          1.5400478122211823,
          1.5406498722125102,
          1.541251932203838,
          1.5418539921951662,
          1.542456052186494,
          1.543058112177822,
          1.54366017216915,
          1.544262232160478,
          1.5448642921518059,
          1.5454663521431338,
          1.546068412134462,
          1.5466704721257898,
          1.5472725321171177,
          1.5478745921084458,
          1.5484766520997737,
          1.5490787120911016,
          1.5496807720824295,
          1.5502828320737576,
          1.5508848920650855,
          1.5514869520564134,
          1.5520890120477415,
          1.5526910720390694,
          1.5532931320303973,
          1.5538951920217254,
          1.5544972520130533,
          1.5550993120043812,
          1.5557013719957091,
          1.556303431987037,
          1.5569054919783651,
          1.557507551969693,
          1.558109611961021,
          1.558711671952349,
          1.559313731943677,
          1.5599157919350048,
          1.560517851926333,
          1.5611199119176609,
          1.5617219719089888,
          1.5623240319003169,
          1.5629260918916448,
          1.5635281518829727,
          1.5641302118743008,
          1.5647322718656287,
          1.5653343318569566,
          1.5659363918482847,
          1.5665384518396126,
          1.5671405118309405,
          1.5677425718222684,
          1.5683446318135965,
          1.5689466918049244,
          1.5695487517962523,
          1.5701508117875802,
          1.5707528717789083,
          1.5713549317702362,
          1.5719569917615641,
          1.5725590517528922,
          1.5731611117442201,
          1.573763171735548,
          1.574365231726876,
          1.574967291718204,
          1.575569351709532,
          1.5761714117008598,
          1.5767734716921877,
          1.5773755316835159,
          1.5779775916748437,
          1.5785796516661716,
          1.5791817116574998,
          1.5797837716488277,
          1.5803858316401556,
          1.5809878916314837,
          1.5815899516228116,
          1.5821920116141395,
          1.5827940716054676,
          1.5833961315967955,
          1.5839981915881234,
          1.5846002515794515,
          1.5852023115707794,
          1.5858043715621073,
          1.5864064315534352,
          1.587008491544763,
          1.5876105515360912,
          1.588212611527419,
          1.588814671518747,
          1.5894167315100751,
          1.590018791501403,
          1.590620851492731,
          1.591222911484059,
          1.591824971475387,
          1.5924270314667148,
          1.593029091458043,
          1.5936311514493708,
          1.5942332114406987,
          1.5948352714320269,
          1.5954373314233548,
          1.5960393914146827,
          1.5966414514060105,
          1.5972435113973384,
          1.5978455713886666,
          1.5984476313799945,
          1.5990496913713224,
          1.5996517513626505,
          1.6002538113539784,
          1.6008558713453063,
          1.6014579313366344
         ],
         "xaxis": "x",
         "y": {
          "bdata": "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",
          "dtype": "f8"
         },
         "yaxis": "y"
        },
        {
         "legendgroup": "Not Big3",
         "marker": {
          "color": "rgb(255, 127, 14)",
          "colorscale": [
           [
            0,
            "#1F77B4"
           ],
           [
            0.1111111111111111,
            "#FF7F0E"
           ],
           [
            0.2222222222222222,
            "#2CA02C"
           ],
           [
            0.3333333333333333,
            "#D62728"
           ],
           [
            0.4444444444444444,
            "#9467BD"
           ],
           [
            0.5555555555555556,
            "#8C564B"
           ],
           [
            0.6666666666666666,
            "#E377C2"
           ],
           [
            0.7777777777777778,
            "#7F7F7F"
           ],
           [
            0.8888888888888888,
            "#BCBD22"
           ],
           [
            1,
            "#17BECF"
           ]
          ],
          "line": {
           "color": "black",
           "width": 0.25
          }
         },
         "mode": "lines",
         "name": "Not Big3",
         "showlegend": false,
         "type": "scatter",
         "x": [
          1.1139433523068367,
          1.1153676152076246,
          1.1167918781084127,
          1.1182161410092006,
          1.1196404039099885,
          1.1210646668107767,
          1.1224889297115646,
          1.1239131926123527,
          1.1253374555131406,
          1.1267617184139285,
          1.1281859813147166,
          1.1296102442155045,
          1.1310345071162924,
          1.1324587700170805,
          1.1338830329178684,
          1.1353072958186563,
          1.1367315587194444,
          1.1381558216202323,
          1.1395800845210204,
          1.1410043474218083,
          1.1424286103225962,
          1.1438528732233844,
          1.1452771361241723,
          1.1467013990249602,
          1.1481256619257483,
          1.1495499248265362,
          1.150974187727324,
          1.1523984506281122,
          1.1538227135289,
          1.1552469764296882,
          1.156671239330476,
          1.158095502231264,
          1.1595197651320521,
          1.16094402803284,
          1.162368290933628,
          1.163792553834416,
          1.165216816735204,
          1.166641079635992,
          1.16806534253678,
          1.1694896054375679,
          1.170913868338356,
          1.1723381312391439,
          1.1737623941399318,
          1.17518665704072,
          1.1766109199415078,
          1.178035182842296,
          1.1794594457430838,
          1.1808837086438717,
          1.1823079715446598,
          1.1837322344454477,
          1.1851564973462356,
          1.1865807602470237,
          1.1880050231478116,
          1.1894292860485995,
          1.1908535489493877,
          1.1922778118501756,
          1.1937020747509637,
          1.1951263376517516,
          1.1965506005525395,
          1.1979748634533276,
          1.1993991263541155,
          1.2008233892549034,
          1.2022476521556915,
          1.2036719150564794,
          1.2050961779572673,
          1.2065204408580554,
          1.2079447037588433,
          1.2093689666596315,
          1.2107932295604193,
          1.2122174924612072,
          1.2136417553619954,
          1.2150660182627833,
          1.2164902811635712,
          1.2179145440643593,
          1.2193388069651472,
          1.220763069865935,
          1.2221873327667232,
          1.223611595667511,
          1.2250358585682992,
          1.2264601214690871,
          1.227884384369875,
          1.2293086472706631,
          1.230732910171451,
          1.232157173072239,
          1.233581435973027,
          1.235005698873815,
          1.2364299617746028,
          1.237854224675391,
          1.2392784875761789,
          1.240702750476967,
          1.2421270133777549,
          1.2435512762785428,
          1.244975539179331,
          1.2463998020801188,
          1.247824064980907,
          1.2492483278816948,
          1.2506725907824827,
          1.2520968536832706,
          1.2535211165840587,
          1.2549453794848466,
          1.2563696423856348,
          1.2577939052864227,
          1.2592181681872106,
          1.2606424310879987,
          1.2620666939887866,
          1.2634909568895747,
          1.2649152197903626,
          1.2663394826911505,
          1.2677637455919384,
          1.2691880084927265,
          1.2706122713935144,
          1.2720365342943025,
          1.2734607971950904,
          1.2748850600958783,
          1.2763093229966664,
          1.2777335858974543,
          1.2791578487982422,
          1.2805821116990304,
          1.2820063745998183,
          1.2834306375006064,
          1.2848549004013943,
          1.2862791633021822,
          1.2877034262029703,
          1.2891276891037582,
          1.290551952004546,
          1.2919762149053342,
          1.293400477806122,
          1.2948247407069102,
          1.2962490036076981,
          1.297673266508486,
          1.2990975294092741,
          1.300521792310062,
          1.30194605521085,
          1.303370318111638,
          1.304794581012426,
          1.3062188439132139,
          1.307643106814002,
          1.3090673697147899,
          1.310491632615578,
          1.311915895516366,
          1.3133401584171538,
          1.314764421317942,
          1.3161886842187298,
          1.3176129471195177,
          1.3190372100203058,
          1.3204614729210937,
          1.3218857358218816,
          1.3233099987226697,
          1.3247342616234576,
          1.3261585245242458,
          1.3275827874250337,
          1.3290070503258216,
          1.3304313132266097,
          1.3318555761273976,
          1.3332798390281855,
          1.3347041019289736,
          1.3361283648297615,
          1.3375526277305494,
          1.3389768906313375,
          1.3404011535321254,
          1.3418254164329135,
          1.3432496793337014,
          1.3446739422344893,
          1.3460982051352774,
          1.3475224680360653,
          1.3489467309368532,
          1.3503709938376414,
          1.3517952567384293,
          1.3532195196392172,
          1.3546437825400053,
          1.3560680454407932,
          1.3574923083415813,
          1.3589165712423692,
          1.360340834143157,
          1.3617650970439452,
          1.3631893599447331,
          1.3646136228455212,
          1.3660378857463091,
          1.367462148647097,
          1.368886411547885,
          1.370310674448673,
          1.371734937349461,
          1.373159200250249,
          1.374583463151037,
          1.3760077260518249,
          1.377431988952613,
          1.3788562518534009,
          1.380280514754189,
          1.381704777654977,
          1.3831290405557648,
          1.3845533034565527,
          1.3859775663573408,
          1.3874018292581287,
          1.3888260921589168,
          1.3902503550597047,
          1.3916746179604926,
          1.3930988808612805,
          1.3945231437620687,
          1.3959474066628568,
          1.3973716695636447,
          1.3987959324644326,
          1.4002201953652205,
          1.4016444582660086,
          1.4030687211667967,
          1.4044929840675846,
          1.4059172469683725,
          1.4073415098691604,
          1.4087657727699485,
          1.4101900356707364,
          1.4116142985715245,
          1.4130385614723124,
          1.4144628243731003,
          1.4158870872738882,
          1.4173113501746764,
          1.4187356130754643,
          1.4201598759762524,
          1.4215841388770403,
          1.4230084017778282,
          1.4244326646786163,
          1.4258569275794042,
          1.4272811904801923,
          1.4287054533809802,
          1.430129716281768,
          1.4315539791825562,
          1.4329782420833441,
          1.434402504984132,
          1.4358267678849201,
          1.437251030785708,
          1.438675293686496,
          1.440099556587284,
          1.441523819488072,
          1.44294808238886,
          1.444372345289648,
          1.4457966081904359,
          1.447220871091224,
          1.448645133992012,
          1.4500693968927998,
          1.451493659793588,
          1.4529179226943758,
          1.4543421855951637,
          1.4557664484959518,
          1.4571907113967397,
          1.4586149742975278,
          1.4600392371983157,
          1.4614635000991036,
          1.4628877629998918,
          1.4643120259006797,
          1.4657362888014676,
          1.4671605517022557,
          1.4685848146030436,
          1.4700090775038315,
          1.4714333404046196,
          1.4728576033054075,
          1.4742818662061956,
          1.4757061291069835,
          1.4771303920077714,
          1.4785546549085595,
          1.4799789178093474,
          1.4814031807101353,
          1.4828274436109234,
          1.4842517065117113,
          1.4856759694124992,
          1.4871002323132874,
          1.4885244952140753,
          1.4899487581148634,
          1.4913730210156513,
          1.4927972839164392,
          1.4942215468172273,
          1.4956458097180152,
          1.4970700726188033,
          1.4984943355195912,
          1.4999185984203791,
          1.501342861321167,
          1.5027671242219551,
          1.504191387122743,
          1.5056156500235311,
          1.507039912924319,
          1.508464175825107,
          1.509888438725895,
          1.511312701626683,
          1.512736964527471,
          1.514161227428259,
          1.5155854903290469,
          1.5170097532298348,
          1.518434016130623,
          1.519858279031411,
          1.521282541932199,
          1.5227068048329868,
          1.5241310677337747,
          1.5255553306345628,
          1.5269795935353507,
          1.5284038564361389,
          1.5298281193369268,
          1.5312523822377146,
          1.5326766451385025,
          1.5341009080392907,
          1.5355251709400788,
          1.5369494338408667,
          1.5383736967416546,
          1.5397979596424425,
          1.5412222225432306,
          1.5426464854440185,
          1.5440707483448066,
          1.5454950112455945,
          1.5469192741463824,
          1.5483435370471703,
          1.5497677999479584,
          1.5511920628487466,
          1.5526163257495345,
          1.5540405886503224,
          1.5554648515511103,
          1.5568891144518984,
          1.5583133773526863,
          1.5597376402534744,
          1.5611619031542623,
          1.5625861660550502,
          1.5640104289558383,
          1.5654346918566262,
          1.5668589547574143,
          1.5682832176582022,
          1.5697074805589901,
          1.571131743459778,
          1.5725560063605661,
          1.573980269261354,
          1.5754045321621422,
          1.57682879506293,
          1.578253057963718,
          1.579677320864506,
          1.581101583765294,
          1.5825258466660819,
          1.58395010956687,
          1.5853743724676579,
          1.5867986353684458,
          1.588222898269234,
          1.5896471611700218,
          1.59107142407081,
          1.5924956869715978,
          1.5939199498723857,
          1.5953442127731738,
          1.5967684756739617,
          1.5981927385747496,
          1.5996170014755378,
          1.6010412643763257,
          1.6024655272771138,
          1.6038897901779017,
          1.6053140530786896,
          1.6067383159794777,
          1.6081625788802656,
          1.6095868417810535,
          1.6110111046818416,
          1.6124353675826295,
          1.6138596304834176,
          1.6152838933842055,
          1.6167081562849934,
          1.6181324191857813,
          1.6195566820865694,
          1.6209809449873573,
          1.6224052078881455,
          1.6238294707889334,
          1.6252537336897213,
          1.6266779965905094,
          1.6281022594912973,
          1.6295265223920854,
          1.6309507852928733,
          1.6323750481936612,
          1.633799311094449,
          1.6352235739952372,
          1.6366478368960253,
          1.6380720997968132,
          1.6394963626976011,
          1.640920625598389,
          1.642344888499177,
          1.643769151399965,
          1.6451934143007532,
          1.646617677201541,
          1.648041940102329,
          1.649466203003117,
          1.650890465903905,
          1.6523147288046929,
          1.653738991705481,
          1.655163254606269,
          1.6565875175070568,
          1.658011780407845,
          1.659436043308633,
          1.660860306209421,
          1.6622845691102088,
          1.6637088320109967,
          1.6651330949117846,
          1.6665573578125727,
          1.6679816207133609,
          1.6694058836141488,
          1.6708301465149367,
          1.6722544094157246,
          1.6736786723165125,
          1.6751029352173006,
          1.6765271981180887,
          1.6779514610188766,
          1.6793757239196645,
          1.6807999868204526,
          1.6822242497212407,
          1.6836485126220284,
          1.6850727755228165,
          1.6864970384236044,
          1.6879213013243923,
          1.6893455642251805,
          1.6907698271259686,
          1.6921940900267565,
          1.6936183529275444,
          1.6950426158283323,
          1.6964668787291202,
          1.6978911416299083,
          1.6993154045306964,
          1.7007396674314843,
          1.7021639303322722,
          1.70358819323306,
          1.7050124561338482,
          1.7064367190346361,
          1.7078609819354242,
          1.7092852448362121,
          1.710709507737,
          1.7121337706377882,
          1.713558033538576,
          1.7149822964393642,
          1.716406559340152,
          1.71783082224094,
          1.7192550851417279,
          1.720679348042516,
          1.722103610943304,
          1.723527873844092,
          1.72495213674488,
          1.7263763996456678,
          1.7278006625464557,
          1.7292249254472438,
          1.730649188348032,
          1.7320734512488198,
          1.7334977141496077,
          1.7349219770503956,
          1.7363462399511838,
          1.7377705028519719,
          1.7391947657527598,
          1.7406190286535477,
          1.7420432915543356,
          1.7434675544551237,
          1.7448918173559116,
          1.7463160802566997,
          1.7477403431574876,
          1.7491646060582755,
          1.7505888689590634,
          1.7520131318598515,
          1.7534373947606396,
          1.7548616576614275,
          1.7562859205622154,
          1.7577101834630033,
          1.7591344463637915,
          1.7605587092645794,
          1.7619829721653675,
          1.7634072350661554,
          1.7648314979669433,
          1.7662557608677312,
          1.7676800237685193,
          1.7691042866693074,
          1.7705285495700953,
          1.7719528124708832,
          1.773377075371671,
          1.774801338272459,
          1.7762256011732471,
          1.7776498640740352,
          1.7790741269748231,
          1.780498389875611,
          1.7819226527763992,
          1.783346915677187,
          1.784771178577975,
          1.786195441478763,
          1.787619704379551,
          1.7890439672803389,
          1.790468230181127,
          1.7918924930819151,
          1.793316755982703,
          1.794741018883491,
          1.7961652817842788,
          1.7975895446850667,
          1.7990138075858548,
          1.800438070486643,
          1.8018623333874308,
          1.8032865962882187,
          1.8047108591890066,
          1.8061351220897945,
          1.8075593849905827,
          1.8089836478913708,
          1.8104079107921587,
          1.8118321736929466,
          1.8132564365937347,
          1.8146806994945228,
          1.8161049623953105,
          1.8175292252960986,
          1.8189534881968865,
          1.8203777510976744,
          1.8218020139984625,
          1.8232262768992507,
          1.8246505398000386
         ],
         "xaxis": "x",
         "y": {
          "bdata": "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",
          "dtype": "f8"
         },
         "yaxis": "y"
        }
       ],
       "layout": {
        "barmode": "overlay",
        "height": 700,
        "hovermode": "closest",
        "legend": {
         "traceorder": "reversed"
        },
        "shapes": [
         {
          "line": {
           "color": "#1F77B4",
           "dash": "dashdot",
           "width": 3
          },
          "type": "line",
          "x0": 1.4515366202750022,
          "x1": 1.4515366202750022,
          "xref": "x",
          "y0": 0,
          "y1": 1,
          "yref": "y domain"
         },
         {
          "line": {
           "color": "#FF7F0E",
           "dash": "dashdot",
           "width": 3
          },
          "type": "line",
          "x0": 1.4649884455775863,
          "x1": 1.4649884455775863,
          "xref": "x",
          "y0": 0,
          "y1": 1,
          "yref": "y domain"
         }
        ],
        "template": {
         "data": {
          "bar": [
           {
            "error_x": {
             "color": "#2a3f5f"
            },
            "error_y": {
             "color": "#2a3f5f"
            },
            "marker": {
             "line": {
              "color": "#E5ECF6",
              "width": 0.5
             },
             "pattern": {
              "fillmode": "overlay",
              "size": 10,
              "solidity": 0.2
             }
            },
            "type": "bar"
           }
          ],
          "barpolar": [
           {
            "marker": {
             "line": {
              "color": "#E5ECF6",
              "width": 0.5
             },
             "pattern": {
              "fillmode": "overlay",
              "size": 10,
              "solidity": 0.2
             }
            },
            "type": "barpolar"
           }
          ],
          "carpet": [
           {
            "aaxis": {
             "endlinecolor": "#2a3f5f",
             "gridcolor": "white",
             "linecolor": "white",
             "minorgridcolor": "white",
             "startlinecolor": "#2a3f5f"
            },
            "baxis": {
             "endlinecolor": "#2a3f5f",
             "gridcolor": "white",
             "linecolor": "white",
             "minorgridcolor": "white",
             "startlinecolor": "#2a3f5f"
            },
            "type": "carpet"
           }
          ],
          "choropleth": [
           {
            "colorbar": {
             "outlinewidth": 0,
             "ticks": ""
            },
            "type": "choropleth"
           }
          ],
          "contour": [
           {
            "colorbar": {
             "outlinewidth": 0,
             "ticks": ""
            },
            "colorscale": [
             [
              0,
              "#0d0887"
             ],
             [
              0.1111111111111111,
              "#46039f"
             ],
             [
              0.2222222222222222,
              "#7201a8"
             ],
             [
              0.3333333333333333,
              "#9c179e"
             ],
             [
              0.4444444444444444,
              "#bd3786"
             ],
             [
              0.5555555555555556,
              "#d8576b"
             ],
             [
              0.6666666666666666,
              "#ed7953"
             ],
             [
              0.7777777777777778,
              "#fb9f3a"
             ],
             [
              0.8888888888888888,
              "#fdca26"
             ],
             [
              1,
              "#f0f921"
             ]
            ],
            "type": "contour"
           }
          ],
          "contourcarpet": [
           {
            "colorbar": {
             "outlinewidth": 0,
             "ticks": ""
            },
            "type": "contourcarpet"
           }
          ],
          "heatmap": [
           {
            "colorbar": {
             "outlinewidth": 0,
             "ticks": ""
            },
            "colorscale": [
             [
              0,
              "#0d0887"
             ],
             [
              0.1111111111111111,
              "#46039f"
             ],
             [
              0.2222222222222222,
              "#7201a8"
             ],
             [
              0.3333333333333333,
              "#9c179e"
             ],
             [
              0.4444444444444444,
              "#bd3786"
             ],
             [
              0.5555555555555556,
              "#d8576b"
             ],
             [
              0.6666666666666666,
              "#ed7953"
             ],
             [
              0.7777777777777778,
              "#fb9f3a"
             ],
             [
              0.8888888888888888,
              "#fdca26"
             ],
             [
              1,
              "#f0f921"
             ]
            ],
            "type": "heatmap"
           }
          ],
          "histogram": [
           {
            "marker": {
             "pattern": {
              "fillmode": "overlay",
              "size": 10,
              "solidity": 0.2
             }
            },
            "type": "histogram"
           }
          ],
          "histogram2d": [
           {
            "colorbar": {
             "outlinewidth": 0,
             "ticks": ""
            },
            "colorscale": [
             [
              0,
              "#0d0887"
             ],
             [
              0.1111111111111111,
              "#46039f"
             ],
             [
              0.2222222222222222,
              "#7201a8"
             ],
             [
              0.3333333333333333,
              "#9c179e"
             ],
             [
              0.4444444444444444,
              "#bd3786"
             ],
             [
              0.5555555555555556,
              "#d8576b"
             ],
             [
              0.6666666666666666,
              "#ed7953"
             ],
             [
              0.7777777777777778,
              "#fb9f3a"
             ],
             [
              0.8888888888888888,
              "#fdca26"
             ],
             [
              1,
              "#f0f921"
             ]
            ],
            "type": "histogram2d"
           }
          ],
          "histogram2dcontour": [
           {
            "colorbar": {
             "outlinewidth": 0,
             "ticks": ""
            },
            "colorscale": [
             [
              0,
              "#0d0887"
             ],
             [
              0.1111111111111111,
              "#46039f"
             ],
             [
              0.2222222222222222,
              "#7201a8"
             ],
             [
              0.3333333333333333,
              "#9c179e"
             ],
             [
              0.4444444444444444,
              "#bd3786"
             ],
             [
              0.5555555555555556,
              "#d8576b"
             ],
             [
              0.6666666666666666,
              "#ed7953"
             ],
             [
              0.7777777777777778,
              "#fb9f3a"
             ],
             [
              0.8888888888888888,
              "#fdca26"
             ],
             [
              1,
              "#f0f921"
             ]
            ],
            "type": "histogram2dcontour"
           }
          ],
          "mesh3d": [
           {
            "colorbar": {
             "outlinewidth": 0,
             "ticks": ""
            },
            "type": "mesh3d"
           }
          ],
          "parcoords": [
           {
            "line": {
             "colorbar": {
              "outlinewidth": 0,
              "ticks": ""
             }
            },
            "type": "parcoords"
           }
          ],
          "pie": [
           {
            "automargin": true,
            "type": "pie"
           }
          ],
          "scatter": [
           {
            "fillpattern": {
             "fillmode": "overlay",
             "size": 10,
             "solidity": 0.2
            },
            "type": "scatter"
           }
          ],
          "scatter3d": [
           {
            "line": {
             "colorbar": {
              "outlinewidth": 0,
              "ticks": ""
             }
            },
            "marker": {
             "colorbar": {
              "outlinewidth": 0,
              "ticks": ""
             }
            },
            "type": "scatter3d"
           }
          ],
          "scattercarpet": [
           {
            "marker": {
             "colorbar": {
              "outlinewidth": 0,
              "ticks": ""
             }
            },
            "type": "scattercarpet"
           }
          ],
          "scattergeo": [
           {
            "marker": {
             "colorbar": {
              "outlinewidth": 0,
              "ticks": ""
             }
            },
            "type": "scattergeo"
           }
          ],
          "scattergl": [
           {
            "marker": {
             "colorbar": {
              "outlinewidth": 0,
              "ticks": ""
             }
            },
            "type": "scattergl"
           }
          ],
          "scattermap": [
           {
            "marker": {
             "colorbar": {
              "outlinewidth": 0,
              "ticks": ""
             }
            },
            "type": "scattermap"
           }
          ],
          "scattermapbox": [
           {
            "marker": {
             "colorbar": {
              "outlinewidth": 0,
              "ticks": ""
             }
            },
            "type": "scattermapbox"
           }
          ],
          "scatterpolar": [
           {
            "marker": {
             "colorbar": {
              "outlinewidth": 0,
              "ticks": ""
             }
            },
            "type": "scatterpolar"
           }
          ],
          "scatterpolargl": [
           {
            "marker": {
             "colorbar": {
              "outlinewidth": 0,
              "ticks": ""
             }
            },
            "type": "scatterpolargl"
           }
          ],
          "scatterternary": [
           {
            "marker": {
             "colorbar": {
              "outlinewidth": 0,
              "ticks": ""
             }
            },
            "type": "scatterternary"
           }
          ],
          "surface": [
           {
            "colorbar": {
             "outlinewidth": 0,
             "ticks": ""
            },
            "colorscale": [
             [
              0,
              "#0d0887"
             ],
             [
              0.1111111111111111,
              "#46039f"
             ],
             [
              0.2222222222222222,
              "#7201a8"
             ],
             [
              0.3333333333333333,
              "#9c179e"
             ],
             [
              0.4444444444444444,
              "#bd3786"
             ],
             [
              0.5555555555555556,
              "#d8576b"
             ],
             [
              0.6666666666666666,
              "#ed7953"
             ],
             [
              0.7777777777777778,
              "#fb9f3a"
             ],
             [
              0.8888888888888888,
              "#fdca26"
             ],
             [
              1,
              "#f0f921"
             ]
            ],
            "type": "surface"
           }
          ],
          "table": [
           {
            "cells": {
             "fill": {
              "color": "#EBF0F8"
             },
             "line": {
              "color": "white"
             }
            },
            "header": {
             "fill": {
              "color": "#C8D4E3"
             },
             "line": {
              "color": "white"
             }
            },
            "type": "table"
           }
          ]
         },
         "layout": {
          "annotationdefaults": {
           "arrowcolor": "#2a3f5f",
           "arrowhead": 0,
           "arrowwidth": 1
          },
          "autotypenumbers": "strict",
          "coloraxis": {
           "colorbar": {
            "outlinewidth": 0,
            "ticks": ""
           }
          },
          "colorscale": {
           "diverging": [
            [
             0,
             "#8e0152"
            ],
            [
             0.1,
             "#c51b7d"
            ],
            [
             0.2,
             "#de77ae"
            ],
            [
             0.3,
             "#f1b6da"
            ],
            [
             0.4,
             "#fde0ef"
            ],
            [
             0.5,
             "#f7f7f7"
            ],
            [
             0.6,
             "#e6f5d0"
            ],
            [
             0.7,
             "#b8e186"
            ],
            [
             0.8,
             "#7fbc41"
            ],
            [
             0.9,
             "#4d9221"
            ],
            [
             1,
             "#276419"
            ]
           ],
           "sequential": [
            [
             0,
             "#0d0887"
            ],
            [
             0.1111111111111111,
             "#46039f"
            ],
            [
             0.2222222222222222,
             "#7201a8"
            ],
            [
             0.3333333333333333,
             "#9c179e"
            ],
            [
             0.4444444444444444,
             "#bd3786"
            ],
            [
             0.5555555555555556,
             "#d8576b"
            ],
            [
             0.6666666666666666,
             "#ed7953"
            ],
            [
             0.7777777777777778,
             "#fb9f3a"
            ],
            [
             0.8888888888888888,
             "#fdca26"
            ],
            [
             1,
             "#f0f921"
            ]
           ],
           "sequentialminus": [
            [
             0,
             "#0d0887"
            ],
            [
             0.1111111111111111,
             "#46039f"
            ],
            [
             0.2222222222222222,
             "#7201a8"
            ],
            [
             0.3333333333333333,
             "#9c179e"
            ],
            [
             0.4444444444444444,
             "#bd3786"
            ],
            [
             0.5555555555555556,
             "#d8576b"
            ],
            [
             0.6666666666666666,
             "#ed7953"
            ],
            [
             0.7777777777777778,
             "#fb9f3a"
            ],
            [
             0.8888888888888888,
             "#fdca26"
            ],
            [
             1,
             "#f0f921"
            ]
           ]
          },
          "colorway": [
           "#636efa",
           "#EF553B",
           "#00cc96",
           "#ab63fa",
           "#FFA15A",
           "#19d3f3",
           "#FF6692",
           "#B6E880",
           "#FF97FF",
           "#FECB52"
          ],
          "font": {
           "color": "#2a3f5f"
          },
          "geo": {
           "bgcolor": "white",
           "lakecolor": "white",
           "landcolor": "#E5ECF6",
           "showlakes": true,
           "showland": true,
           "subunitcolor": "white"
          },
          "hoverlabel": {
           "align": "left"
          },
          "hovermode": "closest",
          "mapbox": {
           "style": "light"
          },
          "paper_bgcolor": "white",
          "plot_bgcolor": "#E5ECF6",
          "polar": {
           "angularaxis": {
            "gridcolor": "white",
            "linecolor": "white",
            "ticks": ""
           },
           "bgcolor": "#E5ECF6",
           "radialaxis": {
            "gridcolor": "white",
            "linecolor": "white",
            "ticks": ""
           }
          },
          "scene": {
           "xaxis": {
            "backgroundcolor": "#E5ECF6",
            "gridcolor": "white",
            "gridwidth": 2,
            "linecolor": "white",
            "showbackground": true,
            "ticks": "",
            "zerolinecolor": "white"
           },
           "yaxis": {
            "backgroundcolor": "#E5ECF6",
            "gridcolor": "white",
            "gridwidth": 2,
            "linecolor": "white",
            "showbackground": true,
            "ticks": "",
            "zerolinecolor": "white"
           },
           "zaxis": {
            "backgroundcolor": "#E5ECF6",
            "gridcolor": "white",
            "gridwidth": 2,
            "linecolor": "white",
            "showbackground": true,
            "ticks": "",
            "zerolinecolor": "white"
           }
          },
          "shapedefaults": {
           "line": {
            "color": "#2a3f5f"
           }
          },
          "ternary": {
           "aaxis": {
            "gridcolor": "white",
            "linecolor": "white",
            "ticks": ""
           },
           "baxis": {
            "gridcolor": "white",
            "linecolor": "white",
            "ticks": ""
           },
           "bgcolor": "#E5ECF6",
           "caxis": {
            "gridcolor": "white",
            "linecolor": "white",
            "ticks": ""
           }
          },
          "title": {
           "x": 0.05
          },
          "xaxis": {
           "automargin": true,
           "gridcolor": "white",
           "linecolor": "white",
           "ticks": "",
           "title": {
            "standoff": 15
           },
           "zerolinecolor": "white",
           "zerolinewidth": 2
          },
          "yaxis": {
           "automargin": true,
           "gridcolor": "white",
           "linecolor": "white",
           "ticks": "",
           "title": {
            "standoff": 15
           },
           "zerolinecolor": "white",
           "zerolinewidth": 2
          }
         }
        },
        "title": {
         "text": "Big3 vs Others fuel consumption T-test results: <br>\n<sup>stat : -0.873 | T-crit(0.95) : 1.652 & pvalue : 0.38382</sup>"
        },
        "xaxis": {
         "anchor": "y2",
         "domain": [
          0,
          1
         ],
         "zeroline": false
        },
        "yaxis": {
         "anchor": "free",
         "domain": [
          0,
          1
         ],
         "position": 0
        }
       }
      }
     },
     "metadata": {},
     "output_type": "display_data"
    }
   ],
   "source": [
    "big3 = auto_df[auto_df.make.isin(['buick', 'cadillac', 'chevrolet', 'chrysler', 'dodge', 'ford',  'gmc', 'jeep', 'lincoln'])]\n",
    "not_big3 = auto_df[auto_df.make.isin([m for m in auto_df.make.unique().tolist() if m not in ('buick', 'cadillac', 'chevrolet', 'chrysler', 'dodge', 'ford',  'gmc', 'jeep', 'lincoln')])]\n",
    "fig, results = compare_samples(big3,not_big3,labels=['Big3','Not Big3'],bin_size=.01)\n",
    "fig.update_layout(\n",
    "    title=f\"\"\"Big3 vs Others fuel consumption T-test results: <br>\n",
    "<sup>stat : {results.statistic:0.3f} | T-crit(0.95) : {scipy.stats.t.ppf(0.95, results.df):0.3f} & pvalue : {results.pvalue:0.5f}</sup>\"\"\",\n",
    "    height=700,\n",
    ")\n",
    "fig.show()"
   ]
  },
  {
   "cell_type": "markdown",
   "metadata": {},
   "source": [
    "> #### Big3 vs Others conclusions\n",
    "> \n",
    "> While the distribution of samples is more concentrated amongst the US Big3 automakers, the differences between means is __not enough__ to reject the null hypothesis that there is no difference between these groups.\n",
    "> \n",
    "> So we _accept the null hypothesis_"
   ]
  },
  {
   "cell_type": "markdown",
   "metadata": {},
   "source": [
    "> ### Our hypotheses for the gearless vs geared comparison:\n",
    ">\n",
    "> $H_0$ : The mean fuel consumption of the gearless vehicles is not different then geared vehicles.\n",
    ">\n",
    "> $H_A$ : The mean fuel consumption of the gearless vehicles is significantly different then geared vehicles."
   ]
  },
  {
   "cell_type": "code",
   "execution_count": 10,
   "metadata": {},
   "outputs": [
    {
     "data": {
      "application/vnd.plotly.v1+json": {
       "config": {
        "plotlyServerURL": "https://plot.ly"
       },
       "data": [
        {
         "autobinx": false,
         "histnorm": "probability density",
         "legendgroup": "1 Gear",
         "marker": {
          "color": "rgb(31, 119, 180)",
          "colorscale": [
           [
            0,
            "#1F77B4"
           ],
           [
            0.1111111111111111,
            "#FF7F0E"
           ],
           [
            0.2222222222222222,
            "#2CA02C"
           ],
           [
            0.3333333333333333,
            "#D62728"
           ],
           [
            0.4444444444444444,
            "#9467BD"
           ],
           [
            0.5555555555555556,
            "#8C564B"
           ],
           [
            0.6666666666666666,
            "#E377C2"
           ],
           [
            0.7777777777777778,
            "#7F7F7F"
           ],
           [
            0.8888888888888888,
            "#BCBD22"
           ],
           [
            1,
            "#17BECF"
           ]
          ],
          "line": {
           "color": "black",
           "width": 0.25
          }
         },
         "name": "1 Gear",
         "opacity": 0.7,
         "type": "histogram",
         "x": {
          "bdata": "kJ8jKstG+T//vE+oCaL5P/6nd3Od5vg/zgdQKQB1+T+AYOawWhf5P/6nd3Od5vg/kJ8jKstG+T+QnyMqy0b5Px86eD/U+Pk//qd3c53m+D//18P0p5r6P/6nd3Od5vg/zgdQKQB1+T//vE+oCaL5Px86eD/U+Pk//7xPqAmi+T8eUeRQGcr8P/UwvNGvIvo//9fD9Kea+j8=",
          "dtype": "f8"
         },
         "xaxis": "x",
         "xbins": {
          "end": 1.7993405494535817,
          "size": 0.01,
          "start": 1.5563025007672873
         },
         "yaxis": "y"
        },
        {
         "autobinx": false,
         "histnorm": "probability density",
         "legendgroup": ">1 Gear",
         "marker": {
          "color": "rgb(255, 127, 14)",
          "colorscale": [
           [
            0,
            "#1F77B4"
           ],
           [
            0.1111111111111111,
            "#FF7F0E"
           ],
           [
            0.2222222222222222,
            "#2CA02C"
           ],
           [
            0.3333333333333333,
            "#D62728"
           ],
           [
            0.4444444444444444,
            "#9467BD"
           ],
           [
            0.5555555555555556,
            "#8C564B"
           ],
           [
            0.6666666666666666,
            "#E377C2"
           ],
           [
            0.7777777777777778,
            "#7F7F7F"
           ],
           [
            0.8888888888888888,
            "#BCBD22"
           ],
           [
            1,
            "#17BECF"
           ]
          ],
          "line": {
           "color": "black",
           "width": 0.25
          }
         },
         "name": ">1 Gear",
         "opacity": 0.7,
         "type": "histogram",
         "x": {
          "bdata": "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",
          "dtype": "f8"
         },
         "xaxis": "x",
         "xbins": {
          "end": 1.8260748027008264,
          "size": 0.01,
          "start": 1.1139433523068367
         },
         "yaxis": "y"
        },
        {
         "legendgroup": "1 Gear",
         "marker": {
          "color": "rgb(31, 119, 180)",
          "colorscale": [
           [
            0,
            "#1F77B4"
           ],
           [
            0.1111111111111111,
            "#FF7F0E"
           ],
           [
            0.2222222222222222,
            "#2CA02C"
           ],
           [
            0.3333333333333333,
            "#D62728"
           ],
           [
            0.4444444444444444,
            "#9467BD"
           ],
           [
            0.5555555555555556,
            "#8C564B"
           ],
           [
            0.6666666666666666,
            "#E377C2"
           ],
           [
            0.7777777777777778,
            "#7F7F7F"
           ],
           [
            0.8888888888888888,
            "#BCBD22"
           ],
           [
            1,
            "#17BECF"
           ]
          ],
          "line": {
           "color": "black",
           "width": 0.25
          }
         },
         "mode": "lines",
         "name": "1 Gear",
         "showlegend": false,
         "type": "scatter",
         "x": [
          1.5563025007672873,
          1.5567885768646599,
          1.5572746529620325,
          1.557760729059405,
          1.5582468051567777,
          1.55873288125415,
          1.5592189573515227,
          1.5597050334488953,
          1.560191109546268,
          1.5606771856436406,
          1.5611632617410132,
          1.5616493378383858,
          1.5621354139357584,
          1.562621490033131,
          1.5631075661305036,
          1.563593642227876,
          1.5640797183252486,
          1.5645657944226212,
          1.5650518705199938,
          1.5655379466173664,
          1.566024022714739,
          1.5665100988121117,
          1.5669961749094843,
          1.567482251006857,
          1.5679683271042295,
          1.568454403201602,
          1.5689404792989745,
          1.5694265553963471,
          1.5699126314937197,
          1.5703987075910923,
          1.570884783688465,
          1.5713708597858376,
          1.5718569358832102,
          1.5723430119805828,
          1.5728290880779552,
          1.5733151641753278,
          1.5738012402727004,
          1.574287316370073,
          1.5747733924674456,
          1.5752594685648182,
          1.5757455446621909,
          1.5762316207595635,
          1.576717696856936,
          1.5772037729543087,
          1.577689849051681,
          1.5781759251490537,
          1.5786620012464263,
          1.579148077343799,
          1.5796341534411715,
          1.5801202295385441,
          1.5806063056359168,
          1.5810923817332894,
          1.581578457830662,
          1.5820645339280344,
          1.582550610025407,
          1.5830366861227796,
          1.5835227622201522,
          1.5840088383175248,
          1.5844949144148974,
          1.58498099051227,
          1.5854670666096427,
          1.5859531427070153,
          1.5864392188043879,
          1.5869252949017603,
          1.5874113709991329,
          1.5878974470965055,
          1.588383523193878,
          1.5888695992912507,
          1.5893556753886233,
          1.589841751485996,
          1.5903278275833685,
          1.5908139036807412,
          1.5912999797781135,
          1.5917860558754862,
          1.5922721319728588,
          1.5927582080702314,
          1.593244284167604,
          1.5937303602649766,
          1.5942164363623492,
          1.5947025124597218,
          1.5951885885570944,
          1.595674664654467,
          1.5961607407518394,
          1.596646816849212,
          1.5971328929465847,
          1.5976189690439573,
          1.59810504514133,
          1.5985911212387025,
          1.5990771973360751,
          1.5995632734334477,
          1.6000493495308203,
          1.600535425628193,
          1.6010215017255653,
          1.601507577822938,
          1.6019936539203106,
          1.6024797300176832,
          1.6029658061150558,
          1.6034518822124284,
          1.603937958309801,
          1.6044240344071736,
          1.6049101105045462,
          1.6053961866019186,
          1.6058822626992912,
          1.6063683387966639,
          1.6068544148940365,
          1.607340490991409,
          1.6078265670887817,
          1.6083126431861543,
          1.608798719283527,
          1.6092847953808995,
          1.6097708714782721,
          1.6102569475756445,
          1.6107430236730171,
          1.6112290997703897,
          1.6117151758677624,
          1.612201251965135,
          1.6126873280625076,
          1.6131734041598802,
          1.6136594802572528,
          1.6141455563546254,
          1.614631632451998,
          1.6151177085493704,
          1.615603784646743,
          1.6160898607441156,
          1.6165759368414883,
          1.6170620129388609,
          1.6175480890362335,
          1.618034165133606,
          1.6185202412309787,
          1.6190063173283513,
          1.6194923934257237,
          1.6199784695230963,
          1.620464545620469,
          1.6209506217178415,
          1.6214366978152142,
          1.6219227739125868,
          1.6224088500099594,
          1.622894926107332,
          1.6233810022047046,
          1.6238670783020772,
          1.6243531543994496,
          1.6248392304968222,
          1.6253253065941948,
          1.6258113826915674,
          1.62629745878894,
          1.6267835348863127,
          1.6272696109836853,
          1.627755687081058,
          1.6282417631784305,
          1.6287278392758031,
          1.6292139153731755,
          1.6296999914705481,
          1.6301860675679207,
          1.6306721436652933,
          1.631158219762666,
          1.6316442958600386,
          1.6321303719574112,
          1.6326164480547838,
          1.6331025241521564,
          1.6335886002495288,
          1.6340746763469014,
          1.634560752444274,
          1.6350468285416466,
          1.6355329046390192,
          1.6360189807363918,
          1.6365050568337645,
          1.636991132931137,
          1.6374772090285097,
          1.637963285125882,
          1.6384493612232547,
          1.6389354373206273,
          1.639421513418,
          1.6399075895153725,
          1.6403936656127451,
          1.6408797417101177,
          1.6413658178074904,
          1.641851893904863,
          1.6423379700022356,
          1.6428240460996082,
          1.6433101221969806,
          1.6437961982943532,
          1.6442822743917258,
          1.6447683504890984,
          1.645254426586471,
          1.6457405026838436,
          1.6462265787812163,
          1.6467126548785889,
          1.6471987309759615,
          1.6476848070733339,
          1.6481708831707065,
          1.648656959268079,
          1.6491430353654517,
          1.6496291114628243,
          1.650115187560197,
          1.6506012636575695,
          1.6510873397549422,
          1.6515734158523148,
          1.6520594919496872,
          1.6525455680470598,
          1.6530316441444324,
          1.653517720241805,
          1.6540037963391776,
          1.6544898724365502,
          1.6549759485339228,
          1.6554620246312954,
          1.655948100728668,
          1.6564341768260407,
          1.6569202529234133,
          1.6574063290207857,
          1.6578924051181583,
          1.6583784812155309,
          1.6588645573129035,
          1.659350633410276,
          1.6598367095076487,
          1.6603227856050213,
          1.660808861702394,
          1.6612949377997666,
          1.661781013897139,
          1.6622670899945116,
          1.6627531660918842,
          1.6632392421892568,
          1.6637253182866294,
          1.664211394384002,
          1.6646974704813746,
          1.6651835465787472,
          1.6656696226761198,
          1.6661556987734922,
          1.6666417748708648,
          1.6671278509682375,
          1.66761392706561,
          1.6681000031629827,
          1.6685860792603553,
          1.669072155357728,
          1.6695582314551005,
          1.6700443075524731,
          1.6705303836498457,
          1.6710164597472181,
          1.6715025358445907,
          1.6719886119419634,
          1.672474688039336,
          1.6729607641367086,
          1.6734468402340812,
          1.6739329163314538,
          1.6744189924288264,
          1.674905068526199,
          1.6753911446235716,
          1.675877220720944,
          1.6763632968183166,
          1.6768493729156893,
          1.6773354490130619,
          1.6778215251104345,
          1.678307601207807,
          1.6787936773051797,
          1.6792797534025523,
          1.679765829499925,
          1.6802519055972973,
          1.68073798169467,
          1.6812240577920425,
          1.6817101338894151,
          1.6821962099867878,
          1.6826822860841604,
          1.683168362181533,
          1.6836544382789056,
          1.6841405143762782,
          1.6846265904736506,
          1.6851126665710232,
          1.6855987426683958,
          1.6860848187657684,
          1.686570894863141,
          1.6870569709605137,
          1.6875430470578863,
          1.6880291231552589,
          1.6885151992526315,
          1.6890012753500039,
          1.6894873514473767,
          1.689973427544749,
          1.6904595036421217,
          1.6909455797394943,
          1.691431655836867,
          1.6919177319342396,
          1.6924038080316122,
          1.6928898841289848,
          1.6933759602263574,
          1.69386203632373,
          1.6943481124211024,
          1.694834188518475,
          1.6953202646158476,
          1.6958063407132202,
          1.6962924168105928,
          1.6967784929079655,
          1.697264569005338,
          1.6977506451027107,
          1.6982367212000833,
          1.6987227972974557,
          1.6992088733948283,
          1.699694949492201,
          1.7001810255895735,
          1.7006671016869461,
          1.7011531777843187,
          1.7016392538816913,
          1.702125329979064,
          1.7026114060764366,
          1.7030974821738092,
          1.7035835582711818,
          1.7040696343685542,
          1.7045557104659268,
          1.7050417865632994,
          1.705527862660672,
          1.7060139387580446,
          1.7065000148554172,
          1.7069860909527899,
          1.7074721670501625,
          1.707958243147535,
          1.7084443192449075,
          1.70893039534228,
          1.7094164714396527,
          1.7099025475370253,
          1.710388623634398,
          1.7108746997317705,
          1.7113607758291431,
          1.7118468519265158,
          1.7123329280238884,
          1.7128190041212608,
          1.7133050802186336,
          1.713791156316006,
          1.7142772324133786,
          1.7147633085107512,
          1.7152493846081238,
          1.7157354607054964,
          1.716221536802869,
          1.7167076129002417,
          1.7171936889976143,
          1.7176797650949869,
          1.7181658411923593,
          1.7186519172897319,
          1.7191379933871045,
          1.719624069484477,
          1.7201101455818497,
          1.7205962216792223,
          1.721082297776595,
          1.7215683738739676,
          1.7220544499713402,
          1.7225405260687126,
          1.7230266021660852,
          1.7235126782634578,
          1.7239987543608304,
          1.724484830458203,
          1.7249709065555756,
          1.7254569826529482,
          1.7259430587503208,
          1.7264291348476934,
          1.7269152109450658,
          1.7274012870424384,
          1.727887363139811,
          1.7283734392371837,
          1.7288595153345563,
          1.729345591431929,
          1.7298316675293015,
          1.7303177436266741,
          1.7308038197240467,
          1.7312898958214191,
          1.7317759719187917,
          1.7322620480161643,
          1.732748124113537,
          1.7332342002109096,
          1.7337202763082822,
          1.7342063524056548,
          1.7346924285030274,
          1.7351785046004,
          1.7356645806977724,
          1.7361506567951452,
          1.7366367328925176,
          1.7371228089898902,
          1.7376088850872629,
          1.7380949611846355,
          1.738581037282008,
          1.7390671133793807,
          1.7395531894767533,
          1.740039265574126,
          1.7405253416714985,
          1.741011417768871,
          1.7414974938662435,
          1.7419835699636161,
          1.7424696460609888,
          1.7429557221583614,
          1.743441798255734,
          1.7439278743531066,
          1.7444139504504792,
          1.7449000265478518,
          1.7453861026452242,
          1.745872178742597,
          1.7463582548399694,
          1.746844330937342,
          1.7473304070347146,
          1.7478164831320873,
          1.7483025592294599,
          1.7487886353268325,
          1.749274711424205,
          1.7497607875215777,
          1.7502468636189503,
          1.7507329397163227,
          1.7512190158136953,
          1.751705091911068,
          1.7521911680084405,
          1.7526772441058132,
          1.7531633202031858,
          1.7536493963005584,
          1.754135472397931,
          1.7546215484953036,
          1.755107624592676,
          1.7555937006900486,
          1.7560797767874212,
          1.7565658528847938,
          1.7570519289821664,
          1.757538005079539,
          1.7580240811769117,
          1.7585101572742843,
          1.758996233371657,
          1.7594823094690293,
          1.7599683855664021,
          1.7604544616637745,
          1.7609405377611471,
          1.7614266138585197,
          1.7619126899558923,
          1.762398766053265,
          1.7628848421506376,
          1.7633709182480102,
          1.7638569943453828,
          1.7643430704427554,
          1.7648291465401278,
          1.7653152226375004,
          1.765801298734873,
          1.7662873748322456,
          1.7667734509296182,
          1.7672595270269909,
          1.7677456031243635,
          1.768231679221736,
          1.7687177553191087,
          1.769203831416481,
          1.7696899075138537,
          1.7701759836112263,
          1.770662059708599,
          1.7711481358059715,
          1.7716342119033441,
          1.7721202880007167,
          1.7726063640980894,
          1.773092440195462,
          1.7735785162928346,
          1.774064592390207,
          1.7745506684875796,
          1.7750367445849522,
          1.7755228206823248,
          1.7760088967796974,
          1.77649497287707,
          1.7769810489744426,
          1.7774671250718153,
          1.7779532011691879,
          1.7784392772665603,
          1.7789253533639329,
          1.7794114294613055,
          1.779897505558678,
          1.7803835816560507,
          1.7808696577534233,
          1.781355733850796,
          1.7818418099481685,
          1.7823278860455412,
          1.7828139621429138,
          1.7833000382402862,
          1.7837861143376588,
          1.7842721904350314,
          1.784758266532404,
          1.7852443426297766,
          1.7857304187271492,
          1.7862164948245218,
          1.7867025709218944,
          1.787188647019267,
          1.7876747231166394,
          1.788160799214012,
          1.7886468753113847,
          1.7891329514087573,
          1.78961902750613,
          1.7901051036035025,
          1.7905911797008751,
          1.7910772557982477,
          1.7915633318956203,
          1.7920494079929927,
          1.7925354840903656,
          1.793021560187738,
          1.7935076362851106,
          1.7939937123824832,
          1.7944797884798558,
          1.7949658645772284,
          1.795451940674601,
          1.7959380167719736,
          1.7964240928693462,
          1.7969101689667188,
          1.7973962450640912,
          1.7978823211614638,
          1.7983683972588365,
          1.798854473356209
         ],
         "xaxis": "x",
         "y": {
          "bdata": "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",
          "dtype": "f8"
         },
         "yaxis": "y"
        },
        {
         "legendgroup": ">1 Gear",
         "marker": {
          "color": "rgb(255, 127, 14)",
          "colorscale": [
           [
            0,
            "#1F77B4"
           ],
           [
            0.1111111111111111,
            "#FF7F0E"
           ],
           [
            0.2222222222222222,
            "#2CA02C"
           ],
           [
            0.3333333333333333,
            "#D62728"
           ],
           [
            0.4444444444444444,
            "#9467BD"
           ],
           [
            0.5555555555555556,
            "#8C564B"
           ],
           [
            0.6666666666666666,
            "#E377C2"
           ],
           [
            0.7777777777777778,
            "#7F7F7F"
           ],
           [
            0.8888888888888888,
            "#BCBD22"
           ],
           [
            1,
            "#17BECF"
           ]
          ],
          "line": {
           "color": "black",
           "width": 0.25
          }
         },
         "mode": "lines",
         "name": ">1 Gear",
         "showlegend": false,
         "type": "scatter",
         "x": [
          1.1139433523068367,
          1.1153676152076246,
          1.1167918781084127,
          1.1182161410092006,
          1.1196404039099885,
          1.1210646668107767,
          1.1224889297115646,
          1.1239131926123527,
          1.1253374555131406,
          1.1267617184139285,
          1.1281859813147166,
          1.1296102442155045,
          1.1310345071162924,
          1.1324587700170805,
          1.1338830329178684,
          1.1353072958186563,
          1.1367315587194444,
          1.1381558216202323,
          1.1395800845210204,
          1.1410043474218083,
          1.1424286103225962,
          1.1438528732233844,
          1.1452771361241723,
          1.1467013990249602,
          1.1481256619257483,
          1.1495499248265362,
          1.150974187727324,
          1.1523984506281122,
          1.1538227135289,
          1.1552469764296882,
          1.156671239330476,
          1.158095502231264,
          1.1595197651320521,
          1.16094402803284,
          1.162368290933628,
          1.163792553834416,
          1.165216816735204,
          1.166641079635992,
          1.16806534253678,
          1.1694896054375679,
          1.170913868338356,
          1.1723381312391439,
          1.1737623941399318,
          1.17518665704072,
          1.1766109199415078,
          1.178035182842296,
          1.1794594457430838,
          1.1808837086438717,
          1.1823079715446598,
          1.1837322344454477,
          1.1851564973462356,
          1.1865807602470237,
          1.1880050231478116,
          1.1894292860485995,
          1.1908535489493877,
          1.1922778118501756,
          1.1937020747509637,
          1.1951263376517516,
          1.1965506005525395,
          1.1979748634533276,
          1.1993991263541155,
          1.2008233892549034,
          1.2022476521556915,
          1.2036719150564794,
          1.2050961779572673,
          1.2065204408580554,
          1.2079447037588433,
          1.2093689666596315,
          1.2107932295604193,
          1.2122174924612072,
          1.2136417553619954,
          1.2150660182627833,
          1.2164902811635712,
          1.2179145440643593,
          1.2193388069651472,
          1.220763069865935,
          1.2221873327667232,
          1.223611595667511,
          1.2250358585682992,
          1.2264601214690871,
          1.227884384369875,
          1.2293086472706631,
          1.230732910171451,
          1.232157173072239,
          1.233581435973027,
          1.235005698873815,
          1.2364299617746028,
          1.237854224675391,
          1.2392784875761789,
          1.240702750476967,
          1.2421270133777549,
          1.2435512762785428,
          1.244975539179331,
          1.2463998020801188,
          1.247824064980907,
          1.2492483278816948,
          1.2506725907824827,
          1.2520968536832706,
          1.2535211165840587,
          1.2549453794848466,
          1.2563696423856348,
          1.2577939052864227,
          1.2592181681872106,
          1.2606424310879987,
          1.2620666939887866,
          1.2634909568895747,
          1.2649152197903626,
          1.2663394826911505,
          1.2677637455919384,
          1.2691880084927265,
          1.2706122713935144,
          1.2720365342943025,
          1.2734607971950904,
          1.2748850600958783,
          1.2763093229966664,
          1.2777335858974543,
          1.2791578487982422,
          1.2805821116990304,
          1.2820063745998183,
          1.2834306375006064,
          1.2848549004013943,
          1.2862791633021822,
          1.2877034262029703,
          1.2891276891037582,
          1.290551952004546,
          1.2919762149053342,
          1.293400477806122,
          1.2948247407069102,
          1.2962490036076981,
          1.297673266508486,
          1.2990975294092741,
          1.300521792310062,
          1.30194605521085,
          1.303370318111638,
          1.304794581012426,
          1.3062188439132139,
          1.307643106814002,
          1.3090673697147899,
          1.310491632615578,
          1.311915895516366,
          1.3133401584171538,
          1.314764421317942,
          1.3161886842187298,
          1.3176129471195177,
          1.3190372100203058,
          1.3204614729210937,
          1.3218857358218816,
          1.3233099987226697,
          1.3247342616234576,
          1.3261585245242458,
          1.3275827874250337,
          1.3290070503258216,
          1.3304313132266097,
          1.3318555761273976,
          1.3332798390281855,
          1.3347041019289736,
          1.3361283648297615,
          1.3375526277305494,
          1.3389768906313375,
          1.3404011535321254,
          1.3418254164329135,
          1.3432496793337014,
          1.3446739422344893,
          1.3460982051352774,
          1.3475224680360653,
          1.3489467309368532,
          1.3503709938376414,
          1.3517952567384293,
          1.3532195196392172,
          1.3546437825400053,
          1.3560680454407932,
          1.3574923083415813,
          1.3589165712423692,
          1.360340834143157,
          1.3617650970439452,
          1.3631893599447331,
          1.3646136228455212,
          1.3660378857463091,
          1.367462148647097,
          1.368886411547885,
          1.370310674448673,
          1.371734937349461,
          1.373159200250249,
          1.374583463151037,
          1.3760077260518249,
          1.377431988952613,
          1.3788562518534009,
          1.380280514754189,
          1.381704777654977,
          1.3831290405557648,
          1.3845533034565527,
          1.3859775663573408,
          1.3874018292581287,
          1.3888260921589168,
          1.3902503550597047,
          1.3916746179604926,
          1.3930988808612805,
          1.3945231437620687,
          1.3959474066628568,
          1.3973716695636447,
          1.3987959324644326,
          1.4002201953652205,
          1.4016444582660086,
          1.4030687211667967,
          1.4044929840675846,
          1.4059172469683725,
          1.4073415098691604,
          1.4087657727699485,
          1.4101900356707364,
          1.4116142985715245,
          1.4130385614723124,
          1.4144628243731003,
          1.4158870872738882,
          1.4173113501746764,
          1.4187356130754643,
          1.4201598759762524,
          1.4215841388770403,
          1.4230084017778282,
          1.4244326646786163,
          1.4258569275794042,
          1.4272811904801923,
          1.4287054533809802,
          1.430129716281768,
          1.4315539791825562,
          1.4329782420833441,
          1.434402504984132,
          1.4358267678849201,
          1.437251030785708,
          1.438675293686496,
          1.440099556587284,
          1.441523819488072,
          1.44294808238886,
          1.444372345289648,
          1.4457966081904359,
          1.447220871091224,
          1.448645133992012,
          1.4500693968927998,
          1.451493659793588,
          1.4529179226943758,
          1.4543421855951637,
          1.4557664484959518,
          1.4571907113967397,
          1.4586149742975278,
          1.4600392371983157,
          1.4614635000991036,
          1.4628877629998918,
          1.4643120259006797,
          1.4657362888014676,
          1.4671605517022557,
          1.4685848146030436,
          1.4700090775038315,
          1.4714333404046196,
          1.4728576033054075,
          1.4742818662061956,
          1.4757061291069835,
          1.4771303920077714,
          1.4785546549085595,
          1.4799789178093474,
          1.4814031807101353,
          1.4828274436109234,
          1.4842517065117113,
          1.4856759694124992,
          1.4871002323132874,
          1.4885244952140753,
          1.4899487581148634,
          1.4913730210156513,
          1.4927972839164392,
          1.4942215468172273,
          1.4956458097180152,
          1.4970700726188033,
          1.4984943355195912,
          1.4999185984203791,
          1.501342861321167,
          1.5027671242219551,
          1.504191387122743,
          1.5056156500235311,
          1.507039912924319,
          1.508464175825107,
          1.509888438725895,
          1.511312701626683,
          1.512736964527471,
          1.514161227428259,
          1.5155854903290469,
          1.5170097532298348,
          1.518434016130623,
          1.519858279031411,
          1.521282541932199,
          1.5227068048329868,
          1.5241310677337747,
          1.5255553306345628,
          1.5269795935353507,
          1.5284038564361389,
          1.5298281193369268,
          1.5312523822377146,
          1.5326766451385025,
          1.5341009080392907,
          1.5355251709400788,
          1.5369494338408667,
          1.5383736967416546,
          1.5397979596424425,
          1.5412222225432306,
          1.5426464854440185,
          1.5440707483448066,
          1.5454950112455945,
          1.5469192741463824,
          1.5483435370471703,
          1.5497677999479584,
          1.5511920628487466,
          1.5526163257495345,
          1.5540405886503224,
          1.5554648515511103,
          1.5568891144518984,
          1.5583133773526863,
          1.5597376402534744,
          1.5611619031542623,
          1.5625861660550502,
          1.5640104289558383,
          1.5654346918566262,
          1.5668589547574143,
          1.5682832176582022,
          1.5697074805589901,
          1.571131743459778,
          1.5725560063605661,
          1.573980269261354,
          1.5754045321621422,
          1.57682879506293,
          1.578253057963718,
          1.579677320864506,
          1.581101583765294,
          1.5825258466660819,
          1.58395010956687,
          1.5853743724676579,
          1.5867986353684458,
          1.588222898269234,
          1.5896471611700218,
          1.59107142407081,
          1.5924956869715978,
          1.5939199498723857,
          1.5953442127731738,
          1.5967684756739617,
          1.5981927385747496,
          1.5996170014755378,
          1.6010412643763257,
          1.6024655272771138,
          1.6038897901779017,
          1.6053140530786896,
          1.6067383159794777,
          1.6081625788802656,
          1.6095868417810535,
          1.6110111046818416,
          1.6124353675826295,
          1.6138596304834176,
          1.6152838933842055,
          1.6167081562849934,
          1.6181324191857813,
          1.6195566820865694,
          1.6209809449873573,
          1.6224052078881455,
          1.6238294707889334,
          1.6252537336897213,
          1.6266779965905094,
          1.6281022594912973,
          1.6295265223920854,
          1.6309507852928733,
          1.6323750481936612,
          1.633799311094449,
          1.6352235739952372,
          1.6366478368960253,
          1.6380720997968132,
          1.6394963626976011,
          1.640920625598389,
          1.642344888499177,
          1.643769151399965,
          1.6451934143007532,
          1.646617677201541,
          1.648041940102329,
          1.649466203003117,
          1.650890465903905,
          1.6523147288046929,
          1.653738991705481,
          1.655163254606269,
          1.6565875175070568,
          1.658011780407845,
          1.659436043308633,
          1.660860306209421,
          1.6622845691102088,
          1.6637088320109967,
          1.6651330949117846,
          1.6665573578125727,
          1.6679816207133609,
          1.6694058836141488,
          1.6708301465149367,
          1.6722544094157246,
          1.6736786723165125,
          1.6751029352173006,
          1.6765271981180887,
          1.6779514610188766,
          1.6793757239196645,
          1.6807999868204526,
          1.6822242497212407,
          1.6836485126220284,
          1.6850727755228165,
          1.6864970384236044,
          1.6879213013243923,
          1.6893455642251805,
          1.6907698271259686,
          1.6921940900267565,
          1.6936183529275444,
          1.6950426158283323,
          1.6964668787291202,
          1.6978911416299083,
          1.6993154045306964,
          1.7007396674314843,
          1.7021639303322722,
          1.70358819323306,
          1.7050124561338482,
          1.7064367190346361,
          1.7078609819354242,
          1.7092852448362121,
          1.710709507737,
          1.7121337706377882,
          1.713558033538576,
          1.7149822964393642,
          1.716406559340152,
          1.71783082224094,
          1.7192550851417279,
          1.720679348042516,
          1.722103610943304,
          1.723527873844092,
          1.72495213674488,
          1.7263763996456678,
          1.7278006625464557,
          1.7292249254472438,
          1.730649188348032,
          1.7320734512488198,
          1.7334977141496077,
          1.7349219770503956,
          1.7363462399511838,
          1.7377705028519719,
          1.7391947657527598,
          1.7406190286535477,
          1.7420432915543356,
          1.7434675544551237,
          1.7448918173559116,
          1.7463160802566997,
          1.7477403431574876,
          1.7491646060582755,
          1.7505888689590634,
          1.7520131318598515,
          1.7534373947606396,
          1.7548616576614275,
          1.7562859205622154,
          1.7577101834630033,
          1.7591344463637915,
          1.7605587092645794,
          1.7619829721653675,
          1.7634072350661554,
          1.7648314979669433,
          1.7662557608677312,
          1.7676800237685193,
          1.7691042866693074,
          1.7705285495700953,
          1.7719528124708832,
          1.773377075371671,
          1.774801338272459,
          1.7762256011732471,
          1.7776498640740352,
          1.7790741269748231,
          1.780498389875611,
          1.7819226527763992,
          1.783346915677187,
          1.784771178577975,
          1.786195441478763,
          1.787619704379551,
          1.7890439672803389,
          1.790468230181127,
          1.7918924930819151,
          1.793316755982703,
          1.794741018883491,
          1.7961652817842788,
          1.7975895446850667,
          1.7990138075858548,
          1.800438070486643,
          1.8018623333874308,
          1.8032865962882187,
          1.8047108591890066,
          1.8061351220897945,
          1.8075593849905827,
          1.8089836478913708,
          1.8104079107921587,
          1.8118321736929466,
          1.8132564365937347,
          1.8146806994945228,
          1.8161049623953105,
          1.8175292252960986,
          1.8189534881968865,
          1.8203777510976744,
          1.8218020139984625,
          1.8232262768992507,
          1.8246505398000386
         ],
         "xaxis": "x",
         "y": {
          "bdata": "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",
          "dtype": "f8"
         },
         "yaxis": "y"
        }
       ],
       "layout": {
        "barmode": "overlay",
        "height": 700,
        "hovermode": "closest",
        "legend": {
         "traceorder": "reversed"
        },
        "shapes": [
         {
          "line": {
           "color": "#1F77B4",
           "dash": "dashdot",
           "width": 3
          },
          "type": "line",
          "x0": 1.6066260502218725,
          "x1": 1.6066260502218725,
          "xref": "x",
          "y0": 0,
          "y1": 1,
          "yref": "y domain"
         },
         {
          "line": {
           "color": "#FF7F0E",
           "dash": "dashdot",
           "width": 3
          },
          "type": "line",
          "x0": 1.4471661354766525,
          "x1": 1.4471661354766525,
          "xref": "x",
          "y0": 0,
          "y1": 1,
          "yref": "y domain"
         }
        ],
        "template": {
         "data": {
          "bar": [
           {
            "error_x": {
             "color": "#2a3f5f"
            },
            "error_y": {
             "color": "#2a3f5f"
            },
            "marker": {
             "line": {
              "color": "#E5ECF6",
              "width": 0.5
             },
             "pattern": {
              "fillmode": "overlay",
              "size": 10,
              "solidity": 0.2
             }
            },
            "type": "bar"
           }
          ],
          "barpolar": [
           {
            "marker": {
             "line": {
              "color": "#E5ECF6",
              "width": 0.5
             },
             "pattern": {
              "fillmode": "overlay",
              "size": 10,
              "solidity": 0.2
             }
            },
            "type": "barpolar"
           }
          ],
          "carpet": [
           {
            "aaxis": {
             "endlinecolor": "#2a3f5f",
             "gridcolor": "white",
             "linecolor": "white",
             "minorgridcolor": "white",
             "startlinecolor": "#2a3f5f"
            },
            "baxis": {
             "endlinecolor": "#2a3f5f",
             "gridcolor": "white",
             "linecolor": "white",
             "minorgridcolor": "white",
             "startlinecolor": "#2a3f5f"
            },
            "type": "carpet"
           }
          ],
          "choropleth": [
           {
            "colorbar": {
             "outlinewidth": 0,
             "ticks": ""
            },
            "type": "choropleth"
           }
          ],
          "contour": [
           {
            "colorbar": {
             "outlinewidth": 0,
             "ticks": ""
            },
            "colorscale": [
             [
              0,
              "#0d0887"
             ],
             [
              0.1111111111111111,
              "#46039f"
             ],
             [
              0.2222222222222222,
              "#7201a8"
             ],
             [
              0.3333333333333333,
              "#9c179e"
             ],
             [
              0.4444444444444444,
              "#bd3786"
             ],
             [
              0.5555555555555556,
              "#d8576b"
             ],
             [
              0.6666666666666666,
              "#ed7953"
             ],
             [
              0.7777777777777778,
              "#fb9f3a"
             ],
             [
              0.8888888888888888,
              "#fdca26"
             ],
             [
              1,
              "#f0f921"
             ]
            ],
            "type": "contour"
           }
          ],
          "contourcarpet": [
           {
            "colorbar": {
             "outlinewidth": 0,
             "ticks": ""
            },
            "type": "contourcarpet"
           }
          ],
          "heatmap": [
           {
            "colorbar": {
             "outlinewidth": 0,
             "ticks": ""
            },
            "colorscale": [
             [
              0,
              "#0d0887"
             ],
             [
              0.1111111111111111,
              "#46039f"
             ],
             [
              0.2222222222222222,
              "#7201a8"
             ],
             [
              0.3333333333333333,
              "#9c179e"
             ],
             [
              0.4444444444444444,
              "#bd3786"
             ],
             [
              0.5555555555555556,
              "#d8576b"
             ],
             [
              0.6666666666666666,
              "#ed7953"
             ],
             [
              0.7777777777777778,
              "#fb9f3a"
             ],
             [
              0.8888888888888888,
              "#fdca26"
             ],
             [
              1,
              "#f0f921"
             ]
            ],
            "type": "heatmap"
           }
          ],
          "histogram": [
           {
            "marker": {
             "pattern": {
              "fillmode": "overlay",
              "size": 10,
              "solidity": 0.2
             }
            },
            "type": "histogram"
           }
          ],
          "histogram2d": [
           {
            "colorbar": {
             "outlinewidth": 0,
             "ticks": ""
            },
            "colorscale": [
             [
              0,
              "#0d0887"
             ],
             [
              0.1111111111111111,
              "#46039f"
             ],
             [
              0.2222222222222222,
              "#7201a8"
             ],
             [
              0.3333333333333333,
              "#9c179e"
             ],
             [
              0.4444444444444444,
              "#bd3786"
             ],
             [
              0.5555555555555556,
              "#d8576b"
             ],
             [
              0.6666666666666666,
              "#ed7953"
             ],
             [
              0.7777777777777778,
              "#fb9f3a"
             ],
             [
              0.8888888888888888,
              "#fdca26"
             ],
             [
              1,
              "#f0f921"
             ]
            ],
            "type": "histogram2d"
           }
          ],
          "histogram2dcontour": [
           {
            "colorbar": {
             "outlinewidth": 0,
             "ticks": ""
            },
            "colorscale": [
             [
              0,
              "#0d0887"
             ],
             [
              0.1111111111111111,
              "#46039f"
             ],
             [
              0.2222222222222222,
              "#7201a8"
             ],
             [
              0.3333333333333333,
              "#9c179e"
             ],
             [
              0.4444444444444444,
              "#bd3786"
             ],
             [
              0.5555555555555556,
              "#d8576b"
             ],
             [
              0.6666666666666666,
              "#ed7953"
             ],
             [
              0.7777777777777778,
              "#fb9f3a"
             ],
             [
              0.8888888888888888,
              "#fdca26"
             ],
             [
              1,
              "#f0f921"
             ]
            ],
            "type": "histogram2dcontour"
           }
          ],
          "mesh3d": [
           {
            "colorbar": {
             "outlinewidth": 0,
             "ticks": ""
            },
            "type": "mesh3d"
           }
          ],
          "parcoords": [
           {
            "line": {
             "colorbar": {
              "outlinewidth": 0,
              "ticks": ""
             }
            },
            "type": "parcoords"
           }
          ],
          "pie": [
           {
            "automargin": true,
            "type": "pie"
           }
          ],
          "scatter": [
           {
            "fillpattern": {
             "fillmode": "overlay",
             "size": 10,
             "solidity": 0.2
            },
            "type": "scatter"
           }
          ],
          "scatter3d": [
           {
            "line": {
             "colorbar": {
              "outlinewidth": 0,
              "ticks": ""
             }
            },
            "marker": {
             "colorbar": {
              "outlinewidth": 0,
              "ticks": ""
             }
            },
            "type": "scatter3d"
           }
          ],
          "scattercarpet": [
           {
            "marker": {
             "colorbar": {
              "outlinewidth": 0,
              "ticks": ""
             }
            },
            "type": "scattercarpet"
           }
          ],
          "scattergeo": [
           {
            "marker": {
             "colorbar": {
              "outlinewidth": 0,
              "ticks": ""
             }
            },
            "type": "scattergeo"
           }
          ],
          "scattergl": [
           {
            "marker": {
             "colorbar": {
              "outlinewidth": 0,
              "ticks": ""
             }
            },
            "type": "scattergl"
           }
          ],
          "scattermap": [
           {
            "marker": {
             "colorbar": {
              "outlinewidth": 0,
              "ticks": ""
             }
            },
            "type": "scattermap"
           }
          ],
          "scattermapbox": [
           {
            "marker": {
             "colorbar": {
              "outlinewidth": 0,
              "ticks": ""
             }
            },
            "type": "scattermapbox"
           }
          ],
          "scatterpolar": [
           {
            "marker": {
             "colorbar": {
              "outlinewidth": 0,
              "ticks": ""
             }
            },
            "type": "scatterpolar"
           }
          ],
          "scatterpolargl": [
           {
            "marker": {
             "colorbar": {
              "outlinewidth": 0,
              "ticks": ""
             }
            },
            "type": "scatterpolargl"
           }
          ],
          "scatterternary": [
           {
            "marker": {
             "colorbar": {
              "outlinewidth": 0,
              "ticks": ""
             }
            },
            "type": "scatterternary"
           }
          ],
          "surface": [
           {
            "colorbar": {
             "outlinewidth": 0,
             "ticks": ""
            },
            "colorscale": [
             [
              0,
              "#0d0887"
             ],
             [
              0.1111111111111111,
              "#46039f"
             ],
             [
              0.2222222222222222,
              "#7201a8"
             ],
             [
              0.3333333333333333,
              "#9c179e"
             ],
             [
              0.4444444444444444,
              "#bd3786"
             ],
             [
              0.5555555555555556,
              "#d8576b"
             ],
             [
              0.6666666666666666,
              "#ed7953"
             ],
             [
              0.7777777777777778,
              "#fb9f3a"
             ],
             [
              0.8888888888888888,
              "#fdca26"
             ],
             [
              1,
              "#f0f921"
             ]
            ],
            "type": "surface"
           }
          ],
          "table": [
           {
            "cells": {
             "fill": {
              "color": "#EBF0F8"
             },
             "line": {
              "color": "white"
             }
            },
            "header": {
             "fill": {
              "color": "#C8D4E3"
             },
             "line": {
              "color": "white"
             }
            },
            "type": "table"
           }
          ]
         },
         "layout": {
          "annotationdefaults": {
           "arrowcolor": "#2a3f5f",
           "arrowhead": 0,
           "arrowwidth": 1
          },
          "autotypenumbers": "strict",
          "coloraxis": {
           "colorbar": {
            "outlinewidth": 0,
            "ticks": ""
           }
          },
          "colorscale": {
           "diverging": [
            [
             0,
             "#8e0152"
            ],
            [
             0.1,
             "#c51b7d"
            ],
            [
             0.2,
             "#de77ae"
            ],
            [
             0.3,
             "#f1b6da"
            ],
            [
             0.4,
             "#fde0ef"
            ],
            [
             0.5,
             "#f7f7f7"
            ],
            [
             0.6,
             "#e6f5d0"
            ],
            [
             0.7,
             "#b8e186"
            ],
            [
             0.8,
             "#7fbc41"
            ],
            [
             0.9,
             "#4d9221"
            ],
            [
             1,
             "#276419"
            ]
           ],
           "sequential": [
            [
             0,
             "#0d0887"
            ],
            [
             0.1111111111111111,
             "#46039f"
            ],
            [
             0.2222222222222222,
             "#7201a8"
            ],
            [
             0.3333333333333333,
             "#9c179e"
            ],
            [
             0.4444444444444444,
             "#bd3786"
            ],
            [
             0.5555555555555556,
             "#d8576b"
            ],
            [
             0.6666666666666666,
             "#ed7953"
            ],
            [
             0.7777777777777778,
             "#fb9f3a"
            ],
            [
             0.8888888888888888,
             "#fdca26"
            ],
            [
             1,
             "#f0f921"
            ]
           ],
           "sequentialminus": [
            [
             0,
             "#0d0887"
            ],
            [
             0.1111111111111111,
             "#46039f"
            ],
            [
             0.2222222222222222,
             "#7201a8"
            ],
            [
             0.3333333333333333,
             "#9c179e"
            ],
            [
             0.4444444444444444,
             "#bd3786"
            ],
            [
             0.5555555555555556,
             "#d8576b"
            ],
            [
             0.6666666666666666,
             "#ed7953"
            ],
            [
             0.7777777777777778,
             "#fb9f3a"
            ],
            [
             0.8888888888888888,
             "#fdca26"
            ],
            [
             1,
             "#f0f921"
            ]
           ]
          },
          "colorway": [
           "#636efa",
           "#EF553B",
           "#00cc96",
           "#ab63fa",
           "#FFA15A",
           "#19d3f3",
           "#FF6692",
           "#B6E880",
           "#FF97FF",
           "#FECB52"
          ],
          "font": {
           "color": "#2a3f5f"
          },
          "geo": {
           "bgcolor": "white",
           "lakecolor": "white",
           "landcolor": "#E5ECF6",
           "showlakes": true,
           "showland": true,
           "subunitcolor": "white"
          },
          "hoverlabel": {
           "align": "left"
          },
          "hovermode": "closest",
          "mapbox": {
           "style": "light"
          },
          "paper_bgcolor": "white",
          "plot_bgcolor": "#E5ECF6",
          "polar": {
           "angularaxis": {
            "gridcolor": "white",
            "linecolor": "white",
            "ticks": ""
           },
           "bgcolor": "#E5ECF6",
           "radialaxis": {
            "gridcolor": "white",
            "linecolor": "white",
            "ticks": ""
           }
          },
          "scene": {
           "xaxis": {
            "backgroundcolor": "#E5ECF6",
            "gridcolor": "white",
            "gridwidth": 2,
            "linecolor": "white",
            "showbackground": true,
            "ticks": "",
            "zerolinecolor": "white"
           },
           "yaxis": {
            "backgroundcolor": "#E5ECF6",
            "gridcolor": "white",
            "gridwidth": 2,
            "linecolor": "white",
            "showbackground": true,
            "ticks": "",
            "zerolinecolor": "white"
           },
           "zaxis": {
            "backgroundcolor": "#E5ECF6",
            "gridcolor": "white",
            "gridwidth": 2,
            "linecolor": "white",
            "showbackground": true,
            "ticks": "",
            "zerolinecolor": "white"
           }
          },
          "shapedefaults": {
           "line": {
            "color": "#2a3f5f"
           }
          },
          "ternary": {
           "aaxis": {
            "gridcolor": "white",
            "linecolor": "white",
            "ticks": ""
           },
           "baxis": {
            "gridcolor": "white",
            "linecolor": "white",
            "ticks": ""
           },
           "bgcolor": "#E5ECF6",
           "caxis": {
            "gridcolor": "white",
            "linecolor": "white",
            "ticks": ""
           }
          },
          "title": {
           "x": 0.05
          },
          "xaxis": {
           "automargin": true,
           "gridcolor": "white",
           "linecolor": "white",
           "ticks": "",
           "title": {
            "standoff": 15
           },
           "zerolinecolor": "white",
           "zerolinewidth": 2
          },
          "yaxis": {
           "automargin": true,
           "gridcolor": "white",
           "linecolor": "white",
           "ticks": "",
           "title": {
            "standoff": 15
           },
           "zerolinecolor": "white",
           "zerolinewidth": 2
          }
         }
        },
        "title": {
         "text": "Gearless vs Geared fuel consumption T-test results: <br>\n<sup>stat : 7.740 | T-crit(0.95) : 1.652 & pvalue : 4.26763E-13</sup>"
        },
        "xaxis": {
         "anchor": "y2",
         "domain": [
          0,
          1
         ],
         "zeroline": false
        },
        "yaxis": {
         "anchor": "free",
         "domain": [
          0,
          1
         ],
         "position": 0
        }
       }
      }
     },
     "metadata": {},
     "output_type": "display_data"
    }
   ],
   "source": [
    "gear_less = auto_df[auto_df.gears == 1]\n",
    "gear_more = auto_df[auto_df.gears > 1]\n",
    "fig, results = compare_samples(gear_less,gear_more,labels=['1 Gear','>1 Gear'],bin_size=.01)\n",
    "fig.update_layout(\n",
    "    title=f\"\"\"Gearless vs Geared fuel consumption T-test results: <br>\n",
    "<sup>stat : {results.statistic:0.3f} | T-crit(0.95) : {scipy.stats.t.ppf(0.95, results.df):0.3f} & pvalue : {results.pvalue:0.5E}</sup>\"\"\",\n",
    "    height=700,\n",
    ")\n",
    "fig.show()"
   ]
  },
  {
   "cell_type": "markdown",
   "metadata": {},
   "source": [
    "> #### 1 Gear vs >1 Gear (aka Gearless vs Geared) conclusions\n",
    "> \n",
    "> The plot and the T-test clearly ___reject the null hypothesis___ that there is no difference. Thus, ___accepting the null hypothesis___ that having a 'continuously variable' transmission (gearless) vehicle significantly effects expected fuel consumption."
   ]
  },
  {
   "cell_type": "markdown",
   "metadata": {},
   "source": [
    "> ### Our hypotheses for the height comparison:\n",
    ">\n",
    "> $H_0$ : The mean fuel consumption of the US Big3 automakers is not different then other automakers.\n",
    ">\n",
    "> $H_A$ : The mean fuel consumption of the US Big3 automakers is significantly different then other automakers."
   ]
  },
  {
   "cell_type": "code",
   "execution_count": 11,
   "metadata": {},
   "outputs": [
    {
     "data": {
      "application/vnd.plotly.v1+json": {
       "config": {
        "plotlyServerURL": "https://plot.ly"
       },
       "data": [
        {
         "autobinx": false,
         "histnorm": "probability density",
         "legendgroup": ">Median height",
         "marker": {
          "color": "rgb(31, 119, 180)",
          "colorscale": [
           [
            0,
            "#1F77B4"
           ],
           [
            0.1111111111111111,
            "#FF7F0E"
           ],
           [
            0.2222222222222222,
            "#2CA02C"
           ],
           [
            0.3333333333333333,
            "#D62728"
           ],
           [
            0.4444444444444444,
            "#9467BD"
           ],
           [
            0.5555555555555556,
            "#8C564B"
           ],
           [
            0.6666666666666666,
            "#E377C2"
           ],
           [
            0.7777777777777778,
            "#7F7F7F"
           ],
           [
            0.8888888888888888,
            "#BCBD22"
           ],
           [
            1,
            "#17BECF"
           ]
          ],
          "line": {
           "color": "black",
           "width": 0.25
          }
         },
         "name": ">Median height",
         "opacity": 0.7,
         "type": "histogram",
         "x": {
          "bdata": "AUOwV/Zd9j/qY2tx+2X3P3/1k+VJovc/EMH7VcZ19D9/9ZPlSaL3P8/w4xe7o/Y//pALYlgV9j8BQ7BX9l32P59bUGvPJ/U/6mNrcftl9z9+4Luw3eb2P37gu7Dd5vY/AUOwV/Zd9j8BQ7BX9l32P+665EXVS/g/fuC7sN3m9j/qY2tx+2X3Px8jDC6PJ/c/f/WT5Umi9z/P8OMXu6P2PxdccwnwgPg/HyMMLo8n9z/qY2tx+2X3P/6nd3Od5vg/AUOwV/Zd9j/uuuRF1Uv4P37gu7Dd5vY/fuC7sN3m9j8BQ7BX9l32P/6QC2JYFfY/HyMMLo8n9z/+p3dzneb4P+6jeDSQevU/fuC7sN3m9j/P8OMXu6P2P+pja3H7Zfc/z/DjF7uj9j9/9ZPlSaL3P37gu7Dd5vY/f/WT5Umi9z/P8OMXu6P2P/6QC2JYFfY/7rrkRdVL+D8fIwwujyf3P4Bg5rBaF/k/fuC7sN3m9j8BQ7BX9l32P8/w4xe7o/Y/AUOwV/Zd9j8BQ7BX9l32P37gu7Dd5vY/6mNrcftl9z/P8OMXu6P2PxDB+1XGdfQ/fuC7sN3m9j/mZ1gUntz3P3/1k+VJovc/6mNrcftl9z/P8OMXu6P2P39YxyQYFfg/gN4n1ATR9D9+4Luw3eb2P37gu7Dd5vY/6mNrcftl9z/mZ1gUntz3PwFDsFf2XfY/f/mbIKPJ9T8BQ7BX9l32P/6QC2JYFfY/z/DjF7uj9j/+kAtiWBX2P8/w4xe7o/Y/n1tQa88n9T+fW1Brzyf1P3/1k+VJovc/fuC7sN3m9j9/9ZPlSaL3P8/w4xe7o/Y/f/WT5Umi9z9/WMckGBX4P37JT5+YFfQ/AUOwV/Zd9j9+4Luw3eb2P37gu7Dd5vY/zgdQKQB1+T9/+Zsgo8n1P37gu7Dd5vY/F1xzCfCA+D/mZ1gUntz3P4DeJ9QE0fQ/fuC7sN3m9j/+p3dzneb4P5d9SzXrr/M/9TC80a8i+j/+kAtiWBX2P//Xw/Snmvo/fuC7sN3m9j9/9ZPlSaL3P3/1k+VJovc/f/WT5Umi9z8fIwwujyf3Pw==",
          "dtype": "f8"
         },
         "xaxis": "x",
         "xbins": {
          "end": 1.662757831681574,
          "size": 0.01,
          "start": 1.2304489213782739
         },
         "yaxis": "y"
        },
        {
         "autobinx": false,
         "histnorm": "probability density",
         "legendgroup": "<Median height",
         "marker": {
          "color": "rgb(255, 127, 14)",
          "colorscale": [
           [
            0,
            "#1F77B4"
           ],
           [
            0.1111111111111111,
            "#FF7F0E"
           ],
           [
            0.2222222222222222,
            "#2CA02C"
           ],
           [
            0.3333333333333333,
            "#D62728"
           ],
           [
            0.4444444444444444,
            "#9467BD"
           ],
           [
            0.5555555555555556,
            "#8C564B"
           ],
           [
            0.6666666666666666,
            "#E377C2"
           ],
           [
            0.7777777777777778,
            "#7F7F7F"
           ],
           [
            0.8888888888888888,
            "#BCBD22"
           ],
           [
            1,
            "#17BECF"
           ]
          ],
          "line": {
           "color": "black",
           "width": 0.25
          }
         },
         "name": "<Median height",
         "opacity": 0.7,
         "type": "histogram",
         "x": {
          "bdata": "7rrkRdVL+D/qY2tx+2X3PwFDsFf2XfY/gN4n1ATR9D8BQ7BX9l32PxdccwnwgPg/5mdYFJ7c9z9/WMckGBX4P+pja3H7Zfc/5mdYFJ7c9z+A3ifUBNH0P+pja3H7Zfc/HyMMLo8n9z9/9ZPlSaL3P+ZnWBSe3Pc/n1tQa88n9T+A3ifUBNH0P4DeJ9QE0fQ/5mdYFJ7c9z9/WMckGBX4P+pja3H7Zfc/7rrkRdVL+D9/WMckGBX4P39YxyQYFfg/f1jHJBgV+D/mZ1gUntz3P3/1k+VJovc/7qN4NJB69T+QnyMqy0b5P/+8T6gJovk/fuC7sN3m9j9+4Luw3eb2P37gu7Dd5vY/5mdYFJ7c9z9/9ZPlSaL3Px8jDC6PJ/c/f/WT5Umi9z/uo3g0kHr1P84HUCkAdfk//7xPqAmi+T/+p3dzneb4P4Bg5rBaF/k/LmVaNpo3/T+QnyMqy0b5P4Bg5rBaF/k/F1xzCfCA+D9+4Luw3eb2P5CfIyrLRvk/z/DjF7uj9j/P8OMXu6P2P3/1k+VJovc/f/mbIKPJ9T/+p3dzneb4P39YxyQYFfg/8BtfBLaQ/D8fOng/1Pj5P4Bg5rBaF/k//qd3c53m+D/+kAtiWBX2P08SvEO20vE/fslPn5gV9D+XfUs166/zP3/1k+VJovc/7qN4NJB69T8BQ7BX9l32P8/w4xe7o/Y/zgdQKQB1+T/qY2tx+2X3P/6QC2JYFfY/f/mbIKPJ9T+AYOawWhf5P4Bg5rBaF/k//qd3c53m+D/uuuRF1Uv4P+665EXVS/g/6mNrcftl9z/mZ1gUntz3P37gu7Dd5vY/6mNrcftl9z//18P0p5r6P39YxyQYFfg//qd3c53m+D/OB1ApAHX5P+pja3H7Zfc/oIeUsYC0+D//vE+oCaL5Px86eD/U+Pk/HyMMLo8n9z/+kAtiWBX2P8/w4xe7o/Y//pALYlgV9j+XfUs166/zP3/1k+VJovc//qd3c53m+D+QnyMqy0b5P39YxyQYFfg/F1xzCfCA+D+QnyMqy0b5P/+8T6gJovk/F1xzCfCA+D/qY2tx+2X3Px5R5FAZyvw/Hzp4P9T4+T8XXHMJ8ID4P4Bg5rBaF/k/oIeUsYC0+D/mZ1gUntz3P+pja3H7Zfc/f/WT5Umi9z8=",
          "dtype": "f8"
         },
         "xaxis": "x",
         "xbins": {
          "end": 1.8260748027008264,
          "size": 0.01,
          "start": 1.1139433523068367
         },
         "yaxis": "y"
        },
        {
         "legendgroup": ">Median height",
         "marker": {
          "color": "rgb(31, 119, 180)",
          "colorscale": [
           [
            0,
            "#1F77B4"
           ],
           [
            0.1111111111111111,
            "#FF7F0E"
           ],
           [
            0.2222222222222222,
            "#2CA02C"
           ],
           [
            0.3333333333333333,
            "#D62728"
           ],
           [
            0.4444444444444444,
            "#9467BD"
           ],
           [
            0.5555555555555556,
            "#8C564B"
           ],
           [
            0.6666666666666666,
            "#E377C2"
           ],
           [
            0.7777777777777778,
            "#7F7F7F"
           ],
           [
            0.8888888888888888,
            "#BCBD22"
           ],
           [
            1,
            "#17BECF"
           ]
          ],
          "line": {
           "color": "black",
           "width": 0.25
          }
         },
         "mode": "lines",
         "name": ">Median height",
         "showlegend": false,
         "type": "scatter",
         "x": [
          1.2304489213782739,
          1.2313135391988805,
          1.2321781570194872,
          1.2330427748400936,
          1.2339073926607003,
          1.234772010481307,
          1.2356366283019136,
          1.23650124612252,
          1.2373658639431266,
          1.2382304817637333,
          1.23909509958434,
          1.2399597174049466,
          1.240824335225553,
          1.2416889530461597,
          1.2425535708667663,
          1.243418188687373,
          1.2442828065079794,
          1.245147424328586,
          1.2460120421491927,
          1.2468766599697994,
          1.247741277790406,
          1.2486058956110124,
          1.249470513431619,
          1.2503351312522257,
          1.2511997490728324,
          1.2520643668934388,
          1.2529289847140455,
          1.253793602534652,
          1.2546582203552588,
          1.2555228381758652,
          1.2563874559964718,
          1.2572520738170785,
          1.2581166916376851,
          1.2589813094582918,
          1.2598459272788982,
          1.2607105450995049,
          1.2615751629201115,
          1.2624397807407182,
          1.2633043985613246,
          1.2641690163819312,
          1.265033634202538,
          1.2658982520231445,
          1.2667628698437512,
          1.2676274876643576,
          1.2684921054849643,
          1.269356723305571,
          1.2702213411261776,
          1.271085958946784,
          1.2719505767673907,
          1.2728151945879973,
          1.273679812408604,
          1.2745444302292106,
          1.275409048049817,
          1.2762736658704237,
          1.2771382836910303,
          1.278002901511637,
          1.2788675193322434,
          1.27973213715285,
          1.2805967549734567,
          1.2814613727940634,
          1.28232599061467,
          1.2831906084352764,
          1.284055226255883,
          1.2849198440764897,
          1.2857844618970964,
          1.2866490797177028,
          1.2875136975383095,
          1.2883783153589161,
          1.2892429331795228,
          1.2901075510001294,
          1.2909721688207358,
          1.2918367866413425,
          1.2927014044619491,
          1.2935660222825558,
          1.2944306401031622,
          1.2952952579237689,
          1.2961598757443755,
          1.2970244935649822,
          1.2978891113855888,
          1.2987537292061953,
          1.299618347026802,
          1.3004829648474086,
          1.3013475826680152,
          1.3022122004886216,
          1.3030768183092283,
          1.303941436129835,
          1.3048060539504416,
          1.3056706717710482,
          1.3065352895916547,
          1.3073999074122613,
          1.308264525232868,
          1.3091291430534746,
          1.309993760874081,
          1.3108583786946877,
          1.3117229965152943,
          1.312587614335901,
          1.3134522321565076,
          1.314316849977114,
          1.3151814677977207,
          1.3160460856183274,
          1.316910703438934,
          1.3177753212595404,
          1.318639939080147,
          1.3195045569007537,
          1.3203691747213604,
          1.3212337925419668,
          1.3220984103625735,
          1.3229630281831801,
          1.3238276460037868,
          1.3246922638243934,
          1.3255568816449999,
          1.3264214994656065,
          1.3272861172862132,
          1.3281507351068198,
          1.3290153529274262,
          1.3298799707480329,
          1.3307445885686395,
          1.3316092063892462,
          1.3324738242098528,
          1.3333384420304593,
          1.334203059851066,
          1.3350676776716726,
          1.3359322954922792,
          1.3367969133128856,
          1.3376615311334923,
          1.338526148954099,
          1.3393907667747056,
          1.3402553845953122,
          1.3411200024159187,
          1.3419846202365253,
          1.342849238057132,
          1.3437138558777386,
          1.344578473698345,
          1.3454430915189517,
          1.3463077093395583,
          1.347172327160165,
          1.3480369449807716,
          1.348901562801378,
          1.3497661806219847,
          1.3506307984425914,
          1.351495416263198,
          1.3523600340838045,
          1.353224651904411,
          1.3540892697250178,
          1.3549538875456244,
          1.3558185053662308,
          1.3566831231868375,
          1.3575477410074441,
          1.3584123588280508,
          1.3592769766486574,
          1.3601415944692639,
          1.3610062122898705,
          1.3618708301104772,
          1.3627354479310838,
          1.3636000657516902,
          1.3644646835722969,
          1.3653293013929035,
          1.3661939192135102,
          1.3670585370341168,
          1.3679231548547233,
          1.36878777267533,
          1.3696523904959366,
          1.3705170083165432,
          1.3713816261371496,
          1.3722462439577563,
          1.373110861778363,
          1.3739754795989696,
          1.3748400974195762,
          1.3757047152401827,
          1.3765693330607893,
          1.377433950881396,
          1.3782985687020026,
          1.379163186522609,
          1.3800278043432157,
          1.3808924221638224,
          1.381757039984429,
          1.3826216578050357,
          1.383486275625642,
          1.3843508934462487,
          1.3852155112668554,
          1.386080129087462,
          1.3869447469080685,
          1.387809364728675,
          1.3886739825492818,
          1.3895386003698884,
          1.390403218190495,
          1.3912678360111015,
          1.3921324538317081,
          1.3929970716523148,
          1.3938616894729214,
          1.3947263072935279,
          1.3955909251141345,
          1.3964555429347412,
          1.3973201607553478,
          1.3981847785759545,
          1.399049396396561,
          1.3999140142171675,
          1.4007786320377742,
          1.4016432498583808,
          1.4025078676789873,
          1.403372485499594,
          1.4042371033202006,
          1.4051017211408072,
          1.4059663389614139,
          1.4068309567820203,
          1.407695574602627,
          1.4085601924232336,
          1.4094248102438403,
          1.4102894280644467,
          1.4111540458850533,
          1.41201866370566,
          1.4128832815262666,
          1.4137478993468733,
          1.4146125171674797,
          1.4154771349880864,
          1.416341752808693,
          1.4172063706292997,
          1.418070988449906,
          1.4189356062705127,
          1.4198002240911194,
          1.420664841911726,
          1.4215294597323327,
          1.4223940775529391,
          1.4232586953735458,
          1.4241233131941524,
          1.424987931014759,
          1.4258525488353655,
          1.4267171666559721,
          1.4275817844765788,
          1.4284464022971854,
          1.429311020117792,
          1.4301756379383985,
          1.4310402557590052,
          1.4319048735796118,
          1.4327694914002183,
          1.433634109220825,
          1.4344987270414316,
          1.4353633448620382,
          1.4362279626826449,
          1.4370925805032513,
          1.437957198323858,
          1.4388218161444646,
          1.4396864339650712,
          1.4405510517856779,
          1.4414156696062843,
          1.442280287426891,
          1.4431449052474976,
          1.4440095230681043,
          1.444874140888711,
          1.4457387587093173,
          1.446603376529924,
          1.4474679943505306,
          1.4483326121711373,
          1.4491972299917437,
          1.4500618478123504,
          1.450926465632957,
          1.4517910834535637,
          1.4526557012741703,
          1.4535203190947767,
          1.4543849369153834,
          1.45524955473599,
          1.4561141725565965,
          1.4569787903772031,
          1.4578434081978098,
          1.4587080260184164,
          1.459572643839023,
          1.4604372616596295,
          1.4613018794802362,
          1.4621664973008428,
          1.4630311151214495,
          1.4638957329420559,
          1.4647603507626625,
          1.4656249685832692,
          1.4664895864038758,
          1.4673542042244825,
          1.468218822045089,
          1.4690834398656956,
          1.4699480576863022,
          1.4708126755069089,
          1.4716772933275153,
          1.472541911148122,
          1.4734065289687286,
          1.4742711467893352,
          1.475135764609942,
          1.4760003824305485,
          1.476865000251155,
          1.4777296180717616,
          1.4785942358923683,
          1.4794588537129747,
          1.4803234715335813,
          1.481188089354188,
          1.4820527071747946,
          1.4829173249954013,
          1.4837819428160077,
          1.4846465606366144,
          1.485511178457221,
          1.4863757962778277,
          1.487240414098434,
          1.4881050319190408,
          1.4889696497396474,
          1.489834267560254,
          1.4906988853808607,
          1.4915635032014671,
          1.4924281210220738,
          1.4932927388426804,
          1.494157356663287,
          1.4950219744838935,
          1.4958865923045002,
          1.4967512101251068,
          1.4976158279457135,
          1.4984804457663201,
          1.4993450635869268,
          1.5002096814075332,
          1.5010742992281398,
          1.5019389170487465,
          1.502803534869353,
          1.5036681526899596,
          1.5045327705105662,
          1.5053973883311729,
          1.5062620061517795,
          1.507126623972386,
          1.5079912417929926,
          1.5088558596135992,
          1.5097204774342057,
          1.5105850952548123,
          1.511449713075419,
          1.5123143308960256,
          1.5131789487166323,
          1.514043566537239,
          1.5149081843578454,
          1.515772802178452,
          1.5166374199990587,
          1.5175020378196653,
          1.5183666556402717,
          1.5192312734608784,
          1.520095891281485,
          1.5209605091020917,
          1.5218251269226983,
          1.522689744743305,
          1.5235543625639114,
          1.524418980384518,
          1.5252835982051245,
          1.5261482160257311,
          1.5270128338463378,
          1.5278774516669444,
          1.528742069487551,
          1.5296066873081577,
          1.5304713051287642,
          1.5313359229493708,
          1.5322005407699775,
          1.533065158590584,
          1.5339297764111905,
          1.5347943942317972,
          1.5356590120524038,
          1.5365236298730105,
          1.537388247693617,
          1.5382528655142236,
          1.5391174833348302,
          1.5399821011554369,
          1.5408467189760435,
          1.54171133679665,
          1.5425759546172566,
          1.5434405724378633,
          1.54430519025847,
          1.5451698080790766,
          1.546034425899683,
          1.5468990437202896,
          1.5477636615408963,
          1.5486282793615027,
          1.5494928971821094,
          1.550357515002716,
          1.5512221328233227,
          1.5520867506439293,
          1.552951368464536,
          1.5538159862851424,
          1.554680604105749,
          1.5555452219263557,
          1.5564098397469621,
          1.5572744575675688,
          1.5581390753881754,
          1.559003693208782,
          1.5598683110293887,
          1.5607329288499951,
          1.5615975466706018,
          1.5624621644912084,
          1.563326782311815,
          1.5641914001324217,
          1.5650560179530282,
          1.5659206357736348,
          1.5667852535942415,
          1.5676498714148481,
          1.5685144892354548,
          1.5693791070560612,
          1.5702437248766679,
          1.5711083426972745,
          1.571972960517881,
          1.5728375783384876,
          1.5737021961590942,
          1.5745668139797009,
          1.5754314318003075,
          1.5762960496209142,
          1.5771606674415206,
          1.5780252852621273,
          1.5788899030827337,
          1.5797545209033403,
          1.580619138723947,
          1.5814837565445536,
          1.5823483743651603,
          1.583212992185767,
          1.5840776100063734,
          1.58494222782698,
          1.5858068456475867,
          1.5866714634681933,
          1.5875360812887997,
          1.5884006991094064,
          1.589265316930013,
          1.5901299347506197,
          1.5909945525712264,
          1.591859170391833,
          1.5927237882124394,
          1.593588406033046,
          1.5944530238536527,
          1.5953176416742592,
          1.5961822594948658,
          1.5970468773154725,
          1.597911495136079,
          1.5987761129566858,
          1.5996407307772922,
          1.6005053485978988,
          1.6013699664185055,
          1.602234584239112,
          1.6030992020597186,
          1.6039638198803252,
          1.6048284377009319,
          1.6056930555215385,
          1.6065576733421452,
          1.6074222911627516,
          1.6082869089833582,
          1.609151526803965,
          1.6100161446245715,
          1.610880762445178,
          1.6117453802657846,
          1.6126099980863913,
          1.613474615906998,
          1.6143392337276046,
          1.6152038515482112,
          1.6160684693688177,
          1.6169330871894243,
          1.617797705010031,
          1.6186623228306374,
          1.619526940651244,
          1.6203915584718507,
          1.6212561762924573,
          1.622120794113064,
          1.6229854119336704,
          1.623850029754277,
          1.6247146475748837,
          1.6255792653954901,
          1.6264438832160968,
          1.6273085010367034,
          1.62817311885731,
          1.6290377366779167,
          1.6299023544985234,
          1.6307669723191298,
          1.6316315901397365,
          1.6324962079603431,
          1.6333608257809498,
          1.6342254436015562,
          1.6350900614221628,
          1.6359546792427695,
          1.6368192970633761,
          1.6376839148839828,
          1.6385485327045894,
          1.6394131505251959,
          1.6402777683458025,
          1.641142386166409,
          1.6420070039870156,
          1.6428716218076223,
          1.643736239628229,
          1.6446008574488356,
          1.6454654752694422,
          1.6463300930900486,
          1.6471947109106553,
          1.648059328731262,
          1.6489239465518684,
          1.649788564372475,
          1.6506531821930817,
          1.6515178000136883,
          1.652382417834295,
          1.6532470356549016,
          1.654111653475508,
          1.6549762712961147,
          1.6558408891167213,
          1.656705506937328,
          1.6575701247579344,
          1.658434742578541,
          1.6592993603991477,
          1.6601639782197544,
          1.661028596040361,
          1.6618932138609674
         ],
         "xaxis": "x",
         "y": {
          "bdata": "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",
          "dtype": "f8"
         },
         "yaxis": "y"
        },
        {
         "legendgroup": "<Median height",
         "marker": {
          "color": "rgb(255, 127, 14)",
          "colorscale": [
           [
            0,
            "#1F77B4"
           ],
           [
            0.1111111111111111,
            "#FF7F0E"
           ],
           [
            0.2222222222222222,
            "#2CA02C"
           ],
           [
            0.3333333333333333,
            "#D62728"
           ],
           [
            0.4444444444444444,
            "#9467BD"
           ],
           [
            0.5555555555555556,
            "#8C564B"
           ],
           [
            0.6666666666666666,
            "#E377C2"
           ],
           [
            0.7777777777777778,
            "#7F7F7F"
           ],
           [
            0.8888888888888888,
            "#BCBD22"
           ],
           [
            1,
            "#17BECF"
           ]
          ],
          "line": {
           "color": "black",
           "width": 0.25
          }
         },
         "mode": "lines",
         "name": "<Median height",
         "showlegend": false,
         "type": "scatter",
         "x": [
          1.1139433523068367,
          1.1153676152076246,
          1.1167918781084127,
          1.1182161410092006,
          1.1196404039099885,
          1.1210646668107767,
          1.1224889297115646,
          1.1239131926123527,
          1.1253374555131406,
          1.1267617184139285,
          1.1281859813147166,
          1.1296102442155045,
          1.1310345071162924,
          1.1324587700170805,
          1.1338830329178684,
          1.1353072958186563,
          1.1367315587194444,
          1.1381558216202323,
          1.1395800845210204,
          1.1410043474218083,
          1.1424286103225962,
          1.1438528732233844,
          1.1452771361241723,
          1.1467013990249602,
          1.1481256619257483,
          1.1495499248265362,
          1.150974187727324,
          1.1523984506281122,
          1.1538227135289,
          1.1552469764296882,
          1.156671239330476,
          1.158095502231264,
          1.1595197651320521,
          1.16094402803284,
          1.162368290933628,
          1.163792553834416,
          1.165216816735204,
          1.166641079635992,
          1.16806534253678,
          1.1694896054375679,
          1.170913868338356,
          1.1723381312391439,
          1.1737623941399318,
          1.17518665704072,
          1.1766109199415078,
          1.178035182842296,
          1.1794594457430838,
          1.1808837086438717,
          1.1823079715446598,
          1.1837322344454477,
          1.1851564973462356,
          1.1865807602470237,
          1.1880050231478116,
          1.1894292860485995,
          1.1908535489493877,
          1.1922778118501756,
          1.1937020747509637,
          1.1951263376517516,
          1.1965506005525395,
          1.1979748634533276,
          1.1993991263541155,
          1.2008233892549034,
          1.2022476521556915,
          1.2036719150564794,
          1.2050961779572673,
          1.2065204408580554,
          1.2079447037588433,
          1.2093689666596315,
          1.2107932295604193,
          1.2122174924612072,
          1.2136417553619954,
          1.2150660182627833,
          1.2164902811635712,
          1.2179145440643593,
          1.2193388069651472,
          1.220763069865935,
          1.2221873327667232,
          1.223611595667511,
          1.2250358585682992,
          1.2264601214690871,
          1.227884384369875,
          1.2293086472706631,
          1.230732910171451,
          1.232157173072239,
          1.233581435973027,
          1.235005698873815,
          1.2364299617746028,
          1.237854224675391,
          1.2392784875761789,
          1.240702750476967,
          1.2421270133777549,
          1.2435512762785428,
          1.244975539179331,
          1.2463998020801188,
          1.247824064980907,
          1.2492483278816948,
          1.2506725907824827,
          1.2520968536832706,
          1.2535211165840587,
          1.2549453794848466,
          1.2563696423856348,
          1.2577939052864227,
          1.2592181681872106,
          1.2606424310879987,
          1.2620666939887866,
          1.2634909568895747,
          1.2649152197903626,
          1.2663394826911505,
          1.2677637455919384,
          1.2691880084927265,
          1.2706122713935144,
          1.2720365342943025,
          1.2734607971950904,
          1.2748850600958783,
          1.2763093229966664,
          1.2777335858974543,
          1.2791578487982422,
          1.2805821116990304,
          1.2820063745998183,
          1.2834306375006064,
          1.2848549004013943,
          1.2862791633021822,
          1.2877034262029703,
          1.2891276891037582,
          1.290551952004546,
          1.2919762149053342,
          1.293400477806122,
          1.2948247407069102,
          1.2962490036076981,
          1.297673266508486,
          1.2990975294092741,
          1.300521792310062,
          1.30194605521085,
          1.303370318111638,
          1.304794581012426,
          1.3062188439132139,
          1.307643106814002,
          1.3090673697147899,
          1.310491632615578,
          1.311915895516366,
          1.3133401584171538,
          1.314764421317942,
          1.3161886842187298,
          1.3176129471195177,
          1.3190372100203058,
          1.3204614729210937,
          1.3218857358218816,
          1.3233099987226697,
          1.3247342616234576,
          1.3261585245242458,
          1.3275827874250337,
          1.3290070503258216,
          1.3304313132266097,
          1.3318555761273976,
          1.3332798390281855,
          1.3347041019289736,
          1.3361283648297615,
          1.3375526277305494,
          1.3389768906313375,
          1.3404011535321254,
          1.3418254164329135,
          1.3432496793337014,
          1.3446739422344893,
          1.3460982051352774,
          1.3475224680360653,
          1.3489467309368532,
          1.3503709938376414,
          1.3517952567384293,
          1.3532195196392172,
          1.3546437825400053,
          1.3560680454407932,
          1.3574923083415813,
          1.3589165712423692,
          1.360340834143157,
          1.3617650970439452,
          1.3631893599447331,
          1.3646136228455212,
          1.3660378857463091,
          1.367462148647097,
          1.368886411547885,
          1.370310674448673,
          1.371734937349461,
          1.373159200250249,
          1.374583463151037,
          1.3760077260518249,
          1.377431988952613,
          1.3788562518534009,
          1.380280514754189,
          1.381704777654977,
          1.3831290405557648,
          1.3845533034565527,
          1.3859775663573408,
          1.3874018292581287,
          1.3888260921589168,
          1.3902503550597047,
          1.3916746179604926,
          1.3930988808612805,
          1.3945231437620687,
          1.3959474066628568,
          1.3973716695636447,
          1.3987959324644326,
          1.4002201953652205,
          1.4016444582660086,
          1.4030687211667967,
          1.4044929840675846,
          1.4059172469683725,
          1.4073415098691604,
          1.4087657727699485,
          1.4101900356707364,
          1.4116142985715245,
          1.4130385614723124,
          1.4144628243731003,
          1.4158870872738882,
          1.4173113501746764,
          1.4187356130754643,
          1.4201598759762524,
          1.4215841388770403,
          1.4230084017778282,
          1.4244326646786163,
          1.4258569275794042,
          1.4272811904801923,
          1.4287054533809802,
          1.430129716281768,
          1.4315539791825562,
          1.4329782420833441,
          1.434402504984132,
          1.4358267678849201,
          1.437251030785708,
          1.438675293686496,
          1.440099556587284,
          1.441523819488072,
          1.44294808238886,
          1.444372345289648,
          1.4457966081904359,
          1.447220871091224,
          1.448645133992012,
          1.4500693968927998,
          1.451493659793588,
          1.4529179226943758,
          1.4543421855951637,
          1.4557664484959518,
          1.4571907113967397,
          1.4586149742975278,
          1.4600392371983157,
          1.4614635000991036,
          1.4628877629998918,
          1.4643120259006797,
          1.4657362888014676,
          1.4671605517022557,
          1.4685848146030436,
          1.4700090775038315,
          1.4714333404046196,
          1.4728576033054075,
          1.4742818662061956,
          1.4757061291069835,
          1.4771303920077714,
          1.4785546549085595,
          1.4799789178093474,
          1.4814031807101353,
          1.4828274436109234,
          1.4842517065117113,
          1.4856759694124992,
          1.4871002323132874,
          1.4885244952140753,
          1.4899487581148634,
          1.4913730210156513,
          1.4927972839164392,
          1.4942215468172273,
          1.4956458097180152,
          1.4970700726188033,
          1.4984943355195912,
          1.4999185984203791,
          1.501342861321167,
          1.5027671242219551,
          1.504191387122743,
          1.5056156500235311,
          1.507039912924319,
          1.508464175825107,
          1.509888438725895,
          1.511312701626683,
          1.512736964527471,
          1.514161227428259,
          1.5155854903290469,
          1.5170097532298348,
          1.518434016130623,
          1.519858279031411,
          1.521282541932199,
          1.5227068048329868,
          1.5241310677337747,
          1.5255553306345628,
          1.5269795935353507,
          1.5284038564361389,
          1.5298281193369268,
          1.5312523822377146,
          1.5326766451385025,
          1.5341009080392907,
          1.5355251709400788,
          1.5369494338408667,
          1.5383736967416546,
          1.5397979596424425,
          1.5412222225432306,
          1.5426464854440185,
          1.5440707483448066,
          1.5454950112455945,
          1.5469192741463824,
          1.5483435370471703,
          1.5497677999479584,
          1.5511920628487466,
          1.5526163257495345,
          1.5540405886503224,
          1.5554648515511103,
          1.5568891144518984,
          1.5583133773526863,
          1.5597376402534744,
          1.5611619031542623,
          1.5625861660550502,
          1.5640104289558383,
          1.5654346918566262,
          1.5668589547574143,
          1.5682832176582022,
          1.5697074805589901,
          1.571131743459778,
          1.5725560063605661,
          1.573980269261354,
          1.5754045321621422,
          1.57682879506293,
          1.578253057963718,
          1.579677320864506,
          1.581101583765294,
          1.5825258466660819,
          1.58395010956687,
          1.5853743724676579,
          1.5867986353684458,
          1.588222898269234,
          1.5896471611700218,
          1.59107142407081,
          1.5924956869715978,
          1.5939199498723857,
          1.5953442127731738,
          1.5967684756739617,
          1.5981927385747496,
          1.5996170014755378,
          1.6010412643763257,
          1.6024655272771138,
          1.6038897901779017,
          1.6053140530786896,
          1.6067383159794777,
          1.6081625788802656,
          1.6095868417810535,
          1.6110111046818416,
          1.6124353675826295,
          1.6138596304834176,
          1.6152838933842055,
          1.6167081562849934,
          1.6181324191857813,
          1.6195566820865694,
          1.6209809449873573,
          1.6224052078881455,
          1.6238294707889334,
          1.6252537336897213,
          1.6266779965905094,
          1.6281022594912973,
          1.6295265223920854,
          1.6309507852928733,
          1.6323750481936612,
          1.633799311094449,
          1.6352235739952372,
          1.6366478368960253,
          1.6380720997968132,
          1.6394963626976011,
          1.640920625598389,
          1.642344888499177,
          1.643769151399965,
          1.6451934143007532,
          1.646617677201541,
          1.648041940102329,
          1.649466203003117,
          1.650890465903905,
          1.6523147288046929,
          1.653738991705481,
          1.655163254606269,
          1.6565875175070568,
          1.658011780407845,
          1.659436043308633,
          1.660860306209421,
          1.6622845691102088,
          1.6637088320109967,
          1.6651330949117846,
          1.6665573578125727,
          1.6679816207133609,
          1.6694058836141488,
          1.6708301465149367,
          1.6722544094157246,
          1.6736786723165125,
          1.6751029352173006,
          1.6765271981180887,
          1.6779514610188766,
          1.6793757239196645,
          1.6807999868204526,
          1.6822242497212407,
          1.6836485126220284,
          1.6850727755228165,
          1.6864970384236044,
          1.6879213013243923,
          1.6893455642251805,
          1.6907698271259686,
          1.6921940900267565,
          1.6936183529275444,
          1.6950426158283323,
          1.6964668787291202,
          1.6978911416299083,
          1.6993154045306964,
          1.7007396674314843,
          1.7021639303322722,
          1.70358819323306,
          1.7050124561338482,
          1.7064367190346361,
          1.7078609819354242,
          1.7092852448362121,
          1.710709507737,
          1.7121337706377882,
          1.713558033538576,
          1.7149822964393642,
          1.716406559340152,
          1.71783082224094,
          1.7192550851417279,
          1.720679348042516,
          1.722103610943304,
          1.723527873844092,
          1.72495213674488,
          1.7263763996456678,
          1.7278006625464557,
          1.7292249254472438,
          1.730649188348032,
          1.7320734512488198,
          1.7334977141496077,
          1.7349219770503956,
          1.7363462399511838,
          1.7377705028519719,
          1.7391947657527598,
          1.7406190286535477,
          1.7420432915543356,
          1.7434675544551237,
          1.7448918173559116,
          1.7463160802566997,
          1.7477403431574876,
          1.7491646060582755,
          1.7505888689590634,
          1.7520131318598515,
          1.7534373947606396,
          1.7548616576614275,
          1.7562859205622154,
          1.7577101834630033,
          1.7591344463637915,
          1.7605587092645794,
          1.7619829721653675,
          1.7634072350661554,
          1.7648314979669433,
          1.7662557608677312,
          1.7676800237685193,
          1.7691042866693074,
          1.7705285495700953,
          1.7719528124708832,
          1.773377075371671,
          1.774801338272459,
          1.7762256011732471,
          1.7776498640740352,
          1.7790741269748231,
          1.780498389875611,
          1.7819226527763992,
          1.783346915677187,
          1.784771178577975,
          1.786195441478763,
          1.787619704379551,
          1.7890439672803389,
          1.790468230181127,
          1.7918924930819151,
          1.793316755982703,
          1.794741018883491,
          1.7961652817842788,
          1.7975895446850667,
          1.7990138075858548,
          1.800438070486643,
          1.8018623333874308,
          1.8032865962882187,
          1.8047108591890066,
          1.8061351220897945,
          1.8075593849905827,
          1.8089836478913708,
          1.8104079107921587,
          1.8118321736929466,
          1.8132564365937347,
          1.8146806994945228,
          1.8161049623953105,
          1.8175292252960986,
          1.8189534881968865,
          1.8203777510976744,
          1.8218020139984625,
          1.8232262768992507,
          1.8246505398000386
         ],
         "xaxis": "x",
         "y": {
          "bdata": "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",
          "dtype": "f8"
         },
         "yaxis": "y"
        }
       ],
       "layout": {
        "barmode": "overlay",
        "height": 700,
        "hovermode": "closest",
        "legend": {
         "traceorder": "reversed"
        },
        "shapes": [
         {
          "line": {
           "color": "#1F77B4",
           "dash": "dashdot",
           "width": 3
          },
          "type": "line",
          "x0": 1.4351617921059923,
          "x1": 1.4351617921059923,
          "xref": "x",
          "y0": 0,
          "y1": 1,
          "yref": "y domain"
         },
         {
          "line": {
           "color": "#FF7F0E",
           "dash": "dashdot",
           "width": 3
          },
          "type": "line",
          "x0": 1.4860851910784492,
          "x1": 1.4860851910784492,
          "xref": "x",
          "y0": 0,
          "y1": 1,
          "yref": "y domain"
         }
        ],
        "template": {
         "data": {
          "bar": [
           {
            "error_x": {
             "color": "#2a3f5f"
            },
            "error_y": {
             "color": "#2a3f5f"
            },
            "marker": {
             "line": {
              "color": "#E5ECF6",
              "width": 0.5
             },
             "pattern": {
              "fillmode": "overlay",
              "size": 10,
              "solidity": 0.2
             }
            },
            "type": "bar"
           }
          ],
          "barpolar": [
           {
            "marker": {
             "line": {
              "color": "#E5ECF6",
              "width": 0.5
             },
             "pattern": {
              "fillmode": "overlay",
              "size": 10,
              "solidity": 0.2
             }
            },
            "type": "barpolar"
           }
          ],
          "carpet": [
           {
            "aaxis": {
             "endlinecolor": "#2a3f5f",
             "gridcolor": "white",
             "linecolor": "white",
             "minorgridcolor": "white",
             "startlinecolor": "#2a3f5f"
            },
            "baxis": {
             "endlinecolor": "#2a3f5f",
             "gridcolor": "white",
             "linecolor": "white",
             "minorgridcolor": "white",
             "startlinecolor": "#2a3f5f"
            },
            "type": "carpet"
           }
          ],
          "choropleth": [
           {
            "colorbar": {
             "outlinewidth": 0,
             "ticks": ""
            },
            "type": "choropleth"
           }
          ],
          "contour": [
           {
            "colorbar": {
             "outlinewidth": 0,
             "ticks": ""
            },
            "colorscale": [
             [
              0,
              "#0d0887"
             ],
             [
              0.1111111111111111,
              "#46039f"
             ],
             [
              0.2222222222222222,
              "#7201a8"
             ],
             [
              0.3333333333333333,
              "#9c179e"
             ],
             [
              0.4444444444444444,
              "#bd3786"
             ],
             [
              0.5555555555555556,
              "#d8576b"
             ],
             [
              0.6666666666666666,
              "#ed7953"
             ],
             [
              0.7777777777777778,
              "#fb9f3a"
             ],
             [
              0.8888888888888888,
              "#fdca26"
             ],
             [
              1,
              "#f0f921"
             ]
            ],
            "type": "contour"
           }
          ],
          "contourcarpet": [
           {
            "colorbar": {
             "outlinewidth": 0,
             "ticks": ""
            },
            "type": "contourcarpet"
           }
          ],
          "heatmap": [
           {
            "colorbar": {
             "outlinewidth": 0,
             "ticks": ""
            },
            "colorscale": [
             [
              0,
              "#0d0887"
             ],
             [
              0.1111111111111111,
              "#46039f"
             ],
             [
              0.2222222222222222,
              "#7201a8"
             ],
             [
              0.3333333333333333,
              "#9c179e"
             ],
             [
              0.4444444444444444,
              "#bd3786"
             ],
             [
              0.5555555555555556,
              "#d8576b"
             ],
             [
              0.6666666666666666,
              "#ed7953"
             ],
             [
              0.7777777777777778,
              "#fb9f3a"
             ],
             [
              0.8888888888888888,
              "#fdca26"
             ],
             [
              1,
              "#f0f921"
             ]
            ],
            "type": "heatmap"
           }
          ],
          "histogram": [
           {
            "marker": {
             "pattern": {
              "fillmode": "overlay",
              "size": 10,
              "solidity": 0.2
             }
            },
            "type": "histogram"
           }
          ],
          "histogram2d": [
           {
            "colorbar": {
             "outlinewidth": 0,
             "ticks": ""
            },
            "colorscale": [
             [
              0,
              "#0d0887"
             ],
             [
              0.1111111111111111,
              "#46039f"
             ],
             [
              0.2222222222222222,
              "#7201a8"
             ],
             [
              0.3333333333333333,
              "#9c179e"
             ],
             [
              0.4444444444444444,
              "#bd3786"
             ],
             [
              0.5555555555555556,
              "#d8576b"
             ],
             [
              0.6666666666666666,
              "#ed7953"
             ],
             [
              0.7777777777777778,
              "#fb9f3a"
             ],
             [
              0.8888888888888888,
              "#fdca26"
             ],
             [
              1,
              "#f0f921"
             ]
            ],
            "type": "histogram2d"
           }
          ],
          "histogram2dcontour": [
           {
            "colorbar": {
             "outlinewidth": 0,
             "ticks": ""
            },
            "colorscale": [
             [
              0,
              "#0d0887"
             ],
             [
              0.1111111111111111,
              "#46039f"
             ],
             [
              0.2222222222222222,
              "#7201a8"
             ],
             [
              0.3333333333333333,
              "#9c179e"
             ],
             [
              0.4444444444444444,
              "#bd3786"
             ],
             [
              0.5555555555555556,
              "#d8576b"
             ],
             [
              0.6666666666666666,
              "#ed7953"
             ],
             [
              0.7777777777777778,
              "#fb9f3a"
             ],
             [
              0.8888888888888888,
              "#fdca26"
             ],
             [
              1,
              "#f0f921"
             ]
            ],
            "type": "histogram2dcontour"
           }
          ],
          "mesh3d": [
           {
            "colorbar": {
             "outlinewidth": 0,
             "ticks": ""
            },
            "type": "mesh3d"
           }
          ],
          "parcoords": [
           {
            "line": {
             "colorbar": {
              "outlinewidth": 0,
              "ticks": ""
             }
            },
            "type": "parcoords"
           }
          ],
          "pie": [
           {
            "automargin": true,
            "type": "pie"
           }
          ],
          "scatter": [
           {
            "fillpattern": {
             "fillmode": "overlay",
             "size": 10,
             "solidity": 0.2
            },
            "type": "scatter"
           }
          ],
          "scatter3d": [
           {
            "line": {
             "colorbar": {
              "outlinewidth": 0,
              "ticks": ""
             }
            },
            "marker": {
             "colorbar": {
              "outlinewidth": 0,
              "ticks": ""
             }
            },
            "type": "scatter3d"
           }
          ],
          "scattercarpet": [
           {
            "marker": {
             "colorbar": {
              "outlinewidth": 0,
              "ticks": ""
             }
            },
            "type": "scattercarpet"
           }
          ],
          "scattergeo": [
           {
            "marker": {
             "colorbar": {
              "outlinewidth": 0,
              "ticks": ""
             }
            },
            "type": "scattergeo"
           }
          ],
          "scattergl": [
           {
            "marker": {
             "colorbar": {
              "outlinewidth": 0,
              "ticks": ""
             }
            },
            "type": "scattergl"
           }
          ],
          "scattermap": [
           {
            "marker": {
             "colorbar": {
              "outlinewidth": 0,
              "ticks": ""
             }
            },
            "type": "scattermap"
           }
          ],
          "scattermapbox": [
           {
            "marker": {
             "colorbar": {
              "outlinewidth": 0,
              "ticks": ""
             }
            },
            "type": "scattermapbox"
           }
          ],
          "scatterpolar": [
           {
            "marker": {
             "colorbar": {
              "outlinewidth": 0,
              "ticks": ""
             }
            },
            "type": "scatterpolar"
           }
          ],
          "scatterpolargl": [
           {
            "marker": {
             "colorbar": {
              "outlinewidth": 0,
              "ticks": ""
             }
            },
            "type": "scatterpolargl"
           }
          ],
          "scatterternary": [
           {
            "marker": {
             "colorbar": {
              "outlinewidth": 0,
              "ticks": ""
             }
            },
            "type": "scatterternary"
           }
          ],
          "surface": [
           {
            "colorbar": {
             "outlinewidth": 0,
             "ticks": ""
            },
            "colorscale": [
             [
              0,
              "#0d0887"
             ],
             [
              0.1111111111111111,
              "#46039f"
             ],
             [
              0.2222222222222222,
              "#7201a8"
             ],
             [
              0.3333333333333333,
              "#9c179e"
             ],
             [
              0.4444444444444444,
              "#bd3786"
             ],
             [
              0.5555555555555556,
              "#d8576b"
             ],
             [
              0.6666666666666666,
              "#ed7953"
             ],
             [
              0.7777777777777778,
              "#fb9f3a"
             ],
             [
              0.8888888888888888,
              "#fdca26"
             ],
             [
              1,
              "#f0f921"
             ]
            ],
            "type": "surface"
           }
          ],
          "table": [
           {
            "cells": {
             "fill": {
              "color": "#EBF0F8"
             },
             "line": {
              "color": "white"
             }
            },
            "header": {
             "fill": {
              "color": "#C8D4E3"
             },
             "line": {
              "color": "white"
             }
            },
            "type": "table"
           }
          ]
         },
         "layout": {
          "annotationdefaults": {
           "arrowcolor": "#2a3f5f",
           "arrowhead": 0,
           "arrowwidth": 1
          },
          "autotypenumbers": "strict",
          "coloraxis": {
           "colorbar": {
            "outlinewidth": 0,
            "ticks": ""
           }
          },
          "colorscale": {
           "diverging": [
            [
             0,
             "#8e0152"
            ],
            [
             0.1,
             "#c51b7d"
            ],
            [
             0.2,
             "#de77ae"
            ],
            [
             0.3,
             "#f1b6da"
            ],
            [
             0.4,
             "#fde0ef"
            ],
            [
             0.5,
             "#f7f7f7"
            ],
            [
             0.6,
             "#e6f5d0"
            ],
            [
             0.7,
             "#b8e186"
            ],
            [
             0.8,
             "#7fbc41"
            ],
            [
             0.9,
             "#4d9221"
            ],
            [
             1,
             "#276419"
            ]
           ],
           "sequential": [
            [
             0,
             "#0d0887"
            ],
            [
             0.1111111111111111,
             "#46039f"
            ],
            [
             0.2222222222222222,
             "#7201a8"
            ],
            [
             0.3333333333333333,
             "#9c179e"
            ],
            [
             0.4444444444444444,
             "#bd3786"
            ],
            [
             0.5555555555555556,
             "#d8576b"
            ],
            [
             0.6666666666666666,
             "#ed7953"
            ],
            [
             0.7777777777777778,
             "#fb9f3a"
            ],
            [
             0.8888888888888888,
             "#fdca26"
            ],
            [
             1,
             "#f0f921"
            ]
           ],
           "sequentialminus": [
            [
             0,
             "#0d0887"
            ],
            [
             0.1111111111111111,
             "#46039f"
            ],
            [
             0.2222222222222222,
             "#7201a8"
            ],
            [
             0.3333333333333333,
             "#9c179e"
            ],
            [
             0.4444444444444444,
             "#bd3786"
            ],
            [
             0.5555555555555556,
             "#d8576b"
            ],
            [
             0.6666666666666666,
             "#ed7953"
            ],
            [
             0.7777777777777778,
             "#fb9f3a"
            ],
            [
             0.8888888888888888,
             "#fdca26"
            ],
            [
             1,
             "#f0f921"
            ]
           ]
          },
          "colorway": [
           "#636efa",
           "#EF553B",
           "#00cc96",
           "#ab63fa",
           "#FFA15A",
           "#19d3f3",
           "#FF6692",
           "#B6E880",
           "#FF97FF",
           "#FECB52"
          ],
          "font": {
           "color": "#2a3f5f"
          },
          "geo": {
           "bgcolor": "white",
           "lakecolor": "white",
           "landcolor": "#E5ECF6",
           "showlakes": true,
           "showland": true,
           "subunitcolor": "white"
          },
          "hoverlabel": {
           "align": "left"
          },
          "hovermode": "closest",
          "mapbox": {
           "style": "light"
          },
          "paper_bgcolor": "white",
          "plot_bgcolor": "#E5ECF6",
          "polar": {
           "angularaxis": {
            "gridcolor": "white",
            "linecolor": "white",
            "ticks": ""
           },
           "bgcolor": "#E5ECF6",
           "radialaxis": {
            "gridcolor": "white",
            "linecolor": "white",
            "ticks": ""
           }
          },
          "scene": {
           "xaxis": {
            "backgroundcolor": "#E5ECF6",
            "gridcolor": "white",
            "gridwidth": 2,
            "linecolor": "white",
            "showbackground": true,
            "ticks": "",
            "zerolinecolor": "white"
           },
           "yaxis": {
            "backgroundcolor": "#E5ECF6",
            "gridcolor": "white",
            "gridwidth": 2,
            "linecolor": "white",
            "showbackground": true,
            "ticks": "",
            "zerolinecolor": "white"
           },
           "zaxis": {
            "backgroundcolor": "#E5ECF6",
            "gridcolor": "white",
            "gridwidth": 2,
            "linecolor": "white",
            "showbackground": true,
            "ticks": "",
            "zerolinecolor": "white"
           }
          },
          "shapedefaults": {
           "line": {
            "color": "#2a3f5f"
           }
          },
          "ternary": {
           "aaxis": {
            "gridcolor": "white",
            "linecolor": "white",
            "ticks": ""
           },
           "baxis": {
            "gridcolor": "white",
            "linecolor": "white",
            "ticks": ""
           },
           "bgcolor": "#E5ECF6",
           "caxis": {
            "gridcolor": "white",
            "linecolor": "white",
            "ticks": ""
           }
          },
          "title": {
           "x": 0.05
          },
          "xaxis": {
           "automargin": true,
           "gridcolor": "white",
           "linecolor": "white",
           "ticks": "",
           "title": {
            "standoff": 15
           },
           "zerolinecolor": "white",
           "zerolinewidth": 2
          },
          "yaxis": {
           "automargin": true,
           "gridcolor": "white",
           "linecolor": "white",
           "ticks": "",
           "title": {
            "standoff": 15
           },
           "zerolinecolor": "white",
           "zerolinewidth": 2
          }
         }
        },
        "title": {
         "text": "Short vs Tall fuel consumption T-test results: <br>\n<sup>stat : -3.932 | T-crit(0.95) : 1.652 & pvalue : 0.00011</sup>"
        },
        "xaxis": {
         "anchor": "y2",
         "domain": [
          0,
          1
         ],
         "zeroline": false
        },
        "yaxis": {
         "anchor": "free",
         "domain": [
          0,
          1
         ],
         "position": 0
        }
       }
      }
     },
     "metadata": {},
     "output_type": "display_data"
    }
   ],
   "source": [
    "tall = auto_df[auto_df.overall_height_cm > auto_df.overall_height_cm.median()]\n",
    "short = auto_df[auto_df.overall_height_cm <= auto_df.overall_height_cm.median()]\n",
    "fig, results = compare_samples(tall,short,labels=['>Median height','<Median height'],bin_size=.01)\n",
    "fig.update_layout(\n",
    "    title=f\"\"\"Short vs Tall fuel consumption T-test results: <br>\n",
    "<sup>stat : {results.statistic:0.3f} | T-crit(0.95) : {scipy.stats.t.ppf(0.95, results.df):0.3f} & pvalue : {results.pvalue:0.5f}</sup>\"\"\",\n",
    "    height=700,\n",
    ")\n",
    "fig.show()"
   ]
  },
  {
   "cell_type": "markdown",
   "metadata": {},
   "source": [
    "> #### <Median height & >Median height conclusions\n",
    "> \n",
    "> This one is a little more subtle, as the p-value is small (1.1E-4) but the statistic is _very_ low (-3.9) so we have to ___accept the null hypothesis___ that the fuel consumption is not significantly different between vehicles shorter or equal to the median height vs vehicles taller then the median height."
   ]
  },
  {
   "cell_type": "markdown",
   "metadata": {},
   "source": [
    "3. Apply ANOVA and Tukey's HSD test to the miles per gallon to compare the fuel economy of autos for different vehicle classes. Restrict the analysis to just the `vehicle_class` categories having 10 or more cars in the data. Note that ANOVA and Tukey's HSD are **two separate tests**! <span style=\"color:red\" float:right>[5 point]</span>"
   ]
  },
  {
   "cell_type": "markdown",
   "metadata": {},
   "source": [
    "ANOVA tests whether there are any significant differences between any of the categories: \n",
    "\n",
    "$H_0: $ are categories have the same mean mpg\n",
    "\n",
    "$H_1: $ at least one category has a different mean mpg\n",
    "\n",
    "If the p-value for ANOVA is significant, then we can perform a Tukey's HSD test to see which categories are significantly different from each other."
   ]
  },
  {
   "cell_type": "code",
   "execution_count": 12,
   "metadata": {},
   "outputs": [
    {
     "data": {
      "text/plain": [
       "['SUV: Small',\n",
       " 'SUV: Standard',\n",
       " 'Mid-size',\n",
       " 'Compact',\n",
       " 'Full-size',\n",
       " 'Subcompact',\n",
       " 'Two-seater']"
      ]
     },
     "metadata": {},
     "output_type": "display_data"
    },
    {
     "data": {
      "text/html": [
       "<div>\n",
       "<style scoped>\n",
       "    .dataframe tbody tr th:only-of-type {\n",
       "        vertical-align: middle;\n",
       "    }\n",
       "\n",
       "    .dataframe tbody tr th {\n",
       "        vertical-align: top;\n",
       "    }\n",
       "\n",
       "    .dataframe thead th {\n",
       "        text-align: right;\n",
       "    }\n",
       "</style>\n",
       "<table border=\"1\" class=\"dataframe\">\n",
       "  <thead>\n",
       "    <tr style=\"text-align: right;\">\n",
       "      <th></th>\n",
       "      <th>fuel_consumption_mpg_log</th>\n",
       "      <th>fuel_consumption_mpg</th>\n",
       "    </tr>\n",
       "  </thead>\n",
       "  <tbody>\n",
       "    <tr>\n",
       "      <th>count</th>\n",
       "      <td>181.000000</td>\n",
       "      <td>181.000000</td>\n",
       "    </tr>\n",
       "    <tr>\n",
       "      <th>mean</th>\n",
       "      <td>1.462401</td>\n",
       "      <td>29.751381</td>\n",
       "    </tr>\n",
       "    <tr>\n",
       "      <th>std</th>\n",
       "      <td>0.098131</td>\n",
       "      <td>6.995956</td>\n",
       "    </tr>\n",
       "    <tr>\n",
       "      <th>min</th>\n",
       "      <td>1.113943</td>\n",
       "      <td>13.000000</td>\n",
       "    </tr>\n",
       "    <tr>\n",
       "      <th>25%</th>\n",
       "      <td>1.414973</td>\n",
       "      <td>26.000000</td>\n",
       "    </tr>\n",
       "    <tr>\n",
       "      <th>50%</th>\n",
       "      <td>1.462398</td>\n",
       "      <td>29.000000</td>\n",
       "    </tr>\n",
       "    <tr>\n",
       "      <th>75%</th>\n",
       "      <td>1.518514</td>\n",
       "      <td>33.000000</td>\n",
       "    </tr>\n",
       "    <tr>\n",
       "      <th>max</th>\n",
       "      <td>1.826075</td>\n",
       "      <td>67.000000</td>\n",
       "    </tr>\n",
       "  </tbody>\n",
       "</table>\n",
       "</div>"
      ],
      "text/plain": [
       "       fuel_consumption_mpg_log  fuel_consumption_mpg\n",
       "count                181.000000            181.000000\n",
       "mean                   1.462401             29.751381\n",
       "std                    0.098131              6.995956\n",
       "min                    1.113943             13.000000\n",
       "25%                    1.414973             26.000000\n",
       "50%                    1.462398             29.000000\n",
       "75%                    1.518514             33.000000\n",
       "max                    1.826075             67.000000"
      ]
     },
     "metadata": {},
     "output_type": "display_data"
    }
   ],
   "source": [
    "classes = auto_df['vehicle_class'].value_counts()[auto_df['vehicle_class'].value_counts() >= 10].index.to_list()\n",
    "classes_mpg = auto_df.where(auto_df['vehicle_class'].isin(classes))[['vehicle_class','fuel_consumption_mpg_log','fuel_consumption_mpg']].dropna()\n",
    "display(classes,classes_mpg.describe())"
   ]
  },
  {
   "cell_type": "code",
   "execution_count": 13,
   "metadata": {},
   "outputs": [
    {
     "name": "stdout",
     "output_type": "stream",
     "text": [
      "                     df    sum_sq   mean_sq          F        PR(>F)\n",
      "C(vehicle_class)    6.0  0.518852  0.086475  12.389421  1.341236e-11\n",
      "Residual          174.0  1.214480  0.006980        NaN           NaN\n"
     ]
    }
   ],
   "source": [
    "model = ols('fuel_consumption_mpg_log ~ C(vehicle_class)', data = classes_mpg).fit()\n",
    "anova_table = sm.stats.anova_lm(model)\n",
    "print(anova_table)"
   ]
  },
  {
   "cell_type": "markdown",
   "metadata": {},
   "source": [
    "> #### ANOVA testing `vehicle_class` conclusion\n",
    "> \n",
    "> Based on the p-value (1.3E-11) we certainly have a group that is significantly different then the other categories, ___rejecting the null hypothesis___. Now on to using Tukey's HSD to determine which groups stand apart."
   ]
  },
  {
   "cell_type": "markdown",
   "metadata": {},
   "source": [
    "> Our generalized hypotheses for the Tukey's HSD comparison:\n",
    ">\n",
    "> $H_0$ : The mean fuel consumption of `group1` is not different then `group2`.\n",
    ">\n",
    "> $H_A$ : The mean fuel consumption of `group1` is significantly different then `group2`."
   ]
  },
  {
   "cell_type": "code",
   "execution_count": 14,
   "metadata": {},
   "outputs": [
    {
     "data": {
      "text/html": [
       "<table class=\"simpletable\">\n",
       "<caption>Multiple Comparison of Means - Tukey HSD, FWER=0.05</caption>\n",
       "<tr>\n",
       "     <th>group1</th>        <th>group2</th>     <th>meandiff</th>  <th>p-adj</th>  <th>lower</th>   <th>upper</th>  <th>reject</th>\n",
       "</tr>\n",
       "<tr>\n",
       "     <td>Compact</td>      <td>Full-size</td>    <td>-0.0582</td>  <td>0.432</td> <td>-0.146</td>  <td>0.0296</td>   <td>False</td>\n",
       "</tr>\n",
       "<tr>\n",
       "     <td>Compact</td>      <td>Mid-size</td>     <td>-0.0326</td> <td>0.8597</td> <td>-0.1084</td> <td>0.0433</td>   <td>False</td>\n",
       "</tr>\n",
       "<tr>\n",
       "     <td>Compact</td>     <td>SUV: Small</td>    <td>-0.0548</td>  <td>0.161</td> <td>-0.1198</td> <td>0.0102</td>   <td>False</td>\n",
       "</tr>\n",
       "<tr>\n",
       "     <td>Compact</td>    <td>SUV: Standard</td>  <td>-0.1604</td>   <td>0.0</td>  <td>-0.2307</td> <td>-0.0901</td>  <td>True</td> \n",
       "</tr>\n",
       "<tr>\n",
       "     <td>Compact</td>     <td>Subcompact</td>    <td>-0.0891</td> <td>0.0786</td> <td>-0.1835</td> <td>0.0054</td>   <td>False</td>\n",
       "</tr>\n",
       "<tr>\n",
       "     <td>Compact</td>     <td>Two-seater</td>    <td>-0.1553</td> <td>0.0001</td> <td>-0.2526</td> <td>-0.0579</td>  <td>True</td> \n",
       "</tr>\n",
       "<tr>\n",
       "    <td>Full-size</td>     <td>Mid-size</td>     <td>0.0256</td>   <td>0.969</td> <td>-0.0575</td> <td>0.1088</td>   <td>False</td>\n",
       "</tr>\n",
       "<tr>\n",
       "    <td>Full-size</td>    <td>SUV: Small</td>    <td>0.0035</td>    <td>1.0</td>   <td>-0.07</td>  <td>0.0769</td>   <td>False</td>\n",
       "</tr>\n",
       "<tr>\n",
       "    <td>Full-size</td>   <td>SUV: Standard</td>  <td>-0.1022</td> <td>0.0026</td> <td>-0.1804</td> <td>-0.024</td>   <td>True</td> \n",
       "</tr>\n",
       "<tr>\n",
       "    <td>Full-size</td>    <td>Subcompact</td>    <td>-0.0308</td> <td>0.9696</td> <td>-0.1313</td> <td>0.0696</td>   <td>False</td>\n",
       "</tr>\n",
       "<tr>\n",
       "    <td>Full-size</td>    <td>Two-seater</td>    <td>-0.097</td>  <td>0.0802</td> <td>-0.2002</td> <td>0.0061</td>   <td>False</td>\n",
       "</tr>\n",
       "<tr>\n",
       "    <td>Mid-size</td>     <td>SUV: Small</td>    <td>-0.0222</td> <td>0.9187</td> <td>-0.0808</td> <td>0.0365</td>   <td>False</td>\n",
       "</tr>\n",
       "<tr>\n",
       "    <td>Mid-size</td>    <td>SUV: Standard</td>  <td>-0.1278</td>   <td>0.0</td>  <td>-0.1923</td> <td>-0.0633</td>  <td>True</td> \n",
       "</tr>\n",
       "<tr>\n",
       "    <td>Mid-size</td>     <td>Subcompact</td>    <td>-0.0565</td>  <td>0.504</td> <td>-0.1467</td> <td>0.0337</td>   <td>False</td>\n",
       "</tr>\n",
       "<tr>\n",
       "    <td>Mid-size</td>     <td>Two-seater</td>    <td>-0.1227</td> <td>0.0024</td> <td>-0.2159</td> <td>-0.0294</td>  <td>True</td> \n",
       "</tr>\n",
       "<tr>\n",
       "   <td>SUV: Small</td>   <td>SUV: Standard</td>  <td>-0.1056</td>   <td>0.0</td>  <td>-0.157</td>  <td>-0.0543</td>  <td>True</td> \n",
       "</tr>\n",
       "<tr>\n",
       "   <td>SUV: Small</td>    <td>Subcompact</td>    <td>-0.0343</td> <td>0.8694</td> <td>-0.1156</td>  <td>0.047</td>   <td>False</td>\n",
       "</tr>\n",
       "<tr>\n",
       "   <td>SUV: Small</td>    <td>Two-seater</td>    <td>-0.1005</td> <td>0.0091</td> <td>-0.1852</td> <td>-0.0159</td>  <td>True</td> \n",
       "</tr>\n",
       "<tr>\n",
       "  <td>SUV: Standard</td>  <td>Subcompact</td>    <td>0.0713</td>  <td>0.1706</td> <td>-0.0142</td> <td>0.1569</td>   <td>False</td>\n",
       "</tr>\n",
       "<tr>\n",
       "  <td>SUV: Standard</td>  <td>Two-seater</td>    <td>0.0051</td>    <td>1.0</td>  <td>-0.0837</td>  <td>0.094</td>   <td>False</td>\n",
       "</tr>\n",
       "<tr>\n",
       "   <td>Subcompact</td>    <td>Two-seater</td>    <td>-0.0662</td> <td>0.5406</td> <td>-0.1751</td> <td>0.0427</td>   <td>False</td>\n",
       "</tr>\n",
       "</table>"
      ],
      "text/latex": [
       "\\begin{center}\n",
       "\\begin{tabular}{ccccccc}\n",
       "\\toprule\n",
       "\\textbf{group1} & \\textbf{group2} & \\textbf{meandiff} & \\textbf{p-adj} & \\textbf{lower} & \\textbf{upper} & \\textbf{reject}  \\\\\n",
       "\\midrule\n",
       "    Compact     &    Full-size    &      -0.0582      &     0.432      &     -0.146     &     0.0296     &      False       \\\\\n",
       "    Compact     &     Mid-size    &      -0.0326      &     0.8597     &    -0.1084     &     0.0433     &      False       \\\\\n",
       "    Compact     &    SUV: Small   &      -0.0548      &     0.161      &    -0.1198     &     0.0102     &      False       \\\\\n",
       "    Compact     &  SUV: Standard  &      -0.1604      &      0.0       &    -0.2307     &    -0.0901     &       True       \\\\\n",
       "    Compact     &    Subcompact   &      -0.0891      &     0.0786     &    -0.1835     &     0.0054     &      False       \\\\\n",
       "    Compact     &    Two-seater   &      -0.1553      &     0.0001     &    -0.2526     &    -0.0579     &       True       \\\\\n",
       "   Full-size    &     Mid-size    &       0.0256      &     0.969      &    -0.0575     &     0.1088     &      False       \\\\\n",
       "   Full-size    &    SUV: Small   &       0.0035      &      1.0       &     -0.07      &     0.0769     &      False       \\\\\n",
       "   Full-size    &  SUV: Standard  &      -0.1022      &     0.0026     &    -0.1804     &     -0.024     &       True       \\\\\n",
       "   Full-size    &    Subcompact   &      -0.0308      &     0.9696     &    -0.1313     &     0.0696     &      False       \\\\\n",
       "   Full-size    &    Two-seater   &       -0.097      &     0.0802     &    -0.2002     &     0.0061     &      False       \\\\\n",
       "    Mid-size    &    SUV: Small   &      -0.0222      &     0.9187     &    -0.0808     &     0.0365     &      False       \\\\\n",
       "    Mid-size    &  SUV: Standard  &      -0.1278      &      0.0       &    -0.1923     &    -0.0633     &       True       \\\\\n",
       "    Mid-size    &    Subcompact   &      -0.0565      &     0.504      &    -0.1467     &     0.0337     &      False       \\\\\n",
       "    Mid-size    &    Two-seater   &      -0.1227      &     0.0024     &    -0.2159     &    -0.0294     &       True       \\\\\n",
       "   SUV: Small   &  SUV: Standard  &      -0.1056      &      0.0       &     -0.157     &    -0.0543     &       True       \\\\\n",
       "   SUV: Small   &    Subcompact   &      -0.0343      &     0.8694     &    -0.1156     &     0.047      &      False       \\\\\n",
       "   SUV: Small   &    Two-seater   &      -0.1005      &     0.0091     &    -0.1852     &    -0.0159     &       True       \\\\\n",
       " SUV: Standard  &    Subcompact   &       0.0713      &     0.1706     &    -0.0142     &     0.1569     &      False       \\\\\n",
       " SUV: Standard  &    Two-seater   &       0.0051      &      1.0       &    -0.0837     &     0.094      &      False       \\\\\n",
       "   Subcompact   &    Two-seater   &      -0.0662      &     0.5406     &    -0.1751     &     0.0427     &      False       \\\\\n",
       "\\bottomrule\n",
       "\\end{tabular}\n",
       "%\\caption{Multiple Comparison of Means - Tukey HSD, FWER=0.05}\n",
       "\\end{center}"
      ],
      "text/plain": [
       "<class 'statsmodels.iolib.table.SimpleTable'>"
      ]
     },
     "execution_count": 14,
     "metadata": {},
     "output_type": "execute_result"
    }
   ],
   "source": [
    "Tukey_HSD = pairwise_tukeyhsd(classes_mpg['fuel_consumption_mpg_log'],classes_mpg['vehicle_class'])\n",
    "Tukey_HSD.summary()"
   ]
  },
  {
   "cell_type": "code",
   "execution_count": 15,
   "metadata": {},
   "outputs": [
    {
     "data": {
      "text/html": [
       "<div>\n",
       "<style scoped>\n",
       "    .dataframe tbody tr th:only-of-type {\n",
       "        vertical-align: middle;\n",
       "    }\n",
       "\n",
       "    .dataframe tbody tr th {\n",
       "        vertical-align: top;\n",
       "    }\n",
       "\n",
       "    .dataframe thead th {\n",
       "        text-align: right;\n",
       "    }\n",
       "</style>\n",
       "<table border=\"1\" class=\"dataframe\">\n",
       "  <thead>\n",
       "    <tr style=\"text-align: right;\">\n",
       "      <th></th>\n",
       "      <th>count</th>\n",
       "      <th>mean</th>\n",
       "      <th>std</th>\n",
       "      <th>min</th>\n",
       "      <th>25%</th>\n",
       "      <th>50%</th>\n",
       "      <th>75%</th>\n",
       "      <th>max</th>\n",
       "    </tr>\n",
       "    <tr>\n",
       "      <th>vehicle_class</th>\n",
       "      <th></th>\n",
       "      <th></th>\n",
       "      <th></th>\n",
       "      <th></th>\n",
       "      <th></th>\n",
       "      <th></th>\n",
       "      <th></th>\n",
       "      <th></th>\n",
       "    </tr>\n",
       "  </thead>\n",
       "  <tbody>\n",
       "    <tr>\n",
       "      <th>Compact</th>\n",
       "      <td>19.0</td>\n",
       "      <td>34.894737</td>\n",
       "      <td>5.445638</td>\n",
       "      <td>27.0</td>\n",
       "      <td>31.00</td>\n",
       "      <td>34.0</td>\n",
       "      <td>38.50</td>\n",
       "      <td>46.0</td>\n",
       "    </tr>\n",
       "    <tr>\n",
       "      <th>Full-size</th>\n",
       "      <td>14.0</td>\n",
       "      <td>31.857143</td>\n",
       "      <td>12.075768</td>\n",
       "      <td>17.0</td>\n",
       "      <td>24.75</td>\n",
       "      <td>29.5</td>\n",
       "      <td>35.75</td>\n",
       "      <td>67.0</td>\n",
       "    </tr>\n",
       "    <tr>\n",
       "      <th>Mid-size</th>\n",
       "      <td>25.0</td>\n",
       "      <td>33.000000</td>\n",
       "      <td>8.741663</td>\n",
       "      <td>20.0</td>\n",
       "      <td>27.00</td>\n",
       "      <td>32.0</td>\n",
       "      <td>38.00</td>\n",
       "      <td>63.0</td>\n",
       "    </tr>\n",
       "    <tr>\n",
       "      <th>SUV: Small</th>\n",
       "      <td>65.0</td>\n",
       "      <td>30.661538</td>\n",
       "      <td>4.039945</td>\n",
       "      <td>24.0</td>\n",
       "      <td>28.00</td>\n",
       "      <td>30.0</td>\n",
       "      <td>32.00</td>\n",
       "      <td>46.0</td>\n",
       "    </tr>\n",
       "    <tr>\n",
       "      <th>SUV: Standard</th>\n",
       "      <td>37.0</td>\n",
       "      <td>24.108108</td>\n",
       "      <td>3.470381</td>\n",
       "      <td>17.0</td>\n",
       "      <td>21.00</td>\n",
       "      <td>25.0</td>\n",
       "      <td>27.00</td>\n",
       "      <td>30.0</td>\n",
       "    </tr>\n",
       "    <tr>\n",
       "      <th>Subcompact</th>\n",
       "      <td>11.0</td>\n",
       "      <td>28.545455</td>\n",
       "      <td>5.279463</td>\n",
       "      <td>20.0</td>\n",
       "      <td>26.00</td>\n",
       "      <td>30.0</td>\n",
       "      <td>30.50</td>\n",
       "      <td>40.0</td>\n",
       "    </tr>\n",
       "    <tr>\n",
       "      <th>Two-seater</th>\n",
       "      <td>10.0</td>\n",
       "      <td>25.200000</td>\n",
       "      <td>7.495184</td>\n",
       "      <td>13.0</td>\n",
       "      <td>20.50</td>\n",
       "      <td>24.0</td>\n",
       "      <td>31.75</td>\n",
       "      <td>36.0</td>\n",
       "    </tr>\n",
       "  </tbody>\n",
       "</table>\n",
       "</div>"
      ],
      "text/plain": [
       "               count       mean        std   min    25%   50%    75%   max\n",
       "vehicle_class                                                             \n",
       "Compact         19.0  34.894737   5.445638  27.0  31.00  34.0  38.50  46.0\n",
       "Full-size       14.0  31.857143  12.075768  17.0  24.75  29.5  35.75  67.0\n",
       "Mid-size        25.0  33.000000   8.741663  20.0  27.00  32.0  38.00  63.0\n",
       "SUV: Small      65.0  30.661538   4.039945  24.0  28.00  30.0  32.00  46.0\n",
       "SUV: Standard   37.0  24.108108   3.470381  17.0  21.00  25.0  27.00  30.0\n",
       "Subcompact      11.0  28.545455   5.279463  20.0  26.00  30.0  30.50  40.0\n",
       "Two-seater      10.0  25.200000   7.495184  13.0  20.50  24.0  31.75  36.0"
      ]
     },
     "execution_count": 15,
     "metadata": {},
     "output_type": "execute_result"
    }
   ],
   "source": [
    "classes_mpg.groupby('vehicle_class')['fuel_consumption_mpg'].describe()"
   ]
  },
  {
   "cell_type": "markdown",
   "metadata": {},
   "source": [
    "#### Tukey's Test results\n",
    "\n",
    "Let's break out the list of groups that differ significantly ___(rejecting the null hypothesis = True)___:\n",
    "```\n",
    "   Compact | SUV: Standard\n",
    "   Compact | Two-seater\n",
    " Full-size | SUV: Standard\n",
    "  Mid-size | SUV: Standard\n",
    "  Mid-size | Two-seater\n",
    "SUV: Small | SUV: Standard\n",
    "SUV: Small | Two-seater\n",
    "```\n",
    "Based on that list, we can see that `SUV: Standard` and `Two-seater` (means of 24.1 (n=37) & 25.2 (n=10) respectively) are likely to be significantly lower then `Compact`, `Mid-size`, `SUV: Small`, and `Full-size` vs `SUV: Standard` but that may be because of the outlier of 67 within `Full-size`.\n",
    "\n",
    "Overall I believe that the `SUV: Standard` & `Two-seater` classes to be significantly different then the `Compact`, `Mid-size`, & `SUV: Small` classes, at least for this data sample."
   ]
  },
  {
   "cell_type": "markdown",
   "metadata": {},
   "source": [
    "4. Graphically explore the differences in mileage of the cars with different body styles. If any of these relationships are statistically significant (as suggested by Tukey's HSD), examine the sample size and decide if they should be considered practically significant. <span style=\"color:red\" float:right>[5 point]</span>"
   ]
  },
  {
   "cell_type": "code",
   "execution_count": 16,
   "metadata": {},
   "outputs": [
    {
     "data": {
      "application/vnd.plotly.v1+json": {
       "config": {
        "plotlyServerURL": "https://plot.ly"
       },
       "data": [
        {
         "alignmentgroup": "True",
         "hovertemplate": "vehicle_class=%{x}<br>fuel_consumption_mpg=%{y}<extra></extra>",
         "legendgroup": "Compact",
         "marker": {
          "color": "#636efa"
         },
         "name": "Compact",
         "notched": false,
         "offsetgroup": "Compact",
         "orientation": "v",
         "showlegend": true,
         "type": "box",
         "x": [
          "Compact",
          "Compact",
          "Compact",
          "Compact",
          "Compact",
          "Compact",
          "Compact",
          "Compact",
          "Compact",
          "Compact",
          "Compact",
          "Compact",
          "Compact",
          "Compact",
          "Compact",
          "Compact",
          "Compact",
          "Compact",
          "Compact"
         ],
         "x0": " ",
         "xaxis": "x",
         "y": {
          "bdata": "AAAAAACAQEAAAAAAAAA9QAAAAAAAAEFAAAAAAAAAPUAAAAAAAABAQAAAAAAAADxAAAAAAAAAO0AAAAAAAABFQAAAAAAAAD5AAAAAAACAQkAAAAAAAIBCQAAAAAAAgEBAAAAAAACAQEAAAAAAAABHQAAAAAAAAEVAAAAAAAAAQUAAAAAAAABEQAAAAAAAAEVAAAAAAACAQUA=",
          "dtype": "f8"
         },
         "y0": " ",
         "yaxis": "y"
        },
        {
         "alignmentgroup": "True",
         "hovertemplate": "vehicle_class=%{x}<br>fuel_consumption_mpg=%{y}<extra></extra>",
         "legendgroup": "SUV: Small",
         "marker": {
          "color": "#EF553B"
         },
         "name": "SUV: Small",
         "notched": false,
         "offsetgroup": "SUV: Small",
         "orientation": "v",
         "showlegend": true,
         "type": "box",
         "x": [
          "SUV: Small",
          "SUV: Small",
          "SUV: Small",
          "SUV: Small",
          "SUV: Small",
          "SUV: Small",
          "SUV: Small",
          "SUV: Small",
          "SUV: Small",
          "SUV: Small",
          "SUV: Small",
          "SUV: Small",
          "SUV: Small",
          "SUV: Small",
          "SUV: Small",
          "SUV: Small",
          "SUV: Small",
          "SUV: Small",
          "SUV: Small",
          "SUV: Small",
          "SUV: Small",
          "SUV: Small",
          "SUV: Small",
          "SUV: Small",
          "SUV: Small",
          "SUV: Small",
          "SUV: Small",
          "SUV: Small",
          "SUV: Small",
          "SUV: Small",
          "SUV: Small",
          "SUV: Small",
          "SUV: Small",
          "SUV: Small",
          "SUV: Small",
          "SUV: Small",
          "SUV: Small",
          "SUV: Small",
          "SUV: Small",
          "SUV: Small",
          "SUV: Small",
          "SUV: Small",
          "SUV: Small",
          "SUV: Small",
          "SUV: Small",
          "SUV: Small",
          "SUV: Small",
          "SUV: Small",
          "SUV: Small",
          "SUV: Small",
          "SUV: Small",
          "SUV: Small",
          "SUV: Small",
          "SUV: Small",
          "SUV: Small",
          "SUV: Small",
          "SUV: Small",
          "SUV: Small",
          "SUV: Small",
          "SUV: Small",
          "SUV: Small",
          "SUV: Small",
          "SUV: Small",
          "SUV: Small",
          "SUV: Small"
         ],
         "x0": " ",
         "xaxis": "x",
         "y": {
          "bdata": "AAAAAAAAOUAAAAAAAAA9QAAAAAAAAD5AAAAAAAAAP0AAAAAAAAA+QAAAAAAAADlAAAAAAAAAP0AAAAAAAABAQAAAAAAAAD1AAAAAAAAAPUAAAAAAAIBAQAAAAAAAAEBAAAAAAAAAP0AAAAAAAAA9QAAAAAAAADxAAAAAAAAAPkAAAAAAAABBQAAAAAAAAEJAAAAAAACAQEAAAAAAAAA/QAAAAAAAADhAAAAAAAAAPEAAAAAAAABCQAAAAAAAgEBAAAAAAACAQkAAAAAAAAA5QAAAAAAAADpAAAAAAAAAQ0AAAAAAAABBQAAAAAAAAD1AAAAAAAAAPkAAAAAAAAA7QAAAAAAAAD9AAAAAAAAAPkAAAAAAAABAQAAAAAAAADtAAAAAAACAQkAAAAAAAAA9QAAAAAAAAD9AAAAAAAAAOUAAAAAAAAA6QAAAAAAAAD1AAAAAAAAAOkAAAAAAAAA+QAAAAAAAADtAAAAAAAAAP0AAAAAAAAA+QAAAAAAAADtAAAAAAAAAPkAAAAAAAABAQAAAAAAAAEBAAAAAAAAAO0AAAAAAAIBDQAAAAAAAADpAAAAAAAAAQkAAAAAAAABBQAAAAAAAAD9AAAAAAAAAO0AAAAAAAABCQAAAAAAAAEdAAAAAAAAAO0AAAAAAAIBCQAAAAAAAAD5AAAAAAAAAPkAAAAAAAAA+QA==",
          "dtype": "f8"
         },
         "y0": " ",
         "yaxis": "y"
        },
        {
         "alignmentgroup": "True",
         "hovertemplate": "vehicle_class=%{x}<br>fuel_consumption_mpg=%{y}<extra></extra>",
         "legendgroup": "SUV: Standard",
         "marker": {
          "color": "#00cc96"
         },
         "name": "SUV: Standard",
         "notched": false,
         "offsetgroup": "SUV: Standard",
         "orientation": "v",
         "showlegend": true,
         "type": "box",
         "x": [
          "SUV: Standard",
          "SUV: Standard",
          "SUV: Standard",
          "SUV: Standard",
          "SUV: Standard",
          "SUV: Standard",
          "SUV: Standard",
          "SUV: Standard",
          "SUV: Standard",
          "SUV: Standard",
          "SUV: Standard",
          "SUV: Standard",
          "SUV: Standard",
          "SUV: Standard",
          "SUV: Standard",
          "SUV: Standard",
          "SUV: Standard",
          "SUV: Standard",
          "SUV: Standard",
          "SUV: Standard",
          "SUV: Standard",
          "SUV: Standard",
          "SUV: Standard",
          "SUV: Standard",
          "SUV: Standard",
          "SUV: Standard",
          "SUV: Standard",
          "SUV: Standard",
          "SUV: Standard",
          "SUV: Standard",
          "SUV: Standard",
          "SUV: Standard",
          "SUV: Standard",
          "SUV: Standard",
          "SUV: Standard",
          "SUV: Standard",
          "SUV: Standard"
         ],
         "x0": " ",
         "xaxis": "x",
         "y": {
          "bdata": "AAAAAAAAM0AAAAAAAAA6QAAAAAAAADhAAAAAAAAANUAAAAAAAAA7QAAAAAAAADtAAAAAAAAAOUAAAAAAAAA5QAAAAAAAADtAAAAAAAAAPEAAAAAAAAA9QAAAAAAAADlAAAAAAAAAOUAAAAAAAAA2QAAAAAAAADtAAAAAAAAAO0AAAAAAAAA+QAAAAAAAADxAAAAAAAAAOUAAAAAAAAA6QAAAAAAAADNAAAAAAAAAOkAAAAAAAAA0QAAAAAAAADFAAAAAAAAAN0AAAAAAAAA5QAAAAAAAADhAAAAAAAAAOEAAAAAAAAA1QAAAAAAAADVAAAAAAAAAOkAAAAAAAAAyQAAAAAAAADdAAAAAAAAAO0AAAAAAAAA0QAAAAAAAADFAAAAAAAAAPEA=",
          "dtype": "f8"
         },
         "y0": " ",
         "yaxis": "y"
        },
        {
         "alignmentgroup": "True",
         "hovertemplate": "vehicle_class=%{x}<br>fuel_consumption_mpg=%{y}<extra></extra>",
         "legendgroup": "Two-seater",
         "marker": {
          "color": "#ab63fa"
         },
         "name": "Two-seater",
         "notched": false,
         "offsetgroup": "Two-seater",
         "orientation": "v",
         "showlegend": true,
         "type": "box",
         "x": [
          "Two-seater",
          "Two-seater",
          "Two-seater",
          "Two-seater",
          "Two-seater",
          "Two-seater",
          "Two-seater",
          "Two-seater",
          "Two-seater",
          "Two-seater"
         ],
         "x0": " ",
         "xaxis": "x",
         "y": {
          "bdata": "AAAAAAAAOUAAAAAAAAA0QAAAAAAAgEBAAAAAAAAANkAAAAAAAAA3QAAAAAAAACpAAAAAAAAAMkAAAAAAAABCQAAAAAAAADxAAAAAAAAAQUA=",
          "dtype": "f8"
         },
         "y0": " ",
         "yaxis": "y"
        },
        {
         "alignmentgroup": "True",
         "hovertemplate": "vehicle_class=%{x}<br>fuel_consumption_mpg=%{y}<extra></extra>",
         "legendgroup": "Subcompact",
         "marker": {
          "color": "#FFA15A"
         },
         "name": "Subcompact",
         "notched": false,
         "offsetgroup": "Subcompact",
         "orientation": "v",
         "showlegend": true,
         "type": "box",
         "x": [
          "Subcompact",
          "Subcompact",
          "Subcompact",
          "Subcompact",
          "Subcompact",
          "Subcompact",
          "Subcompact",
          "Subcompact",
          "Subcompact",
          "Subcompact",
          "Subcompact"
         ],
         "x0": " ",
         "xaxis": "x",
         "y": {
          "bdata": "AAAAAAAAP0AAAAAAAAA8QAAAAAAAAD5AAAAAAAAAP0AAAAAAAAA0QAAAAAAAAD5AAAAAAAAAREAAAAAAAAA+QAAAAAAAADpAAAAAAAAANkAAAAAAAAA6QA==",
          "dtype": "f8"
         },
         "y0": " ",
         "yaxis": "y"
        },
        {
         "alignmentgroup": "True",
         "hovertemplate": "vehicle_class=%{x}<br>fuel_consumption_mpg=%{y}<extra></extra>",
         "legendgroup": "Mid-size",
         "marker": {
          "color": "#19d3f3"
         },
         "name": "Mid-size",
         "notched": false,
         "offsetgroup": "Mid-size",
         "orientation": "v",
         "showlegend": true,
         "type": "box",
         "x": [
          "Mid-size",
          "Mid-size",
          "Mid-size",
          "Mid-size",
          "Mid-size",
          "Mid-size",
          "Mid-size",
          "Mid-size",
          "Mid-size",
          "Mid-size",
          "Mid-size",
          "Mid-size",
          "Mid-size",
          "Mid-size",
          "Mid-size",
          "Mid-size",
          "Mid-size",
          "Mid-size",
          "Mid-size",
          "Mid-size",
          "Mid-size",
          "Mid-size",
          "Mid-size",
          "Mid-size",
          "Mid-size"
         ],
         "x0": " ",
         "xaxis": "x",
         "y": {
          "bdata": "AAAAAAAAQEAAAAAAAAA9QAAAAAAAADVAAAAAAAAANEAAAAAAAABAQAAAAAAAAENAAAAAAAAAO0AAAAAAAIBCQAAAAAAAAENAAAAAAAAAOkAAAAAAAABCQAAAAAAAADhAAAAAAAAAOUAAAAAAAIBDQAAAAAAAADhAAAAAAAAAPUAAAAAAAABCQAAAAAAAgENAAAAAAAAAPUAAAAAAAABEQAAAAAAAAENAAAAAAAAAQ0AAAAAAAIBPQAAAAAAAAEFAAAAAAAAAP0A=",
          "dtype": "f8"
         },
         "y0": " ",
         "yaxis": "y"
        },
        {
         "alignmentgroup": "True",
         "hovertemplate": "vehicle_class=%{x}<br>fuel_consumption_mpg=%{y}<extra></extra>",
         "legendgroup": "Full-size",
         "marker": {
          "color": "#FF6692"
         },
         "name": "Full-size",
         "notched": false,
         "offsetgroup": "Full-size",
         "orientation": "v",
         "showlegend": true,
         "type": "box",
         "x": [
          "Full-size",
          "Full-size",
          "Full-size",
          "Full-size",
          "Full-size",
          "Full-size",
          "Full-size",
          "Full-size",
          "Full-size",
          "Full-size",
          "Full-size",
          "Full-size",
          "Full-size",
          "Full-size"
         ],
         "x0": " ",
         "xaxis": "x",
         "y": {
          "bdata": "AAAAAAAAO0AAAAAAAAA7QAAAAAAAAD5AAAAAAAAANkAAAAAAAIBDQAAAAAAAAERAAAAAAADAUEAAAAAAAIBCQAAAAAAAAEBAAAAAAAAAN0AAAAAAAAA9QAAAAAAAADhAAAAAAAAAMUAAAAAAAABAQA==",
          "dtype": "f8"
         },
         "y0": " ",
         "yaxis": "y"
        }
       ],
       "layout": {
        "boxmode": "overlay",
        "height": 900,
        "legend": {
         "title": {
          "text": "vehicle_class"
         },
         "tracegroupgap": 0
        },
        "template": {
         "data": {
          "bar": [
           {
            "error_x": {
             "color": "#2a3f5f"
            },
            "error_y": {
             "color": "#2a3f5f"
            },
            "marker": {
             "line": {
              "color": "#E5ECF6",
              "width": 0.5
             },
             "pattern": {
              "fillmode": "overlay",
              "size": 10,
              "solidity": 0.2
             }
            },
            "type": "bar"
           }
          ],
          "barpolar": [
           {
            "marker": {
             "line": {
              "color": "#E5ECF6",
              "width": 0.5
             },
             "pattern": {
              "fillmode": "overlay",
              "size": 10,
              "solidity": 0.2
             }
            },
            "type": "barpolar"
           }
          ],
          "carpet": [
           {
            "aaxis": {
             "endlinecolor": "#2a3f5f",
             "gridcolor": "white",
             "linecolor": "white",
             "minorgridcolor": "white",
             "startlinecolor": "#2a3f5f"
            },
            "baxis": {
             "endlinecolor": "#2a3f5f",
             "gridcolor": "white",
             "linecolor": "white",
             "minorgridcolor": "white",
             "startlinecolor": "#2a3f5f"
            },
            "type": "carpet"
           }
          ],
          "choropleth": [
           {
            "colorbar": {
             "outlinewidth": 0,
             "ticks": ""
            },
            "type": "choropleth"
           }
          ],
          "contour": [
           {
            "colorbar": {
             "outlinewidth": 0,
             "ticks": ""
            },
            "colorscale": [
             [
              0,
              "#0d0887"
             ],
             [
              0.1111111111111111,
              "#46039f"
             ],
             [
              0.2222222222222222,
              "#7201a8"
             ],
             [
              0.3333333333333333,
              "#9c179e"
             ],
             [
              0.4444444444444444,
              "#bd3786"
             ],
             [
              0.5555555555555556,
              "#d8576b"
             ],
             [
              0.6666666666666666,
              "#ed7953"
             ],
             [
              0.7777777777777778,
              "#fb9f3a"
             ],
             [
              0.8888888888888888,
              "#fdca26"
             ],
             [
              1,
              "#f0f921"
             ]
            ],
            "type": "contour"
           }
          ],
          "contourcarpet": [
           {
            "colorbar": {
             "outlinewidth": 0,
             "ticks": ""
            },
            "type": "contourcarpet"
           }
          ],
          "heatmap": [
           {
            "colorbar": {
             "outlinewidth": 0,
             "ticks": ""
            },
            "colorscale": [
             [
              0,
              "#0d0887"
             ],
             [
              0.1111111111111111,
              "#46039f"
             ],
             [
              0.2222222222222222,
              "#7201a8"
             ],
             [
              0.3333333333333333,
              "#9c179e"
             ],
             [
              0.4444444444444444,
              "#bd3786"
             ],
             [
              0.5555555555555556,
              "#d8576b"
             ],
             [
              0.6666666666666666,
              "#ed7953"
             ],
             [
              0.7777777777777778,
              "#fb9f3a"
             ],
             [
              0.8888888888888888,
              "#fdca26"
             ],
             [
              1,
              "#f0f921"
             ]
            ],
            "type": "heatmap"
           }
          ],
          "histogram": [
           {
            "marker": {
             "pattern": {
              "fillmode": "overlay",
              "size": 10,
              "solidity": 0.2
             }
            },
            "type": "histogram"
           }
          ],
          "histogram2d": [
           {
            "colorbar": {
             "outlinewidth": 0,
             "ticks": ""
            },
            "colorscale": [
             [
              0,
              "#0d0887"
             ],
             [
              0.1111111111111111,
              "#46039f"
             ],
             [
              0.2222222222222222,
              "#7201a8"
             ],
             [
              0.3333333333333333,
              "#9c179e"
             ],
             [
              0.4444444444444444,
              "#bd3786"
             ],
             [
              0.5555555555555556,
              "#d8576b"
             ],
             [
              0.6666666666666666,
              "#ed7953"
             ],
             [
              0.7777777777777778,
              "#fb9f3a"
             ],
             [
              0.8888888888888888,
              "#fdca26"
             ],
             [
              1,
              "#f0f921"
             ]
            ],
            "type": "histogram2d"
           }
          ],
          "histogram2dcontour": [
           {
            "colorbar": {
             "outlinewidth": 0,
             "ticks": ""
            },
            "colorscale": [
             [
              0,
              "#0d0887"
             ],
             [
              0.1111111111111111,
              "#46039f"
             ],
             [
              0.2222222222222222,
              "#7201a8"
             ],
             [
              0.3333333333333333,
              "#9c179e"
             ],
             [
              0.4444444444444444,
              "#bd3786"
             ],
             [
              0.5555555555555556,
              "#d8576b"
             ],
             [
              0.6666666666666666,
              "#ed7953"
             ],
             [
              0.7777777777777778,
              "#fb9f3a"
             ],
             [
              0.8888888888888888,
              "#fdca26"
             ],
             [
              1,
              "#f0f921"
             ]
            ],
            "type": "histogram2dcontour"
           }
          ],
          "mesh3d": [
           {
            "colorbar": {
             "outlinewidth": 0,
             "ticks": ""
            },
            "type": "mesh3d"
           }
          ],
          "parcoords": [
           {
            "line": {
             "colorbar": {
              "outlinewidth": 0,
              "ticks": ""
             }
            },
            "type": "parcoords"
           }
          ],
          "pie": [
           {
            "automargin": true,
            "type": "pie"
           }
          ],
          "scatter": [
           {
            "fillpattern": {
             "fillmode": "overlay",
             "size": 10,
             "solidity": 0.2
            },
            "type": "scatter"
           }
          ],
          "scatter3d": [
           {
            "line": {
             "colorbar": {
              "outlinewidth": 0,
              "ticks": ""
             }
            },
            "marker": {
             "colorbar": {
              "outlinewidth": 0,
              "ticks": ""
             }
            },
            "type": "scatter3d"
           }
          ],
          "scattercarpet": [
           {
            "marker": {
             "colorbar": {
              "outlinewidth": 0,
              "ticks": ""
             }
            },
            "type": "scattercarpet"
           }
          ],
          "scattergeo": [
           {
            "marker": {
             "colorbar": {
              "outlinewidth": 0,
              "ticks": ""
             }
            },
            "type": "scattergeo"
           }
          ],
          "scattergl": [
           {
            "marker": {
             "colorbar": {
              "outlinewidth": 0,
              "ticks": ""
             }
            },
            "type": "scattergl"
           }
          ],
          "scattermap": [
           {
            "marker": {
             "colorbar": {
              "outlinewidth": 0,
              "ticks": ""
             }
            },
            "type": "scattermap"
           }
          ],
          "scattermapbox": [
           {
            "marker": {
             "colorbar": {
              "outlinewidth": 0,
              "ticks": ""
             }
            },
            "type": "scattermapbox"
           }
          ],
          "scatterpolar": [
           {
            "marker": {
             "colorbar": {
              "outlinewidth": 0,
              "ticks": ""
             }
            },
            "type": "scatterpolar"
           }
          ],
          "scatterpolargl": [
           {
            "marker": {
             "colorbar": {
              "outlinewidth": 0,
              "ticks": ""
             }
            },
            "type": "scatterpolargl"
           }
          ],
          "scatterternary": [
           {
            "marker": {
             "colorbar": {
              "outlinewidth": 0,
              "ticks": ""
             }
            },
            "type": "scatterternary"
           }
          ],
          "surface": [
           {
            "colorbar": {
             "outlinewidth": 0,
             "ticks": ""
            },
            "colorscale": [
             [
              0,
              "#0d0887"
             ],
             [
              0.1111111111111111,
              "#46039f"
             ],
             [
              0.2222222222222222,
              "#7201a8"
             ],
             [
              0.3333333333333333,
              "#9c179e"
             ],
             [
              0.4444444444444444,
              "#bd3786"
             ],
             [
              0.5555555555555556,
              "#d8576b"
             ],
             [
              0.6666666666666666,
              "#ed7953"
             ],
             [
              0.7777777777777778,
              "#fb9f3a"
             ],
             [
              0.8888888888888888,
              "#fdca26"
             ],
             [
              1,
              "#f0f921"
             ]
            ],
            "type": "surface"
           }
          ],
          "table": [
           {
            "cells": {
             "fill": {
              "color": "#EBF0F8"
             },
             "line": {
              "color": "white"
             }
            },
            "header": {
             "fill": {
              "color": "#C8D4E3"
             },
             "line": {
              "color": "white"
             }
            },
            "type": "table"
           }
          ]
         },
         "layout": {
          "annotationdefaults": {
           "arrowcolor": "#2a3f5f",
           "arrowhead": 0,
           "arrowwidth": 1
          },
          "autotypenumbers": "strict",
          "coloraxis": {
           "colorbar": {
            "outlinewidth": 0,
            "ticks": ""
           }
          },
          "colorscale": {
           "diverging": [
            [
             0,
             "#8e0152"
            ],
            [
             0.1,
             "#c51b7d"
            ],
            [
             0.2,
             "#de77ae"
            ],
            [
             0.3,
             "#f1b6da"
            ],
            [
             0.4,
             "#fde0ef"
            ],
            [
             0.5,
             "#f7f7f7"
            ],
            [
             0.6,
             "#e6f5d0"
            ],
            [
             0.7,
             "#b8e186"
            ],
            [
             0.8,
             "#7fbc41"
            ],
            [
             0.9,
             "#4d9221"
            ],
            [
             1,
             "#276419"
            ]
           ],
           "sequential": [
            [
             0,
             "#0d0887"
            ],
            [
             0.1111111111111111,
             "#46039f"
            ],
            [
             0.2222222222222222,
             "#7201a8"
            ],
            [
             0.3333333333333333,
             "#9c179e"
            ],
            [
             0.4444444444444444,
             "#bd3786"
            ],
            [
             0.5555555555555556,
             "#d8576b"
            ],
            [
             0.6666666666666666,
             "#ed7953"
            ],
            [
             0.7777777777777778,
             "#fb9f3a"
            ],
            [
             0.8888888888888888,
             "#fdca26"
            ],
            [
             1,
             "#f0f921"
            ]
           ],
           "sequentialminus": [
            [
             0,
             "#0d0887"
            ],
            [
             0.1111111111111111,
             "#46039f"
            ],
            [
             0.2222222222222222,
             "#7201a8"
            ],
            [
             0.3333333333333333,
             "#9c179e"
            ],
            [
             0.4444444444444444,
             "#bd3786"
            ],
            [
             0.5555555555555556,
             "#d8576b"
            ],
            [
             0.6666666666666666,
             "#ed7953"
            ],
            [
             0.7777777777777778,
             "#fb9f3a"
            ],
            [
             0.8888888888888888,
             "#fdca26"
            ],
            [
             1,
             "#f0f921"
            ]
           ]
          },
          "colorway": [
           "#636efa",
           "#EF553B",
           "#00cc96",
           "#ab63fa",
           "#FFA15A",
           "#19d3f3",
           "#FF6692",
           "#B6E880",
           "#FF97FF",
           "#FECB52"
          ],
          "font": {
           "color": "#2a3f5f"
          },
          "geo": {
           "bgcolor": "white",
           "lakecolor": "white",
           "landcolor": "#E5ECF6",
           "showlakes": true,
           "showland": true,
           "subunitcolor": "white"
          },
          "hoverlabel": {
           "align": "left"
          },
          "hovermode": "closest",
          "mapbox": {
           "style": "light"
          },
          "paper_bgcolor": "white",
          "plot_bgcolor": "#E5ECF6",
          "polar": {
           "angularaxis": {
            "gridcolor": "white",
            "linecolor": "white",
            "ticks": ""
           },
           "bgcolor": "#E5ECF6",
           "radialaxis": {
            "gridcolor": "white",
            "linecolor": "white",
            "ticks": ""
           }
          },
          "scene": {
           "xaxis": {
            "backgroundcolor": "#E5ECF6",
            "gridcolor": "white",
            "gridwidth": 2,
            "linecolor": "white",
            "showbackground": true,
            "ticks": "",
            "zerolinecolor": "white"
           },
           "yaxis": {
            "backgroundcolor": "#E5ECF6",
            "gridcolor": "white",
            "gridwidth": 2,
            "linecolor": "white",
            "showbackground": true,
            "ticks": "",
            "zerolinecolor": "white"
           },
           "zaxis": {
            "backgroundcolor": "#E5ECF6",
            "gridcolor": "white",
            "gridwidth": 2,
            "linecolor": "white",
            "showbackground": true,
            "ticks": "",
            "zerolinecolor": "white"
           }
          },
          "shapedefaults": {
           "line": {
            "color": "#2a3f5f"
           }
          },
          "ternary": {
           "aaxis": {
            "gridcolor": "white",
            "linecolor": "white",
            "ticks": ""
           },
           "baxis": {
            "gridcolor": "white",
            "linecolor": "white",
            "ticks": ""
           },
           "bgcolor": "#E5ECF6",
           "caxis": {
            "gridcolor": "white",
            "linecolor": "white",
            "ticks": ""
           }
          },
          "title": {
           "x": 0.05
          },
          "xaxis": {
           "automargin": true,
           "gridcolor": "white",
           "linecolor": "white",
           "ticks": "",
           "title": {
            "standoff": 15
           },
           "zerolinecolor": "white",
           "zerolinewidth": 2
          },
          "yaxis": {
           "automargin": true,
           "gridcolor": "white",
           "linecolor": "white",
           "ticks": "",
           "title": {
            "standoff": 15
           },
           "zerolinecolor": "white",
           "zerolinewidth": 2
          }
         }
        },
        "title": {
         "text": "MPG by Vehicle Class"
        },
        "xaxis": {
         "anchor": "y",
         "categoryarray": [
          "Compact",
          "SUV: Small",
          "SUV: Standard",
          "Two-seater",
          "Subcompact",
          "Mid-size",
          "Full-size"
         ],
         "categoryorder": "array",
         "domain": [
          0,
          1
         ],
         "title": {
          "text": "vehicle_class"
         }
        },
        "yaxis": {
         "anchor": "x",
         "domain": [
          0,
          1
         ],
         "title": {
          "text": "fuel_consumption_mpg"
         }
        }
       }
      }
     },
     "metadata": {},
     "output_type": "display_data"
    }
   ],
   "source": [
    "fig = pxp.box(classes_mpg,x='vehicle_class',y='fuel_consumption_mpg',color='vehicle_class',title=\"MPG by Vehicle Class\")\n",
    "fig.update_layout(height=900)\n",
    "fig.show()"
   ]
  },
  {
   "cell_type": "markdown",
   "metadata": {},
   "source": [
    "> ### Difference conclusions based on Tukey's HSD and the above box & whisker plot\n",
    "\n",
    "Given the distribution and number of observations of the `Two-seater` class, I don't believe it is practically significant. That said, the number of observations and small distribution of the `SUV: Standard` class, I do believe those differences (`Compact`, `Mid-size`, `SUV: Small`) to likely be practically different and likely start to separate given a larger dataset/sample."
   ]
  },
  {
   "cell_type": "markdown",
   "metadata": {},
   "source": [
    "   \n",
    "Note that to get full grade, for graphical tests you should include commentary on what your plot is showing. For formal tests should include the following:\n",
    "- begin by naming the test you are using\n",
    "- begin by clearly stating the null and alternative hypotheses\n",
    "- run the test and report the statistic and p-value\n",
    "- based on the p-value you should state the conclusion\n",
    "\n",
    "# End of assignment"
   ]
  }
 ],
 "metadata": {
  "kernelspec": {
   "display_name": "data-sci",
   "language": "python",
   "name": "python3"
  },
  "language_info": {
   "codemirror_mode": {
    "name": "ipython",
    "version": 3
   },
   "file_extension": ".py",
   "mimetype": "text/x-python",
   "name": "python",
   "nbconvert_exporter": "python",
   "pygments_lexer": "ipython3",
   "version": "3.13.2"
  }
 },
 "nbformat": 4,
 "nbformat_minor": 2
}
