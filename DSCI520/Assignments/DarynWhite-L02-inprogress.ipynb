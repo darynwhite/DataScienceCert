{
 "cells": [
  {
   "cell_type": "markdown",
   "metadata": {},
   "source": [
    "# Assignment\n",
    "\n",
    "In the lesson, we explored using plot asthetics to project additional dimensions onto the two dimensional plots, and used scatter plot matrices to examine the relationships between several variables. In this exercise we want to put that to practice in order to create good visualizations. \n",
    "\n",
    "Let's begin by loading the data."
   ]
  },
  {
   "cell_type": "code",
   "execution_count": null,
   "metadata": {},
   "outputs": [],
   "source": [
    "import pandas as pd\n",
    "import numpy as np\n",
    "import seaborn as sns\n",
    "import plotly.express as px\n",
    "sns.set_theme(rc={'figure.figsize':(16, 9)},palette='bright')\n",
    "plt = {'no':sns.color_palette('bright',2)[0],'yes':sns.color_palette('bright',2)[1]}\n",
    "\n",
    "bank = pd.read_csv('../../data/bank-full.csv', sep = \";\")\n",
    "bank.head()"
   ]
  },
  {
   "cell_type": "code",
   "execution_count": null,
   "metadata": {},
   "outputs": [],
   "source": [
    "bank.info()"
   ]
  },
  {
   "cell_type": "markdown",
   "metadata": {},
   "source": [
    "In some cases, faceting can be done relatively easily using the `row` or `col` arguments if that option exists. For example, `catplot` has that option, so we can use it to create several bar plots.\n",
    "\n",
    "- Using `catplot`, display a bar plot showing counts for each job, with bars color-coded by whether the customer is a homeowner or not. You need to ensure that your plot is well proportioned. <span style=\"color:red\" float:right>[1 point]</span>"
   ]
  },
  {
   "cell_type": "code",
   "execution_count": null,
   "metadata": {},
   "outputs": [],
   "source": [
    "sns.catplot(data=bank,y=\"job\",hue=\"housing\",kind=\"count\",aspect=2,palette=plt);"
   ]
  },
  {
   "cell_type": "markdown",
   "metadata": {},
   "source": [
    "- Break up the above plot by the customer's marital status. In other words, display a separate bar plot for each category in `marital`. You can use either the `row` or `col` argument to do this. <span style=\"color:red\" float:right>[2 point]</span>"
   ]
  },
  {
   "cell_type": "code",
   "execution_count": null,
   "metadata": {},
   "outputs": [],
   "source": [
    "sns.catplot(data=bank,y=\"job\",row=\"marital\",hue=\"housing\",kind=\"count\",aspect=4,height=3,palette=plt);"
   ]
  },
  {
   "cell_type": "markdown",
   "metadata": {},
   "source": [
    "- Use a visualization to show how homeowners and renters' balances compare, and whether this effect is different for married vs single customers. Note that balance is a highly skewed variable, so use the log of balance instead of balance itself (use the `np.log10` function). To simplify things, leave out the negative balances from the plot. Choose your visualization carefully and short summary of what your visualization shows. <span style=\"color:red\" float:right>[3 point]</span>"
   ]
  },
  {
   "cell_type": "code",
   "execution_count": 26,
   "metadata": {},
   "outputs": [],
   "source": [
    "%%capture\n",
    "bank['balance_adj'] = np.log10(bank.balance[bank.balance > 0])\n",
    "bank['balance_log'] = np.log10(bank.balance)\n",
    "ages = \"------\".join([str(a) for a in bank.age.sort_values().unique().tolist()[::2]]).split(\"---\")"
   ]
  },
  {
   "cell_type": "code",
   "execution_count": null,
   "metadata": {},
   "outputs": [],
   "source": [
    "p = sns.catplot(data=bank,x='age',y='balance_adj',hue='housing',aspect=5,height=2.5,row='marital',sharex=True,alpha=.4,palette=plt)\n",
    "p.set_xticklabels(ages,10,rotation=90);"
   ]
  },
  {
   "cell_type": "code",
   "execution_count": null,
   "metadata": {},
   "outputs": [],
   "source": [
    "p = sns.catplot(data=bank,x='age',y='balance_adj',hue='housing',aspect=4,height=2,row='marital',col='loan',sharex=True,alpha=0.4,palette=plt)\n",
    "p.set_xticklabels(ages,rotation=90);"
   ]
  },
  {
   "cell_type": "code",
   "execution_count": null,
   "metadata": {},
   "outputs": [],
   "source": [
    "p = sns.catplot(data=bank,kind='box',x='balance',hue='housing',y='housing',log_scale=True,aspect=3,palette=plt,linewidth=2,linecolor='black');"
   ]
  },
  {
   "cell_type": "markdown",
   "metadata": {},
   "source": [
    "#### Commentary on the above plots and this data set\n",
    "\n",
    "> Overall, the balances of those who likely own their home vs those who are renting their home are virtually the same, the only exception is that the spread is wider for those renting. So it is more likely that those owning a home maintain a higher balance then those who are renting. This is best shown from the above box plot.\n",
    ">\n",
    "> When adding the fourth dimension of age in the strip plots above the boxplot, it calls into question what is being asked by the housing column. The comparison between loan status adds to this as appear to be almost no home owners above 60 y/o despite marital status. It seems there is an unanswered question that this data cannot offer an anser to, but it is an interesting trend."
   ]
  },
  {
   "cell_type": "markdown",
   "metadata": {},
   "source": [
    "Unfortunately not all visualization functions in `seaborn` have a `row` or `col` argument. When that's the case, we use `FacetGrid`, which acts as a wrapper for the visualization functions. Here's an example with `sns.boxplot`:"
   ]
  },
  {
   "cell_type": "code",
   "execution_count": null,
   "metadata": {},
   "outputs": [],
   "source": [
    "g = sns.FacetGrid(data = bank, col = 'marital')\n",
    "g = g.map(sns.boxplot, data = bank, x = 'balance', y = 'housing', order = ['no', 'yes'])"
   ]
  },
  {
   "cell_type": "markdown",
   "metadata": {},
   "source": [
    "The above plot is not very good. It has the following flaws that you need to fix:\n",
    "\n",
    "- The box plot is too squashed because the `balance` has a very skewed distribution. So use `log_balance` instead. However, let the tick mark labels on the x-axis still show values for `balance`, not `log_balance`. To do this, you will need to find out how to specify where to draw tick marks and how to specify your own labels for the tick marks. Your tick marks on the x-axis should show only the following balance amounts: 0, 10, 100, 1000, 10k, and 100k. Your tick marks on the y-axis should show `rent` and `own`. <span style=\"color:red\" float:right>[3 point]</span>\n",
    "- Having three plots side by side like this is not adding any benefit. We want the plot to make it easy to compare housing vs renting, and to compare across marital status. So stack the three plots vertically instead, and stretch out the plots in the horizontal direction to make use of the space. <span style=\"color:red\" float:right>[2 point]</span>\n",
    "- Color-code the box-plots so that homeowners and renters have different colors. Note that in this case, color is a redundant aesthetic, but it makes it easier to make comparisons. <span style=\"color:red\" float:right>[1 point]</span>"
   ]
  },
  {
   "cell_type": "code",
   "execution_count": null,
   "metadata": {},
   "outputs": [],
   "source": [
    "g = sns.FacetGrid(data=bank, row='marital',sharex=True,xlim=(-1,6),aspect=9,height=2)\n",
    "g = g.map(sns.boxplot, data=bank, x='balance_log', y='housing', hue='housing', order=['no', 'yes'], palette=plt, linecolor='black')\n",
    "g.set_xticklabels(['','$0','$10','$100','$1000','$10k','$100k',''])\n",
    "g.set_yticklabels(['rent','own']);"
   ]
  },
  {
   "cell_type": "markdown",
   "metadata": {},
   "source": [
    "In addition to `FacetGrid`, there is also `PairGrid` and `JointGrid` which can be used to create customized versions of `pairplot` and `jointplot` which we used earlier, but we leave that for you to investigate.\n",
    "\n",
    "Generally, data visualization can feel like a lot of trial and error. This is normal, since it's hard to say if we have the right plot unless we look at it first. So feel free to try different plots, but be careful to not overdo it with aesthetics and focus on creating a plot that really makes the answer to the question stand out visually.\n",
    "\n",
    "# End of assignment"
   ]
  }
 ],
 "metadata": {
  "kernelspec": {
   "display_name": "data-sci",
   "language": "python",
   "name": "python3"
  },
  "language_info": {
   "codemirror_mode": {
    "name": "ipython",
    "version": 3
   },
   "file_extension": ".py",
   "mimetype": "text/x-python",
   "name": "python",
   "nbconvert_exporter": "python",
   "pygments_lexer": "ipython3",
   "version": "3.13.1"
  }
 },
 "nbformat": 4,
 "nbformat_minor": 2
}
