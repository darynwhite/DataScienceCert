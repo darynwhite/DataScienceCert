{
 "cells": [
  {
   "cell_type": "markdown",
   "metadata": {},
   "source": [
    "# Assignment\n",
    "\n",
    "In the lesson, we explored using plot asthetics to project additional dimensions onto the two dimensional plots, and used scatter plot matrices to examine the relationships between several variables. In this exercise we want to put that to practice in order to create good visualizations. \n",
    "\n",
    "Let's begin by loading the data."
   ]
  },
  {
   "cell_type": "code",
   "execution_count": null,
   "metadata": {},
   "outputs": [],
   "source": [
    "import pandas as pd\n",
    "import numpy as np\n",
    "import seaborn as sns\n",
    "sns.set(rc = {'figure.figsize': (10, 8)})\n",
    "\n",
    "bank = pd.read_csv('../data/bank-full.csv', sep = \";\")\n",
    "bank.head()"
   ]
  },
  {
   "cell_type": "markdown",
   "metadata": {},
   "source": [
    "In some cases, faceting can be done relatively easily using the `row` or `col` arguments if that option exists. For example, `catplot` has that option, so we can use it to create several bar plots.\n",
    "\n",
    "- Using `catplot`, display a bar plot showing counts for each job, with bars color-coded by whether the customer is a homeowner or not. You need to ensure that your plot is well proportioned. <span style=\"color:red\" float:right>[1 point]</span>"
   ]
  },
  {
   "cell_type": "code",
   "execution_count": null,
   "metadata": {},
   "outputs": [],
   "source": [
    "## your code goes here"
   ]
  },
  {
   "cell_type": "markdown",
   "metadata": {},
   "source": [
    "- Break up the above plot by the customer's marital status. In other words, display a separate bar plot for each category in `marital`. You can use either the `row` or `col` argument to do this. <span style=\"color:red\" float:right>[2 point]</span>"
   ]
  },
  {
   "cell_type": "code",
   "execution_count": null,
   "metadata": {},
   "outputs": [],
   "source": [
    "## your code goes here"
   ]
  },
  {
   "cell_type": "markdown",
   "metadata": {},
   "source": [
    "- Use a visualization to show how homeowners and renters' balances compare, and whether this effect is different for married vs single customers. Note that balance is a highly skewed variable, so use the log of balance instead of balance itself (use the `np.log10` function). To simplify things, leave out the negative balances from the plot. Choose your visualization carefully and short summary of what your visualization shows. <span style=\"color:red\" float:right>[3 point]</span>"
   ]
  },
  {
   "cell_type": "code",
   "execution_count": null,
   "metadata": {},
   "outputs": [],
   "source": [
    "## your code goes here"
   ]
  },
  {
   "cell_type": "markdown",
   "metadata": {},
   "source": [
    "Unfortunately not all visualization functions in `seaborn` have a `row` or `col` argument. When that's the case, we use `FacetGrid`, which acts as a wrapper for the visualization functions. Here's an example with `sns.boxplot`:"
   ]
  },
  {
   "cell_type": "code",
   "execution_count": null,
   "metadata": {},
   "outputs": [],
   "source": [
    "g = sns.FacetGrid(data = bank, col = 'marital')\n",
    "g = g.map(sns.boxplot, data = bank, x = 'balance', y = 'housing', order = ['no', 'yes'])"
   ]
  },
  {
   "cell_type": "markdown",
   "metadata": {},
   "source": [
    "The above plot is not very good. It has the following flaws that you need to fix:\n",
    "\n",
    "- The box plot is too squashed because the `balance` has a very skewed distribution. So use `log_balance` instead. However, let the tick mark labels on the x-axis still show values for `balance`, not `log_balance`. To do this, you will need to find out how to specify where to draw tick marks and how to specify your own labels for the tick marks. Your tick marks on the x-axis should show only the following balance amounts: 0, 10, 100, 1000, 10k, and 100k. Your tick marks on the y-axis should show `rent` and `own`. <span style=\"color:red\" float:right>[3 point]</span>\n",
    "- Having three plots side by side like this is not adding any benefit. We want the plot to make it easy to compare housing vs renting, and to compare across marital status. So stack the three plots vertically instead, and stretch out the plots in the horizontal direction to make use of the space. <span style=\"color:red\" float:right>[2 point]</span>\n",
    "- Color-code the box-plots so that homeowners and renters have different colors. Note that in this case, color is a redundant aesthetic, but it makes it easier to make comparisons. <span style=\"color:red\" float:right>[1 point]</span>"
   ]
  },
  {
   "cell_type": "code",
   "execution_count": null,
   "metadata": {},
   "outputs": [],
   "source": [
    "## your code goes here"
   ]
  },
  {
   "cell_type": "markdown",
   "metadata": {},
   "source": [
    "In addition to `FacetGrid`, there is also `PairGrid` and `JointGrid` which can be used to create customized versions of `pairplot` and `jointplot` which we used earlier, but we leave that for you to investigate.\n",
    "\n",
    "Generally, data visualization can feel like a lot of trial and error. This is normal, since it's hard to say if we have the right plot unless we look at it first. So feel free to try different plots, but be careful to not overdo it with aesthetics and focus on creating a plot that really makes the answer to the question stand out visually.\n",
    "\n",
    "# End of assignment"
   ]
  }
 ],
 "metadata": {
  "language_info": {
   "name": "python"
  }
 },
 "nbformat": 4,
 "nbformat_minor": 2
}
