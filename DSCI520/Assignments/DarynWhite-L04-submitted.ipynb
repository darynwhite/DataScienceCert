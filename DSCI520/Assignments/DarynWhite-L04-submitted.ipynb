{
 "cells": [
  {
   "cell_type": "markdown",
   "metadata": {},
   "source": [
    "# Assignment\n",
    "\n",
    "In this assignment, we implement a simulation for estimating profit made at a sandwich shop. Not suprisingly, the sandwich shop earns money every time a customer buys a sandwich. However, the inputs to the sandwich cost money. The daily profit is the amount customers pay for the sandwiches minus the cost of the inputs. Unlike the simulations we saw in class, this time we need to set up simulations for multiple dependent events, so we worked out some of the solution and leave you to fill in the gaps as pointed out in the assignment.\n",
    "\n",
    "## Problem statement\n",
    "\n",
    "To keep things simple, we make the following assumptions:\n",
    "\n",
    "- The shop bakes its own bread, and the bread must be used on the day it is made. The customers can select one of three types of bread, white, wheat, and multigrain.\n",
    "- The number of each type of bread baked in the sandwich shop is fixed. Presumably the shop manager has a plan for the day, and the bread is baked in advance of the customer arrivals.\n",
    "- The probability that each customer chooses a particular type of bread is fixed and known. There probabilities are 50% for white bread, 25% for wheat and 25% for multigrain. \n",
    "- If a customer's choice of bread is not available the customer leaves the shop without buying a sandwich.\n",
    "- The only perishable input which must be discarded at the end of each day is the bread. \n",
    "- Customers do NOT stop coming to the sandwich shop as a result of not finding their bread choice. In other words, we will not consider the possiblity of attrition.\n",
    "\n",
    "In order to develop an overall profitability model we must run through the following steps:\n",
    "\n",
    "1. Simulate the number of customer arrivals on a given day.\n",
    "1. Simulate supply and demand for each bread. Supply will be deterministic, but demand will depend on the number of customers who come on a given day and which type of bread they choose. \n",
    "1. Once we have supply and demand, we can finally simulate profit. \n",
    "\n",
    "Running the above simulation over many iterations will give us a distribution for daily profit. We can use this distribution to answer all sorts of questions about profitability. To help you better visualize the process, here's a flowchart that you can refer back to as you work on the assignment. \n",
    "\n",
    "![flow chart](../images/sandwich-shop.jpg)"
   ]
  },
  {
   "cell_type": "markdown",
   "metadata": {},
   "source": [
    "## Setting up the simulation\n",
    "\n",
    "We begin by writing a function called `daily_demand`, which will simulate how many of each bread customers will demand given the number of customers who walked in on a given day. To do so, we use the **multi-nomial distribution**, an extension of the binomial distribution that allows more than just two (binary) outcomes. We have 3 choices of bread in this case, each having a probability $p_i$ of occuring, where $p_i$ is fixed. How did we know to use the the multi-nomial distribution and not some other distribution? The answer to that is we made an educated guess based on (1) domain knowledge, and (2) knowledge of probability distributions. Of course we may be wrong about our choice, so when we're unsure it may be a good idea to also test other distributions, but we will stick with the multi-nomial distribution."
   ]
  },
  {
   "cell_type": "code",
   "execution_count": 1,
   "metadata": {},
   "outputs": [
    {
     "ename": "AttributeError",
     "evalue": "_ARRAY_API not found",
     "output_type": "error",
     "traceback": [
      "\u001b[0;31m---------------------------------------------------------------------------\u001b[0m",
      "\u001b[0;31mAttributeError\u001b[0m                            Traceback (most recent call last)",
      "\u001b[0;31mAttributeError\u001b[0m: _ARRAY_API not found"
     ]
    },
    {
     "ename": "AttributeError",
     "evalue": "_ARRAY_API not found",
     "output_type": "error",
     "traceback": [
      "\u001b[0;31m---------------------------------------------------------------------------\u001b[0m",
      "\u001b[0;31mAttributeError\u001b[0m                            Traceback (most recent call last)",
      "\u001b[0;31mAttributeError\u001b[0m: _ARRAY_API not found"
     ]
    },
    {
     "ename": "AttributeError",
     "evalue": "_ARRAY_API not found",
     "output_type": "error",
     "traceback": [
      "\u001b[0;31m---------------------------------------------------------------------------\u001b[0m",
      "\u001b[0;31mAttributeError\u001b[0m                            Traceback (most recent call last)",
      "\u001b[0;31mAttributeError\u001b[0m: _ARRAY_API not found"
     ]
    },
    {
     "ename": "AttributeError",
     "evalue": "_ARRAY_API not found",
     "output_type": "error",
     "traceback": [
      "\u001b[0;31m---------------------------------------------------------------------------\u001b[0m",
      "\u001b[0;31mAttributeError\u001b[0m                            Traceback (most recent call last)",
      "\u001b[0;31mAttributeError\u001b[0m: _ARRAY_API not found"
     ]
    }
   ],
   "source": [
    "%%capture\n",
    "\n",
    "import numpy as np\n",
    "import pandas as pd\n",
    "import itertools\n",
    "import scipy\n",
    "import scipy.stats\n",
    "from matplotlib import pyplot as plt\n",
    "import seaborn as sns\n",
    "import plotly.express as pxp\n",
    "\n",
    "sns.set(rc = {'figure.figsize': (10, 8)})\n",
    "sns.set_palette('muted')\n",
    "sns.set_style('ticks')"
   ]
  },
  {
   "cell_type": "code",
   "execution_count": 2,
   "metadata": {},
   "outputs": [
    {
     "data": {
      "text/plain": [
       "array([45, 28, 27])"
      ]
     },
     "execution_count": 2,
     "metadata": {},
     "output_type": "execute_result"
    }
   ],
   "source": [
    "bread_types = ['white', 'wheat', 'multigrain']\n",
    "bread_probs = [.50, .25, .25]\n",
    "\n",
    "def daily_demand(num_customers, bread_probs = bread_probs):\n",
    "    return np.random.multinomial(n = num_customers, pvals = bread_probs)\n",
    "\n",
    "daily_demand(num_customers = 100)"
   ]
  },
  {
   "cell_type": "markdown",
   "metadata": {},
   "source": [
    "Each time you rerun `daily_demand` you get a different distribution of bread types, but notice that the proportions of white, wheat and muligrain remain approximately 2, 1, 1, respectively.\n",
    "\n",
    "- Write a function called `daily_supply` with two inputs: `num_breads` and `bread_probs`. The function should output the number of each type of bread that the shop will make on any given day. This is determined by just multiplying `num_breads` with `bread_probs`, so as long as `num_breads` is fixed, the function returns the same output. <span style=\"color:red\" float:right>[2 point]</span>"
   ]
  },
  {
   "cell_type": "code",
   "execution_count": 3,
   "metadata": {},
   "outputs": [
    {
     "data": {
      "text/plain": [
       "array([63, 14, 23])"
      ]
     },
     "execution_count": 3,
     "metadata": {},
     "output_type": "execute_result"
    }
   ],
   "source": [
    "def daily_supply(num_breads, bread_probs = bread_probs):\n",
    "    return np.random.multinomial(n = num_breads, pvals = bread_probs)\n",
    "\n",
    "daily_supply(num_breads=100)"
   ]
  },
  {
   "cell_type": "markdown",
   "metadata": {},
   "source": [
    "As stated in the assumptions, the number of breads we make will be fixed, but we let the number of customers arriving every day vary by simulating it using a **Poisson distribution**. Often arrival rates, $k$, per time interval are modeled as a Poisson process with rate or intensity $\\lambda$, which can be written:\n",
    "\n",
    "$$P(k \\text{ arrivals } | \\lambda \\text{ average arrival rate}) = \\frac{\\lambda^k\\ e^{-\\lambda}}{k!}$$\n",
    "\n",
    "Note that if the arrival rate is fairly high, the difference between a Poisson distribution and an appropriate normal distribution will be minimal. So we could also use a normal distribution and apply the continuity correction, as shown in the lecture. But we will stick with the Poisson distribution.\n",
    "\n",
    "- Write a function called `sim_demand` with two inputs: `arrival_rate` and `num_days`. The function should return a `DataFrame` with `num_days` rows and three columns: `white`, `wheat` and `multigrain`. For each row, we first simulate the number of arrivals using a Poisson distribution with mean equal to `arrival_rate` and then use the `daily_demand` function to simulate daily demand for each type of bread which populate the columns. Refer to the flow chart to see a sample of the output. <span style=\"color:red\" float:right>[5 point]</span>"
   ]
  },
  {
   "cell_type": "code",
   "execution_count": 4,
   "metadata": {},
   "outputs": [
    {
     "data": {
      "text/html": [
       "<div>\n",
       "<style scoped>\n",
       "    .dataframe tbody tr th:only-of-type {\n",
       "        vertical-align: middle;\n",
       "    }\n",
       "\n",
       "    .dataframe tbody tr th {\n",
       "        vertical-align: top;\n",
       "    }\n",
       "\n",
       "    .dataframe thead th {\n",
       "        text-align: right;\n",
       "    }\n",
       "</style>\n",
       "<table border=\"1\" class=\"dataframe\">\n",
       "  <thead>\n",
       "    <tr style=\"text-align: right;\">\n",
       "      <th></th>\n",
       "      <th>white</th>\n",
       "      <th>wheat</th>\n",
       "      <th>multigrain</th>\n",
       "    </tr>\n",
       "  </thead>\n",
       "  <tbody>\n",
       "    <tr>\n",
       "      <th>0</th>\n",
       "      <td>50</td>\n",
       "      <td>19</td>\n",
       "      <td>27</td>\n",
       "    </tr>\n",
       "    <tr>\n",
       "      <th>1</th>\n",
       "      <td>51</td>\n",
       "      <td>17</td>\n",
       "      <td>20</td>\n",
       "    </tr>\n",
       "    <tr>\n",
       "      <th>2</th>\n",
       "      <td>48</td>\n",
       "      <td>21</td>\n",
       "      <td>26</td>\n",
       "    </tr>\n",
       "    <tr>\n",
       "      <th>3</th>\n",
       "      <td>50</td>\n",
       "      <td>33</td>\n",
       "      <td>27</td>\n",
       "    </tr>\n",
       "    <tr>\n",
       "      <th>4</th>\n",
       "      <td>56</td>\n",
       "      <td>20</td>\n",
       "      <td>21</td>\n",
       "    </tr>\n",
       "    <tr>\n",
       "      <th>5</th>\n",
       "      <td>59</td>\n",
       "      <td>28</td>\n",
       "      <td>26</td>\n",
       "    </tr>\n",
       "    <tr>\n",
       "      <th>6</th>\n",
       "      <td>52</td>\n",
       "      <td>25</td>\n",
       "      <td>26</td>\n",
       "    </tr>\n",
       "    <tr>\n",
       "      <th>7</th>\n",
       "      <td>58</td>\n",
       "      <td>24</td>\n",
       "      <td>25</td>\n",
       "    </tr>\n",
       "    <tr>\n",
       "      <th>8</th>\n",
       "      <td>52</td>\n",
       "      <td>23</td>\n",
       "      <td>17</td>\n",
       "    </tr>\n",
       "    <tr>\n",
       "      <th>9</th>\n",
       "      <td>49</td>\n",
       "      <td>21</td>\n",
       "      <td>27</td>\n",
       "    </tr>\n",
       "  </tbody>\n",
       "</table>\n",
       "</div>"
      ],
      "text/plain": [
       "  white wheat multigrain\n",
       "0    50    19         27\n",
       "1    51    17         20\n",
       "2    48    21         26\n",
       "3    50    33         27\n",
       "4    56    20         21\n",
       "5    59    28         26\n",
       "6    52    25         26\n",
       "7    58    24         25\n",
       "8    52    23         17\n",
       "9    49    21         27"
      ]
     },
     "execution_count": 4,
     "metadata": {},
     "output_type": "execute_result"
    }
   ],
   "source": [
    "def sim_demand(arrival_rate, num_days):\n",
    "    arrivals = np.random.poisson(lam = arrival_rate, size = num_days) # compute realizations of arrivals\n",
    "    demand = pd.DataFrame(columns = bread_types)\n",
    "\n",
    "    for i, a in enumerate(arrivals):\n",
    "        demand.loc[i, :] = daily_demand(num_customers = a)\n",
    "    \n",
    "    return demand\n",
    "\n",
    "sim_demand(arrival_rate = 100, num_days = 10) # run this to test your function"
   ]
  },
  {
   "cell_type": "markdown",
   "metadata": {},
   "source": [
    "- Write a function called `sim_supply` with two inputs: `num_breads`, and `num_days`. Just like the previous function, this function should also return a `DataFrame` with `num_days` rows and three columns: `white`, `wheat` and `multigrain`. For each row, we pass `num_breads` to `daily_supply` to get the number of each bread type we make, which we use to populate the columns. Since we are fixing `num_breads = 100`, we should see the same set of values at each row. Refer to the flow chart to see a sample of the output. <span style=\"color:red\" float:right>[5 point]</span>"
   ]
  },
  {
   "cell_type": "code",
   "execution_count": 5,
   "metadata": {},
   "outputs": [
    {
     "data": {
      "text/html": [
       "<div>\n",
       "<style scoped>\n",
       "    .dataframe tbody tr th:only-of-type {\n",
       "        vertical-align: middle;\n",
       "    }\n",
       "\n",
       "    .dataframe tbody tr th {\n",
       "        vertical-align: top;\n",
       "    }\n",
       "\n",
       "    .dataframe thead th {\n",
       "        text-align: right;\n",
       "    }\n",
       "</style>\n",
       "<table border=\"1\" class=\"dataframe\">\n",
       "  <thead>\n",
       "    <tr style=\"text-align: right;\">\n",
       "      <th></th>\n",
       "      <th>white</th>\n",
       "      <th>wheat</th>\n",
       "      <th>multigrain</th>\n",
       "    </tr>\n",
       "  </thead>\n",
       "  <tbody>\n",
       "    <tr>\n",
       "      <th>0</th>\n",
       "      <td>51</td>\n",
       "      <td>18</td>\n",
       "      <td>27</td>\n",
       "    </tr>\n",
       "    <tr>\n",
       "      <th>1</th>\n",
       "      <td>57</td>\n",
       "      <td>20</td>\n",
       "      <td>27</td>\n",
       "    </tr>\n",
       "    <tr>\n",
       "      <th>2</th>\n",
       "      <td>63</td>\n",
       "      <td>28</td>\n",
       "      <td>24</td>\n",
       "    </tr>\n",
       "    <tr>\n",
       "      <th>3</th>\n",
       "      <td>55</td>\n",
       "      <td>24</td>\n",
       "      <td>24</td>\n",
       "    </tr>\n",
       "    <tr>\n",
       "      <th>4</th>\n",
       "      <td>56</td>\n",
       "      <td>33</td>\n",
       "      <td>28</td>\n",
       "    </tr>\n",
       "    <tr>\n",
       "      <th>5</th>\n",
       "      <td>34</td>\n",
       "      <td>24</td>\n",
       "      <td>23</td>\n",
       "    </tr>\n",
       "    <tr>\n",
       "      <th>6</th>\n",
       "      <td>49</td>\n",
       "      <td>25</td>\n",
       "      <td>19</td>\n",
       "    </tr>\n",
       "    <tr>\n",
       "      <th>7</th>\n",
       "      <td>51</td>\n",
       "      <td>30</td>\n",
       "      <td>33</td>\n",
       "    </tr>\n",
       "    <tr>\n",
       "      <th>8</th>\n",
       "      <td>67</td>\n",
       "      <td>18</td>\n",
       "      <td>31</td>\n",
       "    </tr>\n",
       "    <tr>\n",
       "      <th>9</th>\n",
       "      <td>45</td>\n",
       "      <td>25</td>\n",
       "      <td>23</td>\n",
       "    </tr>\n",
       "  </tbody>\n",
       "</table>\n",
       "</div>"
      ],
      "text/plain": [
       "  white wheat multigrain\n",
       "0    51    18         27\n",
       "1    57    20         27\n",
       "2    63    28         24\n",
       "3    55    24         24\n",
       "4    56    33         28\n",
       "5    34    24         23\n",
       "6    49    25         19\n",
       "7    51    30         33\n",
       "8    67    18         31\n",
       "9    45    25         23"
      ]
     },
     "execution_count": 5,
     "metadata": {},
     "output_type": "execute_result"
    }
   ],
   "source": [
    "def sim_supply(num_breads, num_days):\n",
    "    estimate = np.random.poisson(lam=num_breads,size=num_days)\n",
    "    prepped = pd.DataFrame(columns=bread_types)\n",
    "    \n",
    "    for i,b in enumerate(estimate):\n",
    "        prepped.loc[i,:] = daily_supply(num_breads=b)\n",
    "    \n",
    "    return prepped\n",
    "\n",
    "sim_supply(num_breads = 100, num_days = 10) # run this to test your function"
   ]
  },
  {
   "cell_type": "markdown",
   "metadata": {},
   "source": [
    "You now have almost all the pieces in place to create the complete simulation of the distribution of profitability of the sandwich shop. The only missing piece is to compute the total profit based on the number of sandwiches sold and the cost of the bread baked.\n",
    "\n",
    "We can now calculate how much profit each bread type is generating over a certain number of days. To do so, we first simulate supply and demand for each of those days, we then calculate the revenue from all the bread we sold that day and subtract the cost of making bread that day. Keep in mind that not all the bread we made is sold, so left-overs contribute to the cost, but not to the revenue!"
   ]
  },
  {
   "cell_type": "markdown",
   "metadata": {},
   "source": [
    "- Complete the `sim_profit` function by calculating profit by type of bread. The function returns **three** `DataFrame` objects, containing the supply, demand, and profit for each bread type each day. Refer to the above flowchart if needed. <span style=\"color:red\" float:right>[15 point]</span>"
   ]
  },
  {
   "cell_type": "code",
   "execution_count": 6,
   "metadata": {},
   "outputs": [
    {
     "data": {
      "text/plain": [
       "(  white wheat multigrain\n",
       " 0    47    19         34\n",
       " 1    60    15         27\n",
       " 2    58    37         22,\n",
       "   white wheat multigrain\n",
       " 0    52    23         28\n",
       " 1    47    18         35\n",
       " 2    56    21         23,\n",
       "     white  wheat multigrain\n",
       " 0  129.25  52.25       69.5\n",
       " 1   113.0  41.25      74.25\n",
       " 2   151.5  37.75       60.5)"
      ]
     },
     "execution_count": 6,
     "metadata": {},
     "output_type": "execute_result"
    }
   ],
   "source": [
    "def sim_profit(num_breads, num_days, arrival_rate, sell_price, cost_price):\n",
    "\n",
    "    # simulate supply of sandwiches\n",
    "    supply = sim_supply(num_breads,num_days)\n",
    "    # simulate demand for sandwiches\n",
    "    demand = sim_demand(arrival_rate,num_days)\n",
    "    \n",
    "    # calculate left-over supply\n",
    "    leftovers = supply - demand    \n",
    "    # calculate profit (you may need many lines of code here)\n",
    "    sales = supply.where(leftovers < 0, demand)\n",
    "    profit = (sales * sell_price) - (supply * cost_price)\n",
    "\n",
    "    return supply, demand, profit\n",
    "\n",
    "sim_profit(num_breads = 100, num_days = 3, arrival_rate = 100, sell_price = 4.00, cost_price = 1.25) # run this to test your function"
   ]
  },
  {
   "cell_type": "markdown",
   "metadata": {},
   "source": [
    "The hard part is over! If all worked well we can now increase `num_days` to a much higher value so we can simulate a lot of data."
   ]
  },
  {
   "cell_type": "code",
   "execution_count": 7,
   "metadata": {},
   "outputs": [],
   "source": [
    "supplies, demands, profits = sim_profit(num_breads = 100, num_days = 1000, arrival_rate = 100, sell_price = 4.00, cost_price = 1.25)"
   ]
  },
  {
   "cell_type": "markdown",
   "metadata": {},
   "source": [
    "- Plot the distributions of total demand and total profit (\"total\" here means summing accross bread types). Based on the distributions describe what a \"good day\" and a \"bad day\" at the sandwich shop looks like in terms of demand and profit.  <span style=\"color:red\" float:right>[10 point]</span>"
   ]
  },
  {
   "cell_type": "code",
   "execution_count": 8,
   "metadata": {},
   "outputs": [
    {
     "data": {
      "text/html": [
       "<div>\n",
       "<style scoped>\n",
       "    .dataframe tbody tr th:only-of-type {\n",
       "        vertical-align: middle;\n",
       "    }\n",
       "\n",
       "    .dataframe tbody tr th {\n",
       "        vertical-align: top;\n",
       "    }\n",
       "\n",
       "    .dataframe thead th {\n",
       "        text-align: right;\n",
       "    }\n",
       "</style>\n",
       "<table border=\"1\" class=\"dataframe\">\n",
       "  <thead>\n",
       "    <tr style=\"text-align: right;\">\n",
       "      <th></th>\n",
       "      <th>demand</th>\n",
       "      <th>supply</th>\n",
       "      <th>profit</th>\n",
       "    </tr>\n",
       "    <tr>\n",
       "      <th>day</th>\n",
       "      <th></th>\n",
       "      <th></th>\n",
       "      <th></th>\n",
       "    </tr>\n",
       "  </thead>\n",
       "  <tbody>\n",
       "    <tr>\n",
       "      <th>0</th>\n",
       "      <td>92</td>\n",
       "      <td>99</td>\n",
       "      <td>224.25</td>\n",
       "    </tr>\n",
       "    <tr>\n",
       "      <th>1</th>\n",
       "      <td>89</td>\n",
       "      <td>100</td>\n",
       "      <td>175.0</td>\n",
       "    </tr>\n",
       "    <tr>\n",
       "      <th>2</th>\n",
       "      <td>109</td>\n",
       "      <td>126</td>\n",
       "      <td>278.5</td>\n",
       "    </tr>\n",
       "    <tr>\n",
       "      <th>3</th>\n",
       "      <td>112</td>\n",
       "      <td>105</td>\n",
       "      <td>232.75</td>\n",
       "    </tr>\n",
       "    <tr>\n",
       "      <th>4</th>\n",
       "      <td>88</td>\n",
       "      <td>95</td>\n",
       "      <td>141.25</td>\n",
       "    </tr>\n",
       "  </tbody>\n",
       "</table>\n",
       "</div>"
      ],
      "text/plain": [
       "    demand supply  profit\n",
       "day                      \n",
       "0       92     99  224.25\n",
       "1       89    100   175.0\n",
       "2      109    126   278.5\n",
       "3      112    105  232.75\n",
       "4       88     95  141.25"
      ]
     },
     "execution_count": 8,
     "metadata": {},
     "output_type": "execute_result"
    }
   ],
   "source": [
    "profit_demand = pd.DataFrame()\n",
    "profit_demand['demand'] = demands.sum(axis=1)\n",
    "profit_demand['supply'] = supplies.sum(axis=1)\n",
    "profit_demand['profit'] = profits.sum(axis=1)\n",
    "profit_demand.index.name = 'day'\n",
    "\n",
    "profit_demand.head()"
   ]
  },
  {
   "cell_type": "code",
   "execution_count": 12,
   "metadata": {},
   "outputs": [
    {
     "data": {
      "application/vnd.plotly.v1+json": {
       "config": {
        "plotlyServerURL": "https://plot.ly"
       },
       "data": [
        {
         "hovertemplate": "Number of Customers=%{x}<br>Total Profit ($)=%{y}<extra></extra>",
         "legendgroup": "",
         "marker": {
          "color": "#636efa",
          "symbol": "circle"
         },
         "mode": "markers",
         "name": "",
         "orientation": "v",
         "showlegend": false,
         "type": "scatter",
         "x": [
          92,
          89,
          109,
          112,
          88,
          105,
          80,
          97,
          91,
          93,
          94,
          106,
          96,
          97,
          106,
          99,
          99,
          106,
          101,
          105,
          84,
          119,
          100,
          100,
          89,
          113,
          108,
          109,
          96,
          92,
          95,
          94,
          115,
          107,
          91,
          97,
          96,
          106,
          112,
          92,
          93,
          118,
          95,
          111,
          106,
          111,
          80,
          101,
          91,
          87,
          85,
          101,
          86,
          87,
          102,
          94,
          115,
          98,
          88,
          104,
          94,
          91,
          109,
          94,
          105,
          103,
          98,
          82,
          104,
          93,
          113,
          92,
          99,
          101,
          113,
          92,
          112,
          84,
          87,
          119,
          94,
          92,
          105,
          92,
          88,
          74,
          99,
          102,
          106,
          90,
          113,
          111,
          98,
          120,
          94,
          94,
          93,
          107,
          101,
          109,
          95,
          96,
          98,
          105,
          109,
          90,
          103,
          88,
          80,
          108,
          81,
          111,
          88,
          99,
          102,
          98,
          102,
          95,
          93,
          106,
          82,
          100,
          107,
          102,
          101,
          107,
          96,
          106,
          87,
          116,
          107,
          94,
          116,
          90,
          101,
          98,
          112,
          92,
          105,
          102,
          101,
          103,
          93,
          97,
          96,
          114,
          100,
          106,
          95,
          101,
          108,
          88,
          110,
          102,
          92,
          96,
          111,
          93,
          93,
          86,
          107,
          104,
          115,
          94,
          74,
          85,
          93,
          96,
          90,
          97,
          103,
          86,
          102,
          96,
          105,
          95,
          94,
          93,
          89,
          89,
          83,
          110,
          116,
          87,
          98,
          105,
          85,
          103,
          116,
          104,
          115,
          94,
          111,
          107,
          111,
          97,
          115,
          108,
          101,
          99,
          81,
          83,
          111,
          104,
          111,
          98,
          108,
          109,
          95,
          108,
          99,
          106,
          89,
          102,
          83,
          106,
          99,
          88,
          103,
          88,
          93,
          113,
          113,
          107,
          106,
          101,
          107,
          84,
          105,
          79,
          89,
          96,
          79,
          99,
          137,
          122,
          105,
          95,
          102,
          104,
          89,
          108,
          100,
          97,
          96,
          110,
          103,
          95,
          101,
          88,
          111,
          84,
          113,
          98,
          108,
          90,
          102,
          109,
          83,
          82,
          101,
          103,
          90,
          116,
          108,
          106,
          96,
          107,
          111,
          95,
          105,
          94,
          108,
          96,
          90,
          107,
          102,
          90,
          112,
          107,
          95,
          92,
          98,
          112,
          88,
          105,
          95,
          86,
          107,
          89,
          98,
          124,
          108,
          102,
          110,
          85,
          97,
          121,
          104,
          85,
          115,
          88,
          98,
          105,
          96,
          90,
          96,
          111,
          96,
          76,
          99,
          102,
          113,
          96,
          94,
          93,
          105,
          109,
          95,
          97,
          106,
          97,
          107,
          99,
          90,
          98,
          101,
          94,
          102,
          104,
          95,
          93,
          91,
          113,
          114,
          96,
          114,
          99,
          90,
          82,
          108,
          100,
          117,
          107,
          94,
          96,
          110,
          102,
          87,
          93,
          85,
          82,
          111,
          99,
          100,
          99,
          104,
          94,
          104,
          107,
          106,
          90,
          95,
          89,
          117,
          101,
          118,
          89,
          82,
          88,
          86,
          105,
          101,
          97,
          107,
          111,
          108,
          97,
          99,
          97,
          103,
          88,
          96,
          91,
          110,
          75,
          99,
          94,
          108,
          90,
          112,
          97,
          116,
          94,
          105,
          93,
          114,
          89,
          104,
          96,
          99,
          101,
          102,
          85,
          106,
          102,
          92,
          93,
          116,
          107,
          120,
          116,
          101,
          91,
          85,
          98,
          84,
          104,
          112,
          104,
          124,
          106,
          101,
          88,
          91,
          110,
          85,
          105,
          99,
          108,
          102,
          109,
          105,
          98,
          105,
          112,
          117,
          103,
          103,
          97,
          96,
          104,
          91,
          108,
          89,
          87,
          98,
          85,
          100,
          89,
          87,
          124,
          99,
          91,
          106,
          87,
          117,
          91,
          104,
          99,
          112,
          108,
          98,
          113,
          93,
          101,
          105,
          86,
          96,
          81,
          110,
          91,
          92,
          92,
          104,
          114,
          96,
          96,
          93,
          106,
          114,
          88,
          103,
          104,
          95,
          103,
          103,
          103,
          101,
          101,
          96,
          107,
          111,
          96,
          88,
          103,
          88,
          89,
          99,
          100,
          99,
          97,
          109,
          92,
          90,
          96,
          95,
          103,
          96,
          81,
          100,
          104,
          90,
          101,
          112,
          92,
          92,
          121,
          100,
          104,
          81,
          101,
          94,
          115,
          92,
          96,
          72,
          103,
          109,
          101,
          95,
          100,
          86,
          99,
          102,
          102,
          107,
          104,
          91,
          92,
          85,
          106,
          102,
          111,
          86,
          106,
          98,
          101,
          81,
          102,
          103,
          117,
          114,
          109,
          94,
          102,
          107,
          116,
          83,
          109,
          121,
          108,
          87,
          98,
          98,
          96,
          100,
          86,
          84,
          85,
          103,
          104,
          95,
          101,
          97,
          101,
          88,
          103,
          92,
          110,
          104,
          77,
          98,
          104,
          103,
          92,
          94,
          94,
          102,
          99,
          99,
          115,
          84,
          91,
          93,
          100,
          106,
          102,
          92,
          95,
          107,
          98,
          92,
          110,
          98,
          96,
          87,
          116,
          100,
          85,
          97,
          98,
          102,
          122,
          96,
          108,
          120,
          98,
          98,
          84,
          110,
          94,
          108,
          107,
          100,
          106,
          101,
          107,
          88,
          102,
          84,
          109,
          93,
          91,
          99,
          115,
          87,
          100,
          84,
          89,
          108,
          108,
          102,
          109,
          99,
          85,
          92,
          97,
          110,
          106,
          95,
          113,
          85,
          112,
          103,
          106,
          95,
          105,
          85,
          99,
          101,
          106,
          79,
          115,
          103,
          110,
          103,
          116,
          118,
          110,
          94,
          87,
          113,
          115,
          91,
          110,
          99,
          98,
          94,
          92,
          101,
          99,
          109,
          95,
          109,
          89,
          95,
          89,
          100,
          105,
          98,
          113,
          99,
          105,
          106,
          100,
          90,
          91,
          93,
          108,
          99,
          90,
          95,
          96,
          91,
          109,
          98,
          94,
          105,
          108,
          111,
          98,
          101,
          97,
          112,
          104,
          95,
          103,
          93,
          105,
          102,
          103,
          121,
          87,
          101,
          100,
          94,
          108,
          94,
          105,
          100,
          87,
          111,
          96,
          105,
          116,
          90,
          105,
          105,
          84,
          100,
          96,
          101,
          96,
          95,
          112,
          97,
          104,
          106,
          112,
          108,
          95,
          91,
          110,
          105,
          100,
          94,
          88,
          90,
          92,
          100,
          94,
          101,
          96,
          92,
          84,
          103,
          114,
          92,
          105,
          97,
          89,
          102,
          101,
          81,
          96,
          95,
          123,
          76,
          98,
          89,
          98,
          100,
          94,
          89,
          95,
          117,
          90,
          109,
          99,
          98,
          107,
          90,
          125,
          91,
          103,
          108,
          93,
          111,
          123,
          101,
          84,
          104,
          110,
          121,
          91,
          93,
          108,
          93,
          107,
          95,
          83,
          109,
          104,
          91,
          95,
          105,
          106,
          95,
          93,
          107,
          103,
          119,
          108,
          87,
          111,
          103,
          113,
          99,
          109,
          101,
          91,
          95,
          92,
          82,
          95,
          91,
          101,
          94,
          99,
          101,
          111,
          110,
          91,
          93,
          99,
          108,
          94,
          83,
          99,
          108,
          102,
          98,
          106,
          99,
          110,
          98,
          99,
          100,
          98,
          103,
          100,
          101,
          116,
          104,
          101,
          114,
          100,
          97,
          104,
          98,
          96,
          101,
          86,
          95,
          89,
          120,
          91,
          97,
          83,
          105,
          86,
          92,
          111,
          115,
          94,
          83,
          111,
          117,
          92,
          85,
          105,
          89,
          110,
          91,
          115,
          111,
          89,
          115,
          105,
          90,
          95,
          102,
          122,
          94,
          113,
          92,
          118,
          87,
          87,
          94,
          106,
          85,
          105,
          82,
          99,
          98,
          94,
          83,
          94,
          106,
          107,
          83,
          110,
          104,
          118,
          96,
          86,
          109,
          105,
          108,
          105,
          109,
          98,
          88,
          122,
          79,
          98,
          100,
          89,
          93,
          99,
          91,
          80,
          89,
          106,
          115,
          101,
          103,
          92,
          79,
          88,
          97,
          90,
          96,
          109,
          95,
          105,
          120,
          92,
          94,
          98,
          110,
          106,
          107,
          88,
          105,
          95,
          111,
          117,
          114,
          92,
          108,
          132,
          93,
          102,
          104,
          98,
          107,
          99,
          87,
          104,
          99,
          103,
          88,
          105,
          89,
          105,
          102,
          113,
          118,
          89,
          109,
          98,
          99,
          112,
          97,
          113,
          124,
          121
         ],
         "xaxis": "x",
         "y": [
          224.25,
          175,
          278.5,
          232.75,
          141.25,
          261.75,
          200,
          254.75,
          187.75,
          217.25,
          211.25,
          244.75,
          229,
          249.5,
          219.5,
          261.5,
          244.75,
          254.75,
          238.25,
          254,
          184.5,
          283.25,
          257.25,
          249.25,
          213.75,
          258.5,
          258.25,
          291.5,
          234,
          232.5,
          241.25,
          240.5,
          236.5,
          275,
          234,
          251,
          236.75,
          251,
          217.25,
          235.5,
          240.75,
          286,
          243.5,
          252,
          254.5,
          272.25,
          205,
          217,
          224,
          204.25,
          201.25,
          229.5,
          200.5,
          226.75,
          248.25,
          234.25,
          242.5,
          228.25,
          222,
          253.5,
          230.25,
          209.5,
          258.5,
          236,
          224.75,
          265.75,
          219.5,
          196.75,
          227.5,
          228.5,
          285.75,
          228,
          223.25,
          267.5,
          291.5,
          246.5,
          286.5,
          201,
          230.25,
          304.25,
          222.25,
          226.75,
          262,
          205.5,
          220.75,
          183.5,
          238.75,
          256.25,
          242,
          194.75,
          267,
          266,
          258.75,
          261.5,
          228.25,
          216,
          232.25,
          279,
          239.5,
          258.5,
          247.5,
          224,
          238.5,
          244.75,
          290.25,
          208,
          242,
          222,
          197,
          234.25,
          205.75,
          259,
          208,
          251,
          237.5,
          222,
          242.75,
          223,
          211,
          255.75,
          176.25,
          253.5,
          268.25,
          239,
          238,
          264,
          246.5,
          281.5,
          143.5,
          275.25,
          247.25,
          225,
          253,
          181.5,
          243,
          225.5,
          247.5,
          230.25,
          266.25,
          261,
          217.5,
          243.75,
          204.25,
          211.5,
          225.5,
          292.5,
          237.5,
          241,
          205.75,
          255.25,
          241.75,
          217.75,
          266,
          231,
          223,
          242.5,
          256,
          170.25,
          206.5,
          168.5,
          259,
          259.25,
          280.5,
          205.75,
          176,
          195,
          206,
          240.25,
          206.5,
          243,
          265.5,
          188,
          244.75,
          206,
          269.5,
          214.75,
          231.5,
          226.75,
          234.75,
          213.75,
          205.75,
          255.25,
          270,
          230.5,
          232,
          234.25,
          198.75,
          244.25,
          279.25,
          220,
          269.5,
          234.75,
          209.75,
          273,
          233.75,
          256,
          286.5,
          225.5,
          189.75,
          225.5,
          189,
          200.25,
          274,
          245.25,
          188.25,
          228.25,
          261.25,
          226,
          246.25,
          261.75,
          254.75,
          220.5,
          192.5,
          249.5,
          207,
          237.75,
          222,
          198.5,
          274,
          210.75,
          204.5,
          264,
          236.5,
          228.75,
          265.5,
          245.25,
          213.75,
          195.25,
          238.5,
          173.5,
          218.25,
          236.5,
          180.5,
          234.5,
          253,
          275,
          258.5,
          223.75,
          263,
          253,
          219.5,
          282.25,
          243.75,
          231.75,
          229.25,
          240.25,
          237,
          213.75,
          261,
          223.25,
          284.25,
          188.75,
          264.25,
          239.75,
          285.25,
          187.75,
          241.25,
          246.25,
          205.5,
          203,
          241.25,
          225.5,
          215.75,
          250.25,
          257.5,
          231.75,
          200.5,
          254.5,
          244.75,
          187.5,
          234.5,
          231,
          290.25,
          250.25,
          217.5,
          259.5,
          260,
          217.5,
          239.75,
          236,
          217.25,
          241.5,
          220,
          250.5,
          201,
          226.25,
          246.5,
          216.5,
          264.25,
          217.25,
          250,
          314.75,
          240.5,
          229.25,
          250.25,
          195,
          238,
          269.5,
          238.5,
          167.75,
          253,
          206,
          233.75,
          219.5,
          239.25,
          238,
          225,
          243.5,
          216.25,
          174.75,
          250.5,
          241,
          264,
          234,
          196.5,
          223.75,
          253.5,
          267.75,
          231.5,
          237.5,
          272.75,
          244.75,
          278.5,
          229,
          230.25,
          242,
          236.5,
          246,
          252.25,
          276,
          210,
          212.5,
          215.5,
          240.5,
          240.5,
          240.25,
          254.5,
          243,
          210.5,
          177.25,
          253,
          260.25,
          269.5,
          256.5,
          243.5,
          200.75,
          283,
          264.75,
          212.5,
          199.75,
          211.25,
          186.75,
          259.5,
          246,
          267,
          236.5,
          213.25,
          220,
          251.5,
          279.75,
          269.5,
          185.75,
          222.25,
          202.25,
          277.75,
          269,
          292.5,
          183.5,
          182.5,
          191.5,
          214,
          250.75,
          251.75,
          229.75,
          247.5,
          257.25,
          250.25,
          254.25,
          251.5,
          217.25,
          248,
          228.25,
          228.5,
          180.25,
          239.25,
          182.5,
          236.5,
          237.25,
          251,
          188,
          236.25,
          261.75,
          281,
          222.5,
          231,
          221,
          271,
          234.75,
          260.75,
          244,
          241,
          219,
          248,
          217.25,
          261.5,
          266.75,
          212.25,
          227.25,
          276.5,
          241.25,
          269,
          301.25,
          240.25,
          232.75,
          197.5,
          241,
          199.5,
          259,
          250.75,
          250.75,
          272.25,
          221.25,
          225.25,
          234,
          216.5,
          282.25,
          165.75,
          265,
          251,
          284,
          242.5,
          277,
          236.5,
          260.75,
          219.5,
          248.25,
          273,
          261.75,
          242.25,
          242.5,
          231,
          259.25,
          186.25,
          276.25,
          234.5,
          208,
          217,
          204.25,
          255.25,
          204.75,
          203.25,
          242,
          218,
          224,
          271.75,
          223.75,
          282.25,
          192,
          260.5,
          214,
          254.5,
          277.75,
          248.25,
          237.25,
          233.25,
          239.25,
          216.25,
          188,
          236.75,
          177.5,
          264.5,
          217.75,
          236.75,
          209.25,
          227.5,
          255.25,
          227.75,
          246,
          215,
          277.75,
          242,
          197,
          253,
          222.75,
          227,
          259,
          236.25,
          267,
          244.75,
          220,
          227.75,
          240.5,
          224,
          235.25,
          213.25,
          247.5,
          235.75,
          206.5,
          224.25,
          239.5,
          231.5,
          218.75,
          242,
          248,
          225.5,
          215.25,
          257.5,
          242,
          224.5,
          181.5,
          220.75,
          258.75,
          231.25,
          236.5,
          246.75,
          210.5,
          225.25,
          282,
          265,
          257,
          185.25,
          236,
          218,
          255.75,
          201.75,
          246.25,
          173.75,
          274.5,
          247.25,
          253.75,
          199.75,
          255.25,
          217.75,
          232.5,
          251.25,
          262.5,
          276.5,
          253,
          219.5,
          234.75,
          204,
          279,
          236.5,
          271.75,
          211.25,
          243.75,
          239,
          236.25,
          189,
          242.5,
          257.75,
          263,
          239.25,
          258.25,
          232.5,
          267.75,
          258.75,
          269.5,
          200.75,
          253.25,
          217.25,
          273.25,
          213,
          260.75,
          218.75,
          234.5,
          255,
          198.75,
          207.25,
          221.25,
          223.5,
          238.75,
          200.75,
          227.25,
          196.75,
          231.75,
          203.75,
          238.25,
          221.25,
          276.5,
          253.75,
          179.25,
          251.25,
          251.25,
          229.5,
          217.25,
          240.75,
          234.25,
          242,
          263.25,
          240.5,
          294.25,
          204.25,
          218.5,
          226.5,
          264.25,
          247.25,
          252.25,
          230,
          195.25,
          248.25,
          230.25,
          231.25,
          265.5,
          266.75,
          233.25,
          214.25,
          251,
          243.75,
          200,
          235,
          254.5,
          263.25,
          312.25,
          236.25,
          228.25,
          284,
          201.25,
          247.5,
          189.5,
          242.5,
          224,
          240,
          253,
          242,
          245,
          245.25,
          272.25,
          202,
          251.75,
          202.25,
          276.5,
          231.5,
          217,
          229.5,
          270,
          204.25,
          260,
          214.25,
          223.5,
          261.25,
          269,
          260.25,
          276,
          242.75,
          204.5,
          224.25,
          244.75,
          246.75,
          254.25,
          241.75,
          244.75,
          198.75,
          286,
          258.5,
          249.5,
          234.75,
          269.5,
          188,
          253.75,
          238.25,
          258.5,
          198,
          284.75,
          212,
          239.25,
          236.75,
          259.5,
          264,
          229.75,
          221,
          208.5,
          251,
          257.25,
          223.25,
          261.25,
          255.75,
          197.75,
          241.25,
          228,
          269.5,
          236,
          277.75,
          238.75,
          248.75,
          208.25,
          250.75,
          219.5,
          242.75,
          257.5,
          223.5,
          222.75,
          209.5,
          244.25,
          286.25,
          268.25,
          204.5,
          184.25,
          227.25,
          237.5,
          267.25,
          236.25,
          235.75,
          246.25,
          220,
          266.75,
          181,
          228.25,
          281.25,
          237.25,
          275.25,
          252,
          258.75,
          243,
          282.75,
          248.25,
          205.25,
          256.5,
          209,
          252.5,
          246.5,
          272.75,
          244.75,
          225.5,
          234.75,
          250.75,
          236,
          253,
          228.5,
          237.75,
          268.75,
          229.25,
          278.25,
          221,
          239.25,
          286,
          222.25,
          269.5,
          277.75,
          188.5,
          243.75,
          229.5,
          236,
          240.75,
          222.5,
          268.25,
          249.25,
          223.5,
          215.75,
          273.5,
          258.5,
          204.75,
          210,
          285,
          245.25,
          254.75,
          201.5,
          203.25,
          223.75,
          220.25,
          264.25,
          250.5,
          235.75,
          242,
          246.75,
          194.75,
          242,
          266,
          217.5,
          276.75,
          257.5,
          217.75,
          241.5,
          265.25,
          169.25,
          256.25,
          234.25,
          286,
          182.75,
          244,
          218.5,
          256.5,
          231.5,
          246,
          210.25,
          250.75,
          272,
          193.25,
          255.25,
          227.25,
          204,
          266.75,
          212,
          286,
          226.5,
          241,
          261.25,
          219,
          253.5,
          275,
          240.25,
          160,
          224.25,
          275,
          274,
          230.25,
          242.75,
          273.25,
          217.25,
          263.25,
          233.5,
          185,
          280.5,
          250.5,
          231.25,
          237,
          230.25,
          249,
          234.5,
          202.25,
          278.25,
          254,
          262,
          258.75,
          190,
          228.25,
          258,
          258.5,
          233.5,
          232,
          241.75,
          220.5,
          243.75,
          243.75,
          203,
          190.5,
          224.75,
          247.75,
          241.25,
          224.75,
          254.75,
          249.75,
          200,
          234,
          225.25,
          236.5,
          250.25,
          242.25,
          192,
          206.25,
          289.5,
          228,
          233.75,
          245,
          239.5,
          241.25,
          184.75,
          248.5,
          240.25,
          239.25,
          242,
          230,
          246.75,
          276.5,
          234.75,
          222.5,
          290.25,
          242,
          214.5,
          228.25,
          248,
          238.25,
          251.75,
          204,
          222.75,
          214.75,
          287.75,
          226.5,
          257.5,
          208.25,
          268.25,
          215.5,
          236.75,
          283.25,
          280.5,
          229,
          204.5,
          282,
          271.75,
          228,
          200,
          249.25,
          219.75,
          277.75,
          203.75,
          256.25,
          253,
          224,
          252,
          266.75,
          203.75,
          248.75,
          246.75,
          220,
          197,
          239.25,
          230.5,
          285.5,
          198,
          208,
          235,
          244,
          170.25,
          231.25,
          205.5,
          233.5,
          239.25,
          238,
          208.25,
          236.75,
          255.5,
          255.75,
          196.75,
          277.75,
          238.25,
          272.25,
          238.75,
          215,
          263.5,
          217,
          228.25,
          269.25,
          264,
          244.25,
          225.75,
          271,
          197.5,
          229.5,
          213.5,
          226,
          231.25,
          237,
          240.25,
          188.25,
          200.25,
          248.5,
          278.5,
          233.5,
          255.75,
          206.75,
          193.25,
          196,
          247.75,
          225,
          229,
          261.25,
          238.75,
          282,
          214.5,
          223,
          241.5,
          234.25,
          260.75,
          275.25,
          234,
          215.75,
          250,
          236,
          236.5,
          244.75,
          233,
          225.75,
          253,
          283.25,
          219.5,
          231,
          274.75,
          255.75,
          212.25,
          251.75,
          207.5,
          263.25,
          204.5,
          253.5,
          189.5,
          263.5,
          214.75,
          221,
          237,
          232,
          290.75,
          220.75,
          254.5,
          245.25,
          202.25,
          237.5,
          215.75,
          255,
          299.75,
          299.75
         ],
         "yaxis": "y"
        }
       ],
       "layout": {
        "autosize": true,
        "legend": {
         "tracegroupgap": 0
        },
        "template": {
         "data": {
          "bar": [
           {
            "error_x": {
             "color": "#2a3f5f"
            },
            "error_y": {
             "color": "#2a3f5f"
            },
            "marker": {
             "line": {
              "color": "#E5ECF6",
              "width": 0.5
             },
             "pattern": {
              "fillmode": "overlay",
              "size": 10,
              "solidity": 0.2
             }
            },
            "type": "bar"
           }
          ],
          "barpolar": [
           {
            "marker": {
             "line": {
              "color": "#E5ECF6",
              "width": 0.5
             },
             "pattern": {
              "fillmode": "overlay",
              "size": 10,
              "solidity": 0.2
             }
            },
            "type": "barpolar"
           }
          ],
          "carpet": [
           {
            "aaxis": {
             "endlinecolor": "#2a3f5f",
             "gridcolor": "white",
             "linecolor": "white",
             "minorgridcolor": "white",
             "startlinecolor": "#2a3f5f"
            },
            "baxis": {
             "endlinecolor": "#2a3f5f",
             "gridcolor": "white",
             "linecolor": "white",
             "minorgridcolor": "white",
             "startlinecolor": "#2a3f5f"
            },
            "type": "carpet"
           }
          ],
          "choropleth": [
           {
            "colorbar": {
             "outlinewidth": 0,
             "ticks": ""
            },
            "type": "choropleth"
           }
          ],
          "contour": [
           {
            "colorbar": {
             "outlinewidth": 0,
             "ticks": ""
            },
            "colorscale": [
             [
              0,
              "#0d0887"
             ],
             [
              0.1111111111111111,
              "#46039f"
             ],
             [
              0.2222222222222222,
              "#7201a8"
             ],
             [
              0.3333333333333333,
              "#9c179e"
             ],
             [
              0.4444444444444444,
              "#bd3786"
             ],
             [
              0.5555555555555556,
              "#d8576b"
             ],
             [
              0.6666666666666666,
              "#ed7953"
             ],
             [
              0.7777777777777778,
              "#fb9f3a"
             ],
             [
              0.8888888888888888,
              "#fdca26"
             ],
             [
              1,
              "#f0f921"
             ]
            ],
            "type": "contour"
           }
          ],
          "contourcarpet": [
           {
            "colorbar": {
             "outlinewidth": 0,
             "ticks": ""
            },
            "type": "contourcarpet"
           }
          ],
          "heatmap": [
           {
            "colorbar": {
             "outlinewidth": 0,
             "ticks": ""
            },
            "colorscale": [
             [
              0,
              "#0d0887"
             ],
             [
              0.1111111111111111,
              "#46039f"
             ],
             [
              0.2222222222222222,
              "#7201a8"
             ],
             [
              0.3333333333333333,
              "#9c179e"
             ],
             [
              0.4444444444444444,
              "#bd3786"
             ],
             [
              0.5555555555555556,
              "#d8576b"
             ],
             [
              0.6666666666666666,
              "#ed7953"
             ],
             [
              0.7777777777777778,
              "#fb9f3a"
             ],
             [
              0.8888888888888888,
              "#fdca26"
             ],
             [
              1,
              "#f0f921"
             ]
            ],
            "type": "heatmap"
           }
          ],
          "heatmapgl": [
           {
            "colorbar": {
             "outlinewidth": 0,
             "ticks": ""
            },
            "colorscale": [
             [
              0,
              "#0d0887"
             ],
             [
              0.1111111111111111,
              "#46039f"
             ],
             [
              0.2222222222222222,
              "#7201a8"
             ],
             [
              0.3333333333333333,
              "#9c179e"
             ],
             [
              0.4444444444444444,
              "#bd3786"
             ],
             [
              0.5555555555555556,
              "#d8576b"
             ],
             [
              0.6666666666666666,
              "#ed7953"
             ],
             [
              0.7777777777777778,
              "#fb9f3a"
             ],
             [
              0.8888888888888888,
              "#fdca26"
             ],
             [
              1,
              "#f0f921"
             ]
            ],
            "type": "heatmapgl"
           }
          ],
          "histogram": [
           {
            "marker": {
             "pattern": {
              "fillmode": "overlay",
              "size": 10,
              "solidity": 0.2
             }
            },
            "type": "histogram"
           }
          ],
          "histogram2d": [
           {
            "colorbar": {
             "outlinewidth": 0,
             "ticks": ""
            },
            "colorscale": [
             [
              0,
              "#0d0887"
             ],
             [
              0.1111111111111111,
              "#46039f"
             ],
             [
              0.2222222222222222,
              "#7201a8"
             ],
             [
              0.3333333333333333,
              "#9c179e"
             ],
             [
              0.4444444444444444,
              "#bd3786"
             ],
             [
              0.5555555555555556,
              "#d8576b"
             ],
             [
              0.6666666666666666,
              "#ed7953"
             ],
             [
              0.7777777777777778,
              "#fb9f3a"
             ],
             [
              0.8888888888888888,
              "#fdca26"
             ],
             [
              1,
              "#f0f921"
             ]
            ],
            "type": "histogram2d"
           }
          ],
          "histogram2dcontour": [
           {
            "colorbar": {
             "outlinewidth": 0,
             "ticks": ""
            },
            "colorscale": [
             [
              0,
              "#0d0887"
             ],
             [
              0.1111111111111111,
              "#46039f"
             ],
             [
              0.2222222222222222,
              "#7201a8"
             ],
             [
              0.3333333333333333,
              "#9c179e"
             ],
             [
              0.4444444444444444,
              "#bd3786"
             ],
             [
              0.5555555555555556,
              "#d8576b"
             ],
             [
              0.6666666666666666,
              "#ed7953"
             ],
             [
              0.7777777777777778,
              "#fb9f3a"
             ],
             [
              0.8888888888888888,
              "#fdca26"
             ],
             [
              1,
              "#f0f921"
             ]
            ],
            "type": "histogram2dcontour"
           }
          ],
          "mesh3d": [
           {
            "colorbar": {
             "outlinewidth": 0,
             "ticks": ""
            },
            "type": "mesh3d"
           }
          ],
          "parcoords": [
           {
            "line": {
             "colorbar": {
              "outlinewidth": 0,
              "ticks": ""
             }
            },
            "type": "parcoords"
           }
          ],
          "pie": [
           {
            "automargin": true,
            "type": "pie"
           }
          ],
          "scatter": [
           {
            "fillpattern": {
             "fillmode": "overlay",
             "size": 10,
             "solidity": 0.2
            },
            "type": "scatter"
           }
          ],
          "scatter3d": [
           {
            "line": {
             "colorbar": {
              "outlinewidth": 0,
              "ticks": ""
             }
            },
            "marker": {
             "colorbar": {
              "outlinewidth": 0,
              "ticks": ""
             }
            },
            "type": "scatter3d"
           }
          ],
          "scattercarpet": [
           {
            "marker": {
             "colorbar": {
              "outlinewidth": 0,
              "ticks": ""
             }
            },
            "type": "scattercarpet"
           }
          ],
          "scattergeo": [
           {
            "marker": {
             "colorbar": {
              "outlinewidth": 0,
              "ticks": ""
             }
            },
            "type": "scattergeo"
           }
          ],
          "scattergl": [
           {
            "marker": {
             "colorbar": {
              "outlinewidth": 0,
              "ticks": ""
             }
            },
            "type": "scattergl"
           }
          ],
          "scattermapbox": [
           {
            "marker": {
             "colorbar": {
              "outlinewidth": 0,
              "ticks": ""
             }
            },
            "type": "scattermapbox"
           }
          ],
          "scatterpolar": [
           {
            "marker": {
             "colorbar": {
              "outlinewidth": 0,
              "ticks": ""
             }
            },
            "type": "scatterpolar"
           }
          ],
          "scatterpolargl": [
           {
            "marker": {
             "colorbar": {
              "outlinewidth": 0,
              "ticks": ""
             }
            },
            "type": "scatterpolargl"
           }
          ],
          "scatterternary": [
           {
            "marker": {
             "colorbar": {
              "outlinewidth": 0,
              "ticks": ""
             }
            },
            "type": "scatterternary"
           }
          ],
          "surface": [
           {
            "colorbar": {
             "outlinewidth": 0,
             "ticks": ""
            },
            "colorscale": [
             [
              0,
              "#0d0887"
             ],
             [
              0.1111111111111111,
              "#46039f"
             ],
             [
              0.2222222222222222,
              "#7201a8"
             ],
             [
              0.3333333333333333,
              "#9c179e"
             ],
             [
              0.4444444444444444,
              "#bd3786"
             ],
             [
              0.5555555555555556,
              "#d8576b"
             ],
             [
              0.6666666666666666,
              "#ed7953"
             ],
             [
              0.7777777777777778,
              "#fb9f3a"
             ],
             [
              0.8888888888888888,
              "#fdca26"
             ],
             [
              1,
              "#f0f921"
             ]
            ],
            "type": "surface"
           }
          ],
          "table": [
           {
            "cells": {
             "fill": {
              "color": "#EBF0F8"
             },
             "line": {
              "color": "white"
             }
            },
            "header": {
             "fill": {
              "color": "#C8D4E3"
             },
             "line": {
              "color": "white"
             }
            },
            "type": "table"
           }
          ]
         },
         "layout": {
          "annotationdefaults": {
           "arrowcolor": "#2a3f5f",
           "arrowhead": 0,
           "arrowwidth": 1
          },
          "autotypenumbers": "strict",
          "coloraxis": {
           "colorbar": {
            "outlinewidth": 0,
            "ticks": ""
           }
          },
          "colorscale": {
           "diverging": [
            [
             0,
             "#8e0152"
            ],
            [
             0.1,
             "#c51b7d"
            ],
            [
             0.2,
             "#de77ae"
            ],
            [
             0.3,
             "#f1b6da"
            ],
            [
             0.4,
             "#fde0ef"
            ],
            [
             0.5,
             "#f7f7f7"
            ],
            [
             0.6,
             "#e6f5d0"
            ],
            [
             0.7,
             "#b8e186"
            ],
            [
             0.8,
             "#7fbc41"
            ],
            [
             0.9,
             "#4d9221"
            ],
            [
             1,
             "#276419"
            ]
           ],
           "sequential": [
            [
             0,
             "#0d0887"
            ],
            [
             0.1111111111111111,
             "#46039f"
            ],
            [
             0.2222222222222222,
             "#7201a8"
            ],
            [
             0.3333333333333333,
             "#9c179e"
            ],
            [
             0.4444444444444444,
             "#bd3786"
            ],
            [
             0.5555555555555556,
             "#d8576b"
            ],
            [
             0.6666666666666666,
             "#ed7953"
            ],
            [
             0.7777777777777778,
             "#fb9f3a"
            ],
            [
             0.8888888888888888,
             "#fdca26"
            ],
            [
             1,
             "#f0f921"
            ]
           ],
           "sequentialminus": [
            [
             0,
             "#0d0887"
            ],
            [
             0.1111111111111111,
             "#46039f"
            ],
            [
             0.2222222222222222,
             "#7201a8"
            ],
            [
             0.3333333333333333,
             "#9c179e"
            ],
            [
             0.4444444444444444,
             "#bd3786"
            ],
            [
             0.5555555555555556,
             "#d8576b"
            ],
            [
             0.6666666666666666,
             "#ed7953"
            ],
            [
             0.7777777777777778,
             "#fb9f3a"
            ],
            [
             0.8888888888888888,
             "#fdca26"
            ],
            [
             1,
             "#f0f921"
            ]
           ]
          },
          "colorway": [
           "#636efa",
           "#EF553B",
           "#00cc96",
           "#ab63fa",
           "#FFA15A",
           "#19d3f3",
           "#FF6692",
           "#B6E880",
           "#FF97FF",
           "#FECB52"
          ],
          "font": {
           "color": "#2a3f5f"
          },
          "geo": {
           "bgcolor": "white",
           "lakecolor": "white",
           "landcolor": "#E5ECF6",
           "showlakes": true,
           "showland": true,
           "subunitcolor": "white"
          },
          "hoverlabel": {
           "align": "left"
          },
          "hovermode": "closest",
          "mapbox": {
           "style": "light"
          },
          "paper_bgcolor": "white",
          "plot_bgcolor": "#E5ECF6",
          "polar": {
           "angularaxis": {
            "gridcolor": "white",
            "linecolor": "white",
            "ticks": ""
           },
           "bgcolor": "#E5ECF6",
           "radialaxis": {
            "gridcolor": "white",
            "linecolor": "white",
            "ticks": ""
           }
          },
          "scene": {
           "xaxis": {
            "backgroundcolor": "#E5ECF6",
            "gridcolor": "white",
            "gridwidth": 2,
            "linecolor": "white",
            "showbackground": true,
            "ticks": "",
            "zerolinecolor": "white"
           },
           "yaxis": {
            "backgroundcolor": "#E5ECF6",
            "gridcolor": "white",
            "gridwidth": 2,
            "linecolor": "white",
            "showbackground": true,
            "ticks": "",
            "zerolinecolor": "white"
           },
           "zaxis": {
            "backgroundcolor": "#E5ECF6",
            "gridcolor": "white",
            "gridwidth": 2,
            "linecolor": "white",
            "showbackground": true,
            "ticks": "",
            "zerolinecolor": "white"
           }
          },
          "shapedefaults": {
           "line": {
            "color": "#2a3f5f"
           }
          },
          "ternary": {
           "aaxis": {
            "gridcolor": "white",
            "linecolor": "white",
            "ticks": ""
           },
           "baxis": {
            "gridcolor": "white",
            "linecolor": "white",
            "ticks": ""
           },
           "bgcolor": "#E5ECF6",
           "caxis": {
            "gridcolor": "white",
            "linecolor": "white",
            "ticks": ""
           }
          },
          "title": {
           "x": 0.05
          },
          "xaxis": {
           "automargin": true,
           "gridcolor": "white",
           "linecolor": "white",
           "ticks": "",
           "title": {
            "standoff": 15
           },
           "zerolinecolor": "white",
           "zerolinewidth": 2
          },
          "yaxis": {
           "automargin": true,
           "gridcolor": "white",
           "linecolor": "white",
           "ticks": "",
           "title": {
            "standoff": 15
           },
           "zerolinecolor": "white",
           "zerolinewidth": 2
          }
         }
        },
        "title": {
         "text": "Demand vs. Profit"
        },
        "xaxis": {
         "anchor": "y",
         "autorange": true,
         "domain": [
          0,
          1
         ],
         "range": [
          68.0588056063376,
          140.9411943936624
         ],
         "title": {
          "text": "Number of Customers"
         },
         "type": "linear"
        },
        "yaxis": {
         "anchor": "x",
         "autorange": true,
         "domain": [
          0,
          1
         ],
         "range": [
          130.4824355971897,
          325.5175644028103
         ],
         "title": {
          "text": "Total Profit ($)"
         },
         "type": "linear"
        }
       }
      },
      "image/png": "[encoded data removed]",
      "text/html": [
       "<div>                            <div id=\"738ee58e-9655-4b3f-bc36-63125d02baa2\" class=\"plotly-graph-div\" style=\"height:900px; width:100%;\"></div>            <script type=\"text/javascript\">                require([\"plotly\"], function(Plotly) {                    window.PLOTLYENV=window.PLOTLYENV || {};                                    if (document.getElementById(\"738ee58e-9655-4b3f-bc36-63125d02baa2\")) {                    Plotly.newPlot(                        \"738ee58e-9655-4b3f-bc36-63125d02baa2\",                        [{\"hovertemplate\":\"Number of Customers=%{x}<br>Total Profit ($)=%{y}<extra></extra>\",\"legendgroup\":\"\",\"marker\":{\"color\":\"#636efa\",\"symbol\":\"circle\"},\"mode\":\"markers\",\"name\":\"\",\"orientation\":\"v\",\"showlegend\":false,\"x\":[92,89,109,112,88,105,80,97,91,93,94,106,96,97,106,99,99,106,101,105,84,119,100,100,89,113,108,109,96,92,95,94,115,107,91,97,96,106,112,92,93,118,95,111,106,111,80,101,91,87,85,101,86,87,102,94,115,98,88,104,94,91,109,94,105,103,98,82,104,93,113,92,99,101,113,92,112,84,87,119,94,92,105,92,88,74,99,102,106,90,113,111,98,120,94,94,93,107,101,109,95,96,98,105,109,90,103,88,80,108,81,111,88,99,102,98,102,95,93,106,82,100,107,102,101,107,96,106,87,116,107,94,116,90,101,98,112,92,105,102,101,103,93,97,96,114,100,106,95,101,108,88,110,102,92,96,111,93,93,86,107,104,115,94,74,85,93,96,90,97,103,86,102,96,105,95,94,93,89,89,83,110,116,87,98,105,85,103,116,104,115,94,111,107,111,97,115,108,101,99,81,83,111,104,111,98,108,109,95,108,99,106,89,102,83,106,99,88,103,88,93,113,113,107,106,101,107,84,105,79,89,96,79,99,137,122,105,95,102,104,89,108,100,97,96,110,103,95,101,88,111,84,113,98,108,90,102,109,83,82,101,103,90,116,108,106,96,107,111,95,105,94,108,96,90,107,102,90,112,107,95,92,98,112,88,105,95,86,107,89,98,124,108,102,110,85,97,121,104,85,115,88,98,105,96,90,96,111,96,76,99,102,113,96,94,93,105,109,95,97,106,97,107,99,90,98,101,94,102,104,95,93,91,113,114,96,114,99,90,82,108,100,117,107,94,96,110,102,87,93,85,82,111,99,100,99,104,94,104,107,106,90,95,89,117,101,118,89,82,88,86,105,101,97,107,111,108,97,99,97,103,88,96,91,110,75,99,94,108,90,112,97,116,94,105,93,114,89,104,96,99,101,102,85,106,102,92,93,116,107,120,116,101,91,85,98,84,104,112,104,124,106,101,88,91,110,85,105,99,108,102,109,105,98,105,112,117,103,103,97,96,104,91,108,89,87,98,85,100,89,87,124,99,91,106,87,117,91,104,99,112,108,98,113,93,101,105,86,96,81,110,91,92,92,104,114,96,96,93,106,114,88,103,104,95,103,103,103,101,101,96,107,111,96,88,103,88,89,99,100,99,97,109,92,90,96,95,103,96,81,100,104,90,101,112,92,92,121,100,104,81,101,94,115,92,96,72,103,109,101,95,100,86,99,102,102,107,104,91,92,85,106,102,111,86,106,98,101,81,102,103,117,114,109,94,102,107,116,83,109,121,108,87,98,98,96,100,86,84,85,103,104,95,101,97,101,88,103,92,110,104,77,98,104,103,92,94,94,102,99,99,115,84,91,93,100,106,102,92,95,107,98,92,110,98,96,87,116,100,85,97,98,102,122,96,108,120,98,98,84,110,94,108,107,100,106,101,107,88,102,84,109,93,91,99,115,87,100,84,89,108,108,102,109,99,85,92,97,110,106,95,113,85,112,103,106,95,105,85,99,101,106,79,115,103,110,103,116,118,110,94,87,113,115,91,110,99,98,94,92,101,99,109,95,109,89,95,89,100,105,98,113,99,105,106,100,90,91,93,108,99,90,95,96,91,109,98,94,105,108,111,98,101,97,112,104,95,103,93,105,102,103,121,87,101,100,94,108,94,105,100,87,111,96,105,116,90,105,105,84,100,96,101,96,95,112,97,104,106,112,108,95,91,110,105,100,94,88,90,92,100,94,101,96,92,84,103,114,92,105,97,89,102,101,81,96,95,123,76,98,89,98,100,94,89,95,117,90,109,99,98,107,90,125,91,103,108,93,111,123,101,84,104,110,121,91,93,108,93,107,95,83,109,104,91,95,105,106,95,93,107,103,119,108,87,111,103,113,99,109,101,91,95,92,82,95,91,101,94,99,101,111,110,91,93,99,108,94,83,99,108,102,98,106,99,110,98,99,100,98,103,100,101,116,104,101,114,100,97,104,98,96,101,86,95,89,120,91,97,83,105,86,92,111,115,94,83,111,117,92,85,105,89,110,91,115,111,89,115,105,90,95,102,122,94,113,92,118,87,87,94,106,85,105,82,99,98,94,83,94,106,107,83,110,104,118,96,86,109,105,108,105,109,98,88,122,79,98,100,89,93,99,91,80,89,106,115,101,103,92,79,88,97,90,96,109,95,105,120,92,94,98,110,106,107,88,105,95,111,117,114,92,108,132,93,102,104,98,107,99,87,104,99,103,88,105,89,105,102,113,118,89,109,98,99,112,97,113,124,121],\"xaxis\":\"x\",\"y\":[224.25,175.0,278.5,232.75,141.25,261.75,200.0,254.75,187.75,217.25,211.25,244.75,229.0,249.5,219.5,261.5,244.75,254.75,238.25,254.0,184.5,283.25,257.25,249.25,213.75,258.5,258.25,291.5,234.0,232.5,241.25,240.5,236.5,275.0,234.0,251.0,236.75,251.0,217.25,235.5,240.75,286.0,243.5,252.0,254.5,272.25,205.0,217.0,224.0,204.25,201.25,229.5,200.5,226.75,248.25,234.25,242.5,228.25,222.0,253.5,230.25,209.5,258.5,236.0,224.75,265.75,219.5,196.75,227.5,228.5,285.75,228.0,223.25,267.5,291.5,246.5,286.5,201.0,230.25,304.25,222.25,226.75,262.0,205.5,220.75,183.5,238.75,256.25,242.0,194.75,267.0,266.0,258.75,261.5,228.25,216.0,232.25,279.0,239.5,258.5,247.5,224.0,238.5,244.75,290.25,208.0,242.0,222.0,197.0,234.25,205.75,259.0,208.0,251.0,237.5,222.0,242.75,223.0,211.0,255.75,176.25,253.5,268.25,239.0,238.0,264.0,246.5,281.5,143.5,275.25,247.25,225.0,253.0,181.5,243.0,225.5,247.5,230.25,266.25,261.0,217.5,243.75,204.25,211.5,225.5,292.5,237.5,241.0,205.75,255.25,241.75,217.75,266.0,231.0,223.0,242.5,256.0,170.25,206.5,168.5,259.0,259.25,280.5,205.75,176.0,195.0,206.0,240.25,206.5,243.0,265.5,188.0,244.75,206.0,269.5,214.75,231.5,226.75,234.75,213.75,205.75,255.25,270.0,230.5,232.0,234.25,198.75,244.25,279.25,220.0,269.5,234.75,209.75,273.0,233.75,256.0,286.5,225.5,189.75,225.5,189.0,200.25,274.0,245.25,188.25,228.25,261.25,226.0,246.25,261.75,254.75,220.5,192.5,249.5,207.0,237.75,222.0,198.5,274.0,210.75,204.5,264.0,236.5,228.75,265.5,245.25,213.75,195.25,238.5,173.5,218.25,236.5,180.5,234.5,253.0,275.0,258.5,223.75,263.0,253.0,219.5,282.25,243.75,231.75,229.25,240.25,237.0,213.75,261.0,223.25,284.25,188.75,264.25,239.75,285.25,187.75,241.25,246.25,205.5,203.0,241.25,225.5,215.75,250.25,257.5,231.75,200.5,254.5,244.75,187.5,234.5,231.0,290.25,250.25,217.5,259.5,260.0,217.5,239.75,236.0,217.25,241.5,220.0,250.5,201.0,226.25,246.5,216.5,264.25,217.25,250.0,314.75,240.5,229.25,250.25,195.0,238.0,269.5,238.5,167.75,253.0,206.0,233.75,219.5,239.25,238.0,225.0,243.5,216.25,174.75,250.5,241.0,264.0,234.0,196.5,223.75,253.5,267.75,231.5,237.5,272.75,244.75,278.5,229.0,230.25,242.0,236.5,246.0,252.25,276.0,210.0,212.5,215.5,240.5,240.5,240.25,254.5,243.0,210.5,177.25,253.0,260.25,269.5,256.5,243.5,200.75,283.0,264.75,212.5,199.75,211.25,186.75,259.5,246.0,267.0,236.5,213.25,220.0,251.5,279.75,269.5,185.75,222.25,202.25,277.75,269.0,292.5,183.5,182.5,191.5,214.0,250.75,251.75,229.75,247.5,257.25,250.25,254.25,251.5,217.25,248.0,228.25,228.5,180.25,239.25,182.5,236.5,237.25,251.0,188.0,236.25,261.75,281.0,222.5,231.0,221.0,271.0,234.75,260.75,244.0,241.0,219.0,248.0,217.25,261.5,266.75,212.25,227.25,276.5,241.25,269.0,301.25,240.25,232.75,197.5,241.0,199.5,259.0,250.75,250.75,272.25,221.25,225.25,234.0,216.5,282.25,165.75,265.0,251.0,284.0,242.5,277.0,236.5,260.75,219.5,248.25,273.0,261.75,242.25,242.5,231.0,259.25,186.25,276.25,234.5,208.0,217.0,204.25,255.25,204.75,203.25,242.0,218.0,224.0,271.75,223.75,282.25,192.0,260.5,214.0,254.5,277.75,248.25,237.25,233.25,239.25,216.25,188.0,236.75,177.5,264.5,217.75,236.75,209.25,227.5,255.25,227.75,246.0,215.0,277.75,242.0,197.0,253.0,222.75,227.0,259.0,236.25,267.0,244.75,220.0,227.75,240.5,224.0,235.25,213.25,247.5,235.75,206.5,224.25,239.5,231.5,218.75,242.0,248.0,225.5,215.25,257.5,242.0,224.5,181.5,220.75,258.75,231.25,236.5,246.75,210.5,225.25,282.0,265.0,257.0,185.25,236.0,218.0,255.75,201.75,246.25,173.75,274.5,247.25,253.75,199.75,255.25,217.75,232.5,251.25,262.5,276.5,253.0,219.5,234.75,204.0,279.0,236.5,271.75,211.25,243.75,239.0,236.25,189.0,242.5,257.75,263.0,239.25,258.25,232.5,267.75,258.75,269.5,200.75,253.25,217.25,273.25,213.0,260.75,218.75,234.5,255.0,198.75,207.25,221.25,223.5,238.75,200.75,227.25,196.75,231.75,203.75,238.25,221.25,276.5,253.75,179.25,251.25,251.25,229.5,217.25,240.75,234.25,242.0,263.25,240.5,294.25,204.25,218.5,226.5,264.25,247.25,252.25,230.0,195.25,248.25,230.25,231.25,265.5,266.75,233.25,214.25,251.0,243.75,200.0,235.0,254.5,263.25,312.25,236.25,228.25,284.0,201.25,247.5,189.5,242.5,224.0,240.0,253.0,242.0,245.0,245.25,272.25,202.0,251.75,202.25,276.5,231.5,217.0,229.5,270.0,204.25,260.0,214.25,223.5,261.25,269.0,260.25,276.0,242.75,204.5,224.25,244.75,246.75,254.25,241.75,244.75,198.75,286.0,258.5,249.5,234.75,269.5,188.0,253.75,238.25,258.5,198.0,284.75,212.0,239.25,236.75,259.5,264.0,229.75,221.0,208.5,251.0,257.25,223.25,261.25,255.75,197.75,241.25,228.0,269.5,236.0,277.75,238.75,248.75,208.25,250.75,219.5,242.75,257.5,223.5,222.75,209.5,244.25,286.25,268.25,204.5,184.25,227.25,237.5,267.25,236.25,235.75,246.25,220.0,266.75,181.0,228.25,281.25,237.25,275.25,252.0,258.75,243.0,282.75,248.25,205.25,256.5,209.0,252.5,246.5,272.75,244.75,225.5,234.75,250.75,236.0,253.0,228.5,237.75,268.75,229.25,278.25,221.0,239.25,286.0,222.25,269.5,277.75,188.5,243.75,229.5,236.0,240.75,222.5,268.25,249.25,223.5,215.75,273.5,258.5,204.75,210.0,285.0,245.25,254.75,201.5,203.25,223.75,220.25,264.25,250.5,235.75,242.0,246.75,194.75,242.0,266.0,217.5,276.75,257.5,217.75,241.5,265.25,169.25,256.25,234.25,286.0,182.75,244.0,218.5,256.5,231.5,246.0,210.25,250.75,272.0,193.25,255.25,227.25,204.0,266.75,212.0,286.0,226.5,241.0,261.25,219.0,253.5,275.0,240.25,160.0,224.25,275.0,274.0,230.25,242.75,273.25,217.25,263.25,233.5,185.0,280.5,250.5,231.25,237.0,230.25,249.0,234.5,202.25,278.25,254.0,262.0,258.75,190.0,228.25,258.0,258.5,233.5,232.0,241.75,220.5,243.75,243.75,203.0,190.5,224.75,247.75,241.25,224.75,254.75,249.75,200.0,234.0,225.25,236.5,250.25,242.25,192.0,206.25,289.5,228.0,233.75,245.0,239.5,241.25,184.75,248.5,240.25,239.25,242.0,230.0,246.75,276.5,234.75,222.5,290.25,242.0,214.5,228.25,248.0,238.25,251.75,204.0,222.75,214.75,287.75,226.5,257.5,208.25,268.25,215.5,236.75,283.25,280.5,229.0,204.5,282.0,271.75,228.0,200.0,249.25,219.75,277.75,203.75,256.25,253.0,224.0,252.0,266.75,203.75,248.75,246.75,220.0,197.0,239.25,230.5,285.5,198.0,208.0,235.0,244.0,170.25,231.25,205.5,233.5,239.25,238.0,208.25,236.75,255.5,255.75,196.75,277.75,238.25,272.25,238.75,215.0,263.5,217.0,228.25,269.25,264.0,244.25,225.75,271.0,197.5,229.5,213.5,226.0,231.25,237.0,240.25,188.25,200.25,248.5,278.5,233.5,255.75,206.75,193.25,196.0,247.75,225.0,229.0,261.25,238.75,282.0,214.5,223.0,241.5,234.25,260.75,275.25,234.0,215.75,250.0,236.0,236.5,244.75,233.0,225.75,253.0,283.25,219.5,231.0,274.75,255.75,212.25,251.75,207.5,263.25,204.5,253.5,189.5,263.5,214.75,221.0,237.0,232.0,290.75,220.75,254.5,245.25,202.25,237.5,215.75,255.0,299.75,299.75],\"yaxis\":\"y\",\"type\":\"scatter\"}],                        {\"template\":{\"data\":{\"histogram2dcontour\":[{\"type\":\"histogram2dcontour\",\"colorbar\":{\"outlinewidth\":0,\"ticks\":\"\"},\"colorscale\":[[0.0,\"#0d0887\"],[0.1111111111111111,\"#46039f\"],[0.2222222222222222,\"#7201a8\"],[0.3333333333333333,\"#9c179e\"],[0.4444444444444444,\"#bd3786\"],[0.5555555555555556,\"#d8576b\"],[0.6666666666666666,\"#ed7953\"],[0.7777777777777778,\"#fb9f3a\"],[0.8888888888888888,\"#fdca26\"],[1.0,\"#f0f921\"]]}],\"choropleth\":[{\"type\":\"choropleth\",\"colorbar\":{\"outlinewidth\":0,\"ticks\":\"\"}}],\"histogram2d\":[{\"type\":\"histogram2d\",\"colorbar\":{\"outlinewidth\":0,\"ticks\":\"\"},\"colorscale\":[[0.0,\"#0d0887\"],[0.1111111111111111,\"#46039f\"],[0.2222222222222222,\"#7201a8\"],[0.3333333333333333,\"#9c179e\"],[0.4444444444444444,\"#bd3786\"],[0.5555555555555556,\"#d8576b\"],[0.6666666666666666,\"#ed7953\"],[0.7777777777777778,\"#fb9f3a\"],[0.8888888888888888,\"#fdca26\"],[1.0,\"#f0f921\"]]}],\"heatmap\":[{\"type\":\"heatmap\",\"colorbar\":{\"outlinewidth\":0,\"ticks\":\"\"},\"colorscale\":[[0.0,\"#0d0887\"],[0.1111111111111111,\"#46039f\"],[0.2222222222222222,\"#7201a8\"],[0.3333333333333333,\"#9c179e\"],[0.4444444444444444,\"#bd3786\"],[0.5555555555555556,\"#d8576b\"],[0.6666666666666666,\"#ed7953\"],[0.7777777777777778,\"#fb9f3a\"],[0.8888888888888888,\"#fdca26\"],[1.0,\"#f0f921\"]]}],\"heatmapgl\":[{\"type\":\"heatmapgl\",\"colorbar\":{\"outlinewidth\":0,\"ticks\":\"\"},\"colorscale\":[[0.0,\"#0d0887\"],[0.1111111111111111,\"#46039f\"],[0.2222222222222222,\"#7201a8\"],[0.3333333333333333,\"#9c179e\"],[0.4444444444444444,\"#bd3786\"],[0.5555555555555556,\"#d8576b\"],[0.6666666666666666,\"#ed7953\"],[0.7777777777777778,\"#fb9f3a\"],[0.8888888888888888,\"#fdca26\"],[1.0,\"#f0f921\"]]}],\"contourcarpet\":[{\"type\":\"contourcarpet\",\"colorbar\":{\"outlinewidth\":0,\"ticks\":\"\"}}],\"contour\":[{\"type\":\"contour\",\"colorbar\":{\"outlinewidth\":0,\"ticks\":\"\"},\"colorscale\":[[0.0,\"#0d0887\"],[0.1111111111111111,\"#46039f\"],[0.2222222222222222,\"#7201a8\"],[0.3333333333333333,\"#9c179e\"],[0.4444444444444444,\"#bd3786\"],[0.5555555555555556,\"#d8576b\"],[0.6666666666666666,\"#ed7953\"],[0.7777777777777778,\"#fb9f3a\"],[0.8888888888888888,\"#fdca26\"],[1.0,\"#f0f921\"]]}],\"surface\":[{\"type\":\"surface\",\"colorbar\":{\"outlinewidth\":0,\"ticks\":\"\"},\"colorscale\":[[0.0,\"#0d0887\"],[0.1111111111111111,\"#46039f\"],[0.2222222222222222,\"#7201a8\"],[0.3333333333333333,\"#9c179e\"],[0.4444444444444444,\"#bd3786\"],[0.5555555555555556,\"#d8576b\"],[0.6666666666666666,\"#ed7953\"],[0.7777777777777778,\"#fb9f3a\"],[0.8888888888888888,\"#fdca26\"],[1.0,\"#f0f921\"]]}],\"mesh3d\":[{\"type\":\"mesh3d\",\"colorbar\":{\"outlinewidth\":0,\"ticks\":\"\"}}],\"scatter\":[{\"fillpattern\":{\"fillmode\":\"overlay\",\"size\":10,\"solidity\":0.2},\"type\":\"scatter\"}],\"parcoords\":[{\"type\":\"parcoords\",\"line\":{\"colorbar\":{\"outlinewidth\":0,\"ticks\":\"\"}}}],\"scatterpolargl\":[{\"type\":\"scatterpolargl\",\"marker\":{\"colorbar\":{\"outlinewidth\":0,\"ticks\":\"\"}}}],\"bar\":[{\"error_x\":{\"color\":\"#2a3f5f\"},\"error_y\":{\"color\":\"#2a3f5f\"},\"marker\":{\"line\":{\"color\":\"#E5ECF6\",\"width\":0.5},\"pattern\":{\"fillmode\":\"overlay\",\"size\":10,\"solidity\":0.2}},\"type\":\"bar\"}],\"scattergeo\":[{\"type\":\"scattergeo\",\"marker\":{\"colorbar\":{\"outlinewidth\":0,\"ticks\":\"\"}}}],\"scatterpolar\":[{\"type\":\"scatterpolar\",\"marker\":{\"colorbar\":{\"outlinewidth\":0,\"ticks\":\"\"}}}],\"histogram\":[{\"marker\":{\"pattern\":{\"fillmode\":\"overlay\",\"size\":10,\"solidity\":0.2}},\"type\":\"histogram\"}],\"scattergl\":[{\"type\":\"scattergl\",\"marker\":{\"colorbar\":{\"outlinewidth\":0,\"ticks\":\"\"}}}],\"scatter3d\":[{\"type\":\"scatter3d\",\"line\":{\"colorbar\":{\"outlinewidth\":0,\"ticks\":\"\"}},\"marker\":{\"colorbar\":{\"outlinewidth\":0,\"ticks\":\"\"}}}],\"scattermapbox\":[{\"type\":\"scattermapbox\",\"marker\":{\"colorbar\":{\"outlinewidth\":0,\"ticks\":\"\"}}}],\"scatterternary\":[{\"type\":\"scatterternary\",\"marker\":{\"colorbar\":{\"outlinewidth\":0,\"ticks\":\"\"}}}],\"scattercarpet\":[{\"type\":\"scattercarpet\",\"marker\":{\"colorbar\":{\"outlinewidth\":0,\"ticks\":\"\"}}}],\"carpet\":[{\"aaxis\":{\"endlinecolor\":\"#2a3f5f\",\"gridcolor\":\"white\",\"linecolor\":\"white\",\"minorgridcolor\":\"white\",\"startlinecolor\":\"#2a3f5f\"},\"baxis\":{\"endlinecolor\":\"#2a3f5f\",\"gridcolor\":\"white\",\"linecolor\":\"white\",\"minorgridcolor\":\"white\",\"startlinecolor\":\"#2a3f5f\"},\"type\":\"carpet\"}],\"table\":[{\"cells\":{\"fill\":{\"color\":\"#EBF0F8\"},\"line\":{\"color\":\"white\"}},\"header\":{\"fill\":{\"color\":\"#C8D4E3\"},\"line\":{\"color\":\"white\"}},\"type\":\"table\"}],\"barpolar\":[{\"marker\":{\"line\":{\"color\":\"#E5ECF6\",\"width\":0.5},\"pattern\":{\"fillmode\":\"overlay\",\"size\":10,\"solidity\":0.2}},\"type\":\"barpolar\"}],\"pie\":[{\"automargin\":true,\"type\":\"pie\"}]},\"layout\":{\"autotypenumbers\":\"strict\",\"colorway\":[\"#636efa\",\"#EF553B\",\"#00cc96\",\"#ab63fa\",\"#FFA15A\",\"#19d3f3\",\"#FF6692\",\"#B6E880\",\"#FF97FF\",\"#FECB52\"],\"font\":{\"color\":\"#2a3f5f\"},\"hovermode\":\"closest\",\"hoverlabel\":{\"align\":\"left\"},\"paper_bgcolor\":\"white\",\"plot_bgcolor\":\"#E5ECF6\",\"polar\":{\"bgcolor\":\"#E5ECF6\",\"angularaxis\":{\"gridcolor\":\"white\",\"linecolor\":\"white\",\"ticks\":\"\"},\"radialaxis\":{\"gridcolor\":\"white\",\"linecolor\":\"white\",\"ticks\":\"\"}},\"ternary\":{\"bgcolor\":\"#E5ECF6\",\"aaxis\":{\"gridcolor\":\"white\",\"linecolor\":\"white\",\"ticks\":\"\"},\"baxis\":{\"gridcolor\":\"white\",\"linecolor\":\"white\",\"ticks\":\"\"},\"caxis\":{\"gridcolor\":\"white\",\"linecolor\":\"white\",\"ticks\":\"\"}},\"coloraxis\":{\"colorbar\":{\"outlinewidth\":0,\"ticks\":\"\"}},\"colorscale\":{\"sequential\":[[0.0,\"#0d0887\"],[0.1111111111111111,\"#46039f\"],[0.2222222222222222,\"#7201a8\"],[0.3333333333333333,\"#9c179e\"],[0.4444444444444444,\"#bd3786\"],[0.5555555555555556,\"#d8576b\"],[0.6666666666666666,\"#ed7953\"],[0.7777777777777778,\"#fb9f3a\"],[0.8888888888888888,\"#fdca26\"],[1.0,\"#f0f921\"]],\"sequentialminus\":[[0.0,\"#0d0887\"],[0.1111111111111111,\"#46039f\"],[0.2222222222222222,\"#7201a8\"],[0.3333333333333333,\"#9c179e\"],[0.4444444444444444,\"#bd3786\"],[0.5555555555555556,\"#d8576b\"],[0.6666666666666666,\"#ed7953\"],[0.7777777777777778,\"#fb9f3a\"],[0.8888888888888888,\"#fdca26\"],[1.0,\"#f0f921\"]],\"diverging\":[[0,\"#8e0152\"],[0.1,\"#c51b7d\"],[0.2,\"#de77ae\"],[0.3,\"#f1b6da\"],[0.4,\"#fde0ef\"],[0.5,\"#f7f7f7\"],[0.6,\"#e6f5d0\"],[0.7,\"#b8e186\"],[0.8,\"#7fbc41\"],[0.9,\"#4d9221\"],[1,\"#276419\"]]},\"xaxis\":{\"gridcolor\":\"white\",\"linecolor\":\"white\",\"ticks\":\"\",\"title\":{\"standoff\":15},\"zerolinecolor\":\"white\",\"automargin\":true,\"zerolinewidth\":2},\"yaxis\":{\"gridcolor\":\"white\",\"linecolor\":\"white\",\"ticks\":\"\",\"title\":{\"standoff\":15},\"zerolinecolor\":\"white\",\"automargin\":true,\"zerolinewidth\":2},\"scene\":{\"xaxis\":{\"backgroundcolor\":\"#E5ECF6\",\"gridcolor\":\"white\",\"linecolor\":\"white\",\"showbackground\":true,\"ticks\":\"\",\"zerolinecolor\":\"white\",\"gridwidth\":2},\"yaxis\":{\"backgroundcolor\":\"#E5ECF6\",\"gridcolor\":\"white\",\"linecolor\":\"white\",\"showbackground\":true,\"ticks\":\"\",\"zerolinecolor\":\"white\",\"gridwidth\":2},\"zaxis\":{\"backgroundcolor\":\"#E5ECF6\",\"gridcolor\":\"white\",\"linecolor\":\"white\",\"showbackground\":true,\"ticks\":\"\",\"zerolinecolor\":\"white\",\"gridwidth\":2}},\"shapedefaults\":{\"line\":{\"color\":\"#2a3f5f\"}},\"annotationdefaults\":{\"arrowcolor\":\"#2a3f5f\",\"arrowhead\":0,\"arrowwidth\":1},\"geo\":{\"bgcolor\":\"white\",\"landcolor\":\"#E5ECF6\",\"subunitcolor\":\"white\",\"showland\":true,\"showlakes\":true,\"lakecolor\":\"white\"},\"title\":{\"x\":0.05},\"mapbox\":{\"style\":\"light\"}}},\"xaxis\":{\"anchor\":\"y\",\"domain\":[0.0,1.0],\"title\":{\"text\":\"Number of Customers\"}},\"yaxis\":{\"anchor\":\"x\",\"domain\":[0.0,1.0],\"title\":{\"text\":\"Total Profit ($)\"}},\"legend\":{\"tracegroupgap\":0},\"title\":{\"text\":\"Demand vs. Profit\"},\"height\":900},                        {\"responsive\": true}                    ).then(function(){\n",
       "                            \n",
       "var gd = document.getElementById('738ee58e-9655-4b3f-bc36-63125d02baa2');\n",
       "var x = new MutationObserver(function (mutations, observer) {{\n",
       "        var display = window.getComputedStyle(gd).display;\n",
       "        if (!display || display === 'none') {{\n",
       "            console.log([gd, 'removed!']);\n",
       "            Plotly.purge(gd);\n",
       "            observer.disconnect();\n",
       "        }}\n",
       "}});\n",
       "\n",
       "// Listen for the removal of the full notebook cells\n",
       "var notebookContainer = gd.closest('#notebook-container');\n",
       "if (notebookContainer) {{\n",
       "    x.observe(notebookContainer, {childList: true});\n",
       "}}\n",
       "\n",
       "// Listen for the clearing of the current output cell\n",
       "var outputEl = gd.closest('.output');\n",
       "if (outputEl) {{\n",
       "    x.observe(outputEl, {childList: true});\n",
       "}}\n",
       "\n",
       "                        })                };                });            </script>        </div>"
      ]
     },
     "metadata": {},
     "output_type": "display_data"
    }
   ],
   "source": [
    "pxp.scatter(\n",
    "    profit_demand,\n",
    "    x='demand',\n",
    "    y='profit',\n",
    "    height=900,\n",
    "    title=\"Demand vs. Profit\",\n",
    "    labels={'demand':'Number of Customers','profit':'Total Profit ($)'},\n",
    "    )"
   ]
  },
  {
   "cell_type": "markdown",
   "metadata": {},
   "source": [
    "> Based on a few iterations of the simulation and the above plot, I believe a \"good day\" at the sandwich shop is any day with over 90 customers visiting the shop and a \"bad day\" is one with under 85 customers.\n",
    ">\n",
    "> There is some grey area there as some iterations show profits increasing over $200 with less distribution then others, but consistently the grouping over 90 and less than 120 shows that is likely where the shop is running at its peak when making 100 loaves of bread per day."
   ]
  },
  {
   "cell_type": "markdown",
   "metadata": {},
   "source": [
    "So far we assumed that the supply of bread each day is fixed, but we can now loosen that assumption and ask what happens to profit if we increase or decrease the supply of bread, everything else being equal.\n",
    "\n",
    "- Run `sim_profit` for the different values of `num_breads` as given by `num_breads_iter` shown below (all other arguments stay the same). Calculate the average profit (averaged over all the days) for each case and create a line plot showing number of breads supplied vs total profit. <span style=\"color:red\" float:right>[5 point]</span>"
   ]
  },
  {
   "cell_type": "code",
   "execution_count": 10,
   "metadata": {},
   "outputs": [],
   "source": [
    "num_breads_iter = [60, 80, 100, 120, 140, 160]\n",
    "num_days = 1000\n",
    "arrival_rate = 100\n",
    "sell_price = 4.00\n",
    "cost_price = 1.25\n",
    "\n",
    "bread_varies = pd.DataFrame(columns=['num_breads','profit'])\n",
    "for n,count in enumerate(num_breads_iter):\n",
    "    wk_supply,wk_demand,wk_profit = sim_profit(count,num_days,arrival_rate,sell_price,cost_price)\n",
    "    this_profit = wk_profit.sum(axis=1).mean(axis=0)\n",
    "    bread_varies.loc[n,:] = (count,this_profit)"
   ]
  },
  {
   "cell_type": "code",
   "execution_count": 13,
   "metadata": {},
   "outputs": [
    {
     "data": {
      "application/vnd.plotly.v1+json": {
       "config": {
        "plotlyServerURL": "https://plot.ly"
       },
       "data": [
        {
         "hovertemplate": "Loaves of bread made=%{x}<br>Mean total profit for 1000 days simulate=%{y}<extra></extra>",
         "legendgroup": "",
         "line": {
          "color": "#636efa",
          "dash": "solid"
         },
         "marker": {
          "symbol": "circle"
         },
         "mode": "lines",
         "name": "",
         "orientation": "v",
         "showlegend": false,
         "type": "scatter",
         "x": [
          60,
          80,
          100,
          120,
          140,
          160
         ],
         "xaxis": "x",
         "y": [
          162.9945,
          209.72825,
          234.942,
          236.97075,
          221.0925,
          198.1135
         ],
         "yaxis": "y"
        }
       ],
       "layout": {
        "autosize": true,
        "legend": {
         "tracegroupgap": 0
        },
        "template": {
         "data": {
          "bar": [
           {
            "error_x": {
             "color": "#2a3f5f"
            },
            "error_y": {
             "color": "#2a3f5f"
            },
            "marker": {
             "line": {
              "color": "#E5ECF6",
              "width": 0.5
             },
             "pattern": {
              "fillmode": "overlay",
              "size": 10,
              "solidity": 0.2
             }
            },
            "type": "bar"
           }
          ],
          "barpolar": [
           {
            "marker": {
             "line": {
              "color": "#E5ECF6",
              "width": 0.5
             },
             "pattern": {
              "fillmode": "overlay",
              "size": 10,
              "solidity": 0.2
             }
            },
            "type": "barpolar"
           }
          ],
          "carpet": [
           {
            "aaxis": {
             "endlinecolor": "#2a3f5f",
             "gridcolor": "white",
             "linecolor": "white",
             "minorgridcolor": "white",
             "startlinecolor": "#2a3f5f"
            },
            "baxis": {
             "endlinecolor": "#2a3f5f",
             "gridcolor": "white",
             "linecolor": "white",
             "minorgridcolor": "white",
             "startlinecolor": "#2a3f5f"
            },
            "type": "carpet"
           }
          ],
          "choropleth": [
           {
            "colorbar": {
             "outlinewidth": 0,
             "ticks": ""
            },
            "type": "choropleth"
           }
          ],
          "contour": [
           {
            "colorbar": {
             "outlinewidth": 0,
             "ticks": ""
            },
            "colorscale": [
             [
              0,
              "#0d0887"
             ],
             [
              0.1111111111111111,
              "#46039f"
             ],
             [
              0.2222222222222222,
              "#7201a8"
             ],
             [
              0.3333333333333333,
              "#9c179e"
             ],
             [
              0.4444444444444444,
              "#bd3786"
             ],
             [
              0.5555555555555556,
              "#d8576b"
             ],
             [
              0.6666666666666666,
              "#ed7953"
             ],
             [
              0.7777777777777778,
              "#fb9f3a"
             ],
             [
              0.8888888888888888,
              "#fdca26"
             ],
             [
              1,
              "#f0f921"
             ]
            ],
            "type": "contour"
           }
          ],
          "contourcarpet": [
           {
            "colorbar": {
             "outlinewidth": 0,
             "ticks": ""
            },
            "type": "contourcarpet"
           }
          ],
          "heatmap": [
           {
            "colorbar": {
             "outlinewidth": 0,
             "ticks": ""
            },
            "colorscale": [
             [
              0,
              "#0d0887"
             ],
             [
              0.1111111111111111,
              "#46039f"
             ],
             [
              0.2222222222222222,
              "#7201a8"
             ],
             [
              0.3333333333333333,
              "#9c179e"
             ],
             [
              0.4444444444444444,
              "#bd3786"
             ],
             [
              0.5555555555555556,
              "#d8576b"
             ],
             [
              0.6666666666666666,
              "#ed7953"
             ],
             [
              0.7777777777777778,
              "#fb9f3a"
             ],
             [
              0.8888888888888888,
              "#fdca26"
             ],
             [
              1,
              "#f0f921"
             ]
            ],
            "type": "heatmap"
           }
          ],
          "heatmapgl": [
           {
            "colorbar": {
             "outlinewidth": 0,
             "ticks": ""
            },
            "colorscale": [
             [
              0,
              "#0d0887"
             ],
             [
              0.1111111111111111,
              "#46039f"
             ],
             [
              0.2222222222222222,
              "#7201a8"
             ],
             [
              0.3333333333333333,
              "#9c179e"
             ],
             [
              0.4444444444444444,
              "#bd3786"
             ],
             [
              0.5555555555555556,
              "#d8576b"
             ],
             [
              0.6666666666666666,
              "#ed7953"
             ],
             [
              0.7777777777777778,
              "#fb9f3a"
             ],
             [
              0.8888888888888888,
              "#fdca26"
             ],
             [
              1,
              "#f0f921"
             ]
            ],
            "type": "heatmapgl"
           }
          ],
          "histogram": [
           {
            "marker": {
             "pattern": {
              "fillmode": "overlay",
              "size": 10,
              "solidity": 0.2
             }
            },
            "type": "histogram"
           }
          ],
          "histogram2d": [
           {
            "colorbar": {
             "outlinewidth": 0,
             "ticks": ""
            },
            "colorscale": [
             [
              0,
              "#0d0887"
             ],
             [
              0.1111111111111111,
              "#46039f"
             ],
             [
              0.2222222222222222,
              "#7201a8"
             ],
             [
              0.3333333333333333,
              "#9c179e"
             ],
             [
              0.4444444444444444,
              "#bd3786"
             ],
             [
              0.5555555555555556,
              "#d8576b"
             ],
             [
              0.6666666666666666,
              "#ed7953"
             ],
             [
              0.7777777777777778,
              "#fb9f3a"
             ],
             [
              0.8888888888888888,
              "#fdca26"
             ],
             [
              1,
              "#f0f921"
             ]
            ],
            "type": "histogram2d"
           }
          ],
          "histogram2dcontour": [
           {
            "colorbar": {
             "outlinewidth": 0,
             "ticks": ""
            },
            "colorscale": [
             [
              0,
              "#0d0887"
             ],
             [
              0.1111111111111111,
              "#46039f"
             ],
             [
              0.2222222222222222,
              "#7201a8"
             ],
             [
              0.3333333333333333,
              "#9c179e"
             ],
             [
              0.4444444444444444,
              "#bd3786"
             ],
             [
              0.5555555555555556,
              "#d8576b"
             ],
             [
              0.6666666666666666,
              "#ed7953"
             ],
             [
              0.7777777777777778,
              "#fb9f3a"
             ],
             [
              0.8888888888888888,
              "#fdca26"
             ],
             [
              1,
              "#f0f921"
             ]
            ],
            "type": "histogram2dcontour"
           }
          ],
          "mesh3d": [
           {
            "colorbar": {
             "outlinewidth": 0,
             "ticks": ""
            },
            "type": "mesh3d"
           }
          ],
          "parcoords": [
           {
            "line": {
             "colorbar": {
              "outlinewidth": 0,
              "ticks": ""
             }
            },
            "type": "parcoords"
           }
          ],
          "pie": [
           {
            "automargin": true,
            "type": "pie"
           }
          ],
          "scatter": [
           {
            "fillpattern": {
             "fillmode": "overlay",
             "size": 10,
             "solidity": 0.2
            },
            "type": "scatter"
           }
          ],
          "scatter3d": [
           {
            "line": {
             "colorbar": {
              "outlinewidth": 0,
              "ticks": ""
             }
            },
            "marker": {
             "colorbar": {
              "outlinewidth": 0,
              "ticks": ""
             }
            },
            "type": "scatter3d"
           }
          ],
          "scattercarpet": [
           {
            "marker": {
             "colorbar": {
              "outlinewidth": 0,
              "ticks": ""
             }
            },
            "type": "scattercarpet"
           }
          ],
          "scattergeo": [
           {
            "marker": {
             "colorbar": {
              "outlinewidth": 0,
              "ticks": ""
             }
            },
            "type": "scattergeo"
           }
          ],
          "scattergl": [
           {
            "marker": {
             "colorbar": {
              "outlinewidth": 0,
              "ticks": ""
             }
            },
            "type": "scattergl"
           }
          ],
          "scattermapbox": [
           {
            "marker": {
             "colorbar": {
              "outlinewidth": 0,
              "ticks": ""
             }
            },
            "type": "scattermapbox"
           }
          ],
          "scatterpolar": [
           {
            "marker": {
             "colorbar": {
              "outlinewidth": 0,
              "ticks": ""
             }
            },
            "type": "scatterpolar"
           }
          ],
          "scatterpolargl": [
           {
            "marker": {
             "colorbar": {
              "outlinewidth": 0,
              "ticks": ""
             }
            },
            "type": "scatterpolargl"
           }
          ],
          "scatterternary": [
           {
            "marker": {
             "colorbar": {
              "outlinewidth": 0,
              "ticks": ""
             }
            },
            "type": "scatterternary"
           }
          ],
          "surface": [
           {
            "colorbar": {
             "outlinewidth": 0,
             "ticks": ""
            },
            "colorscale": [
             [
              0,
              "#0d0887"
             ],
             [
              0.1111111111111111,
              "#46039f"
             ],
             [
              0.2222222222222222,
              "#7201a8"
             ],
             [
              0.3333333333333333,
              "#9c179e"
             ],
             [
              0.4444444444444444,
              "#bd3786"
             ],
             [
              0.5555555555555556,
              "#d8576b"
             ],
             [
              0.6666666666666666,
              "#ed7953"
             ],
             [
              0.7777777777777778,
              "#fb9f3a"
             ],
             [
              0.8888888888888888,
              "#fdca26"
             ],
             [
              1,
              "#f0f921"
             ]
            ],
            "type": "surface"
           }
          ],
          "table": [
           {
            "cells": {
             "fill": {
              "color": "#EBF0F8"
             },
             "line": {
              "color": "white"
             }
            },
            "header": {
             "fill": {
              "color": "#C8D4E3"
             },
             "line": {
              "color": "white"
             }
            },
            "type": "table"
           }
          ]
         },
         "layout": {
          "annotationdefaults": {
           "arrowcolor": "#2a3f5f",
           "arrowhead": 0,
           "arrowwidth": 1
          },
          "autotypenumbers": "strict",
          "coloraxis": {
           "colorbar": {
            "outlinewidth": 0,
            "ticks": ""
           }
          },
          "colorscale": {
           "diverging": [
            [
             0,
             "#8e0152"
            ],
            [
             0.1,
             "#c51b7d"
            ],
            [
             0.2,
             "#de77ae"
            ],
            [
             0.3,
             "#f1b6da"
            ],
            [
             0.4,
             "#fde0ef"
            ],
            [
             0.5,
             "#f7f7f7"
            ],
            [
             0.6,
             "#e6f5d0"
            ],
            [
             0.7,
             "#b8e186"
            ],
            [
             0.8,
             "#7fbc41"
            ],
            [
             0.9,
             "#4d9221"
            ],
            [
             1,
             "#276419"
            ]
           ],
           "sequential": [
            [
             0,
             "#0d0887"
            ],
            [
             0.1111111111111111,
             "#46039f"
            ],
            [
             0.2222222222222222,
             "#7201a8"
            ],
            [
             0.3333333333333333,
             "#9c179e"
            ],
            [
             0.4444444444444444,
             "#bd3786"
            ],
            [
             0.5555555555555556,
             "#d8576b"
            ],
            [
             0.6666666666666666,
             "#ed7953"
            ],
            [
             0.7777777777777778,
             "#fb9f3a"
            ],
            [
             0.8888888888888888,
             "#fdca26"
            ],
            [
             1,
             "#f0f921"
            ]
           ],
           "sequentialminus": [
            [
             0,
             "#0d0887"
            ],
            [
             0.1111111111111111,
             "#46039f"
            ],
            [
             0.2222222222222222,
             "#7201a8"
            ],
            [
             0.3333333333333333,
             "#9c179e"
            ],
            [
             0.4444444444444444,
             "#bd3786"
            ],
            [
             0.5555555555555556,
             "#d8576b"
            ],
            [
             0.6666666666666666,
             "#ed7953"
            ],
            [
             0.7777777777777778,
             "#fb9f3a"
            ],
            [
             0.8888888888888888,
             "#fdca26"
            ],
            [
             1,
             "#f0f921"
            ]
           ]
          },
          "colorway": [
           "#636efa",
           "#EF553B",
           "#00cc96",
           "#ab63fa",
           "#FFA15A",
           "#19d3f3",
           "#FF6692",
           "#B6E880",
           "#FF97FF",
           "#FECB52"
          ],
          "font": {
           "color": "#2a3f5f"
          },
          "geo": {
           "bgcolor": "white",
           "lakecolor": "white",
           "landcolor": "#E5ECF6",
           "showlakes": true,
           "showland": true,
           "subunitcolor": "white"
          },
          "hoverlabel": {
           "align": "left"
          },
          "hovermode": "closest",
          "mapbox": {
           "style": "light"
          },
          "paper_bgcolor": "white",
          "plot_bgcolor": "#E5ECF6",
          "polar": {
           "angularaxis": {
            "gridcolor": "white",
            "linecolor": "white",
            "ticks": ""
           },
           "bgcolor": "#E5ECF6",
           "radialaxis": {
            "gridcolor": "white",
            "linecolor": "white",
            "ticks": ""
           }
          },
          "scene": {
           "xaxis": {
            "backgroundcolor": "#E5ECF6",
            "gridcolor": "white",
            "gridwidth": 2,
            "linecolor": "white",
            "showbackground": true,
            "ticks": "",
            "zerolinecolor": "white"
           },
           "yaxis": {
            "backgroundcolor": "#E5ECF6",
            "gridcolor": "white",
            "gridwidth": 2,
            "linecolor": "white",
            "showbackground": true,
            "ticks": "",
            "zerolinecolor": "white"
           },
           "zaxis": {
            "backgroundcolor": "#E5ECF6",
            "gridcolor": "white",
            "gridwidth": 2,
            "linecolor": "white",
            "showbackground": true,
            "ticks": "",
            "zerolinecolor": "white"
           }
          },
          "shapedefaults": {
           "line": {
            "color": "#2a3f5f"
           }
          },
          "ternary": {
           "aaxis": {
            "gridcolor": "white",
            "linecolor": "white",
            "ticks": ""
           },
           "baxis": {
            "gridcolor": "white",
            "linecolor": "white",
            "ticks": ""
           },
           "bgcolor": "#E5ECF6",
           "caxis": {
            "gridcolor": "white",
            "linecolor": "white",
            "ticks": ""
           }
          },
          "title": {
           "x": 0.05
          },
          "xaxis": {
           "automargin": true,
           "gridcolor": "white",
           "linecolor": "white",
           "ticks": "",
           "title": {
            "standoff": 15
           },
           "zerolinecolor": "white",
           "zerolinewidth": 2
          },
          "yaxis": {
           "automargin": true,
           "gridcolor": "white",
           "linecolor": "white",
           "ticks": "",
           "title": {
            "standoff": 15
           },
           "zerolinecolor": "white",
           "zerolinewidth": 2
          }
         }
        },
        "title": {
         "text": "Testing Profit vs. Number of Bread loaves made"
        },
        "xaxis": {
         "anchor": "y",
         "autorange": true,
         "domain": [
          0,
          1
         ],
         "range": [
          60,
          160
         ],
         "title": {
          "text": "Loaves of bread made"
         },
         "type": "linear"
        },
        "yaxis": {
         "anchor": "x",
         "autorange": true,
         "domain": [
          0,
          1
         ],
         "range": [
          158.88470833333332,
          241.08054166666668
         ],
         "title": {
          "text": "Mean total profit for 1000 days simulate"
         },
         "type": "linear"
        }
       }
      },
      "image/png": "[encoded data removed]",
      "text/html": [
       "<div>                            <div id=\"3dc8e068-b89a-47d8-ac62-4b5f3f33f229\" class=\"plotly-graph-div\" style=\"height:900px; width:100%;\"></div>            <script type=\"text/javascript\">                require([\"plotly\"], function(Plotly) {                    window.PLOTLYENV=window.PLOTLYENV || {};                                    if (document.getElementById(\"3dc8e068-b89a-47d8-ac62-4b5f3f33f229\")) {                    Plotly.newPlot(                        \"3dc8e068-b89a-47d8-ac62-4b5f3f33f229\",                        [{\"hovertemplate\":\"Loaves of bread made=%{x}<br>Mean total profit for 1000 days simulate=%{y}<extra></extra>\",\"legendgroup\":\"\",\"line\":{\"color\":\"#636efa\",\"dash\":\"solid\"},\"marker\":{\"symbol\":\"circle\"},\"mode\":\"lines\",\"name\":\"\",\"orientation\":\"v\",\"showlegend\":false,\"x\":[60,80,100,120,140,160],\"xaxis\":\"x\",\"y\":[162.9945,209.72825,234.942,236.97075,221.0925,198.1135],\"yaxis\":\"y\",\"type\":\"scatter\"}],                        {\"template\":{\"data\":{\"histogram2dcontour\":[{\"type\":\"histogram2dcontour\",\"colorbar\":{\"outlinewidth\":0,\"ticks\":\"\"},\"colorscale\":[[0.0,\"#0d0887\"],[0.1111111111111111,\"#46039f\"],[0.2222222222222222,\"#7201a8\"],[0.3333333333333333,\"#9c179e\"],[0.4444444444444444,\"#bd3786\"],[0.5555555555555556,\"#d8576b\"],[0.6666666666666666,\"#ed7953\"],[0.7777777777777778,\"#fb9f3a\"],[0.8888888888888888,\"#fdca26\"],[1.0,\"#f0f921\"]]}],\"choropleth\":[{\"type\":\"choropleth\",\"colorbar\":{\"outlinewidth\":0,\"ticks\":\"\"}}],\"histogram2d\":[{\"type\":\"histogram2d\",\"colorbar\":{\"outlinewidth\":0,\"ticks\":\"\"},\"colorscale\":[[0.0,\"#0d0887\"],[0.1111111111111111,\"#46039f\"],[0.2222222222222222,\"#7201a8\"],[0.3333333333333333,\"#9c179e\"],[0.4444444444444444,\"#bd3786\"],[0.5555555555555556,\"#d8576b\"],[0.6666666666666666,\"#ed7953\"],[0.7777777777777778,\"#fb9f3a\"],[0.8888888888888888,\"#fdca26\"],[1.0,\"#f0f921\"]]}],\"heatmap\":[{\"type\":\"heatmap\",\"colorbar\":{\"outlinewidth\":0,\"ticks\":\"\"},\"colorscale\":[[0.0,\"#0d0887\"],[0.1111111111111111,\"#46039f\"],[0.2222222222222222,\"#7201a8\"],[0.3333333333333333,\"#9c179e\"],[0.4444444444444444,\"#bd3786\"],[0.5555555555555556,\"#d8576b\"],[0.6666666666666666,\"#ed7953\"],[0.7777777777777778,\"#fb9f3a\"],[0.8888888888888888,\"#fdca26\"],[1.0,\"#f0f921\"]]}],\"heatmapgl\":[{\"type\":\"heatmapgl\",\"colorbar\":{\"outlinewidth\":0,\"ticks\":\"\"},\"colorscale\":[[0.0,\"#0d0887\"],[0.1111111111111111,\"#46039f\"],[0.2222222222222222,\"#7201a8\"],[0.3333333333333333,\"#9c179e\"],[0.4444444444444444,\"#bd3786\"],[0.5555555555555556,\"#d8576b\"],[0.6666666666666666,\"#ed7953\"],[0.7777777777777778,\"#fb9f3a\"],[0.8888888888888888,\"#fdca26\"],[1.0,\"#f0f921\"]]}],\"contourcarpet\":[{\"type\":\"contourcarpet\",\"colorbar\":{\"outlinewidth\":0,\"ticks\":\"\"}}],\"contour\":[{\"type\":\"contour\",\"colorbar\":{\"outlinewidth\":0,\"ticks\":\"\"},\"colorscale\":[[0.0,\"#0d0887\"],[0.1111111111111111,\"#46039f\"],[0.2222222222222222,\"#7201a8\"],[0.3333333333333333,\"#9c179e\"],[0.4444444444444444,\"#bd3786\"],[0.5555555555555556,\"#d8576b\"],[0.6666666666666666,\"#ed7953\"],[0.7777777777777778,\"#fb9f3a\"],[0.8888888888888888,\"#fdca26\"],[1.0,\"#f0f921\"]]}],\"surface\":[{\"type\":\"surface\",\"colorbar\":{\"outlinewidth\":0,\"ticks\":\"\"},\"colorscale\":[[0.0,\"#0d0887\"],[0.1111111111111111,\"#46039f\"],[0.2222222222222222,\"#7201a8\"],[0.3333333333333333,\"#9c179e\"],[0.4444444444444444,\"#bd3786\"],[0.5555555555555556,\"#d8576b\"],[0.6666666666666666,\"#ed7953\"],[0.7777777777777778,\"#fb9f3a\"],[0.8888888888888888,\"#fdca26\"],[1.0,\"#f0f921\"]]}],\"mesh3d\":[{\"type\":\"mesh3d\",\"colorbar\":{\"outlinewidth\":0,\"ticks\":\"\"}}],\"scatter\":[{\"fillpattern\":{\"fillmode\":\"overlay\",\"size\":10,\"solidity\":0.2},\"type\":\"scatter\"}],\"parcoords\":[{\"type\":\"parcoords\",\"line\":{\"colorbar\":{\"outlinewidth\":0,\"ticks\":\"\"}}}],\"scatterpolargl\":[{\"type\":\"scatterpolargl\",\"marker\":{\"colorbar\":{\"outlinewidth\":0,\"ticks\":\"\"}}}],\"bar\":[{\"error_x\":{\"color\":\"#2a3f5f\"},\"error_y\":{\"color\":\"#2a3f5f\"},\"marker\":{\"line\":{\"color\":\"#E5ECF6\",\"width\":0.5},\"pattern\":{\"fillmode\":\"overlay\",\"size\":10,\"solidity\":0.2}},\"type\":\"bar\"}],\"scattergeo\":[{\"type\":\"scattergeo\",\"marker\":{\"colorbar\":{\"outlinewidth\":0,\"ticks\":\"\"}}}],\"scatterpolar\":[{\"type\":\"scatterpolar\",\"marker\":{\"colorbar\":{\"outlinewidth\":0,\"ticks\":\"\"}}}],\"histogram\":[{\"marker\":{\"pattern\":{\"fillmode\":\"overlay\",\"size\":10,\"solidity\":0.2}},\"type\":\"histogram\"}],\"scattergl\":[{\"type\":\"scattergl\",\"marker\":{\"colorbar\":{\"outlinewidth\":0,\"ticks\":\"\"}}}],\"scatter3d\":[{\"type\":\"scatter3d\",\"line\":{\"colorbar\":{\"outlinewidth\":0,\"ticks\":\"\"}},\"marker\":{\"colorbar\":{\"outlinewidth\":0,\"ticks\":\"\"}}}],\"scattermapbox\":[{\"type\":\"scattermapbox\",\"marker\":{\"colorbar\":{\"outlinewidth\":0,\"ticks\":\"\"}}}],\"scatterternary\":[{\"type\":\"scatterternary\",\"marker\":{\"colorbar\":{\"outlinewidth\":0,\"ticks\":\"\"}}}],\"scattercarpet\":[{\"type\":\"scattercarpet\",\"marker\":{\"colorbar\":{\"outlinewidth\":0,\"ticks\":\"\"}}}],\"carpet\":[{\"aaxis\":{\"endlinecolor\":\"#2a3f5f\",\"gridcolor\":\"white\",\"linecolor\":\"white\",\"minorgridcolor\":\"white\",\"startlinecolor\":\"#2a3f5f\"},\"baxis\":{\"endlinecolor\":\"#2a3f5f\",\"gridcolor\":\"white\",\"linecolor\":\"white\",\"minorgridcolor\":\"white\",\"startlinecolor\":\"#2a3f5f\"},\"type\":\"carpet\"}],\"table\":[{\"cells\":{\"fill\":{\"color\":\"#EBF0F8\"},\"line\":{\"color\":\"white\"}},\"header\":{\"fill\":{\"color\":\"#C8D4E3\"},\"line\":{\"color\":\"white\"}},\"type\":\"table\"}],\"barpolar\":[{\"marker\":{\"line\":{\"color\":\"#E5ECF6\",\"width\":0.5},\"pattern\":{\"fillmode\":\"overlay\",\"size\":10,\"solidity\":0.2}},\"type\":\"barpolar\"}],\"pie\":[{\"automargin\":true,\"type\":\"pie\"}]},\"layout\":{\"autotypenumbers\":\"strict\",\"colorway\":[\"#636efa\",\"#EF553B\",\"#00cc96\",\"#ab63fa\",\"#FFA15A\",\"#19d3f3\",\"#FF6692\",\"#B6E880\",\"#FF97FF\",\"#FECB52\"],\"font\":{\"color\":\"#2a3f5f\"},\"hovermode\":\"closest\",\"hoverlabel\":{\"align\":\"left\"},\"paper_bgcolor\":\"white\",\"plot_bgcolor\":\"#E5ECF6\",\"polar\":{\"bgcolor\":\"#E5ECF6\",\"angularaxis\":{\"gridcolor\":\"white\",\"linecolor\":\"white\",\"ticks\":\"\"},\"radialaxis\":{\"gridcolor\":\"white\",\"linecolor\":\"white\",\"ticks\":\"\"}},\"ternary\":{\"bgcolor\":\"#E5ECF6\",\"aaxis\":{\"gridcolor\":\"white\",\"linecolor\":\"white\",\"ticks\":\"\"},\"baxis\":{\"gridcolor\":\"white\",\"linecolor\":\"white\",\"ticks\":\"\"},\"caxis\":{\"gridcolor\":\"white\",\"linecolor\":\"white\",\"ticks\":\"\"}},\"coloraxis\":{\"colorbar\":{\"outlinewidth\":0,\"ticks\":\"\"}},\"colorscale\":{\"sequential\":[[0.0,\"#0d0887\"],[0.1111111111111111,\"#46039f\"],[0.2222222222222222,\"#7201a8\"],[0.3333333333333333,\"#9c179e\"],[0.4444444444444444,\"#bd3786\"],[0.5555555555555556,\"#d8576b\"],[0.6666666666666666,\"#ed7953\"],[0.7777777777777778,\"#fb9f3a\"],[0.8888888888888888,\"#fdca26\"],[1.0,\"#f0f921\"]],\"sequentialminus\":[[0.0,\"#0d0887\"],[0.1111111111111111,\"#46039f\"],[0.2222222222222222,\"#7201a8\"],[0.3333333333333333,\"#9c179e\"],[0.4444444444444444,\"#bd3786\"],[0.5555555555555556,\"#d8576b\"],[0.6666666666666666,\"#ed7953\"],[0.7777777777777778,\"#fb9f3a\"],[0.8888888888888888,\"#fdca26\"],[1.0,\"#f0f921\"]],\"diverging\":[[0,\"#8e0152\"],[0.1,\"#c51b7d\"],[0.2,\"#de77ae\"],[0.3,\"#f1b6da\"],[0.4,\"#fde0ef\"],[0.5,\"#f7f7f7\"],[0.6,\"#e6f5d0\"],[0.7,\"#b8e186\"],[0.8,\"#7fbc41\"],[0.9,\"#4d9221\"],[1,\"#276419\"]]},\"xaxis\":{\"gridcolor\":\"white\",\"linecolor\":\"white\",\"ticks\":\"\",\"title\":{\"standoff\":15},\"zerolinecolor\":\"white\",\"automargin\":true,\"zerolinewidth\":2},\"yaxis\":{\"gridcolor\":\"white\",\"linecolor\":\"white\",\"ticks\":\"\",\"title\":{\"standoff\":15},\"zerolinecolor\":\"white\",\"automargin\":true,\"zerolinewidth\":2},\"scene\":{\"xaxis\":{\"backgroundcolor\":\"#E5ECF6\",\"gridcolor\":\"white\",\"linecolor\":\"white\",\"showbackground\":true,\"ticks\":\"\",\"zerolinecolor\":\"white\",\"gridwidth\":2},\"yaxis\":{\"backgroundcolor\":\"#E5ECF6\",\"gridcolor\":\"white\",\"linecolor\":\"white\",\"showbackground\":true,\"ticks\":\"\",\"zerolinecolor\":\"white\",\"gridwidth\":2},\"zaxis\":{\"backgroundcolor\":\"#E5ECF6\",\"gridcolor\":\"white\",\"linecolor\":\"white\",\"showbackground\":true,\"ticks\":\"\",\"zerolinecolor\":\"white\",\"gridwidth\":2}},\"shapedefaults\":{\"line\":{\"color\":\"#2a3f5f\"}},\"annotationdefaults\":{\"arrowcolor\":\"#2a3f5f\",\"arrowhead\":0,\"arrowwidth\":1},\"geo\":{\"bgcolor\":\"white\",\"landcolor\":\"#E5ECF6\",\"subunitcolor\":\"white\",\"showland\":true,\"showlakes\":true,\"lakecolor\":\"white\"},\"title\":{\"x\":0.05},\"mapbox\":{\"style\":\"light\"}}},\"xaxis\":{\"anchor\":\"y\",\"domain\":[0.0,1.0],\"title\":{\"text\":\"Loaves of bread made\"}},\"yaxis\":{\"anchor\":\"x\",\"domain\":[0.0,1.0],\"title\":{\"text\":\"Mean total profit for 1000 days simulate\"}},\"legend\":{\"tracegroupgap\":0},\"title\":{\"text\":\"Testing Profit vs. Number of Bread loaves made\"},\"height\":900},                        {\"responsive\": true}                    ).then(function(){\n",
       "                            \n",
       "var gd = document.getElementById('3dc8e068-b89a-47d8-ac62-4b5f3f33f229');\n",
       "var x = new MutationObserver(function (mutations, observer) {{\n",
       "        var display = window.getComputedStyle(gd).display;\n",
       "        if (!display || display === 'none') {{\n",
       "            console.log([gd, 'removed!']);\n",
       "            Plotly.purge(gd);\n",
       "            observer.disconnect();\n",
       "        }}\n",
       "}});\n",
       "\n",
       "// Listen for the removal of the full notebook cells\n",
       "var notebookContainer = gd.closest('#notebook-container');\n",
       "if (notebookContainer) {{\n",
       "    x.observe(notebookContainer, {childList: true});\n",
       "}}\n",
       "\n",
       "// Listen for the clearing of the current output cell\n",
       "var outputEl = gd.closest('.output');\n",
       "if (outputEl) {{\n",
       "    x.observe(outputEl, {childList: true});\n",
       "}}\n",
       "\n",
       "                        })                };                });            </script>        </div>"
      ]
     },
     "metadata": {},
     "output_type": "display_data"
    }
   ],
   "source": [
    "pxp.line(\n",
    "    bread_varies,\n",
    "    x='num_breads',\n",
    "    y='profit',\n",
    "    height=900,\n",
    "    title=\"Testing Profit vs. Number of Bread loaves made\",\n",
    "    labels={'num_breads':\"Loaves of bread made\",'profit':f\"Mean total profit for {num_days} days simulate\"}\n",
    "    )"
   ]
  },
  {
   "cell_type": "markdown",
   "metadata": {},
   "source": [
    "As you can see, once we can simulate daily profit, we can begin to answer many questions and reduce our uncertainty about the business. For this reason, Monte Carlo simulations can be an effective tool for measuring risk and reward.\n",
    "\n",
    "\n",
    "# End of assignment"
   ]
  }
 ],
 "metadata": {
  "kernelspec": {
   "display_name": "Python 3 (ipykernel)",
   "language": "python",
   "name": "python3"
  },
  "language_info": {
   "codemirror_mode": {
    "name": "ipython",
    "version": 3
   },
   "file_extension": ".py",
   "mimetype": "text/x-python",
   "name": "python",
   "nbconvert_exporter": "python",
   "pygments_lexer": "ipython3",
   "version": "3.11.9"
  }
 },
 "nbformat": 4,
 "nbformat_minor": 4
}
