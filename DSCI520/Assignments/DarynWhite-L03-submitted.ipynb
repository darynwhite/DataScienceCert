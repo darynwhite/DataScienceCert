{
 "cells": [
  {
   "cell_type": "markdown",
   "metadata": {},
   "source": [
    "# Assignment\n",
    "\n",
    "The Monty Hall problem we learned in class shows the importance of working out the math correctly and not letting \"intuition\" lead us down the wrong path when dealing with probabilities. Make sure to review it again because it will help with this assignment too. In this assignment, we learn about another such example. At first blush, the answer may seem obvious, but your job is to show the right answer using the rules of probability we learned in the lecture.\n",
    "\n",
    "Here are two similar-sounding questions with a subtle difference between them. As you will see, the subtle difference enough to make the problems and their solutions challenging and interesting:\n",
    "\n",
    "1. In families with 2 daughters, what's the probability that at least one daughter is born on a Thursday? <span style=\"color:red\" float:right>[10 point]</span>"
   ]
  },
  {
   "cell_type": "markdown",
   "metadata": {},
   "source": [
    "Answer: "
   ]
  },
  {
   "cell_type": "markdown",
   "metadata": {},
   "source": [
    "> Because the question is _at least one_ daughter being born on a Thursday, but it is possible for both to be born on a Thursday, the equation for this is:\n",
    "> \n",
    "> $1 - P(d)^n$\n",
    "> \n",
    "> Where $d = $ probability of any day born except Thursday & $n = $ number of daughters\n",
    "> \n",
    "> Thus\n",
    "> \n",
    "> $1 - P(d)^n = 1 - (6/7)^2 = 1 - 36/49 = 13/49$"
   ]
  },
  {
   "cell_type": "code",
   "execution_count": 1,
   "metadata": {},
   "outputs": [
    {
     "name": "stdout",
     "output_type": "stream",
     "text": [
      "The probability is 13/49\n"
     ]
    }
   ],
   "source": [
    "## Some code to show the above numbers\n",
    "import itertools\n",
    "\n",
    "all_births = list(itertools.product(['M','Tu','W','Th','F','Sa','Su'],repeat=2))\n",
    "N = len(all_births)\n",
    "s = len([b for b in all_births if 'Th' in b])\n",
    "\n",
    "print(f\"The probability is {s}/{N}\")"
   ]
  },
  {
   "cell_type": "markdown",
   "metadata": {},
   "source": [
    "2. In families with 2 daughters, what's the probability that at least one daughter is named Leila? Let's assume that Leila is one of the seven possible names for a girl, that each girl name is equally likely to be selected by the family if allowed, and that two girls from the same family can't have the same name. <span style=\"color:red\" float:right>[15 point]</span>"
   ]
  },
  {
   "cell_type": "markdown",
   "metadata": {},
   "source": [
    "Answer:"
   ]
  },
  {
   "cell_type": "markdown",
   "metadata": {},
   "source": [
    "> While this is _very_ similar to the previous question, we are limited to a single daughter receiving the name Leila, thus $n = 1$ because it is mutually exclusive.\n",
    "> \n",
    "> Additionally, we have __fewer__ possible outcomes because we cannot repeat names, thus: $7\\times6=42$ possible outcomes and thus $6\\times5=30$ don't have Leila for either daughter\n",
    ">\n",
    "> Using the equation established above, we have:\n",
    "> \n",
    "> $d = $ probability of any name except Leila & $n = 1$ or the _maximum_ number of daughters with the name Leila\n",
    "> \n",
    "> Thus\n",
    "> \n",
    "> $1 - P(d)^n = 1 - (30/42)^1 = 12/42 = 2/7$"
   ]
  },
  {
   "cell_type": "code",
   "execution_count": 2,
   "metadata": {},
   "outputs": [
    {
     "name": "stdout",
     "output_type": "stream",
     "text": [
      "The probability is 12/42 which reduces to 2/7\n"
     ]
    }
   ],
   "source": [
    "## Some code to show the above numbers\n",
    "import fractions\n",
    "\n",
    "all_names = list(itertools.permutations([\"1\",\"2\",\"3\",\"4\",\"5\",\"6\",\"Leila\"],2))\n",
    "N = len(all_names)\n",
    "s = len([n for n in all_names if 'Leila' in n])\n",
    "\n",
    "print(f\"The probability is {s}/{N} which reduces to {fractions.Fraction(s,N).limit_denominator()}\")"
   ]
  },
  {
   "cell_type": "markdown",
   "metadata": {},
   "source": [
    "The reason in (2) that we restrict the number of girl's names to 7 is so that we can compare the answer we get in (2) to the answer we get in (1). With this assumption, the two questions are very similar: 1 out of every 7 girls is born on a Thursday, and 1 out of every 7 girls is named Leila. The difference of course is that you can have two or more daughters born on a Thursday, but you can only name one of your daughters Leila. So this subtle distinction should play out in your solution. Note that you do not need to write code for this assignment. The solution can be worked out by hand."
   ]
  },
  {
   "cell_type": "markdown",
   "metadata": {},
   "source": [
    "Here are some other probability problems that have generated debates and helped us better understand the nature of probability and randomness:\n",
    "\n",
    "- [Boy and girl paradox](https://en.wikipedia.org/wiki/Boy_or_Girl_paradox)\n",
    "- [Bertrand paradox](https://en.wikipedia.org/wiki/Bertrand_paradox_(probability))\n",
    "- [The birthday problem](https://en.wikipedia.org/wiki/Birthday_problem)\n",
    "- [The two envelope problem](https://en.wikipedia.org/wiki/Two_envelopes_problem)\n",
    "- [St. Petersburg paradox](https://en.wikipedia.org/wiki/St._Petersburg_paradox) (a more complex example)\n",
    "\n",
    "# End of assignment"
   ]
  }
 ],
 "metadata": {
  "kernelspec": {
   "display_name": "data-sci",
   "language": "python",
   "name": "python3"
  },
  "language_info": {
   "codemirror_mode": {
    "name": "ipython",
    "version": 3
   },
   "file_extension": ".py",
   "mimetype": "text/x-python",
   "name": "python",
   "nbconvert_exporter": "python",
   "pygments_lexer": "ipython3",
   "version": "3.13.1"
  }
 },
 "nbformat": 4,
 "nbformat_minor": 2
}
