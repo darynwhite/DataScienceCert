{
 "cells": [
  {
   "cell_type": "markdown",
   "id": "9643acb3",
   "metadata": {},
   "source": [
    "Imagine you have a coin, and you're not sure if it's fair. You want to use Bayesian statistics to estimate the probability of the coin landing on heads (denoted as 'p'). You'll use a Beta distribution as your prior, and update it with observed coin flips.\n",
    "\n"
   ]
  },
  {
   "cell_type": "code",
   "execution_count": null,
   "id": "3faf2352",
   "metadata": {},
   "outputs": [],
   "source": [
    "import numpy as np\n",
    "from scipy.stats import beta\n",
    "\n",
    "coin_flips = [1, 0, 1, 1, 0, 1, 0, 1, 1, 1]\n",
    "alpha_prior = 2\n",
    "beta_prior = 2"
   ]
  },
  {
   "cell_type": "markdown",
   "id": "30a47deb",
   "metadata": {},
   "source": [
    "1. Calculate the number of heads and tails in the coin_flips data. 1=heads & 0=tails"
   ]
  },
  {
   "cell_type": "code",
   "execution_count": 49,
   "id": "2732f665",
   "metadata": {},
   "outputs": [
    {
     "name": "stdout",
     "output_type": "stream",
     "text": [
      "Tails: 3\n",
      "Heads: 7\n"
     ]
    }
   ],
   "source": [
    "heads = sum(coin_flips)\n",
    "tails = len(coin_flips) - heads\n",
    "\n",
    "print(f\"Tails: {tails}\\nHeads: {heads}\")"
   ]
  },
  {
   "cell_type": "markdown",
   "id": "765358b5",
   "metadata": {},
   "source": [
    "2. What are the parameters (alpha and beta) of the posterior Beta distribution after observing the coin_flips data?\n",
    "\n"
   ]
  },
  {
   "cell_type": "code",
   "execution_count": 50,
   "id": "7a317ae3",
   "metadata": {},
   "outputs": [
    {
     "data": {
      "text/plain": [
       "(9, 5)"
      ]
     },
     "execution_count": 50,
     "metadata": {},
     "output_type": "execute_result"
    }
   ],
   "source": [
    "a_post = alpha_prior + heads\n",
    "b_post = alpha_prior + tails\n",
    "a_post,b_post"
   ]
  },
  {
   "cell_type": "markdown",
   "id": "f466e47d",
   "metadata": {},
   "source": [
    "3. Calculate the mean of the posterior Beta distribution.\n",
    "\n"
   ]
  },
  {
   "cell_type": "code",
   "execution_count": 51,
   "id": "2c2751bd",
   "metadata": {},
   "outputs": [
    {
     "data": {
      "text/plain": [
       "np.float64(0.6428571428571429)"
      ]
     },
     "metadata": {},
     "output_type": "display_data"
    },
    {
     "data": {
      "text/plain": [
       "np.float64(0.015306122448979591)"
      ]
     },
     "metadata": {},
     "output_type": "display_data"
    },
    {
     "data": {
      "text/plain": [
       "np.float64(-0.28867513459481287)"
      ]
     },
     "metadata": {},
     "output_type": "display_data"
    },
    {
     "data": {
      "text/plain": [
       "np.float64(-0.23529411764705882)"
      ]
     },
     "metadata": {},
     "output_type": "display_data"
    }
   ],
   "source": [
    "mean, var, skew, kurt = beta.stats(a_post, b_post, moments='mvsk')\n",
    "display(mean,var,skew,kurt)"
   ]
  },
  {
   "cell_type": "markdown",
   "id": "7c1022bf",
   "metadata": {},
   "source": [
    "4. Calculate the standard deviation of the posterior Beta distribution.\n",
    "\n"
   ]
  },
  {
   "cell_type": "code",
   "execution_count": 52,
   "id": "6c89b879",
   "metadata": {},
   "outputs": [
    {
     "data": {
      "text/plain": [
       "np.float64(0.000234277384423157)"
      ]
     },
     "execution_count": 52,
     "metadata": {},
     "output_type": "execute_result"
    }
   ],
   "source": [
    "var**2"
   ]
  },
  {
   "cell_type": "markdown",
   "id": "e20e75a2",
   "metadata": {},
   "source": [
    "5. Using scipy.stats.beta.ppf, find the 95% credible interval (2.5th and 97.5th percentiles) of the posterior distribution.\n",
    "\n"
   ]
  },
  {
   "cell_type": "code",
   "execution_count": 53,
   "id": "56f1777d",
   "metadata": {},
   "outputs": [
    {
     "data": {
      "text/plain": [
       "(np.float64(0.38573833824929565), np.float64(0.8614206611098394))"
      ]
     },
     "execution_count": 53,
     "metadata": {},
     "output_type": "execute_result"
    }
   ],
   "source": [
    "lwr,upr = beta.interval(0.95,a_post,b_post)\n",
    "\n",
    "lwr,upr"
   ]
  },
  {
   "cell_type": "markdown",
   "id": "42f10708",
   "metadata": {},
   "source": [
    "6. Based on the mean of the posterior, is the coin likely to be fair (p=0.5)?"
   ]
  },
  {
   "cell_type": "code",
   "execution_count": 45,
   "id": "4578fb7b",
   "metadata": {},
   "outputs": [
    {
     "data": {
      "text/plain": [
       "(np.float64(1.5710449218750004), np.float64(0.1334228515625))"
      ]
     },
     "execution_count": 45,
     "metadata": {},
     "output_type": "execute_result"
    }
   ],
   "source": [
    "beta.pdf(0.5,a_post,b_post),beta.cdf(0.5,a_post,b_post)"
   ]
  },
  {
   "cell_type": "markdown",
   "id": "1a16483b",
   "metadata": {},
   "source": [
    "No"
   ]
  },
  {
   "cell_type": "markdown",
   "id": "8bb1ed0a",
   "metadata": {},
   "source": [
    "7. How does the standard deviation of the posterior reflect the uncertainty in our estimate of 'p'?\n",
    "\n"
   ]
  },
  {
   "cell_type": "markdown",
   "id": "6acfbc98",
   "metadata": {},
   "source": [
    "Standard deviation is really small"
   ]
  },
  {
   "cell_type": "markdown",
   "id": "f7dddd3e",
   "metadata": {},
   "source": [
    "8. How does the 95% credible interval help you understand the range of plausible values for 'p'?\n",
    "\n"
   ]
  },
  {
   "cell_type": "markdown",
   "id": "96ba68d4",
   "metadata": {},
   "source": [
    "It tilts a little to the right, favoring heads after 10 flips"
   ]
  },
  {
   "cell_type": "markdown",
   "id": "1b7ce49d",
   "metadata": {},
   "source": [
    "9. If you were to flip the coin one more time, what is the Bayesian predictive probability that it will land on heads? (Use the mean of the posterior as your best estimate for 'p').\n",
    "\n"
   ]
  },
  {
   "cell_type": "markdown",
   "id": "e784d8b2",
   "metadata": {},
   "source": [
    "Likely to be heads"
   ]
  }
 ],
 "metadata": {
  "kernelspec": {
   "display_name": "data-sci",
   "language": "python",
   "name": "python3"
  },
  "language_info": {
   "codemirror_mode": {
    "name": "ipython",
    "version": 3
   },
   "file_extension": ".py",
   "mimetype": "text/x-python",
   "name": "python",
   "nbconvert_exporter": "python",
   "pygments_lexer": "ipython3",
   "version": "3.13.2"
  }
 },
 "nbformat": 4,
 "nbformat_minor": 5
}
