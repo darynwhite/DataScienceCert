{
 "cells": [
  {
   "cell_type": "markdown",
   "metadata": {},
   "source": [
    "# Assignment\n",
    "\n",
    "We learned from the central limit theorem that the **mean** of a sample of size $n$ follows a normal distributon with center $\\mu$ and variance $\\sigma^2 / n$ where $\\mu$ and $\\sigma$ are the mean and variance of the population the sample was drawn from. And more importantly, the CTL holds **regardless of the distribution of the population** itelf as long as the sample size is large enough. So this leads to another question? What if we wanted to estimate the distribution of *some other statistic* besides the sample mean? For example, can we draw a similar conclusion about the distribution of the **sample median**? What about the distribution of the **sample variance**? Unfortunately, the CLT only applies to the sample mean, and finding the distribution of any other statistic is not that straight-forward. The CLT is like a mathematical guaratee, but we usually cannot make a similar guarantee with other statistics. So instead we can use computational methods to estimate the distribution of our statistic. One example of such computational method is **bootstrapping**.\n",
    "\n",
    "The sampling techniques we learned in the lecture mainly deal with the problem of how to create smaller data in a way that it is representative of the larger population, and all of them were a form of sampling **without replacement**. **Bootstrapping** consists of **repeated sampling from data with replacement** (which means the same row of data can end of more than once in the sampled data). Bootstrapping is useful technique when we want to estimate the distribution of a statistic that would otherwise be hard to estimate.\n",
    "\n",
    "Let's return to the bank marketing data from previous exercises:"
   ]
  },
  {
   "cell_type": "code",
   "execution_count": 29,
   "metadata": {},
   "outputs": [
    {
     "data": {
      "text/html": [
       "<div>\n",
       "<style scoped>\n",
       "    .dataframe tbody tr th:only-of-type {\n",
       "        vertical-align: middle;\n",
       "    }\n",
       "\n",
       "    .dataframe tbody tr th {\n",
       "        vertical-align: top;\n",
       "    }\n",
       "\n",
       "    .dataframe thead th {\n",
       "        text-align: right;\n",
       "    }\n",
       "</style>\n",
       "<table border=\"1\" class=\"dataframe\">\n",
       "  <thead>\n",
       "    <tr style=\"text-align: right;\">\n",
       "      <th></th>\n",
       "      <th>age</th>\n",
       "      <th>job</th>\n",
       "      <th>marital</th>\n",
       "      <th>education</th>\n",
       "      <th>default</th>\n",
       "      <th>balance</th>\n",
       "      <th>housing</th>\n",
       "      <th>loan</th>\n",
       "      <th>contact</th>\n",
       "      <th>day</th>\n",
       "      <th>month</th>\n",
       "      <th>duration</th>\n",
       "      <th>campaign</th>\n",
       "      <th>pdays</th>\n",
       "      <th>previous</th>\n",
       "      <th>poutcome</th>\n",
       "      <th>y</th>\n",
       "    </tr>\n",
       "  </thead>\n",
       "  <tbody>\n",
       "    <tr>\n",
       "      <th>0</th>\n",
       "      <td>58</td>\n",
       "      <td>management</td>\n",
       "      <td>married</td>\n",
       "      <td>tertiary</td>\n",
       "      <td>no</td>\n",
       "      <td>2143</td>\n",
       "      <td>yes</td>\n",
       "      <td>no</td>\n",
       "      <td>unknown</td>\n",
       "      <td>5</td>\n",
       "      <td>may</td>\n",
       "      <td>261</td>\n",
       "      <td>1</td>\n",
       "      <td>-1</td>\n",
       "      <td>0</td>\n",
       "      <td>unknown</td>\n",
       "      <td>no</td>\n",
       "    </tr>\n",
       "    <tr>\n",
       "      <th>1</th>\n",
       "      <td>44</td>\n",
       "      <td>technician</td>\n",
       "      <td>single</td>\n",
       "      <td>secondary</td>\n",
       "      <td>no</td>\n",
       "      <td>29</td>\n",
       "      <td>yes</td>\n",
       "      <td>no</td>\n",
       "      <td>unknown</td>\n",
       "      <td>5</td>\n",
       "      <td>may</td>\n",
       "      <td>151</td>\n",
       "      <td>1</td>\n",
       "      <td>-1</td>\n",
       "      <td>0</td>\n",
       "      <td>unknown</td>\n",
       "      <td>no</td>\n",
       "    </tr>\n",
       "    <tr>\n",
       "      <th>2</th>\n",
       "      <td>33</td>\n",
       "      <td>entrepreneur</td>\n",
       "      <td>married</td>\n",
       "      <td>secondary</td>\n",
       "      <td>no</td>\n",
       "      <td>2</td>\n",
       "      <td>yes</td>\n",
       "      <td>yes</td>\n",
       "      <td>unknown</td>\n",
       "      <td>5</td>\n",
       "      <td>may</td>\n",
       "      <td>76</td>\n",
       "      <td>1</td>\n",
       "      <td>-1</td>\n",
       "      <td>0</td>\n",
       "      <td>unknown</td>\n",
       "      <td>no</td>\n",
       "    </tr>\n",
       "    <tr>\n",
       "      <th>3</th>\n",
       "      <td>47</td>\n",
       "      <td>blue-collar</td>\n",
       "      <td>married</td>\n",
       "      <td>unknown</td>\n",
       "      <td>no</td>\n",
       "      <td>1506</td>\n",
       "      <td>yes</td>\n",
       "      <td>no</td>\n",
       "      <td>unknown</td>\n",
       "      <td>5</td>\n",
       "      <td>may</td>\n",
       "      <td>92</td>\n",
       "      <td>1</td>\n",
       "      <td>-1</td>\n",
       "      <td>0</td>\n",
       "      <td>unknown</td>\n",
       "      <td>no</td>\n",
       "    </tr>\n",
       "    <tr>\n",
       "      <th>4</th>\n",
       "      <td>33</td>\n",
       "      <td>unknown</td>\n",
       "      <td>single</td>\n",
       "      <td>unknown</td>\n",
       "      <td>no</td>\n",
       "      <td>1</td>\n",
       "      <td>no</td>\n",
       "      <td>no</td>\n",
       "      <td>unknown</td>\n",
       "      <td>5</td>\n",
       "      <td>may</td>\n",
       "      <td>198</td>\n",
       "      <td>1</td>\n",
       "      <td>-1</td>\n",
       "      <td>0</td>\n",
       "      <td>unknown</td>\n",
       "      <td>no</td>\n",
       "    </tr>\n",
       "  </tbody>\n",
       "</table>\n",
       "</div>"
      ],
      "text/plain": [
       "   age           job  marital  education default  balance housing loan  \\\n",
       "0   58    management  married   tertiary      no     2143     yes   no   \n",
       "1   44    technician   single  secondary      no       29     yes   no   \n",
       "2   33  entrepreneur  married  secondary      no        2     yes  yes   \n",
       "3   47   blue-collar  married    unknown      no     1506     yes   no   \n",
       "4   33       unknown   single    unknown      no        1      no   no   \n",
       "\n",
       "   contact  day month  duration  campaign  pdays  previous poutcome   y  \n",
       "0  unknown    5   may       261         1     -1         0  unknown  no  \n",
       "1  unknown    5   may       151         1     -1         0  unknown  no  \n",
       "2  unknown    5   may        76         1     -1         0  unknown  no  \n",
       "3  unknown    5   may        92         1     -1         0  unknown  no  \n",
       "4  unknown    5   may       198         1     -1         0  unknown  no  "
      ]
     },
     "execution_count": 29,
     "metadata": {},
     "output_type": "execute_result"
    }
   ],
   "source": [
    "import pandas as pd\n",
    "import numpy as np\n",
    "import plotly.express as pxp\n",
    "\n",
    "bank = pd.read_csv('../../data/bank-full.csv', delimiter = ';')\n",
    "bank.head()"
   ]
  },
  {
   "cell_type": "markdown",
   "metadata": {},
   "source": [
    "- Report the difference in the average balance for single vs married individuals in the data. <span style=\"color:red\" float:right>[1 point]</span>"
   ]
  },
  {
   "cell_type": "code",
   "execution_count": 9,
   "metadata": {},
   "outputs": [
    {
     "name": "stdout",
     "output_type": "stream",
     "text": [
      "Divorced has a mean balance of $1178.87\n",
      "Married has a mean balance of $1425.93\n",
      "Single has a mean balance of $1301.50\n",
      "\twith a difference between Married - Single = $124.43\n"
     ]
    }
   ],
   "source": [
    "balances = bank.groupby('marital')['balance'].mean()\n",
    "\n",
    "for x in balances.items():\n",
    "    print(f\"{x[0].capitalize()} has a mean balance of ${x[1]:0.2f}\")\n",
    "\n",
    "print(f\"\\twith a difference between Married - Single = ${balances['married'] - balances['single']:0.2f}\")"
   ]
  },
  {
   "cell_type": "markdown",
   "metadata": {},
   "source": [
    "Since balance is skewed to the right, maybe it's not such a good idea to compare averages for these two groups. So instead of the average, let's use the **median**.\n",
    "\n",
    "- Report the difference in the median balance for single vs married individuals in the data. How does this compare to using the mean? <span style=\"color:red\" float:right>[1 point]</span>"
   ]
  },
  {
   "cell_type": "code",
   "execution_count": 10,
   "metadata": {},
   "outputs": [
    {
     "name": "stdout",
     "output_type": "stream",
     "text": [
      "Divorced has a median balance of $348.00\n",
      "Married has a median balance of $477.00\n",
      "Single has a median balance of $437.00\n",
      "\twith a difference between Married - Single = $40.00\n"
     ]
    }
   ],
   "source": [
    "balances = bank.groupby('marital')['balance'].median()\n",
    "\n",
    "for x in balances.items():\n",
    "    print(f\"{x[0].capitalize()} has a median balance of ${x[1]:0.2f}\")\n",
    "\n",
    "print(f\"\\twith a difference between Married - Single = ${balances['married'] - balances['single']:0.2f}\")"
   ]
  },
  {
   "cell_type": "markdown",
   "metadata": {},
   "source": [
    "But what is the distribution of the above statistics?\n",
    "\n",
    "- In the case of the mean, we could rely on the CLT to answer that, assuming that we know the mean and variance of balance for single and married individuals **in the population** (our data is the sample).\n",
    "- In the case of the median, we cannot rely on the CLT, so we will use bootstrapping to estimate the distribution.\n",
    "\n",
    "1. Take a bootstrap sample from the data. You can use the `sample` method to do this. Recall that a bootstrap sample is a sample **with replacement**. Your bootstrap sample should have the same size (number of rows) as the data. <span style=\"color:red\" float:right>[5 point]</span>\n",
    "1. Find the difference between the median bank balances for single vs. married individuals in the bootstrap sample. We will refer to this as the **bootstrap estimate**. <span style=\"color:red\" float:right>[2 point]</span>\n",
    "1. Repeat steps 1 and 2 over 1000 iterations, and at the end of each iteration store the bootstrap estimate into a list we call `bootstrap_estimates`. <span style=\"color:red\" float:right>[2 point]</span>"
   ]
  },
  {
   "cell_type": "code",
   "execution_count": 76,
   "metadata": {},
   "outputs": [],
   "source": [
    "bootstrap_estimates = []\n",
    "n_iters = 1000\n",
    "rand_state = lambda x: 1209 + x\n",
    "\n",
    "for n in range(n_iters):\n",
    "    bootstrapped = bank.sample(n=bank.shape[0],replace=True,random_state=rand_state(n))\n",
    "    samp_balances = bootstrapped.groupby('marital')['balance'].median()\n",
    "    bootstrap_estimates.append(samp_balances['married'] - samp_balances['single'])\n",
    "\n",
    "estimates = pd.DataFrame(bootstrap_estimates, columns=['difference'])"
   ]
  },
  {
   "cell_type": "markdown",
   "metadata": {},
   "source": [
    "- Display the distribution of the 1000 bootstrap estimates we found. Does the distribution of the difference in medians appear to be symmetric? <span style=\"color:red\" float:right>[2 point]</span>"
   ]
  },
  {
   "cell_type": "code",
   "execution_count": 77,
   "metadata": {},
   "outputs": [
    {
     "data": {
      "application/vnd.plotly.v1+json": {
       "config": {
        "plotlyServerURL": "https://plot.ly"
       },
       "data": [
        {
         "alignmentgroup": "True",
         "bingroup": "x",
         "histnorm": "percent",
         "hovertemplate": "Median Difference Estimate (Married - Single)=%{x}<br>percent=%{y}<extra></extra>",
         "legendgroup": "",
         "marker": {
          "color": "#636efa",
          "line": {
           "color": "black",
           "width": 0.25
          },
          "pattern": {
           "shape": ""
          }
         },
         "name": "",
         "offsetgroup": "",
         "orientation": "v",
         "showlegend": false,
         "type": "histogram",
         "x": [
          59,
          47,
          48,
          39,
          42,
          24,
          45,
          47,
          38,
          33,
          48,
          29,
          49,
          36,
          20,
          50,
          36,
          39,
          31,
          44,
          33,
          34,
          29,
          41,
          28,
          45,
          40,
          47,
          43.5,
          36,
          33,
          26,
          45,
          49,
          53,
          43,
          31,
          57,
          40,
          20,
          34,
          36,
          28,
          33,
          44,
          53,
          27,
          42,
          32,
          22,
          42,
          40,
          47.5,
          57,
          44.5,
          45,
          46,
          53,
          37,
          46,
          50,
          44,
          60.5,
          42,
          57,
          48,
          31.5,
          53,
          33,
          50,
          10,
          39,
          48,
          23,
          38,
          45,
          28,
          35,
          41,
          45,
          39,
          44,
          36,
          44,
          34,
          47,
          38,
          40.5,
          45,
          46,
          13.5,
          50,
          42,
          24,
          29,
          19,
          32,
          47,
          43,
          45,
          47.5,
          39,
          53,
          40,
          25,
          25,
          44.5,
          15,
          42,
          38,
          56,
          42,
          64,
          37,
          39,
          52,
          10,
          39,
          33,
          17,
          43.5,
          32,
          40.5,
          52.5,
          26.5,
          52,
          43,
          41,
          43.5,
          49,
          36.5,
          29,
          26,
          24,
          35,
          30,
          38.5,
          55,
          17,
          51,
          32.5,
          49.5,
          57,
          30,
          39,
          35,
          33,
          52,
          49,
          35,
          60,
          28,
          13,
          49,
          53,
          45,
          63,
          44,
          32,
          49,
          38,
          38.5,
          44,
          46,
          42,
          33,
          33,
          48,
          39,
          43,
          49,
          62,
          37,
          43,
          28,
          45,
          18,
          33,
          39,
          17,
          37,
          59,
          62,
          42,
          31,
          46,
          36,
          31,
          22,
          21,
          37,
          43,
          44,
          51,
          34.5,
          58,
          24,
          45,
          49,
          12,
          38,
          53,
          39,
          62,
          21.5,
          29,
          36,
          49,
          26,
          33.5,
          50,
          43,
          30,
          72,
          53,
          53,
          31,
          39,
          26,
          40,
          46.5,
          36,
          48,
          64,
          53.5,
          31,
          53,
          42,
          32,
          27,
          44,
          23,
          45,
          47,
          54.5,
          30,
          35,
          14,
          41,
          38.5,
          27,
          50,
          37,
          38,
          62,
          47,
          38,
          38,
          43,
          49,
          44,
          30,
          17,
          27,
          41,
          29,
          36,
          39,
          34,
          72,
          38,
          42,
          46,
          50,
          54,
          47,
          29,
          36,
          50,
          34,
          27,
          36,
          16,
          34,
          40.5,
          48,
          45,
          40,
          44,
          42.5,
          31,
          58,
          55,
          50,
          42,
          44,
          44,
          44,
          17,
          35,
          46,
          40,
          30,
          19,
          36,
          45,
          26,
          42,
          38,
          34.5,
          40,
          33,
          35,
          34,
          43,
          39,
          55,
          22,
          43,
          29,
          52,
          46,
          41,
          45,
          35,
          53,
          38,
          25,
          49,
          44,
          56,
          48,
          54.5,
          25,
          50,
          43,
          24,
          39,
          34,
          18,
          18.5,
          37,
          29,
          28,
          39,
          50,
          45.5,
          31,
          40,
          42,
          25.5,
          44,
          48,
          49,
          61,
          30,
          45,
          33,
          22,
          23,
          26,
          41.5,
          45,
          29,
          36,
          39.5,
          53,
          46,
          34,
          45,
          50,
          49,
          37,
          51,
          52,
          52.5,
          48,
          25,
          28,
          39,
          15,
          34,
          38.5,
          47,
          24.5,
          29,
          50,
          9,
          22,
          42,
          14,
          37,
          46.5,
          52,
          38,
          45,
          39.5,
          36,
          74,
          40,
          32,
          47,
          56,
          21,
          44,
          53,
          23,
          31,
          29,
          49,
          52,
          44.5,
          40,
          49,
          25,
          33,
          34,
          43,
          34,
          57.5,
          46,
          37,
          50,
          51,
          52,
          44,
          23,
          43,
          34.5,
          59,
          23,
          47,
          54,
          70,
          41,
          37,
          36.5,
          45,
          31,
          30,
          45,
          41,
          50,
          35,
          52,
          35,
          26,
          32,
          28,
          54,
          42,
          51,
          44,
          40,
          47.5,
          53,
          41,
          51,
          43.5,
          49,
          48,
          29,
          61,
          46.5,
          13,
          47.5,
          44,
          41.5,
          33,
          43,
          32,
          37,
          45,
          65,
          56,
          41,
          44,
          51,
          44.5,
          39,
          37,
          40,
          34,
          27,
          46,
          50,
          23,
          44,
          53,
          36,
          22,
          32,
          48,
          41,
          37,
          41,
          57,
          43,
          11,
          45,
          47.5,
          53,
          43,
          26,
          42.5,
          58,
          24,
          32,
          29,
          51,
          43,
          21,
          32,
          50,
          69,
          45,
          43,
          51,
          33,
          34,
          49,
          30,
          31,
          17,
          44,
          41,
          40,
          32,
          36,
          29.5,
          44,
          47.5,
          65,
          31,
          38,
          34,
          41,
          35,
          48.5,
          45,
          34,
          41,
          39,
          35,
          26,
          24,
          37,
          29.5,
          41,
          28,
          27,
          37,
          35,
          25.5,
          48,
          53,
          46,
          62,
          38.5,
          31,
          34,
          32.5,
          38,
          51,
          33,
          23,
          27.5,
          43,
          35,
          43,
          53,
          31,
          57,
          23,
          40,
          39,
          25,
          40.5,
          39,
          30,
          26,
          45,
          24,
          47,
          38,
          54,
          61,
          49,
          27,
          28,
          37,
          34,
          26,
          46,
          30,
          48,
          26,
          34,
          36,
          37,
          62,
          36,
          57,
          20,
          27,
          40.5,
          34,
          41,
          35,
          35,
          54,
          40,
          30,
          43.5,
          34,
          41,
          22,
          41,
          39.5,
          43,
          59.5,
          36,
          41,
          45,
          30,
          50,
          35,
          36,
          39,
          53,
          55.5,
          53.5,
          40.5,
          15,
          25,
          31,
          42.5,
          18,
          59,
          39,
          42,
          46,
          27,
          32,
          49,
          39,
          42,
          33,
          37,
          53,
          30,
          40,
          42,
          31,
          50,
          37,
          48,
          35.5,
          48,
          38.5,
          31,
          57,
          41,
          54,
          31,
          48,
          50,
          67,
          41,
          58.5,
          28,
          51,
          39,
          15,
          31,
          27,
          20,
          50,
          32,
          49,
          27,
          35,
          36,
          45,
          51,
          35,
          46,
          37,
          20,
          61,
          51,
          35,
          44.5,
          59,
          48,
          24,
          37,
          29,
          43,
          39,
          39,
          57,
          25,
          37,
          44,
          44,
          27,
          26,
          36,
          43,
          28,
          44,
          62,
          23,
          44,
          40.5,
          32,
          28,
          38,
          30,
          11,
          46,
          49,
          39,
          36,
          43,
          28.5,
          49,
          28,
          20,
          55,
          63.5,
          28,
          38,
          9,
          13,
          51,
          47,
          49.5,
          44,
          29,
          47,
          46,
          40.5,
          31,
          41,
          44,
          29,
          35.5,
          51,
          37,
          32,
          47,
          28,
          41,
          45,
          39,
          26,
          15,
          36,
          35,
          23,
          39,
          22,
          55,
          28,
          17.5,
          45,
          45,
          49,
          48,
          35,
          48,
          57,
          47,
          59,
          45,
          28,
          35,
          25,
          47,
          51,
          44,
          41,
          22,
          30,
          40,
          34,
          56,
          36,
          30,
          13,
          70,
          38,
          21,
          62,
          51,
          45,
          40,
          48,
          37,
          51,
          18,
          43,
          43,
          62,
          22.5,
          36,
          40.5,
          36.5,
          38,
          54,
          41,
          46,
          41.5,
          41,
          51,
          42,
          12,
          31,
          43,
          40,
          30,
          38.5,
          35,
          48,
          43,
          50,
          67.5,
          50,
          65,
          29,
          56,
          51,
          48,
          32,
          41,
          36,
          49,
          55,
          41,
          49,
          50,
          42,
          45,
          48,
          31.5,
          24.5,
          41.5,
          42,
          31,
          43.5,
          16,
          42,
          32,
          31,
          45,
          50,
          31,
          54,
          59,
          44.5,
          46,
          50,
          48,
          44,
          21.5,
          41,
          30,
          44,
          54,
          50,
          48.5,
          52,
          49.5,
          28,
          44,
          48,
          37,
          53,
          40.5,
          37,
          27,
          37,
          55,
          48,
          32,
          46,
          55,
          45,
          45.5,
          56,
          42,
          50,
          31,
          34,
          21,
          35,
          33,
          27,
          35,
          35,
          39,
          50.5,
          42,
          53,
          38,
          47,
          44,
          44,
          49,
          33,
          56,
          55,
          41,
          49,
          35,
          57,
          18,
          56,
          49.5,
          16,
          45,
          35,
          33,
          26,
          51,
          17,
          26,
          34,
          45,
          40,
          40,
          46,
          44,
          34,
          52,
          44,
          27,
          43,
          47,
          45,
          33.5,
          26,
          42,
          26,
          52,
          36,
          20,
          44,
          25,
          40,
          45,
          60,
          39,
          59,
          33,
          50,
          45,
          30,
          25,
          37,
          20,
          37,
          48.5,
          20,
          48,
          37,
          55,
          54,
          58,
          38,
          42,
          42,
          48,
          51,
          56,
          46,
          38,
          59,
          15,
          23.5,
          16,
          41,
          45,
          34,
          62,
          62,
          41,
          40,
          42,
          20,
          54.5,
          19,
          39,
          58,
          46,
          54,
          54,
          50,
          39,
          43,
          35,
          34,
          42,
          36.5,
          47,
          21,
          38,
          48
         ],
         "xaxis": "x",
         "yaxis": "y"
        }
       ],
       "layout": {
        "barmode": "relative",
        "legend": {
         "tracegroupgap": 0
        },
        "template": {
         "data": {
          "bar": [
           {
            "error_x": {
             "color": "#2a3f5f"
            },
            "error_y": {
             "color": "#2a3f5f"
            },
            "marker": {
             "line": {
              "color": "#E5ECF6",
              "width": 0.5
             },
             "pattern": {
              "fillmode": "overlay",
              "size": 10,
              "solidity": 0.2
             }
            },
            "type": "bar"
           }
          ],
          "barpolar": [
           {
            "marker": {
             "line": {
              "color": "#E5ECF6",
              "width": 0.5
             },
             "pattern": {
              "fillmode": "overlay",
              "size": 10,
              "solidity": 0.2
             }
            },
            "type": "barpolar"
           }
          ],
          "carpet": [
           {
            "aaxis": {
             "endlinecolor": "#2a3f5f",
             "gridcolor": "white",
             "linecolor": "white",
             "minorgridcolor": "white",
             "startlinecolor": "#2a3f5f"
            },
            "baxis": {
             "endlinecolor": "#2a3f5f",
             "gridcolor": "white",
             "linecolor": "white",
             "minorgridcolor": "white",
             "startlinecolor": "#2a3f5f"
            },
            "type": "carpet"
           }
          ],
          "choropleth": [
           {
            "colorbar": {
             "outlinewidth": 0,
             "ticks": ""
            },
            "type": "choropleth"
           }
          ],
          "contour": [
           {
            "colorbar": {
             "outlinewidth": 0,
             "ticks": ""
            },
            "colorscale": [
             [
              0,
              "#0d0887"
             ],
             [
              0.1111111111111111,
              "#46039f"
             ],
             [
              0.2222222222222222,
              "#7201a8"
             ],
             [
              0.3333333333333333,
              "#9c179e"
             ],
             [
              0.4444444444444444,
              "#bd3786"
             ],
             [
              0.5555555555555556,
              "#d8576b"
             ],
             [
              0.6666666666666666,
              "#ed7953"
             ],
             [
              0.7777777777777778,
              "#fb9f3a"
             ],
             [
              0.8888888888888888,
              "#fdca26"
             ],
             [
              1,
              "#f0f921"
             ]
            ],
            "type": "contour"
           }
          ],
          "contourcarpet": [
           {
            "colorbar": {
             "outlinewidth": 0,
             "ticks": ""
            },
            "type": "contourcarpet"
           }
          ],
          "heatmap": [
           {
            "colorbar": {
             "outlinewidth": 0,
             "ticks": ""
            },
            "colorscale": [
             [
              0,
              "#0d0887"
             ],
             [
              0.1111111111111111,
              "#46039f"
             ],
             [
              0.2222222222222222,
              "#7201a8"
             ],
             [
              0.3333333333333333,
              "#9c179e"
             ],
             [
              0.4444444444444444,
              "#bd3786"
             ],
             [
              0.5555555555555556,
              "#d8576b"
             ],
             [
              0.6666666666666666,
              "#ed7953"
             ],
             [
              0.7777777777777778,
              "#fb9f3a"
             ],
             [
              0.8888888888888888,
              "#fdca26"
             ],
             [
              1,
              "#f0f921"
             ]
            ],
            "type": "heatmap"
           }
          ],
          "heatmapgl": [
           {
            "colorbar": {
             "outlinewidth": 0,
             "ticks": ""
            },
            "colorscale": [
             [
              0,
              "#0d0887"
             ],
             [
              0.1111111111111111,
              "#46039f"
             ],
             [
              0.2222222222222222,
              "#7201a8"
             ],
             [
              0.3333333333333333,
              "#9c179e"
             ],
             [
              0.4444444444444444,
              "#bd3786"
             ],
             [
              0.5555555555555556,
              "#d8576b"
             ],
             [
              0.6666666666666666,
              "#ed7953"
             ],
             [
              0.7777777777777778,
              "#fb9f3a"
             ],
             [
              0.8888888888888888,
              "#fdca26"
             ],
             [
              1,
              "#f0f921"
             ]
            ],
            "type": "heatmapgl"
           }
          ],
          "histogram": [
           {
            "marker": {
             "pattern": {
              "fillmode": "overlay",
              "size": 10,
              "solidity": 0.2
             }
            },
            "type": "histogram"
           }
          ],
          "histogram2d": [
           {
            "colorbar": {
             "outlinewidth": 0,
             "ticks": ""
            },
            "colorscale": [
             [
              0,
              "#0d0887"
             ],
             [
              0.1111111111111111,
              "#46039f"
             ],
             [
              0.2222222222222222,
              "#7201a8"
             ],
             [
              0.3333333333333333,
              "#9c179e"
             ],
             [
              0.4444444444444444,
              "#bd3786"
             ],
             [
              0.5555555555555556,
              "#d8576b"
             ],
             [
              0.6666666666666666,
              "#ed7953"
             ],
             [
              0.7777777777777778,
              "#fb9f3a"
             ],
             [
              0.8888888888888888,
              "#fdca26"
             ],
             [
              1,
              "#f0f921"
             ]
            ],
            "type": "histogram2d"
           }
          ],
          "histogram2dcontour": [
           {
            "colorbar": {
             "outlinewidth": 0,
             "ticks": ""
            },
            "colorscale": [
             [
              0,
              "#0d0887"
             ],
             [
              0.1111111111111111,
              "#46039f"
             ],
             [
              0.2222222222222222,
              "#7201a8"
             ],
             [
              0.3333333333333333,
              "#9c179e"
             ],
             [
              0.4444444444444444,
              "#bd3786"
             ],
             [
              0.5555555555555556,
              "#d8576b"
             ],
             [
              0.6666666666666666,
              "#ed7953"
             ],
             [
              0.7777777777777778,
              "#fb9f3a"
             ],
             [
              0.8888888888888888,
              "#fdca26"
             ],
             [
              1,
              "#f0f921"
             ]
            ],
            "type": "histogram2dcontour"
           }
          ],
          "mesh3d": [
           {
            "colorbar": {
             "outlinewidth": 0,
             "ticks": ""
            },
            "type": "mesh3d"
           }
          ],
          "parcoords": [
           {
            "line": {
             "colorbar": {
              "outlinewidth": 0,
              "ticks": ""
             }
            },
            "type": "parcoords"
           }
          ],
          "pie": [
           {
            "automargin": true,
            "type": "pie"
           }
          ],
          "scatter": [
           {
            "fillpattern": {
             "fillmode": "overlay",
             "size": 10,
             "solidity": 0.2
            },
            "type": "scatter"
           }
          ],
          "scatter3d": [
           {
            "line": {
             "colorbar": {
              "outlinewidth": 0,
              "ticks": ""
             }
            },
            "marker": {
             "colorbar": {
              "outlinewidth": 0,
              "ticks": ""
             }
            },
            "type": "scatter3d"
           }
          ],
          "scattercarpet": [
           {
            "marker": {
             "colorbar": {
              "outlinewidth": 0,
              "ticks": ""
             }
            },
            "type": "scattercarpet"
           }
          ],
          "scattergeo": [
           {
            "marker": {
             "colorbar": {
              "outlinewidth": 0,
              "ticks": ""
             }
            },
            "type": "scattergeo"
           }
          ],
          "scattergl": [
           {
            "marker": {
             "colorbar": {
              "outlinewidth": 0,
              "ticks": ""
             }
            },
            "type": "scattergl"
           }
          ],
          "scattermapbox": [
           {
            "marker": {
             "colorbar": {
              "outlinewidth": 0,
              "ticks": ""
             }
            },
            "type": "scattermapbox"
           }
          ],
          "scatterpolar": [
           {
            "marker": {
             "colorbar": {
              "outlinewidth": 0,
              "ticks": ""
             }
            },
            "type": "scatterpolar"
           }
          ],
          "scatterpolargl": [
           {
            "marker": {
             "colorbar": {
              "outlinewidth": 0,
              "ticks": ""
             }
            },
            "type": "scatterpolargl"
           }
          ],
          "scatterternary": [
           {
            "marker": {
             "colorbar": {
              "outlinewidth": 0,
              "ticks": ""
             }
            },
            "type": "scatterternary"
           }
          ],
          "surface": [
           {
            "colorbar": {
             "outlinewidth": 0,
             "ticks": ""
            },
            "colorscale": [
             [
              0,
              "#0d0887"
             ],
             [
              0.1111111111111111,
              "#46039f"
             ],
             [
              0.2222222222222222,
              "#7201a8"
             ],
             [
              0.3333333333333333,
              "#9c179e"
             ],
             [
              0.4444444444444444,
              "#bd3786"
             ],
             [
              0.5555555555555556,
              "#d8576b"
             ],
             [
              0.6666666666666666,
              "#ed7953"
             ],
             [
              0.7777777777777778,
              "#fb9f3a"
             ],
             [
              0.8888888888888888,
              "#fdca26"
             ],
             [
              1,
              "#f0f921"
             ]
            ],
            "type": "surface"
           }
          ],
          "table": [
           {
            "cells": {
             "fill": {
              "color": "#EBF0F8"
             },
             "line": {
              "color": "white"
             }
            },
            "header": {
             "fill": {
              "color": "#C8D4E3"
             },
             "line": {
              "color": "white"
             }
            },
            "type": "table"
           }
          ]
         },
         "layout": {
          "annotationdefaults": {
           "arrowcolor": "#2a3f5f",
           "arrowhead": 0,
           "arrowwidth": 1
          },
          "autotypenumbers": "strict",
          "coloraxis": {
           "colorbar": {
            "outlinewidth": 0,
            "ticks": ""
           }
          },
          "colorscale": {
           "diverging": [
            [
             0,
             "#8e0152"
            ],
            [
             0.1,
             "#c51b7d"
            ],
            [
             0.2,
             "#de77ae"
            ],
            [
             0.3,
             "#f1b6da"
            ],
            [
             0.4,
             "#fde0ef"
            ],
            [
             0.5,
             "#f7f7f7"
            ],
            [
             0.6,
             "#e6f5d0"
            ],
            [
             0.7,
             "#b8e186"
            ],
            [
             0.8,
             "#7fbc41"
            ],
            [
             0.9,
             "#4d9221"
            ],
            [
             1,
             "#276419"
            ]
           ],
           "sequential": [
            [
             0,
             "#0d0887"
            ],
            [
             0.1111111111111111,
             "#46039f"
            ],
            [
             0.2222222222222222,
             "#7201a8"
            ],
            [
             0.3333333333333333,
             "#9c179e"
            ],
            [
             0.4444444444444444,
             "#bd3786"
            ],
            [
             0.5555555555555556,
             "#d8576b"
            ],
            [
             0.6666666666666666,
             "#ed7953"
            ],
            [
             0.7777777777777778,
             "#fb9f3a"
            ],
            [
             0.8888888888888888,
             "#fdca26"
            ],
            [
             1,
             "#f0f921"
            ]
           ],
           "sequentialminus": [
            [
             0,
             "#0d0887"
            ],
            [
             0.1111111111111111,
             "#46039f"
            ],
            [
             0.2222222222222222,
             "#7201a8"
            ],
            [
             0.3333333333333333,
             "#9c179e"
            ],
            [
             0.4444444444444444,
             "#bd3786"
            ],
            [
             0.5555555555555556,
             "#d8576b"
            ],
            [
             0.6666666666666666,
             "#ed7953"
            ],
            [
             0.7777777777777778,
             "#fb9f3a"
            ],
            [
             0.8888888888888888,
             "#fdca26"
            ],
            [
             1,
             "#f0f921"
            ]
           ]
          },
          "colorway": [
           "#636efa",
           "#EF553B",
           "#00cc96",
           "#ab63fa",
           "#FFA15A",
           "#19d3f3",
           "#FF6692",
           "#B6E880",
           "#FF97FF",
           "#FECB52"
          ],
          "font": {
           "color": "#2a3f5f"
          },
          "geo": {
           "bgcolor": "white",
           "lakecolor": "white",
           "landcolor": "#E5ECF6",
           "showlakes": true,
           "showland": true,
           "subunitcolor": "white"
          },
          "hoverlabel": {
           "align": "left"
          },
          "hovermode": "closest",
          "mapbox": {
           "style": "light"
          },
          "paper_bgcolor": "white",
          "plot_bgcolor": "#E5ECF6",
          "polar": {
           "angularaxis": {
            "gridcolor": "white",
            "linecolor": "white",
            "ticks": ""
           },
           "bgcolor": "#E5ECF6",
           "radialaxis": {
            "gridcolor": "white",
            "linecolor": "white",
            "ticks": ""
           }
          },
          "scene": {
           "xaxis": {
            "backgroundcolor": "#E5ECF6",
            "gridcolor": "white",
            "gridwidth": 2,
            "linecolor": "white",
            "showbackground": true,
            "ticks": "",
            "zerolinecolor": "white"
           },
           "yaxis": {
            "backgroundcolor": "#E5ECF6",
            "gridcolor": "white",
            "gridwidth": 2,
            "linecolor": "white",
            "showbackground": true,
            "ticks": "",
            "zerolinecolor": "white"
           },
           "zaxis": {
            "backgroundcolor": "#E5ECF6",
            "gridcolor": "white",
            "gridwidth": 2,
            "linecolor": "white",
            "showbackground": true,
            "ticks": "",
            "zerolinecolor": "white"
           }
          },
          "shapedefaults": {
           "line": {
            "color": "#2a3f5f"
           }
          },
          "ternary": {
           "aaxis": {
            "gridcolor": "white",
            "linecolor": "white",
            "ticks": ""
           },
           "baxis": {
            "gridcolor": "white",
            "linecolor": "white",
            "ticks": ""
           },
           "bgcolor": "#E5ECF6",
           "caxis": {
            "gridcolor": "white",
            "linecolor": "white",
            "ticks": ""
           }
          },
          "title": {
           "x": 0.05
          },
          "xaxis": {
           "automargin": true,
           "gridcolor": "white",
           "linecolor": "white",
           "ticks": "",
           "title": {
            "standoff": 15
           },
           "zerolinecolor": "white",
           "zerolinewidth": 2
          },
          "yaxis": {
           "automargin": true,
           "gridcolor": "white",
           "linecolor": "white",
           "ticks": "",
           "title": {
            "standoff": 15
           },
           "zerolinecolor": "white",
           "zerolinewidth": 2
          }
         }
        },
        "title": {
         "text": "Distribution of balance differences between Married and Single accounts"
        },
        "xaxis": {
         "anchor": "y",
         "domain": [
          0,
          1
         ],
         "title": {
          "text": "Median Difference Estimate (Married - Single)"
         }
        },
        "yaxis": {
         "anchor": "x",
         "domain": [
          0,
          1
         ],
         "title": {
          "text": "percent"
         }
        }
       }
      }
     },
     "metadata": {},
     "output_type": "display_data"
    }
   ],
   "source": [
    "fig = pxp.histogram(\n",
    "    estimates,\n",
    "    x='difference',\n",
    "    histnorm='percent',\n",
    "    labels={'difference':'Median Difference Estimate (Married - Single)'},\n",
    "    title=\"Distribution of balance differences between Married and Single accounts\"\n",
    "    )\n",
    "fig.update_traces(marker=dict(line_width=0.25, line_color=\"black\"))"
   ]
  },
  {
   "cell_type": "markdown",
   "metadata": {},
   "source": [
    "- What is its standard deviations? <span style=\"color:red\" float:right>[1 point]</span>"
   ]
  },
  {
   "cell_type": "code",
   "execution_count": 75,
   "metadata": {},
   "outputs": [
    {
     "name": "stdout",
     "output_type": "stream",
     "text": [
      "The standard deviation of the estimates is $11.19\n"
     ]
    }
   ],
   "source": [
    "print(f\"The standard deviation of the estimates is ${estimates.std().values[0]:0.2f}\")"
   ]
  },
  {
   "cell_type": "markdown",
   "metadata": {},
   "source": [
    "So we now have not only the difference in median balance between the two groups, but we also have a measure of how uncertain this estimate is, based on bootrapping. \n",
    "\n",
    "# End of assignment"
   ]
  }
 ],
 "metadata": {
  "kernelspec": {
   "display_name": "data-sci",
   "language": "python",
   "name": "python3"
  },
  "language_info": {
   "codemirror_mode": {
    "name": "ipython",
    "version": 3
   },
   "file_extension": ".py",
   "mimetype": "text/x-python",
   "name": "python",
   "nbconvert_exporter": "python",
   "pygments_lexer": "ipython3",
   "version": "3.13.1"
  }
 },
 "nbformat": 4,
 "nbformat_minor": 2
}
