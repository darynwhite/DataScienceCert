{
 "cells": [
  {
   "cell_type": "markdown",
   "metadata": {},
   "source": [
    "# Assignment\n",
    "\n",
    "We learned from the central limit theorem that the **mean** of a sample of size $n$ follows a normal distributon with center $\\mu$ and variance $\\sigma^2 / n$ where $\\mu$ and $\\sigma$ are the mean and variance of the population the sample was drawn from. And more importantly, the CTL holds **regardless of the distribution of the population** itelf as long as the sample size is large enough. So this leads to another question? What if we wanted to estimate the distribution of *some other statistic* besides the sample mean? For example, can we draw a similar conclusion about the distribution of the **sample median**? What about the distribution of the **sample variance**? Unfortunately, the CLT only applies to the sample mean, and finding the distribution of any other statistic is not that straight-forward. The CLT is like a mathematical guaratee, but we usually cannot make a similar guarantee with other statistics. So instead we can use computational methods to estimate the distribution of our statistic. One example of such computational method is **bootstrapping**.\n",
    "\n",
    "The sampling techniques we learned in the lecture mainly deal with the problem of how to create smaller data in a way that it is representative of the larger population, and all of them were a form of sampling **without replacement**. **Bootstrapping** consists of **repeated sampling from data with replacement** (which means the same row of data can end of more than once in the sampled data). Bootstrapping is useful technique when we want to estimate the distribution of a statistic that would otherwise be hard to estimate.\n",
    "\n",
    "Let's return to the bank marketing data from previous exercises:"
   ]
  },
  {
   "cell_type": "code",
   "execution_count": null,
   "metadata": {},
   "outputs": [],
   "source": [
    "import pandas as pd\n",
    "import numpy as np\n",
    "import plotly.express as pxp\n",
    "\n",
    "bank = pd.read_csv('../../data/bank-full.csv', delimiter = ';')\n",
    "bank.head()"
   ]
  },
  {
   "cell_type": "markdown",
   "metadata": {},
   "source": [
    "- Report the difference in the average balance for single vs married individuals in the data. <span style=\"color:red\" float:right>[1 point]</span>"
   ]
  },
  {
   "cell_type": "code",
   "execution_count": null,
   "metadata": {},
   "outputs": [],
   "source": [
    "balances = bank.groupby('marital')['balance'].mean()\n",
    "\n",
    "for x in balances.items():\n",
    "    print(f\"{x[0].capitalize()} has a mean balance of ${x[1]:0.2f}\")\n",
    "\n",
    "print(f\"\\twith a difference between Married - Single = ${balances['married'] - balances['single']:0.2f}\")"
   ]
  },
  {
   "cell_type": "markdown",
   "metadata": {},
   "source": [
    "Since balance is skewed to the right, maybe it's not such a good idea to compare averages for these two groups. So instead of the average, let's use the **median**.\n",
    "\n",
    "- Report the difference in the median balance for single vs married individuals in the data. How does this compare to using the mean? <span style=\"color:red\" float:right>[1 point]</span>"
   ]
  },
  {
   "cell_type": "code",
   "execution_count": null,
   "metadata": {},
   "outputs": [],
   "source": [
    "balances = bank.groupby('marital')['balance'].median()\n",
    "\n",
    "for x in balances.items():\n",
    "    print(f\"{x[0].capitalize()} has a median balance of ${x[1]:0.2f}\")\n",
    "\n",
    "print(f\"\\twith a difference between Married - Single = ${balances['married'] - balances['single']:0.2f}\")"
   ]
  },
  {
   "cell_type": "markdown",
   "metadata": {},
   "source": [
    "But what is the distribution of the above statistics?\n",
    "\n",
    "- In the case of the mean, we could rely on the CLT to answer that, assuming that we know the mean and variance of balance for single and married individuals **in the population** (our data is the sample).\n",
    "- In the case of the median, we cannot rely on the CLT, so we will use bootstrapping to estimate the distribution.\n",
    "\n",
    "1. Take a bootstrap sample from the data. You can use the `sample` method to do this. Recall that a bootstrap sample is a sample **with replacement**. Your bootstrap sample should have the same size (number of rows) as the data. <span style=\"color:red\" float:right>[5 point]</span>\n",
    "1. Find the difference between the median bank balances for single vs. married individuals in the bootstrap sample. We will refer to this as the **bootstrap estimate**. <span style=\"color:red\" float:right>[2 point]</span>\n",
    "1. Repeat steps 1 and 2 over 1000 iterations, and at the end of each iteration store the bootstrap estimate into a list we call `bootstrap_estimates`. <span style=\"color:red\" float:right>[2 point]</span>"
   ]
  },
  {
   "cell_type": "code",
   "execution_count": null,
   "metadata": {},
   "outputs": [],
   "source": [
    "bootstrap_estimates = []\n",
    "n_iters = 1000\n",
    "rand_state = lambda x: 1209 + x\n",
    "\n",
    "for n in range(n_iters):\n",
    "    bootstrapped = bank.sample(n=bank.shape[0],replace=True,random_state=rand_state(n))\n",
    "    samp_balances = bootstrapped.groupby('marital')['balance'].median()\n",
    "    bootstrap_estimates.append(samp_balances['married'] - samp_balances['single'])\n",
    "\n",
    "estimates = pd.DataFrame(bootstrap_estimates, columns=['difference'])"
   ]
  },
  {
   "cell_type": "markdown",
   "metadata": {},
   "source": [
    "- Display the distribution of the 1000 bootstrap estimates we found. Does the distribution of the difference in medians appear to be symmetric? <span style=\"color:red\" float:right>[2 point]</span>"
   ]
  },
  {
   "cell_type": "code",
   "execution_count": null,
   "metadata": {},
   "outputs": [],
   "source": [
    "fig = pxp.histogram(\n",
    "    estimates,\n",
    "    x='difference',\n",
    "    histnorm='percent',\n",
    "    height=700,\n",
    "    labels={'difference':'Median Difference Estimate (Married - Single)'},\n",
    "    title=\"Distribution of balance differences between Married and Single accounts\"\n",
    "    )\n",
    "fig.update_traces(marker=dict(line_width=0.25, line_color=\"black\"))\n",
    "fig.show()"
   ]
  },
  {
   "cell_type": "markdown",
   "metadata": {},
   "source": [
    "- What is its standard deviations? <span style=\"color:red\" float:right>[1 point]</span>"
   ]
  },
  {
   "cell_type": "code",
   "execution_count": null,
   "metadata": {},
   "outputs": [],
   "source": [
    "print(f\"The standard deviation of the estimates is ${estimates.std().values[0]:0.2f}\")"
   ]
  },
  {
   "cell_type": "markdown",
   "metadata": {},
   "source": [
    "So we now have not only the difference in median balance between the two groups, but we also have a measure of how uncertain this estimate is, based on bootrapping. \n",
    "\n",
    "# End of assignment"
   ]
  }
 ],
 "metadata": {
  "kernelspec": {
   "display_name": "data-sci",
   "language": "python",
   "name": "python3"
  },
  "language_info": {
   "codemirror_mode": {
    "name": "ipython",
    "version": 3
   },
   "file_extension": ".py",
   "mimetype": "text/x-python",
   "name": "python",
   "nbconvert_exporter": "python",
   "pygments_lexer": "ipython3",
   "version": "3.13.1"
  }
 },
 "nbformat": 4,
 "nbformat_minor": 2
}
