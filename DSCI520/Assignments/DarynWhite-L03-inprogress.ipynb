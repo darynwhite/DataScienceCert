{
 "cells": [
  {
   "cell_type": "markdown",
   "metadata": {},
   "source": [
    "# Assignment\n",
    "\n",
    "The Monty Hall problem we learned in class shows the importance of working out the math correctly and not letting \"intuition\" lead us down the wrong path when dealing with probabilities. Make sure to review it again because it will help with this assignment too. In this assignment, we learn about another such example. At first blush, the answer may seem obvious, but your job is to show the right answer using the rules of probability we learned in the lecture.\n",
    "\n",
    "Here are two similar-sounding questions with a subtle difference between them. As you will see, the subtle difference enough to make the problems and their solutions challenging and interesting:\n",
    "\n",
    "1. In families with 2 daughters, what's the probability that at least one daughter is born on a Thursday? <span style=\"color:red\" float:right>[10 point]</span>"
   ]
  },
  {
   "cell_type": "markdown",
   "metadata": {},
   "source": [
    "Answer: "
   ]
  },
  {
   "cell_type": "markdown",
   "metadata": {},
   "source": [
    "2. In families with 2 daughters, what's the probability that at least one daughter is named Leila? Let's assume that Leila is one of the seven possible names for a girl, that each girl name is equally likely to be selected by the family if allowed, and that two girls from the same family can't have the same name. <span style=\"color:red\" float:right>[15 point]</span>"
   ]
  },
  {
   "cell_type": "markdown",
   "metadata": {},
   "source": [
    "Answer:"
   ]
  },
  {
   "cell_type": "markdown",
   "metadata": {},
   "source": [
    "The reason in (2) that we restrict the number of girl's names to 7 is so that we can compare the answer we get in (2) to the answer we get in (1). With this assumption, the two questions are very similar: 1 out of every 7 girls is born on a Thursday, and 1 out of every 7 girls is named Leila. The difference of course is that you can have two or more daughters born on a Thursday, but you can only name one of your daughters Leila. So this subtle distinction should play out in your solution. Note that you do not need to write code for this assignment. The solution can be worked out by hand."
   ]
  },
  {
   "cell_type": "markdown",
   "metadata": {},
   "source": [
    "Here are some other probability problems that have generated debates and helped us better understand the nature of probability and randomness:\n",
    "\n",
    "- [Boy and girl paradox](https://en.wikipedia.org/wiki/Boy_or_Girl_paradox)\n",
    "- [Bertrand paradox](https://en.wikipedia.org/wiki/Bertrand_paradox_(probability))\n",
    "- [The birthday problem](https://en.wikipedia.org/wiki/Birthday_problem)\n",
    "- [The two envelope problem](https://en.wikipedia.org/wiki/Two_envelopes_problem)\n",
    "- [St. Petersburg paradox](https://en.wikipedia.org/wiki/St._Petersburg_paradox) (a more complex example)\n",
    "\n",
    "# End of assignment"
   ]
  }
 ],
 "metadata": {
  "language_info": {
   "name": "python"
  }
 },
 "nbformat": 4,
 "nbformat_minor": 2
}
