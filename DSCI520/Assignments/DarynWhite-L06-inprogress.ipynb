{
 "cells": [
  {
   "cell_type": "markdown",
   "metadata": {},
   "source": [
    "# Assignment\n",
    "\n",
    "In this assignment, we want to reinforce the concepts we covered in the lecture. Let's first load the required libraries."
   ]
  },
  {
   "cell_type": "code",
   "execution_count": 1,
   "metadata": {},
   "outputs": [],
   "source": [
    "import numpy as np\n",
    "import pandas as pd\n",
    "import seaborn as sns\n",
    "sns.set(rc = {'figure.figsize': (10, 8)})\n",
    "import matplotlib.pyplot as plt\n",
    "\n",
    "import scipy\n",
    "import scipy.stats as ss\n",
    "import numpy.random as nr\n",
    "import statsmodels\n",
    "import statsmodels.stats as st\n",
    "import statsmodels.api as sm\n",
    "import statsmodels.stats.power as sp\n",
    "import statsmodels.stats.weightstats as ws\n",
    "from statsmodels.stats.multicomp import pairwise_tukeyhsd\n",
    "from statsmodels.formula.api import ols"
   ]
  },
  {
   "cell_type": "markdown",
   "metadata": {},
   "source": [
    "We will be using the automobile mileage data for this assignment."
   ]
  },
  {
   "cell_type": "code",
   "execution_count": 2,
   "metadata": {},
   "outputs": [
    {
     "name": "stderr",
     "output_type": "stream",
     "text": [
      "/var/folders/72/0bcyzdyx7h3cvbp3wdsv12gh0000gn/T/ipykernel_14459/1979247492.py:10: FutureWarning: A value is trying to be set on a copy of a DataFrame or Series through chained assignment using an inplace method.\n",
      "The behavior will change in pandas 3.0. This inplace method will never work because the intermediate object on which we are setting values always behaves as a copy.\n",
      "\n",
      "For example, when doing 'df[col].method(value, inplace=True)', try using 'df.method({col: value}, inplace=True)' or df[col] = df[col].method(value) instead, to perform the operation inplace on the original object.\n",
      "\n",
      "\n",
      "  df['fuel'].replace({'X': 'regular_gas',\n",
      "/var/folders/72/0bcyzdyx7h3cvbp3wdsv12gh0000gn/T/ipykernel_14459/1979247492.py:14: FutureWarning: A value is trying to be set on a copy of a DataFrame or Series through chained assignment using an inplace method.\n",
      "The behavior will change in pandas 3.0. This inplace method will never work because the intermediate object on which we are setting values always behaves as a copy.\n",
      "\n",
      "For example, when doing 'df[col].method(value, inplace=True)', try using 'df.method({col: value}, inplace=True)' or df[col] = df[col].method(value) instead, to perform the operation inplace on the original object.\n",
      "\n",
      "\n",
      "  df['transmission'].replace({'A': 'automatic',\n"
     ]
    },
    {
     "data": {
      "text/html": [
       "<div>\n",
       "<style scoped>\n",
       "    .dataframe tbody tr th:only-of-type {\n",
       "        vertical-align: middle;\n",
       "    }\n",
       "\n",
       "    .dataframe tbody tr th {\n",
       "        vertical-align: top;\n",
       "    }\n",
       "\n",
       "    .dataframe thead th {\n",
       "        text-align: right;\n",
       "    }\n",
       "</style>\n",
       "<table border=\"1\" class=\"dataframe\">\n",
       "  <thead>\n",
       "    <tr style=\"text-align: right;\">\n",
       "      <th></th>\n",
       "      <th>make</th>\n",
       "      <th>short_model_name</th>\n",
       "      <th>overall_length_cm</th>\n",
       "      <th>overall_width_cm</th>\n",
       "      <th>overall_height_cm</th>\n",
       "      <th>wheelbase_cm</th>\n",
       "      <th>curb_weight_kg</th>\n",
       "      <th>weight_distribution_pct_front</th>\n",
       "      <th>vehicle_class</th>\n",
       "      <th>engine_size_l</th>\n",
       "      <th>cylinders</th>\n",
       "      <th>transmission</th>\n",
       "      <th>fuel</th>\n",
       "      <th>fuel_consumption_mpg</th>\n",
       "      <th>smog</th>\n",
       "      <th>full_model_name</th>\n",
       "      <th>gears</th>\n",
       "    </tr>\n",
       "  </thead>\n",
       "  <tbody>\n",
       "    <tr>\n",
       "      <th>0</th>\n",
       "      <td>acura</td>\n",
       "      <td>ilx</td>\n",
       "      <td>462.0</td>\n",
       "      <td>180.0</td>\n",
       "      <td>141.0</td>\n",
       "      <td>267.0</td>\n",
       "      <td>1415.0</td>\n",
       "      <td>60.0</td>\n",
       "      <td>Compact</td>\n",
       "      <td>2.4</td>\n",
       "      <td>4</td>\n",
       "      <td>automated_manual</td>\n",
       "      <td>premium_gas</td>\n",
       "      <td>33</td>\n",
       "      <td>3</td>\n",
       "      <td>ILX 4DR SEDAN</td>\n",
       "      <td>8</td>\n",
       "    </tr>\n",
       "    <tr>\n",
       "      <th>1</th>\n",
       "      <td>acura</td>\n",
       "      <td>mdx</td>\n",
       "      <td>504.0</td>\n",
       "      <td>200.0</td>\n",
       "      <td>170.0</td>\n",
       "      <td>289.0</td>\n",
       "      <td>2044.0</td>\n",
       "      <td>60.0</td>\n",
       "      <td>SUV: Small</td>\n",
       "      <td>3.5</td>\n",
       "      <td>6</td>\n",
       "      <td>automatic_select_shift</td>\n",
       "      <td>premium_gas</td>\n",
       "      <td>25</td>\n",
       "      <td>5</td>\n",
       "      <td>MDX 4DR SUV AWD</td>\n",
       "      <td>10</td>\n",
       "    </tr>\n",
       "    <tr>\n",
       "      <th>2</th>\n",
       "      <td>acura</td>\n",
       "      <td>rdx</td>\n",
       "      <td>474.0</td>\n",
       "      <td>190.0</td>\n",
       "      <td>167.0</td>\n",
       "      <td>275.0</td>\n",
       "      <td>1830.0</td>\n",
       "      <td>57.0</td>\n",
       "      <td>SUV: Small</td>\n",
       "      <td>2.0</td>\n",
       "      <td>4</td>\n",
       "      <td>automatic_select_shift</td>\n",
       "      <td>premium_gas</td>\n",
       "      <td>29</td>\n",
       "      <td>6</td>\n",
       "      <td>RDX 4DR SUV</td>\n",
       "      <td>10</td>\n",
       "    </tr>\n",
       "    <tr>\n",
       "      <th>3</th>\n",
       "      <td>acura</td>\n",
       "      <td>tlx</td>\n",
       "      <td>494.0</td>\n",
       "      <td>191.0</td>\n",
       "      <td>143.0</td>\n",
       "      <td>287.0</td>\n",
       "      <td>1781.0</td>\n",
       "      <td>57.0</td>\n",
       "      <td>Compact</td>\n",
       "      <td>2.0</td>\n",
       "      <td>4</td>\n",
       "      <td>automatic_select_shift</td>\n",
       "      <td>premium_gas</td>\n",
       "      <td>29</td>\n",
       "      <td>7</td>\n",
       "      <td>TLX 4DR SEDAN AWD</td>\n",
       "      <td>10</td>\n",
       "    </tr>\n",
       "    <tr>\n",
       "      <th>4</th>\n",
       "      <td>alfa romeo</td>\n",
       "      <td>stelvio</td>\n",
       "      <td>469.0</td>\n",
       "      <td>190.0</td>\n",
       "      <td>165.0</td>\n",
       "      <td>282.0</td>\n",
       "      <td>1660.0</td>\n",
       "      <td>52.0</td>\n",
       "      <td>SUV: Small</td>\n",
       "      <td>2.0</td>\n",
       "      <td>4</td>\n",
       "      <td>automatic</td>\n",
       "      <td>premium_gas</td>\n",
       "      <td>30</td>\n",
       "      <td>3</td>\n",
       "      <td>STELVIO BASE/Ti</td>\n",
       "      <td>8</td>\n",
       "    </tr>\n",
       "  </tbody>\n",
       "</table>\n",
       "</div>"
      ],
      "text/plain": [
       "         make short_model_name  overall_length_cm  overall_width_cm  \\\n",
       "0       acura              ilx              462.0             180.0   \n",
       "1       acura              mdx              504.0             200.0   \n",
       "2       acura              rdx              474.0             190.0   \n",
       "3       acura              tlx              494.0             191.0   \n",
       "4  alfa romeo          stelvio              469.0             190.0   \n",
       "\n",
       "   overall_height_cm  wheelbase_cm  curb_weight_kg  \\\n",
       "0              141.0         267.0          1415.0   \n",
       "1              170.0         289.0          2044.0   \n",
       "2              167.0         275.0          1830.0   \n",
       "3              143.0         287.0          1781.0   \n",
       "4              165.0         282.0          1660.0   \n",
       "\n",
       "   weight_distribution_pct_front vehicle_class  engine_size_l  cylinders  \\\n",
       "0                           60.0       Compact            2.4          4   \n",
       "1                           60.0    SUV: Small            3.5          6   \n",
       "2                           57.0    SUV: Small            2.0          4   \n",
       "3                           57.0       Compact            2.0          4   \n",
       "4                           52.0    SUV: Small            2.0          4   \n",
       "\n",
       "             transmission         fuel  fuel_consumption_mpg  smog  \\\n",
       "0        automated_manual  premium_gas                    33     3   \n",
       "1  automatic_select_shift  premium_gas                    25     5   \n",
       "2  automatic_select_shift  premium_gas                    29     6   \n",
       "3  automatic_select_shift  premium_gas                    29     7   \n",
       "4               automatic  premium_gas                    30     3   \n",
       "\n",
       "     full_model_name  gears  \n",
       "0      ILX 4DR SEDAN      8  \n",
       "1    MDX 4DR SUV AWD     10  \n",
       "2        RDX 4DR SUV     10  \n",
       "3  TLX 4DR SEDAN AWD     10  \n",
       "4    STELVIO BASE/Ti      8  "
      ]
     },
     "execution_count": 2,
     "metadata": {},
     "output_type": "execute_result"
    }
   ],
   "source": [
    "def read_auto_data(file = \"../../data/canadian_cars_2022.csv\"):\n",
    "    'Function to load the auto data set from a .csv file' \n",
    "\n",
    "    ## Read the .csv file with the pandas read_csv method\n",
    "    df = pd.read_csv(file)\n",
    "    \n",
    "    ## Split the number of gears from the type of transmission, decode fuel\n",
    "    df['gears'] = df['transmission'].str.extract(r'([0-9]+)').astype('Int64')\n",
    "    df['gears'] = df['gears'].fillna(1) # \"gearless\" continuously_variable vehicles\n",
    "    df['fuel'].replace({'X': 'regular_gas', \n",
    "                             'Z': 'premium_gas', \n",
    "                             'D': 'diesel'}, inplace = True)\n",
    "    df['transmission'] = df['transmission'].str.extract(r'([A-Z]+)')\n",
    "    df['transmission'].replace({'A': 'automatic', \n",
    "                             'AM': 'automated_manual', \n",
    "                             'AS': 'automatic_select_shift', \n",
    "                             'AV': 'continuously_variable', \n",
    "                             'M': 'manual'}, inplace = True)\n",
    "    \n",
    "    ## Remove rows with missing values\n",
    "    df = df.dropna(axis = 0).reset_index(drop= True)\n",
    "    return df\n",
    "\n",
    "\n",
    "auto_df = read_auto_data()\n",
    "auto_df.head()"
   ]
  },
  {
   "cell_type": "markdown",
   "metadata": {},
   "source": [
    "Run the following tests on the data:\n",
    "\n",
    "1. Test whether `fuel_consumption_mpg` and log `fuel_consumption_mpg` (using `np.log10`) follow a normal distribution. Use both a **graphical** method and a **formal** test. For the rest of this exercise, choose between using mpg or log mpg based on which of the two best fits a normal distribution. <span style=\"color:red\" float:right>[5 point]</span>"
   ]
  },
  {
   "cell_type": "code",
   "execution_count": null,
   "metadata": {},
   "outputs": [],
   "source": [
    "## your code goes here"
   ]
  },
  {
   "cell_type": "markdown",
   "metadata": {},
   "source": [
    "We can see from the QQ plots that the data appears to be right-tailed, with a few cars having very high mileage. Using a log transformation reduces the skew, but it also pushes the lowest mileages off the normal distribution curve as well."
   ]
  },
  {
   "cell_type": "markdown",
   "metadata": {},
   "source": [
    "2. Test if the fuel consumption is significantly different for the following populations of vehicles\n",
    "- \"Big 3\" North American brands ('buick', 'cadillac', 'chevrolet', 'chrysler', 'dodge', 'ford',  'gmc', 'jeep', 'lincoln') compared with brands that began in other countries\n",
    "- Vehicles with 1 gear vs many gears\n",
    "- Vehicle with greater than median height vs less than or equal the median height\n",
    "You are running separate tests for each variable. Use both graphical methods and the formal test. <span style=\"color:red\" float:right>[5 point]</span>"
   ]
  },
  {
   "cell_type": "code",
   "execution_count": null,
   "metadata": {},
   "outputs": [],
   "source": [
    "## your code goes here"
   ]
  },
  {
   "cell_type": "markdown",
   "metadata": {},
   "source": [
    "3. Apply ANOVA and Tukey's HSD test to the miles per gallon to compare the fuel economy of autos for different vehicle classes. Restrict the analysis to just the `vehicle_class` categories having 10 or more cars in the data. Note that ANOVA and Tukey's HSD are **two separate tests**! <span style=\"color:red\" float:right>[5 point]</span>"
   ]
  },
  {
   "cell_type": "markdown",
   "metadata": {},
   "source": [
    "ANOVA tests whether there are any significant differences between any of the categories: $H_0: $ are categories have the same mean mpg, and $H_1: $ at least one category has a different mean mpg. If the p-value for ANOVA is significant, then we can perform a Tukey's HSD test to see which categories are significantly different from each other."
   ]
  },
  {
   "cell_type": "code",
   "execution_count": null,
   "metadata": {},
   "outputs": [],
   "source": [
    "## your code goes here"
   ]
  },
  {
   "cell_type": "markdown",
   "metadata": {},
   "source": [
    "4. Graphically explore the differences in mileage of the cars with different body styles. If any of these relationships are statistically significant (as suggested by Tukey's HSD), examine the sample size and decide if they should be considered practically significant. <span style=\"color:red\" float:right>[5 point]</span>"
   ]
  },
  {
   "cell_type": "code",
   "execution_count": null,
   "metadata": {},
   "outputs": [],
   "source": [
    "## your code goes here"
   ]
  },
  {
   "cell_type": "markdown",
   "metadata": {},
   "source": [
    "   \n",
    "Note that to get full grade, for graphical tests you should include commentary on what your plot is showing. For formal tests should include the following:\n",
    "- begin by naming the test you are using\n",
    "- begin by clearly stating the null and alternative hypotheses\n",
    "- run the test and report the statistic and p-value\n",
    "- based on the p-value you should state the conclusion\n",
    "\n",
    "# End of assignment"
   ]
  }
 ],
 "metadata": {
  "kernelspec": {
   "display_name": "data-sci",
   "language": "python",
   "name": "python3"
  },
  "language_info": {
   "codemirror_mode": {
    "name": "ipython",
    "version": 3
   },
   "file_extension": ".py",
   "mimetype": "text/x-python",
   "name": "python",
   "nbconvert_exporter": "python",
   "pygments_lexer": "ipython3",
   "version": "3.13.1"
  }
 },
 "nbformat": 4,
 "nbformat_minor": 2
}
