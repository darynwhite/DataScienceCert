{
 "cells": [
  {
   "cell_type": "markdown",
   "metadata": {},
   "source": [
    "# Assignment\n",
    "\n",
    "How can we use Bayesian models to compare two distributions? It turns out that we can compare Bayesian models in several ways. In this assignment, we will compute and compare credible intervals of the posterior distribution of a model parameter.\n",
    "\n",
    "Before we begin, let's load the libraries and functions we need."
   ]
  },
  {
   "cell_type": "code",
   "execution_count": null,
   "metadata": {},
   "outputs": [],
   "source": [
    "import pandas as pd\n",
    "import numpy as np\n",
    "import matplotlib\n",
    "from matplotlib import pyplot as plt\n",
    "import seaborn as sns\n",
    "import scipy\n",
    "import itertools"
   ]
  },
  {
   "cell_type": "code",
   "execution_count": null,
   "metadata": {},
   "outputs": [],
   "source": [
    "def posterior(prior, like):\n",
    "    post = prior * like # compute the product of the probabilities\n",
    "    return post / post.sum() # normalize the distribution to sum to unity\n",
    "\n",
    "num_samples = 100000\n",
    "lower_q, upper_q = [.025, .975]\n",
    "\n",
    "def plot_ci(p, post, num_samples, lower_q, upper_q, **kw):\n",
    "    ## This function computes a credible interval using an assumption\n",
    "    ## of symetry in the bulk of the distribution to keep the \n",
    "    ## calculation simple. \n",
    "    ## Compute a large sample by resampling with replacement\n",
    "    samples = np.random.choice(p, size = num_samples, replace = True, p = post)\n",
    "    ci = np.percentile(samples, [lower_q*100, upper_q*100]) # compute the quantiles\n",
    "    \n",
    "    interval = upper_q - lower_q\n",
    "    plt.title('Posterior density with %.3f credible interval' % interval)\n",
    "    sns.lineplot(p, post, color = 'blue', **kw)\n",
    "    plt.xlabel('Parameter value')\n",
    "    plt.ylabel('Density')\n",
    "    plt.axvline(x = ci[0], color = 'red')\n",
    "    plt.axvline(x = ci[1], color = 'red')\n",
    "    print('The {:0.3f} credible interval is {:0.3f} to {:0.3f}'.format(interval, lower_q, upper_q))\n"
   ]
  },
  {
   "cell_type": "markdown",
   "metadata": {},
   "source": [
    "For this example, we will compare the posterior distribution of the heights of sons to the heights of the mothers in the Galton family dataset. As a first step, we will compute and evaluate Bayesian models for the mean heights using a subset of just 25 observations. "
   ]
  },
  {
   "cell_type": "code",
   "execution_count": null,
   "metadata": {},
   "outputs": [],
   "source": [
    "families = pd.read_csv('../data/GaltonFamilies.csv', index_col = 0)\n",
    "families.head()"
   ]
  },
  {
   "cell_type": "markdown",
   "metadata": {},
   "source": [
    "- Plot the distributions of the height of mothers and sons for a sample of size 25. Do the distributions appear to be significantly different? <span style=\"color:red\" float:right>[5 point]</span>"
   ]
  },
  {
   "cell_type": "code",
   "execution_count": null,
   "metadata": {},
   "outputs": [],
   "source": [
    "num_samples = 25\n",
    "## your code goes here"
   ]
  },
  {
   "cell_type": "markdown",
   "metadata": {},
   "source": [
    "To perform this analysis, we need to select a prior distribution, which is easy, and to compute the likelihood, which is not as easy. So first, let's see how we can get the likelihood.\n",
    "\n",
    "For this data, we will use a normal likelihood. For something like heights, using the normal distribution makes sense. For any individual sample $X$ if it follows the normal distribution with mean $\\mu$ and standard deviation $\\sigma$, then it probability density function is given by\n",
    "\n",
    "$$X \\sim N(\\mu, \\sigma) \\Rightarrow P(X | \\mu, \\sigma) = \\frac{1}{\\sqrt{2 \\pi \\sigma^2}} \\exp \\Bigg[ -\\frac{1}{2}\\big(\\frac{X - \\mu}{\\sigma}\\big)^2\\Bigg]$$\n",
    "\n",
    "For a sample ${X_1, X_2, \\cdots, X_n}$ of $n$ independent normally distributed observations has the following likelihood:\n",
    "\n",
    "$$P(X_1, X_2, \\cdots, X_n | \\mu, \\sigma) = \\prod_{i = 1}^n P(X_i | \\mu, \\sigma) = \\prod_{i=1}^n \\frac{1}{\\sqrt{2 \\pi \\sigma^2}} \\exp \\Bigg[ -\\frac{1}{2}\\big(\\frac{X_i - \\mu}{\\sigma}\\big)^2\\Bigg]$$\n",
    "\n",
    "Notice that we multiply the individual the probabilities to get the likelihood. We can do this because we assume that the data points are independent. This seems like a relatively safe assumption. \n",
    "\n",
    "Now let's simplify the above equation. We can simplify things by ignoring the terms outside the exponential, since they don't depend on the sample, and replacing $=$ (is equal to) with $\\propto$ (is proportional to):\n",
    "\n",
    "$$P(X_1, X_2, \\cdots, X_n | \\mu, \\sigma) \\propto \\prod_{i = 1}^n \\exp \\Bigg[ -\\frac{1}{2}\\big(\\frac{X_i - \\mu}{\\sigma}\\big)^2\\Bigg]$$\n",
    "\n",
    "Moreover, we can rely on the property $e^a e^b = e^{a + b}$ to rewrite the right-hand side as\n",
    "\n",
    "$$P(X_1, X_2, \\cdots, X_n | \\mu, \\sigma) \\propto \\exp \\Bigg[ -\\frac{1}{2} \\sum_{i = 1}^n \\big(\\frac{X_i - \\mu}{\\sigma}\\big)^2\\Bigg]$$\n",
    "\n",
    "Finally, letting $\\bar X = \\frac{1}{n}\\sum_{i=1}^n X_i$ we can rewrite $X_i - \\mu$ as $X_i - \\bar X + \\bar X - \\mu$ and after some rearranging we get this:\n",
    "\n",
    "$$P(X_1, X_2, \\cdots, X_n | \\mu, \\sigma) \\propto \\exp \\Bigg[ -\\frac{1}{2 \\sigma^2}  \\Bigg( \\sum_{i = 1}^n (X_i - \\bar{X})^2 + n(\\bar{X} - \\mu)^2 \\Bigg) \\Bigg]$$\n",
    "\n",
    "To simplify the computations here, we will only estimate the posterior distribution of $\\mu$. We will use a fixed empirical estimate of the standard deviation. A more complete analysis will also estimate the posterior distribution of $\\sigma$."
   ]
  },
  {
   "cell_type": "markdown",
   "metadata": {},
   "source": [
    "- Now your task is to write a function called `likelihood` that computes the likelihood as given by the above equation. The input of the function is `mu` (the parameter) and `x` (the data) and its output is the likelihood of the data given the parameter. You may find it helpful to use `np.exp` and `np.sum`. <span style=\"color:red\" float:right>[10 point]</span>"
   ]
  },
  {
   "cell_type": "code",
   "execution_count": null,
   "metadata": {},
   "outputs": [],
   "source": [
    "def likelihood(mu, x): \n",
    "    ## your code goes here"
   ]
  },
  {
   "cell_type": "markdown",
   "metadata": {},
   "source": [
    "Now for the prior distribution, we will use a normal distribution centered at 70 with standard deviation 1. The code for the prior is already written. Examine it and make sure you understand each step."
   ]
  },
  {
   "cell_type": "code",
   "execution_count": null,
   "metadata": {},
   "outputs": [],
   "source": [
    "N = 1000\n",
    "mu = np.linspace(60, 80, num = N)\n",
    "prior_center = 70\n",
    "prior = scipy.stats.norm.pdf(mu, loc = prior_center, scale = 1)\n",
    "prior = prior / prior.sum() # normalize"
   ]
  },
  {
   "cell_type": "markdown",
   "metadata": {},
   "source": [
    "Now we're ready to compute the posterior for both mother and son.\n",
    "\n",
    "- Compute the posterior distribution for the sons (the column name is `childHeight`). You will need to compute the likelihood first. Then plot the prior, posterior and likelihood just like we did in class. <span style=\"color:red\" float:right>[10 point]</span>"
   ]
  },
  {
   "cell_type": "code",
   "execution_count": null,
   "metadata": {},
   "outputs": [],
   "source": [
    "## your code goes here"
   ]
  },
  {
   "cell_type": "markdown",
   "metadata": {},
   "source": [
    "- Compute the posterior distribution for mothers (the column name is `mother`). You will need to compute the likelihood first. Sons and mothers both use the same proir. Then plot the prior, posterior and likelihood just like we did in class. <span style=\"color:red\" float:right>[5 point]</span>"
   ]
  },
  {
   "cell_type": "code",
   "execution_count": null,
   "metadata": {},
   "outputs": [],
   "source": [
    "## your code goes here"
   ]
  },
  {
   "cell_type": "markdown",
   "metadata": {},
   "source": [
    "To compare the posterior distributions of the mean heights of the sons to the distribution of the mean heights of the mothers, we compute and compare the confidence intervals. \n",
    "\n",
    "- Use the `plot_ci` function to plot credible intervals for mother and son heights. You can call the function twice in the same cell and the two distributions will be plotted next to each other in one plot. What conclusion do you draw about the heights of mothers versus sons? <span style=\"color:red\" float:right>[10 point]</span>"
   ]
  },
  {
   "cell_type": "code",
   "execution_count": null,
   "metadata": {},
   "outputs": [],
   "source": [
    "num_samples = 100000\n",
    "\n",
    "## your code goes here"
   ]
  },
  {
   "cell_type": "markdown",
   "metadata": {},
   "source": [
    "Since the CIs don't even overlap, it can follow that the sons were significantly taller than their mothers.\n",
    "\n",
    "# End of assignment"
   ]
  }
 ],
 "metadata": {
  "language_info": {
   "name": "python"
  }
 },
 "nbformat": 4,
 "nbformat_minor": 2
}
