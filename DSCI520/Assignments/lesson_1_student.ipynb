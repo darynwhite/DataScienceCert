{
 "cells": [
  {
   "cell_type": "markdown",
   "metadata": {},
   "source": [
    "# Data exploration\n",
    "\n",
    "The key concept of exploratory data analysis (EDA) or visual exploration of data is to understand the relationships in the data set. Specifically, by using visualization when you approach a new data set you can:\n",
    "\n",
    "- Explore complex data sets, using visualization to develop understanding of the inherent relationships\n",
    "- Use different chart types to create multiple views of data to highlight different aspects of the inherent relationships\n",
    "- Use plot aesthetics to project multiple dimensions \n",
    "- Apply conditioning or faceting methods to project multiple dimensions"
   ]
  },
  {
   "cell_type": "markdown",
   "metadata": {
    "nbgrader": {
     "grade": false,
     "locked": true,
     "solution": false
    }
   },
   "source": [
    "This notebook contains an introduction to the methods data scientists use to prepare and explore a data set. Data scientists spend a lot of time manipulating data to clean and prepare it (**data munging**) and to understand the relationships within the variables in the data (**data exploration**). Visualization is a key skill for any data scientist performing these tasks. \n",
    "\n",
    "Before performing any type of inference or machine learning on a data set, you should develop an understanding of the relationships in the data set. Skipping this step can lead to wasted time from unexpected problems when building models, or in constructing models with poor performance. When starting any data science project, it is a good idea to plan on spending considerable time exploring the data. These exploration steps are often performed in conjunction with data cleaning and preparing, as visualization often highlights problems with data."
   ]
  },
  {
   "cell_type": "code",
   "execution_count": 1,
   "metadata": {},
   "outputs": [],
   "source": [
    "# import sys\n",
    "# !{sys.executable} -m pip install statsmodels==0.13.2\n",
    "# !{sys.executable} -m pip install mlxtend==0.21.0\n",
    "# !{sys.executable} -m pip install graphviz==0.20.1"
   ]
  },
  {
   "cell_type": "code",
   "execution_count": 2,
   "metadata": {
    "tags": []
   },
   "outputs": [],
   "source": [
    "from matplotlib import pyplot as plt\n",
    "import pandas as pd\n",
    "import numpy as np\n",
    "import seaborn as sns\n",
    "import itertools\n",
    "\n",
    "sns.set(rc = {'figure.figsize': (10, 8)})"
   ]
  },
  {
   "cell_type": "markdown",
   "metadata": {},
   "source": [
    "### About the data set\n",
    "\n",
    "This data set is from the [Canadian Open Government website](https://open.canada.ca/data/en/dataset/98f1a129-f628-4ce4-b24d-6f16bf24dd64/resource/87fc1b5e-fafc-4d44-ac52-66656fc2a245#additional-info)  and the [Canadian Association of Road Safety Professionals](https://www.carsp.ca/research/resources/canadian-vehicle-specifications/).\n",
    "\n",
    "##### Columns\n",
    "- **make** - vehicle make\n",
    "- **short_model_name** - short model name\n",
    "- **overall_length_cm, overall_width_cm , overall_height_cm, wheelbase_cm** - dimensions of vehicle in cm\n",
    "- **curb_weight_kg** - weight of vehicle\n",
    "- **weight_distribution_pct_front** -percent of the vehicle weight supported by the front axle\n",
    "- **vehicle_class** - type of vehicle\n",
    "- **engine_size_l** - engine size in liters\n",
    "- **cylinders** number of engine cylinders\n",
    "- **transmission** - manual or various types of automatic transmission\n",
    "- **fuel** - regular gas, premium_gas or diesel\n",
    "- **fuel_consumption_mpg** - miles per gallon of fuel for combined ratings (55% city, 45% hwy)\n",
    "- **smog** - tailpipe emissions of smog-forming pollutants rated on a scale from 1 (worst) to 10 (best)\n",
    "- **full_model_name** - full vehicle description"
   ]
  },
  {
   "cell_type": "markdown",
   "metadata": {},
   "source": [
    "## Load and examine the data\n",
    "\n",
    "Let's get started. The function shown in the cell below loads the data from the .csv file. Some minimal clean up is performed on the data. Rows with missing values are dropped and some columns are converted from strings containing numbers to numeric data. The result is a Pandas data frame.\n",
    "\n",
    "Execute the code in this cell to load the data into your notebook. **Make sure the canadian_cars_2022.csv file path is correct from your working directory!**"
   ]
  },
  {
   "cell_type": "code",
   "execution_count": 3,
   "metadata": {
    "scrolled": true
   },
   "outputs": [
    {
     "name": "stderr",
     "output_type": "stream",
     "text": [
      "/var/folders/72/0bcyzdyx7h3cvbp3wdsv12gh0000gn/T/ipykernel_59437/3129372781.py:12: FutureWarning: A value is trying to be set on a copy of a DataFrame or Series through chained assignment using an inplace method.\n",
      "The behavior will change in pandas 3.0. This inplace method will never work because the intermediate object on which we are setting values always behaves as a copy.\n",
      "\n",
      "For example, when doing 'df[col].method(value, inplace=True)', try using 'df.method({col: value}, inplace=True)' or df[col] = df[col].method(value) instead, to perform the operation inplace on the original object.\n",
      "\n",
      "\n",
      "  df['fuel'].replace({'X': 'regular_gas',\n",
      "/var/folders/72/0bcyzdyx7h3cvbp3wdsv12gh0000gn/T/ipykernel_59437/3129372781.py:16: FutureWarning: A value is trying to be set on a copy of a DataFrame or Series through chained assignment using an inplace method.\n",
      "The behavior will change in pandas 3.0. This inplace method will never work because the intermediate object on which we are setting values always behaves as a copy.\n",
      "\n",
      "For example, when doing 'df[col].method(value, inplace=True)', try using 'df.method({col: value}, inplace=True)' or df[col] = df[col].method(value) instead, to perform the operation inplace on the original object.\n",
      "\n",
      "\n",
      "  df['transmission'].replace({'A': 'automatic',\n"
     ]
    }
   ],
   "source": [
    "def read_auto_data(file = \"../../data/canadian_cars_2022.csv\"):\n",
    "    'Function to load the auto data set from a .csv file' \n",
    "    import pandas as pd\n",
    "    import numpy as np\n",
    "\n",
    "    ## Read the .csv file with the pandas read_csv method\n",
    "    df = pd.read_csv(file)\n",
    "    \n",
    "    ## Split the number of gears from the type of transmission, decode fuel\n",
    "    df['gears'] = df['transmission'].str.extract(r'([0-9]+)').astype('Int64')\n",
    "    df['gears'] = df['gears'].fillna(1) # \"gearless\" continuously_variable vehicles\n",
    "    df['fuel'].replace({'X': 'regular_gas', \n",
    "                             'Z': 'premium_gas', \n",
    "                             'D': 'diesel'}, inplace = True)\n",
    "    df['transmission'] = df['transmission'].str.extract(r'([A-Z]+)')\n",
    "    df['transmission'].replace({'A': 'automatic', \n",
    "                             'AM': 'automated_manual', \n",
    "                             'AS': 'automatic_select_shift', \n",
    "                             'AV': 'continuously_variable', \n",
    "                             'M': 'manual'}, inplace = True)\n",
    "    \n",
    "    ## Remove rows with missing values\n",
    "    df = df.dropna(axis = 0).reset_index(drop= True)\n",
    "    return df\n",
    "\n",
    "\n",
    "auto_df = read_auto_data()"
   ]
  },
  {
   "cell_type": "markdown",
   "metadata": {},
   "source": [
    "Next, have a first look at the dimensions and data types of the column of the data frame."
   ]
  },
  {
   "cell_type": "code",
   "execution_count": 4,
   "metadata": {},
   "outputs": [
    {
     "name": "stdout",
     "output_type": "stream",
     "text": [
      "<class 'pandas.core.frame.DataFrame'>\n",
      "RangeIndex: 210 entries, 0 to 209\n",
      "Data columns (total 17 columns):\n",
      " #   Column                         Non-Null Count  Dtype  \n",
      "---  ------                         --------------  -----  \n",
      " 0   make                           210 non-null    object \n",
      " 1   short_model_name               210 non-null    object \n",
      " 2   overall_length_cm              210 non-null    float64\n",
      " 3   overall_width_cm               210 non-null    float64\n",
      " 4   overall_height_cm              210 non-null    float64\n",
      " 5   wheelbase_cm                   210 non-null    float64\n",
      " 6   curb_weight_kg                 210 non-null    float64\n",
      " 7   weight_distribution_pct_front  210 non-null    float64\n",
      " 8   vehicle_class                  210 non-null    object \n",
      " 9   engine_size_l                  210 non-null    float64\n",
      " 10  cylinders                      210 non-null    int64  \n",
      " 11  transmission                   210 non-null    object \n",
      " 12  fuel                           210 non-null    object \n",
      " 13  fuel_consumption_mpg           210 non-null    int64  \n",
      " 14  smog                           210 non-null    int64  \n",
      " 15  full_model_name                210 non-null    object \n",
      " 16  gears                          210 non-null    Int64  \n",
      "dtypes: Int64(1), float64(7), int64(3), object(6)\n",
      "memory usage: 28.2+ KB\n"
     ]
    }
   ],
   "source": [
    "auto_df.info()"
   ]
  },
  {
   "cell_type": "markdown",
   "metadata": {},
   "source": [
    "Some key things to notice here are:\n",
    "\n",
    "- There are 210 rows or cases in the data set.\n",
    "- The data set has 16 variables or columns.\n",
    "- Columns have a type of either `object` (character), `float64` (floating point number), or `int64` (integer). \n"
   ]
  },
  {
   "cell_type": "markdown",
   "metadata": {},
   "source": [
    "## Basic summary statistics\n",
    "\n",
    "You can also learn a lot about a data set by looking at statistical summaries. The Pandas `describe` method does just this. Execute the code in the cell below and note the result."
   ]
  },
  {
   "cell_type": "code",
   "execution_count": 5,
   "metadata": {},
   "outputs": [
    {
     "data": {
      "text/html": [
       "<div>\n",
       "<style scoped>\n",
       "    .dataframe tbody tr th:only-of-type {\n",
       "        vertical-align: middle;\n",
       "    }\n",
       "\n",
       "    .dataframe tbody tr th {\n",
       "        vertical-align: top;\n",
       "    }\n",
       "\n",
       "    .dataframe thead th {\n",
       "        text-align: right;\n",
       "    }\n",
       "</style>\n",
       "<table border=\"1\" class=\"dataframe\">\n",
       "  <thead>\n",
       "    <tr style=\"text-align: right;\">\n",
       "      <th></th>\n",
       "      <th>overall_length_cm</th>\n",
       "      <th>overall_width_cm</th>\n",
       "      <th>overall_height_cm</th>\n",
       "      <th>wheelbase_cm</th>\n",
       "      <th>curb_weight_kg</th>\n",
       "      <th>weight_distribution_pct_front</th>\n",
       "      <th>engine_size_l</th>\n",
       "      <th>cylinders</th>\n",
       "      <th>fuel_consumption_mpg</th>\n",
       "      <th>smog</th>\n",
       "      <th>gears</th>\n",
       "    </tr>\n",
       "  </thead>\n",
       "  <tbody>\n",
       "    <tr>\n",
       "      <th>count</th>\n",
       "      <td>210.00</td>\n",
       "      <td>210.00</td>\n",
       "      <td>210.00</td>\n",
       "      <td>210.00</td>\n",
       "      <td>210.00</td>\n",
       "      <td>210.00</td>\n",
       "      <td>210.00</td>\n",
       "      <td>210.00</td>\n",
       "      <td>210.00</td>\n",
       "      <td>210.00</td>\n",
       "      <td>210.00</td>\n",
       "    </tr>\n",
       "    <tr>\n",
       "      <th>mean</th>\n",
       "      <td>480.51</td>\n",
       "      <td>189.42</td>\n",
       "      <td>160.49</td>\n",
       "      <td>285.62</td>\n",
       "      <td>1817.78</td>\n",
       "      <td>55.46</td>\n",
       "      <td>2.65</td>\n",
       "      <td>4.99</td>\n",
       "      <td>29.69</td>\n",
       "      <td>5.17</td>\n",
       "      <td>7.34</td>\n",
       "    </tr>\n",
       "    <tr>\n",
       "      <th>std</th>\n",
       "      <td>37.69</td>\n",
       "      <td>8.55</td>\n",
       "      <td>18.49</td>\n",
       "      <td>23.82</td>\n",
       "      <td>360.08</td>\n",
       "      <td>4.11</td>\n",
       "      <td>1.06</td>\n",
       "      <td>1.61</td>\n",
       "      <td>7.07</td>\n",
       "      <td>1.55</td>\n",
       "      <td>2.26</td>\n",
       "    </tr>\n",
       "    <tr>\n",
       "      <th>min</th>\n",
       "      <td>364.00</td>\n",
       "      <td>160.00</td>\n",
       "      <td>114.00</td>\n",
       "      <td>231.00</td>\n",
       "      <td>940.00</td>\n",
       "      <td>38.00</td>\n",
       "      <td>1.20</td>\n",
       "      <td>3.00</td>\n",
       "      <td>13.00</td>\n",
       "      <td>1.00</td>\n",
       "      <td>1.00</td>\n",
       "    </tr>\n",
       "    <tr>\n",
       "      <th>25%</th>\n",
       "      <td>459.00</td>\n",
       "      <td>184.00</td>\n",
       "      <td>145.00</td>\n",
       "      <td>270.00</td>\n",
       "      <td>1571.00</td>\n",
       "      <td>53.00</td>\n",
       "      <td>2.00</td>\n",
       "      <td>4.00</td>\n",
       "      <td>26.00</td>\n",
       "      <td>5.00</td>\n",
       "      <td>7.00</td>\n",
       "    </tr>\n",
       "    <tr>\n",
       "      <th>50%</th>\n",
       "      <td>478.00</td>\n",
       "      <td>189.00</td>\n",
       "      <td>164.00</td>\n",
       "      <td>283.00</td>\n",
       "      <td>1802.00</td>\n",
       "      <td>56.00</td>\n",
       "      <td>2.30</td>\n",
       "      <td>4.00</td>\n",
       "      <td>29.00</td>\n",
       "      <td>5.00</td>\n",
       "      <td>8.00</td>\n",
       "    </tr>\n",
       "    <tr>\n",
       "      <th>75%</th>\n",
       "      <td>500.00</td>\n",
       "      <td>196.75</td>\n",
       "      <td>173.75</td>\n",
       "      <td>299.75</td>\n",
       "      <td>2028.75</td>\n",
       "      <td>58.75</td>\n",
       "      <td>3.00</td>\n",
       "      <td>6.00</td>\n",
       "      <td>33.00</td>\n",
       "      <td>7.00</td>\n",
       "      <td>8.00</td>\n",
       "    </tr>\n",
       "    <tr>\n",
       "      <th>max</th>\n",
       "      <td>613.00</td>\n",
       "      <td>206.00</td>\n",
       "      <td>200.00</td>\n",
       "      <td>398.00</td>\n",
       "      <td>2721.00</td>\n",
       "      <td>64.00</td>\n",
       "      <td>6.70</td>\n",
       "      <td>12.00</td>\n",
       "      <td>67.00</td>\n",
       "      <td>7.00</td>\n",
       "      <td>10.00</td>\n",
       "    </tr>\n",
       "  </tbody>\n",
       "</table>\n",
       "</div>"
      ],
      "text/plain": [
       "       overall_length_cm  overall_width_cm  overall_height_cm  wheelbase_cm  \\\n",
       "count             210.00            210.00             210.00        210.00   \n",
       "mean              480.51            189.42             160.49        285.62   \n",
       "std                37.69              8.55              18.49         23.82   \n",
       "min               364.00            160.00             114.00        231.00   \n",
       "25%               459.00            184.00             145.00        270.00   \n",
       "50%               478.00            189.00             164.00        283.00   \n",
       "75%               500.00            196.75             173.75        299.75   \n",
       "max               613.00            206.00             200.00        398.00   \n",
       "\n",
       "       curb_weight_kg  weight_distribution_pct_front  engine_size_l  \\\n",
       "count          210.00                         210.00         210.00   \n",
       "mean          1817.78                          55.46           2.65   \n",
       "std            360.08                           4.11           1.06   \n",
       "min            940.00                          38.00           1.20   \n",
       "25%           1571.00                          53.00           2.00   \n",
       "50%           1802.00                          56.00           2.30   \n",
       "75%           2028.75                          58.75           3.00   \n",
       "max           2721.00                          64.00           6.70   \n",
       "\n",
       "       cylinders  fuel_consumption_mpg   smog  gears  \n",
       "count     210.00                210.00 210.00 210.00  \n",
       "mean        4.99                 29.69   5.17   7.34  \n",
       "std         1.61                  7.07   1.55   2.26  \n",
       "min         3.00                 13.00   1.00   1.00  \n",
       "25%         4.00                 26.00   5.00   7.00  \n",
       "50%         4.00                 29.00   5.00   8.00  \n",
       "75%         6.00                 33.00   7.00   8.00  \n",
       "max        12.00                 67.00   7.00  10.00  "
      ]
     },
     "metadata": {},
     "output_type": "display_data"
    }
   ],
   "source": [
    "with pd.option_context('display.float_format', '{:0.2f}'.format):\n",
    "    display(auto_df.describe())"
   ]
  },
  {
   "cell_type": "markdown",
   "metadata": {},
   "source": [
    "Notice, that summary statistics are only provided for numeric columns. For these column this summary provides some useful information:\n",
    "\n",
    "- The minimum and maximum values of each variable are displayed.\n",
    "- The quantiles are shown; 25%, 50% (median), 75%. Note that, for several of these variables, the upper interquartile ranges (IQR) are different from the lower IQR, indicating the distributions are skewed. \n",
    "- The mean is displayed. Compare the mean and the median, noting that they can be quite different, like in the case of cylinders. This is a sign of a skewed distribution. \n",
    "- The standard deviation gives a measure of the dispersion of the values.\n",
    "\n",
    "We can also obtain relevant summary statistics for categorical columns using the `include = 'object'`, which limits the columns to those of type `object`."
   ]
  },
  {
   "cell_type": "code",
   "execution_count": 6,
   "metadata": {},
   "outputs": [
    {
     "data": {
      "text/html": [
       "<div>\n",
       "<style scoped>\n",
       "    .dataframe tbody tr th:only-of-type {\n",
       "        vertical-align: middle;\n",
       "    }\n",
       "\n",
       "    .dataframe tbody tr th {\n",
       "        vertical-align: top;\n",
       "    }\n",
       "\n",
       "    .dataframe thead th {\n",
       "        text-align: right;\n",
       "    }\n",
       "</style>\n",
       "<table border=\"1\" class=\"dataframe\">\n",
       "  <thead>\n",
       "    <tr style=\"text-align: right;\">\n",
       "      <th></th>\n",
       "      <th>make</th>\n",
       "      <th>short_model_name</th>\n",
       "      <th>vehicle_class</th>\n",
       "      <th>transmission</th>\n",
       "      <th>fuel</th>\n",
       "      <th>full_model_name</th>\n",
       "    </tr>\n",
       "  </thead>\n",
       "  <tbody>\n",
       "    <tr>\n",
       "      <th>count</th>\n",
       "      <td>210</td>\n",
       "      <td>210</td>\n",
       "      <td>210</td>\n",
       "      <td>210</td>\n",
       "      <td>210</td>\n",
       "      <td>210</td>\n",
       "    </tr>\n",
       "    <tr>\n",
       "      <th>unique</th>\n",
       "      <td>36</td>\n",
       "      <td>209</td>\n",
       "      <td>14</td>\n",
       "      <td>4</td>\n",
       "      <td>3</td>\n",
       "      <td>210</td>\n",
       "    </tr>\n",
       "    <tr>\n",
       "      <th>top</th>\n",
       "      <td>audi</td>\n",
       "      <td>grand</td>\n",
       "      <td>SUV: Small</td>\n",
       "      <td>automatic_select_shift</td>\n",
       "      <td>regular_gas</td>\n",
       "      <td>ILX 4DR SEDAN</td>\n",
       "    </tr>\n",
       "    <tr>\n",
       "      <th>freq</th>\n",
       "      <td>14</td>\n",
       "      <td>2</td>\n",
       "      <td>65</td>\n",
       "      <td>100</td>\n",
       "      <td>112</td>\n",
       "      <td>1</td>\n",
       "    </tr>\n",
       "  </tbody>\n",
       "</table>\n",
       "</div>"
      ],
      "text/plain": [
       "        make short_model_name vehicle_class            transmission  \\\n",
       "count    210              210           210                     210   \n",
       "unique    36              209            14                       4   \n",
       "top     audi            grand    SUV: Small  automatic_select_shift   \n",
       "freq      14                2            65                     100   \n",
       "\n",
       "               fuel full_model_name  \n",
       "count           210             210  \n",
       "unique            3             210  \n",
       "top     regular_gas   ILX 4DR SEDAN  \n",
       "freq            112               1  "
      ]
     },
     "execution_count": 6,
     "metadata": {},
     "output_type": "execute_result"
    }
   ],
   "source": [
    "auto_df.describe(include = 'object')"
   ]
  },
  {
   "cell_type": "markdown",
   "metadata": {},
   "source": [
    "Next, let's look at the first and last few lines of the data frame using the `head` and `tail` methods."
   ]
  },
  {
   "cell_type": "code",
   "execution_count": 7,
   "metadata": {},
   "outputs": [
    {
     "data": {
      "text/html": [
       "<div>\n",
       "<style scoped>\n",
       "    .dataframe tbody tr th:only-of-type {\n",
       "        vertical-align: middle;\n",
       "    }\n",
       "\n",
       "    .dataframe tbody tr th {\n",
       "        vertical-align: top;\n",
       "    }\n",
       "\n",
       "    .dataframe thead th {\n",
       "        text-align: right;\n",
       "    }\n",
       "</style>\n",
       "<table border=\"1\" class=\"dataframe\">\n",
       "  <thead>\n",
       "    <tr style=\"text-align: right;\">\n",
       "      <th></th>\n",
       "      <th>make</th>\n",
       "      <th>short_model_name</th>\n",
       "      <th>overall_length_cm</th>\n",
       "      <th>overall_width_cm</th>\n",
       "      <th>overall_height_cm</th>\n",
       "      <th>wheelbase_cm</th>\n",
       "      <th>curb_weight_kg</th>\n",
       "      <th>weight_distribution_pct_front</th>\n",
       "      <th>vehicle_class</th>\n",
       "      <th>engine_size_l</th>\n",
       "      <th>cylinders</th>\n",
       "      <th>transmission</th>\n",
       "      <th>fuel</th>\n",
       "      <th>fuel_consumption_mpg</th>\n",
       "      <th>smog</th>\n",
       "      <th>full_model_name</th>\n",
       "      <th>gears</th>\n",
       "    </tr>\n",
       "  </thead>\n",
       "  <tbody>\n",
       "    <tr>\n",
       "      <th>0</th>\n",
       "      <td>acura</td>\n",
       "      <td>ilx</td>\n",
       "      <td>462.0</td>\n",
       "      <td>180.0</td>\n",
       "      <td>141.0</td>\n",
       "      <td>267.0</td>\n",
       "      <td>1415.0</td>\n",
       "      <td>60.0</td>\n",
       "      <td>Compact</td>\n",
       "      <td>2.4</td>\n",
       "      <td>4</td>\n",
       "      <td>automated_manual</td>\n",
       "      <td>premium_gas</td>\n",
       "      <td>33</td>\n",
       "      <td>3</td>\n",
       "      <td>ILX 4DR SEDAN</td>\n",
       "      <td>8</td>\n",
       "    </tr>\n",
       "    <tr>\n",
       "      <th>1</th>\n",
       "      <td>acura</td>\n",
       "      <td>mdx</td>\n",
       "      <td>504.0</td>\n",
       "      <td>200.0</td>\n",
       "      <td>170.0</td>\n",
       "      <td>289.0</td>\n",
       "      <td>2044.0</td>\n",
       "      <td>60.0</td>\n",
       "      <td>SUV: Small</td>\n",
       "      <td>3.5</td>\n",
       "      <td>6</td>\n",
       "      <td>automatic_select_shift</td>\n",
       "      <td>premium_gas</td>\n",
       "      <td>25</td>\n",
       "      <td>5</td>\n",
       "      <td>MDX 4DR SUV AWD</td>\n",
       "      <td>10</td>\n",
       "    </tr>\n",
       "    <tr>\n",
       "      <th>2</th>\n",
       "      <td>acura</td>\n",
       "      <td>rdx</td>\n",
       "      <td>474.0</td>\n",
       "      <td>190.0</td>\n",
       "      <td>167.0</td>\n",
       "      <td>275.0</td>\n",
       "      <td>1830.0</td>\n",
       "      <td>57.0</td>\n",
       "      <td>SUV: Small</td>\n",
       "      <td>2.0</td>\n",
       "      <td>4</td>\n",
       "      <td>automatic_select_shift</td>\n",
       "      <td>premium_gas</td>\n",
       "      <td>29</td>\n",
       "      <td>6</td>\n",
       "      <td>RDX 4DR SUV</td>\n",
       "      <td>10</td>\n",
       "    </tr>\n",
       "    <tr>\n",
       "      <th>3</th>\n",
       "      <td>acura</td>\n",
       "      <td>tlx</td>\n",
       "      <td>494.0</td>\n",
       "      <td>191.0</td>\n",
       "      <td>143.0</td>\n",
       "      <td>287.0</td>\n",
       "      <td>1781.0</td>\n",
       "      <td>57.0</td>\n",
       "      <td>Compact</td>\n",
       "      <td>2.0</td>\n",
       "      <td>4</td>\n",
       "      <td>automatic_select_shift</td>\n",
       "      <td>premium_gas</td>\n",
       "      <td>29</td>\n",
       "      <td>7</td>\n",
       "      <td>TLX 4DR SEDAN AWD</td>\n",
       "      <td>10</td>\n",
       "    </tr>\n",
       "    <tr>\n",
       "      <th>4</th>\n",
       "      <td>alfa romeo</td>\n",
       "      <td>stelvio</td>\n",
       "      <td>469.0</td>\n",
       "      <td>190.0</td>\n",
       "      <td>165.0</td>\n",
       "      <td>282.0</td>\n",
       "      <td>1660.0</td>\n",
       "      <td>52.0</td>\n",
       "      <td>SUV: Small</td>\n",
       "      <td>2.0</td>\n",
       "      <td>4</td>\n",
       "      <td>automatic</td>\n",
       "      <td>premium_gas</td>\n",
       "      <td>30</td>\n",
       "      <td>3</td>\n",
       "      <td>STELVIO BASE/Ti</td>\n",
       "      <td>8</td>\n",
       "    </tr>\n",
       "    <tr>\n",
       "      <th>5</th>\n",
       "      <td>aston martin</td>\n",
       "      <td>db11</td>\n",
       "      <td>476.0</td>\n",
       "      <td>194.0</td>\n",
       "      <td>128.0</td>\n",
       "      <td>281.0</td>\n",
       "      <td>1854.0</td>\n",
       "      <td>49.0</td>\n",
       "      <td>Minicompact</td>\n",
       "      <td>4.0</td>\n",
       "      <td>8</td>\n",
       "      <td>automatic</td>\n",
       "      <td>premium_gas</td>\n",
       "      <td>25</td>\n",
       "      <td>5</td>\n",
       "      <td>DB11</td>\n",
       "      <td>8</td>\n",
       "    </tr>\n",
       "  </tbody>\n",
       "</table>\n",
       "</div>"
      ],
      "text/plain": [
       "           make short_model_name  overall_length_cm  overall_width_cm  \\\n",
       "0         acura              ilx              462.0             180.0   \n",
       "1         acura              mdx              504.0             200.0   \n",
       "2         acura              rdx              474.0             190.0   \n",
       "3         acura              tlx              494.0             191.0   \n",
       "4    alfa romeo          stelvio              469.0             190.0   \n",
       "5  aston martin             db11              476.0             194.0   \n",
       "\n",
       "   overall_height_cm  wheelbase_cm  curb_weight_kg  \\\n",
       "0              141.0         267.0          1415.0   \n",
       "1              170.0         289.0          2044.0   \n",
       "2              167.0         275.0          1830.0   \n",
       "3              143.0         287.0          1781.0   \n",
       "4              165.0         282.0          1660.0   \n",
       "5              128.0         281.0          1854.0   \n",
       "\n",
       "   weight_distribution_pct_front vehicle_class  engine_size_l  cylinders  \\\n",
       "0                           60.0       Compact            2.4          4   \n",
       "1                           60.0    SUV: Small            3.5          6   \n",
       "2                           57.0    SUV: Small            2.0          4   \n",
       "3                           57.0       Compact            2.0          4   \n",
       "4                           52.0    SUV: Small            2.0          4   \n",
       "5                           49.0   Minicompact            4.0          8   \n",
       "\n",
       "             transmission         fuel  fuel_consumption_mpg  smog  \\\n",
       "0        automated_manual  premium_gas                    33     3   \n",
       "1  automatic_select_shift  premium_gas                    25     5   \n",
       "2  automatic_select_shift  premium_gas                    29     6   \n",
       "3  automatic_select_shift  premium_gas                    29     7   \n",
       "4               automatic  premium_gas                    30     3   \n",
       "5               automatic  premium_gas                    25     5   \n",
       "\n",
       "     full_model_name  gears  \n",
       "0      ILX 4DR SEDAN      8  \n",
       "1    MDX 4DR SUV AWD     10  \n",
       "2        RDX 4DR SUV     10  \n",
       "3  TLX 4DR SEDAN AWD     10  \n",
       "4    STELVIO BASE/Ti      8  \n",
       "5               DB11      8  "
      ]
     },
     "execution_count": 7,
     "metadata": {},
     "output_type": "execute_result"
    }
   ],
   "source": [
    "auto_df.head(6)"
   ]
  },
  {
   "cell_type": "code",
   "execution_count": 8,
   "metadata": {},
   "outputs": [
    {
     "data": {
      "text/html": [
       "<div>\n",
       "<style scoped>\n",
       "    .dataframe tbody tr th:only-of-type {\n",
       "        vertical-align: middle;\n",
       "    }\n",
       "\n",
       "    .dataframe tbody tr th {\n",
       "        vertical-align: top;\n",
       "    }\n",
       "\n",
       "    .dataframe thead th {\n",
       "        text-align: right;\n",
       "    }\n",
       "</style>\n",
       "<table border=\"1\" class=\"dataframe\">\n",
       "  <thead>\n",
       "    <tr style=\"text-align: right;\">\n",
       "      <th></th>\n",
       "      <th>make</th>\n",
       "      <th>short_model_name</th>\n",
       "      <th>overall_length_cm</th>\n",
       "      <th>overall_width_cm</th>\n",
       "      <th>overall_height_cm</th>\n",
       "      <th>wheelbase_cm</th>\n",
       "      <th>curb_weight_kg</th>\n",
       "      <th>weight_distribution_pct_front</th>\n",
       "      <th>vehicle_class</th>\n",
       "      <th>engine_size_l</th>\n",
       "      <th>cylinders</th>\n",
       "      <th>transmission</th>\n",
       "      <th>fuel</th>\n",
       "      <th>fuel_consumption_mpg</th>\n",
       "      <th>smog</th>\n",
       "      <th>full_model_name</th>\n",
       "      <th>gears</th>\n",
       "    </tr>\n",
       "  </thead>\n",
       "  <tbody>\n",
       "    <tr>\n",
       "      <th>204</th>\n",
       "      <td>volvo</td>\n",
       "      <td>s90</td>\n",
       "      <td>496.0</td>\n",
       "      <td>189.0</td>\n",
       "      <td>144.0</td>\n",
       "      <td>294.0</td>\n",
       "      <td>1921.0</td>\n",
       "      <td>56.0</td>\n",
       "      <td>Mid-size</td>\n",
       "      <td>2.0</td>\n",
       "      <td>4</td>\n",
       "      <td>automatic_select_shift</td>\n",
       "      <td>premium_gas</td>\n",
       "      <td>31</td>\n",
       "      <td>7</td>\n",
       "      <td>S90 4DR SEDAN T6 AWD</td>\n",
       "      <td>8</td>\n",
       "    </tr>\n",
       "    <tr>\n",
       "      <th>205</th>\n",
       "      <td>volvo</td>\n",
       "      <td>v60</td>\n",
       "      <td>478.0</td>\n",
       "      <td>185.0</td>\n",
       "      <td>150.0</td>\n",
       "      <td>287.0</td>\n",
       "      <td>1820.0</td>\n",
       "      <td>56.0</td>\n",
       "      <td>Station wagon: Small</td>\n",
       "      <td>2.0</td>\n",
       "      <td>4</td>\n",
       "      <td>automatic_select_shift</td>\n",
       "      <td>premium_gas</td>\n",
       "      <td>29</td>\n",
       "      <td>7</td>\n",
       "      <td>V60 CROSS COUNTRY 4DR WAGON</td>\n",
       "      <td>8</td>\n",
       "    </tr>\n",
       "    <tr>\n",
       "      <th>206</th>\n",
       "      <td>volvo</td>\n",
       "      <td>v90</td>\n",
       "      <td>494.0</td>\n",
       "      <td>189.0</td>\n",
       "      <td>144.0</td>\n",
       "      <td>294.0</td>\n",
       "      <td>1880.0</td>\n",
       "      <td>54.0</td>\n",
       "      <td>Station wagon: Mid-size</td>\n",
       "      <td>2.0</td>\n",
       "      <td>4</td>\n",
       "      <td>automatic_select_shift</td>\n",
       "      <td>premium_gas</td>\n",
       "      <td>30</td>\n",
       "      <td>7</td>\n",
       "      <td>V90 4DR WAGON</td>\n",
       "      <td>8</td>\n",
       "    </tr>\n",
       "    <tr>\n",
       "      <th>207</th>\n",
       "      <td>volvo</td>\n",
       "      <td>xc40</td>\n",
       "      <td>443.0</td>\n",
       "      <td>186.0</td>\n",
       "      <td>165.0</td>\n",
       "      <td>270.0</td>\n",
       "      <td>1688.0</td>\n",
       "      <td>59.0</td>\n",
       "      <td>SUV: Small</td>\n",
       "      <td>2.0</td>\n",
       "      <td>4</td>\n",
       "      <td>automatic_select_shift</td>\n",
       "      <td>regular_gas</td>\n",
       "      <td>30</td>\n",
       "      <td>5</td>\n",
       "      <td>XC40 4DR SUV</td>\n",
       "      <td>8</td>\n",
       "    </tr>\n",
       "    <tr>\n",
       "      <th>208</th>\n",
       "      <td>volvo</td>\n",
       "      <td>xc60</td>\n",
       "      <td>469.0</td>\n",
       "      <td>190.0</td>\n",
       "      <td>166.0</td>\n",
       "      <td>287.0</td>\n",
       "      <td>1869.0</td>\n",
       "      <td>55.0</td>\n",
       "      <td>SUV: Small</td>\n",
       "      <td>2.0</td>\n",
       "      <td>4</td>\n",
       "      <td>automatic_select_shift</td>\n",
       "      <td>premium_gas</td>\n",
       "      <td>30</td>\n",
       "      <td>5</td>\n",
       "      <td>XC60 4DR SUV</td>\n",
       "      <td>8</td>\n",
       "    </tr>\n",
       "    <tr>\n",
       "      <th>209</th>\n",
       "      <td>volvo</td>\n",
       "      <td>xc90</td>\n",
       "      <td>495.0</td>\n",
       "      <td>201.0</td>\n",
       "      <td>178.0</td>\n",
       "      <td>298.0</td>\n",
       "      <td>2052.0</td>\n",
       "      <td>53.0</td>\n",
       "      <td>SUV: Standard</td>\n",
       "      <td>2.0</td>\n",
       "      <td>4</td>\n",
       "      <td>automatic_select_shift</td>\n",
       "      <td>premium_gas</td>\n",
       "      <td>28</td>\n",
       "      <td>5</td>\n",
       "      <td>XC90 4DR SUV AWD T5 / T6</td>\n",
       "      <td>8</td>\n",
       "    </tr>\n",
       "  </tbody>\n",
       "</table>\n",
       "</div>"
      ],
      "text/plain": [
       "      make short_model_name  overall_length_cm  overall_width_cm  \\\n",
       "204  volvo              s90              496.0             189.0   \n",
       "205  volvo              v60              478.0             185.0   \n",
       "206  volvo              v90              494.0             189.0   \n",
       "207  volvo             xc40              443.0             186.0   \n",
       "208  volvo             xc60              469.0             190.0   \n",
       "209  volvo             xc90              495.0             201.0   \n",
       "\n",
       "     overall_height_cm  wheelbase_cm  curb_weight_kg  \\\n",
       "204              144.0         294.0          1921.0   \n",
       "205              150.0         287.0          1820.0   \n",
       "206              144.0         294.0          1880.0   \n",
       "207              165.0         270.0          1688.0   \n",
       "208              166.0         287.0          1869.0   \n",
       "209              178.0         298.0          2052.0   \n",
       "\n",
       "     weight_distribution_pct_front            vehicle_class  engine_size_l  \\\n",
       "204                           56.0                 Mid-size            2.0   \n",
       "205                           56.0     Station wagon: Small            2.0   \n",
       "206                           54.0  Station wagon: Mid-size            2.0   \n",
       "207                           59.0               SUV: Small            2.0   \n",
       "208                           55.0               SUV: Small            2.0   \n",
       "209                           53.0            SUV: Standard            2.0   \n",
       "\n",
       "     cylinders            transmission         fuel  fuel_consumption_mpg  \\\n",
       "204          4  automatic_select_shift  premium_gas                    31   \n",
       "205          4  automatic_select_shift  premium_gas                    29   \n",
       "206          4  automatic_select_shift  premium_gas                    30   \n",
       "207          4  automatic_select_shift  regular_gas                    30   \n",
       "208          4  automatic_select_shift  premium_gas                    30   \n",
       "209          4  automatic_select_shift  premium_gas                    28   \n",
       "\n",
       "     smog              full_model_name  gears  \n",
       "204     7         S90 4DR SEDAN T6 AWD      8  \n",
       "205     7  V60 CROSS COUNTRY 4DR WAGON      8  \n",
       "206     7                V90 4DR WAGON      8  \n",
       "207     5                 XC40 4DR SUV      8  \n",
       "208     5                 XC60 4DR SUV      8  \n",
       "209     5     XC90 4DR SUV AWD T5 / T6      8  "
      ]
     },
     "execution_count": 8,
     "metadata": {},
     "output_type": "execute_result"
    }
   ],
   "source": [
    "auto_df.tail(6)"
   ]
  },
  {
   "cell_type": "markdown",
   "metadata": {},
   "source": [
    "### Exercise\n",
    "\n",
    "Say we wanted to examine the `overall_length_cm` column in the data. We already saw that we can use `describe`."
   ]
  },
  {
   "cell_type": "code",
   "execution_count": 9,
   "metadata": {},
   "outputs": [
    {
     "data": {
      "text/html": [
       "<div>\n",
       "<style scoped>\n",
       "    .dataframe tbody tr th:only-of-type {\n",
       "        vertical-align: middle;\n",
       "    }\n",
       "\n",
       "    .dataframe tbody tr th {\n",
       "        vertical-align: top;\n",
       "    }\n",
       "\n",
       "    .dataframe thead th {\n",
       "        text-align: right;\n",
       "    }\n",
       "</style>\n",
       "<table border=\"1\" class=\"dataframe\">\n",
       "  <thead>\n",
       "    <tr style=\"text-align: right;\">\n",
       "      <th></th>\n",
       "      <th>overall_length_cm</th>\n",
       "    </tr>\n",
       "  </thead>\n",
       "  <tbody>\n",
       "    <tr>\n",
       "      <th>count</th>\n",
       "      <td>210.000000</td>\n",
       "    </tr>\n",
       "    <tr>\n",
       "      <th>mean</th>\n",
       "      <td>480.514286</td>\n",
       "    </tr>\n",
       "    <tr>\n",
       "      <th>std</th>\n",
       "      <td>37.691042</td>\n",
       "    </tr>\n",
       "    <tr>\n",
       "      <th>min</th>\n",
       "      <td>364.000000</td>\n",
       "    </tr>\n",
       "    <tr>\n",
       "      <th>25%</th>\n",
       "      <td>459.000000</td>\n",
       "    </tr>\n",
       "    <tr>\n",
       "      <th>50%</th>\n",
       "      <td>478.000000</td>\n",
       "    </tr>\n",
       "    <tr>\n",
       "      <th>75%</th>\n",
       "      <td>500.000000</td>\n",
       "    </tr>\n",
       "    <tr>\n",
       "      <th>max</th>\n",
       "      <td>613.000000</td>\n",
       "    </tr>\n",
       "  </tbody>\n",
       "</table>\n",
       "</div>"
      ],
      "text/plain": [
       "       overall_length_cm\n",
       "count         210.000000\n",
       "mean          480.514286\n",
       "std            37.691042\n",
       "min           364.000000\n",
       "25%           459.000000\n",
       "50%           478.000000\n",
       "75%           500.000000\n",
       "max           613.000000"
      ]
     },
     "execution_count": 9,
     "metadata": {},
     "output_type": "execute_result"
    }
   ],
   "source": [
    "auto_df[['overall_length_cm']].describe()"
   ]
  },
  {
   "cell_type": "markdown",
   "metadata": {},
   "source": [
    "Using the `seaborn` library, we can plot a line plot of `length` against the index of the data `auto_df.index`:"
   ]
  },
  {
   "cell_type": "code",
   "execution_count": 10,
   "metadata": {},
   "outputs": [
    {
     "data": {
      "image/png": "[encoded data removed]",
      "text/plain": [
       "<Figure size 1000x800 with 1 Axes>"
      ]
     },
     "metadata": {},
     "output_type": "display_data"
    }
   ],
   "source": [
    "sns.lineplot(x = auto_df.index, \n",
    "             y = 'overall_length_cm', \n",
    "             data = auto_df\n",
    "            ).set(xlabel = 'index', \n",
    "                  ylabel = 'length');"
   ]
  },
  {
   "cell_type": "markdown",
   "metadata": {},
   "source": [
    "- Do you find the above visualization useful? When can it be useful and when not?\n",
    "\n",
    "- Sort the data by `overall_length_cm` and reset the index of the data, then recreate the above plot. Do you find the new plot useful?"
   ]
  },
  {
   "cell_type": "code",
   "execution_count": 11,
   "metadata": {},
   "outputs": [],
   "source": [
    "## your code goes here"
   ]
  },
  {
   "cell_type": "markdown",
   "metadata": {},
   "source": [
    "- Run the `nlargest` method to show the top 10 values for `overall_length_cm`. Can you show these values on the plot above?"
   ]
  },
  {
   "cell_type": "code",
   "execution_count": 12,
   "metadata": {},
   "outputs": [],
   "source": [
    "## your code goes here"
   ]
  },
  {
   "cell_type": "markdown",
   "metadata": {},
   "source": [
    "If the data is really big, instead of plotting `overall_length_cm` itself, we can use the `quantile` method to obtain percentiles for `overall_length_cm` and plot those instead. \n",
    "\n",
    "- Use `quantile` to obtain the 0th, 1st, 2nd, 3rd, ..., 100th percentile for `overall_length_cm` and plot the percentiles. HINT: Use `np.arange(0, 1.01, 0.01)` to get the percentiles all at once."
   ]
  },
  {
   "cell_type": "code",
   "execution_count": 13,
   "metadata": {},
   "outputs": [],
   "source": [
    "## your code goes here"
   ]
  },
  {
   "cell_type": "markdown",
   "metadata": {},
   "source": [
    "- Do the results look similar to what we saw earlier?\n",
    "\n",
    "### End of exercise"
   ]
  },
  {
   "cell_type": "markdown",
   "metadata": {},
   "source": [
    "## Frequency tables\n",
    "\n",
    "The `groupby` method can be used to get separate summary statistics for each category in a categorical column. The `agg` or aggregation method can be used to specify which summary statistics we want. In this case, we will use the `count` operator to get counts of rows in each category of the variable. "
   ]
  },
  {
   "cell_type": "code",
   "execution_count": 14,
   "metadata": {},
   "outputs": [
    {
     "data": {
      "text/html": [
       "<div>\n",
       "<style scoped>\n",
       "    .dataframe tbody tr th:only-of-type {\n",
       "        vertical-align: middle;\n",
       "    }\n",
       "\n",
       "    .dataframe tbody tr th {\n",
       "        vertical-align: top;\n",
       "    }\n",
       "\n",
       "    .dataframe thead th {\n",
       "        text-align: right;\n",
       "    }\n",
       "</style>\n",
       "<table border=\"1\" class=\"dataframe\">\n",
       "  <thead>\n",
       "    <tr style=\"text-align: right;\">\n",
       "      <th></th>\n",
       "      <th>model_count</th>\n",
       "    </tr>\n",
       "    <tr>\n",
       "      <th>make</th>\n",
       "      <th></th>\n",
       "    </tr>\n",
       "  </thead>\n",
       "  <tbody>\n",
       "    <tr>\n",
       "      <th>acura</th>\n",
       "      <td>4</td>\n",
       "    </tr>\n",
       "    <tr>\n",
       "      <th>alfa romeo</th>\n",
       "      <td>1</td>\n",
       "    </tr>\n",
       "    <tr>\n",
       "      <th>aston martin</th>\n",
       "      <td>4</td>\n",
       "    </tr>\n",
       "    <tr>\n",
       "      <th>audi</th>\n",
       "      <td>14</td>\n",
       "    </tr>\n",
       "    <tr>\n",
       "      <th>bentley</th>\n",
       "      <td>2</td>\n",
       "    </tr>\n",
       "  </tbody>\n",
       "</table>\n",
       "</div>"
      ],
      "text/plain": [
       "              model_count\n",
       "make                     \n",
       "acura                   4\n",
       "alfa romeo              1\n",
       "aston martin            4\n",
       "audi                   14\n",
       "bentley                 2"
      ]
     },
     "execution_count": 14,
     "metadata": {},
     "output_type": "execute_result"
    }
   ],
   "source": [
    "auto_df.groupby(['make']\n",
    "      ).agg(\n",
    "            model_count = ('short_model_name', 'count')\n",
    "          ).head()"
   ]
  },
  {
   "cell_type": "markdown",
   "metadata": {},
   "source": [
    "We can look at frequencies of a combinations of two categorical variables, such combinations are also known as **interactions**. The groups are organized by the order of the columns specified."
   ]
  },
  {
   "cell_type": "code",
   "execution_count": 15,
   "metadata": {},
   "outputs": [
    {
     "data": {
      "text/html": [
       "<div>\n",
       "<style scoped>\n",
       "    .dataframe tbody tr th:only-of-type {\n",
       "        vertical-align: middle;\n",
       "    }\n",
       "\n",
       "    .dataframe tbody tr th {\n",
       "        vertical-align: top;\n",
       "    }\n",
       "\n",
       "    .dataframe thead th {\n",
       "        text-align: right;\n",
       "    }\n",
       "</style>\n",
       "<table border=\"1\" class=\"dataframe\">\n",
       "  <thead>\n",
       "    <tr style=\"text-align: right;\">\n",
       "      <th></th>\n",
       "      <th></th>\n",
       "      <th>model_count</th>\n",
       "    </tr>\n",
       "    <tr>\n",
       "      <th>make</th>\n",
       "      <th>fuel</th>\n",
       "      <th></th>\n",
       "    </tr>\n",
       "  </thead>\n",
       "  <tbody>\n",
       "    <tr>\n",
       "      <th>acura</th>\n",
       "      <th>premium_gas</th>\n",
       "      <td>4</td>\n",
       "    </tr>\n",
       "    <tr>\n",
       "      <th>alfa romeo</th>\n",
       "      <th>premium_gas</th>\n",
       "      <td>1</td>\n",
       "    </tr>\n",
       "    <tr>\n",
       "      <th>aston martin</th>\n",
       "      <th>premium_gas</th>\n",
       "      <td>4</td>\n",
       "    </tr>\n",
       "    <tr>\n",
       "      <th rowspan=\"2\" valign=\"top\">audi</th>\n",
       "      <th>premium_gas</th>\n",
       "      <td>12</td>\n",
       "    </tr>\n",
       "    <tr>\n",
       "      <th>regular_gas</th>\n",
       "      <td>2</td>\n",
       "    </tr>\n",
       "  </tbody>\n",
       "</table>\n",
       "</div>"
      ],
      "text/plain": [
       "                          model_count\n",
       "make         fuel                    \n",
       "acura        premium_gas            4\n",
       "alfa romeo   premium_gas            1\n",
       "aston martin premium_gas            4\n",
       "audi         premium_gas           12\n",
       "             regular_gas            2"
      ]
     },
     "execution_count": 15,
     "metadata": {},
     "output_type": "execute_result"
    }
   ],
   "source": [
    "auto_df.groupby(['make', 'fuel']\n",
    "      ).agg(\n",
    "            model_count = ('short_model_name', 'count')\n",
    "           ).head()"
   ]
  },
  {
   "cell_type": "markdown",
   "metadata": {},
   "source": [
    "The above table gives us a feel for which manufactures only make gas cars and which ones make both gas and diesel cars, and how many of each. Notice that groups with counts of zero do not display in the table. \n",
    "\n",
    "When we look at interactions of two columns, the result is also called a **two-way table**. Similarly, we can have **three-way tables**, and so on."
   ]
  },
  {
   "cell_type": "code",
   "execution_count": 16,
   "metadata": {},
   "outputs": [
    {
     "data": {
      "text/html": [
       "<div>\n",
       "<style scoped>\n",
       "    .dataframe tbody tr th:only-of-type {\n",
       "        vertical-align: middle;\n",
       "    }\n",
       "\n",
       "    .dataframe tbody tr th {\n",
       "        vertical-align: top;\n",
       "    }\n",
       "\n",
       "    .dataframe thead th {\n",
       "        text-align: right;\n",
       "    }\n",
       "</style>\n",
       "<table border=\"1\" class=\"dataframe\">\n",
       "  <thead>\n",
       "    <tr style=\"text-align: right;\">\n",
       "      <th></th>\n",
       "      <th></th>\n",
       "      <th></th>\n",
       "      <th>model_count</th>\n",
       "    </tr>\n",
       "    <tr>\n",
       "      <th>make</th>\n",
       "      <th>fuel</th>\n",
       "      <th>cylinders</th>\n",
       "      <th></th>\n",
       "    </tr>\n",
       "  </thead>\n",
       "  <tbody>\n",
       "    <tr>\n",
       "      <th rowspan=\"2\" valign=\"top\">acura</th>\n",
       "      <th rowspan=\"2\" valign=\"top\">premium_gas</th>\n",
       "      <th>4</th>\n",
       "      <td>3</td>\n",
       "    </tr>\n",
       "    <tr>\n",
       "      <th>6</th>\n",
       "      <td>1</td>\n",
       "    </tr>\n",
       "    <tr>\n",
       "      <th>alfa romeo</th>\n",
       "      <th>premium_gas</th>\n",
       "      <th>4</th>\n",
       "      <td>1</td>\n",
       "    </tr>\n",
       "    <tr>\n",
       "      <th rowspan=\"2\" valign=\"top\">aston martin</th>\n",
       "      <th rowspan=\"2\" valign=\"top\">premium_gas</th>\n",
       "      <th>8</th>\n",
       "      <td>3</td>\n",
       "    </tr>\n",
       "    <tr>\n",
       "      <th>12</th>\n",
       "      <td>1</td>\n",
       "    </tr>\n",
       "  </tbody>\n",
       "</table>\n",
       "</div>"
      ],
      "text/plain": [
       "                                    model_count\n",
       "make         fuel        cylinders             \n",
       "acura        premium_gas 4                    3\n",
       "                         6                    1\n",
       "alfa romeo   premium_gas 4                    1\n",
       "aston martin premium_gas 8                    3\n",
       "                         12                   1"
      ]
     },
     "execution_count": 16,
     "metadata": {},
     "output_type": "execute_result"
    }
   ],
   "source": [
    "auto_df.groupby(['make', 'fuel', 'cylinders']\n",
    "      ).agg(\n",
    "            model_count = ('short_model_name', 'count')\n",
    "           ).head()"
   ]
  },
  {
   "cell_type": "markdown",
   "metadata": {},
   "source": [
    "Notice that with three levels the table takes a bit more effort to examine. As the number of grouping levels increases, frequency tables become progressively more difficult to understand. "
   ]
  },
  {
   "cell_type": "markdown",
   "metadata": {},
   "source": [
    "### Exercise\n",
    "\n",
    "- Create and execute the code to create a frequency table of cars by `vehicle_class` and `cylinders`."
   ]
  },
  {
   "cell_type": "code",
   "execution_count": 17,
   "metadata": {},
   "outputs": [],
   "source": [
    "## your code goes here"
   ]
  },
  {
   "cell_type": "markdown",
   "metadata": {},
   "source": [
    "- Which vehicle class and cylinder engine configuration is the most frequent?\n",
    "- Ignoring missing values, which vehicle class and cylinder engine configurations are the least frequent?\n",
    "- What happens to the results if we add the `unstack()` method to the end?"
   ]
  },
  {
   "cell_type": "code",
   "execution_count": 18,
   "metadata": {},
   "outputs": [],
   "source": [
    "## your code goes here"
   ]
  },
  {
   "cell_type": "markdown",
   "metadata": {},
   "source": [
    "- Create the same frequency table using [pd.crosstab](https://pandas.pydata.org/docs/reference/api/pandas.crosstab.html) instead. What is the advantage of using `pd.crosstab`? What are the `normalize` and `margin` arguments used for?"
   ]
  },
  {
   "cell_type": "code",
   "execution_count": 19,
   "metadata": {},
   "outputs": [],
   "source": [
    "## your code goes here"
   ]
  },
  {
   "cell_type": "markdown",
   "metadata": {},
   "source": [
    "Visualize the result of `pd.crosstabs` above, using `sns.heatmap`. Decide if you should normalize and by which dimension. You can change the color map using the [cmap parameter](https://matplotlib.org/stable/tutorials/colors/colormaps.html). For example, try cmap = 'cividis' and see how the visualization changes."
   ]
  },
  {
   "cell_type": "code",
   "execution_count": 20,
   "metadata": {},
   "outputs": [],
   "source": [
    "## your code goes here"
   ]
  },
  {
   "cell_type": "markdown",
   "metadata": {},
   "source": [
    "### End of exercise\n",
    "\n",
    "## Basic univariate charts\n",
    "\n",
    "In this notebook we work with a number of common univariate chart types. By univariate we mean that it is a summary of only a single variable.\n",
    "\n",
    "- **bar plots**\n",
    "- **histograms**\n",
    "- **box plots**\n",
    "- **line plots**\n",
    "\n",
    "### Bar plots\n",
    "\n",
    "To start our exploration of these data we will work with bar plots. Bar plots are used to display the counts or frequency of unique values of a categorical variable. The length of the bar represents the count for each unique category of the variable."
   ]
  },
  {
   "cell_type": "code",
   "execution_count": 21,
   "metadata": {},
   "outputs": [
    {
     "data": {
      "image/png": "[encoded data removed]",
      "text/plain": [
       "<Figure size 1000x800 with 1 Axes>"
      ]
     },
     "metadata": {},
     "output_type": "display_data"
    }
   ],
   "source": [
    "ax = sns.countplot(y = 'vehicle_class', \n",
    "              hue = 'fuel', \n",
    "              data = auto_df)\n",
    "ax.legend(loc = 'right');"
   ]
  },
  {
   "cell_type": "markdown",
   "metadata": {},
   "source": [
    "From this display you can see that the most frequent body type is the small SUV and the least frequent is the special purpose vehicle, and diesels make up a small percentage of cars overall.\n",
    "\n",
    "### Exercise\n",
    "\n",
    "It would be easier to understand this plot if the frequencies of the categories were ordered. This would be particularly true if there were a large number of categories or categories with similar counts. \n",
    "\n",
    "- Use the `value_counts()` method to get a list where each `body-style` is ordered by frequency, then use the `order` argument in `countplot` to reorder the data."
   ]
  },
  {
   "cell_type": "code",
   "execution_count": 22,
   "metadata": {},
   "outputs": [],
   "source": [
    "## your code goes here"
   ]
  },
  {
   "cell_type": "markdown",
   "metadata": {},
   "source": [
    "- Compare the relationship between the number of gears and the style of transmission using one of the above techniques.\n",
    "- What types of tranmissions are most common? \n",
    "- How does the type of transmission for the vehicle with only one gear impact your opinion on if this data point is correct?"
   ]
  },
  {
   "cell_type": "code",
   "execution_count": 23,
   "metadata": {},
   "outputs": [],
   "source": [
    "## your code goes here"
   ]
  },
  {
   "cell_type": "markdown",
   "metadata": {},
   "source": [
    "### End of exercise"
   ]
  },
  {
   "cell_type": "markdown",
   "metadata": {},
   "source": [
    "The examples above use `countplot`, but we can also use the more general `catplot` function to create bar plots. "
   ]
  },
  {
   "cell_type": "code",
   "execution_count": 24,
   "metadata": {},
   "outputs": [
    {
     "data": {
      "image/png": "[encoded data removed]",
      "text/plain": [
       "<Figure size 1012.22x500 with 1 Axes>"
      ]
     },
     "metadata": {},
     "output_type": "display_data"
    }
   ],
   "source": [
    "g = sns.catplot(x = 'make', \n",
    "                data = auto_df, \n",
    "                kind = 'count', \n",
    "                color = 'lightblue', \n",
    "                aspect = 2)\n",
    "g.set_xticklabels(rotation = 90);"
   ]
  },
  {
   "cell_type": "markdown",
   "metadata": {},
   "source": [
    "### Histograms\n",
    "\n",
    "Histograms are related to bar plots. Histograms are used for numeric variables. Whereas, a bar plot shows the counts of unique categories, a histogram shows the number of data with values in each bin. The bins divide the values of the variable into equal segments. The vertical axis of the histogram shows the count of data values within each bin.  "
   ]
  },
  {
   "cell_type": "code",
   "execution_count": 25,
   "metadata": {},
   "outputs": [
    {
     "data": {
      "image/png": "[encoded data removed]",
      "text/plain": [
       "<Figure size 1000x800 with 1 Axes>"
      ]
     },
     "metadata": {},
     "output_type": "display_data"
    }
   ],
   "source": [
    "sns.histplot(auto_df['curb_weight_kg'], kde = False);"
   ]
  },
  {
   "cell_type": "markdown",
   "metadata": {},
   "source": [
    "The histogram shows that the weight of automobiles are roughly normally distributed, with a cluster of much heavier vehicles.\n",
    "\n",
    "### Box plots\n",
    "\n",
    "Box plots, also known as box and whisker plots, were introduced by John Tukey in 1970. Box plots are another way to visualize the distribution of data values. In this respect, box plots are comparable to histograms, but are quite different in presentation."
   ]
  },
  {
   "cell_type": "code",
   "execution_count": 26,
   "metadata": {},
   "outputs": [
    {
     "data": {
      "text/html": [
       "<div>\n",
       "<style scoped>\n",
       "    .dataframe tbody tr th:only-of-type {\n",
       "        vertical-align: middle;\n",
       "    }\n",
       "\n",
       "    .dataframe tbody tr th {\n",
       "        vertical-align: top;\n",
       "    }\n",
       "\n",
       "    .dataframe thead th {\n",
       "        text-align: right;\n",
       "    }\n",
       "</style>\n",
       "<table border=\"1\" class=\"dataframe\">\n",
       "  <thead>\n",
       "    <tr style=\"text-align: right;\">\n",
       "      <th></th>\n",
       "      <th>curb_weight_kg</th>\n",
       "    </tr>\n",
       "  </thead>\n",
       "  <tbody>\n",
       "    <tr>\n",
       "      <th>count</th>\n",
       "      <td>210.000000</td>\n",
       "    </tr>\n",
       "    <tr>\n",
       "      <th>mean</th>\n",
       "      <td>1817.780952</td>\n",
       "    </tr>\n",
       "    <tr>\n",
       "      <th>std</th>\n",
       "      <td>360.080785</td>\n",
       "    </tr>\n",
       "    <tr>\n",
       "      <th>min</th>\n",
       "      <td>940.000000</td>\n",
       "    </tr>\n",
       "    <tr>\n",
       "      <th>25%</th>\n",
       "      <td>1571.000000</td>\n",
       "    </tr>\n",
       "    <tr>\n",
       "      <th>50%</th>\n",
       "      <td>1802.000000</td>\n",
       "    </tr>\n",
       "    <tr>\n",
       "      <th>75%</th>\n",
       "      <td>2028.750000</td>\n",
       "    </tr>\n",
       "    <tr>\n",
       "      <th>max</th>\n",
       "      <td>2721.000000</td>\n",
       "    </tr>\n",
       "  </tbody>\n",
       "</table>\n",
       "</div>"
      ],
      "text/plain": [
       "       curb_weight_kg\n",
       "count      210.000000\n",
       "mean      1817.780952\n",
       "std        360.080785\n",
       "min        940.000000\n",
       "25%       1571.000000\n",
       "50%       1802.000000\n",
       "75%       2028.750000\n",
       "max       2721.000000"
      ]
     },
     "execution_count": 26,
     "metadata": {},
     "output_type": "execute_result"
    }
   ],
   "source": [
    "auto_df[['curb_weight_kg']].describe()"
   ]
  },
  {
   "cell_type": "code",
   "execution_count": 27,
   "metadata": {},
   "outputs": [
    {
     "data": {
      "image/png": "[encoded data removed]",
      "text/plain": [
       "<Figure size 1000x800 with 1 Axes>"
      ]
     },
     "metadata": {},
     "output_type": "display_data"
    }
   ],
   "source": [
    "ax = sns.boxplot(x = 'curb_weight_kg', \n",
    "                 data = auto_df);"
   ]
  },
  {
   "cell_type": "markdown",
   "metadata": {},
   "source": [
    "Compare the above plot to the histogram of weight. You can see from both plots that the distribution of weight is fairly symmetric. Further, there are a number of heavy cars that appear as outliers. \n",
    "\n",
    "The above plot is quite basic. Most importantly, this plot lacks the annotation required for someone to quickly understand it. At the minimum a title and an axis label are required. Fortunately, adding these attributes to the plot is relatively easy, since matplotlib provides methods to do so. \n",
    "\n",
    "There is another issue with this plot. Notice that the limits of the x axis does not include `0`, which can distort the observer's view of the data. This is particularly the case when making comparisons between variables, of subsets of variables. So we use the `set_xlim` method to reset the axis.\n",
    "\n",
    "### Exercise\n",
    "\n",
    "Box plots can be especially helpful when comparing different categories. \n",
    "\n",
    "- Display a box plot of auto weight grouped by both `fuel` and `gears`."
   ]
  },
  {
   "cell_type": "code",
   "execution_count": 28,
   "metadata": {},
   "outputs": [],
   "source": [
    "## your code goes here"
   ]
  },
  {
   "cell_type": "markdown",
   "metadata": {},
   "source": [
    "- Are diesel cars generally heavier than vehicles using gas? \n",
    "- What type of vehicles tend to be the lightest?\n",
    "- Which type of car shows the greatest weight range? The most outliers?\n",
    "\n",
    "### End of exercise"
   ]
  },
  {
   "cell_type": "markdown",
   "metadata": {},
   "source": [
    "# Assignment\n",
    "\n",
    "In this assignment, we look at some examples of third-party packages for EDA and visualizaiton. The data that we use is time series data. Time series data is very common and dealing with time series data sometimes requires that we take special care. The time series we use in this assignment has the monthly number of subspots between 1749 and 2013. "
   ]
  },
  {
   "cell_type": "code",
   "execution_count": 30,
   "metadata": {},
   "outputs": [],
   "source": [
    "import pandas as pd\n",
    "import matplotlib.pyplot as plt\n",
    "import seaborn as sns\n",
    "sns.set(rc = {'figure.figsize': (8, 8)})\n",
    "sunspots = pd.read_csv('../../data/sunspots.csv')"
   ]
  },
  {
   "cell_type": "markdown",
   "metadata": {},
   "source": [
    "- Convert the timestamp column into `datetime` and then set it as the index of the data. This is how we can let pandas know that we have a time series data. <span style=\"color:red\" float:right>[2 point]</span>"
   ]
  },
  {
   "cell_type": "code",
   "execution_count": null,
   "metadata": {},
   "outputs": [],
   "source": [
    "## your code goes here"
   ]
  },
  {
   "cell_type": "markdown",
   "metadata": {},
   "source": [
    "- Create a line plot of this time series, using the index in the x-axis. <span style=\"color:red\" float:right>[1 point]</span>"
   ]
  },
  {
   "cell_type": "code",
   "execution_count": null,
   "metadata": {},
   "outputs": [],
   "source": [
    "## your code goes here"
   ]
  },
  {
   "cell_type": "markdown",
   "metadata": {},
   "source": [
    "- The code at the beginning of the assignment set the figure size to a square aspect ratio of 8 by 8. Modify that code so the plot has a more pleasing wide aspect ratio. <span style=\"color:red\" float:right>[1 point]</span>"
   ]
  },
  {
   "cell_type": "code",
   "execution_count": null,
   "metadata": {},
   "outputs": [],
   "source": [
    "## your code goes here"
   ]
  },
  {
   "cell_type": "markdown",
   "metadata": {},
   "source": [
    "It is often helpful to smooth out a time series plot using a moving average. In `pandas`, we can easily calculate moving averages (or other statistic) using the `rolling` method. An example is shown below."
   ]
  },
  {
   "cell_type": "code",
   "execution_count": null,
   "metadata": {},
   "outputs": [],
   "source": [
    "x = pd.Series([5, 9, 10, 4, 8])\n",
    "x.rolling(3).mean()"
   ]
  },
  {
   "cell_type": "markdown",
   "metadata": {},
   "source": [
    "- State why the first two values of series above are `NaN`. <span style=\"color:red\" float:right>[2 point]</span>"
   ]
  },
  {
   "cell_type": "code",
   "execution_count": null,
   "metadata": {},
   "outputs": [],
   "source": [
    "## your answer goes here (no code required)"
   ]
  },
  {
   "cell_type": "markdown",
   "metadata": {},
   "source": [
    "- Create a new plot that shows both the original time series and the smoothed out time series using a rolling average with the window size set to 24. Your plot should include labels to indicate which line plot is which, such as 'original' and 'rolling average'. <span style=\"color:red\" float:right>[5 point]</span>"
   ]
  },
  {
   "cell_type": "code",
   "execution_count": null,
   "metadata": {},
   "outputs": [],
   "source": [
    "## your code goes here"
   ]
  },
  {
   "cell_type": "markdown",
   "metadata": {},
   "source": [
    "Another way to smooth out the data is to aggregate the data from monthly to yearly. There are different ways of doing that, but the easiest way is by using the `resample` method, as shown [here](https://pandas.pydata.org/pandas-docs/stable/reference/api/pandas.DataFrame.resample.html). Since we are going from monthly data to yearly, we call this **downsampling**. We can also use `resample` to **upsample** the data.\n",
    "\n",
    "- Use resample to aggregate the data to yearly totals, then plot a line plot of the data. <span style=\"color:red\" float:right>[5 point]</span>"
   ]
  },
  {
   "cell_type": "code",
   "execution_count": null,
   "metadata": {},
   "outputs": [],
   "source": [
    "## your code goes here"
   ]
  },
  {
   "cell_type": "markdown",
   "metadata": {},
   "source": [
    "The plot should show the number of sunspots on the vertical axis and the datetime on the horizontal axis. \n",
    "\n",
    "# End of assignment"
   ]
  }
 ],
 "metadata": {
  "anaconda-cloud": {},
  "kernelspec": {
   "display_name": "data-sci",
   "language": "python",
   "name": "python3"
  },
  "language_info": {
   "codemirror_mode": {
    "name": "ipython",
    "version": 3
   },
   "file_extension": ".py",
   "mimetype": "text/x-python",
   "name": "python",
   "nbconvert_exporter": "python",
   "pygments_lexer": "ipython3",
   "version": "3.13.1"
  },
  "toc": {
   "base_numbering": 1,
   "nav_menu": {},
   "number_sections": true,
   "sideBar": true,
   "skip_h1_title": false,
   "title_cell": "Table of Contents",
   "title_sidebar": "Contents",
   "toc_cell": false,
   "toc_position": {
    "height": "calc(100% - 180px)",
    "left": "10px",
    "top": "150px",
    "width": "342.367px"
   },
   "toc_section_display": true,
   "toc_window_display": true
  }
 },
 "nbformat": 4,
 "nbformat_minor": 4
}
