{
 "cells": [
  {
   "cell_type": "markdown",
   "metadata": {},
   "source": [
    "# Data exploration\n",
    "\n",
    "The key concept of exploratory data analysis (EDA) or visual exploration of data is to understand the relationships in the data set. Specifically, by using visualization when you approach a new data set you can:\n",
    "\n",
    "- Explore complex data sets, using visualization to develop understanding of the inherent relationships\n",
    "- Use different chart types to create multiple views of data to highlight different aspects of the inherent relationships\n",
    "- Use plot aesthetics to project multiple dimensions \n",
    "- Apply conditioning or faceting methods to project multiple dimensions"
   ]
  },
  {
   "cell_type": "markdown",
   "metadata": {
    "nbgrader": {
     "grade": false,
     "locked": true,
     "solution": false
    }
   },
   "source": [
    "This notebook contains an introduction to the methods data scientists use to prepare and explore a data set. Data scientists spend a lot of time manipulating data to clean and prepare it (**data munging**) and to understand the relationships within the variables in the data (**data exploration**). Visualization is a key skill for any data scientist performing these tasks. \n",
    "\n",
    "Before performing any type of inference or machine learning on a data set, you should develop an understanding of the relationships in the data set. Skipping this step can lead to wasted time from unexpected problems when building models, or in constructing models with poor performance. When starting any data science project, it is a good idea to plan on spending considerable time exploring the data. These exploration steps are often performed in conjunction with data cleaning and preparing, as visualization often highlights problems with data."
   ]
  },
  {
   "cell_type": "code",
   "execution_count": null,
   "metadata": {},
   "outputs": [],
   "source": [
    "# import sys\n",
    "# !{sys.executable} -m pip install statsmodels==0.13.2\n",
    "# !{sys.executable} -m pip install mlxtend==0.21.0\n",
    "# !{sys.executable} -m pip install graphviz==0.20.1"
   ]
  },
  {
   "cell_type": "code",
   "execution_count": null,
   "metadata": {
    "tags": []
   },
   "outputs": [],
   "source": [
    "from matplotlib import pyplot as plt\n",
    "import pandas as pd\n",
    "import numpy as np\n",
    "import seaborn as sns\n",
    "import itertools\n",
    "\n",
    "sns.set(rc = {'figure.figsize': (10, 8)})"
   ]
  },
  {
   "cell_type": "markdown",
   "metadata": {},
   "source": [
    "### About the data set\n",
    "\n",
    "This data set is from the [Canadian Open Government website](https://open.canada.ca/data/en/dataset/98f1a129-f628-4ce4-b24d-6f16bf24dd64/resource/87fc1b5e-fafc-4d44-ac52-66656fc2a245#additional-info)  and the [Canadian Association of Road Safety Professionals](https://www.carsp.ca/research/resources/canadian-vehicle-specifications/).\n",
    "\n",
    "##### Columns\n",
    "- **make** - vehicle make\n",
    "- **short_model_name** - short model name\n",
    "- **overall_length_cm, overall_width_cm , overall_height_cm, wheelbase_cm** - dimensions of vehicle in cm\n",
    "- **curb_weight_kg** - weight of vehicle\n",
    "- **weight_distribution_pct_front** -percent of the vehicle weight supported by the front axle\n",
    "- **vehicle_class** - type of vehicle\n",
    "- **engine_size_l** - engine size in liters\n",
    "- **cylinders** number of engine cylinders\n",
    "- **transmission** - manual or various types of automatic transmission\n",
    "- **fuel** - regular gas, premium_gas or diesel\n",
    "- **fuel_consumption_mpg** - miles per gallon of fuel for combined ratings (55% city, 45% hwy)\n",
    "- **smog** - tailpipe emissions of smog-forming pollutants rated on a scale from 1 (worst) to 10 (best)\n",
    "- **full_model_name** - full vehicle description"
   ]
  },
  {
   "cell_type": "markdown",
   "metadata": {},
   "source": [
    "## Load and examine the data\n",
    "\n",
    "Let's get started. The function shown in the cell below loads the data from the .csv file. Some minimal clean up is performed on the data. Rows with missing values are dropped and some columns are converted from strings containing numbers to numeric data. The result is a Pandas data frame.\n",
    "\n",
    "Execute the code in this cell to load the data into your notebook. **Make sure the canadian_cars_2022.csv file path is correct from your working directory!**"
   ]
  },
  {
   "cell_type": "code",
   "execution_count": null,
   "metadata": {
    "scrolled": true
   },
   "outputs": [],
   "source": [
    "def read_auto_data(file = \"../data/canadian_cars_2022.csv\"):\n",
    "    'Function to load the auto data set from a .csv file' \n",
    "    import pandas as pd\n",
    "    import numpy as np\n",
    "\n",
    "    ## Read the .csv file with the pandas read_csv method\n",
    "    df = pd.read_csv(file)\n",
    "    \n",
    "    ## Split the number of gears from the type of transmission, decode fuel\n",
    "    df['gears'] = df['transmission'].str.extract(r'([0-9]+)').astype('Int64')\n",
    "    df['gears'] = df['gears'].fillna(1) # \"gearless\" continuously_variable vehicles\n",
    "    df['fuel'].replace({'X': 'regular_gas', \n",
    "                             'Z': 'premium_gas', \n",
    "                             'D': 'diesel'}, inplace = True)\n",
    "    df['transmission'] = df['transmission'].str.extract(r'([A-Z]+)')\n",
    "    df['transmission'].replace({'A': 'automatic', \n",
    "                             'AM': 'automated_manual', \n",
    "                             'AS': 'automatic_select_shift', \n",
    "                             'AV': 'continuously_variable', \n",
    "                             'M': 'manual'}, inplace = True)\n",
    "    \n",
    "    ## Remove rows with missing values\n",
    "    df = df.dropna(axis = 0).reset_index(drop= True)\n",
    "    return df\n",
    "\n",
    "\n",
    "auto_df = read_auto_data()"
   ]
  },
  {
   "cell_type": "markdown",
   "metadata": {},
   "source": [
    "Next, have a first look at the dimensions and data types of the column of the data frame."
   ]
  },
  {
   "cell_type": "code",
   "execution_count": null,
   "metadata": {},
   "outputs": [],
   "source": [
    "auto_df.info()"
   ]
  },
  {
   "cell_type": "markdown",
   "metadata": {},
   "source": [
    "Some key things to notice here are:\n",
    "\n",
    "- There are 210 rows or cases in the data set.\n",
    "- The data set has 16 variables or columns.\n",
    "- Columns have a type of either `object` (character), `float64` (floating point number), or `int64` (integer). \n"
   ]
  },
  {
   "cell_type": "markdown",
   "metadata": {},
   "source": [
    "## Basic summary statistics\n",
    "\n",
    "You can also learn a lot about a data set by looking at statistical summaries. The Pandas `describe` method does just this. Execute the code in the cell below and note the result."
   ]
  },
  {
   "cell_type": "code",
   "execution_count": null,
   "metadata": {},
   "outputs": [],
   "source": [
    "with pd.option_context('display.float_format', '{:0.2f}'.format):\n",
    "    display(auto_df.describe())"
   ]
  },
  {
   "cell_type": "markdown",
   "metadata": {},
   "source": [
    "Notice, that summary statistics are only provided for numeric columns. For these column this summary provides some useful information:\n",
    "\n",
    "- The minimum and maximum values of each variable are displayed.\n",
    "- The quantiles are shown; 25%, 50% (median), 75%. Note that, for several of these variables, the upper interquartile ranges (IQR) are different from the lower IQR, indicating the distributions are skewed. \n",
    "- The mean is displayed. Compare the mean and the median, noting that they can be quite different, like in the case of cylinders. This is a sign of a skewed distribution. \n",
    "- The standard deviation gives a measure of the dispersion of the values.\n",
    "\n",
    "We can also obtain relevant summary statistics for categorical columns using the `include = 'object'`, which limits the columns to those of type `object`."
   ]
  },
  {
   "cell_type": "code",
   "execution_count": null,
   "metadata": {},
   "outputs": [],
   "source": [
    "auto_df.describe(include = 'object')"
   ]
  },
  {
   "cell_type": "markdown",
   "metadata": {},
   "source": [
    "Next, let's look at the first and last few lines of the data frame using the `head` and `tail` methods."
   ]
  },
  {
   "cell_type": "code",
   "execution_count": null,
   "metadata": {},
   "outputs": [],
   "source": [
    "auto_df.head(6)"
   ]
  },
  {
   "cell_type": "code",
   "execution_count": null,
   "metadata": {},
   "outputs": [],
   "source": [
    "auto_df.tail(6)"
   ]
  },
  {
   "cell_type": "markdown",
   "metadata": {},
   "source": [
    "### Exercise\n",
    "\n",
    "Say we wanted to examine the `overall_length_cm` column in the data. We already saw that we can use `describe`."
   ]
  },
  {
   "cell_type": "code",
   "execution_count": null,
   "metadata": {},
   "outputs": [],
   "source": [
    "auto_df[['overall_length_cm']].describe()"
   ]
  },
  {
   "cell_type": "markdown",
   "metadata": {},
   "source": [
    "Using the `seaborn` library, we can plot a line plot of `length` against the index of the data `auto_df.index`:"
   ]
  },
  {
   "cell_type": "code",
   "execution_count": null,
   "metadata": {},
   "outputs": [],
   "source": [
    "sns.lineplot(x = auto_df.index, \n",
    "             y = 'overall_length_cm', \n",
    "             data = auto_df\n",
    "            ).set(xlabel = 'index', \n",
    "                  ylabel = 'length');"
   ]
  },
  {
   "cell_type": "markdown",
   "metadata": {},
   "source": [
    "- Do you find the above visualization useful? When can it be useful and when not?\n",
    "\n",
    "- Sort the data by `overall_length_cm` and reset the index of the data, then recreate the above plot. Do you find the new plot useful?"
   ]
  },
  {
   "cell_type": "code",
   "execution_count": null,
   "metadata": {},
   "outputs": [],
   "source": [
    "## your code goes here"
   ]
  },
  {
   "cell_type": "markdown",
   "metadata": {},
   "source": [
    "- Run the `nlargest` method to show the top 10 values for `overall_length_cm`. Can you show these values on the plot above?"
   ]
  },
  {
   "cell_type": "code",
   "execution_count": null,
   "metadata": {},
   "outputs": [],
   "source": [
    "## your code goes here"
   ]
  },
  {
   "cell_type": "markdown",
   "metadata": {},
   "source": [
    "If the data is really big, instead of plotting `overall_length_cm` itself, we can use the `quantile` method to obtain percentiles for `overall_length_cm` and plot those instead. \n",
    "\n",
    "- Use `quantile` to obtain the 0th, 1st, 2nd, 3rd, ..., 100th percentile for `overall_length_cm` and plot the percentiles. HINT: Use `np.arange(0, 1.01, 0.01)` to get the percentiles all at once."
   ]
  },
  {
   "cell_type": "code",
   "execution_count": null,
   "metadata": {},
   "outputs": [],
   "source": [
    "## your code goes here"
   ]
  },
  {
   "cell_type": "markdown",
   "metadata": {},
   "source": [
    "- Do the results look similar to what we saw earlier?\n",
    "\n",
    "### End of exercise"
   ]
  },
  {
   "cell_type": "markdown",
   "metadata": {},
   "source": [
    "## Frequency tables\n",
    "\n",
    "The `groupby` method can be used to get separate summary statistics for each category in a categorical column. The `agg` or aggregation method can be used to specify which summary statistics we want. In this case, we will use the `count` operator to get counts of rows in each category of the variable. "
   ]
  },
  {
   "cell_type": "code",
   "execution_count": null,
   "metadata": {},
   "outputs": [],
   "source": [
    "auto_df.groupby(['make']\n",
    "      ).agg(\n",
    "            model_count = ('short_model_name', 'count')\n",
    "          ).head()"
   ]
  },
  {
   "cell_type": "markdown",
   "metadata": {},
   "source": [
    "We can look at frequencies of a combinations of two categorical variables, such combinations are also known as **interactions**. The groups are organized by the order of the columns specified."
   ]
  },
  {
   "cell_type": "code",
   "execution_count": null,
   "metadata": {},
   "outputs": [],
   "source": [
    "auto_df.groupby(['make', 'fuel']\n",
    "      ).agg(\n",
    "            model_count = ('short_model_name', 'count')\n",
    "           ).head()"
   ]
  },
  {
   "cell_type": "markdown",
   "metadata": {},
   "source": [
    "The above table gives us a feel for which manufactures only make gas cars and which ones make both gas and diesel cars, and how many of each. Notice that groups with counts of zero do not display in the table. \n",
    "\n",
    "When we look at interactions of two columns, the result is also called a **two-way table**. Similarly, we can have **three-way tables**, and so on."
   ]
  },
  {
   "cell_type": "code",
   "execution_count": null,
   "metadata": {},
   "outputs": [],
   "source": [
    "auto_df.groupby(['make', 'fuel', 'cylinders']\n",
    "      ).agg(\n",
    "            model_count = ('short_model_name', 'count')\n",
    "           ).head()"
   ]
  },
  {
   "cell_type": "markdown",
   "metadata": {},
   "source": [
    "Notice that with three levels the table takes a bit more effort to examine. As the number of grouping levels increases, frequency tables become progressively more difficult to understand. "
   ]
  },
  {
   "cell_type": "markdown",
   "metadata": {},
   "source": [
    "### Exercise\n",
    "\n",
    "- Create and execute the code to create a frequency table of cars by `vehicle_class` and `cylinders`."
   ]
  },
  {
   "cell_type": "code",
   "execution_count": null,
   "metadata": {},
   "outputs": [],
   "source": [
    "## your code goes here"
   ]
  },
  {
   "cell_type": "markdown",
   "metadata": {},
   "source": [
    "- Which vehicle class and cylinder engine configuration is the most frequent?\n",
    "- Ignoring missing values, which vehicle class and cylinder engine configurations are the least frequent?\n",
    "- What happens to the results if we add the `unstack()` method to the end?"
   ]
  },
  {
   "cell_type": "code",
   "execution_count": null,
   "metadata": {},
   "outputs": [],
   "source": [
    "## your code goes here"
   ]
  },
  {
   "cell_type": "markdown",
   "metadata": {},
   "source": [
    "- Create the same frequency table using [pd.crosstab](https://pandas.pydata.org/docs/reference/api/pandas.crosstab.html) instead. What is the advantage of using `pd.crosstab`? What are the `normalize` and `margin` arguments used for?"
   ]
  },
  {
   "cell_type": "code",
   "execution_count": null,
   "metadata": {},
   "outputs": [],
   "source": [
    "## your code goes here"
   ]
  },
  {
   "cell_type": "markdown",
   "metadata": {},
   "source": [
    "Visualize the result of `pd.crosstabs` above, using `sns.heatmap`. Decide if you should normalize and by which dimension. You can change the color map using the [cmap parameter](https://matplotlib.org/stable/tutorials/colors/colormaps.html). For example, try cmap = 'cividis' and see how the visualization changes."
   ]
  },
  {
   "cell_type": "code",
   "execution_count": null,
   "metadata": {},
   "outputs": [],
   "source": [
    "## your code goes here"
   ]
  },
  {
   "cell_type": "markdown",
   "metadata": {},
   "source": [
    "### End of exercise\n",
    "\n",
    "## Basic univariate charts\n",
    "\n",
    "In this notebook we work with a number of common univariate chart types. By univariate we mean that it is a summary of only a single variable.\n",
    "\n",
    "- **bar plots**\n",
    "- **histograms**\n",
    "- **box plots**\n",
    "- **line plots**\n",
    "\n",
    "### Bar plots\n",
    "\n",
    "To start our exploration of these data we will work with bar plots. Bar plots are used to display the counts or frequency of unique values of a categorical variable. The length of the bar represents the count for each unique category of the variable."
   ]
  },
  {
   "cell_type": "code",
   "execution_count": null,
   "metadata": {},
   "outputs": [],
   "source": [
    "ax = sns.countplot(y = 'vehicle_class', \n",
    "              hue = 'fuel', \n",
    "              data = auto_df)\n",
    "ax.legend(loc = 'right');"
   ]
  },
  {
   "cell_type": "markdown",
   "metadata": {},
   "source": [
    "From this display you can see that the most frequent body type is the small SUV and the least frequent is the special purpose vehicle, and diesels make up a small percentage of cars overall.\n",
    "\n",
    "### Exercise\n",
    "\n",
    "It would be easier to understand this plot if the frequencies of the categories were ordered. This would be particularly true if there were a large number of categories or categories with similar counts. \n",
    "\n",
    "- Use the `value_counts()` method to get a list where each `body-style` is ordered by frequency, then use the `order` argument in `countplot` to reorder the data."
   ]
  },
  {
   "cell_type": "code",
   "execution_count": null,
   "metadata": {},
   "outputs": [],
   "source": [
    "## your code goes here"
   ]
  },
  {
   "cell_type": "markdown",
   "metadata": {},
   "source": [
    "- Compare the relationship between the number of gears and the style of transmission using one of the above techniques.\n",
    "- What types of tranmissions are most common? \n",
    "- How does the type of transmission for the vehicle with only one gear impact your opinion on if this data point is correct?"
   ]
  },
  {
   "cell_type": "code",
   "execution_count": null,
   "metadata": {},
   "outputs": [],
   "source": [
    "## your code goes here"
   ]
  },
  {
   "cell_type": "markdown",
   "metadata": {},
   "source": [
    "### End of exercise"
   ]
  },
  {
   "cell_type": "markdown",
   "metadata": {},
   "source": [
    "The examples above use `countplot`, but we can also use the more general `catplot` function to create bar plots. "
   ]
  },
  {
   "cell_type": "code",
   "execution_count": null,
   "metadata": {},
   "outputs": [],
   "source": [
    "g = sns.catplot(x = 'make', \n",
    "                data = auto_df, \n",
    "                kind = 'count', \n",
    "                color = 'lightblue', \n",
    "                aspect = 2)\n",
    "g.set_xticklabels(rotation = 90);"
   ]
  },
  {
   "cell_type": "markdown",
   "metadata": {},
   "source": [
    "### Histograms\n",
    "\n",
    "Histograms are related to bar plots. Histograms are used for numeric variables. Whereas, a bar plot shows the counts of unique categories, a histogram shows the number of data with values in each bin. The bins divide the values of the variable into equal segments. The vertical axis of the histogram shows the count of data values within each bin.  "
   ]
  },
  {
   "cell_type": "code",
   "execution_count": null,
   "metadata": {},
   "outputs": [],
   "source": [
    "sns.histplot(auto_df['curb_weight_kg'], kde = False);"
   ]
  },
  {
   "cell_type": "markdown",
   "metadata": {},
   "source": [
    "The histogram shows that the weight of automobiles are roughly normally distributed, with a cluster of much heavier vehicles.\n",
    "\n",
    "### Box plots\n",
    "\n",
    "Box plots, also known as box and whisker plots, were introduced by John Tukey in 1970. Box plots are another way to visualize the distribution of data values. In this respect, box plots are comparable to histograms, but are quite different in presentation."
   ]
  },
  {
   "cell_type": "code",
   "execution_count": null,
   "metadata": {},
   "outputs": [],
   "source": [
    "auto_df[['curb_weight_kg']].describe()"
   ]
  },
  {
   "cell_type": "code",
   "execution_count": null,
   "metadata": {},
   "outputs": [],
   "source": [
    "ax = sns.boxplot(x = 'curb_weight_kg', \n",
    "                 data = auto_df);"
   ]
  },
  {
   "cell_type": "markdown",
   "metadata": {},
   "source": [
    "Compare the above plot to the histogram of weight. You can see from both plots that the distribution of weight is fairly symmetric. Further, there are a number of heavy cars that appear as outliers. \n",
    "\n",
    "The above plot is quite basic. Most importantly, this plot lacks the annotation required for someone to quickly understand it. At the minimum a title and an axis label are required. Fortunately, adding these attributes to the plot is relatively easy, since matplotlib provides methods to do so. \n",
    "\n",
    "There is another issue with this plot. Notice that the limits of the x axis does not include `0`, which can distort the observer's view of the data. This is particularly the case when making comparisons between variables, of subsets of variables. So we use the `set_xlim` method to reset the axis.\n",
    "\n",
    "### Exercise\n",
    "\n",
    "Box plots can be especially helpful when comparing different categories. \n",
    "\n",
    "- Display a box plot of auto weight grouped by both `fuel` and `gears`."
   ]
  },
  {
   "cell_type": "code",
   "execution_count": null,
   "metadata": {},
   "outputs": [],
   "source": [
    "## your code goes here"
   ]
  },
  {
   "cell_type": "markdown",
   "metadata": {},
   "source": [
    "- Are diesel cars generally heavier than vehicles using gas? \n",
    "- What type of vehicles tend to be the lightest?\n",
    "- Which type of car shows the greatest weight range? The most outliers?\n",
    "\n",
    "### End of exercise"
   ]
  },
  {
   "cell_type": "markdown",
   "metadata": {},
   "source": [
    "# Assignment\n",
    "\n",
    "In this assignment, we look at some examples of third-party packages for EDA and visualizaiton. The data that we use is time series data. Time series data is very common and dealing with time series data sometimes requires that we take special care. The time series we use in this assignment has the monthly number of subspots between 1749 and 2013. "
   ]
  },
  {
   "cell_type": "code",
   "execution_count": null,
   "metadata": {},
   "outputs": [],
   "source": [
    "import pandas as pd\n",
    "import matplotlib.pyplot as plt\n",
    "import seaborn as sns\n",
    "sns.set(rc = {'figure.figsize': (8, 8)})\n",
    "sunspots = pd.read_csv('../data/sunspots.csv')"
   ]
  },
  {
   "cell_type": "markdown",
   "metadata": {},
   "source": [
    "- Convert the timestamp column into `datetime` and then set it as the index of the data. This is how we can let pandas know that we have a time series data. <span style=\"color:red\" float:right>[2 point]</span>"
   ]
  },
  {
   "cell_type": "code",
   "execution_count": null,
   "metadata": {},
   "outputs": [],
   "source": [
    "## your code goes here"
   ]
  },
  {
   "cell_type": "markdown",
   "metadata": {},
   "source": [
    "- Create a line plot of this time series, using the index in the x-axis. <span style=\"color:red\" float:right>[1 point]</span>"
   ]
  },
  {
   "cell_type": "code",
   "execution_count": null,
   "metadata": {},
   "outputs": [],
   "source": [
    "## your code goes here"
   ]
  },
  {
   "cell_type": "markdown",
   "metadata": {},
   "source": [
    "- The code at the beginning of the assignment set the figure size to a square aspect ratio of 8 by 8. Modify that code so the plot has a more pleasing wide aspect ratio. <span style=\"color:red\" float:right>[1 point]</span>"
   ]
  },
  {
   "cell_type": "code",
   "execution_count": null,
   "metadata": {},
   "outputs": [],
   "source": [
    "## your code goes here"
   ]
  },
  {
   "cell_type": "markdown",
   "metadata": {},
   "source": [
    "It is often helpful to smooth out a time series plot using a moving average. In `pandas`, we can easily calculate moving averages (or other statistic) using the `rolling` method. An example is shown below."
   ]
  },
  {
   "cell_type": "code",
   "execution_count": null,
   "metadata": {},
   "outputs": [],
   "source": [
    "x = pd.Series([5, 9, 10, 4, 8])\n",
    "x.rolling(3).mean()"
   ]
  },
  {
   "cell_type": "markdown",
   "metadata": {},
   "source": [
    "- State why the first two values of series above are `NaN`. <span style=\"color:red\" float:right>[2 point]</span>"
   ]
  },
  {
   "cell_type": "code",
   "execution_count": null,
   "metadata": {},
   "outputs": [],
   "source": [
    "## your answer goes here (no code required)"
   ]
  },
  {
   "cell_type": "markdown",
   "metadata": {},
   "source": [
    "- Create a new plot that shows both the original time series and the smoothed out time series using a rolling average with the window size set to 24. Your plot should include labels to indicate which line plot is which, such as 'original' and 'rolling average'. <span style=\"color:red\" float:right>[5 point]</span>"
   ]
  },
  {
   "cell_type": "code",
   "execution_count": null,
   "metadata": {},
   "outputs": [],
   "source": [
    "## your code goes here"
   ]
  },
  {
   "cell_type": "markdown",
   "metadata": {},
   "source": [
    "Another way to smooth out the data is to aggregate the data from monthly to yearly. There are different ways of doing that, but the easiest way is by using the `resample` method, as shown [here](https://pandas.pydata.org/pandas-docs/stable/reference/api/pandas.DataFrame.resample.html). Since we are going from monthly data to yearly, we call this **downsampling**. We can also use `resample` to **upsample** the data.\n",
    "\n",
    "- Use resample to aggregate the data to yearly totals, then plot a line plot of the data. <span style=\"color:red\" float:right>[5 point]</span>"
   ]
  },
  {
   "cell_type": "code",
   "execution_count": null,
   "metadata": {},
   "outputs": [],
   "source": [
    "## your code goes here"
   ]
  },
  {
   "cell_type": "markdown",
   "metadata": {},
   "source": [
    "The plot should show the number of sunspots on the vertical axis and the datetime on the horizontal axis. \n",
    "\n",
    "# End of assignment"
   ]
  }
 ],
 "metadata": {
  "anaconda-cloud": {},
  "kernelspec": {
   "display_name": "Python 3 (ipykernel)",
   "language": "python",
   "name": "python3"
  },
  "language_info": {
   "codemirror_mode": {
    "name": "ipython",
    "version": 3
   },
   "file_extension": ".py",
   "mimetype": "text/x-python",
   "name": "python",
   "nbconvert_exporter": "python",
   "pygments_lexer": "ipython3",
   "version": "3.10.9"
  },
  "toc": {
   "base_numbering": 1,
   "nav_menu": {},
   "number_sections": true,
   "sideBar": true,
   "skip_h1_title": false,
   "title_cell": "Table of Contents",
   "title_sidebar": "Contents",
   "toc_cell": false,
   "toc_position": {
    "height": "calc(100% - 180px)",
    "left": "10px",
    "top": "150px",
    "width": "342.367px"
   },
   "toc_section_display": true,
   "toc_window_display": true
  },
  "vscode": {
   "interpreter": {
    "hash": "9cd5b1060645c161064a32399f3815b62036dca35fd6bfa9efb7b0f1d11b6ced"
   }
  }
 },
 "nbformat": 4,
 "nbformat_minor": 4
}
