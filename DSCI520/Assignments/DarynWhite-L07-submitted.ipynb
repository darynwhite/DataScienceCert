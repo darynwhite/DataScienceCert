{
 "cells": [
  {
   "cell_type": "markdown",
   "metadata": {},
   "source": [
    "# Assignment\n",
    "\n",
    "How can we use Bayesian models to compare two distributions? It turns out that we can compare Bayesian models in several ways. In this assignment, we will compute and compare credible intervals of the posterior distribution of a model parameter.\n",
    "\n",
    "Before we begin, let's load the libraries and functions we need."
   ]
  },
  {
   "cell_type": "code",
   "execution_count": 1,
   "metadata": {},
   "outputs": [],
   "source": [
    "%%capture\n",
    "\n",
    "import pandas as pd\n",
    "import numpy as np\n",
    "import scipy\n",
    "import plotly.express as px\n",
    "import plotly.graph_objects as go\n",
    "import plotly.colors as plco"
   ]
  },
  {
   "cell_type": "code",
   "execution_count": 2,
   "metadata": {},
   "outputs": [],
   "source": [
    "def posterior(prior, like):\n",
    "    post = prior * like # compute the product of the probabilities\n",
    "    return post / post.sum() # normalize the distribution to sum to unity\n",
    "\n",
    "num_samples = 100000\n",
    "lower_q, upper_q = [.025, .975]\n",
    "\n",
    "def plot_ci(p, post, num_samples, lower_q, upper_q, fig=None, name='Posterior Density'):\n",
    "    ## This function computes a credible interval using an assumption\n",
    "    ## of symmetry in the bulk of the distribution to keep the \n",
    "    ## calculation simple. \n",
    "    ## Compute a large sample by resampling with replacement\n",
    "    samples = np.random.choice(p, size = num_samples, replace = True, p = post)\n",
    "    ci = np.percentile(samples, [lower_q*100, upper_q*100]) # compute the quantiles\n",
    "    \n",
    "    interval = upper_q - lower_q\n",
    "    colors = plco.qualitative.Plotly\n",
    "    \n",
    "    if fig:\n",
    "        color = [colors[2], colors[3]]\n",
    "        text = f'{fig.layout.annotations[0].text} | {name.split(' ')[0]} {interval:.3f} credible interval is {ci[0]:.3f} to {ci[1]:.3f}'\n",
    "    \n",
    "    if fig is None:\n",
    "        fig = go.Figure()\n",
    "        color = [colors[0], colors[1]]\n",
    "        text = f'{name.split(' ')[0]} {interval:.3f} credible interval is {ci[0]:.3f} to {ci[1]:.3f}'\n",
    "    \n",
    "    # Add posterior density line\n",
    "    fig.add_trace(go.Scatter(x=p, y=post, mode='lines', line=dict(color=color[0]), name=name))\n",
    "\n",
    "    # Add credible interval lines\n",
    "    fig.add_trace(go.Scatter(x=[ci[0], ci[0]], y=[0, max(post)], mode='lines', line=dict(color=color[1]), name='Lower CI'))\n",
    "    fig.add_trace(go.Scatter(x=[ci[1], ci[1]], y=[0, max(post)], mode='lines', line=dict(color=color[1]), name='Upper CI'))\n",
    "\n",
    "    # Update layout\n",
    "    fig.update_layout(\n",
    "        title=f'Posterior density with {interval:.3f} credible interval',\n",
    "        xaxis_title='Parameter value',\n",
    "        yaxis_title='Density',\n",
    "        showlegend=True,\n",
    "    )\n",
    "    fig.add_annotation(\n",
    "        x=0,\n",
    "        y=1.14,\n",
    "        showarrow=False,\n",
    "        text=text,\n",
    "        xref='paper',\n",
    "        yref='paper'\n",
    "    )\n",
    "\n",
    "    return fig\n"
   ]
  },
  {
   "cell_type": "code",
   "execution_count": 3,
   "metadata": {},
   "outputs": [],
   "source": [
    "def plot_pp(x, p, l, pp):\n",
    "    fig = go.Figure()\n",
    "    fig.add_trace(go.Scatter(x=x, y=l, mode='lines', line=dict(color='lightgrey', width=10), name='likelihood'))\n",
    "    fig.add_trace(go.Scatter(x=x, y=p, mode='lines', line=dict(color='blue', width=2), name='prior'))\n",
    "    fig.add_trace(go.Scatter(x=x, y=pp, mode='lines', line=dict(color='red', width=2), name='posterior'))\n",
    "\n",
    "    # Update layout\n",
    "    fig.update_layout(\n",
    "        title='Prior, likelihood and posterior distributions',\n",
    "        xaxis_title='p',\n",
    "        yaxis_title='PDF of p',\n",
    "        legend_title='Distributions'\n",
    "    )\n",
    "\n",
    "    fig.show()"
   ]
  },
  {
   "cell_type": "markdown",
   "metadata": {},
   "source": [
    "For this example, we will compare the posterior distribution of the heights of sons to the heights of the mothers in the Galton family dataset. As a first step, we will compute and evaluate Bayesian models for the mean heights using a subset of just 25 observations. "
   ]
  },
  {
   "cell_type": "code",
   "execution_count": 4,
   "metadata": {},
   "outputs": [
    {
     "data": {
      "text/html": [
       "<div>\n",
       "<style scoped>\n",
       "    .dataframe tbody tr th:only-of-type {\n",
       "        vertical-align: middle;\n",
       "    }\n",
       "\n",
       "    .dataframe tbody tr th {\n",
       "        vertical-align: top;\n",
       "    }\n",
       "\n",
       "    .dataframe thead th {\n",
       "        text-align: right;\n",
       "    }\n",
       "</style>\n",
       "<table border=\"1\" class=\"dataframe\">\n",
       "  <thead>\n",
       "    <tr style=\"text-align: right;\">\n",
       "      <th></th>\n",
       "      <th>father</th>\n",
       "      <th>mother</th>\n",
       "      <th>midparentHeight</th>\n",
       "      <th>children</th>\n",
       "      <th>childNum</th>\n",
       "      <th>gender</th>\n",
       "      <th>childHeight</th>\n",
       "    </tr>\n",
       "    <tr>\n",
       "      <th>family</th>\n",
       "      <th></th>\n",
       "      <th></th>\n",
       "      <th></th>\n",
       "      <th></th>\n",
       "      <th></th>\n",
       "      <th></th>\n",
       "      <th></th>\n",
       "    </tr>\n",
       "  </thead>\n",
       "  <tbody>\n",
       "    <tr>\n",
       "      <th>001</th>\n",
       "      <td>78.5</td>\n",
       "      <td>67.0</td>\n",
       "      <td>75.43</td>\n",
       "      <td>4</td>\n",
       "      <td>1</td>\n",
       "      <td>male</td>\n",
       "      <td>73.2</td>\n",
       "    </tr>\n",
       "    <tr>\n",
       "      <th>001</th>\n",
       "      <td>78.5</td>\n",
       "      <td>67.0</td>\n",
       "      <td>75.43</td>\n",
       "      <td>4</td>\n",
       "      <td>2</td>\n",
       "      <td>female</td>\n",
       "      <td>69.2</td>\n",
       "    </tr>\n",
       "    <tr>\n",
       "      <th>001</th>\n",
       "      <td>78.5</td>\n",
       "      <td>67.0</td>\n",
       "      <td>75.43</td>\n",
       "      <td>4</td>\n",
       "      <td>3</td>\n",
       "      <td>female</td>\n",
       "      <td>69.0</td>\n",
       "    </tr>\n",
       "    <tr>\n",
       "      <th>001</th>\n",
       "      <td>78.5</td>\n",
       "      <td>67.0</td>\n",
       "      <td>75.43</td>\n",
       "      <td>4</td>\n",
       "      <td>4</td>\n",
       "      <td>female</td>\n",
       "      <td>69.0</td>\n",
       "    </tr>\n",
       "    <tr>\n",
       "      <th>002</th>\n",
       "      <td>75.5</td>\n",
       "      <td>66.5</td>\n",
       "      <td>73.66</td>\n",
       "      <td>4</td>\n",
       "      <td>1</td>\n",
       "      <td>male</td>\n",
       "      <td>73.5</td>\n",
       "    </tr>\n",
       "  </tbody>\n",
       "</table>\n",
       "</div>"
      ],
      "text/plain": [
       "        father  mother  midparentHeight  children  childNum  gender  \\\n",
       "family                                                                \n",
       "001       78.5    67.0            75.43         4         1    male   \n",
       "001       78.5    67.0            75.43         4         2  female   \n",
       "001       78.5    67.0            75.43         4         3  female   \n",
       "001       78.5    67.0            75.43         4         4  female   \n",
       "002       75.5    66.5            73.66         4         1    male   \n",
       "\n",
       "        childHeight  \n",
       "family               \n",
       "001            73.2  \n",
       "001            69.2  \n",
       "001            69.0  \n",
       "001            69.0  \n",
       "002            73.5  "
      ]
     },
     "execution_count": 4,
     "metadata": {},
     "output_type": "execute_result"
    }
   ],
   "source": [
    "families = pd.read_csv('../../data/GaltonFamilies.csv', index_col = 0)\n",
    "families.head()"
   ]
  },
  {
   "cell_type": "markdown",
   "metadata": {},
   "source": [
    "- Plot the distributions of the height of mothers and sons for a sample of size 25. Do the distributions appear to be significantly different? <span style=\"color:red\" float:right>[5 point]</span>"
   ]
  },
  {
   "cell_type": "code",
   "execution_count": 5,
   "metadata": {},
   "outputs": [
    {
     "data": {
      "application/vnd.plotly.v1+json": {
       "config": {
        "plotlyServerURL": "https://plot.ly"
       },
       "data": [
        {
         "bingroup": "x",
         "hovertemplate": "variable=childHeight<br>value=%{x}<br>count=%{y}<extra></extra>",
         "legendgroup": "childHeight",
         "marker": {
          "color": "#636efa",
          "line": {
           "color": "black",
           "width": 0.25
          },
          "pattern": {
           "shape": ""
          }
         },
         "name": "childHeight",
         "nbinsx": 30,
         "opacity": 0.75,
         "orientation": "v",
         "showlegend": true,
         "type": "histogram",
         "x": {
          "bdata": "AAAAAAAAUkAAAAAAAGBSQM3MzMzMrFFAAAAAAACgUUAAAAAAAGBRQAAAAAAAQFFAAAAAAACAUUAAAAAAAMBSQAAAAAAAAFFAAAAAAAAAUUAAAAAAAIBQQAAAAAAAQFFAAAAAAAAAUUAAAAAAAOBQQAAAAAAAAFJAAAAAAADAUEAAAAAAAEBRQAAAAAAA4FBAAAAAAACgUUAAAAAAAEBQQAAAAAAAwFFAAAAAAAAgUUAAAAAAACBSQAAAAAAAgFBAAAAAAACgUUA=",
          "dtype": "f8"
         },
         "xaxis": "x",
         "yaxis": "y"
        },
        {
         "bingroup": "x",
         "hovertemplate": "variable=mother<br>value=%{x}<br>count=%{y}<extra></extra>",
         "legendgroup": "mother",
         "marker": {
          "color": "#EF553B",
          "line": {
           "color": "black",
           "width": 0.25
          },
          "pattern": {
           "shape": ""
          }
         },
         "name": "mother",
         "nbinsx": 30,
         "opacity": 0.75,
         "orientation": "v",
         "showlegend": true,
         "type": "histogram",
         "x": {
          "bdata": "AAAAAAAAT0AAAAAAAKBQQAAAAAAAgFBAAAAAAABAUEAAAAAAAEBQQAAAAAAAAE9AAAAAAACAT0AAAAAAAABRQAAAAAAAQFBAAAAAAACAT0AAAAAAAIBPQAAAAAAAQFBAAAAAAACATkAAAAAAAEBQQAAAAAAAQFBAAAAAAACATkAAAAAAAEBQQAAAAAAAQFBAAAAAAADAUEAAAAAAAMBQQAAAAAAAgFBAAAAAAACATkAAAAAAAKBQQAAAAAAAgE9AAAAAAACAT0A=",
          "dtype": "f8"
         },
         "xaxis": "x",
         "yaxis": "y"
        }
       ],
       "layout": {
        "barmode": "overlay",
        "height": 500,
        "legend": {
         "title": {
          "text": "variable"
         },
         "tracegroupgap": 0
        },
        "template": {
         "data": {
          "bar": [
           {
            "error_x": {
             "color": "#2a3f5f"
            },
            "error_y": {
             "color": "#2a3f5f"
            },
            "marker": {
             "line": {
              "color": "#E5ECF6",
              "width": 0.5
             },
             "pattern": {
              "fillmode": "overlay",
              "size": 10,
              "solidity": 0.2
             }
            },
            "type": "bar"
           }
          ],
          "barpolar": [
           {
            "marker": {
             "line": {
              "color": "#E5ECF6",
              "width": 0.5
             },
             "pattern": {
              "fillmode": "overlay",
              "size": 10,
              "solidity": 0.2
             }
            },
            "type": "barpolar"
           }
          ],
          "carpet": [
           {
            "aaxis": {
             "endlinecolor": "#2a3f5f",
             "gridcolor": "white",
             "linecolor": "white",
             "minorgridcolor": "white",
             "startlinecolor": "#2a3f5f"
            },
            "baxis": {
             "endlinecolor": "#2a3f5f",
             "gridcolor": "white",
             "linecolor": "white",
             "minorgridcolor": "white",
             "startlinecolor": "#2a3f5f"
            },
            "type": "carpet"
           }
          ],
          "choropleth": [
           {
            "colorbar": {
             "outlinewidth": 0,
             "ticks": ""
            },
            "type": "choropleth"
           }
          ],
          "contour": [
           {
            "colorbar": {
             "outlinewidth": 0,
             "ticks": ""
            },
            "colorscale": [
             [
              0,
              "#0d0887"
             ],
             [
              0.1111111111111111,
              "#46039f"
             ],
             [
              0.2222222222222222,
              "#7201a8"
             ],
             [
              0.3333333333333333,
              "#9c179e"
             ],
             [
              0.4444444444444444,
              "#bd3786"
             ],
             [
              0.5555555555555556,
              "#d8576b"
             ],
             [
              0.6666666666666666,
              "#ed7953"
             ],
             [
              0.7777777777777778,
              "#fb9f3a"
             ],
             [
              0.8888888888888888,
              "#fdca26"
             ],
             [
              1,
              "#f0f921"
             ]
            ],
            "type": "contour"
           }
          ],
          "contourcarpet": [
           {
            "colorbar": {
             "outlinewidth": 0,
             "ticks": ""
            },
            "type": "contourcarpet"
           }
          ],
          "heatmap": [
           {
            "colorbar": {
             "outlinewidth": 0,
             "ticks": ""
            },
            "colorscale": [
             [
              0,
              "#0d0887"
             ],
             [
              0.1111111111111111,
              "#46039f"
             ],
             [
              0.2222222222222222,
              "#7201a8"
             ],
             [
              0.3333333333333333,
              "#9c179e"
             ],
             [
              0.4444444444444444,
              "#bd3786"
             ],
             [
              0.5555555555555556,
              "#d8576b"
             ],
             [
              0.6666666666666666,
              "#ed7953"
             ],
             [
              0.7777777777777778,
              "#fb9f3a"
             ],
             [
              0.8888888888888888,
              "#fdca26"
             ],
             [
              1,
              "#f0f921"
             ]
            ],
            "type": "heatmap"
           }
          ],
          "histogram": [
           {
            "marker": {
             "pattern": {
              "fillmode": "overlay",
              "size": 10,
              "solidity": 0.2
             }
            },
            "type": "histogram"
           }
          ],
          "histogram2d": [
           {
            "colorbar": {
             "outlinewidth": 0,
             "ticks": ""
            },
            "colorscale": [
             [
              0,
              "#0d0887"
             ],
             [
              0.1111111111111111,
              "#46039f"
             ],
             [
              0.2222222222222222,
              "#7201a8"
             ],
             [
              0.3333333333333333,
              "#9c179e"
             ],
             [
              0.4444444444444444,
              "#bd3786"
             ],
             [
              0.5555555555555556,
              "#d8576b"
             ],
             [
              0.6666666666666666,
              "#ed7953"
             ],
             [
              0.7777777777777778,
              "#fb9f3a"
             ],
             [
              0.8888888888888888,
              "#fdca26"
             ],
             [
              1,
              "#f0f921"
             ]
            ],
            "type": "histogram2d"
           }
          ],
          "histogram2dcontour": [
           {
            "colorbar": {
             "outlinewidth": 0,
             "ticks": ""
            },
            "colorscale": [
             [
              0,
              "#0d0887"
             ],
             [
              0.1111111111111111,
              "#46039f"
             ],
             [
              0.2222222222222222,
              "#7201a8"
             ],
             [
              0.3333333333333333,
              "#9c179e"
             ],
             [
              0.4444444444444444,
              "#bd3786"
             ],
             [
              0.5555555555555556,
              "#d8576b"
             ],
             [
              0.6666666666666666,
              "#ed7953"
             ],
             [
              0.7777777777777778,
              "#fb9f3a"
             ],
             [
              0.8888888888888888,
              "#fdca26"
             ],
             [
              1,
              "#f0f921"
             ]
            ],
            "type": "histogram2dcontour"
           }
          ],
          "mesh3d": [
           {
            "colorbar": {
             "outlinewidth": 0,
             "ticks": ""
            },
            "type": "mesh3d"
           }
          ],
          "parcoords": [
           {
            "line": {
             "colorbar": {
              "outlinewidth": 0,
              "ticks": ""
             }
            },
            "type": "parcoords"
           }
          ],
          "pie": [
           {
            "automargin": true,
            "type": "pie"
           }
          ],
          "scatter": [
           {
            "fillpattern": {
             "fillmode": "overlay",
             "size": 10,
             "solidity": 0.2
            },
            "type": "scatter"
           }
          ],
          "scatter3d": [
           {
            "line": {
             "colorbar": {
              "outlinewidth": 0,
              "ticks": ""
             }
            },
            "marker": {
             "colorbar": {
              "outlinewidth": 0,
              "ticks": ""
             }
            },
            "type": "scatter3d"
           }
          ],
          "scattercarpet": [
           {
            "marker": {
             "colorbar": {
              "outlinewidth": 0,
              "ticks": ""
             }
            },
            "type": "scattercarpet"
           }
          ],
          "scattergeo": [
           {
            "marker": {
             "colorbar": {
              "outlinewidth": 0,
              "ticks": ""
             }
            },
            "type": "scattergeo"
           }
          ],
          "scattergl": [
           {
            "marker": {
             "colorbar": {
              "outlinewidth": 0,
              "ticks": ""
             }
            },
            "type": "scattergl"
           }
          ],
          "scattermap": [
           {
            "marker": {
             "colorbar": {
              "outlinewidth": 0,
              "ticks": ""
             }
            },
            "type": "scattermap"
           }
          ],
          "scattermapbox": [
           {
            "marker": {
             "colorbar": {
              "outlinewidth": 0,
              "ticks": ""
             }
            },
            "type": "scattermapbox"
           }
          ],
          "scatterpolar": [
           {
            "marker": {
             "colorbar": {
              "outlinewidth": 0,
              "ticks": ""
             }
            },
            "type": "scatterpolar"
           }
          ],
          "scatterpolargl": [
           {
            "marker": {
             "colorbar": {
              "outlinewidth": 0,
              "ticks": ""
             }
            },
            "type": "scatterpolargl"
           }
          ],
          "scatterternary": [
           {
            "marker": {
             "colorbar": {
              "outlinewidth": 0,
              "ticks": ""
             }
            },
            "type": "scatterternary"
           }
          ],
          "surface": [
           {
            "colorbar": {
             "outlinewidth": 0,
             "ticks": ""
            },
            "colorscale": [
             [
              0,
              "#0d0887"
             ],
             [
              0.1111111111111111,
              "#46039f"
             ],
             [
              0.2222222222222222,
              "#7201a8"
             ],
             [
              0.3333333333333333,
              "#9c179e"
             ],
             [
              0.4444444444444444,
              "#bd3786"
             ],
             [
              0.5555555555555556,
              "#d8576b"
             ],
             [
              0.6666666666666666,
              "#ed7953"
             ],
             [
              0.7777777777777778,
              "#fb9f3a"
             ],
             [
              0.8888888888888888,
              "#fdca26"
             ],
             [
              1,
              "#f0f921"
             ]
            ],
            "type": "surface"
           }
          ],
          "table": [
           {
            "cells": {
             "fill": {
              "color": "#EBF0F8"
             },
             "line": {
              "color": "white"
             }
            },
            "header": {
             "fill": {
              "color": "#C8D4E3"
             },
             "line": {
              "color": "white"
             }
            },
            "type": "table"
           }
          ]
         },
         "layout": {
          "annotationdefaults": {
           "arrowcolor": "#2a3f5f",
           "arrowhead": 0,
           "arrowwidth": 1
          },
          "autotypenumbers": "strict",
          "coloraxis": {
           "colorbar": {
            "outlinewidth": 0,
            "ticks": ""
           }
          },
          "colorscale": {
           "diverging": [
            [
             0,
             "#8e0152"
            ],
            [
             0.1,
             "#c51b7d"
            ],
            [
             0.2,
             "#de77ae"
            ],
            [
             0.3,
             "#f1b6da"
            ],
            [
             0.4,
             "#fde0ef"
            ],
            [
             0.5,
             "#f7f7f7"
            ],
            [
             0.6,
             "#e6f5d0"
            ],
            [
             0.7,
             "#b8e186"
            ],
            [
             0.8,
             "#7fbc41"
            ],
            [
             0.9,
             "#4d9221"
            ],
            [
             1,
             "#276419"
            ]
           ],
           "sequential": [
            [
             0,
             "#0d0887"
            ],
            [
             0.1111111111111111,
             "#46039f"
            ],
            [
             0.2222222222222222,
             "#7201a8"
            ],
            [
             0.3333333333333333,
             "#9c179e"
            ],
            [
             0.4444444444444444,
             "#bd3786"
            ],
            [
             0.5555555555555556,
             "#d8576b"
            ],
            [
             0.6666666666666666,
             "#ed7953"
            ],
            [
             0.7777777777777778,
             "#fb9f3a"
            ],
            [
             0.8888888888888888,
             "#fdca26"
            ],
            [
             1,
             "#f0f921"
            ]
           ],
           "sequentialminus": [
            [
             0,
             "#0d0887"
            ],
            [
             0.1111111111111111,
             "#46039f"
            ],
            [
             0.2222222222222222,
             "#7201a8"
            ],
            [
             0.3333333333333333,
             "#9c179e"
            ],
            [
             0.4444444444444444,
             "#bd3786"
            ],
            [
             0.5555555555555556,
             "#d8576b"
            ],
            [
             0.6666666666666666,
             "#ed7953"
            ],
            [
             0.7777777777777778,
             "#fb9f3a"
            ],
            [
             0.8888888888888888,
             "#fdca26"
            ],
            [
             1,
             "#f0f921"
            ]
           ]
          },
          "colorway": [
           "#636efa",
           "#EF553B",
           "#00cc96",
           "#ab63fa",
           "#FFA15A",
           "#19d3f3",
           "#FF6692",
           "#B6E880",
           "#FF97FF",
           "#FECB52"
          ],
          "font": {
           "color": "#2a3f5f"
          },
          "geo": {
           "bgcolor": "white",
           "lakecolor": "white",
           "landcolor": "#E5ECF6",
           "showlakes": true,
           "showland": true,
           "subunitcolor": "white"
          },
          "hoverlabel": {
           "align": "left"
          },
          "hovermode": "closest",
          "mapbox": {
           "style": "light"
          },
          "paper_bgcolor": "white",
          "plot_bgcolor": "#E5ECF6",
          "polar": {
           "angularaxis": {
            "gridcolor": "white",
            "linecolor": "white",
            "ticks": ""
           },
           "bgcolor": "#E5ECF6",
           "radialaxis": {
            "gridcolor": "white",
            "linecolor": "white",
            "ticks": ""
           }
          },
          "scene": {
           "xaxis": {
            "backgroundcolor": "#E5ECF6",
            "gridcolor": "white",
            "gridwidth": 2,
            "linecolor": "white",
            "showbackground": true,
            "ticks": "",
            "zerolinecolor": "white"
           },
           "yaxis": {
            "backgroundcolor": "#E5ECF6",
            "gridcolor": "white",
            "gridwidth": 2,
            "linecolor": "white",
            "showbackground": true,
            "ticks": "",
            "zerolinecolor": "white"
           },
           "zaxis": {
            "backgroundcolor": "#E5ECF6",
            "gridcolor": "white",
            "gridwidth": 2,
            "linecolor": "white",
            "showbackground": true,
            "ticks": "",
            "zerolinecolor": "white"
           }
          },
          "shapedefaults": {
           "line": {
            "color": "#2a3f5f"
           }
          },
          "ternary": {
           "aaxis": {
            "gridcolor": "white",
            "linecolor": "white",
            "ticks": ""
           },
           "baxis": {
            "gridcolor": "white",
            "linecolor": "white",
            "ticks": ""
           },
           "bgcolor": "#E5ECF6",
           "caxis": {
            "gridcolor": "white",
            "linecolor": "white",
            "ticks": ""
           }
          },
          "title": {
           "x": 0.05
          },
          "xaxis": {
           "automargin": true,
           "gridcolor": "white",
           "linecolor": "white",
           "ticks": "",
           "title": {
            "standoff": 15
           },
           "zerolinecolor": "white",
           "zerolinewidth": 2
          },
          "yaxis": {
           "automargin": true,
           "gridcolor": "white",
           "linecolor": "white",
           "ticks": "",
           "title": {
            "standoff": 15
           },
           "zerolinecolor": "white",
           "zerolinewidth": 2
          }
         }
        },
        "title": {
         "text": "Distribution of Heights for Mother's & Male Children"
        },
        "width": 800,
        "xaxis": {
         "anchor": "y",
         "domain": [
          0,
          1
         ],
         "title": {
          "text": "Height"
         }
        },
        "yaxis": {
         "anchor": "x",
         "domain": [
          0,
          1
         ],
         "title": {
          "text": "Frequency"
         }
        }
       }
      }
     },
     "metadata": {},
     "output_type": "display_data"
    }
   ],
   "source": [
    "num_samples = 25\n",
    "\n",
    "male_children = families[families['gender'] == 'male']\n",
    "\n",
    "sample = male_children.sample(n=num_samples)\n",
    "\n",
    "fig = px.histogram(sample, x=['childHeight','mother'], nbins=30, title=\"Distribution of Heights for Mother's & Male Children\")\n",
    "fig.update_layout(\n",
    "    xaxis_title='Height',\n",
    "    yaxis_title='Frequency',\n",
    "    barmode='overlay',\n",
    "    width=800,\n",
    "    height=500\n",
    ")\n",
    "fig.update_traces(opacity=0.75,marker=dict(line_width=0.25, line_color=\"black\"))\n",
    "fig.show()"
   ]
  },
  {
   "cell_type": "code",
   "execution_count": 6,
   "metadata": {},
   "outputs": [
    {
     "data": {
      "application/vnd.plotly.v1+json": {
       "config": {
        "plotlyServerURL": "https://plot.ly"
       },
       "data": [
        {
         "bingroup": "x",
         "hovertemplate": "childHeight=%{x}<br>count=%{y}<extra></extra>",
         "legendgroup": "",
         "marker": {
          "color": "#636efa",
          "line": {
           "color": "black",
           "width": 0.25
          },
          "pattern": {
           "shape": ""
          }
         },
         "name": "",
         "nbinsx": 30,
         "opacity": 0.75,
         "orientation": "v",
         "showlegend": false,
         "type": "histogram",
         "x": {
          "bdata": "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",
          "dtype": "f8"
         },
         "xaxis": "x",
         "yaxis": "y"
        }
       ],
       "layout": {
        "barmode": "relative",
        "height": 500,
        "legend": {
         "tracegroupgap": 0
        },
        "template": {
         "data": {
          "bar": [
           {
            "error_x": {
             "color": "#2a3f5f"
            },
            "error_y": {
             "color": "#2a3f5f"
            },
            "marker": {
             "line": {
              "color": "#E5ECF6",
              "width": 0.5
             },
             "pattern": {
              "fillmode": "overlay",
              "size": 10,
              "solidity": 0.2
             }
            },
            "type": "bar"
           }
          ],
          "barpolar": [
           {
            "marker": {
             "line": {
              "color": "#E5ECF6",
              "width": 0.5
             },
             "pattern": {
              "fillmode": "overlay",
              "size": 10,
              "solidity": 0.2
             }
            },
            "type": "barpolar"
           }
          ],
          "carpet": [
           {
            "aaxis": {
             "endlinecolor": "#2a3f5f",
             "gridcolor": "white",
             "linecolor": "white",
             "minorgridcolor": "white",
             "startlinecolor": "#2a3f5f"
            },
            "baxis": {
             "endlinecolor": "#2a3f5f",
             "gridcolor": "white",
             "linecolor": "white",
             "minorgridcolor": "white",
             "startlinecolor": "#2a3f5f"
            },
            "type": "carpet"
           }
          ],
          "choropleth": [
           {
            "colorbar": {
             "outlinewidth": 0,
             "ticks": ""
            },
            "type": "choropleth"
           }
          ],
          "contour": [
           {
            "colorbar": {
             "outlinewidth": 0,
             "ticks": ""
            },
            "colorscale": [
             [
              0,
              "#0d0887"
             ],
             [
              0.1111111111111111,
              "#46039f"
             ],
             [
              0.2222222222222222,
              "#7201a8"
             ],
             [
              0.3333333333333333,
              "#9c179e"
             ],
             [
              0.4444444444444444,
              "#bd3786"
             ],
             [
              0.5555555555555556,
              "#d8576b"
             ],
             [
              0.6666666666666666,
              "#ed7953"
             ],
             [
              0.7777777777777778,
              "#fb9f3a"
             ],
             [
              0.8888888888888888,
              "#fdca26"
             ],
             [
              1,
              "#f0f921"
             ]
            ],
            "type": "contour"
           }
          ],
          "contourcarpet": [
           {
            "colorbar": {
             "outlinewidth": 0,
             "ticks": ""
            },
            "type": "contourcarpet"
           }
          ],
          "heatmap": [
           {
            "colorbar": {
             "outlinewidth": 0,
             "ticks": ""
            },
            "colorscale": [
             [
              0,
              "#0d0887"
             ],
             [
              0.1111111111111111,
              "#46039f"
             ],
             [
              0.2222222222222222,
              "#7201a8"
             ],
             [
              0.3333333333333333,
              "#9c179e"
             ],
             [
              0.4444444444444444,
              "#bd3786"
             ],
             [
              0.5555555555555556,
              "#d8576b"
             ],
             [
              0.6666666666666666,
              "#ed7953"
             ],
             [
              0.7777777777777778,
              "#fb9f3a"
             ],
             [
              0.8888888888888888,
              "#fdca26"
             ],
             [
              1,
              "#f0f921"
             ]
            ],
            "type": "heatmap"
           }
          ],
          "histogram": [
           {
            "marker": {
             "pattern": {
              "fillmode": "overlay",
              "size": 10,
              "solidity": 0.2
             }
            },
            "type": "histogram"
           }
          ],
          "histogram2d": [
           {
            "colorbar": {
             "outlinewidth": 0,
             "ticks": ""
            },
            "colorscale": [
             [
              0,
              "#0d0887"
             ],
             [
              0.1111111111111111,
              "#46039f"
             ],
             [
              0.2222222222222222,
              "#7201a8"
             ],
             [
              0.3333333333333333,
              "#9c179e"
             ],
             [
              0.4444444444444444,
              "#bd3786"
             ],
             [
              0.5555555555555556,
              "#d8576b"
             ],
             [
              0.6666666666666666,
              "#ed7953"
             ],
             [
              0.7777777777777778,
              "#fb9f3a"
             ],
             [
              0.8888888888888888,
              "#fdca26"
             ],
             [
              1,
              "#f0f921"
             ]
            ],
            "type": "histogram2d"
           }
          ],
          "histogram2dcontour": [
           {
            "colorbar": {
             "outlinewidth": 0,
             "ticks": ""
            },
            "colorscale": [
             [
              0,
              "#0d0887"
             ],
             [
              0.1111111111111111,
              "#46039f"
             ],
             [
              0.2222222222222222,
              "#7201a8"
             ],
             [
              0.3333333333333333,
              "#9c179e"
             ],
             [
              0.4444444444444444,
              "#bd3786"
             ],
             [
              0.5555555555555556,
              "#d8576b"
             ],
             [
              0.6666666666666666,
              "#ed7953"
             ],
             [
              0.7777777777777778,
              "#fb9f3a"
             ],
             [
              0.8888888888888888,
              "#fdca26"
             ],
             [
              1,
              "#f0f921"
             ]
            ],
            "type": "histogram2dcontour"
           }
          ],
          "mesh3d": [
           {
            "colorbar": {
             "outlinewidth": 0,
             "ticks": ""
            },
            "type": "mesh3d"
           }
          ],
          "parcoords": [
           {
            "line": {
             "colorbar": {
              "outlinewidth": 0,
              "ticks": ""
             }
            },
            "type": "parcoords"
           }
          ],
          "pie": [
           {
            "automargin": true,
            "type": "pie"
           }
          ],
          "scatter": [
           {
            "fillpattern": {
             "fillmode": "overlay",
             "size": 10,
             "solidity": 0.2
            },
            "type": "scatter"
           }
          ],
          "scatter3d": [
           {
            "line": {
             "colorbar": {
              "outlinewidth": 0,
              "ticks": ""
             }
            },
            "marker": {
             "colorbar": {
              "outlinewidth": 0,
              "ticks": ""
             }
            },
            "type": "scatter3d"
           }
          ],
          "scattercarpet": [
           {
            "marker": {
             "colorbar": {
              "outlinewidth": 0,
              "ticks": ""
             }
            },
            "type": "scattercarpet"
           }
          ],
          "scattergeo": [
           {
            "marker": {
             "colorbar": {
              "outlinewidth": 0,
              "ticks": ""
             }
            },
            "type": "scattergeo"
           }
          ],
          "scattergl": [
           {
            "marker": {
             "colorbar": {
              "outlinewidth": 0,
              "ticks": ""
             }
            },
            "type": "scattergl"
           }
          ],
          "scattermap": [
           {
            "marker": {
             "colorbar": {
              "outlinewidth": 0,
              "ticks": ""
             }
            },
            "type": "scattermap"
           }
          ],
          "scattermapbox": [
           {
            "marker": {
             "colorbar": {
              "outlinewidth": 0,
              "ticks": ""
             }
            },
            "type": "scattermapbox"
           }
          ],
          "scatterpolar": [
           {
            "marker": {
             "colorbar": {
              "outlinewidth": 0,
              "ticks": ""
             }
            },
            "type": "scatterpolar"
           }
          ],
          "scatterpolargl": [
           {
            "marker": {
             "colorbar": {
              "outlinewidth": 0,
              "ticks": ""
             }
            },
            "type": "scatterpolargl"
           }
          ],
          "scatterternary": [
           {
            "marker": {
             "colorbar": {
              "outlinewidth": 0,
              "ticks": ""
             }
            },
            "type": "scatterternary"
           }
          ],
          "surface": [
           {
            "colorbar": {
             "outlinewidth": 0,
             "ticks": ""
            },
            "colorscale": [
             [
              0,
              "#0d0887"
             ],
             [
              0.1111111111111111,
              "#46039f"
             ],
             [
              0.2222222222222222,
              "#7201a8"
             ],
             [
              0.3333333333333333,
              "#9c179e"
             ],
             [
              0.4444444444444444,
              "#bd3786"
             ],
             [
              0.5555555555555556,
              "#d8576b"
             ],
             [
              0.6666666666666666,
              "#ed7953"
             ],
             [
              0.7777777777777778,
              "#fb9f3a"
             ],
             [
              0.8888888888888888,
              "#fdca26"
             ],
             [
              1,
              "#f0f921"
             ]
            ],
            "type": "surface"
           }
          ],
          "table": [
           {
            "cells": {
             "fill": {
              "color": "#EBF0F8"
             },
             "line": {
              "color": "white"
             }
            },
            "header": {
             "fill": {
              "color": "#C8D4E3"
             },
             "line": {
              "color": "white"
             }
            },
            "type": "table"
           }
          ]
         },
         "layout": {
          "annotationdefaults": {
           "arrowcolor": "#2a3f5f",
           "arrowhead": 0,
           "arrowwidth": 1
          },
          "autotypenumbers": "strict",
          "coloraxis": {
           "colorbar": {
            "outlinewidth": 0,
            "ticks": ""
           }
          },
          "colorscale": {
           "diverging": [
            [
             0,
             "#8e0152"
            ],
            [
             0.1,
             "#c51b7d"
            ],
            [
             0.2,
             "#de77ae"
            ],
            [
             0.3,
             "#f1b6da"
            ],
            [
             0.4,
             "#fde0ef"
            ],
            [
             0.5,
             "#f7f7f7"
            ],
            [
             0.6,
             "#e6f5d0"
            ],
            [
             0.7,
             "#b8e186"
            ],
            [
             0.8,
             "#7fbc41"
            ],
            [
             0.9,
             "#4d9221"
            ],
            [
             1,
             "#276419"
            ]
           ],
           "sequential": [
            [
             0,
             "#0d0887"
            ],
            [
             0.1111111111111111,
             "#46039f"
            ],
            [
             0.2222222222222222,
             "#7201a8"
            ],
            [
             0.3333333333333333,
             "#9c179e"
            ],
            [
             0.4444444444444444,
             "#bd3786"
            ],
            [
             0.5555555555555556,
             "#d8576b"
            ],
            [
             0.6666666666666666,
             "#ed7953"
            ],
            [
             0.7777777777777778,
             "#fb9f3a"
            ],
            [
             0.8888888888888888,
             "#fdca26"
            ],
            [
             1,
             "#f0f921"
            ]
           ],
           "sequentialminus": [
            [
             0,
             "#0d0887"
            ],
            [
             0.1111111111111111,
             "#46039f"
            ],
            [
             0.2222222222222222,
             "#7201a8"
            ],
            [
             0.3333333333333333,
             "#9c179e"
            ],
            [
             0.4444444444444444,
             "#bd3786"
            ],
            [
             0.5555555555555556,
             "#d8576b"
            ],
            [
             0.6666666666666666,
             "#ed7953"
            ],
            [
             0.7777777777777778,
             "#fb9f3a"
            ],
            [
             0.8888888888888888,
             "#fdca26"
            ],
            [
             1,
             "#f0f921"
            ]
           ]
          },
          "colorway": [
           "#636efa",
           "#EF553B",
           "#00cc96",
           "#ab63fa",
           "#FFA15A",
           "#19d3f3",
           "#FF6692",
           "#B6E880",
           "#FF97FF",
           "#FECB52"
          ],
          "font": {
           "color": "#2a3f5f"
          },
          "geo": {
           "bgcolor": "white",
           "lakecolor": "white",
           "landcolor": "#E5ECF6",
           "showlakes": true,
           "showland": true,
           "subunitcolor": "white"
          },
          "hoverlabel": {
           "align": "left"
          },
          "hovermode": "closest",
          "mapbox": {
           "style": "light"
          },
          "paper_bgcolor": "white",
          "plot_bgcolor": "#E5ECF6",
          "polar": {
           "angularaxis": {
            "gridcolor": "white",
            "linecolor": "white",
            "ticks": ""
           },
           "bgcolor": "#E5ECF6",
           "radialaxis": {
            "gridcolor": "white",
            "linecolor": "white",
            "ticks": ""
           }
          },
          "scene": {
           "xaxis": {
            "backgroundcolor": "#E5ECF6",
            "gridcolor": "white",
            "gridwidth": 2,
            "linecolor": "white",
            "showbackground": true,
            "ticks": "",
            "zerolinecolor": "white"
           },
           "yaxis": {
            "backgroundcolor": "#E5ECF6",
            "gridcolor": "white",
            "gridwidth": 2,
            "linecolor": "white",
            "showbackground": true,
            "ticks": "",
            "zerolinecolor": "white"
           },
           "zaxis": {
            "backgroundcolor": "#E5ECF6",
            "gridcolor": "white",
            "gridwidth": 2,
            "linecolor": "white",
            "showbackground": true,
            "ticks": "",
            "zerolinecolor": "white"
           }
          },
          "shapedefaults": {
           "line": {
            "color": "#2a3f5f"
           }
          },
          "ternary": {
           "aaxis": {
            "gridcolor": "white",
            "linecolor": "white",
            "ticks": ""
           },
           "baxis": {
            "gridcolor": "white",
            "linecolor": "white",
            "ticks": ""
           },
           "bgcolor": "#E5ECF6",
           "caxis": {
            "gridcolor": "white",
            "linecolor": "white",
            "ticks": ""
           }
          },
          "title": {
           "x": 0.05
          },
          "xaxis": {
           "automargin": true,
           "gridcolor": "white",
           "linecolor": "white",
           "ticks": "",
           "title": {
            "standoff": 15
           },
           "zerolinecolor": "white",
           "zerolinewidth": 2
          },
          "yaxis": {
           "automargin": true,
           "gridcolor": "white",
           "linecolor": "white",
           "ticks": "",
           "title": {
            "standoff": 15
           },
           "zerolinecolor": "white",
           "zerolinewidth": 2
          }
         }
        },
        "title": {
         "text": "Distribution of Heights for Male Children Population"
        },
        "width": 800,
        "xaxis": {
         "anchor": "y",
         "domain": [
          0,
          1
         ],
         "title": {
          "text": "Height"
         }
        },
        "yaxis": {
         "anchor": "x",
         "domain": [
          0,
          1
         ],
         "title": {
          "text": "Frequency"
         }
        }
       }
      }
     },
     "metadata": {},
     "output_type": "display_data"
    }
   ],
   "source": [
    "# Create a histogram using Plotly\n",
    "fig = px.histogram(male_children, x='childHeight', nbins=30, title=\"Distribution of Heights for Male Children Population\")\n",
    "fig.update_layout(\n",
    "    xaxis_title='Height',\n",
    "    yaxis_title='Frequency',\n",
    "    width=800,\n",
    "    height=500\n",
    ")\n",
    "fig.update_traces(opacity=0.75, marker=dict(line_width=0.25, line_color=\"black\"))\n",
    "fig.show()"
   ]
  },
  {
   "cell_type": "markdown",
   "metadata": {},
   "source": [
    "To perform this analysis, we need to select a prior distribution, which is easy, and to compute the likelihood, which is not as easy. So first, let's see how we can get the likelihood.\n",
    "\n",
    "For this data, we will use a normal likelihood. For something like heights, using the normal distribution makes sense. For any individual sample $X$ if it follows the normal distribution with mean $\\mu$ and standard deviation $\\sigma$, then it probability density function is given by\n",
    "\n",
    "$$X \\sim N(\\mu, \\sigma) \\Rightarrow P(X | \\mu, \\sigma) = \\frac{1}{\\sqrt{2 \\pi \\sigma^2}} \\exp \\Bigg[ -\\frac{1}{2}\\big(\\frac{X - \\mu}{\\sigma}\\big)^2\\Bigg]$$\n",
    "\n",
    "For a sample ${X_1, X_2, \\cdots, X_n}$ of $n$ independent normally distributed observations has the following likelihood:\n",
    "\n",
    "$$P(X_1, X_2, \\cdots, X_n | \\mu, \\sigma) = \\prod_{i = 1}^n P(X_i | \\mu, \\sigma) = \\prod_{i=1}^n \\frac{1}{\\sqrt{2 \\pi \\sigma^2}} \\exp \\Bigg[ -\\frac{1}{2}\\big(\\frac{X_i - \\mu}{\\sigma}\\big)^2\\Bigg]$$\n",
    "\n",
    "Notice that we multiply the individual the probabilities to get the likelihood. We can do this because we assume that the data points are independent. This seems like a relatively safe assumption. \n",
    "\n",
    "Now let's simplify the above equation. We can simplify things by ignoring the terms outside the exponential, since they don't depend on the sample, and replacing $=$ (is equal to) with $\\propto$ (is proportional to):\n",
    "\n",
    "$$P(X_1, X_2, \\cdots, X_n | \\mu, \\sigma) \\propto \\prod_{i = 1}^n \\exp \\Bigg[ -\\frac{1}{2}\\big(\\frac{X_i - \\mu}{\\sigma}\\big)^2\\Bigg]$$\n",
    "\n",
    "Moreover, we can rely on the property $e^a e^b = e^{a + b}$ to rewrite the right-hand side as\n",
    "\n",
    "$$P(X_1, X_2, \\cdots, X_n | \\mu, \\sigma) \\propto \\exp \\Bigg[ -\\frac{1}{2} \\sum_{i = 1}^n \\big(\\frac{X_i - \\mu}{\\sigma}\\big)^2\\Bigg]$$\n",
    "\n",
    "Finally, letting $\\bar X = \\frac{1}{n}\\sum_{i=1}^n X_i$ we can rewrite $X_i - \\mu$ as $X_i - \\bar X + \\bar X - \\mu$ and after some rearranging we get this:\n",
    "\n",
    "$$P(X_1, X_2, \\cdots, X_n | \\mu, \\sigma) \\propto \\exp \\Bigg[ -\\frac{1}{2 \\sigma^2}  \\Bigg( \\sum_{i = 1}^n (X_i - \\bar{X})^2 + n(\\bar{X} - \\mu)^2 \\Bigg) \\Bigg]$$\n",
    "\n",
    "To simplify the computations here, we will only estimate the posterior distribution of $\\mu$. We will use a fixed empirical estimate of the standard deviation. A more complete analysis will also estimate the posterior distribution of $\\sigma$."
   ]
  },
  {
   "cell_type": "markdown",
   "metadata": {},
   "source": [
    "- Now your task is to write a function called `likelihood` that computes the likelihood as given by the above equation. The input of the function is `mu` (the parameter) and `x` (the data) and its output is the likelihood of the data given the parameter. You may find it helpful to use `np.exp` and `np.sum`. <span style=\"color:red\" float:right>[10 point]</span>"
   ]
  },
  {
   "cell_type": "code",
   "execution_count": 7,
   "metadata": {},
   "outputs": [],
   "source": [
    "def likelihood(data, mu):\n",
    "    n = len(data)\n",
    "    X_bar = np.mean(data)\n",
    "    sigma = np.std(data)\n",
    "    ext_const = -0.5 / sigma ** 2\n",
    "    # print(ext_const)\n",
    "    sum_squared_deviations = np.sum((data - X_bar) ** 2)\n",
    "    # print(sum_squared_deviations)\n",
    "    int_const = n * (X_bar - mu) ** 2\n",
    "    # print(int_const)\n",
    "    inter = ext_const * (sum_squared_deviations + int_const)\n",
    "    # print(inter)\n",
    "    exponent = np.exp(inter)\n",
    "    # print(exponent)\n",
    "    exponent = exponent / np.sum(exponent)\n",
    "    \n",
    "    return exponent\n",
    "\n",
    "def _normalize(data):\n",
    "    return data / data.sum()"
   ]
  },
  {
   "cell_type": "markdown",
   "metadata": {},
   "source": [
    "Now for the prior distribution, we will use a normal distribution centered at 70 with standard deviation 1. The code for the prior is already written. Examine it and make sure you understand each step."
   ]
  },
  {
   "cell_type": "code",
   "execution_count": 8,
   "metadata": {},
   "outputs": [],
   "source": [
    "N=1000\n",
    "mu = np.linspace(60, 80, num = N)\n",
    "prior_center = 70\n",
    "prior = scipy.stats.norm.pdf(mu, loc = prior_center, scale = 1)\n",
    "prior = prior / prior.sum() # normalize"
   ]
  },
  {
   "cell_type": "markdown",
   "metadata": {},
   "source": [
    "Now we're ready to compute the posterior for both mother and son.\n",
    "\n",
    "- Compute the posterior distribution for the sons (the column name is `childHeight`). You will need to compute the likelihood first. Then plot the prior, posterior and likelihood just like we did in class. <span style=\"color:red\" float:right>[10 point]</span>"
   ]
  },
  {
   "cell_type": "code",
   "execution_count": 9,
   "metadata": {},
   "outputs": [
    {
     "data": {
      "application/vnd.plotly.v1+json": {
       "config": {
        "plotlyServerURL": "https://plot.ly"
       },
       "data": [
        {
         "line": {
          "color": "lightgrey",
          "width": 10
         },
         "mode": "lines",
         "name": "likelihood",
         "type": "scatter",
         "x": {
          "bdata": "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",
          "dtype": "f8"
         },
         "y": {
          "bdata": "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",
          "dtype": "f8"
         }
        },
        {
         "line": {
          "color": "blue",
          "width": 2
         },
         "mode": "lines",
         "name": "prior",
         "type": "scatter",
         "x": {
          "bdata": "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",
          "dtype": "f8"
         },
         "y": {
          "bdata": "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",
          "dtype": "f8"
         }
        },
        {
         "line": {
          "color": "red",
          "width": 2
         },
         "mode": "lines",
         "name": "posterior",
         "type": "scatter",
         "x": {
          "bdata": "AAAAAAAATkApoBkEkAJOQFJAMwggBU5Ae+BMDLAHTkCkgGYQQApOQM0ggBTQDE5A9sCZGGAPTkAfYbMc8BFOQEgBzSCAFE5AcaHmJBAXTkCaQQApoBlOQMPhGS0wHE5A7IEzMcAeTkAVIk01UCFOQD7CZjngI05AZ2KAPXAmTkCQAppBAClOQLmis0WQK05A4kLNSSAuTkAL4+ZNsDBOQDSDAFJAM05AXSMaVtA1TkCGwzNaYDhOQK9jTV7wOk5A2ANnYoA9TkABpIBmEEBOQCpEmmqgQk5AU+SzbjBFTkB8hM1ywEdOQKUk53ZQSk5AzsQAe+BMTkD3ZBp/cE9OQCAFNIMAUk5ASaVNh5BUTkByRWeLIFdOQJvlgI+wWU5AxIWak0BcTkDtJbSX0F5OQBbGzZtgYU5AP2bnn/BjTkBoBgGkgGZOQJGmGqgQaU5AukY0rKBrTkDj5k2wMG5OQAyHZ7TAcE5ANSeBuFBzTkBex5q84HVOQIdntMBweE5AsAfOxAB7TkDZp+fIkH1OQAJIAc0ggE5AK+ga0bCCTkBUiDTVQIVOQH0oTtnQh05Apshn3WCKTkDPaIHh8IxOQPgIm+WAj05AIam06RCSTkBKSc7toJROQHPp5/Ewl05AnIkB9sCZTkDFKRv6UJxOQO7JNP7gnk5AF2pOAnGhTkBACmgGAaROQGmqgQqRpk5AkkqbDiGpTkC76rQSsatOQOSKzhZBrk5ADSvoGtGwTkA2ywEfYbNOQF9rGyPxtU5AiAs1J4G4TkCxq04rEbtOQNpLaC+hvU5AA+yBMzHATkAsjJs3wcJOQFUstTtRxU5AfszOP+HHTkCnbOhDccpOQNAMAkgBzU5A+awbTJHPTkAiTTVQIdJOQEvtTlSx1E5AdI1oWEHXTkCdLYJc0dlOQMbNm2Bh3E5A7221ZPHeTkAYDs9ogeFOQEGu6GwR5E5Aak4CcaHmTkCT7ht1MelOQLyONXnB605A5S5PfVHuTkAOz2iB4fBOQDdvgoVx805AYA+ciQH2TkCJr7WNkfhOQLJPz5Eh+05A2+/olbH9TkAEkAKaQQBPQC0wHJ7RAk9AVtA1omEFT0B/cE+m8QdPQKgQaaqBCk9A0bCCrhENT0D6UJyyoQ9PQCPxtbYxEk9ATJHPusEUT0B1Mem+URdPQJ7RAsPhGU9Ax3Ecx3EcT0DwETbLAR9PQBmyT8+RIU9AQlJp0yEkT0Br8oLXsSZPQJSSnNtBKU9AvTK239ErT0Dm0s/jYS5PQA9z6efxME9AOBMD7IEzT0BhsxzwETZPQIpTNvShOE9As/NP+DE7T0Dck2n8wT1PQAU0gwBSQE9ALtScBOJCT0BXdLYIckVPQIAU0AwCSE9AqbTpEJJKT0DSVAMVIk1PQPv0HBmyT09AJJU2HUJST0BNNVAh0lRPQHbVaSViV09An3WDKfJZT0DIFZ0tglxPQPG1tjESX09AGlbQNaJhT0BD9uk5MmRPQGyWAz7CZk9AlTYdQlJpT0C+1jZG4mtPQOd2UEpybk9AEBdqTgJxT0A5t4NSknNPQGJXnVYidk9Ai/e2WrJ4T0C0l9BeQntPQN036mLSfU9ABtgDZ2KAT0AveB1r8oJPQFgYN2+ChU9AgbhQcxKIT0CqWGp3oopPQNP4g3syjU9A/Jidf8KPT0AlObeDUpJPQE7Z0IfilE9Ad3nqi3KXT0CgGQSQAppPQMm5HZSSnE9A8lk3mCKfT0Ab+lCcsqFPQESaaqBCpE9AbTqEpNKmT0CW2p2oYqlPQL96t6zyq09A6BrRsIKuT0ARu+q0ErFPQDpbBLmis09AY/sdvTK2T0CMmzfBwrhPQLU7UcVSu09A3ttqyeK9T0AHfITNcsBPQDAcntECw09AWby31ZLFT0CCXNHZIshPQKv86t2yyk9A1JwE4kLNT0D9PB7m0s9PQCbdN+pi0k9AT31R7vLUT0B4HWvygtdPQKG9hPYS2k9Ayl2e+qLcT0Dz/bf+Mt9PQBye0QLD4U9ART7rBlPkT0Bu3gQL4+ZPQJd+Hg9z6U9AwB44EwPsT0DpvlEXk+5PQBJfaxsj8U9AO/+EH7PzT0Bkn54jQ/ZPQI0/uCfT+E9Att/RK2P7T0Dff+sv8/1PQASQAppBAFBAGWAPnIkBUEAtMBye0QJQQEIAKaAZBFBAVtA1omEFUEBroEKkqQZQQH9wT6bxB1BAlEBcqDkJUECoEGmqgQpQQL3gdazJC1BA0bCCrhENUEDmgI+wWQ5QQPpQnLKhD1BADyGptOkQUEAj8bW2MRJQQDjBwrh5E1BATJHPusEUUEBhYdy8CRZQQHUx6b5RF1BAigH2wJkYUECe0QLD4RlQQLOhD8UpG1BAx3Ecx3EcUEDcQSnJuR1QQPARNssBH1BABeJCzUkgUEAZsk/PkSFQQC6CXNHZIlBAQlJp0yEkUEBXInbVaSVQQGvygtexJlBAgMKP2fknUECUkpzbQSlQQKliqd2JKlBAvTK239ErUEDSAsPhGS1QQObSz+NhLlBA+6Lc5akvUEAPc+nn8TBQQCRD9uk5MlBAOBMD7IEzUEBN4w/uyTRQQGGzHPARNlBAdoMp8lk3UECKUzb0oThQQJ8jQ/bpOVBAs/NP+DE7UEDIw1z6eTxQQNyTafzBPVBA8WN2/gk/UEAFNIMAUkBQQBoEkAKaQVBALtScBOJCUEBDpKkGKkRQQFd0tghyRVBAbETDCrpGUECAFNAMAkhQQJXk3A5KSVBAqbTpEJJKUEC+hPYS2ktQQNJUAxUiTVBA5yQQF2pOUED79BwZsk9QQBDFKRv6UFBAJJU2HUJSUEA5ZUMfilNQQE01UCHSVFBAYgVdIxpWUEB21WklYldQQIuldieqWFBAn3WDKfJZUEC0RZArOltQQMgVnS2CXFBA3eWpL8pdUEDxtbYxEl9QQAaGwzNaYFBAGlbQNaJhUEAvJt036mJQQEP26TkyZFBAWMb2O3plUEBslgM+wmZQQIFmEEAKaFBAlTYdQlJpUECqBipEmmpQQL7WNkbia1BA06ZDSCptUEDndlBKcm5QQPxGXUy6b1BAEBdqTgJxUEAl53ZQSnJQQDm3g1KSc1BAToeQVNp0UEBiV51WInZQQHcnqlhqd1BAi/e2WrJ4UECgx8Nc+nlQQLSX0F5Ce1BAyWfdYIp8UEDdN+pi0n1QQPIH92Qaf1BABtgDZ2KAUEAbqBBpqoFQQC94HWvyglBAREgqbTqEUEBYGDdvgoVQQG3oQ3HKhlBAgbhQcxKIUECWiF11WolQQKpYaneiilBAvyh3eeqLUEDT+IN7Mo1QQOjIkH16jlBA/Jidf8KPUEARaaqBCpFQQCU5t4NSklBAOgnEhZqTUEBO2dCH4pRQQGOp3YkqllBAd3nqi3KXUECMSfeNuphQQKAZBJACmlBAtekQkkqbUEDJuR2UkpxQQN6JKpbanVBA8lk3mCKfUEAHKkSaaqBQQBv6UJyyoVBAMMpdnvqiUEBEmmqgQqRQQFlqd6KKpVBAbTqEpNKmUECCCpGmGqhQQJbanahiqVBAq6qqqqqqUEC/eres8qtQQNRKxK46rVBA6BrRsIKuUED96t2yyq9QQBG76rQSsVBAJov3tlqyUEA6WwS5orNQQE8rEbvqtFBAY/sdvTK2UEB4yyq/erdQQIybN8HCuFBAoWtEwwq6UEC1O1HFUrtQQMoLXseavFBA3ttqyeK9UEDzq3fLKr9QQAd8hM1ywFBAHEyRz7rBUEAwHJ7RAsNQQEXsqtNKxFBAWby31ZLFUEBujMTX2sZQQIJc0dkiyFBAlyze22rJUECr/OrdsspQQMDM99/6y1BA1JwE4kLNUEDpbBHkis5QQP08HubSz1BAEg0r6BrRUEAm3TfqYtJQQDutROyq01BAT31R7vLUUEBkTV7wOtZQQHgda/KC11BAje139MrYUEChvYT2EtpQQLaNkfha21BAyl2e+qLcUEDfLav86t1QQPP9t/4y31BACM7EAHvgUEAcntECw+FQQDFu3gQL41BART7rBlPkUEBaDvgIm+VQQG7eBAvj5lBAg64RDSvoUECXfh4Pc+lQQKxOKxG76lBAwB44EwPsUEDV7kQVS+1QQOm+UReT7lBA/o5eGdvvUEASX2sbI/FQQCcveB1r8lBAO/+EH7PzUEBQz5Eh+/RQQGSfniND9lBAeW+rJYv3UECNP7gn0/hQQKIPxSkb+lBAtt/RK2P7UEDLr94tq/xQQN9/6y/z/VBA9E/4MTv/UEAIIAU0gwBRQB3wETbLAVFAMcAeOBMDUUBGkCs6WwRRQFpgODyjBVFAbzBFPusGUUCDAFJAMwhRQJjQXkJ7CVFArKBrRMMKUUDBcHhGCwxRQNVAhUhTDVFA6hCSSpsOUUD+4J5M4w9RQBOxq04rEVFAJ4G4UHMSUUA8UcVSuxNRQFAh0lQDFVFAZfHeVksWUUB5wetYkxdRQI6R+FrbGFFAomEFXSMaUUC3MRJfaxtRQMsBH2GzHFFA4NErY/sdUUD0oThlQx9RQAlyRWeLIFFAHUJSadMhUUAyEl9rGyNRQEbia21jJFFAW7J4b6slUUBvgoVx8yZRQIRSknM7KFFAmCKfdYMpUUCt8qt3yypRQMHCuHkTLFFA1pLFe1stUUDqYtJ9oy5RQP8y33/rL1FAEwPsgTMxUUAo0/iDezJRQDyjBYbDM1FAUXMSiAs1UUBlQx+KUzZRQHoTLIybN1FAjuM4juM4UUCjs0WQKzpRQLeDUpJzO1FAzFNflLs8UUDgI2yWAz5RQPXzeJhLP1FACcSFmpNAUUAelJKc20FRQDJkn54jQ1FARzSsoGtEUUBbBLmis0VRQHDUxaT7RlFAhKTSpkNIUUCZdN+oi0lRQK1E7KrTSlFAwhT5rBtMUUDW5AWvY01RQOu0ErGrTlFA/4Qfs/NPUUAUVSy1O1FRQCglObeDUlFAPfVFuctTUUBRxVK7E1VRQGaVX71bVlFAemVsv6NXUUCPNXnB61hRQKMFhsMzWlFAuNWSxXtbUUDMpZ/Hw1xRQOF1rMkLXlFA9UW5y1NfUUAKFsbNm2BRQB7m0s/jYVFAM7bf0StjUUBHhuzTc2RRQFxW+dW7ZVFAcCYG2ANnUUCF9hLaS2hRQJnGH9yTaVFArpYs3ttqUUDCZjngI2xRQNc2RuJrbVFA6wZT5LNuUUAA11/m+29RQBSnbOhDcVFAKXd56otyUUA9R4bs03NRQFIXk+4bdVFAZuef8GN2UUB7t6zyq3dRQI+HufTzeFFApFfG9jt6UUC4J9P4g3tRQM333/rLfFFA4cfs/BN+UUD2l/n+W39RQApoBgGkgFFAHzgTA+yBUUAzCCAFNINRQEjYLAd8hFFAXKg5CcSFUUBxeEYLDIdRQIVIUw1UiFFAmhhgD5yJUUCu6GwR5IpRQMO4eRMsjFFA14iGFXSNUUDsWJMXvI5RQAApoBkEkFFAFfmsG0yRUUApybkdlJJRQD6Zxh/ck1FAUmnTISSVUUBnOeAjbJZRQHsJ7SW0l1FAkNn5J/yYUUCkqQYqRJpRQLl5EyyMm1FAzUkgLtScUUDiGS0wHJ5RQPbpOTJkn1FAC7pGNKygUUAfilM29KFRQDRaYDg8o1FASCptOoSkUUBd+nk8zKVRQHHKhj4Up1FAhpqTQFyoUUCaaqBCpKlRQK86rUTsqlFAwwq6RjSsUUDY2sZIfK1RQOyq00rErlFAAXvgTAywUUAVS+1OVLFRQCob+lCcslFAPusGU+SzUUBTuxNVLLVRQGeLIFd0tlFAfFstWby3UUCQKzpbBLlRQKX7Rl1MulFAuctTX5S7UUDOm2Bh3LxRQOJrbWMkvlFA9zt6ZWy/UUALDIdntMBRQCDck2n8wVFANKyga0TDUUBJfK1tjMRRQF1Mum/UxVFAchzHcRzHUUCG7NNzZMhRQJu84HWsyVFAr4ztd/TKUUDEXPp5PMxRQNgsB3yEzVFA7fwTfszOUUABzSCAFNBRQBadLYJc0VFAKm06hKTSUUA/PUeG7NNRQFMNVIg01VFAaN1ginzWUUB8rW2MxNdRQJF9eo4M2VFApU2HkFTaUUC6HZSSnNtRQM7toJTk3FFA472tlizeUUD3jbqYdN9RQAxex5q84FFAIC7UnATiUUA1/uCeTONRQEnO7aCU5FFAXp76otzlUUBybgelJOdRQIc+FKds6FFAmw4hqbTpUUCw3i2r/OpRQMSuOq1E7FFA2X5Hr4ztUUDtTlSx1O5RQAIfYbMc8FFAFu9ttWTxUUArv3q3rPJRQD+Ph7n081FAVF+Uuzz1UUBoL6G9hPZRQH3/rb/M91FAkc+6wRT5UUCmn8fDXPpRQLpv1MWk+1FAzz/hx+z8UUDjD+7JNP5RQPjf+st8/1FADLAHzsQAUkAhgBTQDAJSQDVQIdJUA1JASiAu1JwEUkBe8DrW5AVSQHPAR9gsB1JAh5BU2nQIUkCcYGHcvAlSQLAwbt4EC1JAxQB74EwMUkDZ0IfilA1SQO6glOTcDlJAAnGh5iQQUkAXQa7obBFSQCsRu+q0ElJAQOHH7PwTUkBUsdTuRBVSQGmB4fCMFlJAfVHu8tQXUkCSIfv0HBlSQKbxB/dkGlJAu8EU+awbUkDPkSH79BxSQORhLv08HlJA+DE7/4QfUkANAkgBzSBSQCHSVAMVIlJANqJhBV0jUkBKcm4HpSRSQF9CewntJVJAcxKICzUnUkCI4pQNfShSQJyyoQ/FKVJAsYKuEQ0rUkDFUrsTVSxSQNoiyBWdLVJA7vLUF+UuUkADw+EZLTBSQBeT7ht1MVJALGP7Hb0yUkBAMwggBTRSQFUDFSJNNVJAadMhJJU2UkB+oy4m3TdSQJJzOyglOVJAp0NIKm06UkC7E1UstTtSQNDjYS79PFJA5LNuMEU+UkD5g3syjT9SQA1UiDTVQFJAIiSVNh1CUkA29KE4ZUNSQEvErjqtRFJAX5S7PPVFUkB0ZMg+PUdSQIg01UCFSFJAnQTiQs1JUkCx1O5EFUtSQMak+0ZdTFJA2nQISaVNUkDvRBVL7U5SQAMVIk01UFJAGOUuT31RUkAstTtRxVJSQEGFSFMNVFJAVVVVVVVVUkBqJWJXnVZSQH71blnlV1JAk8V7Wy1ZUkCnlYhddVpSQLxllV+9W1JA0DWiYQVdUkDlBa9jTV5SQPnVu2WVX1JADqbIZ91gUkAidtVpJWJSQDdG4mttY1JASxbvbbVkUkBg5vtv/WVSQHS2CHJFZ1JAiYYVdI1oUkCdViJ21WlSQLImL3gda1JAxvY7emVsUkDbxkh8rW1SQO+WVX71blJABGdigD1wUkAYN2+ChXFSQC0HfITNclJAQdeIhhV0UkBWp5WIXXVSQGp3ooqldlJAf0evjO13UkCTF7yONXlSQKjnyJB9elJAvLfVksV7UkDRh+KUDX1SQOVX75ZVflJA+if8mJ1/UkAO+Aib5YBSQCPIFZ0tglJAN5gin3WDUkBMaC+hvYRSQGA4PKMFhlJAdQhJpU2HUkCJ2FWnlYhSQJ6oYqndiVJAsnhvqyWLUkDHSHytbYxSQNsYia+1jVJA8OiVsf2OUkAEuaKzRZBSQBmJr7WNkVJALVm8t9WSUkBCKcm5HZRSQFb51btllVJAa8niva2WUkB/me+/9ZdSQJRp/ME9mVJAqDkJxIWaUkC9CRbGzZtSQNHZIsgVnVJA5qkvyl2eUkD6eTzMpZ9SQA9KSc7toFJAIxpW0DWiUkA46mLSfaNSQEy6b9TFpFJAYYp81g2mUkB1WonYVadSQIoqltqdqFJAnvqi3OWpUkCzyq/eLatSQMeavOB1rFJA3GrJ4r2tUkDwOtbkBa9SQAUL4+ZNsFJAGdvv6JWxUkAuq/zq3bJSQEJ7Ce0ltFJAV0sW7221UkBrGyPxtbZSQIDrL/P9t1JAlLs89UW5UkCpi0n3jbpSQL1bVvnVu1JA0itj+x29UkDm+2/9Zb5SQPvLfP+tv1JAD5yJAfbAUkAkbJYDPsJSQDg8owWGw1JATQywB87EUkBh3LwJFsZSQHasyQtex1JAinzWDabIUkCfTOMP7slSQLMc8BE2y1JAyOz8E37MUkDcvAkWxs1SQPGMFhgOz1JABV0jGlbQUkAaLTAcntFSQC79PB7m0lJAQ81JIC7UUkBXnVYidtVSQGxtYyS+1lJAgD1wJgbYUkCVDX0oTtlSQKndiSqW2lJAvq2WLN7bUkDSfaMuJt1SQOdNsDBu3lJA+x29MrbfUkAQ7sk0/uBSQCS+1jZG4lJAOY7jOI7jUkBNXvA61uRSQGIu/Twe5lJAdv4JP2bnUkCLzhZBruhSQJ+eI0P26VJAtG4wRT7rUkDIPj1HhuxSQN0OSknO7VJA8d5WSxbvUkAGr2NNXvBSQBp/cE+m8VJAL099Ue7yUkBDH4pTNvRSQFjvllV+9VJAbL+jV8b2UkCBj7BZDvhSQJVfvVtW+VJAqi/KXZ76UkC+/9Zf5vtSQNPP42Eu/VJA55/wY3b+UkD8b/1lvv9SQBBACmgGAVNAJRAXak4CU0A64CNslgNTQE6wMG7eBFNAYoA9cCYGU0B3UEpybgdTQIwgV3S2CFNAoPBjdv4JU0C0wHB4RgtTQMmQfXqODFNA3mCKfNYNU0DyMJd+Hg9TQAYBpIBmEFNAG9Gwgq4RU0Awob2E9hJTQERxyoY+FFNAWEHXiIYVU0BtEeSKzhZTQILh8IwWGFNAlrH9jl4ZU0CqgQqRphpTQL9RF5PuG1NA1CEklTYdU0Do8TCXfh5TQPzBPZnGH1NAEZJKmw4hU0AmYledViJTQDoyZJ+eI1NATgJxoeYkU0Bj0n2jLiZTQHiiiqV2J1NAjHKXp74oU0CgQqSpBipTQLUSsatOK1NAyuK9rZYsU0Dessqv3i1TQPKC17EmL1NAB1Pks24wU0AcI/G1tjFTQDDz/bf+MlNARMMKukY0U0BZkxe8jjVTQG5jJL7WNlNAgjMxwB44U0CWAz7CZjlTQKvTSsSuOlNAwKNXxvY7U0DUc2TIPj1TQOhDccqGPlNA/RN+zM4/U0AS5IrOFkFTQCa0l9BeQlNAOoSk0qZDU0BPVLHU7kRTQGQkvtY2RlNAePTK2H5HU0CMxNfaxkhTQKGU5NwOSlNAtmTx3lZLU0DKNP7gnkxTQN4EC+PmTVNA89QX5S5PU0AIpSTndlBTQBx1Mem+UVNAMEU+6wZTU0BFFUvtTlRTQFrlV++WVVNAbrVk8d5WU0CChXHzJlhTQJdVfvVuWVNArCWL97ZaU0DA9Zf5/ltTQNTFpPtGXVNA6ZWx/Y5eU0D+Zb7/1l9TQBI2ywEfYVNAJgbYA2diU0A71uQFr2NTQFCm8Qf3ZFNAZHb+CT9mU0B4RgsMh2dTQI0WGA7PaFNAouYkEBdqU0C2tjESX2tTQMqGPhSnbFNA31ZLFu9tU0D0JlgYN29TQAj3ZBp/cFNAHMdxHMdxU0Axl34eD3NTQEZniyBXdFNAWjeYIp91U0BuB6Uk53ZTQIPXsSYveFNAmKe+KHd5U0Csd8sqv3pTQMBH2CwHfFNA1RflLk99U0Dq5/Ewl35TQP63/jLff1NAEogLNSeBU0AnWBg3b4JTQDwoJTm3g1NAUPgxO/+EU0BkyD49R4ZTQHmYSz+Ph1NAjmhYQdeIU0CiOGVDH4pTQLYIckVni1NAy9h+R6+MU0DgqItJ941TQPR4mEs/j1NACEmlTYeQU0AdGbJPz5FTQDLpvlEXk1NARrnLU1+UU0BaidhVp5VTQG9Z5VfvllNAhCnyWTeYU0CY+f5bf5lTQKzJC17HmlNAwZkYYA+cU0DWaSViV51TQOo5MmSfnlNA/gk/ZuefU0AT2ktoL6FTQCiqWGp3olNAPHplbL+jU0BQSnJuB6VTQGUaf3BPplNAeuqLcpenU0COuph036hTQKKKpXYnqlNAt1qyeG+rU0DMKr96t6xTQOD6y3z/rVNA9MrYfkevU0AJm+WAj7BTQB5r8oLXsVNAMjv/hB+zU0BGCwyHZ7RTQFvbGImvtVNAcKsli/e2U0CEezKNP7hTQJhLP4+HuVNArRtMkc+6U0DC61iTF7xTQNa7ZZVfvVNA6otyl6e+U0D/W3+Z779TQBQsjJs3wVNAKPyYnX/CU0A8zKWfx8NTQFGcsqEPxVNAZmy/o1fGU0B6PMyln8dTQI4M2afnyFNAo9zlqS/KU0C4rPKrd8tTQMx8/62/zFNA4EwMsAfOU0D1HBmyT89TQArtJbSX0FNAHr0ytt/RU0AyjT+4J9NTQEddTLpv1FNAXC1ZvLfVU0Bw/WW+/9ZTQITNcsBH2FNAmZ1/wo/ZU0CubYzE19pTQMI9mcYf3FNA1g2myGfdU0Dr3bLKr95TQACuv8z331NAFH7Mzj/hU0AoTtnQh+JTQD0e5tLP41NAUu7y1BflU0Bmvv/WX+ZTQHqODNmn51NAj14Z2+/oU0CkLibdN+pTQLj+Mt9/61NAzM4/4cfsU0DhnkzjD+5TQPZuWeVX71NACj9m55/wU0AeD3Pp5/FTQDPff+sv81NASK+M7Xf0U0Bcf5nvv/VTQHBPpvEH91NAhR+z80/4U0Ca77/1l/lTQK6/zPff+lNAwo/Z+Sf8U0DXX+b7b/1TQOwv8/23/lNAAAAAAAAAVEA=",
          "dtype": "f8"
         },
         "y": {
          "bdata": "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",
          "dtype": "f8"
         }
        }
       ],
       "layout": {
        "legend": {
         "title": {
          "text": "Distributions"
         }
        },
        "template": {
         "data": {
          "bar": [
           {
            "error_x": {
             "color": "#2a3f5f"
            },
            "error_y": {
             "color": "#2a3f5f"
            },
            "marker": {
             "line": {
              "color": "#E5ECF6",
              "width": 0.5
             },
             "pattern": {
              "fillmode": "overlay",
              "size": 10,
              "solidity": 0.2
             }
            },
            "type": "bar"
           }
          ],
          "barpolar": [
           {
            "marker": {
             "line": {
              "color": "#E5ECF6",
              "width": 0.5
             },
             "pattern": {
              "fillmode": "overlay",
              "size": 10,
              "solidity": 0.2
             }
            },
            "type": "barpolar"
           }
          ],
          "carpet": [
           {
            "aaxis": {
             "endlinecolor": "#2a3f5f",
             "gridcolor": "white",
             "linecolor": "white",
             "minorgridcolor": "white",
             "startlinecolor": "#2a3f5f"
            },
            "baxis": {
             "endlinecolor": "#2a3f5f",
             "gridcolor": "white",
             "linecolor": "white",
             "minorgridcolor": "white",
             "startlinecolor": "#2a3f5f"
            },
            "type": "carpet"
           }
          ],
          "choropleth": [
           {
            "colorbar": {
             "outlinewidth": 0,
             "ticks": ""
            },
            "type": "choropleth"
           }
          ],
          "contour": [
           {
            "colorbar": {
             "outlinewidth": 0,
             "ticks": ""
            },
            "colorscale": [
             [
              0,
              "#0d0887"
             ],
             [
              0.1111111111111111,
              "#46039f"
             ],
             [
              0.2222222222222222,
              "#7201a8"
             ],
             [
              0.3333333333333333,
              "#9c179e"
             ],
             [
              0.4444444444444444,
              "#bd3786"
             ],
             [
              0.5555555555555556,
              "#d8576b"
             ],
             [
              0.6666666666666666,
              "#ed7953"
             ],
             [
              0.7777777777777778,
              "#fb9f3a"
             ],
             [
              0.8888888888888888,
              "#fdca26"
             ],
             [
              1,
              "#f0f921"
             ]
            ],
            "type": "contour"
           }
          ],
          "contourcarpet": [
           {
            "colorbar": {
             "outlinewidth": 0,
             "ticks": ""
            },
            "type": "contourcarpet"
           }
          ],
          "heatmap": [
           {
            "colorbar": {
             "outlinewidth": 0,
             "ticks": ""
            },
            "colorscale": [
             [
              0,
              "#0d0887"
             ],
             [
              0.1111111111111111,
              "#46039f"
             ],
             [
              0.2222222222222222,
              "#7201a8"
             ],
             [
              0.3333333333333333,
              "#9c179e"
             ],
             [
              0.4444444444444444,
              "#bd3786"
             ],
             [
              0.5555555555555556,
              "#d8576b"
             ],
             [
              0.6666666666666666,
              "#ed7953"
             ],
             [
              0.7777777777777778,
              "#fb9f3a"
             ],
             [
              0.8888888888888888,
              "#fdca26"
             ],
             [
              1,
              "#f0f921"
             ]
            ],
            "type": "heatmap"
           }
          ],
          "histogram": [
           {
            "marker": {
             "pattern": {
              "fillmode": "overlay",
              "size": 10,
              "solidity": 0.2
             }
            },
            "type": "histogram"
           }
          ],
          "histogram2d": [
           {
            "colorbar": {
             "outlinewidth": 0,
             "ticks": ""
            },
            "colorscale": [
             [
              0,
              "#0d0887"
             ],
             [
              0.1111111111111111,
              "#46039f"
             ],
             [
              0.2222222222222222,
              "#7201a8"
             ],
             [
              0.3333333333333333,
              "#9c179e"
             ],
             [
              0.4444444444444444,
              "#bd3786"
             ],
             [
              0.5555555555555556,
              "#d8576b"
             ],
             [
              0.6666666666666666,
              "#ed7953"
             ],
             [
              0.7777777777777778,
              "#fb9f3a"
             ],
             [
              0.8888888888888888,
              "#fdca26"
             ],
             [
              1,
              "#f0f921"
             ]
            ],
            "type": "histogram2d"
           }
          ],
          "histogram2dcontour": [
           {
            "colorbar": {
             "outlinewidth": 0,
             "ticks": ""
            },
            "colorscale": [
             [
              0,
              "#0d0887"
             ],
             [
              0.1111111111111111,
              "#46039f"
             ],
             [
              0.2222222222222222,
              "#7201a8"
             ],
             [
              0.3333333333333333,
              "#9c179e"
             ],
             [
              0.4444444444444444,
              "#bd3786"
             ],
             [
              0.5555555555555556,
              "#d8576b"
             ],
             [
              0.6666666666666666,
              "#ed7953"
             ],
             [
              0.7777777777777778,
              "#fb9f3a"
             ],
             [
              0.8888888888888888,
              "#fdca26"
             ],
             [
              1,
              "#f0f921"
             ]
            ],
            "type": "histogram2dcontour"
           }
          ],
          "mesh3d": [
           {
            "colorbar": {
             "outlinewidth": 0,
             "ticks": ""
            },
            "type": "mesh3d"
           }
          ],
          "parcoords": [
           {
            "line": {
             "colorbar": {
              "outlinewidth": 0,
              "ticks": ""
             }
            },
            "type": "parcoords"
           }
          ],
          "pie": [
           {
            "automargin": true,
            "type": "pie"
           }
          ],
          "scatter": [
           {
            "fillpattern": {
             "fillmode": "overlay",
             "size": 10,
             "solidity": 0.2
            },
            "type": "scatter"
           }
          ],
          "scatter3d": [
           {
            "line": {
             "colorbar": {
              "outlinewidth": 0,
              "ticks": ""
             }
            },
            "marker": {
             "colorbar": {
              "outlinewidth": 0,
              "ticks": ""
             }
            },
            "type": "scatter3d"
           }
          ],
          "scattercarpet": [
           {
            "marker": {
             "colorbar": {
              "outlinewidth": 0,
              "ticks": ""
             }
            },
            "type": "scattercarpet"
           }
          ],
          "scattergeo": [
           {
            "marker": {
             "colorbar": {
              "outlinewidth": 0,
              "ticks": ""
             }
            },
            "type": "scattergeo"
           }
          ],
          "scattergl": [
           {
            "marker": {
             "colorbar": {
              "outlinewidth": 0,
              "ticks": ""
             }
            },
            "type": "scattergl"
           }
          ],
          "scattermap": [
           {
            "marker": {
             "colorbar": {
              "outlinewidth": 0,
              "ticks": ""
             }
            },
            "type": "scattermap"
           }
          ],
          "scattermapbox": [
           {
            "marker": {
             "colorbar": {
              "outlinewidth": 0,
              "ticks": ""
             }
            },
            "type": "scattermapbox"
           }
          ],
          "scatterpolar": [
           {
            "marker": {
             "colorbar": {
              "outlinewidth": 0,
              "ticks": ""
             }
            },
            "type": "scatterpolar"
           }
          ],
          "scatterpolargl": [
           {
            "marker": {
             "colorbar": {
              "outlinewidth": 0,
              "ticks": ""
             }
            },
            "type": "scatterpolargl"
           }
          ],
          "scatterternary": [
           {
            "marker": {
             "colorbar": {
              "outlinewidth": 0,
              "ticks": ""
             }
            },
            "type": "scatterternary"
           }
          ],
          "surface": [
           {
            "colorbar": {
             "outlinewidth": 0,
             "ticks": ""
            },
            "colorscale": [
             [
              0,
              "#0d0887"
             ],
             [
              0.1111111111111111,
              "#46039f"
             ],
             [
              0.2222222222222222,
              "#7201a8"
             ],
             [
              0.3333333333333333,
              "#9c179e"
             ],
             [
              0.4444444444444444,
              "#bd3786"
             ],
             [
              0.5555555555555556,
              "#d8576b"
             ],
             [
              0.6666666666666666,
              "#ed7953"
             ],
             [
              0.7777777777777778,
              "#fb9f3a"
             ],
             [
              0.8888888888888888,
              "#fdca26"
             ],
             [
              1,
              "#f0f921"
             ]
            ],
            "type": "surface"
           }
          ],
          "table": [
           {
            "cells": {
             "fill": {
              "color": "#EBF0F8"
             },
             "line": {
              "color": "white"
             }
            },
            "header": {
             "fill": {
              "color": "#C8D4E3"
             },
             "line": {
              "color": "white"
             }
            },
            "type": "table"
           }
          ]
         },
         "layout": {
          "annotationdefaults": {
           "arrowcolor": "#2a3f5f",
           "arrowhead": 0,
           "arrowwidth": 1
          },
          "autotypenumbers": "strict",
          "coloraxis": {
           "colorbar": {
            "outlinewidth": 0,
            "ticks": ""
           }
          },
          "colorscale": {
           "diverging": [
            [
             0,
             "#8e0152"
            ],
            [
             0.1,
             "#c51b7d"
            ],
            [
             0.2,
             "#de77ae"
            ],
            [
             0.3,
             "#f1b6da"
            ],
            [
             0.4,
             "#fde0ef"
            ],
            [
             0.5,
             "#f7f7f7"
            ],
            [
             0.6,
             "#e6f5d0"
            ],
            [
             0.7,
             "#b8e186"
            ],
            [
             0.8,
             "#7fbc41"
            ],
            [
             0.9,
             "#4d9221"
            ],
            [
             1,
             "#276419"
            ]
           ],
           "sequential": [
            [
             0,
             "#0d0887"
            ],
            [
             0.1111111111111111,
             "#46039f"
            ],
            [
             0.2222222222222222,
             "#7201a8"
            ],
            [
             0.3333333333333333,
             "#9c179e"
            ],
            [
             0.4444444444444444,
             "#bd3786"
            ],
            [
             0.5555555555555556,
             "#d8576b"
            ],
            [
             0.6666666666666666,
             "#ed7953"
            ],
            [
             0.7777777777777778,
             "#fb9f3a"
            ],
            [
             0.8888888888888888,
             "#fdca26"
            ],
            [
             1,
             "#f0f921"
            ]
           ],
           "sequentialminus": [
            [
             0,
             "#0d0887"
            ],
            [
             0.1111111111111111,
             "#46039f"
            ],
            [
             0.2222222222222222,
             "#7201a8"
            ],
            [
             0.3333333333333333,
             "#9c179e"
            ],
            [
             0.4444444444444444,
             "#bd3786"
            ],
            [
             0.5555555555555556,
             "#d8576b"
            ],
            [
             0.6666666666666666,
             "#ed7953"
            ],
            [
             0.7777777777777778,
             "#fb9f3a"
            ],
            [
             0.8888888888888888,
             "#fdca26"
            ],
            [
             1,
             "#f0f921"
            ]
           ]
          },
          "colorway": [
           "#636efa",
           "#EF553B",
           "#00cc96",
           "#ab63fa",
           "#FFA15A",
           "#19d3f3",
           "#FF6692",
           "#B6E880",
           "#FF97FF",
           "#FECB52"
          ],
          "font": {
           "color": "#2a3f5f"
          },
          "geo": {
           "bgcolor": "white",
           "lakecolor": "white",
           "landcolor": "#E5ECF6",
           "showlakes": true,
           "showland": true,
           "subunitcolor": "white"
          },
          "hoverlabel": {
           "align": "left"
          },
          "hovermode": "closest",
          "mapbox": {
           "style": "light"
          },
          "paper_bgcolor": "white",
          "plot_bgcolor": "#E5ECF6",
          "polar": {
           "angularaxis": {
            "gridcolor": "white",
            "linecolor": "white",
            "ticks": ""
           },
           "bgcolor": "#E5ECF6",
           "radialaxis": {
            "gridcolor": "white",
            "linecolor": "white",
            "ticks": ""
           }
          },
          "scene": {
           "xaxis": {
            "backgroundcolor": "#E5ECF6",
            "gridcolor": "white",
            "gridwidth": 2,
            "linecolor": "white",
            "showbackground": true,
            "ticks": "",
            "zerolinecolor": "white"
           },
           "yaxis": {
            "backgroundcolor": "#E5ECF6",
            "gridcolor": "white",
            "gridwidth": 2,
            "linecolor": "white",
            "showbackground": true,
            "ticks": "",
            "zerolinecolor": "white"
           },
           "zaxis": {
            "backgroundcolor": "#E5ECF6",
            "gridcolor": "white",
            "gridwidth": 2,
            "linecolor": "white",
            "showbackground": true,
            "ticks": "",
            "zerolinecolor": "white"
           }
          },
          "shapedefaults": {
           "line": {
            "color": "#2a3f5f"
           }
          },
          "ternary": {
           "aaxis": {
            "gridcolor": "white",
            "linecolor": "white",
            "ticks": ""
           },
           "baxis": {
            "gridcolor": "white",
            "linecolor": "white",
            "ticks": ""
           },
           "bgcolor": "#E5ECF6",
           "caxis": {
            "gridcolor": "white",
            "linecolor": "white",
            "ticks": ""
           }
          },
          "title": {
           "x": 0.05
          },
          "xaxis": {
           "automargin": true,
           "gridcolor": "white",
           "linecolor": "white",
           "ticks": "",
           "title": {
            "standoff": 15
           },
           "zerolinecolor": "white",
           "zerolinewidth": 2
          },
          "yaxis": {
           "automargin": true,
           "gridcolor": "white",
           "linecolor": "white",
           "ticks": "",
           "title": {
            "standoff": 15
           },
           "zerolinecolor": "white",
           "zerolinewidth": 2
          }
         }
        },
        "title": {
         "text": "Prior, likelihood and posterior distributions"
        },
        "xaxis": {
         "title": {
          "text": "p"
         }
        },
        "yaxis": {
         "title": {
          "text": "PDF of p"
         }
        }
       }
      }
     },
     "metadata": {},
     "output_type": "display_data"
    }
   ],
   "source": [
    "# Compute the likelihood\n",
    "son_likelihood = likelihood(sample['childHeight'], mu)\n",
    "\n",
    "# Compute the posterior\n",
    "son_posterior = posterior(prior, son_likelihood)\n",
    "\n",
    "# Plot the prior, likelihood, and posterior\n",
    "plot_pp(mu, prior, son_likelihood, son_posterior)"
   ]
  },
  {
   "cell_type": "markdown",
   "metadata": {},
   "source": [
    "- Compute the posterior distribution for mothers (the column name is `mother`). You will need to compute the likelihood first. Sons and mothers both use the same proir. Then plot the prior, posterior and likelihood just like we did in class. <span style=\"color:red\" float:right>[5 point]</span>"
   ]
  },
  {
   "cell_type": "code",
   "execution_count": 10,
   "metadata": {},
   "outputs": [
    {
     "data": {
      "application/vnd.plotly.v1+json": {
       "config": {
        "plotlyServerURL": "https://plot.ly"
       },
       "data": [
        {
         "line": {
          "color": "lightgrey",
          "width": 10
         },
         "mode": "lines",
         "name": "likelihood",
         "type": "scatter",
         "x": {
          "bdata": "AAAAAAAATkApoBkEkAJOQFJAMwggBU5Ae+BMDLAHTkCkgGYQQApOQM0ggBTQDE5A9sCZGGAPTkAfYbMc8BFOQEgBzSCAFE5AcaHmJBAXTkCaQQApoBlOQMPhGS0wHE5A7IEzMcAeTkAVIk01UCFOQD7CZjngI05AZ2KAPXAmTkCQAppBAClOQLmis0WQK05A4kLNSSAuTkAL4+ZNsDBOQDSDAFJAM05AXSMaVtA1TkCGwzNaYDhOQK9jTV7wOk5A2ANnYoA9TkABpIBmEEBOQCpEmmqgQk5AU+SzbjBFTkB8hM1ywEdOQKUk53ZQSk5AzsQAe+BMTkD3ZBp/cE9OQCAFNIMAUk5ASaVNh5BUTkByRWeLIFdOQJvlgI+wWU5AxIWak0BcTkDtJbSX0F5OQBbGzZtgYU5AP2bnn/BjTkBoBgGkgGZOQJGmGqgQaU5AukY0rKBrTkDj5k2wMG5OQAyHZ7TAcE5ANSeBuFBzTkBex5q84HVOQIdntMBweE5AsAfOxAB7TkDZp+fIkH1OQAJIAc0ggE5AK+ga0bCCTkBUiDTVQIVOQH0oTtnQh05Apshn3WCKTkDPaIHh8IxOQPgIm+WAj05AIam06RCSTkBKSc7toJROQHPp5/Ewl05AnIkB9sCZTkDFKRv6UJxOQO7JNP7gnk5AF2pOAnGhTkBACmgGAaROQGmqgQqRpk5AkkqbDiGpTkC76rQSsatOQOSKzhZBrk5ADSvoGtGwTkA2ywEfYbNOQF9rGyPxtU5AiAs1J4G4TkCxq04rEbtOQNpLaC+hvU5AA+yBMzHATkAsjJs3wcJOQFUstTtRxU5AfszOP+HHTkCnbOhDccpOQNAMAkgBzU5A+awbTJHPTkAiTTVQIdJOQEvtTlSx1E5AdI1oWEHXTkCdLYJc0dlOQMbNm2Bh3E5A7221ZPHeTkAYDs9ogeFOQEGu6GwR5E5Aak4CcaHmTkCT7ht1MelOQLyONXnB605A5S5PfVHuTkAOz2iB4fBOQDdvgoVx805AYA+ciQH2TkCJr7WNkfhOQLJPz5Eh+05A2+/olbH9TkAEkAKaQQBPQC0wHJ7RAk9AVtA1omEFT0B/cE+m8QdPQKgQaaqBCk9A0bCCrhENT0D6UJyyoQ9PQCPxtbYxEk9ATJHPusEUT0B1Mem+URdPQJ7RAsPhGU9Ax3Ecx3EcT0DwETbLAR9PQBmyT8+RIU9AQlJp0yEkT0Br8oLXsSZPQJSSnNtBKU9AvTK239ErT0Dm0s/jYS5PQA9z6efxME9AOBMD7IEzT0BhsxzwETZPQIpTNvShOE9As/NP+DE7T0Dck2n8wT1PQAU0gwBSQE9ALtScBOJCT0BXdLYIckVPQIAU0AwCSE9AqbTpEJJKT0DSVAMVIk1PQPv0HBmyT09AJJU2HUJST0BNNVAh0lRPQHbVaSViV09An3WDKfJZT0DIFZ0tglxPQPG1tjESX09AGlbQNaJhT0BD9uk5MmRPQGyWAz7CZk9AlTYdQlJpT0C+1jZG4mtPQOd2UEpybk9AEBdqTgJxT0A5t4NSknNPQGJXnVYidk9Ai/e2WrJ4T0C0l9BeQntPQN036mLSfU9ABtgDZ2KAT0AveB1r8oJPQFgYN2+ChU9AgbhQcxKIT0CqWGp3oopPQNP4g3syjU9A/Jidf8KPT0AlObeDUpJPQE7Z0IfilE9Ad3nqi3KXT0CgGQSQAppPQMm5HZSSnE9A8lk3mCKfT0Ab+lCcsqFPQESaaqBCpE9AbTqEpNKmT0CW2p2oYqlPQL96t6zyq09A6BrRsIKuT0ARu+q0ErFPQDpbBLmis09AY/sdvTK2T0CMmzfBwrhPQLU7UcVSu09A3ttqyeK9T0AHfITNcsBPQDAcntECw09AWby31ZLFT0CCXNHZIshPQKv86t2yyk9A1JwE4kLNT0D9PB7m0s9PQCbdN+pi0k9AT31R7vLUT0B4HWvygtdPQKG9hPYS2k9Ayl2e+qLcT0Dz/bf+Mt9PQBye0QLD4U9ART7rBlPkT0Bu3gQL4+ZPQJd+Hg9z6U9AwB44EwPsT0DpvlEXk+5PQBJfaxsj8U9AO/+EH7PzT0Bkn54jQ/ZPQI0/uCfT+E9Att/RK2P7T0Dff+sv8/1PQASQAppBAFBAGWAPnIkBUEAtMBye0QJQQEIAKaAZBFBAVtA1omEFUEBroEKkqQZQQH9wT6bxB1BAlEBcqDkJUECoEGmqgQpQQL3gdazJC1BA0bCCrhENUEDmgI+wWQ5QQPpQnLKhD1BADyGptOkQUEAj8bW2MRJQQDjBwrh5E1BATJHPusEUUEBhYdy8CRZQQHUx6b5RF1BAigH2wJkYUECe0QLD4RlQQLOhD8UpG1BAx3Ecx3EcUEDcQSnJuR1QQPARNssBH1BABeJCzUkgUEAZsk/PkSFQQC6CXNHZIlBAQlJp0yEkUEBXInbVaSVQQGvygtexJlBAgMKP2fknUECUkpzbQSlQQKliqd2JKlBAvTK239ErUEDSAsPhGS1QQObSz+NhLlBA+6Lc5akvUEAPc+nn8TBQQCRD9uk5MlBAOBMD7IEzUEBN4w/uyTRQQGGzHPARNlBAdoMp8lk3UECKUzb0oThQQJ8jQ/bpOVBAs/NP+DE7UEDIw1z6eTxQQNyTafzBPVBA8WN2/gk/UEAFNIMAUkBQQBoEkAKaQVBALtScBOJCUEBDpKkGKkRQQFd0tghyRVBAbETDCrpGUECAFNAMAkhQQJXk3A5KSVBAqbTpEJJKUEC+hPYS2ktQQNJUAxUiTVBA5yQQF2pOUED79BwZsk9QQBDFKRv6UFBAJJU2HUJSUEA5ZUMfilNQQE01UCHSVFBAYgVdIxpWUEB21WklYldQQIuldieqWFBAn3WDKfJZUEC0RZArOltQQMgVnS2CXFBA3eWpL8pdUEDxtbYxEl9QQAaGwzNaYFBAGlbQNaJhUEAvJt036mJQQEP26TkyZFBAWMb2O3plUEBslgM+wmZQQIFmEEAKaFBAlTYdQlJpUECqBipEmmpQQL7WNkbia1BA06ZDSCptUEDndlBKcm5QQPxGXUy6b1BAEBdqTgJxUEAl53ZQSnJQQDm3g1KSc1BAToeQVNp0UEBiV51WInZQQHcnqlhqd1BAi/e2WrJ4UECgx8Nc+nlQQLSX0F5Ce1BAyWfdYIp8UEDdN+pi0n1QQPIH92Qaf1BABtgDZ2KAUEAbqBBpqoFQQC94HWvyglBAREgqbTqEUEBYGDdvgoVQQG3oQ3HKhlBAgbhQcxKIUECWiF11WolQQKpYaneiilBAvyh3eeqLUEDT+IN7Mo1QQOjIkH16jlBA/Jidf8KPUEARaaqBCpFQQCU5t4NSklBAOgnEhZqTUEBO2dCH4pRQQGOp3YkqllBAd3nqi3KXUECMSfeNuphQQKAZBJACmlBAtekQkkqbUEDJuR2UkpxQQN6JKpbanVBA8lk3mCKfUEAHKkSaaqBQQBv6UJyyoVBAMMpdnvqiUEBEmmqgQqRQQFlqd6KKpVBAbTqEpNKmUECCCpGmGqhQQJbanahiqVBAq6qqqqqqUEC/eres8qtQQNRKxK46rVBA6BrRsIKuUED96t2yyq9QQBG76rQSsVBAJov3tlqyUEA6WwS5orNQQE8rEbvqtFBAY/sdvTK2UEB4yyq/erdQQIybN8HCuFBAoWtEwwq6UEC1O1HFUrtQQMoLXseavFBA3ttqyeK9UEDzq3fLKr9QQAd8hM1ywFBAHEyRz7rBUEAwHJ7RAsNQQEXsqtNKxFBAWby31ZLFUEBujMTX2sZQQIJc0dkiyFBAlyze22rJUECr/OrdsspQQMDM99/6y1BA1JwE4kLNUEDpbBHkis5QQP08HubSz1BAEg0r6BrRUEAm3TfqYtJQQDutROyq01BAT31R7vLUUEBkTV7wOtZQQHgda/KC11BAje139MrYUEChvYT2EtpQQLaNkfha21BAyl2e+qLcUEDfLav86t1QQPP9t/4y31BACM7EAHvgUEAcntECw+FQQDFu3gQL41BART7rBlPkUEBaDvgIm+VQQG7eBAvj5lBAg64RDSvoUECXfh4Pc+lQQKxOKxG76lBAwB44EwPsUEDV7kQVS+1QQOm+UReT7lBA/o5eGdvvUEASX2sbI/FQQCcveB1r8lBAO/+EH7PzUEBQz5Eh+/RQQGSfniND9lBAeW+rJYv3UECNP7gn0/hQQKIPxSkb+lBAtt/RK2P7UEDLr94tq/xQQN9/6y/z/VBA9E/4MTv/UEAIIAU0gwBRQB3wETbLAVFAMcAeOBMDUUBGkCs6WwRRQFpgODyjBVFAbzBFPusGUUCDAFJAMwhRQJjQXkJ7CVFArKBrRMMKUUDBcHhGCwxRQNVAhUhTDVFA6hCSSpsOUUD+4J5M4w9RQBOxq04rEVFAJ4G4UHMSUUA8UcVSuxNRQFAh0lQDFVFAZfHeVksWUUB5wetYkxdRQI6R+FrbGFFAomEFXSMaUUC3MRJfaxtRQMsBH2GzHFFA4NErY/sdUUD0oThlQx9RQAlyRWeLIFFAHUJSadMhUUAyEl9rGyNRQEbia21jJFFAW7J4b6slUUBvgoVx8yZRQIRSknM7KFFAmCKfdYMpUUCt8qt3yypRQMHCuHkTLFFA1pLFe1stUUDqYtJ9oy5RQP8y33/rL1FAEwPsgTMxUUAo0/iDezJRQDyjBYbDM1FAUXMSiAs1UUBlQx+KUzZRQHoTLIybN1FAjuM4juM4UUCjs0WQKzpRQLeDUpJzO1FAzFNflLs8UUDgI2yWAz5RQPXzeJhLP1FACcSFmpNAUUAelJKc20FRQDJkn54jQ1FARzSsoGtEUUBbBLmis0VRQHDUxaT7RlFAhKTSpkNIUUCZdN+oi0lRQK1E7KrTSlFAwhT5rBtMUUDW5AWvY01RQOu0ErGrTlFA/4Qfs/NPUUAUVSy1O1FRQCglObeDUlFAPfVFuctTUUBRxVK7E1VRQGaVX71bVlFAemVsv6NXUUCPNXnB61hRQKMFhsMzWlFAuNWSxXtbUUDMpZ/Hw1xRQOF1rMkLXlFA9UW5y1NfUUAKFsbNm2BRQB7m0s/jYVFAM7bf0StjUUBHhuzTc2RRQFxW+dW7ZVFAcCYG2ANnUUCF9hLaS2hRQJnGH9yTaVFArpYs3ttqUUDCZjngI2xRQNc2RuJrbVFA6wZT5LNuUUAA11/m+29RQBSnbOhDcVFAKXd56otyUUA9R4bs03NRQFIXk+4bdVFAZuef8GN2UUB7t6zyq3dRQI+HufTzeFFApFfG9jt6UUC4J9P4g3tRQM333/rLfFFA4cfs/BN+UUD2l/n+W39RQApoBgGkgFFAHzgTA+yBUUAzCCAFNINRQEjYLAd8hFFAXKg5CcSFUUBxeEYLDIdRQIVIUw1UiFFAmhhgD5yJUUCu6GwR5IpRQMO4eRMsjFFA14iGFXSNUUDsWJMXvI5RQAApoBkEkFFAFfmsG0yRUUApybkdlJJRQD6Zxh/ck1FAUmnTISSVUUBnOeAjbJZRQHsJ7SW0l1FAkNn5J/yYUUCkqQYqRJpRQLl5EyyMm1FAzUkgLtScUUDiGS0wHJ5RQPbpOTJkn1FAC7pGNKygUUAfilM29KFRQDRaYDg8o1FASCptOoSkUUBd+nk8zKVRQHHKhj4Up1FAhpqTQFyoUUCaaqBCpKlRQK86rUTsqlFAwwq6RjSsUUDY2sZIfK1RQOyq00rErlFAAXvgTAywUUAVS+1OVLFRQCob+lCcslFAPusGU+SzUUBTuxNVLLVRQGeLIFd0tlFAfFstWby3UUCQKzpbBLlRQKX7Rl1MulFAuctTX5S7UUDOm2Bh3LxRQOJrbWMkvlFA9zt6ZWy/UUALDIdntMBRQCDck2n8wVFANKyga0TDUUBJfK1tjMRRQF1Mum/UxVFAchzHcRzHUUCG7NNzZMhRQJu84HWsyVFAr4ztd/TKUUDEXPp5PMxRQNgsB3yEzVFA7fwTfszOUUABzSCAFNBRQBadLYJc0VFAKm06hKTSUUA/PUeG7NNRQFMNVIg01VFAaN1ginzWUUB8rW2MxNdRQJF9eo4M2VFApU2HkFTaUUC6HZSSnNtRQM7toJTk3FFA472tlizeUUD3jbqYdN9RQAxex5q84FFAIC7UnATiUUA1/uCeTONRQEnO7aCU5FFAXp76otzlUUBybgelJOdRQIc+FKds6FFAmw4hqbTpUUCw3i2r/OpRQMSuOq1E7FFA2X5Hr4ztUUDtTlSx1O5RQAIfYbMc8FFAFu9ttWTxUUArv3q3rPJRQD+Ph7n081FAVF+Uuzz1UUBoL6G9hPZRQH3/rb/M91FAkc+6wRT5UUCmn8fDXPpRQLpv1MWk+1FAzz/hx+z8UUDjD+7JNP5RQPjf+st8/1FADLAHzsQAUkAhgBTQDAJSQDVQIdJUA1JASiAu1JwEUkBe8DrW5AVSQHPAR9gsB1JAh5BU2nQIUkCcYGHcvAlSQLAwbt4EC1JAxQB74EwMUkDZ0IfilA1SQO6glOTcDlJAAnGh5iQQUkAXQa7obBFSQCsRu+q0ElJAQOHH7PwTUkBUsdTuRBVSQGmB4fCMFlJAfVHu8tQXUkCSIfv0HBlSQKbxB/dkGlJAu8EU+awbUkDPkSH79BxSQORhLv08HlJA+DE7/4QfUkANAkgBzSBSQCHSVAMVIlJANqJhBV0jUkBKcm4HpSRSQF9CewntJVJAcxKICzUnUkCI4pQNfShSQJyyoQ/FKVJAsYKuEQ0rUkDFUrsTVSxSQNoiyBWdLVJA7vLUF+UuUkADw+EZLTBSQBeT7ht1MVJALGP7Hb0yUkBAMwggBTRSQFUDFSJNNVJAadMhJJU2UkB+oy4m3TdSQJJzOyglOVJAp0NIKm06UkC7E1UstTtSQNDjYS79PFJA5LNuMEU+UkD5g3syjT9SQA1UiDTVQFJAIiSVNh1CUkA29KE4ZUNSQEvErjqtRFJAX5S7PPVFUkB0ZMg+PUdSQIg01UCFSFJAnQTiQs1JUkCx1O5EFUtSQMak+0ZdTFJA2nQISaVNUkDvRBVL7U5SQAMVIk01UFJAGOUuT31RUkAstTtRxVJSQEGFSFMNVFJAVVVVVVVVUkBqJWJXnVZSQH71blnlV1JAk8V7Wy1ZUkCnlYhddVpSQLxllV+9W1JA0DWiYQVdUkDlBa9jTV5SQPnVu2WVX1JADqbIZ91gUkAidtVpJWJSQDdG4mttY1JASxbvbbVkUkBg5vtv/WVSQHS2CHJFZ1JAiYYVdI1oUkCdViJ21WlSQLImL3gda1JAxvY7emVsUkDbxkh8rW1SQO+WVX71blJABGdigD1wUkAYN2+ChXFSQC0HfITNclJAQdeIhhV0UkBWp5WIXXVSQGp3ooqldlJAf0evjO13UkCTF7yONXlSQKjnyJB9elJAvLfVksV7UkDRh+KUDX1SQOVX75ZVflJA+if8mJ1/UkAO+Aib5YBSQCPIFZ0tglJAN5gin3WDUkBMaC+hvYRSQGA4PKMFhlJAdQhJpU2HUkCJ2FWnlYhSQJ6oYqndiVJAsnhvqyWLUkDHSHytbYxSQNsYia+1jVJA8OiVsf2OUkAEuaKzRZBSQBmJr7WNkVJALVm8t9WSUkBCKcm5HZRSQFb51btllVJAa8niva2WUkB/me+/9ZdSQJRp/ME9mVJAqDkJxIWaUkC9CRbGzZtSQNHZIsgVnVJA5qkvyl2eUkD6eTzMpZ9SQA9KSc7toFJAIxpW0DWiUkA46mLSfaNSQEy6b9TFpFJAYYp81g2mUkB1WonYVadSQIoqltqdqFJAnvqi3OWpUkCzyq/eLatSQMeavOB1rFJA3GrJ4r2tUkDwOtbkBa9SQAUL4+ZNsFJAGdvv6JWxUkAuq/zq3bJSQEJ7Ce0ltFJAV0sW7221UkBrGyPxtbZSQIDrL/P9t1JAlLs89UW5UkCpi0n3jbpSQL1bVvnVu1JA0itj+x29UkDm+2/9Zb5SQPvLfP+tv1JAD5yJAfbAUkAkbJYDPsJSQDg8owWGw1JATQywB87EUkBh3LwJFsZSQHasyQtex1JAinzWDabIUkCfTOMP7slSQLMc8BE2y1JAyOz8E37MUkDcvAkWxs1SQPGMFhgOz1JABV0jGlbQUkAaLTAcntFSQC79PB7m0lJAQ81JIC7UUkBXnVYidtVSQGxtYyS+1lJAgD1wJgbYUkCVDX0oTtlSQKndiSqW2lJAvq2WLN7bUkDSfaMuJt1SQOdNsDBu3lJA+x29MrbfUkAQ7sk0/uBSQCS+1jZG4lJAOY7jOI7jUkBNXvA61uRSQGIu/Twe5lJAdv4JP2bnUkCLzhZBruhSQJ+eI0P26VJAtG4wRT7rUkDIPj1HhuxSQN0OSknO7VJA8d5WSxbvUkAGr2NNXvBSQBp/cE+m8VJAL099Ue7yUkBDH4pTNvRSQFjvllV+9VJAbL+jV8b2UkCBj7BZDvhSQJVfvVtW+VJAqi/KXZ76UkC+/9Zf5vtSQNPP42Eu/VJA55/wY3b+UkD8b/1lvv9SQBBACmgGAVNAJRAXak4CU0A64CNslgNTQE6wMG7eBFNAYoA9cCYGU0B3UEpybgdTQIwgV3S2CFNAoPBjdv4JU0C0wHB4RgtTQMmQfXqODFNA3mCKfNYNU0DyMJd+Hg9TQAYBpIBmEFNAG9Gwgq4RU0Awob2E9hJTQERxyoY+FFNAWEHXiIYVU0BtEeSKzhZTQILh8IwWGFNAlrH9jl4ZU0CqgQqRphpTQL9RF5PuG1NA1CEklTYdU0Do8TCXfh5TQPzBPZnGH1NAEZJKmw4hU0AmYledViJTQDoyZJ+eI1NATgJxoeYkU0Bj0n2jLiZTQHiiiqV2J1NAjHKXp74oU0CgQqSpBipTQLUSsatOK1NAyuK9rZYsU0Dessqv3i1TQPKC17EmL1NAB1Pks24wU0AcI/G1tjFTQDDz/bf+MlNARMMKukY0U0BZkxe8jjVTQG5jJL7WNlNAgjMxwB44U0CWAz7CZjlTQKvTSsSuOlNAwKNXxvY7U0DUc2TIPj1TQOhDccqGPlNA/RN+zM4/U0AS5IrOFkFTQCa0l9BeQlNAOoSk0qZDU0BPVLHU7kRTQGQkvtY2RlNAePTK2H5HU0CMxNfaxkhTQKGU5NwOSlNAtmTx3lZLU0DKNP7gnkxTQN4EC+PmTVNA89QX5S5PU0AIpSTndlBTQBx1Mem+UVNAMEU+6wZTU0BFFUvtTlRTQFrlV++WVVNAbrVk8d5WU0CChXHzJlhTQJdVfvVuWVNArCWL97ZaU0DA9Zf5/ltTQNTFpPtGXVNA6ZWx/Y5eU0D+Zb7/1l9TQBI2ywEfYVNAJgbYA2diU0A71uQFr2NTQFCm8Qf3ZFNAZHb+CT9mU0B4RgsMh2dTQI0WGA7PaFNAouYkEBdqU0C2tjESX2tTQMqGPhSnbFNA31ZLFu9tU0D0JlgYN29TQAj3ZBp/cFNAHMdxHMdxU0Axl34eD3NTQEZniyBXdFNAWjeYIp91U0BuB6Uk53ZTQIPXsSYveFNAmKe+KHd5U0Csd8sqv3pTQMBH2CwHfFNA1RflLk99U0Dq5/Ewl35TQP63/jLff1NAEogLNSeBU0AnWBg3b4JTQDwoJTm3g1NAUPgxO/+EU0BkyD49R4ZTQHmYSz+Ph1NAjmhYQdeIU0CiOGVDH4pTQLYIckVni1NAy9h+R6+MU0DgqItJ941TQPR4mEs/j1NACEmlTYeQU0AdGbJPz5FTQDLpvlEXk1NARrnLU1+UU0BaidhVp5VTQG9Z5VfvllNAhCnyWTeYU0CY+f5bf5lTQKzJC17HmlNAwZkYYA+cU0DWaSViV51TQOo5MmSfnlNA/gk/ZuefU0AT2ktoL6FTQCiqWGp3olNAPHplbL+jU0BQSnJuB6VTQGUaf3BPplNAeuqLcpenU0COuph036hTQKKKpXYnqlNAt1qyeG+rU0DMKr96t6xTQOD6y3z/rVNA9MrYfkevU0AJm+WAj7BTQB5r8oLXsVNAMjv/hB+zU0BGCwyHZ7RTQFvbGImvtVNAcKsli/e2U0CEezKNP7hTQJhLP4+HuVNArRtMkc+6U0DC61iTF7xTQNa7ZZVfvVNA6otyl6e+U0D/W3+Z779TQBQsjJs3wVNAKPyYnX/CU0A8zKWfx8NTQFGcsqEPxVNAZmy/o1fGU0B6PMyln8dTQI4M2afnyFNAo9zlqS/KU0C4rPKrd8tTQMx8/62/zFNA4EwMsAfOU0D1HBmyT89TQArtJbSX0FNAHr0ytt/RU0AyjT+4J9NTQEddTLpv1FNAXC1ZvLfVU0Bw/WW+/9ZTQITNcsBH2FNAmZ1/wo/ZU0CubYzE19pTQMI9mcYf3FNA1g2myGfdU0Dr3bLKr95TQACuv8z331NAFH7Mzj/hU0AoTtnQh+JTQD0e5tLP41NAUu7y1BflU0Bmvv/WX+ZTQHqODNmn51NAj14Z2+/oU0CkLibdN+pTQLj+Mt9/61NAzM4/4cfsU0DhnkzjD+5TQPZuWeVX71NACj9m55/wU0AeD3Pp5/FTQDPff+sv81NASK+M7Xf0U0Bcf5nvv/VTQHBPpvEH91NAhR+z80/4U0Ca77/1l/lTQK6/zPff+lNAwo/Z+Sf8U0DXX+b7b/1TQOwv8/23/lNAAAAAAAAAVEA=",
          "dtype": "f8"
         },
         "y": {
          "bdata": "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",
          "dtype": "f8"
         }
        },
        {
         "line": {
          "color": "blue",
          "width": 2
         },
         "mode": "lines",
         "name": "prior",
         "type": "scatter",
         "x": {
          "bdata": "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",
          "dtype": "f8"
         },
         "y": {
          "bdata": "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",
          "dtype": "f8"
         }
        },
        {
         "line": {
          "color": "red",
          "width": 2
         },
         "mode": "lines",
         "name": "posterior",
         "type": "scatter",
         "x": {
          "bdata": "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",
          "dtype": "f8"
         },
         "y": {
          "bdata": "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",
          "dtype": "f8"
         }
        }
       ],
       "layout": {
        "legend": {
         "title": {
          "text": "Distributions"
         }
        },
        "template": {
         "data": {
          "bar": [
           {
            "error_x": {
             "color": "#2a3f5f"
            },
            "error_y": {
             "color": "#2a3f5f"
            },
            "marker": {
             "line": {
              "color": "#E5ECF6",
              "width": 0.5
             },
             "pattern": {
              "fillmode": "overlay",
              "size": 10,
              "solidity": 0.2
             }
            },
            "type": "bar"
           }
          ],
          "barpolar": [
           {
            "marker": {
             "line": {
              "color": "#E5ECF6",
              "width": 0.5
             },
             "pattern": {
              "fillmode": "overlay",
              "size": 10,
              "solidity": 0.2
             }
            },
            "type": "barpolar"
           }
          ],
          "carpet": [
           {
            "aaxis": {
             "endlinecolor": "#2a3f5f",
             "gridcolor": "white",
             "linecolor": "white",
             "minorgridcolor": "white",
             "startlinecolor": "#2a3f5f"
            },
            "baxis": {
             "endlinecolor": "#2a3f5f",
             "gridcolor": "white",
             "linecolor": "white",
             "minorgridcolor": "white",
             "startlinecolor": "#2a3f5f"
            },
            "type": "carpet"
           }
          ],
          "choropleth": [
           {
            "colorbar": {
             "outlinewidth": 0,
             "ticks": ""
            },
            "type": "choropleth"
           }
          ],
          "contour": [
           {
            "colorbar": {
             "outlinewidth": 0,
             "ticks": ""
            },
            "colorscale": [
             [
              0,
              "#0d0887"
             ],
             [
              0.1111111111111111,
              "#46039f"
             ],
             [
              0.2222222222222222,
              "#7201a8"
             ],
             [
              0.3333333333333333,
              "#9c179e"
             ],
             [
              0.4444444444444444,
              "#bd3786"
             ],
             [
              0.5555555555555556,
              "#d8576b"
             ],
             [
              0.6666666666666666,
              "#ed7953"
             ],
             [
              0.7777777777777778,
              "#fb9f3a"
             ],
             [
              0.8888888888888888,
              "#fdca26"
             ],
             [
              1,
              "#f0f921"
             ]
            ],
            "type": "contour"
           }
          ],
          "contourcarpet": [
           {
            "colorbar": {
             "outlinewidth": 0,
             "ticks": ""
            },
            "type": "contourcarpet"
           }
          ],
          "heatmap": [
           {
            "colorbar": {
             "outlinewidth": 0,
             "ticks": ""
            },
            "colorscale": [
             [
              0,
              "#0d0887"
             ],
             [
              0.1111111111111111,
              "#46039f"
             ],
             [
              0.2222222222222222,
              "#7201a8"
             ],
             [
              0.3333333333333333,
              "#9c179e"
             ],
             [
              0.4444444444444444,
              "#bd3786"
             ],
             [
              0.5555555555555556,
              "#d8576b"
             ],
             [
              0.6666666666666666,
              "#ed7953"
             ],
             [
              0.7777777777777778,
              "#fb9f3a"
             ],
             [
              0.8888888888888888,
              "#fdca26"
             ],
             [
              1,
              "#f0f921"
             ]
            ],
            "type": "heatmap"
           }
          ],
          "histogram": [
           {
            "marker": {
             "pattern": {
              "fillmode": "overlay",
              "size": 10,
              "solidity": 0.2
             }
            },
            "type": "histogram"
           }
          ],
          "histogram2d": [
           {
            "colorbar": {
             "outlinewidth": 0,
             "ticks": ""
            },
            "colorscale": [
             [
              0,
              "#0d0887"
             ],
             [
              0.1111111111111111,
              "#46039f"
             ],
             [
              0.2222222222222222,
              "#7201a8"
             ],
             [
              0.3333333333333333,
              "#9c179e"
             ],
             [
              0.4444444444444444,
              "#bd3786"
             ],
             [
              0.5555555555555556,
              "#d8576b"
             ],
             [
              0.6666666666666666,
              "#ed7953"
             ],
             [
              0.7777777777777778,
              "#fb9f3a"
             ],
             [
              0.8888888888888888,
              "#fdca26"
             ],
             [
              1,
              "#f0f921"
             ]
            ],
            "type": "histogram2d"
           }
          ],
          "histogram2dcontour": [
           {
            "colorbar": {
             "outlinewidth": 0,
             "ticks": ""
            },
            "colorscale": [
             [
              0,
              "#0d0887"
             ],
             [
              0.1111111111111111,
              "#46039f"
             ],
             [
              0.2222222222222222,
              "#7201a8"
             ],
             [
              0.3333333333333333,
              "#9c179e"
             ],
             [
              0.4444444444444444,
              "#bd3786"
             ],
             [
              0.5555555555555556,
              "#d8576b"
             ],
             [
              0.6666666666666666,
              "#ed7953"
             ],
             [
              0.7777777777777778,
              "#fb9f3a"
             ],
             [
              0.8888888888888888,
              "#fdca26"
             ],
             [
              1,
              "#f0f921"
             ]
            ],
            "type": "histogram2dcontour"
           }
          ],
          "mesh3d": [
           {
            "colorbar": {
             "outlinewidth": 0,
             "ticks": ""
            },
            "type": "mesh3d"
           }
          ],
          "parcoords": [
           {
            "line": {
             "colorbar": {
              "outlinewidth": 0,
              "ticks": ""
             }
            },
            "type": "parcoords"
           }
          ],
          "pie": [
           {
            "automargin": true,
            "type": "pie"
           }
          ],
          "scatter": [
           {
            "fillpattern": {
             "fillmode": "overlay",
             "size": 10,
             "solidity": 0.2
            },
            "type": "scatter"
           }
          ],
          "scatter3d": [
           {
            "line": {
             "colorbar": {
              "outlinewidth": 0,
              "ticks": ""
             }
            },
            "marker": {
             "colorbar": {
              "outlinewidth": 0,
              "ticks": ""
             }
            },
            "type": "scatter3d"
           }
          ],
          "scattercarpet": [
           {
            "marker": {
             "colorbar": {
              "outlinewidth": 0,
              "ticks": ""
             }
            },
            "type": "scattercarpet"
           }
          ],
          "scattergeo": [
           {
            "marker": {
             "colorbar": {
              "outlinewidth": 0,
              "ticks": ""
             }
            },
            "type": "scattergeo"
           }
          ],
          "scattergl": [
           {
            "marker": {
             "colorbar": {
              "outlinewidth": 0,
              "ticks": ""
             }
            },
            "type": "scattergl"
           }
          ],
          "scattermap": [
           {
            "marker": {
             "colorbar": {
              "outlinewidth": 0,
              "ticks": ""
             }
            },
            "type": "scattermap"
           }
          ],
          "scattermapbox": [
           {
            "marker": {
             "colorbar": {
              "outlinewidth": 0,
              "ticks": ""
             }
            },
            "type": "scattermapbox"
           }
          ],
          "scatterpolar": [
           {
            "marker": {
             "colorbar": {
              "outlinewidth": 0,
              "ticks": ""
             }
            },
            "type": "scatterpolar"
           }
          ],
          "scatterpolargl": [
           {
            "marker": {
             "colorbar": {
              "outlinewidth": 0,
              "ticks": ""
             }
            },
            "type": "scatterpolargl"
           }
          ],
          "scatterternary": [
           {
            "marker": {
             "colorbar": {
              "outlinewidth": 0,
              "ticks": ""
             }
            },
            "type": "scatterternary"
           }
          ],
          "surface": [
           {
            "colorbar": {
             "outlinewidth": 0,
             "ticks": ""
            },
            "colorscale": [
             [
              0,
              "#0d0887"
             ],
             [
              0.1111111111111111,
              "#46039f"
             ],
             [
              0.2222222222222222,
              "#7201a8"
             ],
             [
              0.3333333333333333,
              "#9c179e"
             ],
             [
              0.4444444444444444,
              "#bd3786"
             ],
             [
              0.5555555555555556,
              "#d8576b"
             ],
             [
              0.6666666666666666,
              "#ed7953"
             ],
             [
              0.7777777777777778,
              "#fb9f3a"
             ],
             [
              0.8888888888888888,
              "#fdca26"
             ],
             [
              1,
              "#f0f921"
             ]
            ],
            "type": "surface"
           }
          ],
          "table": [
           {
            "cells": {
             "fill": {
              "color": "#EBF0F8"
             },
             "line": {
              "color": "white"
             }
            },
            "header": {
             "fill": {
              "color": "#C8D4E3"
             },
             "line": {
              "color": "white"
             }
            },
            "type": "table"
           }
          ]
         },
         "layout": {
          "annotationdefaults": {
           "arrowcolor": "#2a3f5f",
           "arrowhead": 0,
           "arrowwidth": 1
          },
          "autotypenumbers": "strict",
          "coloraxis": {
           "colorbar": {
            "outlinewidth": 0,
            "ticks": ""
           }
          },
          "colorscale": {
           "diverging": [
            [
             0,
             "#8e0152"
            ],
            [
             0.1,
             "#c51b7d"
            ],
            [
             0.2,
             "#de77ae"
            ],
            [
             0.3,
             "#f1b6da"
            ],
            [
             0.4,
             "#fde0ef"
            ],
            [
             0.5,
             "#f7f7f7"
            ],
            [
             0.6,
             "#e6f5d0"
            ],
            [
             0.7,
             "#b8e186"
            ],
            [
             0.8,
             "#7fbc41"
            ],
            [
             0.9,
             "#4d9221"
            ],
            [
             1,
             "#276419"
            ]
           ],
           "sequential": [
            [
             0,
             "#0d0887"
            ],
            [
             0.1111111111111111,
             "#46039f"
            ],
            [
             0.2222222222222222,
             "#7201a8"
            ],
            [
             0.3333333333333333,
             "#9c179e"
            ],
            [
             0.4444444444444444,
             "#bd3786"
            ],
            [
             0.5555555555555556,
             "#d8576b"
            ],
            [
             0.6666666666666666,
             "#ed7953"
            ],
            [
             0.7777777777777778,
             "#fb9f3a"
            ],
            [
             0.8888888888888888,
             "#fdca26"
            ],
            [
             1,
             "#f0f921"
            ]
           ],
           "sequentialminus": [
            [
             0,
             "#0d0887"
            ],
            [
             0.1111111111111111,
             "#46039f"
            ],
            [
             0.2222222222222222,
             "#7201a8"
            ],
            [
             0.3333333333333333,
             "#9c179e"
            ],
            [
             0.4444444444444444,
             "#bd3786"
            ],
            [
             0.5555555555555556,
             "#d8576b"
            ],
            [
             0.6666666666666666,
             "#ed7953"
            ],
            [
             0.7777777777777778,
             "#fb9f3a"
            ],
            [
             0.8888888888888888,
             "#fdca26"
            ],
            [
             1,
             "#f0f921"
            ]
           ]
          },
          "colorway": [
           "#636efa",
           "#EF553B",
           "#00cc96",
           "#ab63fa",
           "#FFA15A",
           "#19d3f3",
           "#FF6692",
           "#B6E880",
           "#FF97FF",
           "#FECB52"
          ],
          "font": {
           "color": "#2a3f5f"
          },
          "geo": {
           "bgcolor": "white",
           "lakecolor": "white",
           "landcolor": "#E5ECF6",
           "showlakes": true,
           "showland": true,
           "subunitcolor": "white"
          },
          "hoverlabel": {
           "align": "left"
          },
          "hovermode": "closest",
          "mapbox": {
           "style": "light"
          },
          "paper_bgcolor": "white",
          "plot_bgcolor": "#E5ECF6",
          "polar": {
           "angularaxis": {
            "gridcolor": "white",
            "linecolor": "white",
            "ticks": ""
           },
           "bgcolor": "#E5ECF6",
           "radialaxis": {
            "gridcolor": "white",
            "linecolor": "white",
            "ticks": ""
           }
          },
          "scene": {
           "xaxis": {
            "backgroundcolor": "#E5ECF6",
            "gridcolor": "white",
            "gridwidth": 2,
            "linecolor": "white",
            "showbackground": true,
            "ticks": "",
            "zerolinecolor": "white"
           },
           "yaxis": {
            "backgroundcolor": "#E5ECF6",
            "gridcolor": "white",
            "gridwidth": 2,
            "linecolor": "white",
            "showbackground": true,
            "ticks": "",
            "zerolinecolor": "white"
           },
           "zaxis": {
            "backgroundcolor": "#E5ECF6",
            "gridcolor": "white",
            "gridwidth": 2,
            "linecolor": "white",
            "showbackground": true,
            "ticks": "",
            "zerolinecolor": "white"
           }
          },
          "shapedefaults": {
           "line": {
            "color": "#2a3f5f"
           }
          },
          "ternary": {
           "aaxis": {
            "gridcolor": "white",
            "linecolor": "white",
            "ticks": ""
           },
           "baxis": {
            "gridcolor": "white",
            "linecolor": "white",
            "ticks": ""
           },
           "bgcolor": "#E5ECF6",
           "caxis": {
            "gridcolor": "white",
            "linecolor": "white",
            "ticks": ""
           }
          },
          "title": {
           "x": 0.05
          },
          "xaxis": {
           "automargin": true,
           "gridcolor": "white",
           "linecolor": "white",
           "ticks": "",
           "title": {
            "standoff": 15
           },
           "zerolinecolor": "white",
           "zerolinewidth": 2
          },
          "yaxis": {
           "automargin": true,
           "gridcolor": "white",
           "linecolor": "white",
           "ticks": "",
           "title": {
            "standoff": 15
           },
           "zerolinecolor": "white",
           "zerolinewidth": 2
          }
         }
        },
        "title": {
         "text": "Prior, likelihood and posterior distributions"
        },
        "xaxis": {
         "title": {
          "text": "p"
         }
        },
        "yaxis": {
         "title": {
          "text": "PDF of p"
         }
        }
       }
      }
     },
     "metadata": {},
     "output_type": "display_data"
    }
   ],
   "source": [
    "# Compute the likelihood\n",
    "mom_likelihood = likelihood(sample['mother'], mu)\n",
    "\n",
    "# Compute the posterior\n",
    "mom_posterior = posterior(prior, mom_likelihood)\n",
    "\n",
    "# Plot the prior, likelihood, and posterior\n",
    "plot_pp(mu, prior, mom_likelihood, mom_posterior)"
   ]
  },
  {
   "cell_type": "markdown",
   "metadata": {},
   "source": [
    "To compare the posterior distributions of the mean heights of the sons to the distribution of the mean heights of the mothers, we compute and compare the confidence intervals. \n",
    "\n",
    "- Use the `plot_ci` function to plot credible intervals for mother and son heights. You can call the function twice in the same cell and the two distributions will be plotted next to each other in one plot. What conclusion do you draw about the heights of mothers versus sons? <span style=\"color:red\" float:right>[10 point]</span>"
   ]
  },
  {
   "cell_type": "code",
   "execution_count": 11,
   "metadata": {},
   "outputs": [
    {
     "data": {
      "application/vnd.plotly.v1+json": {
       "config": {
        "plotlyServerURL": "https://plot.ly"
       },
       "data": [
        {
         "line": {
          "color": "#636EFA"
         },
         "mode": "lines",
         "name": "Son's Height Posterior Density",
         "type": "scatter",
         "x": {
          "bdata": "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",
          "dtype": "f8"
         },
         "y": {
          "bdata": "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",
          "dtype": "f8"
         }
        },
        {
         "line": {
          "color": "#EF553B"
         },
         "mode": "lines",
         "name": "Lower CI",
         "type": "scatter",
         "x": [
          68.70870870870871,
          68.70870870870871
         ],
         "y": [
          0,
          0.018555601420584565
         ]
        },
        {
         "line": {
          "color": "#EF553B"
         },
         "mode": "lines",
         "name": "Upper CI",
         "type": "scatter",
         "x": [
          70.3903903903904,
          70.3903903903904
         ],
         "y": [
          0,
          0.018555601420584565
         ]
        },
        {
         "line": {
          "color": "#00CC96"
         },
         "mode": "lines",
         "name": "Mother's Height Posterior Density",
         "type": "scatter",
         "x": {
          "bdata": "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",
          "dtype": "f8"
         },
         "y": {
          "bdata": "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",
          "dtype": "f8"
         }
        },
        {
         "line": {
          "color": "#AB63FA"
         },
         "mode": "lines",
         "name": "Lower CI",
         "type": "scatter",
         "x": [
          64.4044044044044,
          64.4044044044044
         ],
         "y": [
          0,
          0.02156936427140257
         ]
        },
        {
         "line": {
          "color": "#AB63FA"
         },
         "mode": "lines",
         "name": "Upper CI",
         "type": "scatter",
         "x": [
          65.86586586586587,
          65.86586586586587
         ],
         "y": [
          0,
          0.02156936427140257
         ]
        }
       ],
       "layout": {
        "annotations": [
         {
          "showarrow": false,
          "text": "Son's 0.950 credible interval is 68.709 to 70.390",
          "x": 0,
          "xref": "paper",
          "y": 1.14,
          "yref": "paper"
         },
         {
          "showarrow": false,
          "text": "Son's 0.950 credible interval is 68.709 to 70.390 | Mother's 0.950 credible interval is 64.404 to 65.866",
          "x": 0,
          "xref": "paper",
          "y": 1.14,
          "yref": "paper"
         }
        ],
        "showlegend": true,
        "template": {
         "data": {
          "bar": [
           {
            "error_x": {
             "color": "#2a3f5f"
            },
            "error_y": {
             "color": "#2a3f5f"
            },
            "marker": {
             "line": {
              "color": "#E5ECF6",
              "width": 0.5
             },
             "pattern": {
              "fillmode": "overlay",
              "size": 10,
              "solidity": 0.2
             }
            },
            "type": "bar"
           }
          ],
          "barpolar": [
           {
            "marker": {
             "line": {
              "color": "#E5ECF6",
              "width": 0.5
             },
             "pattern": {
              "fillmode": "overlay",
              "size": 10,
              "solidity": 0.2
             }
            },
            "type": "barpolar"
           }
          ],
          "carpet": [
           {
            "aaxis": {
             "endlinecolor": "#2a3f5f",
             "gridcolor": "white",
             "linecolor": "white",
             "minorgridcolor": "white",
             "startlinecolor": "#2a3f5f"
            },
            "baxis": {
             "endlinecolor": "#2a3f5f",
             "gridcolor": "white",
             "linecolor": "white",
             "minorgridcolor": "white",
             "startlinecolor": "#2a3f5f"
            },
            "type": "carpet"
           }
          ],
          "choropleth": [
           {
            "colorbar": {
             "outlinewidth": 0,
             "ticks": ""
            },
            "type": "choropleth"
           }
          ],
          "contour": [
           {
            "colorbar": {
             "outlinewidth": 0,
             "ticks": ""
            },
            "colorscale": [
             [
              0,
              "#0d0887"
             ],
             [
              0.1111111111111111,
              "#46039f"
             ],
             [
              0.2222222222222222,
              "#7201a8"
             ],
             [
              0.3333333333333333,
              "#9c179e"
             ],
             [
              0.4444444444444444,
              "#bd3786"
             ],
             [
              0.5555555555555556,
              "#d8576b"
             ],
             [
              0.6666666666666666,
              "#ed7953"
             ],
             [
              0.7777777777777778,
              "#fb9f3a"
             ],
             [
              0.8888888888888888,
              "#fdca26"
             ],
             [
              1,
              "#f0f921"
             ]
            ],
            "type": "contour"
           }
          ],
          "contourcarpet": [
           {
            "colorbar": {
             "outlinewidth": 0,
             "ticks": ""
            },
            "type": "contourcarpet"
           }
          ],
          "heatmap": [
           {
            "colorbar": {
             "outlinewidth": 0,
             "ticks": ""
            },
            "colorscale": [
             [
              0,
              "#0d0887"
             ],
             [
              0.1111111111111111,
              "#46039f"
             ],
             [
              0.2222222222222222,
              "#7201a8"
             ],
             [
              0.3333333333333333,
              "#9c179e"
             ],
             [
              0.4444444444444444,
              "#bd3786"
             ],
             [
              0.5555555555555556,
              "#d8576b"
             ],
             [
              0.6666666666666666,
              "#ed7953"
             ],
             [
              0.7777777777777778,
              "#fb9f3a"
             ],
             [
              0.8888888888888888,
              "#fdca26"
             ],
             [
              1,
              "#f0f921"
             ]
            ],
            "type": "heatmap"
           }
          ],
          "histogram": [
           {
            "marker": {
             "pattern": {
              "fillmode": "overlay",
              "size": 10,
              "solidity": 0.2
             }
            },
            "type": "histogram"
           }
          ],
          "histogram2d": [
           {
            "colorbar": {
             "outlinewidth": 0,
             "ticks": ""
            },
            "colorscale": [
             [
              0,
              "#0d0887"
             ],
             [
              0.1111111111111111,
              "#46039f"
             ],
             [
              0.2222222222222222,
              "#7201a8"
             ],
             [
              0.3333333333333333,
              "#9c179e"
             ],
             [
              0.4444444444444444,
              "#bd3786"
             ],
             [
              0.5555555555555556,
              "#d8576b"
             ],
             [
              0.6666666666666666,
              "#ed7953"
             ],
             [
              0.7777777777777778,
              "#fb9f3a"
             ],
             [
              0.8888888888888888,
              "#fdca26"
             ],
             [
              1,
              "#f0f921"
             ]
            ],
            "type": "histogram2d"
           }
          ],
          "histogram2dcontour": [
           {
            "colorbar": {
             "outlinewidth": 0,
             "ticks": ""
            },
            "colorscale": [
             [
              0,
              "#0d0887"
             ],
             [
              0.1111111111111111,
              "#46039f"
             ],
             [
              0.2222222222222222,
              "#7201a8"
             ],
             [
              0.3333333333333333,
              "#9c179e"
             ],
             [
              0.4444444444444444,
              "#bd3786"
             ],
             [
              0.5555555555555556,
              "#d8576b"
             ],
             [
              0.6666666666666666,
              "#ed7953"
             ],
             [
              0.7777777777777778,
              "#fb9f3a"
             ],
             [
              0.8888888888888888,
              "#fdca26"
             ],
             [
              1,
              "#f0f921"
             ]
            ],
            "type": "histogram2dcontour"
           }
          ],
          "mesh3d": [
           {
            "colorbar": {
             "outlinewidth": 0,
             "ticks": ""
            },
            "type": "mesh3d"
           }
          ],
          "parcoords": [
           {
            "line": {
             "colorbar": {
              "outlinewidth": 0,
              "ticks": ""
             }
            },
            "type": "parcoords"
           }
          ],
          "pie": [
           {
            "automargin": true,
            "type": "pie"
           }
          ],
          "scatter": [
           {
            "fillpattern": {
             "fillmode": "overlay",
             "size": 10,
             "solidity": 0.2
            },
            "type": "scatter"
           }
          ],
          "scatter3d": [
           {
            "line": {
             "colorbar": {
              "outlinewidth": 0,
              "ticks": ""
             }
            },
            "marker": {
             "colorbar": {
              "outlinewidth": 0,
              "ticks": ""
             }
            },
            "type": "scatter3d"
           }
          ],
          "scattercarpet": [
           {
            "marker": {
             "colorbar": {
              "outlinewidth": 0,
              "ticks": ""
             }
            },
            "type": "scattercarpet"
           }
          ],
          "scattergeo": [
           {
            "marker": {
             "colorbar": {
              "outlinewidth": 0,
              "ticks": ""
             }
            },
            "type": "scattergeo"
           }
          ],
          "scattergl": [
           {
            "marker": {
             "colorbar": {
              "outlinewidth": 0,
              "ticks": ""
             }
            },
            "type": "scattergl"
           }
          ],
          "scattermap": [
           {
            "marker": {
             "colorbar": {
              "outlinewidth": 0,
              "ticks": ""
             }
            },
            "type": "scattermap"
           }
          ],
          "scattermapbox": [
           {
            "marker": {
             "colorbar": {
              "outlinewidth": 0,
              "ticks": ""
             }
            },
            "type": "scattermapbox"
           }
          ],
          "scatterpolar": [
           {
            "marker": {
             "colorbar": {
              "outlinewidth": 0,
              "ticks": ""
             }
            },
            "type": "scatterpolar"
           }
          ],
          "scatterpolargl": [
           {
            "marker": {
             "colorbar": {
              "outlinewidth": 0,
              "ticks": ""
             }
            },
            "type": "scatterpolargl"
           }
          ],
          "scatterternary": [
           {
            "marker": {
             "colorbar": {
              "outlinewidth": 0,
              "ticks": ""
             }
            },
            "type": "scatterternary"
           }
          ],
          "surface": [
           {
            "colorbar": {
             "outlinewidth": 0,
             "ticks": ""
            },
            "colorscale": [
             [
              0,
              "#0d0887"
             ],
             [
              0.1111111111111111,
              "#46039f"
             ],
             [
              0.2222222222222222,
              "#7201a8"
             ],
             [
              0.3333333333333333,
              "#9c179e"
             ],
             [
              0.4444444444444444,
              "#bd3786"
             ],
             [
              0.5555555555555556,
              "#d8576b"
             ],
             [
              0.6666666666666666,
              "#ed7953"
             ],
             [
              0.7777777777777778,
              "#fb9f3a"
             ],
             [
              0.8888888888888888,
              "#fdca26"
             ],
             [
              1,
              "#f0f921"
             ]
            ],
            "type": "surface"
           }
          ],
          "table": [
           {
            "cells": {
             "fill": {
              "color": "#EBF0F8"
             },
             "line": {
              "color": "white"
             }
            },
            "header": {
             "fill": {
              "color": "#C8D4E3"
             },
             "line": {
              "color": "white"
             }
            },
            "type": "table"
           }
          ]
         },
         "layout": {
          "annotationdefaults": {
           "arrowcolor": "#2a3f5f",
           "arrowhead": 0,
           "arrowwidth": 1
          },
          "autotypenumbers": "strict",
          "coloraxis": {
           "colorbar": {
            "outlinewidth": 0,
            "ticks": ""
           }
          },
          "colorscale": {
           "diverging": [
            [
             0,
             "#8e0152"
            ],
            [
             0.1,
             "#c51b7d"
            ],
            [
             0.2,
             "#de77ae"
            ],
            [
             0.3,
             "#f1b6da"
            ],
            [
             0.4,
             "#fde0ef"
            ],
            [
             0.5,
             "#f7f7f7"
            ],
            [
             0.6,
             "#e6f5d0"
            ],
            [
             0.7,
             "#b8e186"
            ],
            [
             0.8,
             "#7fbc41"
            ],
            [
             0.9,
             "#4d9221"
            ],
            [
             1,
             "#276419"
            ]
           ],
           "sequential": [
            [
             0,
             "#0d0887"
            ],
            [
             0.1111111111111111,
             "#46039f"
            ],
            [
             0.2222222222222222,
             "#7201a8"
            ],
            [
             0.3333333333333333,
             "#9c179e"
            ],
            [
             0.4444444444444444,
             "#bd3786"
            ],
            [
             0.5555555555555556,
             "#d8576b"
            ],
            [
             0.6666666666666666,
             "#ed7953"
            ],
            [
             0.7777777777777778,
             "#fb9f3a"
            ],
            [
             0.8888888888888888,
             "#fdca26"
            ],
            [
             1,
             "#f0f921"
            ]
           ],
           "sequentialminus": [
            [
             0,
             "#0d0887"
            ],
            [
             0.1111111111111111,
             "#46039f"
            ],
            [
             0.2222222222222222,
             "#7201a8"
            ],
            [
             0.3333333333333333,
             "#9c179e"
            ],
            [
             0.4444444444444444,
             "#bd3786"
            ],
            [
             0.5555555555555556,
             "#d8576b"
            ],
            [
             0.6666666666666666,
             "#ed7953"
            ],
            [
             0.7777777777777778,
             "#fb9f3a"
            ],
            [
             0.8888888888888888,
             "#fdca26"
            ],
            [
             1,
             "#f0f921"
            ]
           ]
          },
          "colorway": [
           "#636efa",
           "#EF553B",
           "#00cc96",
           "#ab63fa",
           "#FFA15A",
           "#19d3f3",
           "#FF6692",
           "#B6E880",
           "#FF97FF",
           "#FECB52"
          ],
          "font": {
           "color": "#2a3f5f"
          },
          "geo": {
           "bgcolor": "white",
           "lakecolor": "white",
           "landcolor": "#E5ECF6",
           "showlakes": true,
           "showland": true,
           "subunitcolor": "white"
          },
          "hoverlabel": {
           "align": "left"
          },
          "hovermode": "closest",
          "mapbox": {
           "style": "light"
          },
          "paper_bgcolor": "white",
          "plot_bgcolor": "#E5ECF6",
          "polar": {
           "angularaxis": {
            "gridcolor": "white",
            "linecolor": "white",
            "ticks": ""
           },
           "bgcolor": "#E5ECF6",
           "radialaxis": {
            "gridcolor": "white",
            "linecolor": "white",
            "ticks": ""
           }
          },
          "scene": {
           "xaxis": {
            "backgroundcolor": "#E5ECF6",
            "gridcolor": "white",
            "gridwidth": 2,
            "linecolor": "white",
            "showbackground": true,
            "ticks": "",
            "zerolinecolor": "white"
           },
           "yaxis": {
            "backgroundcolor": "#E5ECF6",
            "gridcolor": "white",
            "gridwidth": 2,
            "linecolor": "white",
            "showbackground": true,
            "ticks": "",
            "zerolinecolor": "white"
           },
           "zaxis": {
            "backgroundcolor": "#E5ECF6",
            "gridcolor": "white",
            "gridwidth": 2,
            "linecolor": "white",
            "showbackground": true,
            "ticks": "",
            "zerolinecolor": "white"
           }
          },
          "shapedefaults": {
           "line": {
            "color": "#2a3f5f"
           }
          },
          "ternary": {
           "aaxis": {
            "gridcolor": "white",
            "linecolor": "white",
            "ticks": ""
           },
           "baxis": {
            "gridcolor": "white",
            "linecolor": "white",
            "ticks": ""
           },
           "bgcolor": "#E5ECF6",
           "caxis": {
            "gridcolor": "white",
            "linecolor": "white",
            "ticks": ""
           }
          },
          "title": {
           "x": 0.05
          },
          "xaxis": {
           "automargin": true,
           "gridcolor": "white",
           "linecolor": "white",
           "ticks": "",
           "title": {
            "standoff": 15
           },
           "zerolinecolor": "white",
           "zerolinewidth": 2
          },
          "yaxis": {
           "automargin": true,
           "gridcolor": "white",
           "linecolor": "white",
           "ticks": "",
           "title": {
            "standoff": 15
           },
           "zerolinecolor": "white",
           "zerolinewidth": 2
          }
         }
        },
        "title": {
         "text": "Posterior density with 0.950 credible interval"
        },
        "xaxis": {
         "title": {
          "text": "Parameter value"
         }
        },
        "yaxis": {
         "title": {
          "text": "Density"
         }
        }
       }
      }
     },
     "metadata": {},
     "output_type": "display_data"
    }
   ],
   "source": [
    "num_samples = 100000\n",
    "lower_q, upper_q = [.025, .975]\n",
    "\n",
    "f = plot_ci(mu, son_posterior, num_samples, lower_q, upper_q, name=\"Son's Height Posterior Density\")\n",
    "f = plot_ci(mu, mom_posterior, num_samples, lower_q, upper_q, fig=f, name=\"Mother's Height Posterior Density\")\n",
    "f.show()"
   ]
  },
  {
   "cell_type": "markdown",
   "metadata": {},
   "source": [
    "Since the CIs don't even overlap, it can follow that the sons were significantly taller than their mothers.\n",
    "\n",
    "# End of assignment"
   ]
  }
 ],
 "metadata": {
  "kernelspec": {
   "display_name": "data-sci",
   "language": "python",
   "name": "python3"
  },
  "language_info": {
   "codemirror_mode": {
    "name": "ipython",
    "version": 3
   },
   "file_extension": ".py",
   "mimetype": "text/x-python",
   "name": "python",
   "nbconvert_exporter": "python",
   "pygments_lexer": "ipython3",
   "version": "3.13.2"
  }
 },
 "nbformat": 4,
 "nbformat_minor": 2
}
