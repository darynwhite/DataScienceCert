{
 "cells": [
  {
   "cell_type": "markdown",
   "metadata": {},
   "source": [
    "# Assignment\n",
    "\n",
    "How can we use Bayesian models to compare two distributions? It turns out that we can compare Bayesian models in several ways. In this assignment, we will compute and compare credible intervals of the posterior distribution of a model parameter.\n",
    "\n",
    "Before we begin, let's load the libraries and functions we need."
   ]
  },
  {
   "cell_type": "code",
   "execution_count": null,
   "metadata": {},
   "outputs": [],
   "source": [
    "import pandas as pd\n",
    "import numpy as np\n",
    "import scipy\n",
    "import plotly.express as px\n",
    "import plotly.graph_objects as go\n",
    "import plotly.colors as plco"
   ]
  },
  {
   "cell_type": "code",
   "execution_count": null,
   "metadata": {},
   "outputs": [],
   "source": [
    "def posterior(prior, like):\n",
    "    post = prior * like # compute the product of the probabilities\n",
    "    return post / post.sum() # normalize the distribution to sum to unity\n",
    "\n",
    "num_samples = 100000\n",
    "lower_q, upper_q = [.025, .975]\n",
    "\n",
    "def plot_ci(p, post, num_samples, lower_q, upper_q, fig=None, name='Posterior Density'):\n",
    "    ## This function computes a credible interval using an assumption\n",
    "    ## of symmetry in the bulk of the distribution to keep the \n",
    "    ## calculation simple. \n",
    "    ## Compute a large sample by resampling with replacement\n",
    "    samples = np.random.choice(p, size = num_samples, replace = True, p = post)\n",
    "    ci = np.percentile(samples, [lower_q*100, upper_q*100]) # compute the quantiles\n",
    "    \n",
    "    interval = upper_q - lower_q\n",
    "    colors = plco.qualitative.Plotly\n",
    "    \n",
    "    if fig:\n",
    "        color = [colors[2], colors[3]]\n",
    "    else:\n",
    "        color = [colors[0], colors[1]]\n",
    "    \n",
    "    if fig is None:\n",
    "        fig = go.Figure()\n",
    "    \n",
    "    # Add posterior density line\n",
    "    fig.add_trace(go.Scatter(x=p, y=post, mode='lines', line=dict(color=color[0]), name=name))\n",
    "\n",
    "    # Add credible interval lines\n",
    "    fig.add_trace(go.Scatter(x=[ci[0], ci[0]], y=[0, max(post)], mode='lines', line=dict(color=color[1]), name='Lower CI'))\n",
    "    fig.add_trace(go.Scatter(x=[ci[1], ci[1]], y=[0, max(post)], mode='lines', line=dict(color=color[1]), name='Upper CI'))\n",
    "\n",
    "    # Update layout\n",
    "    fig.update_layout(\n",
    "        title=f'Posterior density with {interval:.3f} credible interval',\n",
    "        xaxis_title='Parameter value',\n",
    "        yaxis_title='Density',\n",
    "        showlegend=True,\n",
    "        annotations=[\n",
    "            go.layout.Annotation(\n",
    "                x=0.5,\n",
    "                y=-0.2,\n",
    "                showarrow=False,\n",
    "                text=f'The {interval:.3f} credible interval is {ci[0]:.3f} to {ci[1]:.3f}',\n",
    "                xref='paper',\n",
    "                yref='paper'\n",
    "            )\n",
    "        ]\n",
    "    )\n",
    "\n",
    "    return fig\n"
   ]
  },
  {
   "cell_type": "code",
   "execution_count": null,
   "metadata": {},
   "outputs": [],
   "source": [
    "def plot_pp(x, p, l, pp):\n",
    "    fig = go.Figure()\n",
    "    fig.add_trace(go.Scatter(x=x, y=l, mode='lines', line=dict(color='lightgrey', width=10), name='likelihood'))\n",
    "    fig.add_trace(go.Scatter(x=x, y=p, mode='lines', line=dict(color='blue', width=2), name='prior'))\n",
    "    fig.add_trace(go.Scatter(x=x, y=pp, mode='lines', line=dict(color='red', width=2), name='posterior'))\n",
    "\n",
    "    # Update layout\n",
    "    fig.update_layout(\n",
    "        title='Prior, likelihood and posterior distributions',\n",
    "        xaxis_title='p',\n",
    "        yaxis_title='PDF of p',\n",
    "        legend_title='Distributions'\n",
    "    )\n",
    "\n",
    "    fig.show()"
   ]
  },
  {
   "cell_type": "markdown",
   "metadata": {},
   "source": [
    "For this example, we will compare the posterior distribution of the heights of sons to the heights of the mothers in the Galton family dataset. As a first step, we will compute and evaluate Bayesian models for the mean heights using a subset of just 25 observations. "
   ]
  },
  {
   "cell_type": "code",
   "execution_count": null,
   "metadata": {},
   "outputs": [],
   "source": [
    "families = pd.read_csv('../../data/GaltonFamilies.csv', index_col = 0)\n",
    "families.head()"
   ]
  },
  {
   "cell_type": "markdown",
   "metadata": {},
   "source": [
    "- Plot the distributions of the height of mothers and sons for a sample of size 25. Do the distributions appear to be significantly different? <span style=\"color:red\" float:right>[5 point]</span>"
   ]
  },
  {
   "cell_type": "code",
   "execution_count": null,
   "metadata": {},
   "outputs": [],
   "source": [
    "num_samples = 25\n",
    "\n",
    "male_children = families[families['gender'] == 'male']\n",
    "\n",
    "sample = male_children.sample(n=num_samples)\n",
    "\n",
    "fig = px.histogram(sample, x=['childHeight','mother'], nbins=30, title=\"Distribution of Heights for Mother's & Male Children\")\n",
    "fig.update_layout(\n",
    "    xaxis_title='Height',\n",
    "    yaxis_title='Frequency',\n",
    "    barmode='overlay',\n",
    "    width=800,\n",
    "    height=500\n",
    ")\n",
    "fig.update_traces(opacity=0.75,marker=dict(line_width=0.25, line_color=\"black\"))\n",
    "fig.show()"
   ]
  },
  {
   "cell_type": "code",
   "execution_count": null,
   "metadata": {},
   "outputs": [],
   "source": [
    "# Create a histogram using Plotly\n",
    "fig = px.histogram(male_children, x='childHeight', nbins=30, title=\"Distribution of Heights for Male Children Population\")\n",
    "fig.update_layout(\n",
    "    xaxis_title='Height',\n",
    "    yaxis_title='Frequency',\n",
    "    width=800,\n",
    "    height=500\n",
    ")\n",
    "fig.update_traces(opacity=0.75, marker=dict(line_width=0.25, line_color=\"black\"))\n",
    "fig.show()"
   ]
  },
  {
   "cell_type": "markdown",
   "metadata": {},
   "source": [
    "To perform this analysis, we need to select a prior distribution, which is easy, and to compute the likelihood, which is not as easy. So first, let's see how we can get the likelihood.\n",
    "\n",
    "For this data, we will use a normal likelihood. For something like heights, using the normal distribution makes sense. For any individual sample $X$ if it follows the normal distribution with mean $\\mu$ and standard deviation $\\sigma$, then it probability density function is given by\n",
    "\n",
    "$$X \\sim N(\\mu, \\sigma) \\Rightarrow P(X | \\mu, \\sigma) = \\frac{1}{\\sqrt{2 \\pi \\sigma^2}} \\exp \\Bigg[ -\\frac{1}{2}\\big(\\frac{X - \\mu}{\\sigma}\\big)^2\\Bigg]$$\n",
    "\n",
    "For a sample ${X_1, X_2, \\cdots, X_n}$ of $n$ independent normally distributed observations has the following likelihood:\n",
    "\n",
    "$$P(X_1, X_2, \\cdots, X_n | \\mu, \\sigma) = \\prod_{i = 1}^n P(X_i | \\mu, \\sigma) = \\prod_{i=1}^n \\frac{1}{\\sqrt{2 \\pi \\sigma^2}} \\exp \\Bigg[ -\\frac{1}{2}\\big(\\frac{X_i - \\mu}{\\sigma}\\big)^2\\Bigg]$$\n",
    "\n",
    "Notice that we multiply the individual the probabilities to get the likelihood. We can do this because we assume that the data points are independent. This seems like a relatively safe assumption. \n",
    "\n",
    "Now let's simplify the above equation. We can simplify things by ignoring the terms outside the exponential, since they don't depend on the sample, and replacing $=$ (is equal to) with $\\propto$ (is proportional to):\n",
    "\n",
    "$$P(X_1, X_2, \\cdots, X_n | \\mu, \\sigma) \\propto \\prod_{i = 1}^n \\exp \\Bigg[ -\\frac{1}{2}\\big(\\frac{X_i - \\mu}{\\sigma}\\big)^2\\Bigg]$$\n",
    "\n",
    "Moreover, we can rely on the property $e^a e^b = e^{a + b}$ to rewrite the right-hand side as\n",
    "\n",
    "$$P(X_1, X_2, \\cdots, X_n | \\mu, \\sigma) \\propto \\exp \\Bigg[ -\\frac{1}{2} \\sum_{i = 1}^n \\big(\\frac{X_i - \\mu}{\\sigma}\\big)^2\\Bigg]$$\n",
    "\n",
    "Finally, letting $\\bar X = \\frac{1}{n}\\sum_{i=1}^n X_i$ we can rewrite $X_i - \\mu$ as $X_i - \\bar X + \\bar X - \\mu$ and after some rearranging we get this:\n",
    "\n",
    "$$P(X_1, X_2, \\cdots, X_n | \\mu, \\sigma) \\propto \\exp \\Bigg[ -\\frac{1}{2 \\sigma^2}  \\Bigg( \\sum_{i = 1}^n (X_i - \\bar{X})^2 + n(\\bar{X} - \\mu)^2 \\Bigg) \\Bigg]$$\n",
    "\n",
    "To simplify the computations here, we will only estimate the posterior distribution of $\\mu$. We will use a fixed empirical estimate of the standard deviation. A more complete analysis will also estimate the posterior distribution of $\\sigma$."
   ]
  },
  {
   "cell_type": "markdown",
   "metadata": {},
   "source": [
    "- Now your task is to write a function called `likelihood` that computes the likelihood as given by the above equation. The input of the function is `mu` (the parameter) and `x` (the data) and its output is the likelihood of the data given the parameter. You may find it helpful to use `np.exp` and `np.sum`. <span style=\"color:red\" float:right>[10 point]</span>"
   ]
  },
  {
   "cell_type": "code",
   "execution_count": null,
   "metadata": {},
   "outputs": [],
   "source": [
    "def likelihood(data, mu):\n",
    "    n = len(data)\n",
    "    X_bar = np.mean(data)\n",
    "    sigma = np.std(data)\n",
    "    ext_const = -0.5 / sigma ** 2\n",
    "    # print(ext_const)\n",
    "    sum_squared_deviations = np.sum((data - X_bar) ** 2)\n",
    "    # print(sum_squared_deviations)\n",
    "    int_const = n * (X_bar - mu) ** 2\n",
    "    # print(int_const)\n",
    "    inter = ext_const * (sum_squared_deviations + int_const)\n",
    "    # print(inter)\n",
    "    exponent = np.exp(inter)\n",
    "    # print(exponent)\n",
    "    exponent = exponent / np.sum(exponent)\n",
    "    \n",
    "    return exponent\n",
    "\n",
    "def _normalize(data):\n",
    "    return data / data.sum()"
   ]
  },
  {
   "cell_type": "markdown",
   "metadata": {},
   "source": [
    "Now for the prior distribution, we will use a normal distribution centered at 70 with standard deviation 1. The code for the prior is already written. Examine it and make sure you understand each step."
   ]
  },
  {
   "cell_type": "code",
   "execution_count": null,
   "metadata": {},
   "outputs": [],
   "source": [
    "N=1000\n",
    "mu = np.linspace(60, 80, num = N)\n",
    "prior_center = 70\n",
    "prior = scipy.stats.norm.pdf(mu, loc = prior_center, scale = 1)\n",
    "prior = prior / prior.sum() # normalize"
   ]
  },
  {
   "cell_type": "markdown",
   "metadata": {},
   "source": [
    "Now we're ready to compute the posterior for both mother and son.\n",
    "\n",
    "- Compute the posterior distribution for the sons (the column name is `childHeight`). You will need to compute the likelihood first. Then plot the prior, posterior and likelihood just like we did in class. <span style=\"color:red\" float:right>[10 point]</span>"
   ]
  },
  {
   "cell_type": "code",
   "execution_count": null,
   "metadata": {},
   "outputs": [],
   "source": [
    "# Compute the likelihood\n",
    "son_likelihood = likelihood(sample['childHeight'], mu)\n",
    "\n",
    "# Compute the posterior\n",
    "son_posterior = posterior(prior, son_likelihood)\n",
    "\n",
    "# Plot the prior, likelihood, and posterior\n",
    "plot_pp(mu, prior, son_likelihood, son_posterior)"
   ]
  },
  {
   "cell_type": "markdown",
   "metadata": {},
   "source": [
    "- Compute the posterior distribution for mothers (the column name is `mother`). You will need to compute the likelihood first. Sons and mothers both use the same proir. Then plot the prior, posterior and likelihood just like we did in class. <span style=\"color:red\" float:right>[5 point]</span>"
   ]
  },
  {
   "cell_type": "code",
   "execution_count": null,
   "metadata": {},
   "outputs": [],
   "source": [
    "# Compute the likelihood\n",
    "mom_likelihood = likelihood(sample['mother'], mu)\n",
    "\n",
    "# Compute the posterior\n",
    "mom_posterior = posterior(prior, mom_likelihood)\n",
    "\n",
    "# Plot the prior, likelihood, and posterior\n",
    "plot_pp(mu, prior, mom_likelihood, mom_posterior)"
   ]
  },
  {
   "cell_type": "markdown",
   "metadata": {},
   "source": [
    "To compare the posterior distributions of the mean heights of the sons to the distribution of the mean heights of the mothers, we compute and compare the confidence intervals. \n",
    "\n",
    "- Use the `plot_ci` function to plot credible intervals for mother and son heights. You can call the function twice in the same cell and the two distributions will be plotted next to each other in one plot. What conclusion do you draw about the heights of mothers versus sons? <span style=\"color:red\" float:right>[10 point]</span>"
   ]
  },
  {
   "cell_type": "code",
   "execution_count": null,
   "metadata": {},
   "outputs": [],
   "source": [
    "num_samples = 100000\n",
    "lower_q, upper_q = [.025, .975]\n",
    "\n",
    "fig = plot_ci(mu, son_posterior, num_samples, lower_q, upper_q, name=\"Son's Height Posterior Density\")\n",
    "plot_ci(mu, mom_posterior, num_samples, lower_q, upper_q, fig=fig, name=\"Mother's Height Posterior Density\")"
   ]
  },
  {
   "cell_type": "markdown",
   "metadata": {},
   "source": [
    "Since the CIs don't even overlap, it can follow that the sons were significantly taller than their mothers.\n",
    "\n",
    "# End of assignment"
   ]
  }
 ],
 "metadata": {
  "kernelspec": {
   "display_name": "data-sci",
   "language": "python",
   "name": "python3"
  },
  "language_info": {
   "codemirror_mode": {
    "name": "ipython",
    "version": 3
   },
   "file_extension": ".py",
   "mimetype": "text/x-python",
   "name": "python",
   "nbconvert_exporter": "python",
   "pygments_lexer": "ipython3",
   "version": "3.13.2"
  }
 },
 "nbformat": 4,
 "nbformat_minor": 2
}
